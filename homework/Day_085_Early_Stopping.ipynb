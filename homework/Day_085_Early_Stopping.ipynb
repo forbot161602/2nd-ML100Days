{
  "cells": [
    {
      "cell_type": "markdown",
      "metadata": {},
      "source": [
        "## \u7bc4\u4f8b\u91cd\u9ede\n",
        "\n",
        "* \u77e5\u9053\u5982\u4f55\u8a2d\u5b9a\u76e3\u63a7\u76ee\u6a19\n",
        "* \u5b78\u7fd2\u5982\u4f55\u5728 keras \u4e2d\u52a0\u5165 Early Stopping\n",
        "* \u6bd4\u8f03\u6709\u7121 Early Stopping \u5c0d\u9a57\u8b49\u96c6\u7684\u5f71\u97ff"
      ]
    },
    {
      "cell_type": "code",
      "execution_count": 1,
      "metadata": {},
      "outputs": [
        {
          "name": "stderr",
          "output_type": "stream",
          "text": [
            "Using TensorFlow backend.\n"
          ]
        }
      ],
      "source": [
        "import tensorflow as tf\n",
        "import matplotlib.pyplot as plt\n",
        "from keras import backend\n",
        "from keras.utils import np_utils\n",
        "from keras.datasets import cifar10\n",
        "from keras.models import Model\n",
        "from keras.layers import Input, Dense, BatchNormalization\n",
        "from keras.optimizers import SGD\n",
        "from keras.callbacks import EarlyStopping\n",
        "tf.logging.set_verbosity(tf.logging.ERROR)"
      ]
    },
    {
      "cell_type": "markdown",
      "metadata": {},
      "source": [
        "## \u6e96\u5099\u8cc7\u6599"
      ]
    },
    {
      "cell_type": "code",
      "execution_count": 2,
      "metadata": {},
      "outputs": [],
      "source": [
        "(X_train, y_train), (X_test, y_test) = cifar10.load_data()"
      ]
    },
    {
      "cell_type": "code",
      "execution_count": 3,
      "metadata": {},
      "outputs": [],
      "source": [
        "def normalize_cifar10_data(x, y):\n",
        "    x = x.reshape((len(x), -1)) / 255.\n",
        "    y = np_utils.to_categorical(y, num_classes=10)\n",
        "    return x, y\n",
        "\n",
        "def normalize_result(x, y):\n",
        "    print('x.shape:', x.shape)\n",
        "    print('y.shape:', y.shape)"
      ]
    },
    {
      "cell_type": "code",
      "execution_count": 4,
      "metadata": {},
      "outputs": [
        {
          "name": "stdout",
          "output_type": "stream",
          "text": [
            "Before normalization:\n",
            "x.shape: (50000, 32, 32, 3)\n",
            "y.shape: (50000, 1)\n"
          ]
        }
      ],
      "source": [
        "print('Before normalization:')\n",
        "normalize_result(X_train, y_train)"
      ]
    },
    {
      "cell_type": "code",
      "execution_count": 5,
      "metadata": {},
      "outputs": [
        {
          "name": "stdout",
          "output_type": "stream",
          "text": [
            "After normalization:\n",
            "x.shape: (50000, 3072)\n",
            "y.shape: (50000, 10)\n"
          ]
        }
      ],
      "source": [
        "print('After normalization:')\n",
        "X_train, y_train = normalize_cifar10_data(X_train, y_train)\n",
        "X_test, y_test = normalize_cifar10_data(X_test, y_test)\n",
        "normalize_result(X_train, y_train)"
      ]
    },
    {
      "cell_type": "markdown",
      "metadata": {},
      "source": [
        "## \u5b9a\u7fa9\u51fd\u6578"
      ]
    },
    {
      "cell_type": "code",
      "execution_count": 6,
      "metadata": {},
      "outputs": [],
      "source": [
        "default_early_stopping_param = {'monitor': 'val_loss', 'patience': 5, 'verbose': 1}\n",
        "\n",
        "def train_model(X_train, y_train, X_test, y_test, early_stopping_param, neuron_numbers=(512, 256, 128,),\n",
        "                epochs=50, batch_size=256, momentum=0.95, learning_rate=1e-3):\n",
        "    print('Experiment with early stopping param: {}'.format(early_stopping_param))\n",
        "    backend.clear_session() # \u6e05\u6389\u820a\u7684 Graph\n",
        "    model = build_model(X_train, X_train.shape[-1:], 10, neuron_numbers)\n",
        "    model.summary()\n",
        "    model.compile(optimizer=SGD(lr=learning_rate, momentum=momentum, nesterov=True),\n",
        "                  loss='categorical_crossentropy', metrics=['accuracy'])\n",
        "    return model.fit(X_train, y_train, epochs=epochs, batch_size=batch_size, validation_data=(X_test, y_test,),\n",
        "                     callbacks=[EarlyStopping(**early_stopping_param)], shuffle=True, verbose=2)\n",
        "\n",
        "def build_model(x, input_shape, output_units, neuron_numbers):\n",
        "    main_input = hidden_input = Input(shape=input_shape, name='main_input')\n",
        "    for i, neuron_number in enumerate(neuron_numbers):\n",
        "        hidden_input = Dense(units=neuron_number, activation='relu', name=f'hidden_layer{i}')(hidden_input)\n",
        "        hidden_input = BatchNormalization()(hidden_input)\n",
        "    main_output = Dense(units=output_units, activation='softmax', name='main_output')(hidden_input)\n",
        "    return Model(inputs=[main_input], outputs=[main_output])\n",
        "\n",
        "def show_train_history(train_history, train_name, val_name):\n",
        "    plt.figure(figsize=(8, 6,))\n",
        "    plt.plot(train_history.history[train_name])\n",
        "    plt.plot(train_history.history[val_name])\n",
        "    plt.xlabel('Epoch')\n",
        "    plt.ylabel(train_name)\n",
        "    plt.title('Train History')\n",
        "    plt.legend(['train', 'validation'], loc='upper left')\n",
        "    plt.show()"
      ]
    },
    {
      "cell_type": "markdown",
      "metadata": {},
      "source": [
        "## \u8a13\u7df4\u6a21\u578b"
      ]
    },
    {
      "cell_type": "code",
      "execution_count": 7,
      "metadata": {},
      "outputs": [],
      "source": [
        "## \u8a2d\u5b9a\u8d85\u53c3\u6578\n",
        "early_stopping_param = {**default_early_stopping_param}"
      ]
    },
    {
      "cell_type": "code",
      "execution_count": 8,
      "metadata": {},
      "outputs": [
        {
          "name": "stdout",
          "output_type": "stream",
          "text": [
            "Experiment with early stopping param: {'monitor': 'val_loss', 'patience': 5, 'verbose': 1}\n",
            "_________________________________________________________________\n",
            "Layer (type)                 Output Shape              Param #   \n",
            "=================================================================\n",
            "main_input (InputLayer)      (None, 3072)              0         \n",
            "_________________________________________________________________\n",
            "hidden_layer0 (Dense)        (None, 512)               1573376   \n",
            "_________________________________________________________________\n",
            "batch_normalization_1 (Batch (None, 512)               2048      \n",
            "_________________________________________________________________\n",
            "hidden_layer1 (Dense)        (None, 256)               131328    \n",
            "_________________________________________________________________\n",
            "batch_normalization_2 (Batch (None, 256)               1024      \n",
            "_________________________________________________________________\n",
            "hidden_layer2 (Dense)        (None, 128)               32896     \n",
            "_________________________________________________________________\n",
            "batch_normalization_3 (Batch (None, 128)               512       \n",
            "_________________________________________________________________\n",
            "main_output (Dense)          (None, 10)                1290      \n",
            "=================================================================\n",
            "Total params: 1,742,474\n",
            "Trainable params: 1,740,682\n",
            "Non-trainable params: 1,792\n",
            "_________________________________________________________________\n",
            "Train on 50000 samples, validate on 10000 samples\n",
            "Epoch 1/50\n",
            " - 13s - loss: 1.8537 - acc: 0.3608 - val_loss: 1.7520 - val_acc: 0.3939\n",
            "Epoch 2/50\n",
            " - 13s - loss: 1.5463 - acc: 0.4553 - val_loss: 1.6162 - val_acc: 0.4351\n",
            "Epoch 3/50\n",
            " - 13s - loss: 1.4483 - acc: 0.4902 - val_loss: 1.5600 - val_acc: 0.4465\n",
            "Epoch 4/50\n",
            " - 12s - loss: 1.3786 - acc: 0.5180 - val_loss: 1.5205 - val_acc: 0.4586\n",
            "Epoch 5/50\n",
            " - 12s - loss: 1.3172 - acc: 0.5392 - val_loss: 1.5174 - val_acc: 0.4647\n",
            "Epoch 6/50\n",
            " - 13s - loss: 1.2666 - acc: 0.5573 - val_loss: 1.4775 - val_acc: 0.4788\n",
            "Epoch 7/50\n",
            " - 12s - loss: 1.2166 - acc: 0.5764 - val_loss: 1.4491 - val_acc: 0.4970\n",
            "Epoch 8/50\n",
            " - 12s - loss: 1.1712 - acc: 0.5923 - val_loss: 1.4978 - val_acc: 0.4814\n",
            "Epoch 9/50\n",
            " - 12s - loss: 1.1290 - acc: 0.6079 - val_loss: 1.5386 - val_acc: 0.4697\n",
            "Epoch 10/50\n",
            " - 11s - loss: 1.0918 - acc: 0.6193 - val_loss: 1.4544 - val_acc: 0.4905\n",
            "Epoch 11/50\n",
            " - 12s - loss: 1.0515 - acc: 0.6354 - val_loss: 1.5364 - val_acc: 0.4724\n",
            "Epoch 12/50\n",
            " - 13s - loss: 1.0175 - acc: 0.6465 - val_loss: 1.5902 - val_acc: 0.4588\n",
            "Epoch 00012: early stopping\n"
          ]
        }
      ],
      "source": [
        "train_history = train_model(X_train, y_train, X_test, y_test, early_stopping_param)"
      ]
    },
    {
      "cell_type": "code",
      "execution_count": 9,
      "metadata": {},
      "outputs": [
        {
          "data": {
            "image/png": "[encoded data removed]",
            "text/plain": [
              "<Figure size 576x432 with 1 Axes>"
            ]
          },
          "metadata": {
            "needs_background": "light"
          },
          "output_type": "display_data"
        }
      ],
      "source": [
        "show_train_history(train_history, 'acc', 'val_acc')"
      ]
    },
    {
      "cell_type": "code",
      "execution_count": 10,
      "metadata": {},
      "outputs": [
        {
          "data": {
            "image/png": "[encoded data removed]",
            "text/plain": [
              "<Figure size 576x432 with 1 Axes>"
            ]
          },
          "metadata": {
            "needs_background": "light"
          },
          "output_type": "display_data"
        }
      ],
      "source": [
        "show_train_history(train_history, 'loss', 'val_loss')"
      ]
    },
    {
      "cell_type": "markdown",
      "metadata": {},
      "source": [
        "## \u4f5c\u696d\n",
        "\n",
        "1. \u8a66\u6539\u8b8a\u76e3\u63a7 Validation Accuracy \u4e26\u6bd4\u8f03\u7d50\u679c\n",
        "2. \u8abf\u6574 Early Stopping \u7684\u7b49\u5f85\u6b21\u6578\u81f3 10 \u548c 25 \u4e26\u6bd4\u8f03\u7d50\u679c"
      ]
    },
    {
      "cell_type": "code",
      "execution_count": null,
      "metadata": {},
      "outputs": [],
      "source": []
    }
  ],
  "metadata": {
    "kernelspec": {
      "display_name": "Python 3",
      "language": "python",
      "name": "python3"
    },
    "language_info": {
      "codemirror_mode": {
        "name": "ipython",
        "version": 3
      },
      "file_extension": ".py",
      "mimetype": "text/x-python",
      "name": "python",
      "nbconvert_exporter": "python",
      "pygments_lexer": "ipython3",
      "version": "3.7.3"
    }
  },
  "nbformat": 4,
  "nbformat_minor": 2
}