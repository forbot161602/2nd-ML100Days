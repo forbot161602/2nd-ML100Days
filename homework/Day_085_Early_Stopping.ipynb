{
  "cells": [
    {
      "cell_type": "markdown",
      "metadata": {},
      "source": [
        "## \u7bc4\u4f8b\u91cd\u9ede\n",
        "\n",
        "* \u77e5\u9053\u5982\u4f55\u8a2d\u5b9a\u76e3\u63a7\u76ee\u6a19\n",
        "* \u5b78\u7fd2\u5982\u4f55\u5728 Keras \u4e2d\u52a0\u5165 Early Stopping\n",
        "* \u6bd4\u8f03\u6709\u7121 Early Stopping \u5c0d\u9a57\u8b49\u96c6\u7684\u5f71\u97ff"
      ]
    },
    {
      "cell_type": "code",
      "execution_count": 1,
      "metadata": {},
      "outputs": [
        {
          "name": "stderr",
          "output_type": "stream",
          "text": [
            "Using TensorFlow backend.\n"
          ]
        }
      ],
      "source": [
        "import tensorflow as tf\n",
        "import matplotlib.pyplot as plt\n",
        "from keras import backend\n",
        "from keras.utils import np_utils\n",
        "from keras.datasets import cifar10\n",
        "from keras.models import Model\n",
        "from keras.layers import Input, Dense, BatchNormalization\n",
        "from keras.optimizers import SGD\n",
        "from keras.callbacks import EarlyStopping\n",
        "tf.logging.set_verbosity(tf.logging.ERROR)"
      ]
    },
    {
      "cell_type": "markdown",
      "metadata": {},
      "source": [
        "## \u6e96\u5099\u8cc7\u6599"
      ]
    },
    {
      "cell_type": "code",
      "execution_count": 2,
      "metadata": {},
      "outputs": [],
      "source": [
        "(X_train, y_train), (X_test, y_test) = cifar10.load_data()"
      ]
    },
    {
      "cell_type": "code",
      "execution_count": 3,
      "metadata": {},
      "outputs": [],
      "source": [
        "def normalize_cifar10_data(x, y):\n",
        "    x = x.reshape((len(x), -1)) / 255.\n",
        "    y = np_utils.to_categorical(y, num_classes=10)\n",
        "    return x, y\n",
        "\n",
        "def normalize_result(x, y):\n",
        "    print('x.shape:', x.shape)\n",
        "    print('y.shape:', y.shape)"
      ]
    },
    {
      "cell_type": "code",
      "execution_count": 4,
      "metadata": {},
      "outputs": [
        {
          "name": "stdout",
          "output_type": "stream",
          "text": [
            "Before normalization:\n",
            "x.shape: (50000, 32, 32, 3)\n",
            "y.shape: (50000, 1)\n"
          ]
        }
      ],
      "source": [
        "print('Before normalization:')\n",
        "normalize_result(X_train, y_train)"
      ]
    },
    {
      "cell_type": "code",
      "execution_count": 5,
      "metadata": {},
      "outputs": [
        {
          "name": "stdout",
          "output_type": "stream",
          "text": [
            "After normalization:\n",
            "x.shape: (50000, 3072)\n",
            "y.shape: (50000, 10)\n"
          ]
        }
      ],
      "source": [
        "print('After normalization:')\n",
        "X_train, y_train = normalize_cifar10_data(X_train, y_train)\n",
        "X_test, y_test = normalize_cifar10_data(X_test, y_test)\n",
        "normalize_result(X_train, y_train)"
      ]
    },
    {
      "cell_type": "markdown",
      "metadata": {},
      "source": [
        "## \u5b9a\u7fa9\u51fd\u6578"
      ]
    },
    {
      "cell_type": "code",
      "execution_count": 6,
      "metadata": {},
      "outputs": [],
      "source": [
        "default_early_stopping_param = {'monitor': 'val_loss', 'patience': 5, 'verbose': 1}\n",
        "\n",
        "class Trainer:\n",
        "\n",
        "    def __init__(self, X_train, y_train, X_test, y_test, early_stopping_param, neuron_numbers=(512, 256, 128,),\n",
        "                 epochs=50, batch_size=1024, momentum=0.95, learning_rate=1e-3):\n",
        "        self.X_test = X_test\n",
        "        self.y_test = y_test\n",
        "        self.X_train = X_train\n",
        "        self.y_train = y_train\n",
        "        self.epochs = epochs\n",
        "        self.batch_size = batch_size\n",
        "        self.momentum = momentum\n",
        "        self.learning_rate = learning_rate\n",
        "        self.neuron_numbers = neuron_numbers\n",
        "        self.early_stopping_param = early_stopping_param\n",
        "        self._model = None\n",
        "        self._score = None\n",
        "        self._history = None\n",
        "\n",
        "    @property\n",
        "    def optimizer(self):\n",
        "        return SGD(lr=self.learning_rate, momentum=self.momentum, nesterov=True)\n",
        "\n",
        "    @property\n",
        "    def callbacks(self):\n",
        "        return [EarlyStopping(**self.early_stopping_param)]\n",
        "\n",
        "    @property\n",
        "    def validation_data(self):\n",
        "        return (self.X_test, self.y_test,)\n",
        "\n",
        "    def run(self):\n",
        "        return self._clear()._build()._launch()\n",
        "\n",
        "    def _clear(self):\n",
        "        backend.clear_session()\n",
        "        self._model = None\n",
        "        return self\n",
        "\n",
        "    def _build(self):\n",
        "        main_input = hidden_input = Input(shape=self.X_train.shape[-1:], name='main_input')\n",
        "        for i, neuron_number in enumerate(self.neuron_numbers):\n",
        "            hidden_input = Dense(units=neuron_number, activation='relu', name=f'hidden_layer{i}')(hidden_input)\n",
        "            hidden_input = BatchNormalization()(hidden_input)\n",
        "        main_output = Dense(units=self.y_train.shape[-1], activation='softmax', name='main_output')(hidden_input)\n",
        "        self._model = Model(inputs=[main_input], outputs=[main_output])\n",
        "        self._model.compile(optimizer=self.optimizer, loss='categorical_crossentropy', metrics=['accuracy'])\n",
        "        return self\n",
        "\n",
        "    def _launch(self):\n",
        "        print('Experiment with early stopping param: {}'.format(self.early_stopping_param))\n",
        "        self._model.summary()\n",
        "        self._history = self._model.fit(\n",
        "            self.X_train, self.y_train, epochs=self.epochs, batch_size=self.batch_size,\n",
        "            validation_data=self.validation_data, callbacks=self.callbacks, shuffle=True, verbose=2)\n",
        "        return self\n",
        "\n",
        "    def evaluate(self):\n",
        "        self._score = dict(zip(('val_loss', 'val_acc',), self._model.evaluate(self.X_test, self.y_test)))\n",
        "        return self\n",
        "\n",
        "    def display(self, train_name, val_name):\n",
        "        plt.figure(figsize=(8, 6,))\n",
        "        plt.plot(self._history.history[train_name])\n",
        "        plt.plot(self._history.history[val_name])\n",
        "        plt.xlabel('Epoch')\n",
        "        plt.ylabel(train_name)\n",
        "        plt.title('Train History')\n",
        "        plt.legend(['train', 'validation'], loc='upper left')\n",
        "        plt.show()"
      ]
    },
    {
      "cell_type": "markdown",
      "metadata": {},
      "source": [
        "## \u8a13\u7df4\u6a21\u578b"
      ]
    },
    {
      "cell_type": "code",
      "execution_count": 7,
      "metadata": {},
      "outputs": [],
      "source": [
        "# \u8a2d\u5b9a\u8d85\u53c3\u6578\n",
        "early_stopping_param = {**default_early_stopping_param}"
      ]
    },
    {
      "cell_type": "code",
      "execution_count": 8,
      "metadata": {},
      "outputs": [
        {
          "name": "stdout",
          "output_type": "stream",
          "text": [
            "Experiment with early stopping param: {'monitor': 'val_loss', 'patience': 5, 'verbose': 1}\n",
            "_________________________________________________________________\n",
            "Layer (type)                 Output Shape              Param #   \n",
            "=================================================================\n",
            "main_input (InputLayer)      (None, 3072)              0         \n",
            "_________________________________________________________________\n",
            "hidden_layer0 (Dense)        (None, 512)               1573376   \n",
            "_________________________________________________________________\n",
            "batch_normalization_1 (Batch (None, 512)               2048      \n",
            "_________________________________________________________________\n",
            "hidden_layer1 (Dense)        (None, 256)               131328    \n",
            "_________________________________________________________________\n",
            "batch_normalization_2 (Batch (None, 256)               1024      \n",
            "_________________________________________________________________\n",
            "hidden_layer2 (Dense)        (None, 128)               32896     \n",
            "_________________________________________________________________\n",
            "batch_normalization_3 (Batch (None, 128)               512       \n",
            "_________________________________________________________________\n",
            "main_output (Dense)          (None, 10)                1290      \n",
            "=================================================================\n",
            "Total params: 1,742,474\n",
            "Trainable params: 1,740,682\n",
            "Non-trainable params: 1,792\n",
            "_________________________________________________________________\n",
            "Train on 50000 samples, validate on 10000 samples\n",
            "Epoch 1/50\n",
            " - 10s - loss: 2.2113 - acc: 0.2747 - val_loss: 2.2017 - val_acc: 0.3140\n",
            "Epoch 2/50\n",
            " - 9s - loss: 1.7427 - acc: 0.3958 - val_loss: 1.8091 - val_acc: 0.3841\n",
            "Epoch 3/50\n",
            " - 10s - loss: 1.6222 - acc: 0.4343 - val_loss: 1.6867 - val_acc: 0.4152\n",
            "Epoch 4/50\n",
            " - 9s - loss: 1.5490 - acc: 0.4588 - val_loss: 1.6291 - val_acc: 0.4360\n",
            "Epoch 5/50\n",
            " - 9s - loss: 1.4947 - acc: 0.4782 - val_loss: 1.5925 - val_acc: 0.4444\n",
            "Epoch 6/50\n",
            " - 9s - loss: 1.4477 - acc: 0.4943 - val_loss: 1.5550 - val_acc: 0.4576\n",
            "Epoch 7/50\n",
            " - 9s - loss: 1.4066 - acc: 0.5097 - val_loss: 1.5456 - val_acc: 0.4604\n",
            "Epoch 8/50\n",
            " - 9s - loss: 1.3719 - acc: 0.5213 - val_loss: 1.5353 - val_acc: 0.4639\n",
            "Epoch 9/50\n",
            " - 9s - loss: 1.3406 - acc: 0.5316 - val_loss: 1.5167 - val_acc: 0.4672\n",
            "Epoch 10/50\n",
            " - 9s - loss: 1.3065 - acc: 0.5442 - val_loss: 1.4969 - val_acc: 0.4706\n",
            "Epoch 11/50\n",
            " - 9s - loss: 1.2799 - acc: 0.5546 - val_loss: 1.4937 - val_acc: 0.4737\n",
            "Epoch 12/50\n",
            " - 9s - loss: 1.2515 - acc: 0.5663 - val_loss: 1.4773 - val_acc: 0.4809\n",
            "Epoch 13/50\n",
            " - 9s - loss: 1.2243 - acc: 0.5755 - val_loss: 1.4856 - val_acc: 0.4792\n",
            "Epoch 14/50\n",
            " - 9s - loss: 1.2018 - acc: 0.5846 - val_loss: 1.4764 - val_acc: 0.4777\n",
            "Epoch 15/50\n",
            " - 9s - loss: 1.1781 - acc: 0.5948 - val_loss: 1.4731 - val_acc: 0.4816\n",
            "Epoch 16/50\n",
            " - 9s - loss: 1.1540 - acc: 0.6044 - val_loss: 1.4733 - val_acc: 0.4855\n",
            "Epoch 17/50\n",
            " - 9s - loss: 1.1322 - acc: 0.6102 - val_loss: 1.4719 - val_acc: 0.4840\n",
            "Epoch 18/50\n",
            " - 9s - loss: 1.1089 - acc: 0.6193 - val_loss: 1.4576 - val_acc: 0.4903\n",
            "Epoch 19/50\n",
            " - 9s - loss: 1.0874 - acc: 0.6288 - val_loss: 1.4637 - val_acc: 0.4886\n",
            "Epoch 20/50\n",
            " - 9s - loss: 1.0655 - acc: 0.6373 - val_loss: 1.4627 - val_acc: 0.4911\n",
            "Epoch 21/50\n",
            " - 9s - loss: 1.0428 - acc: 0.6439 - val_loss: 1.4516 - val_acc: 0.4942\n",
            "Epoch 22/50\n",
            " - 9s - loss: 1.0235 - acc: 0.6521 - val_loss: 1.4661 - val_acc: 0.4915\n",
            "Epoch 23/50\n",
            " - 9s - loss: 1.0041 - acc: 0.6599 - val_loss: 1.4608 - val_acc: 0.4969\n",
            "Epoch 24/50\n",
            " - 9s - loss: 0.9847 - acc: 0.6666 - val_loss: 1.4755 - val_acc: 0.4882\n",
            "Epoch 25/50\n",
            " - 9s - loss: 0.9623 - acc: 0.6768 - val_loss: 1.4680 - val_acc: 0.4975\n",
            "Epoch 26/50\n",
            " - 9s - loss: 0.9436 - acc: 0.6838 - val_loss: 1.4618 - val_acc: 0.4949\n",
            "Epoch 00026: early stopping\n"
          ]
        }
      ],
      "source": [
        "trainer = Trainer(X_train, y_train, X_test, y_test, early_stopping_param).run()"
      ]
    },
    {
      "cell_type": "code",
      "execution_count": 9,
      "metadata": {},
      "outputs": [
        {
          "data": {
            "image/png": "[encoded data removed]",
            "text/plain": [
              "<Figure size 576x432 with 1 Axes>"
            ]
          },
          "metadata": {
            "needs_background": "light"
          },
          "output_type": "display_data"
        }
      ],
      "source": [
        "trainer.display('acc', 'val_acc')"
      ]
    },
    {
      "cell_type": "code",
      "execution_count": 10,
      "metadata": {},
      "outputs": [
        {
          "data": {
            "image/png": "[encoded data removed]",
            "text/plain": [
              "<Figure size 576x432 with 1 Axes>"
            ]
          },
          "metadata": {
            "needs_background": "light"
          },
          "output_type": "display_data"
        }
      ],
      "source": [
        "trainer.display('loss', 'val_loss')"
      ]
    },
    {
      "cell_type": "markdown",
      "metadata": {},
      "source": [
        "## \u4f5c\u696d\n",
        "\n",
        "1. \u8a66\u6539\u8b8a\u76e3\u63a7 Validation Accuracy \u4e26\u6bd4\u8f03\u7d50\u679c\n",
        "2. \u8abf\u6574 Early Stopping \u7684\u7b49\u5f85\u6b21\u6578\u81f3 10 \u548c 25 \u4e26\u6bd4\u8f03\u7d50\u679c"
      ]
    },
    {
      "cell_type": "code",
      "execution_count": null,
      "metadata": {},
      "outputs": [],
      "source": []
    }
  ],
  "metadata": {
    "kernelspec": {
      "display_name": "Python 3",
      "language": "python",
      "name": "python3"
    },
    "language_info": {
      "codemirror_mode": {
        "name": "ipython",
        "version": 3
      },
      "file_extension": ".py",
      "mimetype": "text/x-python",
      "name": "python",
      "nbconvert_exporter": "python",
      "pygments_lexer": "ipython3",
      "version": "3.7.3"
    }
  },
  "nbformat": 4,
  "nbformat_minor": 2
}