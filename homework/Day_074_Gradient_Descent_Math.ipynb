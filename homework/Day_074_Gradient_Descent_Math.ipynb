{
  "cells": [
    {
      "cell_type": "markdown",
      "metadata": {},
      "source": [
        "## \u8ab2\u7a0b\u76ee\u6a19\n",
        "    \n",
        "\u5229\u7528\u795e\u7d93\u7db2\u8def\u7684\u52a0\u6cd5\u6e1b\u6cd5\u6578\u5b78\u5f0f\u4f86\u8aaa\u660e\u68af\u5ea6\u4e0b\u964d"
      ]
    },
    {
      "cell_type": "markdown",
      "metadata": {},
      "source": [
        "## \u7bc4\u4f8b\u91cd\u9ede\n",
        "    \n",
        "\u900f\u904e\u7db2\u8def\u53c3\u6578(w, b)\u7684\u66f4\u65b0\u53ef\u4ee5\u66f4\u5bb9\u6613\u7406\u89e3\u68af\u5ea6\u4e0b\u964d\u7684\u6c42\u503c\u904e\u7a0b"
      ]
    },
    {
      "cell_type": "code",
      "execution_count": 1,
      "metadata": {},
      "outputs": [],
      "source": [
        "import numpy as np\n",
        "import matplotlib.pyplot as plt"
      ]
    },
    {
      "cell_type": "markdown",
      "metadata": {},
      "source": [
        "## ydata = b + w * xdata\n",
        "\n",
        "\u5728\u5fae\u7a4d\u5206\u88e1\u9762\uff0c\u5c0d\u591a\u5143\u51fd\u6578\u7684\u53c3\u6578\u6c42 \u2202 \u504f\u5c0e\u6578\uff0c\u628a\u6c42\u5f97\u5404\u500b\u53c3\u6578\u7684\u504f\u5c0e\u6578\u4ee5\u5411\u91cf\u7684\u5f62\u5f0f\u5beb\u51fa\u4f86\uff0c\u5c31\u662f\u68af\u5ea6\u3002\u6bd4\u5982\u51fd\u6578 f(x)\uff0c\u5c0d x \u6c42\u504f\u5c0e\u6578\uff0c\u6c42\u5f97\u7684\u68af\u5ea6\u5411\u91cf\u5c31\u662f \u2202f/\u2202x\uff0c\u7c21\u7a31 grad f(x) \u6216\u8005 \u25bdf(x)\u3002"
      ]
    },
    {
      "cell_type": "code",
      "execution_count": 2,
      "metadata": {},
      "outputs": [],
      "source": [
        "# \u8a2d\u5b9a\u8cc7\u6599\n",
        "x = np.array([338., 333., 328., 207., 226., 25., 179.,  60., 208.,  606.])\n",
        "y = np.array([640., 633., 619., 393., 428., 27., 193.,  66., 226., 1591.])"
      ]
    },
    {
      "cell_type": "code",
      "execution_count": 3,
      "metadata": {},
      "outputs": [],
      "source": [
        "# \u8a2d\u5b9a\u795e\u7d93\u7db2\u7d61\u53c3\u6578(bias & weight)\n",
        "mesh_number = 100\n",
        "upper_w, lower_w, init_w = -5, 5, -4\n",
        "upper_b, lower_b, init_b = -100, -200, -150\n",
        "w = np.arange(lower_w, upper_w, (upper_w - lower_w) / mesh_number)\n",
        "b = np.arange(lower_b, upper_b, (upper_b - lower_b) / mesh_number)"
      ]
    },
    {
      "cell_type": "code",
      "execution_count": 4,
      "metadata": {},
      "outputs": [],
      "source": [
        "# \u5efa\u7acb\u795e\u7d93\u7db2\u7d61\u53c3\u6578\u7684\u7db2\u683c\u8cc7\u6599 z: (b, w) -> mse\uff0c\u7db2\u683c\u8cc7\u6599\u884c\u5217\u6578\u5fc5\u9808\u76f8\u7b49\u3002\n",
        "def make_bias_weight_mesh(x, y, b, w):\n",
        "    b_len, w_len, data_len = len(b), len(w), len(x)\n",
        "    (b, w), z = np.meshgrid(b, w), np.zeros((b_len, w_len,))\n",
        "    for i in range(b_len):\n",
        "        for j in range(w_len):\n",
        "            for k in range(data_len):\n",
        "                z[i][j] += np.sum((y[k] - b[i][j] - w[i][j] * x[k]) ** 2)\n",
        "            z[i][j] /= data_len\n",
        "    return z\n",
        "\n",
        "# \u4ee5\u68af\u5ea6\u4e0b\u964d\u6cd5\u8abf\u6574\u795e\u7d93\u7db2\u7d61\u53c3\u6578\uff1a\n",
        "# Loss = sum((y - b - wx) ^ 2)\n",
        "# Gradient B = \u2202L/\u2202b = sum(2 * (y - b - wx) * (-1))\n",
        "# Gradient W = \u2202L/\u2202w = sum(2 * (y - b - wx) * (-x))\n",
        "def gradient_descent_iterator(x, y, init_b, init_w, max_iters=10000, tolerance=0.000001, learning_rate=0.01):\n",
        "    prev_b, prev_w, iters = init_b, init_w, {}\n",
        "    for i in range(max_iters):\n",
        "        iters[i] = np.array([prev_b, prev_w])\n",
        "        next_b = prev_b - learning_rate * np.sum(-2.0 * (y - prev_b - prev_w * x))\n",
        "        next_w = prev_w - learning_rate * np.sum(-2.0 * (y - prev_b - prev_w * x) * x)\n",
        "        if abs(prev_b - next_b) > tolerance and abs(prev_w - next_w) > tolerance:\n",
        "            prev_b, prev_w = next_b, next_w\n",
        "            continue\n",
        "        break\n",
        "    return np.array(list(iters.items()))\n",
        "\n",
        "# \u7b49\u9ad8\u7dda\u5716\u7e6a\u88fd\u68af\u5ea6\u4e0b\u964d\u7684\u904e\u7a0b\n",
        "def gradient_descent_plot(b, w, z, init_b, init_w, hist_b, hist_w):\n",
        "    plt.figure(figsize=(12, 7,))\n",
        "    plt.contourf(b, w, z, 50, alpha=0.5, cmap=plt.get_cmap('jet'))\n",
        "    plt.plot([init_b], [init_w], 'x', ms=12, markeredgewidth=3, color='orange')\n",
        "    plt.plot(hist_b, hist_w, 'o', ms=3, color='black')\n",
        "    plt.xlim(-200, -100)\n",
        "    plt.ylim(-5, 5)\n",
        "    plt.xlabel(r'$b$', fontsize=16)\n",
        "    plt.ylabel(r'$w$', fontsize=16)\n",
        "    plt.title('Gradient Descent')\n",
        "    plt.show()"
      ]
    },
    {
      "cell_type": "code",
      "execution_count": 5,
      "metadata": {},
      "outputs": [
        {
          "data": {
            "text/plain": [
              "array([[ 471181.4       ,  472329.2       ,  473479.        , ...,\n",
              "         591830.        ,  593171.8       ,  594515.6       ],\n",
              "       [ 431925.128     ,  433022.728     ,  434122.328     , ...,\n",
              "         547704.328     ,  548995.928     ,  550289.528     ],\n",
              "       [ 394415.672     ,  395463.072     ,  396512.472     , ...,\n",
              "         505325.472     ,  506566.872     ,  507810.272     ],\n",
              "       ...,\n",
              "       [4796498.31199995, 4792776.71199995, 4789057.11199996, ...,\n",
              "        4444815.11199996, 4441287.51199996, 4437761.91199996],\n",
              "       [4926683.19199996, 4922911.39199995, 4919141.59199996, ...,\n",
              "        4570130.59199996, 4566552.79199996, 4562976.99199996],\n",
              "       [5058614.88799995, 5054792.88799995, 5050972.88799995, ...,\n",
              "        4697192.88799995, 4693564.88799995, 4689938.88799995]])"
            ]
          },
          "execution_count": 5,
          "metadata": {},
          "output_type": "execute_result"
        }
      ],
      "source": [
        "z = make_bias_weight_mesh(x, y, b, w)\n",
        "z"
      ]
    },
    {
      "cell_type": "code",
      "execution_count": 6,
      "metadata": {},
      "outputs": [
        {
          "data": {
            "text/plain": [
              "array([[0, array([-150,   -4])],\n",
              "       [1, array([-149.9967288,   -2.8542624])],\n",
              "       [2, array([-149.99403277,   -1.90866572])],\n",
              "       [3, array([-149.99181143,   -1.12824873])],\n",
              "       [4, array([-149.98998186,   -0.48415735])],\n",
              "       [5, array([-1.49988476e+02,  4.74222015e-02])],\n",
              "       [6, array([-149.98723627,    0.48614383])],\n",
              "       [7, array([-149.98621714,    0.84822824])],\n",
              "       [8, array([-149.98537977,    1.14706266])],\n",
              "       [9, array([-149.98469243,    1.39369578])],\n",
              "       [10, array([-149.98412889,    1.59724628])],\n",
              "       [11, array([-149.98366754,    1.76523998])],\n",
              "       [12, array([-149.98329053,    1.90388804])],\n",
              "       [13, array([-149.98298311,    2.01831664])],\n",
              "       [14, array([-149.98273314,    2.11275652])],\n",
              "       [15, array([-149.98253058,    2.19069936])],\n",
              "       [16, array([-149.98236715,    2.25502692])],\n",
              "       [17, array([-149.982236  ,    2.30811756])],\n",
              "       [18, array([-149.98213151,    2.35193417])],\n",
              "       [19, array([-149.98204902,    2.38809678])],\n",
              "       [20, array([-149.98198468,    2.4179424 ])],\n",
              "       [21, array([-149.98193533,    2.44257451])],\n",
              "       [22, array([-149.98189833,    2.46290382])],\n",
              "       [23, array([-149.98187155,    2.47968195])],\n",
              "       [24, array([-149.98185318,    2.49352924])],\n",
              "       [25, array([-149.98184177,    2.50495765])],\n",
              "       [26, array([-149.9818361 ,    2.51438973])]], dtype=object)"
            ]
          },
          "execution_count": 6,
          "metadata": {},
          "output_type": "execute_result"
        }
      ],
      "source": [
        "iters = gradient_descent_iterator(x, y, init_b, init_w, learning_rate=0.0000001) # \u56e0\u70ba\u68af\u5ea6 w \u592a\u5927\uff0c\u5b78\u7fd2\u7387\u592a\u5927\u7121\u6cd5\u6536\u6582\u3002\n",
        "iters"
      ]
    },
    {
      "cell_type": "code",
      "execution_count": 7,
      "metadata": {},
      "outputs": [
        {
          "data": {
            "image/png": "[encoded data removed]",
            "text/plain": [
              "<Figure size 864x504 with 1 Axes>"
            ]
          },
          "metadata": {
            "needs_background": "light"
          },
          "output_type": "display_data"
        }
      ],
      "source": [
        "hist_b = np.array(list(iters[:, 1]))[:, 0]\n",
        "hist_w = np.array(list(iters[:, 1]))[:, 1]\n",
        "gradient_descent_plot(b, w, z, init_b, init_w, hist_b, hist_w)"
      ]
    },
    {
      "cell_type": "code",
      "execution_count": null,
      "metadata": {},
      "outputs": [],
      "source": []
    }
  ],
  "metadata": {
    "kernelspec": {
      "display_name": "Python 3",
      "language": "python",
      "name": "python3"
    },
    "language_info": {
      "codemirror_mode": {
        "name": "ipython",
        "version": 3
      },
      "file_extension": ".py",
      "mimetype": "text/x-python",
      "name": "python",
      "nbconvert_exporter": "python",
      "pygments_lexer": "ipython3",
      "version": "3.7.3"
    }
  },
  "nbformat": 4,
  "nbformat_minor": 1
}