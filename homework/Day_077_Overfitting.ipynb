{
  "cells": [
    {
      "cell_type": "markdown",
      "metadata": {},
      "source": [
        "## \u7bc4\u4f8b\u91cd\u9ede\n",
        "\n",
        "\u5b78\u6703\u5f9e Keras \u5167\u5efa\u51fd\u5f0f\u53d6\u5f97\u8cc7\u6599\n",
        "\n",
        "\u80fd\u5920\u5efa\u7acb\u7c21\u6613\u7684\u6df1\u5ea6\u5b78\u7fd2\u6a21\u578b\n",
        "\n",
        "\u89c0\u5bdf\u4e26\u4e86\u89e3\u904e\u64ec\u5408\u73fe\u8c61"
      ]
    },
    {
      "cell_type": "code",
      "execution_count": 1,
      "metadata": {},
      "outputs": [
        {
          "name": "stderr",
          "output_type": "stream",
          "text": [
            "Using TensorFlow backend.\n"
          ]
        }
      ],
      "source": [
        "import tensorflow as tf\n",
        "import matplotlib.pyplot as plt\n",
        "from keras.utils import np_utils\n",
        "from keras.datasets import cifar10\n",
        "from keras.models import Model\n",
        "from keras.layers import Input, Dense\n",
        "from keras.optimizers import Adam\n",
        "tf.logging.set_verbosity(tf.logging.ERROR)"
      ]
    },
    {
      "cell_type": "markdown",
      "metadata": {},
      "source": [
        "## \u6e96\u5099\u8cc7\u6599"
      ]
    },
    {
      "cell_type": "code",
      "execution_count": 2,
      "metadata": {},
      "outputs": [],
      "source": [
        "(X_train, y_train), (X_test, y_test) = cifar10.load_data()"
      ]
    },
    {
      "cell_type": "code",
      "execution_count": 3,
      "metadata": {},
      "outputs": [],
      "source": [
        "def normalize_cifar10_data(x, y):\n",
        "    x = x.reshape((len(x), -1)) / 255.\n",
        "    y = np_utils.to_categorical(y, num_classes=10)\n",
        "    return x, y\n",
        "\n",
        "def normalize_result(x, y):\n",
        "    print('x.shape:', x.shape)\n",
        "    print('y.shape:', y.shape)"
      ]
    },
    {
      "cell_type": "code",
      "execution_count": 4,
      "metadata": {},
      "outputs": [
        {
          "name": "stdout",
          "output_type": "stream",
          "text": [
            "Before normalization:\n",
            "x.shape: (50000, 32, 32, 3)\n",
            "y.shape: (50000, 1)\n"
          ]
        }
      ],
      "source": [
        "print('Before normalization:')\n",
        "normalize_result(X_train, y_train)"
      ]
    },
    {
      "cell_type": "code",
      "execution_count": 5,
      "metadata": {},
      "outputs": [
        {
          "name": "stdout",
          "output_type": "stream",
          "text": [
            "After normalization:\n",
            "x.shape: (50000, 3072)\n",
            "y.shape: (50000, 10)\n"
          ]
        }
      ],
      "source": [
        "print('After normalization:')\n",
        "X_train, y_train = normalize_cifar10_data(X_train, y_train)\n",
        "X_test, y_test = normalize_cifar10_data(X_test, y_test)\n",
        "normalize_result(X_train, y_train)"
      ]
    },
    {
      "cell_type": "markdown",
      "metadata": {},
      "source": [
        "## \u5b9a\u7fa9\u51fd\u6578"
      ]
    },
    {
      "cell_type": "code",
      "execution_count": 6,
      "metadata": {},
      "outputs": [],
      "source": [
        "def show_train_history(train_history, train_hst_name, val_hst_name):\n",
        "    plt.plot(train_history.history[train_hst_name])\n",
        "    plt.plot(train_history.history[val_hst_name])\n",
        "    plt.xlabel('Epoch')\n",
        "    plt.ylabel(train_hst_name)\n",
        "    plt.title('Train History')\n",
        "    plt.legend(['train', 'validation'], loc='upper left')\n",
        "    plt.show()"
      ]
    },
    {
      "cell_type": "markdown",
      "metadata": {},
      "source": [
        "## \u5b9a\u7fa9\u6a21\u578b"
      ]
    },
    {
      "cell_type": "code",
      "execution_count": 7,
      "metadata": {},
      "outputs": [],
      "source": [
        "def build_model(x):\n",
        "    main_input = Input(shape=(x.shape[-1],), dtype='float32', name='main_input')\n",
        "    mid_layer = Dense(units=512, activation='relu')(main_input)\n",
        "    mid_layer = Dense(units=256, activation='relu')(mid_layer)\n",
        "    mid_layer = Dense(units=128, activation='relu')(mid_layer)\n",
        "    main_output = Dense(units=10, activation='softmax')(mid_layer)\n",
        "    return Model(inputs=[main_input], outputs=[main_output])"
      ]
    },
    {
      "cell_type": "code",
      "execution_count": 8,
      "metadata": {},
      "outputs": [
        {
          "name": "stdout",
          "output_type": "stream",
          "text": [
            "_________________________________________________________________\n",
            "Layer (type)                 Output Shape              Param #   \n",
            "=================================================================\n",
            "main_input (InputLayer)      (None, 3072)              0         \n",
            "_________________________________________________________________\n",
            "dense_1 (Dense)              (None, 512)               1573376   \n",
            "_________________________________________________________________\n",
            "dense_2 (Dense)              (None, 256)               131328    \n",
            "_________________________________________________________________\n",
            "dense_3 (Dense)              (None, 128)               32896     \n",
            "_________________________________________________________________\n",
            "dense_4 (Dense)              (None, 10)                1290      \n",
            "=================================================================\n",
            "Total params: 1,738,890\n",
            "Trainable params: 1,738,890\n",
            "Non-trainable params: 0\n",
            "_________________________________________________________________\n"
          ]
        }
      ],
      "source": [
        "model, optimizer = build_model(X_train), Adam(lr=0.001)\n",
        "model.summary()"
      ]
    },
    {
      "cell_type": "code",
      "execution_count": 9,
      "metadata": {},
      "outputs": [],
      "source": [
        "model.compile(optimizer=optimizer, loss='categorical_crossentropy', metrics=['accuracy'])"
      ]
    },
    {
      "cell_type": "markdown",
      "metadata": {},
      "source": [
        "## \u8a13\u7df4\u6a21\u578b"
      ]
    },
    {
      "cell_type": "code",
      "execution_count": 10,
      "metadata": {},
      "outputs": [
        {
          "name": "stdout",
          "output_type": "stream",
          "text": [
            "Train on 50000 samples, validate on 10000 samples\n",
            "Epoch 1/100\n",
            " - 26s - loss: 1.8915 - acc: 0.3178 - val_loss: 1.7621 - val_acc: 0.3567\n",
            "Epoch 2/100\n",
            " - 24s - loss: 1.6976 - acc: 0.3907 - val_loss: 1.6389 - val_acc: 0.4169\n",
            "Epoch 3/100\n",
            " - 23s - loss: 1.6027 - acc: 0.4250 - val_loss: 1.6352 - val_acc: 0.4124\n",
            "Epoch 4/100\n",
            " - 23s - loss: 1.5425 - acc: 0.4487 - val_loss: 1.5785 - val_acc: 0.4389\n",
            "Epoch 5/100\n",
            " - 23s - loss: 1.4931 - acc: 0.4688 - val_loss: 1.4887 - val_acc: 0.4756\n",
            "Epoch 6/100\n",
            " - 23s - loss: 1.4547 - acc: 0.4789 - val_loss: 1.5076 - val_acc: 0.4630\n",
            "Epoch 7/100\n",
            " - 23s - loss: 1.4301 - acc: 0.4899 - val_loss: 1.4484 - val_acc: 0.4856\n",
            "Epoch 8/100\n",
            " - 23s - loss: 1.3945 - acc: 0.5026 - val_loss: 1.4222 - val_acc: 0.4917\n",
            "Epoch 9/100\n",
            " - 23s - loss: 1.3696 - acc: 0.5104 - val_loss: 1.4514 - val_acc: 0.4840\n",
            "Epoch 10/100\n",
            " - 23s - loss: 1.3451 - acc: 0.5164 - val_loss: 1.4771 - val_acc: 0.4816\n",
            "Epoch 11/100\n",
            " - 23s - loss: 1.3229 - acc: 0.5291 - val_loss: 1.4258 - val_acc: 0.4978\n",
            "Epoch 12/100\n",
            " - 23s - loss: 1.2978 - acc: 0.5359 - val_loss: 1.3972 - val_acc: 0.5048\n",
            "Epoch 13/100\n",
            " - 23s - loss: 1.2710 - acc: 0.5481 - val_loss: 1.4096 - val_acc: 0.5059\n",
            "Epoch 14/100\n",
            " - 23s - loss: 1.2450 - acc: 0.5567 - val_loss: 1.4037 - val_acc: 0.5070\n",
            "Epoch 15/100\n",
            " - 23s - loss: 1.2304 - acc: 0.5607 - val_loss: 1.4503 - val_acc: 0.4886\n",
            "Epoch 16/100\n",
            " - 23s - loss: 1.2026 - acc: 0.5705 - val_loss: 1.3849 - val_acc: 0.5159\n",
            "Epoch 17/100\n",
            " - 23s - loss: 1.1768 - acc: 0.5812 - val_loss: 1.3894 - val_acc: 0.5103\n",
            "Epoch 18/100\n",
            " - 23s - loss: 1.1625 - acc: 0.5827 - val_loss: 1.3864 - val_acc: 0.5127\n",
            "Epoch 19/100\n",
            " - 23s - loss: 1.1424 - acc: 0.5912 - val_loss: 1.4065 - val_acc: 0.5181\n",
            "Epoch 20/100\n",
            " - 23s - loss: 1.1195 - acc: 0.6015 - val_loss: 1.3926 - val_acc: 0.5189\n",
            "Epoch 21/100\n",
            " - 24s - loss: 1.0997 - acc: 0.6043 - val_loss: 1.4222 - val_acc: 0.5073\n",
            "Epoch 22/100\n",
            " - 24s - loss: 1.0869 - acc: 0.6115 - val_loss: 1.4211 - val_acc: 0.5181\n",
            "Epoch 23/100\n",
            " - 24s - loss: 1.0623 - acc: 0.6197 - val_loss: 1.4127 - val_acc: 0.5171\n",
            "Epoch 24/100\n",
            " - 24s - loss: 1.0458 - acc: 0.6242 - val_loss: 1.4199 - val_acc: 0.5208\n",
            "Epoch 25/100\n",
            " - 25s - loss: 1.0293 - acc: 0.6296 - val_loss: 1.4305 - val_acc: 0.5167\n",
            "Epoch 26/100\n",
            " - 25s - loss: 1.0090 - acc: 0.6396 - val_loss: 1.4308 - val_acc: 0.5198\n",
            "Epoch 27/100\n",
            " - 24s - loss: 0.9934 - acc: 0.6431 - val_loss: 1.4310 - val_acc: 0.5161\n",
            "Epoch 28/100\n",
            " - 24s - loss: 0.9611 - acc: 0.6550 - val_loss: 1.4675 - val_acc: 0.5153\n",
            "Epoch 29/100\n",
            " - 24s - loss: 0.9481 - acc: 0.6606 - val_loss: 1.5102 - val_acc: 0.5128\n",
            "Epoch 30/100\n",
            " - 25s - loss: 0.9292 - acc: 0.6663 - val_loss: 1.4996 - val_acc: 0.5086\n",
            "Epoch 31/100\n",
            " - 24s - loss: 0.9207 - acc: 0.6700 - val_loss: 1.4798 - val_acc: 0.5226\n",
            "Epoch 32/100\n",
            " - 23s - loss: 0.9039 - acc: 0.6750 - val_loss: 1.5363 - val_acc: 0.5159\n",
            "Epoch 33/100\n",
            " - 24s - loss: 0.8870 - acc: 0.6817 - val_loss: 1.5376 - val_acc: 0.5154\n",
            "Epoch 34/100\n",
            " - 25s - loss: 0.8677 - acc: 0.6870 - val_loss: 1.5665 - val_acc: 0.5188\n",
            "Epoch 35/100\n",
            " - 23s - loss: 0.8549 - acc: 0.6902 - val_loss: 1.5759 - val_acc: 0.5143\n",
            "Epoch 36/100\n",
            " - 23s - loss: 0.8357 - acc: 0.6997 - val_loss: 1.5882 - val_acc: 0.5150\n",
            "Epoch 37/100\n",
            " - 23s - loss: 0.8220 - acc: 0.7026 - val_loss: 1.6112 - val_acc: 0.5165\n",
            "Epoch 38/100\n",
            " - 24s - loss: 0.8110 - acc: 0.7083 - val_loss: 1.6502 - val_acc: 0.5126\n",
            "Epoch 39/100\n",
            " - 24s - loss: 0.7985 - acc: 0.7116 - val_loss: 1.6684 - val_acc: 0.5108\n",
            "Epoch 40/100\n",
            " - 24s - loss: 0.7838 - acc: 0.7188 - val_loss: 1.7127 - val_acc: 0.5093\n",
            "Epoch 41/100\n",
            " - 24s - loss: 0.7570 - acc: 0.7284 - val_loss: 1.6551 - val_acc: 0.5149\n",
            "Epoch 42/100\n",
            " - 24s - loss: 0.7587 - acc: 0.7277 - val_loss: 1.6934 - val_acc: 0.5080\n",
            "Epoch 43/100\n",
            " - 25s - loss: 0.7383 - acc: 0.7355 - val_loss: 1.7383 - val_acc: 0.5022\n",
            "Epoch 44/100\n",
            " - 24s - loss: 0.7150 - acc: 0.7423 - val_loss: 1.7558 - val_acc: 0.5138\n",
            "Epoch 45/100\n",
            " - 24s - loss: 0.7160 - acc: 0.7431 - val_loss: 1.8362 - val_acc: 0.5082\n",
            "Epoch 46/100\n",
            " - 24s - loss: 0.7079 - acc: 0.7433 - val_loss: 1.8087 - val_acc: 0.5097\n",
            "Epoch 47/100\n",
            " - 24s - loss: 0.6962 - acc: 0.7497 - val_loss: 1.8520 - val_acc: 0.5079\n",
            "Epoch 48/100\n",
            " - 24s - loss: 0.6820 - acc: 0.7547 - val_loss: 1.9092 - val_acc: 0.4954\n",
            "Epoch 49/100\n",
            " - 26s - loss: 0.6790 - acc: 0.7547 - val_loss: 1.8831 - val_acc: 0.4953\n",
            "Epoch 50/100\n",
            " - 25s - loss: 0.6660 - acc: 0.7590 - val_loss: 1.9253 - val_acc: 0.5045\n",
            "Epoch 51/100\n",
            " - 26s - loss: 0.6429 - acc: 0.7678 - val_loss: 1.8959 - val_acc: 0.5063\n",
            "Epoch 52/100\n",
            " - 24s - loss: 0.6467 - acc: 0.7661 - val_loss: 1.9048 - val_acc: 0.5039\n",
            "Epoch 53/100\n",
            " - 24s - loss: 0.6375 - acc: 0.7696 - val_loss: 1.9376 - val_acc: 0.5041\n",
            "Epoch 54/100\n",
            " - 24s - loss: 0.6324 - acc: 0.7716 - val_loss: 1.9461 - val_acc: 0.5041\n",
            "Epoch 55/100\n",
            " - 24s - loss: 0.6004 - acc: 0.7828 - val_loss: 2.0225 - val_acc: 0.5048\n",
            "Epoch 56/100\n",
            " - 24s - loss: 0.6131 - acc: 0.7782 - val_loss: 2.0553 - val_acc: 0.5035\n",
            "Epoch 57/100\n",
            " - 24s - loss: 0.5950 - acc: 0.7842 - val_loss: 2.0972 - val_acc: 0.5013\n",
            "Epoch 58/100\n",
            " - 24s - loss: 0.5867 - acc: 0.7881 - val_loss: 2.1287 - val_acc: 0.4958\n",
            "Epoch 59/100\n",
            " - 24s - loss: 0.5807 - acc: 0.7887 - val_loss: 2.1120 - val_acc: 0.5053\n",
            "Epoch 60/100\n",
            " - 24s - loss: 0.5766 - acc: 0.7923 - val_loss: 2.1203 - val_acc: 0.4939\n",
            "Epoch 61/100\n",
            " - 24s - loss: 0.5517 - acc: 0.8016 - val_loss: 2.1361 - val_acc: 0.5053\n",
            "Epoch 62/100\n",
            " - 24s - loss: 0.5583 - acc: 0.7968 - val_loss: 2.1571 - val_acc: 0.5020\n",
            "Epoch 63/100\n",
            " - 24s - loss: 0.5595 - acc: 0.7979 - val_loss: 2.2099 - val_acc: 0.5008\n",
            "Epoch 64/100\n",
            " - 24s - loss: 0.5469 - acc: 0.8012 - val_loss: 2.2540 - val_acc: 0.4913\n",
            "Epoch 65/100\n",
            " - 24s - loss: 0.5389 - acc: 0.8049 - val_loss: 2.3084 - val_acc: 0.4940\n",
            "Epoch 66/100\n",
            " - 24s - loss: 0.5210 - acc: 0.8108 - val_loss: 2.3371 - val_acc: 0.4936\n",
            "Epoch 67/100\n",
            " - 24s - loss: 0.5420 - acc: 0.8039 - val_loss: 2.3268 - val_acc: 0.4953\n",
            "Epoch 68/100\n",
            " - 24s - loss: 0.5154 - acc: 0.8143 - val_loss: 2.3752 - val_acc: 0.4928\n",
            "Epoch 69/100\n",
            " - 24s - loss: 0.5308 - acc: 0.8074 - val_loss: 2.3861 - val_acc: 0.4973\n",
            "Epoch 70/100\n",
            " - 24s - loss: 0.4997 - acc: 0.8195 - val_loss: 2.3925 - val_acc: 0.4912\n",
            "Epoch 71/100\n",
            " - 24s - loss: 0.5024 - acc: 0.8194 - val_loss: 2.4195 - val_acc: 0.4947\n",
            "Epoch 72/100\n",
            " - 24s - loss: 0.4909 - acc: 0.8223 - val_loss: 2.4355 - val_acc: 0.4966\n",
            "Epoch 73/100\n",
            " - 24s - loss: 0.4898 - acc: 0.8239 - val_loss: 2.4844 - val_acc: 0.4949\n",
            "Epoch 74/100\n",
            " - 24s - loss: 0.4883 - acc: 0.8234 - val_loss: 2.4949 - val_acc: 0.4937\n",
            "Epoch 75/100\n",
            " - 24s - loss: 0.4647 - acc: 0.8327 - val_loss: 2.4962 - val_acc: 0.4947\n",
            "Epoch 76/100\n",
            " - 24s - loss: 0.4601 - acc: 0.8344 - val_loss: 2.5311 - val_acc: 0.4943\n",
            "Epoch 77/100\n",
            " - 24s - loss: 0.4655 - acc: 0.8315 - val_loss: 2.5574 - val_acc: 0.4923\n",
            "Epoch 78/100\n",
            " - 24s - loss: 0.4555 - acc: 0.8363 - val_loss: 2.5866 - val_acc: 0.4944\n",
            "Epoch 79/100\n",
            " - 25s - loss: 0.4719 - acc: 0.8290 - val_loss: 2.6459 - val_acc: 0.4933\n",
            "Epoch 80/100\n",
            " - 26s - loss: 0.4583 - acc: 0.8342 - val_loss: 2.5974 - val_acc: 0.4951\n",
            "Epoch 81/100\n",
            " - 26s - loss: 0.4339 - acc: 0.8438 - val_loss: 2.6241 - val_acc: 0.4922\n",
            "Epoch 82/100\n",
            " - 24s - loss: 0.4393 - acc: 0.8407 - val_loss: 2.6762 - val_acc: 0.4989\n",
            "Epoch 83/100\n",
            " - 23s - loss: 0.4287 - acc: 0.8452 - val_loss: 2.6699 - val_acc: 0.4873\n",
            "Epoch 84/100\n",
            " - 24s - loss: 0.4337 - acc: 0.8427 - val_loss: 2.7072 - val_acc: 0.4951\n",
            "Epoch 85/100\n",
            " - 27s - loss: 0.4256 - acc: 0.8453 - val_loss: 2.7390 - val_acc: 0.4851\n",
            "Epoch 86/100\n",
            " - 26s - loss: 0.4240 - acc: 0.8479 - val_loss: 2.7936 - val_acc: 0.4872\n",
            "Epoch 87/100\n",
            " - 26s - loss: 0.4180 - acc: 0.8487 - val_loss: 2.7358 - val_acc: 0.4951\n",
            "Epoch 88/100\n",
            " - 25s - loss: 0.4069 - acc: 0.8537 - val_loss: 2.7733 - val_acc: 0.4886\n",
            "Epoch 89/100\n",
            " - 25s - loss: 0.4063 - acc: 0.8533 - val_loss: 2.8026 - val_acc: 0.4893\n",
            "Epoch 90/100\n",
            " - 25s - loss: 0.4083 - acc: 0.8524 - val_loss: 2.9218 - val_acc: 0.4867\n",
            "Epoch 91/100\n",
            " - 25s - loss: 0.3990 - acc: 0.8555 - val_loss: 2.8137 - val_acc: 0.4820\n",
            "Epoch 92/100\n",
            " - 25s - loss: 0.3991 - acc: 0.8579 - val_loss: 2.9399 - val_acc: 0.4925\n",
            "Epoch 93/100\n",
            " - 25s - loss: 0.4162 - acc: 0.8508 - val_loss: 2.8607 - val_acc: 0.4921\n",
            "Epoch 94/100\n",
            " - 25s - loss: 0.3827 - acc: 0.8621 - val_loss: 2.9285 - val_acc: 0.4950\n",
            "Epoch 95/100\n",
            " - 26s - loss: 0.3772 - acc: 0.8623 - val_loss: 2.9447 - val_acc: 0.4930\n"
          ]
        },
        {
          "name": "stdout",
          "output_type": "stream",
          "text": [
            "Epoch 96/100\n",
            " - 25s - loss: 0.3738 - acc: 0.8645 - val_loss: 2.9381 - val_acc: 0.4915\n",
            "Epoch 97/100\n",
            " - 25s - loss: 0.3800 - acc: 0.8621 - val_loss: 2.9933 - val_acc: 0.4901\n",
            "Epoch 98/100\n",
            " - 25s - loss: 0.3844 - acc: 0.8628 - val_loss: 3.1012 - val_acc: 0.4852\n",
            "Epoch 99/100\n",
            " - 25s - loss: 0.3762 - acc: 0.8654 - val_loss: 3.0117 - val_acc: 0.4945\n",
            "Epoch 100/100\n",
            " - 25s - loss: 0.3541 - acc: 0.8730 - val_loss: 2.9930 - val_acc: 0.4869\n"
          ]
        }
      ],
      "source": [
        "train_history = model.fit(X_train, y_train, epochs=100, batch_size=128, validation_data=(X_test, y_test),\n",
        "                          shuffle=True, verbose=2)"
      ]
    },
    {
      "cell_type": "code",
      "execution_count": 11,
      "metadata": {},
      "outputs": [
        {
          "data": {
            "image/png": "[encoded data removed]",
            "text/plain": [
              "<Figure size 432x288 with 1 Axes>"
            ]
          },
          "metadata": {
            "needs_background": "light"
          },
          "output_type": "display_data"
        }
      ],
      "source": [
        "show_train_history(train_history, 'acc', 'val_acc')"
      ]
    },
    {
      "cell_type": "code",
      "execution_count": 12,
      "metadata": {},
      "outputs": [
        {
          "data": {
            "image/png": "[encoded data removed]",
            "text/plain": [
              "<Figure size 432x288 with 1 Axes>"
            ]
          },
          "metadata": {
            "needs_background": "light"
          },
          "output_type": "display_data"
        }
      ],
      "source": [
        "show_train_history(train_history, 'loss', 'val_loss')"
      ]
    },
    {
      "cell_type": "markdown",
      "metadata": {},
      "source": [
        "## \u4f5c\u696d\n",
        "\n",
        "1. \u8acb\u5c07 Epochs \u52a0\u5230 500 \u500b\uff0c\u4e26\u89c0\u5bdf learning curve \u7684\u8d70\u52e2\n",
        "2. \u8acb\u5c07 Optimizer \u63db\u6210 SGD\uff0c\u4e26\u89c0\u5bdf learning curve \u7684\u8d70\u52e2"
      ]
    },
    {
      "cell_type": "code",
      "execution_count": null,
      "metadata": {},
      "outputs": [],
      "source": []
    }
  ],
  "metadata": {
    "kernelspec": {
      "display_name": "Python 3",
      "language": "python",
      "name": "python3"
    },
    "language_info": {
      "codemirror_mode": {
        "name": "ipython",
        "version": 3
      },
      "file_extension": ".py",
      "mimetype": "text/x-python",
      "name": "python",
      "nbconvert_exporter": "python",
      "pygments_lexer": "ipython3",
      "version": "3.7.3"
    }
  },
  "nbformat": 4,
  "nbformat_minor": 2
}