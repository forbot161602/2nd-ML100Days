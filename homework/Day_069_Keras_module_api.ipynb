{
  "cells": [
    {
      "cell_type": "markdown",
      "metadata": {},
      "source": [
        "## \u8ab2\u7a0b\u76ee\u6a19\n",
        "    \n",
        "\u4e86\u89e3 Keras \u51fd\u6578\u5f0f API \u7684\u4f7f\u7528"
      ]
    },
    {
      "cell_type": "markdown",
      "metadata": {},
      "source": [
        "## \u7bc4\u4f8b\u91cd\u9ede\n",
        "\n",
        "\u4e86\u89e3\u51fd\u6578\u5f0f API \u7684\u5f48\u6027"
      ]
    },
    {
      "cell_type": "code",
      "execution_count": 1,
      "metadata": {},
      "outputs": [
        {
          "name": "stderr",
          "output_type": "stream",
          "text": [
            "Using TensorFlow backend.\n"
          ]
        }
      ],
      "source": [
        "import keras\n",
        "import tensorflow as tf\n",
        "from keras.models import Model\n",
        "from keras.layers import Input, Embedding, LSTM, Dense\n",
        "tf.logging.set_verbosity(tf.logging.ERROR)"
      ]
    },
    {
      "cell_type": "code",
      "execution_count": 2,
      "metadata": {},
      "outputs": [],
      "source": [
        "# \u4e3b\u8981\u8f38\u5165\u63a5\u6536\u65b0\u805e\u6a19\u984c\u672c\u8eab\uff0c\u5373\u4e00\u500b\u6574\u6578\u5e8f\u5217\uff08\u6bcf\u500b\u6574\u6578\u7de8\u78bc\u4e00\u500b\u8a5e\uff09\u3002\n",
        "# \u9019\u4e9b\u6574\u6578\u5728 1 \u5230 10,000 \u4e4b\u9593\uff0810,000 \u500b\u8a5e\u7684\u8a5e\u5f59\u8868\uff09\uff0c\u4e14\u5e8f\u5217\u9577\u5ea6\u70ba 100 \u500b\u8a5e\u3002\n",
        "# \u5ba3\u544a\u4e00\u500b name \u5b9a\u7fa9 Input\u3002\n",
        "main_input = Input(shape=(100,), dtype='int32', name='main_input')\n",
        "\n",
        "# Embedding \u5c64\u5c07\u8f38\u5165\u5e8f\u5217\u7de8\u78bc\u70ba\u4e00\u500b\u7a20\u5bc6\u5411\u91cf\u7684\u5e8f\u5217\uff0c\u6bcf\u500b\u5411\u91cf\u7dad\u5ea6\u70ba 512\u3002\n",
        "x = Embedding(input_dim=10000, output_dim=512, input_length=100)(main_input)\n",
        "\n",
        "# LSTM \u5c64\u628a\u5411\u91cf\u5e8f\u5217\u8f49\u63db\u6210\u55ae\u500b\u5411\u91cf\uff0c\u5b83\u5305\u542b\u6574\u500b\u5e8f\u5217\u7684\u4e0a\u4e0b\u6587\u4fe1\u606f\u3002\n",
        "lstm_out = LSTM(32)(x)\n",
        "\n",
        "# \u63d2\u5165\u8f14\u52a9\u640d\u5931\uff0c\u4f7f\u5f97\u5373\u4f7f\u5728\u6a21\u578b\u4e3b\u640d\u5931\u5f88\u9ad8\u7684\u60c5\u6cc1\u4e0b\uff0cLSTM \u548c Embedding \u5c64\u90fd\u80fd\u88ab\u5e73\u7a69\u5730\u8a13\u7df4\u3002\n",
        "news_output = Dense(1, activation='sigmoid', name='news_out')(lstm_out)"
      ]
    },
    {
      "cell_type": "code",
      "execution_count": 3,
      "metadata": {},
      "outputs": [],
      "source": [
        "# \u8f14\u52a9\u8f38\u5165\u6578\u64da\u8207 LSTM \u5c64\u7684\u8f38\u51fa\u9023\u63a5\u8d77\u4f86\uff0c\u8f38\u5165\u5230\u6a21\u578b\u3002\n",
        "news_input = Input(shape=(5,), name='news_in')\n",
        "x = keras.layers.concatenate([lstm_out, news_input])\n",
        "\n",
        "# \u5806\u758a\u591a\u500b\u5168\u9023\u63a5\u7db2\u8def\u5c64\u3002\n",
        "x = Dense(64, activation='relu')(x)\n",
        "x = Dense(64, activation='relu')(x)\n",
        "\n",
        "# \u6700\u5f8c\u6dfb\u52a0\u4e3b\u8981\u7684\u908f\u8f2f\u56de\u6b78\u5c64\u3002\n",
        "main_output = Dense(1, activation='sigmoid', name='main_output')(x)"
      ]
    },
    {
      "cell_type": "code",
      "execution_count": 4,
      "metadata": {},
      "outputs": [],
      "source": [
        "# \u5ba3\u544a model API, \u5206\u5225\u63a1\u7528\u81ea\u884c\u5b9a\u7fa9\u7684 Input/Output Layer\u3002\n",
        "model = Model(inputs=[main_input, news_input], outputs=[main_output, news_output])\n",
        "\n",
        "model.compile(optimizer='rmsprop',\n",
        "              loss={'main_output': 'binary_crossentropy', 'news_out': 'binary_crossentropy'},\n",
        "              loss_weights={'main_output': 1., 'news_out': 0.2})"
      ]
    },
    {
      "cell_type": "code",
      "execution_count": 5,
      "metadata": {},
      "outputs": [
        {
          "name": "stdout",
          "output_type": "stream",
          "text": [
            "__________________________________________________________________________________________________\n",
            "Layer (type)                    Output Shape         Param #     Connected to                     \n",
            "==================================================================================================\n",
            "main_input (InputLayer)         (None, 100)          0                                            \n",
            "__________________________________________________________________________________________________\n",
            "embedding_1 (Embedding)         (None, 100, 512)     5120000     main_input[0][0]                 \n",
            "__________________________________________________________________________________________________\n",
            "lstm_1 (LSTM)                   (None, 32)           69760       embedding_1[0][0]                \n",
            "__________________________________________________________________________________________________\n",
            "news_in (InputLayer)            (None, 5)            0                                            \n",
            "__________________________________________________________________________________________________\n",
            "concatenate_1 (Concatenate)     (None, 37)           0           lstm_1[0][0]                     \n",
            "                                                                 news_in[0][0]                    \n",
            "__________________________________________________________________________________________________\n",
            "dense_1 (Dense)                 (None, 64)           2432        concatenate_1[0][0]              \n",
            "__________________________________________________________________________________________________\n",
            "dense_2 (Dense)                 (None, 64)           4160        dense_1[0][0]                    \n",
            "__________________________________________________________________________________________________\n",
            "main_output (Dense)             (None, 1)            65          dense_2[0][0]                    \n",
            "__________________________________________________________________________________________________\n",
            "news_out (Dense)                (None, 1)            33          lstm_1[0][0]                     \n",
            "==================================================================================================\n",
            "Total params: 5,196,450\n",
            "Trainable params: 5,196,450\n",
            "Non-trainable params: 0\n",
            "__________________________________________________________________________________________________\n"
          ]
        }
      ],
      "source": [
        "model.summary()"
      ]
    },
    {
      "cell_type": "code",
      "execution_count": null,
      "metadata": {},
      "outputs": [],
      "source": []
    }
  ],
  "metadata": {
    "kernelspec": {
      "display_name": "Python 3",
      "language": "python",
      "name": "python3"
    },
    "language_info": {
      "codemirror_mode": {
        "name": "ipython",
        "version": 3
      },
      "file_extension": ".py",
      "mimetype": "text/x-python",
      "name": "python",
      "nbconvert_exporter": "python",
      "pygments_lexer": "ipython3",
      "version": "3.7.3"
    }
  },
  "nbformat": 4,
  "nbformat_minor": 2
}