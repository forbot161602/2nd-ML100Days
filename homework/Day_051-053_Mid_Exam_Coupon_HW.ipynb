{
  "cells": [
    {
      "cell_type": "markdown",
      "metadata": {},
      "source": [
        "## \u6a5f\u5668\u5b78\u7fd2\u767e\u65e5\u99ac\u62c9\u677e\u671f\u4e2d\u7df4\u7fd2\u6e2c\u9a57\n",
        "\n",
        "#### Overview\n",
        "\n",
        "\u96a8\u8457\u79fb\u52d5\u8a2d\u5099\u7684\u5b8c\u5584\u548c\u666e\u53ca\uff0c\u96f6\u552e\u8207\u96fb\u5b50\u5546\u52d9\u9032\u5165\u4e86\u9ad8\u901f\u767c\u5c55\u968e\u6bb5\uff0c\u9019\u5176\u4e2d\u4ee5 O2O\uff08Online to Offline\uff09\u6d88\u8cbb\u6700\u70ba\u71b1\u7d61\u3002\u64da\u7d71\u8a08\uff0cO2O \u884c\u696d\u4f30\u503c\u4e0a\u5104\u7684\u5275\u696d\u516c\u53f8\u81f3\u5c11\u6709 10 \u5bb6\uff0c\u4e5f\u4e0d\u4e4f\u767e\u5104\u5de8\u982d\u7684\u8eab\u5f71\u3002O2O \u884c\u696d\u6bcf\u65e5\u81ea\u7136\u6d41\u91cf\u6709\u6578\u5104\u6d88\u8cbb\u8005\uff0c\u5404\u985e APP \u6bcf\u5929\u8a18\u9304\u4e86\u8d85\u904e\u767e\u5104\u689d\u7528\u6236\u884c\u70ba\u548c\u4f4d\u7f6e\u8a18\u9304\uff0c\u56e0\u800c\u6210\u70ba\u5927\u6578\u64da\u79d1\u7814\u548c\u5546\u696d\u5316\u904b\u71df\u7684\u6700\u4f73\u7d50\u5408\u9ede\u4e4b\u4e00\u3002\n",
        "\n",
        "\u4ee5\u512a\u60e0\u5238\u6d3b\u5316\u8001\u7528\u6236\u6216\u5438\u5f15\u65b0\u5ba2\u6236\u6d88\u8cbb\u662f O2O \u7684\u4e00\u7a2e\u91cd\u8981\u71df\u92b7\u65b9\u5f0f\u3002\u7136\u800c\uff0c\u96a8\u6a5f\u6295\u653e\u7684\u512a\u60e0\u5238\u5c0d\u591a\u6578\u7528\u6236\u9020\u6210\u7121\u610f\u7fa9\u7684\u5e72\u64fe\u3002\u5c0d\u5546\u5bb6\u800c\u8a00\uff0c\u6feb\u767c\u7684\u512a\u60e0\u5238\u53ef\u80fd\u964d\u4f4e\u54c1\u724c\u8072\u8b7d\uff0c\u540c\u6642\u96e3\u4ee5\u4f30\u7b97\u71df\u92b7\u6210\u672c\u3002\u500b\u6027\u5316\u6295\u653e\u662f\u63d0\u9ad8\u512a\u60e0\u5238\u6838\u92b7\u7387\u7684\u91cd\u8981\u6280\u8853\uff0c\u5b83\u53ef\u4ee5\u8b93\u5177\u6709\u4e00\u5b9a\u504f\u597d\u7684\u6d88\u8cbb\u8005\u5f97\u5230\u771f\u6b63\u7684\u5be6\u60e0\uff0c\u540c\u6642\u8ce6\u4e88\u5546\u5bb6\u66f4\u5f37\u7684\u71df\u92b7\u80fd\u529b\u3002\u672c\u6b21\u7df4\u7fd2\u6578\u64da\u64f7\u53d6\u81ea\u96fb\u5546\u4e4b\u90e8\u5206\u6578\u64da\uff0c\u5e0c\u671b\u5404\u4f4d\u901a\u904e\u5206\u6790\u5efa\u6a21\uff0c\u9810\u6e2c\u7528\u6236\u662f\u5426\u6703\u5728\u898f\u5b9a\u6642\u9593\u5167\u4f7f\u7528\u76f8\u61c9\u512a\u60e0\u5238\u3002\n",
        "\n",
        "#### Data\n",
        "\n",
        "\u672c\u8cfd\u984c\u63d0\u4f9b\u7528\u6236\u57282016\u5e741\u67081\u65e5\u81f32016\u5e745\u670831\u65e5\u4e4b\u9593\u771f\u5be6\u7dda\u4e0b\u6d88\u8cbb\u884c\u70ba\uff0c\u9810\u6e2c\u7528\u6236\u57282016\u5e746\u6708\u9818\u53d6\u512a\u60e0\u5238\u5f8c15\u5929\u4ee5\u5167\u7684\u4f7f\u7528\u60c5\u6cc1\u3002\n",
        "\n",
        "#### Evaluation\n",
        "\n",
        "\u672c\u8cfd\u984c\u76ee\u6a19\u662f\u9810\u6e2c\u6295\u653e\u7684\u512a\u60e0\u5238\u662f\u5426\u5728\u898f\u5b9a\u6642\u9593\u5167\u6838\u92b7\u3002\u91dd\u5c0d\u6b64\u4efb\u52d9\u53ca\u4e00\u4e9b\u76f8\u95dc\u80cc\u666f\u77e5\u8b58\uff0c\u4ee5\u8a72\u7528\u6236\u4f7f\u7528\u65bc\u67d0\u65e5\u53d6\u5f97\u4e4b\u512a\u60e0\u5238\u6838\u92b7\u9810\u6e2c AUC\uff08ROC \u66f2\u7dda\u4e0b\u9762\u7a4d\uff09\u4f5c\u70ba\u8a55\u50f9\u6a19\u6e96\u3002\u5373\u5c0d\u5c07 User_id - Date_received - Coupon_id \u70ba\u4e00\u7d44\u8a08\u7b97\u6838\u92b7\u9810\u6e2c\u7684AUC\u503c\uff0c\u82e5\u67d0\u4f7f\u7528\u8005\u65bc\u540c\u4e00\u65e5\u53d6\u5f97\u591a\u5f35\u76f8\u540c\u512a\u60e0\u5238\uff0c\u5247\u4efb\u4e00\u5f35\u6838\u92b7\u7686\u70ba\u6709\u6548\u6838\u92b7\u3002\n",
        "\n",
        "#### Reference\n",
        "\n",
        "[ml100marathon-02-01: Midterm exam for ML 100 marathon by Cupoy](https://www.kaggle.com/c/ml100marathon-02-01)\n",
        "\n",
        "[ml100marathon-02-01: Baseline example](https://www.kaggle.com/ml100marathon/baseline-example)"
      ]
    },
    {
      "cell_type": "markdown",
      "metadata": {},
      "source": [
        "## \u6e96\u5099\u5de5\u7a0b"
      ]
    },
    {
      "cell_type": "code",
      "execution_count": 1,
      "metadata": {},
      "outputs": [],
      "source": [
        "import os\n",
        "import time\n",
        "import functools\n",
        "import numpy as np\n",
        "import pandas as pd\n",
        "from datetime import date\n",
        "\n",
        "from IPython.display import display\n",
        "from sklearn.pipeline import Pipeline\n",
        "from sklearn.ensemble import RandomForestClassifier, GradientBoostingClassifier\n",
        "from sklearn.linear_model import SGDClassifier\n",
        "from sklearn.preprocessing import StandardScaler, MinMaxScaler\n",
        "from sklearn.model_selection import train_test_split, cross_val_score, StratifiedKFold, GridSearchCV\n",
        "from sklearn.metrics import accuracy_score, roc_auc_score"
      ]
    },
    {
      "cell_type": "code",
      "execution_count": 2,
      "metadata": {},
      "outputs": [],
      "source": [
        "data_path = './data/part04/'\n",
        "\n",
        "X_train = pd.read_csv(data_path + 'coupon_train.csv')\n",
        "X_test = pd.read_csv(data_path + 'coupon_test.csv')"
      ]
    },
    {
      "cell_type": "markdown",
      "metadata": {},
      "source": [
        "### 1. \u6d88\u53bb\u8cc7\u6599\u96c6\u6b04\u4f4d Coupon_id \u6216 Date_received \u70ba\u7a7a\u7f3a\u503c\u7684\u5217\uff0c\u9019\u4e9b\u5217\u7121\u6cd5\u7d44\u6210\u984c\u76ee\u8981\u6c42\u7684 uid\u3002"
      ]
    },
    {
      "cell_type": "code",
      "execution_count": 3,
      "metadata": {},
      "outputs": [],
      "source": [
        "X_train = X_train[~(X_train['Coupon_id'].isna() | X_train['Date_received'].isna())]\n",
        "X_test = X_test[~(X_test['Coupon_id'].isna() | X_test['Date_received'].isna())]"
      ]
    },
    {
      "cell_type": "markdown",
      "metadata": {},
      "source": [
        "### 2. \u6307\u5b9a\u9700\u8981\u91cd\u8907\u4f7f\u7528\u7684\u53c3\u6578\u3002"
      ]
    },
    {
      "cell_type": "code",
      "execution_count": 4,
      "metadata": {},
      "outputs": [],
      "source": [
        "X_all = pd.concat([X_train, X_test], axis=0, sort=False).reset_index(drop=True)\n",
        "\n",
        "X_train_length = X_train.shape[0]"
      ]
    },
    {
      "cell_type": "code",
      "execution_count": 5,
      "metadata": {},
      "outputs": [
        {
          "name": "stdout",
          "output_type": "stream",
          "text": [
            "(746969, 7)\n"
          ]
        },
        {
          "data": {
            "text/html": [
              "<div>\n",
              "<style scoped>\n",
              "    .dataframe tbody tr th:only-of-type {\n",
              "        vertical-align: middle;\n",
              "    }\n",
              "\n",
              "    .dataframe tbody tr th {\n",
              "        vertical-align: top;\n",
              "    }\n",
              "\n",
              "    .dataframe thead th {\n",
              "        text-align: right;\n",
              "    }\n",
              "</style>\n",
              "<table border=\"1\" class=\"dataframe\">\n",
              "  <thead>\n",
              "    <tr style=\"text-align: right;\">\n",
              "      <th></th>\n",
              "      <th>User_id</th>\n",
              "      <th>Merchant_id</th>\n",
              "      <th>Coupon_id</th>\n",
              "      <th>Discount_rate</th>\n",
              "      <th>Distance</th>\n",
              "      <th>Date_received</th>\n",
              "      <th>Date</th>\n",
              "    </tr>\n",
              "  </thead>\n",
              "  <tbody>\n",
              "    <tr>\n",
              "      <th>1</th>\n",
              "      <td>1439408</td>\n",
              "      <td>2632</td>\n",
              "      <td>8591.0</td>\n",
              "      <td>20:1</td>\n",
              "      <td>0.0</td>\n",
              "      <td>20160217.0</td>\n",
              "      <td>NaN</td>\n",
              "    </tr>\n",
              "    <tr>\n",
              "      <th>2</th>\n",
              "      <td>1439408</td>\n",
              "      <td>2632</td>\n",
              "      <td>1078.0</td>\n",
              "      <td>20:1</td>\n",
              "      <td>0.0</td>\n",
              "      <td>20160319.0</td>\n",
              "      <td>NaN</td>\n",
              "    </tr>\n",
              "    <tr>\n",
              "      <th>3</th>\n",
              "      <td>1832624</td>\n",
              "      <td>3381</td>\n",
              "      <td>7610.0</td>\n",
              "      <td>200:20</td>\n",
              "      <td>0.0</td>\n",
              "      <td>20160429.0</td>\n",
              "      <td>NaN</td>\n",
              "    </tr>\n",
              "    <tr>\n",
              "      <th>4</th>\n",
              "      <td>2029232</td>\n",
              "      <td>3381</td>\n",
              "      <td>11951.0</td>\n",
              "      <td>200:20</td>\n",
              "      <td>1.0</td>\n",
              "      <td>20160129.0</td>\n",
              "      <td>NaN</td>\n",
              "    </tr>\n",
              "    <tr>\n",
              "      <th>5</th>\n",
              "      <td>2223968</td>\n",
              "      <td>3381</td>\n",
              "      <td>9776.0</td>\n",
              "      <td>10:5</td>\n",
              "      <td>2.0</td>\n",
              "      <td>20160129.0</td>\n",
              "      <td>NaN</td>\n",
              "    </tr>\n",
              "  </tbody>\n",
              "</table>\n",
              "</div>"
            ],
            "text/plain": [
              "   User_id  Merchant_id  Coupon_id Discount_rate  Distance  Date_received  \\\n",
              "1  1439408         2632     8591.0          20:1       0.0     20160217.0   \n",
              "2  1439408         2632     1078.0          20:1       0.0     20160319.0   \n",
              "3  1832624         3381     7610.0        200:20       0.0     20160429.0   \n",
              "4  2029232         3381    11951.0        200:20       1.0     20160129.0   \n",
              "5  2223968         3381     9776.0          10:5       2.0     20160129.0   \n",
              "\n",
              "   Date  \n",
              "1   NaN  \n",
              "2   NaN  \n",
              "3   NaN  \n",
              "4   NaN  \n",
              "5   NaN  "
            ]
          },
          "execution_count": 5,
          "metadata": {},
          "output_type": "execute_result"
        }
      ],
      "source": [
        "print(X_train.shape)\n",
        "X_train.head()"
      ]
    },
    {
      "cell_type": "code",
      "execution_count": 6,
      "metadata": {},
      "outputs": [
        {
          "name": "stdout",
          "output_type": "stream",
          "text": [
            "(306313, 6)\n"
          ]
        },
        {
          "data": {
            "text/html": [
              "<div>\n",
              "<style scoped>\n",
              "    .dataframe tbody tr th:only-of-type {\n",
              "        vertical-align: middle;\n",
              "    }\n",
              "\n",
              "    .dataframe tbody tr th {\n",
              "        vertical-align: top;\n",
              "    }\n",
              "\n",
              "    .dataframe thead th {\n",
              "        text-align: right;\n",
              "    }\n",
              "</style>\n",
              "<table border=\"1\" class=\"dataframe\">\n",
              "  <thead>\n",
              "    <tr style=\"text-align: right;\">\n",
              "      <th></th>\n",
              "      <th>User_id</th>\n",
              "      <th>Merchant_id</th>\n",
              "      <th>Coupon_id</th>\n",
              "      <th>Discount_rate</th>\n",
              "      <th>Distance</th>\n",
              "      <th>Date_received</th>\n",
              "    </tr>\n",
              "  </thead>\n",
              "  <tbody>\n",
              "    <tr>\n",
              "      <th>0</th>\n",
              "      <td>1439408</td>\n",
              "      <td>4663</td>\n",
              "      <td>11002.0</td>\n",
              "      <td>150:20</td>\n",
              "      <td>1.0</td>\n",
              "      <td>20160528.0</td>\n",
              "    </tr>\n",
              "    <tr>\n",
              "      <th>1</th>\n",
              "      <td>1439408</td>\n",
              "      <td>2632</td>\n",
              "      <td>8591.0</td>\n",
              "      <td>20:1</td>\n",
              "      <td>0.0</td>\n",
              "      <td>20160613.0</td>\n",
              "    </tr>\n",
              "    <tr>\n",
              "      <th>3</th>\n",
              "      <td>1439408</td>\n",
              "      <td>2632</td>\n",
              "      <td>8591.0</td>\n",
              "      <td>20:1</td>\n",
              "      <td>0.0</td>\n",
              "      <td>20160516.0</td>\n",
              "    </tr>\n",
              "    <tr>\n",
              "      <th>4</th>\n",
              "      <td>2029232</td>\n",
              "      <td>450</td>\n",
              "      <td>1532.0</td>\n",
              "      <td>30:5</td>\n",
              "      <td>0.0</td>\n",
              "      <td>20160530.0</td>\n",
              "    </tr>\n",
              "    <tr>\n",
              "      <th>5</th>\n",
              "      <td>2029232</td>\n",
              "      <td>6459</td>\n",
              "      <td>12737.0</td>\n",
              "      <td>20:1</td>\n",
              "      <td>0.0</td>\n",
              "      <td>20160519.0</td>\n",
              "    </tr>\n",
              "  </tbody>\n",
              "</table>\n",
              "</div>"
            ],
            "text/plain": [
              "   User_id  Merchant_id  Coupon_id Discount_rate  Distance  Date_received\n",
              "0  1439408         4663    11002.0        150:20       1.0     20160528.0\n",
              "1  1439408         2632     8591.0          20:1       0.0     20160613.0\n",
              "3  1439408         2632     8591.0          20:1       0.0     20160516.0\n",
              "4  2029232          450     1532.0          30:5       0.0     20160530.0\n",
              "5  2029232         6459    12737.0          20:1       0.0     20160519.0"
            ]
          },
          "execution_count": 6,
          "metadata": {},
          "output_type": "execute_result"
        }
      ],
      "source": [
        "print(X_test.shape)\n",
        "X_test.head()"
      ]
    },
    {
      "cell_type": "code",
      "execution_count": 7,
      "metadata": {},
      "outputs": [
        {
          "name": "stdout",
          "output_type": "stream",
          "text": [
            "(1053282, 7)\n"
          ]
        },
        {
          "data": {
            "text/html": [
              "<div>\n",
              "<style scoped>\n",
              "    .dataframe tbody tr th:only-of-type {\n",
              "        vertical-align: middle;\n",
              "    }\n",
              "\n",
              "    .dataframe tbody tr th {\n",
              "        vertical-align: top;\n",
              "    }\n",
              "\n",
              "    .dataframe thead th {\n",
              "        text-align: right;\n",
              "    }\n",
              "</style>\n",
              "<table border=\"1\" class=\"dataframe\">\n",
              "  <thead>\n",
              "    <tr style=\"text-align: right;\">\n",
              "      <th></th>\n",
              "      <th>User_id</th>\n",
              "      <th>Merchant_id</th>\n",
              "      <th>Coupon_id</th>\n",
              "      <th>Discount_rate</th>\n",
              "      <th>Distance</th>\n",
              "      <th>Date_received</th>\n",
              "      <th>Date</th>\n",
              "    </tr>\n",
              "  </thead>\n",
              "  <tbody>\n",
              "    <tr>\n",
              "      <th>0</th>\n",
              "      <td>1439408</td>\n",
              "      <td>2632</td>\n",
              "      <td>8591.0</td>\n",
              "      <td>20:1</td>\n",
              "      <td>0.0</td>\n",
              "      <td>20160217.0</td>\n",
              "      <td>NaN</td>\n",
              "    </tr>\n",
              "    <tr>\n",
              "      <th>1</th>\n",
              "      <td>1439408</td>\n",
              "      <td>2632</td>\n",
              "      <td>1078.0</td>\n",
              "      <td>20:1</td>\n",
              "      <td>0.0</td>\n",
              "      <td>20160319.0</td>\n",
              "      <td>NaN</td>\n",
              "    </tr>\n",
              "    <tr>\n",
              "      <th>2</th>\n",
              "      <td>1832624</td>\n",
              "      <td>3381</td>\n",
              "      <td>7610.0</td>\n",
              "      <td>200:20</td>\n",
              "      <td>0.0</td>\n",
              "      <td>20160429.0</td>\n",
              "      <td>NaN</td>\n",
              "    </tr>\n",
              "    <tr>\n",
              "      <th>3</th>\n",
              "      <td>2029232</td>\n",
              "      <td>3381</td>\n",
              "      <td>11951.0</td>\n",
              "      <td>200:20</td>\n",
              "      <td>1.0</td>\n",
              "      <td>20160129.0</td>\n",
              "      <td>NaN</td>\n",
              "    </tr>\n",
              "    <tr>\n",
              "      <th>4</th>\n",
              "      <td>2223968</td>\n",
              "      <td>3381</td>\n",
              "      <td>9776.0</td>\n",
              "      <td>10:5</td>\n",
              "      <td>2.0</td>\n",
              "      <td>20160129.0</td>\n",
              "      <td>NaN</td>\n",
              "    </tr>\n",
              "  </tbody>\n",
              "</table>\n",
              "</div>"
            ],
            "text/plain": [
              "   User_id  Merchant_id  Coupon_id Discount_rate  Distance  Date_received  \\\n",
              "0  1439408         2632     8591.0          20:1       0.0     20160217.0   \n",
              "1  1439408         2632     1078.0          20:1       0.0     20160319.0   \n",
              "2  1832624         3381     7610.0        200:20       0.0     20160429.0   \n",
              "3  2029232         3381    11951.0        200:20       1.0     20160129.0   \n",
              "4  2223968         3381     9776.0          10:5       2.0     20160129.0   \n",
              "\n",
              "   Date  \n",
              "0   NaN  \n",
              "1   NaN  \n",
              "2   NaN  \n",
              "3   NaN  \n",
              "4   NaN  "
            ]
          },
          "execution_count": 7,
          "metadata": {},
          "output_type": "execute_result"
        }
      ],
      "source": [
        "print(X_all.shape)\n",
        "X_all.head()"
      ]
    },
    {
      "cell_type": "code",
      "execution_count": 8,
      "metadata": {},
      "outputs": [
        {
          "data": {
            "text/plain": [
              "User_id            int64\n",
              "Merchant_id        int64\n",
              "Coupon_id        float64\n",
              "Discount_rate     object\n",
              "Distance         float64\n",
              "Date_received    float64\n",
              "Date             float64\n",
              "dtype: object"
            ]
          },
          "execution_count": 8,
          "metadata": {},
          "output_type": "execute_result"
        }
      ],
      "source": [
        "X_all.dtypes"
      ]
    },
    {
      "cell_type": "markdown",
      "metadata": {},
      "source": [
        "## \u7279\u5fb5\u5de5\u7a0b"
      ]
    },
    {
      "cell_type": "markdown",
      "metadata": {},
      "source": [
        "### 1. \u6aa2\u67e5\u7a7a\u7f3a\u503c"
      ]
    },
    {
      "cell_type": "code",
      "execution_count": 9,
      "metadata": {},
      "outputs": [
        {
          "data": {
            "text/html": [
              "<div>\n",
              "<style scoped>\n",
              "    .dataframe tbody tr th:only-of-type {\n",
              "        vertical-align: middle;\n",
              "    }\n",
              "\n",
              "    .dataframe tbody tr th {\n",
              "        vertical-align: top;\n",
              "    }\n",
              "\n",
              "    .dataframe thead th {\n",
              "        text-align: right;\n",
              "    }\n",
              "</style>\n",
              "<table border=\"1\" class=\"dataframe\">\n",
              "  <thead>\n",
              "    <tr style=\"text-align: right;\">\n",
              "      <th></th>\n",
              "      <th>Missing Ratio</th>\n",
              "    </tr>\n",
              "  </thead>\n",
              "  <tbody>\n",
              "    <tr>\n",
              "      <th>Date</th>\n",
              "      <td>95.923599</td>\n",
              "    </tr>\n",
              "    <tr>\n",
              "      <th>Distance</th>\n",
              "      <td>10.064066</td>\n",
              "    </tr>\n",
              "  </tbody>\n",
              "</table>\n",
              "</div>"
            ],
            "text/plain": [
              "          Missing Ratio\n",
              "Date          95.923599\n",
              "Distance      10.064066"
            ]
          },
          "metadata": {},
          "output_type": "display_data"
        }
      ],
      "source": [
        "def check_nan(df):\n",
        "    df_nan_ratio = (df.isnull().sum() / len(df)) * 100\n",
        "    df_nan_ratio = df_nan_ratio.drop(df_nan_ratio[df_nan_ratio == 0].index).sort_values(ascending=False)\n",
        "    df_nan_ratio = pd.DataFrame({'Missing Ratio': df_nan_ratio})\n",
        "    display(df_nan_ratio.head(10))\n",
        "\n",
        "check_nan(X_all)"
      ]
    },
    {
      "cell_type": "markdown",
      "metadata": {},
      "source": [
        "### 2-1. \u6a19\u8a18\u7a7a\u7f3a\u503c\u70ba -1 \u65bc\u6578\u503c\u6b04\u4f4d"
      ]
    },
    {
      "cell_type": "code",
      "execution_count": 10,
      "metadata": {},
      "outputs": [],
      "source": [
        "X_all['Date'] = X_all['Date'].replace({np.nan: -1}).astype('int64')"
      ]
    },
    {
      "cell_type": "markdown",
      "metadata": {},
      "source": [
        "### 2-2. \u4f7f\u7528\u4e2d\u4f4d\u6578\u586b\u88dc Distance \u6b04\u4f4d"
      ]
    },
    {
      "cell_type": "code",
      "execution_count": 11,
      "metadata": {},
      "outputs": [],
      "source": [
        "X_all.loc[X_all['Distance'].isna(), ['Distance']] = X_all['Distance'].median()"
      ]
    },
    {
      "cell_type": "markdown",
      "metadata": {},
      "source": [
        "### 2-3. \u5c07\u660e\u986f\u70ba\u985e\u5225\u8cc7\u6599\u7684\u6b04\u4f4d\u8f49\u6210\u7269\u4ef6\u6b04\u4f4d"
      ]
    },
    {
      "cell_type": "code",
      "execution_count": 12,
      "metadata": {},
      "outputs": [],
      "source": [
        "def cast_column_to_str(df, column):\n",
        "    df[column] = df[column].astype('int64').astype(str)\n",
        "\n",
        "cast_column_to_str(X_all, 'User_id')\n",
        "cast_column_to_str(X_all, 'Merchant_id')\n",
        "cast_column_to_str(X_all, 'Coupon_id')\n",
        "cast_column_to_str(X_all, 'Date_received')\n",
        "cast_column_to_str(X_all, 'Date')"
      ]
    },
    {
      "cell_type": "markdown",
      "metadata": {},
      "source": [
        "### 2-4. \u518d\u6b21\u6aa2\u67e5\u7a7a\u7f3a\u503c"
      ]
    },
    {
      "cell_type": "code",
      "execution_count": 13,
      "metadata": {},
      "outputs": [
        {
          "data": {
            "text/html": [
              "<div>\n",
              "<style scoped>\n",
              "    .dataframe tbody tr th:only-of-type {\n",
              "        vertical-align: middle;\n",
              "    }\n",
              "\n",
              "    .dataframe tbody tr th {\n",
              "        vertical-align: top;\n",
              "    }\n",
              "\n",
              "    .dataframe thead th {\n",
              "        text-align: right;\n",
              "    }\n",
              "</style>\n",
              "<table border=\"1\" class=\"dataframe\">\n",
              "  <thead>\n",
              "    <tr style=\"text-align: right;\">\n",
              "      <th></th>\n",
              "      <th>Missing Ratio</th>\n",
              "    </tr>\n",
              "  </thead>\n",
              "  <tbody>\n",
              "  </tbody>\n",
              "</table>\n",
              "</div>"
            ],
            "text/plain": [
              "Empty DataFrame\n",
              "Columns: [Missing Ratio]\n",
              "Index: []"
            ]
          },
          "metadata": {},
          "output_type": "display_data"
        }
      ],
      "source": [
        "check_nan(X_all)"
      ]
    },
    {
      "cell_type": "code",
      "execution_count": 14,
      "metadata": {},
      "outputs": [
        {
          "data": {
            "text/html": [
              "<div>\n",
              "<style scoped>\n",
              "    .dataframe tbody tr th:only-of-type {\n",
              "        vertical-align: middle;\n",
              "    }\n",
              "\n",
              "    .dataframe tbody tr th {\n",
              "        vertical-align: top;\n",
              "    }\n",
              "\n",
              "    .dataframe thead th {\n",
              "        text-align: right;\n",
              "    }\n",
              "</style>\n",
              "<table border=\"1\" class=\"dataframe\">\n",
              "  <thead>\n",
              "    <tr style=\"text-align: right;\">\n",
              "      <th></th>\n",
              "      <th>User_id</th>\n",
              "      <th>Merchant_id</th>\n",
              "      <th>Coupon_id</th>\n",
              "      <th>Discount_rate</th>\n",
              "      <th>Distance</th>\n",
              "      <th>Date_received</th>\n",
              "      <th>Date</th>\n",
              "    </tr>\n",
              "  </thead>\n",
              "  <tbody>\n",
              "    <tr>\n",
              "      <th>0</th>\n",
              "      <td>1439408</td>\n",
              "      <td>2632</td>\n",
              "      <td>8591</td>\n",
              "      <td>20:1</td>\n",
              "      <td>0.0</td>\n",
              "      <td>20160217</td>\n",
              "      <td>-1</td>\n",
              "    </tr>\n",
              "    <tr>\n",
              "      <th>1</th>\n",
              "      <td>1439408</td>\n",
              "      <td>2632</td>\n",
              "      <td>1078</td>\n",
              "      <td>20:1</td>\n",
              "      <td>0.0</td>\n",
              "      <td>20160319</td>\n",
              "      <td>-1</td>\n",
              "    </tr>\n",
              "    <tr>\n",
              "      <th>2</th>\n",
              "      <td>1832624</td>\n",
              "      <td>3381</td>\n",
              "      <td>7610</td>\n",
              "      <td>200:20</td>\n",
              "      <td>0.0</td>\n",
              "      <td>20160429</td>\n",
              "      <td>-1</td>\n",
              "    </tr>\n",
              "    <tr>\n",
              "      <th>3</th>\n",
              "      <td>2029232</td>\n",
              "      <td>3381</td>\n",
              "      <td>11951</td>\n",
              "      <td>200:20</td>\n",
              "      <td>1.0</td>\n",
              "      <td>20160129</td>\n",
              "      <td>-1</td>\n",
              "    </tr>\n",
              "    <tr>\n",
              "      <th>4</th>\n",
              "      <td>2223968</td>\n",
              "      <td>3381</td>\n",
              "      <td>9776</td>\n",
              "      <td>10:5</td>\n",
              "      <td>2.0</td>\n",
              "      <td>20160129</td>\n",
              "      <td>-1</td>\n",
              "    </tr>\n",
              "  </tbody>\n",
              "</table>\n",
              "</div>"
            ],
            "text/plain": [
              "   User_id Merchant_id Coupon_id Discount_rate  Distance Date_received Date\n",
              "0  1439408        2632      8591          20:1       0.0      20160217   -1\n",
              "1  1439408        2632      1078          20:1       0.0      20160319   -1\n",
              "2  1832624        3381      7610        200:20       0.0      20160429   -1\n",
              "3  2029232        3381     11951        200:20       1.0      20160129   -1\n",
              "4  2223968        3381      9776          10:5       2.0      20160129   -1"
            ]
          },
          "execution_count": 14,
          "metadata": {},
          "output_type": "execute_result"
        }
      ],
      "source": [
        "X_all.head()"
      ]
    },
    {
      "cell_type": "code",
      "execution_count": 15,
      "metadata": {},
      "outputs": [
        {
          "data": {
            "text/plain": [
              "User_id           object\n",
              "Merchant_id       object\n",
              "Coupon_id         object\n",
              "Discount_rate     object\n",
              "Distance         float64\n",
              "Date_received     object\n",
              "Date              object\n",
              "dtype: object"
            ]
          },
          "execution_count": 15,
          "metadata": {},
          "output_type": "execute_result"
        }
      ],
      "source": [
        "X_all.dtypes"
      ]
    },
    {
      "cell_type": "markdown",
      "metadata": {},
      "source": [
        "### 3-1. \u65b0\u589e\u6b04\u4f4d uid"
      ]
    },
    {
      "cell_type": "code",
      "execution_count": 16,
      "metadata": {},
      "outputs": [],
      "source": [
        "X_all['uid'] = X_all[['User_id', 'Coupon_id', 'Date_received']].apply(lambda x: '_'.join(x.values), axis=1)"
      ]
    },
    {
      "cell_type": "markdown",
      "metadata": {},
      "source": [
        "### 3-2. \u65b0\u589e\u6b04\u4f4d ui_dr_count\u3001mi_dr_count\u3001ci_dr_count\n",
        "\n",
        "#### \u5206\u5225\u4ee5 User_id\u3001Merchant_id\u3001Coupon_id \u5206\u7d44\u4e26\u8a08\u6578\uff0c\u9019\u4ee3\u8868\u66fe\u7d93\u64c1\u6709\u3001\u767c\u884c\u3001\u6d41\u901a\u7684\u512a\u60e0\u5238\u6578\u91cf\u3002"
      ]
    },
    {
      "cell_type": "code",
      "execution_count": 17,
      "metadata": {},
      "outputs": [],
      "source": [
        "def make_own_counts(df, new_column, by_column, target_column, default_value=0):\n",
        "    df_temp = df.groupby([by_column], as_index=False).count()\n",
        "    df_temp = df_temp.rename(columns={target_column: new_column})\n",
        "    return pd.merge(df, df_temp[[by_column, new_column]], how='outer', sort=False, on=by_column)\n",
        "\n",
        "X_all = make_own_counts(X_all, 'ui_dr_count', 'User_id', 'Date_received')\n",
        "X_all = make_own_counts(X_all, 'mi_dr_count', 'Merchant_id', 'Date_received')\n",
        "X_all = make_own_counts(X_all, 'ci_dr_count', 'Coupon_id', 'Date_received')"
      ]
    },
    {
      "cell_type": "markdown",
      "metadata": {},
      "source": [
        "### 3-3. \u65b0\u589e\u6b04\u4f4d ui_dt_count\u3001mi_dt_count\u3001ci_dt_count\n",
        "\n",
        "#### \u5206\u5225\u4ee5 User_id\u3001Merchant_id\u3001Coupon_id \u5206\u7d44\u4e26\u8a08\u6578\u975e\u7a7a\u503c\u7684 Date\uff0c\u9019\u4ee3\u8868\u66fe\u7d93\u4f7f\u7528\u6216\u88ab\u4f7f\u7528\u7684\u512a\u60e0\u5238\u6578\u91cf\u3002"
      ]
    },
    {
      "cell_type": "code",
      "execution_count": 18,
      "metadata": {},
      "outputs": [],
      "source": [
        "def make_usage_counts(df, new_column, by_column, target_column, select_condition, default_value=0):\n",
        "    df_temp = df[select_condition].groupby([by_column], as_index=False).count()\n",
        "    df_temp = df_temp.rename(columns={target_column: new_column})\n",
        "    df_temp = pd.merge(df, df_temp[[by_column, new_column]], how='outer', sort=False, on=by_column)\n",
        "    df_temp[new_column] = df_temp[new_column].replace({np.nan: default_value})\n",
        "    return df_temp\n",
        "\n",
        "select_condition = X_all['Date'] != '-1'\n",
        "X_all = make_usage_counts(X_all, 'ui_dt_count', 'User_id', 'Date', select_condition)\n",
        "X_all = make_usage_counts(X_all, 'mi_dt_count', 'Merchant_id', 'Date', select_condition)\n",
        "X_all = make_usage_counts(X_all, 'ci_dt_count', 'Coupon_id', 'Date', select_condition)"
      ]
    },
    {
      "cell_type": "markdown",
      "metadata": {},
      "source": [
        "### 3-4. \u65b0\u589e\u6b04\u4f4d dr_type\u3001dr_req_price\u3001dr_off_price\u3001dr_dsc_rate"
      ]
    },
    {
      "cell_type": "markdown",
      "metadata": {},
      "source": [
        "#### \u7de8\u78bc\u6298\u50f9\u7387\u5f62\u5f0f\u662f\u6d6e\u9ede\u6578\u8005\u70ba 0\uff0c(\\d+:\\d+) \u8005\u70ba 1\uff0c\u89c0\u5bdf\u8cc7\u6599\u53ef\u77e5\u53ea\u6709\u9019\u5169\u7a2e\u3002"
      ]
    },
    {
      "cell_type": "code",
      "execution_count": 19,
      "metadata": {},
      "outputs": [],
      "source": [
        "def get_dr_type(column):\n",
        "    if ':' not in column:\n",
        "        return 0\n",
        "    return 1\n",
        "\n",
        "X_all['dr_type'] = X_all['Discount_rate'].apply(get_dr_type)"
      ]
    },
    {
      "cell_type": "markdown",
      "metadata": {},
      "source": [
        "#### \u62c6\u9664 (\\d+:\\d+) \u5f62\u5f0f\u7684\u6298\u50f9\u7387\uff0c\u6307\u6d3e\u5230 dr_req_price\u3001dr_off_price \u5169\u500b\u6b04\u4f4d\u4e0a\uff0c\u5206\u5225\u4ee3\u8868\u6eff x \u5143\u6298 y \u5143\u7684\u512a\u5f85\u3002"
      ]
    },
    {
      "cell_type": "code",
      "execution_count": 20,
      "metadata": {},
      "outputs": [],
      "source": [
        "def get_dr_req_price(row):\n",
        "    return int(row['Discount_rate'].partition(':')[0])\n",
        "\n",
        "def get_dr_off_price(row):\n",
        "    return int(row['Discount_rate'].rpartition(':')[2])\n",
        "\n",
        "select_condition = X_all['dr_type'] == 1\n",
        "X_all['dr_req_price'] = X_all[select_condition].apply(get_dr_req_price, axis=1)\n",
        "X_all['dr_off_price'] = X_all[select_condition].apply(get_dr_off_price, axis=1)"
      ]
    },
    {
      "cell_type": "markdown",
      "metadata": {},
      "source": [
        "#### \u586b\u88dc dr_req_price \u7684\u7a7a\u7f3a\u503c\uff1a\u773e\u6578\u3002"
      ]
    },
    {
      "cell_type": "code",
      "execution_count": 21,
      "metadata": {},
      "outputs": [],
      "source": [
        "def get_no_nan_dr_req_price(df):\n",
        "    return df[~df['dr_req_price'].isna()]['dr_req_price'].mode()[0]\n",
        "\n",
        "X_all.loc[X_all['dr_req_price'].isna(), ['dr_req_price']] = get_no_nan_dr_req_price(X_all)"
      ]
    },
    {
      "cell_type": "markdown",
      "metadata": {},
      "source": [
        "#### \u586b\u88dc dr_off_price \u7684\u7a7a\u7f3a\u503c\uff1adr_req_price * (1 - Discount_rate)\u3002"
      ]
    },
    {
      "cell_type": "code",
      "execution_count": 22,
      "metadata": {},
      "outputs": [],
      "source": [
        "def get_no_nan_dr_off_price(row):\n",
        "    return row['dr_req_price'] * (1 - float(row['Discount_rate']))\n",
        "\n",
        "select_condition = X_all['dr_type'] == 0\n",
        "X_all.loc[X_all['dr_off_price'].isna(), ['dr_off_price']] = X_all[select_condition].apply(get_no_nan_dr_off_price, axis=1)"
      ]
    },
    {
      "cell_type": "markdown",
      "metadata": {},
      "source": [
        "#### \u65b0\u589e dr_dsc_rate \u4ee3\u8868\u4ee5\u6d6e\u9ede\u6578\u8868\u793a\u7684\u65b0\u6298\u50f9\u7387\u3002"
      ]
    },
    {
      "cell_type": "code",
      "execution_count": 23,
      "metadata": {},
      "outputs": [],
      "source": [
        "def get_dr_dsc_rate(row):\n",
        "    return 1 - row['dr_off_price'] / row['dr_req_price']\n",
        "\n",
        "X_all['dr_dsc_rate'] = X_all.apply(get_dr_dsc_rate, axis=1)"
      ]
    },
    {
      "cell_type": "markdown",
      "metadata": {},
      "source": [
        "### 3-5. \u65b0\u589e\u6b04\u4f4d dr_weekday\u3001dr_weekday_type\u3001dr_weekday_1\u3001dr_weekday_2\u3001...\u3001dr_weekday_7"
      ]
    },
    {
      "cell_type": "markdown",
      "metadata": {},
      "source": [
        "#### \u5c07 Date_received \u8f49\u63db\u6210 dr_weekday \u7684\u6b04\u4f4d\uff0c\u610f\u7fa9\u70ba\u6d88\u8cbb\u8005\u662f\u661f\u671f\u5e7e\u62ff\u5230\u8a72\u5f35\u6298\u50f9\u5238\u3002"
      ]
    },
    {
      "cell_type": "code",
      "execution_count": 24,
      "metadata": {},
      "outputs": [],
      "source": [
        "def get_dr_weekday(row):\n",
        "    return pd.to_datetime(row['Date_received'], format='%Y%m%d').dayofweek + 1\n",
        "\n",
        "X_all['dr_weekday'] = X_all.apply(get_dr_weekday, axis=1)"
      ]
    },
    {
      "cell_type": "markdown",
      "metadata": {},
      "source": [
        "#### \u5c07 dr_weekday \u8f49\u63db\u6210 dr_weekday_type \u7684\u6b04\u4f4d\uff0c\u610f\u7fa9\u70ba\u6d88\u8cbb\u8005\u62ff\u5230\u8a72\u5f35\u6298\u50f9\u5238\u662f\u5728\u5e73\u65e5\u6216\u662f\u5047\u65e5\u3002"
      ]
    },
    {
      "cell_type": "code",
      "execution_count": 25,
      "metadata": {},
      "outputs": [],
      "source": [
        "weekend_day = set([6, 7])\n",
        "\n",
        "def get_dr_weekday_type(row):\n",
        "    return 1 if row['dr_weekday'] in weekend_day else 0\n",
        "\n",
        "X_all['dr_weekday_type'] = X_all.apply(get_dr_weekday_type, axis=1)"
      ]
    },
    {
      "cell_type": "markdown",
      "metadata": {},
      "source": [
        "#### \u7368\u71b1\u7de8\u78bc dr_weekday\u3002"
      ]
    },
    {
      "cell_type": "code",
      "execution_count": 26,
      "metadata": {},
      "outputs": [],
      "source": [
        "weekday_cols = ['dr_weekday_{}'.format(i) for i in range(1,8)]\n",
        "\n",
        "def make_dr_weekday_n(df):\n",
        "    df_temp = pd.get_dummies(df['dr_weekday'])\n",
        "    df_temp.columns = weekday_cols\n",
        "    return df_temp\n",
        "\n",
        "X_all[weekday_cols] = make_dr_weekday_n(X_all)"
      ]
    },
    {
      "cell_type": "markdown",
      "metadata": {},
      "source": [
        "### 4-1. \u65b0\u589e\u6b04\u4f4d target"
      ]
    },
    {
      "cell_type": "markdown",
      "metadata": {},
      "source": [
        "#### \u8a13\u7df4\u8cc7\u6599 Date \u70ba -1 \u6216 Date - Date_received > 15 \u5929\u8005\u6a19\u8a18\u70ba 0\uff0c\u5176\u9918\u6a19\u8a18\u70ba 1\u3002"
      ]
    },
    {
      "cell_type": "code",
      "execution_count": 27,
      "metadata": {},
      "outputs": [],
      "source": [
        "def get_target(row):\n",
        "    if row['Date'] == '-1':\n",
        "        return 0\n",
        "    td = pd.to_datetime(row['Date'], format='%Y%m%d') - pd.to_datetime(row['Date_received'], format='%Y%m%d')\n",
        "    if td > pd.Timedelta(15, 'D'):\n",
        "        return 0\n",
        "    return 1\n",
        "\n",
        "X_all['target'] = X_all.apply(get_target, axis=1)"
      ]
    },
    {
      "cell_type": "markdown",
      "metadata": {},
      "source": [
        "## \u8a13\u7df4\u6a21\u578b"
      ]
    },
    {
      "cell_type": "markdown",
      "metadata": {},
      "source": [
        "### 1. \u8cc7\u6599\u4fdd\u5b58\u8207\u8b80\u53d6"
      ]
    },
    {
      "cell_type": "code",
      "execution_count": 28,
      "metadata": {},
      "outputs": [
        {
          "data": {
            "text/html": [
              "<div>\n",
              "<style scoped>\n",
              "    .dataframe tbody tr th:only-of-type {\n",
              "        vertical-align: middle;\n",
              "    }\n",
              "\n",
              "    .dataframe tbody tr th {\n",
              "        vertical-align: top;\n",
              "    }\n",
              "\n",
              "    .dataframe thead th {\n",
              "        text-align: right;\n",
              "    }\n",
              "</style>\n",
              "<table border=\"1\" class=\"dataframe\">\n",
              "  <thead>\n",
              "    <tr style=\"text-align: right;\">\n",
              "      <th></th>\n",
              "      <th>User_id</th>\n",
              "      <th>Merchant_id</th>\n",
              "      <th>Coupon_id</th>\n",
              "      <th>Discount_rate</th>\n",
              "      <th>Distance</th>\n",
              "      <th>Date_received</th>\n",
              "      <th>Date</th>\n",
              "      <th>uid</th>\n",
              "      <th>ui_dr_count</th>\n",
              "      <th>mi_dr_count</th>\n",
              "      <th>...</th>\n",
              "      <th>dr_weekday</th>\n",
              "      <th>dr_weekday_type</th>\n",
              "      <th>dr_weekday_1</th>\n",
              "      <th>dr_weekday_2</th>\n",
              "      <th>dr_weekday_3</th>\n",
              "      <th>dr_weekday_4</th>\n",
              "      <th>dr_weekday_5</th>\n",
              "      <th>dr_weekday_6</th>\n",
              "      <th>dr_weekday_7</th>\n",
              "      <th>target</th>\n",
              "    </tr>\n",
              "  </thead>\n",
              "  <tbody>\n",
              "    <tr>\n",
              "      <th>0</th>\n",
              "      <td>1439408</td>\n",
              "      <td>2632</td>\n",
              "      <td>8591</td>\n",
              "      <td>20:1</td>\n",
              "      <td>0.0</td>\n",
              "      <td>20160217</td>\n",
              "      <td>-1</td>\n",
              "      <td>1439408_8591_20160217</td>\n",
              "      <td>5</td>\n",
              "      <td>43</td>\n",
              "      <td>...</td>\n",
              "      <td>3</td>\n",
              "      <td>0</td>\n",
              "      <td>0</td>\n",
              "      <td>0</td>\n",
              "      <td>1</td>\n",
              "      <td>0</td>\n",
              "      <td>0</td>\n",
              "      <td>0</td>\n",
              "      <td>0</td>\n",
              "      <td>0</td>\n",
              "    </tr>\n",
              "    <tr>\n",
              "      <th>1</th>\n",
              "      <td>1439408</td>\n",
              "      <td>2632</td>\n",
              "      <td>8591</td>\n",
              "      <td>20:1</td>\n",
              "      <td>0.0</td>\n",
              "      <td>20160613</td>\n",
              "      <td>-1</td>\n",
              "      <td>1439408_8591_20160613</td>\n",
              "      <td>5</td>\n",
              "      <td>43</td>\n",
              "      <td>...</td>\n",
              "      <td>1</td>\n",
              "      <td>0</td>\n",
              "      <td>1</td>\n",
              "      <td>0</td>\n",
              "      <td>0</td>\n",
              "      <td>0</td>\n",
              "      <td>0</td>\n",
              "      <td>0</td>\n",
              "      <td>0</td>\n",
              "      <td>0</td>\n",
              "    </tr>\n",
              "    <tr>\n",
              "      <th>2</th>\n",
              "      <td>1439408</td>\n",
              "      <td>2632</td>\n",
              "      <td>8591</td>\n",
              "      <td>20:1</td>\n",
              "      <td>0.0</td>\n",
              "      <td>20160516</td>\n",
              "      <td>-1</td>\n",
              "      <td>1439408_8591_20160516</td>\n",
              "      <td>5</td>\n",
              "      <td>43</td>\n",
              "      <td>...</td>\n",
              "      <td>1</td>\n",
              "      <td>0</td>\n",
              "      <td>1</td>\n",
              "      <td>0</td>\n",
              "      <td>0</td>\n",
              "      <td>0</td>\n",
              "      <td>0</td>\n",
              "      <td>0</td>\n",
              "      <td>0</td>\n",
              "      <td>0</td>\n",
              "    </tr>\n",
              "    <tr>\n",
              "      <th>3</th>\n",
              "      <td>2082569</td>\n",
              "      <td>2632</td>\n",
              "      <td>8591</td>\n",
              "      <td>20:1</td>\n",
              "      <td>3.0</td>\n",
              "      <td>20160223</td>\n",
              "      <td>-1</td>\n",
              "      <td>2082569_8591_20160223</td>\n",
              "      <td>2</td>\n",
              "      <td>43</td>\n",
              "      <td>...</td>\n",
              "      <td>2</td>\n",
              "      <td>0</td>\n",
              "      <td>0</td>\n",
              "      <td>1</td>\n",
              "      <td>0</td>\n",
              "      <td>0</td>\n",
              "      <td>0</td>\n",
              "      <td>0</td>\n",
              "      <td>0</td>\n",
              "      <td>0</td>\n",
              "    </tr>\n",
              "    <tr>\n",
              "      <th>4</th>\n",
              "      <td>5162810</td>\n",
              "      <td>2632</td>\n",
              "      <td>8591</td>\n",
              "      <td>20:1</td>\n",
              "      <td>10.0</td>\n",
              "      <td>20160204</td>\n",
              "      <td>-1</td>\n",
              "      <td>5162810_8591_20160204</td>\n",
              "      <td>1</td>\n",
              "      <td>43</td>\n",
              "      <td>...</td>\n",
              "      <td>4</td>\n",
              "      <td>0</td>\n",
              "      <td>0</td>\n",
              "      <td>0</td>\n",
              "      <td>0</td>\n",
              "      <td>1</td>\n",
              "      <td>0</td>\n",
              "      <td>0</td>\n",
              "      <td>0</td>\n",
              "      <td>0</td>\n",
              "    </tr>\n",
              "  </tbody>\n",
              "</table>\n",
              "<p>5 rows \u00d7 28 columns</p>\n",
              "</div>"
            ],
            "text/plain": [
              "   User_id Merchant_id Coupon_id Discount_rate  Distance Date_received Date  \\\n",
              "0  1439408        2632      8591          20:1       0.0      20160217   -1   \n",
              "1  1439408        2632      8591          20:1       0.0      20160613   -1   \n",
              "2  1439408        2632      8591          20:1       0.0      20160516   -1   \n",
              "3  2082569        2632      8591          20:1       3.0      20160223   -1   \n",
              "4  5162810        2632      8591          20:1      10.0      20160204   -1   \n",
              "\n",
              "                     uid  ui_dr_count  mi_dr_count  ...  dr_weekday  \\\n",
              "0  1439408_8591_20160217            5           43  ...           3   \n",
              "1  1439408_8591_20160613            5           43  ...           1   \n",
              "2  1439408_8591_20160516            5           43  ...           1   \n",
              "3  2082569_8591_20160223            2           43  ...           2   \n",
              "4  5162810_8591_20160204            1           43  ...           4   \n",
              "\n",
              "   dr_weekday_type  dr_weekday_1  dr_weekday_2  dr_weekday_3  dr_weekday_4  \\\n",
              "0                0             0             0             1             0   \n",
              "1                0             1             0             0             0   \n",
              "2                0             1             0             0             0   \n",
              "3                0             0             1             0             0   \n",
              "4                0             0             0             0             1   \n",
              "\n",
              "   dr_weekday_5  dr_weekday_6  dr_weekday_7  target  \n",
              "0             0             0             0       0  \n",
              "1             0             0             0       0  \n",
              "2             0             0             0       0  \n",
              "3             0             0             0       0  \n",
              "4             0             0             0       0  \n",
              "\n",
              "[5 rows x 28 columns]"
            ]
          },
          "execution_count": 28,
          "metadata": {},
          "output_type": "execute_result"
        }
      ],
      "source": [
        "# X_all.to_pickle(data_path + 'coupon_well_done_dataframe.pkl')\n",
        "X_all = pd.read_pickle(data_path + 'coupon_well_done_dataframe.pkl')\n",
        "X_all.head()"
      ]
    },
    {
      "cell_type": "markdown",
      "metadata": {},
      "source": [
        "### 2. \u6c38\u4e45\u53bb\u9664\u7279\u5b9a\u6b04\u4f4d\uff0c\u5206\u6210\u8a13\u7df4\u96c6\u3001\u9a57\u8b49\u96c6\u3001\u8b58\u5225\u78bc\u3001\u76ee\u6a19\u503c"
      ]
    },
    {
      "cell_type": "code",
      "execution_count": 29,
      "metadata": {},
      "outputs": [
        {
          "data": {
            "text/plain": [
              "array([[0.00000000e+00, 3.36134454e-02, 3.41927658e-04, ...,\n",
              "        0.00000000e+00, 0.00000000e+00, 0.00000000e+00],\n",
              "       [0.00000000e+00, 3.36134454e-02, 3.41927658e-04, ...,\n",
              "        0.00000000e+00, 0.00000000e+00, 0.00000000e+00],\n",
              "       [0.00000000e+00, 3.36134454e-02, 3.41927658e-04, ...,\n",
              "        0.00000000e+00, 0.00000000e+00, 0.00000000e+00],\n",
              "       ...,\n",
              "       [1.00000000e-01, 0.00000000e+00, 0.00000000e+00, ...,\n",
              "        1.00000000e+00, 0.00000000e+00, 0.00000000e+00],\n",
              "       [8.00000000e-01, 8.40336134e-03, 8.14113471e-06, ...,\n",
              "        0.00000000e+00, 0.00000000e+00, 0.00000000e+00],\n",
              "       [8.00000000e-01, 8.40336134e-03, 8.14113471e-06, ...,\n",
              "        0.00000000e+00, 1.00000000e+00, 0.00000000e+00]])"
            ]
          },
          "execution_count": 29,
          "metadata": {},
          "output_type": "execute_result"
        }
      ],
      "source": [
        "X_ids = X_all['uid']\n",
        "y_all = X_all['target']\n",
        "X_all = X_all.drop(columns=['User_id', 'Merchant_id', 'Coupon_id', 'Discount_rate', 'Date_received', 'Date', 'uid', 'target'])\n",
        "X_all = MinMaxScaler().fit_transform(X_all)\n",
        "X_all"
      ]
    },
    {
      "cell_type": "code",
      "execution_count": 30,
      "metadata": {},
      "outputs": [
        {
          "name": "stdout",
          "output_type": "stream",
          "text": [
            "(634923, 20)\n",
            "(634923,)\n",
            "(112046, 20)\n",
            "(112046,)\n"
          ]
        }
      ],
      "source": [
        "X_train, X_val, y_train, y_val = train_test_split(X_all[:X_train_length], y_all[:X_train_length],\n",
        "                                                  test_size=0.15, random_state=42)\n",
        "print(X_train.shape)\n",
        "print(y_train.shape)\n",
        "print(X_val.shape)\n",
        "print(y_val.shape)"
      ]
    },
    {
      "cell_type": "markdown",
      "metadata": {},
      "source": [
        "### 3. \u5efa\u7acb\u6a21\u578b"
      ]
    },
    {
      "cell_type": "code",
      "execution_count": 31,
      "metadata": {},
      "outputs": [],
      "source": [
        "def print_time(func):\n",
        "    @functools.wraps(func)\n",
        "    def wrapper(*args, **kwargs):\n",
        "        start_time = time.time()\n",
        "        result = func(*args, **kwargs)\n",
        "        print('Time elipsed:', int(time.time() - start_time), end='s\\n')\n",
        "        return result\n",
        "    return wrapper"
      ]
    },
    {
      "cell_type": "code",
      "execution_count": 32,
      "metadata": {},
      "outputs": [],
      "source": [
        "def print_score(estimator, X_train, y_train, X_val, y_val):\n",
        "    cv_score = cross_val_score(estimator, X_train, y_train, cv=5).mean()\n",
        "    auc_score = roc_auc_score(y_val, estimator.predict_proba(X_val)[:, 1])\n",
        "    acc_score = accuracy_score(y_val, estimator.predict(X_val))\n",
        "    print('CV score:', cv_score)\n",
        "    print('AUC score:', auc_score)\n",
        "    print('Acuuracy score:', acc_score)"
      ]
    },
    {
      "cell_type": "code",
      "execution_count": 33,
      "metadata": {},
      "outputs": [
        {
          "name": "stdout",
          "output_type": "stream",
          "text": [
            "CV score: 0.9708389834871951\n",
            "AUC score: 0.921607193526905\n",
            "Acuuracy score: 0.9706459846848616\n",
            "Time elipsed: 124s\n"
          ]
        }
      ],
      "source": [
        "@print_time\n",
        "def make_estimator(X_train, y_train, X_val, y_val):\n",
        "    gs_estimator = Pipeline(steps=[\n",
        "        ('ss', StandardScaler()),\n",
        "        ('en', SGDClassifier(loss='log', penalty='elasticnet', fit_intercept=True, max_iter=100,\n",
        "                             shuffle=True, class_weight=None, n_jobs=-1, verbose=0),)\n",
        "    ])\n",
        "    gs_param_grid = {\n",
        "        'en__alpha': [ 0.001, 0.01, 0.1],\n",
        "        'en__l1_ratio': [ 0.001, 0.01, 0.1]\n",
        "    }\n",
        "    gs_folder = StratifiedKFold(n_splits=3, shuffle=True)\n",
        "    estimator = GridSearchCV(gs_estimator, gs_param_grid, cv=gs_folder, n_jobs=-1, verbose=0).fit(X_train, y_train)\n",
        "    print_score(estimator, X_train, y_train, X_val, y_val)\n",
        "    return estimator\n",
        "\n",
        "estimator = make_estimator(X_train, y_train, X_val, y_val)"
      ]
    },
    {
      "cell_type": "code",
      "execution_count": 34,
      "metadata": {},
      "outputs": [
        {
          "name": "stdout",
          "output_type": "stream",
          "text": [
            "CV score: 0.9743212962673434\n",
            "AUC score: 0.9813384871719955\n",
            "Acuuracy score: 0.9744122949502882\n",
            "Time elipsed: 181s\n"
          ]
        }
      ],
      "source": [
        "@print_time\n",
        "def make_simple_rf_estimator(X_train, y_train, X_val, y_val):\n",
        "    estimator = RandomForestClassifier(n_estimators=100, max_depth=4, min_samples_split=2, min_samples_leaf=1,\n",
        "                                       max_features=None, n_jobs=-1, bootstrap=True, verbose=0).fit(X_train, y_train)\n",
        "    print_score(estimator, X_train, y_train, X_val, y_val)\n",
        "    return estimator\n",
        "\n",
        "estimator = make_simple_rf_estimator(X_train, y_train, X_val, y_val)"
      ]
    },
    {
      "cell_type": "code",
      "execution_count": 35,
      "metadata": {},
      "outputs": [
        {
          "name": "stdout",
          "output_type": "stream",
          "text": [
            "CV score: 0.9821537416552075\n",
            "AUC score: 0.9907068774002333\n",
            "Acuuracy score: 0.9823376113382004\n",
            "Time elipsed: 737s\n"
          ]
        }
      ],
      "source": [
        "@print_time\n",
        "def make_simple_gbdt_estimator(X_train, y_train, X_val, y_val):\n",
        "    estimator = GradientBoostingClassifier(learning_rate=0.15, n_estimators=50, subsample=0.75,\n",
        "                                           max_features=20, max_depth=6, tol=0.001, verbose=0).fit(X_train, y_train)\n",
        "    print_score(estimator, X_train, y_train, X_val, y_val)\n",
        "    return estimator\n",
        "\n",
        "estimator = make_simple_gbdt_estimator(X_train, y_train, X_val, y_val)"
      ]
    },
    {
      "cell_type": "markdown",
      "metadata": {},
      "source": [
        "## \u8f38\u51fa\u7d50\u679c"
      ]
    },
    {
      "cell_type": "markdown",
      "metadata": {},
      "source": [
        "#### 1. \u6e2c\u8a66\u8cc7\u6599\u4f3c\u4e4e\u6709\u90e8\u5206\u5728\u8a13\u7df4\u8cc7\u6599\u88e1\uff0c\u6545\u4ee5\u7bc4\u672c\u7684 uid \u70ba\u6e96\u9032\u884c\u5408\u4f75\u3002\n",
        "\n",
        "#### 2. \u6e2c\u8a66\u548c\u8a13\u7df4\u8cc7\u6599\u7686\u6709\u91cd\u8907\uff0c\u9020\u6210\u7be9\u9078\u5f8c\u4ecd\u6709\u91cd\u8907\uff0c\u6545\u4ee5 uid \u5206\u7d44\u4e26\u53d6 label \u7684\u5e73\u5747\u70ba\u6578\u64da\u518d\u5408\u4f75\u4f5c\u6700\u5f8c\u8f38\u51fa\u3002"
      ]
    },
    {
      "cell_type": "code",
      "execution_count": 36,
      "metadata": {},
      "outputs": [
        {
          "name": "stdout",
          "output_type": "stream",
          "text": [
            "(304096, 2)\n"
          ]
        },
        {
          "data": {
            "text/html": [
              "<div>\n",
              "<style scoped>\n",
              "    .dataframe tbody tr th:only-of-type {\n",
              "        vertical-align: middle;\n",
              "    }\n",
              "\n",
              "    .dataframe tbody tr th {\n",
              "        vertical-align: top;\n",
              "    }\n",
              "\n",
              "    .dataframe thead th {\n",
              "        text-align: right;\n",
              "    }\n",
              "</style>\n",
              "<table border=\"1\" class=\"dataframe\">\n",
              "  <thead>\n",
              "    <tr style=\"text-align: right;\">\n",
              "      <th></th>\n",
              "      <th>uid</th>\n",
              "      <th>label</th>\n",
              "    </tr>\n",
              "  </thead>\n",
              "  <tbody>\n",
              "    <tr>\n",
              "      <th>0</th>\n",
              "      <td>1439408_8591_20160613</td>\n",
              "      <td>0.000028</td>\n",
              "    </tr>\n",
              "    <tr>\n",
              "      <th>1</th>\n",
              "      <td>1439408_8591_20160516</td>\n",
              "      <td>0.000028</td>\n",
              "    </tr>\n",
              "    <tr>\n",
              "      <th>2</th>\n",
              "      <td>5925919_8591_20160514</td>\n",
              "      <td>0.000028</td>\n",
              "    </tr>\n",
              "    <tr>\n",
              "      <th>3</th>\n",
              "      <td>7207738_8591_20160602</td>\n",
              "      <td>0.000028</td>\n",
              "    </tr>\n",
              "    <tr>\n",
              "      <th>4</th>\n",
              "      <td>2423386_8591_20160531</td>\n",
              "      <td>0.000028</td>\n",
              "    </tr>\n",
              "  </tbody>\n",
              "</table>\n",
              "</div>"
            ],
            "text/plain": [
              "                     uid     label\n",
              "0  1439408_8591_20160613  0.000028\n",
              "1  1439408_8591_20160516  0.000028\n",
              "2  5925919_8591_20160514  0.000028\n",
              "3  7207738_8591_20160602  0.000028\n",
              "4  2423386_8591_20160531  0.000028"
            ]
          },
          "metadata": {},
          "output_type": "display_data"
        }
      ],
      "source": [
        "def make_output(estimator, X_ids, X_all):\n",
        "    X_test_ids = pd.read_csv(data_path + 'coupon_sample_submission.csv')[['uid']]\n",
        "    y_test = pd.DataFrame(estimator.predict_proba(X_all)[:, 1], columns=['label'])\n",
        "    output = pd.concat([X_ids, y_test], axis=1)\n",
        "    output = pd.merge(output, X_test_ids, on=['uid'], how='inner')\n",
        "    output['label'] = output.groupby('uid')['label'].transform('mean')\n",
        "    output = output.drop_duplicates(['uid'])\n",
        "    print(output.shape)\n",
        "    display(output.head())\n",
        "    return output\n",
        "\n",
        "make_output(estimator, X_ids, X_all).to_csv('./output/Day_051-053_Mid_Exam_Coupon_HW_gbdt.csv', index=False)"
      ]
    },
    {
      "cell_type": "code",
      "execution_count": null,
      "metadata": {},
      "outputs": [],
      "source": []
    }
  ],
  "metadata": {
    "kernelspec": {
      "display_name": "Python 3",
      "language": "python",
      "name": "python3"
    },
    "language_info": {
      "codemirror_mode": {
        "name": "ipython",
        "version": 3
      },
      "file_extension": ".py",
      "mimetype": "text/x-python",
      "name": "python",
      "nbconvert_exporter": "python",
      "pygments_lexer": "ipython3",
      "version": "3.7.3"
    }
  },
  "nbformat": 4,
  "nbformat_minor": 2
}