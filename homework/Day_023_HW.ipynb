{
  "cells": [
    {
      "cell_type": "markdown",
      "metadata": {
        "collapsed": true
      },
      "source": [
        "# \u4f5c\u696d : (Kaggle)\u9435\u9054\u5c3c\u751f\u5b58\u9810\u6e2c\n",
        "https://www.kaggle.com/c/titanic"
      ]
    },
    {
      "cell_type": "markdown",
      "metadata": {},
      "source": [
        "# [\u4f5c\u696d\u76ee\u6a19]\n",
        "- \u8a66\u8457\u6a21\u4eff\u7bc4\u4f8b\u5beb\u6cd5, \u5728\u9435\u9054\u5c3c\u751f\u5b58\u9810\u6e2c\u4e2d, \u89c0\u5bdf\u5747\u503c\u7de8\u78bc\u7684\u6548\u679c"
      ]
    },
    {
      "cell_type": "markdown",
      "metadata": {},
      "source": [
        "# [\u4f5c\u696d\u91cd\u9ede]\n",
        "- \u4eff\u9020\u7bc4\u4f8b, \u5b8c\u6210\u6a19\u7c64\u7de8\u78bc\u8207\u5747\u503c\u7de8\u78bc\u642d\u914d\u908f\u8f2f\u65af\u8ff4\u6b78\u7684\u9810\u6e2c\n",
        "- \u89c0\u5bdf\u6a19\u7c64\u7de8\u78bc\u8207\u5747\u503c\u7de8\u78bc\u5728\u7279\u5fb5\u6578\u91cf / \u908f\u8f2f\u65af\u8ff4\u6b78\u5206\u6578 / \u908f\u8f2f\u65af\u8ff4\u6b78\u6642\u9593\u4e0a, \u5206\u5225\u6709\u4ec0\u9ebc\u5f71\u97ff (In[3], Out[3], In[4], Out[4]) "
      ]
    },
    {
      "cell_type": "markdown",
      "metadata": {
        "collapsed": true
      },
      "source": [
        "# \u4f5c\u696d1\n",
        "* \u8acb\u4eff\u7167\u7bc4\u4f8b\uff0c\u5c07\u9435\u9054\u5c3c\u7bc4\u4f8b\u4e2d\u7684\u985e\u5225\u578b\u7279\u5fb5\u6539\u7528\u5747\u503c\u7de8\u78bc\u5be6\u4f5c\u4e00\u6b21"
      ]
    },
    {
      "cell_type": "code",
      "execution_count": 1,
      "metadata": {},
      "outputs": [
        {
          "data": {
            "text/html": [
              "<div>\n",
              "<style scoped>\n",
              "    .dataframe tbody tr th:only-of-type {\n",
              "        vertical-align: middle;\n",
              "    }\n",
              "\n",
              "    .dataframe tbody tr th {\n",
              "        vertical-align: top;\n",
              "    }\n",
              "\n",
              "    .dataframe thead th {\n",
              "        text-align: right;\n",
              "    }\n",
              "</style>\n",
              "<table border=\"1\" class=\"dataframe\">\n",
              "  <thead>\n",
              "    <tr style=\"text-align: right;\">\n",
              "      <th></th>\n",
              "      <th>Pclass</th>\n",
              "      <th>Name</th>\n",
              "      <th>Sex</th>\n",
              "      <th>Age</th>\n",
              "      <th>SibSp</th>\n",
              "      <th>Parch</th>\n",
              "      <th>Ticket</th>\n",
              "      <th>Fare</th>\n",
              "      <th>Cabin</th>\n",
              "      <th>Embarked</th>\n",
              "    </tr>\n",
              "  </thead>\n",
              "  <tbody>\n",
              "    <tr>\n",
              "      <th>0</th>\n",
              "      <td>3</td>\n",
              "      <td>Braund, Mr. Owen Harris</td>\n",
              "      <td>male</td>\n",
              "      <td>22.0</td>\n",
              "      <td>1</td>\n",
              "      <td>0</td>\n",
              "      <td>A/5 21171</td>\n",
              "      <td>7.2500</td>\n",
              "      <td>NaN</td>\n",
              "      <td>S</td>\n",
              "    </tr>\n",
              "    <tr>\n",
              "      <th>1</th>\n",
              "      <td>1</td>\n",
              "      <td>Cumings, Mrs. John Bradley (Florence Briggs Th...</td>\n",
              "      <td>female</td>\n",
              "      <td>38.0</td>\n",
              "      <td>1</td>\n",
              "      <td>0</td>\n",
              "      <td>PC 17599</td>\n",
              "      <td>71.2833</td>\n",
              "      <td>C85</td>\n",
              "      <td>C</td>\n",
              "    </tr>\n",
              "    <tr>\n",
              "      <th>2</th>\n",
              "      <td>3</td>\n",
              "      <td>Heikkinen, Miss. Laina</td>\n",
              "      <td>female</td>\n",
              "      <td>26.0</td>\n",
              "      <td>0</td>\n",
              "      <td>0</td>\n",
              "      <td>STON/O2. 3101282</td>\n",
              "      <td>7.9250</td>\n",
              "      <td>NaN</td>\n",
              "      <td>S</td>\n",
              "    </tr>\n",
              "    <tr>\n",
              "      <th>3</th>\n",
              "      <td>1</td>\n",
              "      <td>Futrelle, Mrs. Jacques Heath (Lily May Peel)</td>\n",
              "      <td>female</td>\n",
              "      <td>35.0</td>\n",
              "      <td>1</td>\n",
              "      <td>0</td>\n",
              "      <td>113803</td>\n",
              "      <td>53.1000</td>\n",
              "      <td>C123</td>\n",
              "      <td>S</td>\n",
              "    </tr>\n",
              "    <tr>\n",
              "      <th>4</th>\n",
              "      <td>3</td>\n",
              "      <td>Allen, Mr. William Henry</td>\n",
              "      <td>male</td>\n",
              "      <td>35.0</td>\n",
              "      <td>0</td>\n",
              "      <td>0</td>\n",
              "      <td>373450</td>\n",
              "      <td>8.0500</td>\n",
              "      <td>NaN</td>\n",
              "      <td>S</td>\n",
              "    </tr>\n",
              "  </tbody>\n",
              "</table>\n",
              "</div>"
            ],
            "text/plain": [
              "   Pclass                                               Name     Sex   Age  \\\n",
              "0       3                            Braund, Mr. Owen Harris    male  22.0   \n",
              "1       1  Cumings, Mrs. John Bradley (Florence Briggs Th...  female  38.0   \n",
              "2       3                             Heikkinen, Miss. Laina  female  26.0   \n",
              "3       1       Futrelle, Mrs. Jacques Heath (Lily May Peel)  female  35.0   \n",
              "4       3                           Allen, Mr. William Henry    male  35.0   \n",
              "\n",
              "   SibSp  Parch            Ticket     Fare Cabin Embarked  \n",
              "0      1      0         A/5 21171   7.2500   NaN        S  \n",
              "1      1      0          PC 17599  71.2833   C85        C  \n",
              "2      0      0  STON/O2. 3101282   7.9250   NaN        S  \n",
              "3      1      0            113803  53.1000  C123        S  \n",
              "4      0      0            373450   8.0500   NaN        S  "
            ]
          },
          "execution_count": 1,
          "metadata": {},
          "output_type": "execute_result"
        }
      ],
      "source": [
        "# \u505a\u5b8c\u7279\u5fb5\u5de5\u7a0b\u524d\u7684\u6240\u6709\u6e96\u5099 (\u8207\u524d\u7bc4\u4f8b\u76f8\u540c)\n",
        "import copy, time\n",
        "import pandas as pd\n",
        "import numpy as np\n",
        "from sklearn.preprocessing import LabelEncoder, MinMaxScaler\n",
        "from sklearn.model_selection import cross_val_score\n",
        "from sklearn.linear_model import LogisticRegression\n",
        "\n",
        "data_path = './data/part02/'\n",
        "df_train = pd.read_csv(data_path + 'titanic_train.csv')\n",
        "df_test = pd.read_csv(data_path + 'titanic_test.csv')\n",
        "\n",
        "ids = df_test['PassengerId']\n",
        "train_Y = df_train['Survived']\n",
        "df_train = df_train.drop(['PassengerId', 'Survived'], axis=1)\n",
        "df_test = df_test.drop(['PassengerId'], axis=1)\n",
        "df = pd.concat([df_train, df_test])\n",
        "df.head()"
      ]
    },
    {
      "cell_type": "code",
      "execution_count": 2,
      "metadata": {},
      "outputs": [
        {
          "name": "stdout",
          "output_type": "stream",
          "text": [
            "5 Object Features : ['Name', 'Sex', 'Ticket', 'Cabin', 'Embarked']\n",
            "\n"
          ]
        },
        {
          "data": {
            "text/html": [
              "<div>\n",
              "<style scoped>\n",
              "    .dataframe tbody tr th:only-of-type {\n",
              "        vertical-align: middle;\n",
              "    }\n",
              "\n",
              "    .dataframe tbody tr th {\n",
              "        vertical-align: top;\n",
              "    }\n",
              "\n",
              "    .dataframe thead th {\n",
              "        text-align: right;\n",
              "    }\n",
              "</style>\n",
              "<table border=\"1\" class=\"dataframe\">\n",
              "  <thead>\n",
              "    <tr style=\"text-align: right;\">\n",
              "      <th></th>\n",
              "      <th>Name</th>\n",
              "      <th>Sex</th>\n",
              "      <th>Ticket</th>\n",
              "      <th>Cabin</th>\n",
              "      <th>Embarked</th>\n",
              "    </tr>\n",
              "  </thead>\n",
              "  <tbody>\n",
              "    <tr>\n",
              "      <th>0</th>\n",
              "      <td>Braund, Mr. Owen Harris</td>\n",
              "      <td>male</td>\n",
              "      <td>A/5 21171</td>\n",
              "      <td>None</td>\n",
              "      <td>S</td>\n",
              "    </tr>\n",
              "    <tr>\n",
              "      <th>1</th>\n",
              "      <td>Cumings, Mrs. John Bradley (Florence Briggs Th...</td>\n",
              "      <td>female</td>\n",
              "      <td>PC 17599</td>\n",
              "      <td>C85</td>\n",
              "      <td>C</td>\n",
              "    </tr>\n",
              "    <tr>\n",
              "      <th>2</th>\n",
              "      <td>Heikkinen, Miss. Laina</td>\n",
              "      <td>female</td>\n",
              "      <td>STON/O2. 3101282</td>\n",
              "      <td>None</td>\n",
              "      <td>S</td>\n",
              "    </tr>\n",
              "    <tr>\n",
              "      <th>3</th>\n",
              "      <td>Futrelle, Mrs. Jacques Heath (Lily May Peel)</td>\n",
              "      <td>female</td>\n",
              "      <td>113803</td>\n",
              "      <td>C123</td>\n",
              "      <td>S</td>\n",
              "    </tr>\n",
              "    <tr>\n",
              "      <th>4</th>\n",
              "      <td>Allen, Mr. William Henry</td>\n",
              "      <td>male</td>\n",
              "      <td>373450</td>\n",
              "      <td>None</td>\n",
              "      <td>S</td>\n",
              "    </tr>\n",
              "  </tbody>\n",
              "</table>\n",
              "</div>"
            ],
            "text/plain": [
              "                                                Name     Sex  \\\n",
              "0                            Braund, Mr. Owen Harris    male   \n",
              "1  Cumings, Mrs. John Bradley (Florence Briggs Th...  female   \n",
              "2                             Heikkinen, Miss. Laina  female   \n",
              "3       Futrelle, Mrs. Jacques Heath (Lily May Peel)  female   \n",
              "4                           Allen, Mr. William Henry    male   \n",
              "\n",
              "             Ticket Cabin Embarked  \n",
              "0         A/5 21171  None        S  \n",
              "1          PC 17599   C85        C  \n",
              "2  STON/O2. 3101282  None        S  \n",
              "3            113803  C123        S  \n",
              "4            373450  None        S  "
            ]
          },
          "execution_count": 2,
          "metadata": {},
          "output_type": "execute_result"
        }
      ],
      "source": [
        "#\u53ea\u53d6\u985e\u5225\u503c (object) \u578b\u6b04\u4f4d, \u5b58\u65bc object_features \u4e2d\n",
        "object_features = []\n",
        "for dtype, feature in zip(df.dtypes, df.columns):\n",
        "    if dtype == 'object':\n",
        "        object_features.append(feature)\n",
        "print(f'{len(object_features)} Object Features : {object_features}\\n')\n",
        "\n",
        "# \u53ea\u7559\u985e\u5225\u578b\u6b04\u4f4d\n",
        "train_num = train_Y.shape[0]\n",
        "df = df[object_features]\n",
        "df = df.fillna('None')\n",
        "df.head()"
      ]
    },
    {
      "cell_type": "markdown",
      "metadata": {
        "collapsed": true
      },
      "source": [
        "# \u4f5c\u696d2\n",
        "* \u89c0\u5bdf\u9435\u9054\u5c3c\u751f\u5b58\u9810\u6e2c\u4e2d\uff0c\u5747\u503c\u7de8\u78bc\u8207\u6a19\u7c64\u7de8\u78bc\u5169\u8005\u6bd4\u8f03\uff0c\u54ea\u4e00\u500b\u6548\u679c\u6bd4\u8f03\u597d? \u53ef\u80fd\u7684\u539f\u56e0\u662f\u4ec0\u9ebc?\n",
        "\n",
        "\u7b54\uff1a\u5747\u503c\u7de8\u78bc\u6548\u679c\u4f3c\u4e4e\u6bd4\u8f03\u597d\uff0c\u5b83\u8b93\u985e\u5225\u8cc7\u6599\u8207\u76ee\u6a19\u503c\u7684\u95dc\u4fc2\u66f4\u52a0\u7dca\u5bc6\uff0c\u4f46\u6709\u53ef\u80fd\u6703\u7522\u751f\u904e\u5ea6\u64ec\u5408\u7684\u554f\u984c\u3002"
      ]
    },
    {
      "cell_type": "code",
      "execution_count": 3,
      "metadata": {},
      "outputs": [
        {
          "name": "stdout",
          "output_type": "stream",
          "text": [
            "shape: (891, 5)\n",
            "score: 0.7789000729487724\n",
            "time: 0.132 sec\n"
          ]
        }
      ],
      "source": [
        "# \u5c0d\u7167\u7d44 : \u6a19\u7c64\u7de8\u78bc + \u908f\u8f2f\u65af\u8ff4\u6b78\n",
        "df_temp = pd.DataFrame()\n",
        "for c in df.columns:\n",
        "    df_temp[c] = LabelEncoder().fit_transform(df[c])\n",
        "train_X = df_temp[:train_num]\n",
        "estimator = LogisticRegression(solver='lbfgs')\n",
        "\n",
        "start = time.time()\n",
        "print(f'shape: {train_X.shape}')\n",
        "print(f'score: {cross_val_score(estimator, train_X, train_Y, cv=5).mean()}')\n",
        "print(f'time: {(time.time() - start) * 1000 // 1 / 1000} sec')"
      ]
    },
    {
      "cell_type": "code",
      "execution_count": 4,
      "metadata": {},
      "outputs": [
        {
          "name": "stdout",
          "output_type": "stream",
          "text": [
            "shape: (891, 5)\n",
            "score: 1.0\n",
            "time: 0.053 sec\n"
          ]
        }
      ],
      "source": [
        "# \u5747\u503c\u7de8\u78bc + \u908f\u8f2f\u65af\u8ff4\u6b78\n",
        "df_temp = pd.concat([df[:train_num], train_Y], axis=1)\n",
        "for c in df.columns:\n",
        "    df_mean = df_temp.groupby([c])['Survived'].mean().reset_index()\n",
        "    df_mean.columns = [c, f'{c}_mean']\n",
        "    df_temp = pd.merge(df_temp, df_mean, on=c, how='left')\n",
        "    df_temp = df_temp.drop([c], axis=1)\n",
        "df_temp = df_temp.drop(['Survived'], axis=1)\n",
        "train_X = df_temp[:train_num]\n",
        "estimator = LogisticRegression(solver='lbfgs')\n",
        "\n",
        "start = time.time()\n",
        "print(f'shape: {train_X.shape}')\n",
        "print(f'score: {cross_val_score(estimator, train_X, train_Y, cv=5).mean()}')\n",
        "print(f'time: {(time.time() - start) * 1000 // 1 / 1000} sec')"
      ]
    },
    {
      "cell_type": "code",
      "execution_count": null,
      "metadata": {},
      "outputs": [],
      "source": []
    }
  ],
  "metadata": {
    "kernelspec": {
      "display_name": "Python 3",
      "language": "python",
      "name": "python3"
    },
    "language_info": {
      "codemirror_mode": {
        "name": "ipython",
        "version": 3
      },
      "file_extension": ".py",
      "mimetype": "text/x-python",
      "name": "python",
      "nbconvert_exporter": "python",
      "pygments_lexer": "ipython3",
      "version": "3.7.3"
    }
  },
  "nbformat": 4,
  "nbformat_minor": 2
}