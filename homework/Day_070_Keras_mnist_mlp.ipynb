{
  "cells": [
    {
      "cell_type": "markdown",
      "metadata": {},
      "source": [
        "## \u8ab2\u7a0b\u76ee\u6a19\n",
        "    \n",
        "\u4e86\u89e3 MLP \u5728\u795e\u7d93\u7db2\u8def\u4e0a\u7684\u61c9\u7528"
      ]
    },
    {
      "cell_type": "markdown",
      "metadata": {},
      "source": [
        "## \u7bc4\u4f8b\u91cd\u9ede\n",
        "\n",
        "\u4ee5 Keras \u81ea\u5e36\u7684 \u624b\u5beb\u8fa8\u8b58\u7684\u6578\u64da\u96c6\u4f86\u8aaa\u660e MLP \u5efa\u69cb\u7684\u7db2\u8def\u6a21\u578b"
      ]
    },
    {
      "cell_type": "markdown",
      "metadata": {
        "colab_type": "text",
        "id": "zfI5zCjRPlnc"
      },
      "source": [
        "## \u8cc7\u6599\u9810\u8655\u7406"
      ]
    },
    {
      "cell_type": "code",
      "execution_count": 1,
      "metadata": {
        "colab": {
          "autoexec": {
            "startup": false,
            "wait_interval": 0
          },
          "base_uri": "https://localhost:8080/",
          "height": 34
        },
        "colab_type": "code",
        "executionInfo": {
          "elapsed": 20601,
          "status": "ok",
          "timestamp": 1533441753568,
          "user": {
            "displayName": "Edward Cheng",
            "photoUrl": "//lh4.googleusercontent.com/-ANnwjGu3IBk/AAAAAAAAAAI/AAAAAAAAAAc/qXXg6Jek9xw/s50-c-k-no/photo.jpg",
            "userId": "112554017642991017343"
          },
          "user_tz": -480
        },
        "id": "GyIQ7tpGPlnf",
        "outputId": "f3642b99-3ef2-43fe-ee42-e17b1ef50cbb"
      },
      "outputs": [
        {
          "name": "stderr",
          "output_type": "stream",
          "text": [
            "Using TensorFlow backend.\n"
          ]
        }
      ],
      "source": [
        "import numpy as np\n",
        "import tensorflow as tf\n",
        "import matplotlib.pyplot as plt\n",
        "from keras.utils import np_utils\n",
        "from keras.layers import Dense\n",
        "from keras.models import Sequential\n",
        "from keras.datasets import mnist\n",
        "tf.logging.set_verbosity(tf.logging.ERROR)"
      ]
    },
    {
      "cell_type": "code",
      "execution_count": 2,
      "metadata": {
        "colab": {
          "autoexec": {
            "startup": false,
            "wait_interval": 0
          },
          "base_uri": "https://localhost:8080/",
          "height": 51
        },
        "colab_type": "code",
        "executionInfo": {
          "elapsed": 5937,
          "status": "ok",
          "timestamp": 1533441759521,
          "user": {
            "displayName": "Edward Cheng",
            "photoUrl": "//lh4.googleusercontent.com/-ANnwjGu3IBk/AAAAAAAAAAI/AAAAAAAAAAc/qXXg6Jek9xw/s50-c-k-no/photo.jpg",
            "userId": "112554017642991017343"
          },
          "user_tz": -480
        },
        "id": "OLzoKlJRPlno",
        "outputId": "c75f10a4-951d-4b3b-ad5f-c8fc4dff0e96"
      },
      "outputs": [
        {
          "name": "stdout",
          "output_type": "stream",
          "text": [
            "Downloading data from https://s3.amazonaws.com/img-datasets/mnist.npz\n",
            "11493376/11490434 [==============================] - 7s 1us/step\n"
          ]
        }
      ],
      "source": [
        "# \u8f09\u5165\u624b\u5beb\u8fa8\u8b58\u7684\u8cc7\u6599\u96c6\n",
        "(x_train_image, y_train_label), (x_test_image, y_test_label) = mnist.load_data()"
      ]
    },
    {
      "cell_type": "code",
      "execution_count": 3,
      "metadata": {},
      "outputs": [],
      "source": [
        "def normalize_mnist_data(x, y):\n",
        "    x = x.reshape(-1, 28 * 28).astype('float32') / 255\n",
        "    y = np_utils.to_categorical(y)\n",
        "    return x, y\n",
        "\n",
        "def normalize_result(x, y):\n",
        "    print('x_image.shape:', x.shape)\n",
        "    print('y_label.shape:', y.shape)"
      ]
    },
    {
      "cell_type": "code",
      "execution_count": 4,
      "metadata": {},
      "outputs": [
        {
          "name": "stdout",
          "output_type": "stream",
          "text": [
            "Before normalization:\n",
            "x_image.shape: (60000, 28, 28)\n",
            "y_label.shape: (60000,)\n"
          ]
        }
      ],
      "source": [
        "print('Before normalization:')\n",
        "normalize_result(x_train_image, y_train_label)"
      ]
    },
    {
      "cell_type": "code",
      "execution_count": 5,
      "metadata": {},
      "outputs": [
        {
          "name": "stdout",
          "output_type": "stream",
          "text": [
            "After normalization:\n",
            "x_image.shape: (60000, 784)\n",
            "y_label.shape: (60000, 10)\n"
          ]
        }
      ],
      "source": [
        "print('After normalization:')\n",
        "x_train_image, y_train_label = normalize_mnist_data(x_train_image, y_train_label)\n",
        "x_test_image, y_test_label = normalize_mnist_data(x_test_image, y_test_label)\n",
        "normalize_result(x_train_image, y_train_label)"
      ]
    },
    {
      "cell_type": "markdown",
      "metadata": {
        "colab_type": "text",
        "id": "0s8PjvqJPln7"
      },
      "source": [
        "## \u5efa\u7acb\u6a21\u578b"
      ]
    },
    {
      "cell_type": "code",
      "execution_count": 6,
      "metadata": {
        "colab": {
          "autoexec": {
            "startup": false,
            "wait_interval": 0
          }
        },
        "colab_type": "code",
        "id": "jmaxrsXwPln-"
      },
      "outputs": [],
      "source": [
        "# \u5ba3\u544a\u63a1\u7528\u5e8f\u5217\u6a21\u578b\n",
        "model = Sequential()\n",
        "\n",
        "# \u5efa\u69cb\u8f38\u5165\u5c64\n",
        "model.add(Dense(units=256, input_dim=784, kernel_initializer='normal', activation='relu'))\n",
        "\n",
        "# \u5efa\u69cb\u8f38\u51fa\u5c64\n",
        "model.add(Dense(units=10, kernel_initializer='normal', activation='softmax'))"
      ]
    },
    {
      "cell_type": "code",
      "execution_count": 7,
      "metadata": {
        "colab": {
          "autoexec": {
            "startup": false,
            "wait_interval": 0
          },
          "base_uri": "https://localhost:8080/",
          "height": 221
        },
        "colab_type": "code",
        "executionInfo": {
          "elapsed": 1500,
          "status": "ok",
          "timestamp": 1533441769991,
          "user": {
            "displayName": "Edward Cheng",
            "photoUrl": "//lh4.googleusercontent.com/-ANnwjGu3IBk/AAAAAAAAAAI/AAAAAAAAAAc/qXXg6Jek9xw/s50-c-k-no/photo.jpg",
            "userId": "112554017642991017343"
          },
          "user_tz": -480
        },
        "id": "Li6CzpyNPloF",
        "outputId": "7a9e22a4-93dc-49b0-8c8b-690e330aee88"
      },
      "outputs": [
        {
          "name": "stdout",
          "output_type": "stream",
          "text": [
            "_________________________________________________________________\n",
            "Layer (type)                 Output Shape              Param #   \n",
            "=================================================================\n",
            "dense_1 (Dense)              (None, 256)               200960    \n",
            "_________________________________________________________________\n",
            "dense_2 (Dense)              (None, 10)                2570      \n",
            "=================================================================\n",
            "Total params: 203,530\n",
            "Trainable params: 203,530\n",
            "Non-trainable params: 0\n",
            "_________________________________________________________________\n"
          ]
        }
      ],
      "source": [
        "model.summary()"
      ]
    },
    {
      "cell_type": "markdown",
      "metadata": {
        "colab_type": "text",
        "id": "jdoAZgv1PloK"
      },
      "source": [
        "## \u8a13\u7df4\u6a21\u578b"
      ]
    },
    {
      "cell_type": "code",
      "execution_count": 8,
      "metadata": {
        "colab": {
          "autoexec": {
            "startup": false,
            "wait_interval": 0
          }
        },
        "colab_type": "code",
        "id": "5d5wrEL3PloK"
      },
      "outputs": [
        {
          "name": "stdout",
          "output_type": "stream",
          "text": [
            "Train on 48000 samples, validate on 12000 samples\n",
            "Epoch 1/10\n",
            "48000/48000 [==============================] - 6s 129us/step - loss: 0.2680 - acc: 0.9235 - val_loss: 0.1529 - val_acc: 0.9551\n",
            "Epoch 2/10\n",
            "48000/48000 [==============================] - 6s 124us/step - loss: 0.1076 - acc: 0.9682 - val_loss: 0.1138 - val_acc: 0.9664\n",
            "Epoch 3/10\n",
            "48000/48000 [==============================] - 6s 129us/step - loss: 0.0693 - acc: 0.9787 - val_loss: 0.0865 - val_acc: 0.9740\n",
            "Epoch 4/10\n",
            "48000/48000 [==============================] - 6s 129us/step - loss: 0.0480 - acc: 0.9855 - val_loss: 0.0922 - val_acc: 0.9727\n",
            "Epoch 5/10\n",
            "48000/48000 [==============================] - 6s 120us/step - loss: 0.0366 - acc: 0.9888 - val_loss: 0.0809 - val_acc: 0.9763\n",
            "Epoch 6/10\n",
            "48000/48000 [==============================] - 6s 120us/step - loss: 0.0271 - acc: 0.9919 - val_loss: 0.0874 - val_acc: 0.9762\n",
            "Epoch 7/10\n",
            "48000/48000 [==============================] - 6s 121us/step - loss: 0.0190 - acc: 0.9942 - val_loss: 0.0859 - val_acc: 0.9775\n",
            "Epoch 8/10\n",
            "48000/48000 [==============================] - 6s 123us/step - loss: 0.0162 - acc: 0.9952 - val_loss: 0.1048 - val_acc: 0.9732\n",
            "Epoch 9/10\n",
            "48000/48000 [==============================] - 6s 119us/step - loss: 0.0121 - acc: 0.9964 - val_loss: 0.0889 - val_acc: 0.9773\n",
            "Epoch 10/10\n",
            "48000/48000 [==============================] - 6s 118us/step - loss: 0.0103 - acc: 0.9969 - val_loss: 0.0993 - val_acc: 0.9768\n"
          ]
        }
      ],
      "source": [
        "model.compile(optimizer='adam', loss='categorical_crossentropy', metrics=['accuracy'])\n",
        "train_history = model.fit(x=x_train_image, y=y_train_label, validation_split=0.2, epochs=10, batch_size=32, verbose=1)"
      ]
    },
    {
      "cell_type": "code",
      "execution_count": 9,
      "metadata": {},
      "outputs": [
        {
          "name": "stdout",
          "output_type": "stream",
          "text": [
            "<keras.callbacks.History object at 0x00000241F8DF7898>\n",
            "{'val_loss': [0.15292946962515513, 0.11377028911498685, 0.08652203416715687, 0.09220366206260708, 0.08092132715616997, 0.08740537146828137, 0.08586481923454752, 0.10477497359471939, 0.08888331181888255, 0.09927873780838854], 'val_acc': [0.9550833333333333, 0.9664166666666667, 0.974, 0.9726666666666667, 0.9763333333333334, 0.97625, 0.9775, 0.97325, 0.9773333333333334, 0.97675], 'loss': [0.2680024356308083, 0.10759020264726132, 0.06932850282266736, 0.04801058113404239, 0.036589141471699504, 0.02705730552150635, 0.01903769810965362, 0.016188045993209624, 0.012101043386360592, 0.010319112501165364], 'acc': [0.9234583333333334, 0.9681875, 0.9787291666666667, 0.9855416666666666, 0.9887708333333334, 0.9918541666666667, 0.9942083333333334, 0.9952291666666667, 0.9963958333333334, 0.9968958333333333]}\n"
          ]
        }
      ],
      "source": [
        "print(train_history)\n",
        "print(train_history.history)"
      ]
    },
    {
      "cell_type": "markdown",
      "metadata": {
        "colab_type": "text",
        "id": "pV1Ftdb0PloP"
      },
      "source": [
        "## \u4ee5\u5716\u5f62\u986f\u793a\u8a13\u7df4\u904e\u7a0b"
      ]
    },
    {
      "cell_type": "code",
      "execution_count": 10,
      "metadata": {
        "colab": {
          "autoexec": {
            "startup": false,
            "wait_interval": 0
          }
        },
        "colab_type": "code",
        "id": "EEmuoa1dPloQ"
      },
      "outputs": [],
      "source": [
        "def show_train_history(train_history, train_hst_name, val_hst_name):\n",
        "    plt.plot(train_history.history[train_hst_name])\n",
        "    plt.plot(train_history.history[val_hst_name])\n",
        "    plt.xlabel('Epoch')\n",
        "    plt.ylabel(train_hst_name)\n",
        "    plt.title('Train History')\n",
        "    plt.legend(['train', 'validation'], loc='upper left')\n",
        "    plt.show()"
      ]
    },
    {
      "cell_type": "code",
      "execution_count": 11,
      "metadata": {
        "colab": {
          "autoexec": {
            "startup": false,
            "wait_interval": 0
          },
          "base_uri": "https://localhost:8080/",
          "height": 376
        },
        "colab_type": "code",
        "executionInfo": {
          "elapsed": 1451,
          "status": "ok",
          "timestamp": 1533441789030,
          "user": {
            "displayName": "Edward Cheng",
            "photoUrl": "//lh4.googleusercontent.com/-ANnwjGu3IBk/AAAAAAAAAAI/AAAAAAAAAAc/qXXg6Jek9xw/s50-c-k-no/photo.jpg",
            "userId": "112554017642991017343"
          },
          "user_tz": -480
        },
        "id": "fvE2WsejPloT",
        "outputId": "bb56e170-8850-409e-bbb2-eb6b5b89e528"
      },
      "outputs": [
        {
          "data": {
            "image/png": "[encoded data removed]",
            "text/plain": [
              "<Figure size 432x288 with 1 Axes>"
            ]
          },
          "metadata": {
            "needs_background": "light"
          },
          "output_type": "display_data"
        }
      ],
      "source": [
        "show_train_history(train_history, 'acc', 'val_acc')"
      ]
    },
    {
      "cell_type": "code",
      "execution_count": 12,
      "metadata": {
        "colab": {
          "autoexec": {
            "startup": false,
            "wait_interval": 0
          },
          "base_uri": "https://localhost:8080/",
          "height": 376
        },
        "colab_type": "code",
        "executionInfo": {
          "elapsed": 1937,
          "status": "ok",
          "timestamp": 1533441791049,
          "user": {
            "displayName": "Edward Cheng",
            "photoUrl": "//lh4.googleusercontent.com/-ANnwjGu3IBk/AAAAAAAAAAI/AAAAAAAAAAc/qXXg6Jek9xw/s50-c-k-no/photo.jpg",
            "userId": "112554017642991017343"
          },
          "user_tz": -480
        },
        "id": "zIYyrnFWPloW",
        "outputId": "4bdbd1fa-6f25-49af-88d0-8d35f6e2ecaa"
      },
      "outputs": [
        {
          "data": {
            "image/png": "[encoded data removed]",
            "text/plain": [
              "<Figure size 432x288 with 1 Axes>"
            ]
          },
          "metadata": {
            "needs_background": "light"
          },
          "output_type": "display_data"
        }
      ],
      "source": [
        "show_train_history(train_history, 'loss', 'val_loss')"
      ]
    },
    {
      "cell_type": "markdown",
      "metadata": {
        "colab_type": "text",
        "id": "h1z2y0g-PloZ"
      },
      "source": [
        "## \u8a55\u4f30\u6a21\u578b\u6e96\u78ba\u7387"
      ]
    },
    {
      "cell_type": "code",
      "execution_count": 13,
      "metadata": {
        "colab": {
          "autoexec": {
            "startup": false,
            "wait_interval": 0
          },
          "base_uri": "https://localhost:8080/",
          "height": 68
        },
        "colab_type": "code",
        "executionInfo": {
          "elapsed": 1425,
          "status": "ok",
          "timestamp": 1533441792584,
          "user": {
            "displayName": "Edward Cheng",
            "photoUrl": "//lh4.googleusercontent.com/-ANnwjGu3IBk/AAAAAAAAAAI/AAAAAAAAAAc/qXXg6Jek9xw/s50-c-k-no/photo.jpg",
            "userId": "112554017642991017343"
          },
          "user_tz": -480
        },
        "id": "vMawurJqPloZ",
        "outputId": "31465f8d-cfad-49b8-dc9e-90d643e6b4a8"
      },
      "outputs": [
        {
          "name": "stdout",
          "output_type": "stream",
          "text": [
            "10000/10000 [==============================] - 0s 21us/step\n",
            "accuracy: 0.9785\n"
          ]
        }
      ],
      "source": [
        "scores = model.evaluate(x_test_image, y_test_label)\n",
        "print('accuracy:', scores[1])"
      ]
    },
    {
      "cell_type": "code",
      "execution_count": null,
      "metadata": {},
      "outputs": [],
      "source": []
    }
  ],
  "metadata": {
    "accelerator": "GPU",
    "colab": {
      "collapsed_sections": [],
      "default_view": {},
      "name": "Keras_Mnist_MLP_h256.ipynb",
      "provenance": [],
      "version": "0.3.2",
      "views": {}
    },
    "kernelspec": {
      "display_name": "Python 3",
      "language": "python",
      "name": "python3"
    },
    "language_info": {
      "codemirror_mode": {
        "name": "ipython",
        "version": 3
      },
      "file_extension": ".py",
      "mimetype": "text/x-python",
      "name": "python",
      "nbconvert_exporter": "python",
      "pygments_lexer": "ipython3",
      "version": "3.7.3"
    }
  },
  "nbformat": 4,
  "nbformat_minor": 1
}