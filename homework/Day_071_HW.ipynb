{
  "cells": [
    {
      "cell_type": "markdown",
      "metadata": {
        "colab_type": "text",
        "id": "cj4tE8e8iUtO"
      },
      "source": [
        "## \u4f5c\u696d\u76ee\u6a19\n",
        "\n",
        "1. \u85c9\u7531\u56fa\u5b9a\u7684 dataset, \u4f86\u9a57\u8b49\u4e0d\u540c loss function\n",
        "2. Dataset \u7684\u7279\u6027\u8ddf\u6211\u5011\u9078\u7528\u7684 loss function \u5c0d accrancy \u7684\u5f71\u97ff"
      ]
    },
    {
      "cell_type": "markdown",
      "metadata": {},
      "source": [
        "## \u4f5c\u696d\u91cd\u9ede\n",
        "\n",
        "\u8acb\u5206\u5225\u9078\u7528 MSE, binary _crossentropy, \u4e26\u67e5\u770b train/test accurancy and loss rate"
      ]
    },
    {
      "cell_type": "markdown",
      "metadata": {},
      "source": [
        "## \u53c3\u8003\u8cc7\u6599\n",
        "\n",
        "[Usage of loss functions](https://keras.io/losses/)\n",
        "\n",
        "[\u4ea4\u53c9\u71b5\uff08Cross-Entropy\uff09](https://blog.csdn.net/rtygbwwwerr/article/details/50778098)\n",
        "\n",
        "[TensorFlow \u7b14\u8bb0 - 06 - \u795e\u7ecf\u7f51\u7edc\u4f18\u5316 - \u635f\u5931\u51fd\u6570, \u81ea\u5b9a\u4e49\u635f\u5931\u51fd\u6570, \u4ea4\u53c9\u71b5](https://blog.csdn.net/qq_40147863/article/details/82015360)\n",
        "\n",
        "[Tensorflow Day9 \u5377\u7a4d\u795e\u7d93\u7db2\u8def (CNN) \u5206\u6790 (2) - Filter, ReLU, MaxPolling](https://ithelp.ithome.com.tw/articles/10187424)"
      ]
    },
    {
      "cell_type": "markdown",
      "metadata": {
        "colab_type": "text",
        "id": "GxKuzQLQiUsP"
      },
      "source": [
        "## \u8cc7\u6599\u6e96\u5099"
      ]
    },
    {
      "cell_type": "code",
      "execution_count": 1,
      "metadata": {
        "colab": {},
        "colab_type": "code",
        "id": "Qd68OQjciUsM"
      },
      "outputs": [
        {
          "name": "stderr",
          "output_type": "stream",
          "text": [
            "Using TensorFlow backend.\n"
          ]
        }
      ],
      "source": [
        "import numpy as np\n",
        "import tensorflow as tf\n",
        "import matplotlib.pyplot as plt\n",
        "import keras\n",
        "from keras.utils import np_utils\n",
        "from keras.datasets import cifar10\n",
        "from keras.models import Sequential\n",
        "from keras.layers import Dense, Dropout, Activation, Flatten, Conv2D, MaxPooling2D, ZeroPadding2D\n",
        "np.random.seed(10)\n",
        "tf.logging.set_verbosity(tf.logging.ERROR)"
      ]
    },
    {
      "cell_type": "code",
      "execution_count": 2,
      "metadata": {
        "colab": {},
        "colab_type": "code",
        "id": "MIbFZdTCiUsQ"
      },
      "outputs": [],
      "source": [
        "(x_img_train, y_label_train), (x_img_test, y_label_test) = cifar10.load_data()"
      ]
    },
    {
      "cell_type": "code",
      "execution_count": 3,
      "metadata": {
        "colab": {},
        "colab_type": "code",
        "id": "J8CJVjNOiUsS"
      },
      "outputs": [],
      "source": [
        "def normalize_mnist_data(x, y):\n",
        "    x = x.astype('float32') / 255\n",
        "    y = np_utils.to_categorical(y)\n",
        "    return x, y\n",
        "\n",
        "def normalize_result(x, y):\n",
        "    print('x_image.shape:', x.shape)\n",
        "    print('y_label.shape:', y.shape)"
      ]
    },
    {
      "cell_type": "code",
      "execution_count": 4,
      "metadata": {
        "colab": {},
        "colab_type": "code",
        "id": "V3P6P4DXiUsV"
      },
      "outputs": [
        {
          "name": "stdout",
          "output_type": "stream",
          "text": [
            "Before normalization:\n",
            "x_image.shape: (50000, 32, 32, 3)\n",
            "y_label.shape: (50000, 1)\n"
          ]
        }
      ],
      "source": [
        "print('Before normalization:')\n",
        "normalize_result(x_img_train, y_label_train)"
      ]
    },
    {
      "cell_type": "code",
      "execution_count": 5,
      "metadata": {
        "colab": {},
        "colab_type": "code",
        "id": "vsDyjKYliUsX"
      },
      "outputs": [
        {
          "name": "stdout",
          "output_type": "stream",
          "text": [
            "After normalization:\n",
            "x_image.shape: (50000, 32, 32, 3)\n",
            "y_label.shape: (50000, 10)\n"
          ]
        }
      ],
      "source": [
        "print('After normalization:')\n",
        "x_img_train, y_label_train = normalize_mnist_data(x_img_train, y_label_train)\n",
        "x_img_test, y_label_test = normalize_mnist_data(x_img_test, y_label_test)\n",
        "normalize_result(x_img_train, y_label_train)"
      ]
    },
    {
      "cell_type": "markdown",
      "metadata": {
        "colab_type": "text",
        "id": "RutW2OtgiUsZ"
      },
      "source": [
        "## \u5efa\u7acb\u6a21\u578b"
      ]
    },
    {
      "cell_type": "code",
      "execution_count": 6,
      "metadata": {
        "colab": {},
        "colab_type": "code",
        "id": "aHz592aXiUsa"
      },
      "outputs": [],
      "source": [
        "# \u5ba3\u544a\u63a1\u7528\u5e8f\u5217\u6a21\u578b\n",
        "model = Sequential()\n",
        "\n",
        "# \u5377\u7a4d\u5c641\u8207\u6c60\u5316\u5c641\n",
        "model.add(Conv2D(filters=32, kernel_size=(3, 3,), input_shape=(32, 32, 3,), activation='relu', padding='same'))\n",
        "model.add(Dropout(rate=0.25))\n",
        "model.add(MaxPooling2D(pool_size=(2, 2,)))\n",
        "\n",
        "# \u5377\u7a4d\u5c642\u8207\u6c60\u5316\u5c642\n",
        "model.add(Conv2D(filters=64, kernel_size=(3, 3,), activation='relu', padding='same'))\n",
        "model.add(Dropout(rate=0.25))\n",
        "model.add(MaxPooling2D(pool_size=(2, 2,)))\n",
        "\n",
        "# \u5e73\u5766\u5c64\n",
        "model.add(Flatten())\n",
        "model.add(Dropout(rate=0.25))\n",
        "\n",
        "# \u5168\u7db2\u8def\u9023\u63a5\u5c64\n",
        "model.add(Dense(1024, activation='relu'))\n",
        "model.add(Dropout(rate=0.25))\n",
        "\n",
        "# \u8f38\u51fa\u5c64\n",
        "model.add(Dense(10, activation='softmax'))"
      ]
    },
    {
      "cell_type": "code",
      "execution_count": 7,
      "metadata": {
        "colab": {},
        "colab_type": "code",
        "id": "ZxzRIjR0iUtH"
      },
      "outputs": [
        {
          "name": "stdout",
          "output_type": "stream",
          "text": [
            "_________________________________________________________________\n",
            "Layer (type)                 Output Shape              Param #   \n",
            "=================================================================\n",
            "conv2d_1 (Conv2D)            (None, 32, 32, 32)        896       \n",
            "_________________________________________________________________\n",
            "dropout_1 (Dropout)          (None, 32, 32, 32)        0         \n",
            "_________________________________________________________________\n",
            "max_pooling2d_1 (MaxPooling2 (None, 16, 16, 32)        0         \n",
            "_________________________________________________________________\n",
            "conv2d_2 (Conv2D)            (None, 16, 16, 64)        18496     \n",
            "_________________________________________________________________\n",
            "dropout_2 (Dropout)          (None, 16, 16, 64)        0         \n",
            "_________________________________________________________________\n",
            "max_pooling2d_2 (MaxPooling2 (None, 8, 8, 64)          0         \n",
            "_________________________________________________________________\n",
            "flatten_1 (Flatten)          (None, 4096)              0         \n",
            "_________________________________________________________________\n",
            "dropout_3 (Dropout)          (None, 4096)              0         \n",
            "_________________________________________________________________\n",
            "dense_1 (Dense)              (None, 1024)              4195328   \n",
            "_________________________________________________________________\n",
            "dropout_4 (Dropout)          (None, 1024)              0         \n",
            "_________________________________________________________________\n",
            "dense_2 (Dense)              (None, 10)                10250     \n",
            "=================================================================\n",
            "Total params: 4,224,970\n",
            "Trainable params: 4,224,970\n",
            "Non-trainable params: 0\n",
            "_________________________________________________________________\n"
          ]
        }
      ],
      "source": [
        "model.summary()"
      ]
    },
    {
      "cell_type": "markdown",
      "metadata": {
        "colab_type": "text",
        "id": "QJCtpJM0iUtJ"
      },
      "source": [
        "## \u8f09\u5165\u4e4b\u524d\u8a13\u7df4\u7684\u6a21\u578b"
      ]
    },
    {
      "cell_type": "code",
      "execution_count": 8,
      "metadata": {
        "colab": {},
        "colab_type": "code",
        "id": "JU3A6NzQiUtK"
      },
      "outputs": [
        {
          "name": "stdout",
          "output_type": "stream",
          "text": [
            "\u8f09\u5165\u53c3\u6578\u5931\u6557! \u958b\u59cb\u8a13\u7df4\u4e00\u500b\u65b0\u6a21\u578b...\n"
          ]
        }
      ],
      "source": [
        "try:\n",
        "    model.load_weights('data/part07/day_071_hw_cifar10_weights.h5')\n",
        "    print('\u8f09\u5165\u53c3\u6578\u6210\u529f! \u7e7c\u7e8c\u8a13\u7df4\u6a21\u578b...')\n",
        "except:\n",
        "    print('\u8f09\u5165\u53c3\u6578\u5931\u6557! \u958b\u59cb\u8a13\u7df4\u4e00\u500b\u65b0\u6a21\u578b...')"
      ]
    },
    {
      "cell_type": "code",
      "execution_count": 9,
      "metadata": {},
      "outputs": [],
      "source": [
        "def show_train_history(train_history, train_hst_name, val_hst_name):\n",
        "    plt.plot(train_history.history[train_hst_name])\n",
        "    plt.plot(train_history.history[val_hst_name])\n",
        "    plt.xlabel('Epoch')\n",
        "    plt.ylabel(train_hst_name)\n",
        "    plt.title('Train History')\n",
        "    plt.legend(['train', 'validation'], loc='upper left')\n",
        "    plt.show()"
      ]
    },
    {
      "cell_type": "markdown",
      "metadata": {
        "colab_type": "text",
        "id": "qBbCuziziUtM"
      },
      "source": [
        "## \u8a13\u7df4\u6a21\u578b"
      ]
    },
    {
      "cell_type": "code",
      "execution_count": 10,
      "metadata": {
        "colab": {},
        "colab_type": "code",
        "id": "Q6BiBcseiUtP"
      },
      "outputs": [
        {
          "name": "stdout",
          "output_type": "stream",
          "text": [
            "Train on 37500 samples, validate on 12500 samples\n",
            "Epoch 1/12\n",
            "37500/37500 [==============================] - 129s 3ms/step - loss: 0.0699 - acc: 0.4328 - val_loss: 0.0614 - val_acc: 0.5516\n",
            "Epoch 2/12\n",
            "37500/37500 [==============================] - 135s 4ms/step - loss: 0.0561 - acc: 0.5723 - val_loss: 0.0543 - val_acc: 0.6226\n",
            "Epoch 3/12\n",
            "37500/37500 [==============================] - 127s 3ms/step - loss: 0.0496 - acc: 0.6294 - val_loss: 0.0510 - val_acc: 0.6528\n",
            "Epoch 4/12\n",
            "37500/37500 [==============================] - 138s 4ms/step - loss: 0.0454 - acc: 0.6654 - val_loss: 0.0478 - val_acc: 0.6535\n",
            "Epoch 5/12\n",
            "37500/37500 [==============================] - 137s 4ms/step - loss: 0.0415 - acc: 0.6964 - val_loss: 0.0449 - val_acc: 0.6811\n",
            "Epoch 6/12\n",
            "37500/37500 [==============================] - 139s 4ms/step - loss: 0.0384 - acc: 0.7245 - val_loss: 0.0420 - val_acc: 0.7002\n",
            "Epoch 7/12\n",
            "37500/37500 [==============================] - 137s 4ms/step - loss: 0.0350 - acc: 0.7502 - val_loss: 0.0403 - val_acc: 0.7115\n",
            "Epoch 8/12\n",
            "37500/37500 [==============================] - 137s 4ms/step - loss: 0.0321 - acc: 0.7750 - val_loss: 0.0391 - val_acc: 0.7222\n",
            "Epoch 9/12\n",
            "37500/37500 [==============================] - 138s 4ms/step - loss: 0.0292 - acc: 0.7983 - val_loss: 0.0388 - val_acc: 0.7229\n",
            "Epoch 10/12\n",
            "37500/37500 [==============================] - 129s 3ms/step - loss: 0.0267 - acc: 0.8164 - val_loss: 0.0378 - val_acc: 0.7290\n",
            "Epoch 11/12\n",
            "37500/37500 [==============================] - 132s 4ms/step - loss: 0.0242 - acc: 0.8359 - val_loss: 0.0379 - val_acc: 0.7278\n",
            "Epoch 12/12\n",
            "37500/37500 [==============================] - 125s 3ms/step - loss: 0.0226 - acc: 0.8480 - val_loss: 0.0380 - val_acc: 0.7230\n"
          ]
        }
      ],
      "source": [
        "model.compile(optimizer='Adam', loss='mse', metrics=['accuracy'])\n",
        "train_history = model.fit(x=x_img_train, y=y_label_train, validation_split=0.25, epochs=12, batch_size=128, verbose=1)"
      ]
    },
    {
      "cell_type": "code",
      "execution_count": 11,
      "metadata": {
        "colab": {},
        "colab_type": "code",
        "id": "4-GdDgmQiUtS"
      },
      "outputs": [
        {
          "data": {
            "image/png": "[encoded data removed]",
            "text/plain": [
              "<Figure size 432x288 with 1 Axes>"
            ]
          },
          "metadata": {
            "needs_background": "light"
          },
          "output_type": "display_data"
        }
      ],
      "source": [
        "show_train_history(train_history, 'acc', 'val_acc')"
      ]
    },
    {
      "cell_type": "code",
      "execution_count": 12,
      "metadata": {},
      "outputs": [
        {
          "data": {
            "image/png": "[encoded data removed]",
            "text/plain": [
              "<Figure size 432x288 with 1 Axes>"
            ]
          },
          "metadata": {
            "needs_background": "light"
          },
          "output_type": "display_data"
        }
      ],
      "source": [
        "show_train_history(train_history, 'loss', 'val_loss')"
      ]
    },
    {
      "cell_type": "code",
      "execution_count": 13,
      "metadata": {},
      "outputs": [
        {
          "name": "stdout",
          "output_type": "stream",
          "text": [
            "Train on 37500 samples, validate on 12500 samples\n",
            "Epoch 1/12\n",
            "37500/37500 [==============================] - 127s 3ms/step - loss: 0.0765 - acc: 0.9743 - val_loss: 0.1272 - val_acc: 0.9511\n",
            "Epoch 2/12\n",
            "37500/37500 [==============================] - 126s 3ms/step - loss: 0.0668 - acc: 0.9773 - val_loss: 0.1255 - val_acc: 0.9522\n",
            "Epoch 3/12\n",
            "37500/37500 [==============================] - 126s 3ms/step - loss: 0.0605 - acc: 0.9790 - val_loss: 0.1238 - val_acc: 0.9530\n",
            "Epoch 4/12\n",
            "37500/37500 [==============================] - 126s 3ms/step - loss: 0.0533 - acc: 0.9812 - val_loss: 0.1247 - val_acc: 0.9524\n",
            "Epoch 5/12\n",
            "37500/37500 [==============================] - 126s 3ms/step - loss: 0.0480 - acc: 0.9829 - val_loss: 0.1254 - val_acc: 0.9526\n",
            "Epoch 6/12\n",
            "37500/37500 [==============================] - 127s 3ms/step - loss: 0.0432 - acc: 0.9844 - val_loss: 0.1332 - val_acc: 0.9498\n",
            "Epoch 7/12\n",
            "37500/37500 [==============================] - 128s 3ms/step - loss: 0.0391 - acc: 0.9859 - val_loss: 0.1293 - val_acc: 0.9512\n",
            "Epoch 8/12\n",
            "37500/37500 [==============================] - 133s 4ms/step - loss: 0.0371 - acc: 0.9866 - val_loss: 0.1295 - val_acc: 0.9518\n",
            "Epoch 9/12\n",
            "37500/37500 [==============================] - 135s 4ms/step - loss: 0.0328 - acc: 0.9881 - val_loss: 0.1319 - val_acc: 0.9515\n",
            "Epoch 10/12\n",
            "37500/37500 [==============================] - 134s 4ms/step - loss: 0.0303 - acc: 0.9890 - val_loss: 0.1340 - val_acc: 0.9510\n",
            "Epoch 11/12\n",
            "37500/37500 [==============================] - 133s 4ms/step - loss: 0.0300 - acc: 0.9892 - val_loss: 0.1333 - val_acc: 0.9514\n",
            "Epoch 12/12\n",
            "37500/37500 [==============================] - 133s 4ms/step - loss: 0.0270 - acc: 0.9903 - val_loss: 0.1377 - val_acc: 0.9505\n"
          ]
        }
      ],
      "source": [
        "model.compile(optimizer='Adam', loss='binary_crossentropy', metrics=['accuracy'])\n",
        "train_history = model.fit(x=x_img_train, y=y_label_train, validation_split=0.25, epochs=12, batch_size=128, verbose=1)"
      ]
    },
    {
      "cell_type": "code",
      "execution_count": 14,
      "metadata": {},
      "outputs": [
        {
          "data": {
            "image/png": "[encoded data removed]",
            "text/plain": [
              "<Figure size 432x288 with 1 Axes>"
            ]
          },
          "metadata": {
            "needs_background": "light"
          },
          "output_type": "display_data"
        }
      ],
      "source": [
        "show_train_history(train_history, 'acc', 'val_acc')"
      ]
    },
    {
      "cell_type": "code",
      "execution_count": 15,
      "metadata": {},
      "outputs": [
        {
          "data": {
            "image/png": "[encoded data removed]",
            "text/plain": [
              "<Figure size 432x288 with 1 Axes>"
            ]
          },
          "metadata": {
            "needs_background": "light"
          },
          "output_type": "display_data"
        }
      ],
      "source": [
        "show_train_history(train_history, 'loss', 'val_loss')"
      ]
    },
    {
      "cell_type": "code",
      "execution_count": null,
      "metadata": {},
      "outputs": [],
      "source": []
    }
  ],
  "metadata": {
    "colab": {
      "name": "Day71-\u4f7f\u7528\u640d\u5931\u51fd\u6578_HW.ipynb",
      "provenance": [],
      "version": "0.3.2"
    },
    "kernelspec": {
      "display_name": "Python 3",
      "language": "python",
      "name": "python3"
    },
    "language_info": {
      "codemirror_mode": {
        "name": "ipython",
        "version": 3
      },
      "file_extension": ".py",
      "mimetype": "text/x-python",
      "name": "python",
      "nbconvert_exporter": "python",
      "pygments_lexer": "ipython3",
      "version": "3.7.3"
    }
  },
  "nbformat": 4,
  "nbformat_minor": 1
}