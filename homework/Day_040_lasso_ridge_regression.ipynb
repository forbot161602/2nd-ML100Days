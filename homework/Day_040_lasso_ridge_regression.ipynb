{
  "cells": [
    {
      "cell_type": "code",
      "execution_count": 1,
      "metadata": {},
      "outputs": [],
      "source": [
        "import numpy as np\n",
        "import matplotlib.pyplot as plt\n",
        "\n",
        "from sklearn import datasets, linear_model\n",
        "from sklearn.model_selection import train_test_split\n",
        "from sklearn.metrics import mean_squared_error, r2_score"
      ]
    },
    {
      "cell_type": "code",
      "execution_count": 2,
      "metadata": {},
      "outputs": [],
      "source": [
        "# \u8b80\u53d6\u7cd6\u5c3f\u75c5\u8cc7\u6599\u96c6\n",
        "diabetes = datasets.load_diabetes()\n",
        "\n",
        "# \u5207\u5206\u8a13\u7df4\u96c6/\u6e2c\u8a66\u96c6\n",
        "x_train, x_test, y_train, y_test = train_test_split(diabetes.data, diabetes.target, test_size=0.2, random_state=4)\n",
        "\n",
        "# \u5efa\u7acb\u4e00\u500b\u7dda\u6027\u56de\u6b78\u6a21\u578b\n",
        "lreg = linear_model.LinearRegression()\n",
        "\n",
        "# \u5c07\u8a13\u7df4\u8cc7\u6599\u4e1f\u9032\u53bb\u6a21\u578b\u8a13\u7df4\n",
        "lreg.fit(x_train, y_train)\n",
        "\n",
        "# \u5c07\u6e2c\u8a66\u8cc7\u6599\u4e1f\u9032\u6a21\u578b\u5f97\u5230\u9810\u6e2c\u7d50\u679c\n",
        "y_pred = lreg.predict(x_test)"
      ]
    },
    {
      "cell_type": "code",
      "execution_count": 3,
      "metadata": {},
      "outputs": [
        {
          "name": "stdout",
          "output_type": "stream",
          "text": [
            "[  33.40877011 -292.24672884  481.07153405  369.06269614 -966.37849405\n",
            "  589.81383056  232.61924401  288.3263166   802.72704593   37.81285219]\n"
          ]
        }
      ],
      "source": [
        "print(lreg.coef_)"
      ]
    },
    {
      "cell_type": "code",
      "execution_count": 4,
      "metadata": {},
      "outputs": [
        {
          "name": "stdout",
          "output_type": "stream",
          "text": [
            "Mean squared error: 2939.42\n"
          ]
        }
      ],
      "source": [
        "# \u9810\u6e2c\u503c\u8207\u5be6\u969b\u503c\u7684\u5dee\u8ddd\uff0c\u4f7f\u7528 MSE\n",
        "print(\"Mean squared error: %.2f\" % mean_squared_error(y_test, y_pred))"
      ]
    },
    {
      "cell_type": "markdown",
      "metadata": {},
      "source": [
        "### LASSO"
      ]
    },
    {
      "cell_type": "code",
      "execution_count": 5,
      "metadata": {},
      "outputs": [],
      "source": [
        "# \u8b80\u53d6\u7cd6\u5c3f\u75c5\u8cc7\u6599\u96c6\n",
        "diabetes = datasets.load_diabetes()\n",
        "\n",
        "# \u5207\u5206\u8a13\u7df4\u96c6/\u6e2c\u8a66\u96c6\n",
        "x_train, x_test, y_train, y_test = train_test_split(diabetes.data, diabetes.target, test_size=0.2, random_state=4)\n",
        "\n",
        "# \u5efa\u7acb\u4e00\u500b\u7dda\u6027\u56de\u6b78\u6a21\u578b\n",
        "lasso = linear_model.Lasso(alpha=1.0)\n",
        "\n",
        "# \u5c07\u8a13\u7df4\u8cc7\u6599\u4e1f\u9032\u53bb\u6a21\u578b\u8a13\u7df4\n",
        "lasso.fit(x_train, y_train)\n",
        "\n",
        "# \u5c07\u6e2c\u8a66\u8cc7\u6599\u4e1f\u9032\u6a21\u578b\u5f97\u5230\u9810\u6e2c\u7d50\u679c\n",
        "y_pred = lasso.predict(x_test)"
      ]
    },
    {
      "cell_type": "code",
      "execution_count": 6,
      "metadata": {},
      "outputs": [
        {
          "name": "stdout",
          "output_type": "stream",
          "text": [
            "[  0.          -0.         321.203877    57.74744332   0.\n",
            "   0.          -0.           0.         332.41817196   0.        ]\n"
          ]
        }
      ],
      "source": [
        "# \u5370\u51fa\u5404\u7279\u5fb5\u5c0d\u61c9\u7684\u4fc2\u6578\uff0c\u53ef\u4ee5\u770b\u5230\u8a31\u591a\u4fc2\u6578\u90fd\u8b8a\u6210 0\uff0cLasso Regression \u7684\u78ba\u53ef\u4ee5\u505a\u7279\u5fb5\u9078\u53d6\n",
        "print(lasso.coef_)"
      ]
    },
    {
      "cell_type": "code",
      "execution_count": 7,
      "metadata": {},
      "outputs": [
        {
          "name": "stdout",
          "output_type": "stream",
          "text": [
            "Mean squared error: 3505.84\n"
          ]
        }
      ],
      "source": [
        "# \u9810\u6e2c\u503c\u8207\u5be6\u969b\u503c\u7684\u5dee\u8ddd\uff0c\u4f7f\u7528 MSE\n",
        "print(\"Mean squared error: %.2f\" % mean_squared_error(y_test, y_pred))"
      ]
    },
    {
      "cell_type": "markdown",
      "metadata": {},
      "source": [
        "### Ridge"
      ]
    },
    {
      "cell_type": "code",
      "execution_count": 8,
      "metadata": {},
      "outputs": [],
      "source": [
        "# \u8b80\u53d6\u7cd6\u5c3f\u75c5\u8cc7\u6599\u96c6\n",
        "diabetes = datasets.load_diabetes()\n",
        "\n",
        "# \u5207\u5206\u8a13\u7df4\u96c6/\u6e2c\u8a66\u96c6\n",
        "x_train, x_test, y_train, y_test = train_test_split(diabetes.data, diabetes.target, test_size=0.2, random_state=4)\n",
        "\n",
        "# \u5efa\u7acb\u4e00\u500b\u7dda\u6027\u56de\u6b78\u6a21\u578b\n",
        "ridge = linear_model.Ridge(alpha=1.0)\n",
        "\n",
        "# \u5c07\u8a13\u7df4\u8cc7\u6599\u4e1f\u9032\u53bb\u6a21\u578b\u8a13\u7df4\n",
        "ridge.fit(x_train, y_train)\n",
        "\n",
        "# \u5c07\u6e2c\u8a66\u8cc7\u6599\u4e1f\u9032\u6a21\u578b\u5f97\u5230\u9810\u6e2c\u7d50\u679c\n",
        "y_pred = ridge.predict(x_test)"
      ]
    },
    {
      "cell_type": "code",
      "execution_count": 9,
      "metadata": {},
      "outputs": [
        {
          "name": "stdout",
          "output_type": "stream",
          "text": [
            "[  48.8125786   -85.49511577  270.22532535  201.91767903   17.41308665\n",
            "  -19.04346706 -136.47737574  122.26503311  247.60074795   95.59855598]\n"
          ]
        }
      ],
      "source": [
        "# \u5370\u51fa Ridge \u7684\u53c3\u6578\uff0c\u53ef\u4ee5\u5f88\u660e\u986f\u770b\u5230\u6bd4\u8d77 Linear Regression\uff0c\u53c3\u6578\u7684\u6578\u503c\u90fd\u660e\u986f\u5c0f\u4e86\u8a31\u591a\n",
        "print(ridge.coef_)"
      ]
    },
    {
      "cell_type": "code",
      "execution_count": 10,
      "metadata": {},
      "outputs": [
        {
          "name": "stdout",
          "output_type": "stream",
          "text": [
            "Mean squared error: 3221.42\n"
          ]
        }
      ],
      "source": [
        "# \u9810\u6e2c\u503c\u8207\u5be6\u969b\u503c\u7684\u5dee\u8ddd\uff0c\u4f7f\u7528 MSE\n",
        "print(\"Mean squared error: %.2f\" % mean_squared_error(y_test, y_pred))"
      ]
    },
    {
      "cell_type": "markdown",
      "metadata": {},
      "source": [
        "\u53ef\u4ee5\u770b\u898b LASSO \u8207 Ridge \u7684\u7d50\u679c\u4e26\u6c92\u6709\u6bd4\u539f\u672c\u7684\u7dda\u6027\u56de\u6b78\u4f86\u5f97\u597d\uff0c\n",
        "\u9019\u662f\u56e0\u70ba\u76ee\u6a19\u51fd\u6578\u88ab\u52a0\u4e0a\u4e86\u6b63\u898f\u5316\u51fd\u6578\uff0c\u8b93\u6a21\u578b\u4e0d\u80fd\u904e\u65bc\u8907\u96dc\uff0c\u76f8\u7576\u65bc\u9650\u5236\u6a21\u578b\u64ec\u548c\u8cc7\u6599\u7684\u80fd\u529b\u3002\u56e0\u6b64\u82e5\u6c92\u6709\u767c\u73fe Over-fitting \u7684\u60c5\u6cc1\uff0c\u662f\u53ef\u4ee5\u4e0d\u9700\u8981\u4e00\u958b\u59cb\u5c31\u52a0\u4e0a\u592a\u5f37\u7684\u6b63\u898f\u5316\u7684\u3002"
      ]
    },
    {
      "cell_type": "markdown",
      "metadata": {},
      "source": [
        "## \u7df4\u7fd2\u6642\u9593"
      ]
    },
    {
      "cell_type": "markdown",
      "metadata": {},
      "source": [
        "\u8acb\u4f7f\u7528\u5176\u4ed6\u8cc7\u6599\u96c6 (boston, wine)\uff0c\u4e26\u8abf\u6574\u4e0d\u540c\u7684 alpha \u4f86\u89c0\u5bdf\u6a21\u578b\u8a13\u7df4\u7684\u60c5\u5f62\u3002"
      ]
    },
    {
      "cell_type": "code",
      "execution_count": null,
      "metadata": {},
      "outputs": [],
      "source": []
    }
  ],
  "metadata": {
    "kernelspec": {
      "display_name": "Python 3",
      "language": "python",
      "name": "python3"
    },
    "language_info": {
      "codemirror_mode": {
        "name": "ipython",
        "version": 3
      },
      "file_extension": ".py",
      "mimetype": "text/x-python",
      "name": "python",
      "nbconvert_exporter": "python",
      "pygments_lexer": "ipython3",
      "version": "3.7.3"
    }
  },
  "nbformat": 4,
  "nbformat_minor": 2
}