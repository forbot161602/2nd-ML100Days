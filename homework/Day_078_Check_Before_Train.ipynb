{
  "cells": [
    {
      "cell_type": "markdown",
      "metadata": {},
      "source": [
        "## \u7bc4\u4f8b\u91cd\u9ede\n",
        "\n",
        "\u5b78\u7fd2\u5728\u8a13\u7df4\u958b\u59cb\u524d\u6aa2\u67e5\u5404\u500b\u74b0\u7bc0\n",
        "\n",
        "1. \u662f\u5426\u6709 GPU \u8cc7\u6e90\n",
        "2. \u5c07\u524d\u8655\u7406\u8f49\u70ba\u51fd\u5f0f\uff0c\u7d71\u4e00\u8655\u7406\u8a13\u7df4\u3001\u9a57\u8b49\u8207\u6e2c\u8a66\u96c6\n",
        "3. \u5c07\u8d85\u53c3\u6578\u8b8a\u6578\u5316\uff0c\u6613\u65bc\u91cd\u8907\u4f7f\u7528\u51fd\u5f0f\u3001\u6a21\u578b\u7b49"
      ]
    },
    {
      "cell_type": "markdown",
      "metadata": {},
      "source": [
        "## GPU \u4f7f\u7528\u60c5\u6cc1\n",
        "\n",
        "\u4ee5\u4e0b\u70ba\u5728 Linux \u7684\u6307\u4ee4\uff0c\u82e5\u662f\u5728 Windows\uff0c\u8acb\u53c3\u8003[\u9023\u7d50](https://blog.csdn.net/idwtwt/article/details/78017565)\u3002"
      ]
    },
    {
      "cell_type": "code",
      "execution_count": 1,
      "metadata": {},
      "outputs": [],
      "source": [
        "# !nvidia-smi"
      ]
    },
    {
      "cell_type": "code",
      "execution_count": 2,
      "metadata": {},
      "outputs": [
        {
          "name": "stderr",
          "output_type": "stream",
          "text": [
            "Using TensorFlow backend.\n"
          ]
        }
      ],
      "source": [
        "import tensorflow as tf\n",
        "import matplotlib.pyplot as plt\n",
        "from keras.utils import np_utils\n",
        "from keras.datasets import cifar10\n",
        "from keras.models import Model\n",
        "from keras.layers import Input, Dense\n",
        "from keras.optimizers import Adam\n",
        "tf.logging.set_verbosity(tf.logging.ERROR)"
      ]
    },
    {
      "cell_type": "markdown",
      "metadata": {},
      "source": [
        "## \u6e96\u5099\u8cc7\u6599"
      ]
    },
    {
      "cell_type": "code",
      "execution_count": 3,
      "metadata": {},
      "outputs": [],
      "source": [
        "(X_train, y_train), (X_test, y_test) = cifar10.load_data()"
      ]
    },
    {
      "cell_type": "code",
      "execution_count": 4,
      "metadata": {},
      "outputs": [],
      "source": [
        "def normalize_cifar10_data(x, y):\n",
        "    x = x.reshape((len(x), -1)) / 255.\n",
        "    y = np_utils.to_categorical(y, num_classes=10)\n",
        "    return x, y\n",
        "\n",
        "def normalize_result(x, y):\n",
        "    print('x.shape:', x.shape)\n",
        "    print('y.shape:', y.shape)"
      ]
    },
    {
      "cell_type": "code",
      "execution_count": 5,
      "metadata": {},
      "outputs": [
        {
          "name": "stdout",
          "output_type": "stream",
          "text": [
            "Before normalization:\n",
            "x.shape: (50000, 32, 32, 3)\n",
            "y.shape: (50000, 1)\n"
          ]
        }
      ],
      "source": [
        "print('Before normalization:')\n",
        "normalize_result(X_train, y_train)"
      ]
    },
    {
      "cell_type": "code",
      "execution_count": 6,
      "metadata": {},
      "outputs": [
        {
          "name": "stdout",
          "output_type": "stream",
          "text": [
            "After normalization:\n",
            "x.shape: (50000, 3072)\n",
            "y.shape: (50000, 10)\n"
          ]
        }
      ],
      "source": [
        "print('After normalization:')\n",
        "X_train, y_train = normalize_cifar10_data(X_train, y_train)\n",
        "X_test, y_test = normalize_cifar10_data(X_test, y_test)\n",
        "normalize_result(X_train, y_train)"
      ]
    },
    {
      "cell_type": "markdown",
      "metadata": {},
      "source": [
        "## \u5b9a\u7fa9\u51fd\u6578"
      ]
    },
    {
      "cell_type": "code",
      "execution_count": 7,
      "metadata": {},
      "outputs": [],
      "source": [
        "def show_train_history(train_history, train_hst_name, val_hst_name):\n",
        "    plt.plot(train_history.history[train_hst_name])\n",
        "    plt.plot(train_history.history[val_hst_name])\n",
        "    plt.xlabel('Epoch')\n",
        "    plt.ylabel(train_hst_name)\n",
        "    plt.title('Train History')\n",
        "    plt.legend(['train', 'validation'], loc='upper left')\n",
        "    plt.show()"
      ]
    },
    {
      "cell_type": "markdown",
      "metadata": {},
      "source": [
        "## \u5b9a\u7fa9\u6a21\u578b"
      ]
    },
    {
      "cell_type": "code",
      "execution_count": 8,
      "metadata": {},
      "outputs": [],
      "source": [
        "def build_model(x, input_shape, output_units, neuron_numbers=()):\n",
        "    main_input, hidden_layer = Input(shape=input_shape, name='main_input'), None\n",
        "    for i, neuron_number in enumerate(neuron_numbers):\n",
        "        dense_layer = Dense(units=neuron_number, activation='relu', name=f'hidden_layer{i}')\n",
        "        hidden_layer = dense_layer(hidden_layer) if hidden_layer is not None else dense_layer(main_input)\n",
        "    main_output = Dense(units=output_units, activation='softmax', name='main_output')(hidden_layer)\n",
        "    return Model(inputs=[main_input], outputs=[main_output])"
      ]
    },
    {
      "cell_type": "code",
      "execution_count": 9,
      "metadata": {},
      "outputs": [
        {
          "name": "stdout",
          "output_type": "stream",
          "text": [
            "_________________________________________________________________\n",
            "Layer (type)                 Output Shape              Param #   \n",
            "=================================================================\n",
            "main_input (InputLayer)      (None, 3072)              0         \n",
            "_________________________________________________________________\n",
            "hidden_layer0 (Dense)        (None, 512)               1573376   \n",
            "_________________________________________________________________\n",
            "hidden_layer1 (Dense)        (None, 256)               131328    \n",
            "_________________________________________________________________\n",
            "hidden_layer2 (Dense)        (None, 128)               32896     \n",
            "_________________________________________________________________\n",
            "main_output (Dense)          (None, 10)                1290      \n",
            "=================================================================\n",
            "Total params: 1,738,890\n",
            "Trainable params: 1,738,890\n",
            "Non-trainable params: 0\n",
            "_________________________________________________________________\n"
          ]
        }
      ],
      "source": [
        "model = build_model(X_train, (X_train.shape[-1],), 10, neuron_numbers=(512, 256, 128,))\n",
        "model.summary()"
      ]
    },
    {
      "cell_type": "markdown",
      "metadata": {},
      "source": [
        "## \u8a13\u7df4\u6a21\u578b"
      ]
    },
    {
      "cell_type": "code",
      "execution_count": 10,
      "metadata": {},
      "outputs": [],
      "source": [
        "## \u8a2d\u5b9a\u8d85\u53c3\u6578\n",
        "epochs = 100\n",
        "batch_size = 256\n",
        "learning_rate = 0.001\n",
        "\n",
        "## \u8a2d\u5b9a\u512a\u5316\u5668\n",
        "optimizer = Adam(lr=learning_rate)"
      ]
    },
    {
      "cell_type": "code",
      "execution_count": 11,
      "metadata": {},
      "outputs": [],
      "source": [
        "model.compile(optimizer=optimizer, loss='categorical_crossentropy', metrics=['accuracy'])"
      ]
    },
    {
      "cell_type": "code",
      "execution_count": 12,
      "metadata": {},
      "outputs": [
        {
          "name": "stdout",
          "output_type": "stream",
          "text": [
            "Train on 50000 samples, validate on 10000 samples\n",
            "Epoch 1/100\n",
            " - 20s - loss: 1.9240 - acc: 0.3064 - val_loss: 1.7347 - val_acc: 0.3819\n",
            "Epoch 2/100\n",
            " - 15s - loss: 1.6958 - acc: 0.3922 - val_loss: 1.7040 - val_acc: 0.4008\n",
            "Epoch 3/100\n",
            " - 15s - loss: 1.6121 - acc: 0.4238 - val_loss: 1.5954 - val_acc: 0.4327\n",
            "Epoch 4/100\n",
            " - 15s - loss: 1.5596 - acc: 0.4423 - val_loss: 1.5708 - val_acc: 0.4424\n",
            "Epoch 5/100\n",
            " - 16s - loss: 1.5060 - acc: 0.4608 - val_loss: 1.4887 - val_acc: 0.4754\n",
            "Epoch 6/100\n",
            " - 15s - loss: 1.4637 - acc: 0.4793 - val_loss: 1.4806 - val_acc: 0.4731\n",
            "Epoch 7/100\n",
            " - 14s - loss: 1.4319 - acc: 0.4888 - val_loss: 1.5128 - val_acc: 0.4623\n",
            "Epoch 8/100\n",
            " - 14s - loss: 1.4027 - acc: 0.4997 - val_loss: 1.4811 - val_acc: 0.4730\n",
            "Epoch 9/100\n",
            " - 14s - loss: 1.3744 - acc: 0.5123 - val_loss: 1.4999 - val_acc: 0.4688\n",
            "Epoch 10/100\n",
            " - 14s - loss: 1.3435 - acc: 0.5221 - val_loss: 1.4200 - val_acc: 0.4919\n",
            "Epoch 11/100\n",
            " - 14s - loss: 1.3269 - acc: 0.5261 - val_loss: 1.3790 - val_acc: 0.5077\n",
            "Epoch 12/100\n",
            " - 14s - loss: 1.3015 - acc: 0.5347 - val_loss: 1.4105 - val_acc: 0.4978\n",
            "Epoch 13/100\n",
            " - 14s - loss: 1.2731 - acc: 0.5464 - val_loss: 1.4050 - val_acc: 0.5019\n",
            "Epoch 14/100\n",
            " - 14s - loss: 1.2610 - acc: 0.5521 - val_loss: 1.4203 - val_acc: 0.4966\n",
            "Epoch 15/100\n",
            " - 14s - loss: 1.2315 - acc: 0.5609 - val_loss: 1.4109 - val_acc: 0.5054\n",
            "Epoch 16/100\n",
            " - 14s - loss: 1.2081 - acc: 0.5690 - val_loss: 1.3708 - val_acc: 0.5180\n",
            "Epoch 17/100\n",
            " - 14s - loss: 1.1879 - acc: 0.5759 - val_loss: 1.3735 - val_acc: 0.5229\n",
            "Epoch 18/100\n",
            " - 14s - loss: 1.1660 - acc: 0.5847 - val_loss: 1.3668 - val_acc: 0.5213\n",
            "Epoch 19/100\n",
            " - 14s - loss: 1.1432 - acc: 0.5948 - val_loss: 1.4064 - val_acc: 0.5173\n",
            "Epoch 20/100\n",
            " - 14s - loss: 1.1269 - acc: 0.6016 - val_loss: 1.3917 - val_acc: 0.5160\n",
            "Epoch 21/100\n",
            " - 14s - loss: 1.1170 - acc: 0.6008 - val_loss: 1.3616 - val_acc: 0.5278\n",
            "Epoch 22/100\n",
            " - 14s - loss: 1.0905 - acc: 0.6124 - val_loss: 1.3984 - val_acc: 0.5196\n",
            "Epoch 23/100\n",
            " - 14s - loss: 1.0654 - acc: 0.6202 - val_loss: 1.3536 - val_acc: 0.5361\n",
            "Epoch 24/100\n",
            " - 14s - loss: 1.0397 - acc: 0.6292 - val_loss: 1.3744 - val_acc: 0.5314\n",
            "Epoch 25/100\n",
            " - 15s - loss: 1.0217 - acc: 0.6372 - val_loss: 1.4228 - val_acc: 0.5141\n",
            "Epoch 26/100\n",
            " - 14s - loss: 1.0096 - acc: 0.6408 - val_loss: 1.4322 - val_acc: 0.5199\n",
            "Epoch 27/100\n",
            " - 14s - loss: 0.9846 - acc: 0.6485 - val_loss: 1.4244 - val_acc: 0.5219\n",
            "Epoch 28/100\n",
            " - 14s - loss: 0.9572 - acc: 0.6596 - val_loss: 1.4113 - val_acc: 0.5222\n",
            "Epoch 29/100\n",
            " - 14s - loss: 0.9472 - acc: 0.6618 - val_loss: 1.4000 - val_acc: 0.5367\n",
            "Epoch 30/100\n",
            " - 14s - loss: 0.9277 - acc: 0.6703 - val_loss: 1.4124 - val_acc: 0.5378\n",
            "Epoch 31/100\n",
            " - 14s - loss: 0.9130 - acc: 0.6744 - val_loss: 1.4316 - val_acc: 0.5331\n",
            "Epoch 32/100\n",
            " - 14s - loss: 0.8896 - acc: 0.6837 - val_loss: 1.4831 - val_acc: 0.5262\n",
            "Epoch 33/100\n",
            " - 14s - loss: 0.8726 - acc: 0.6882 - val_loss: 1.5018 - val_acc: 0.5291\n",
            "Epoch 34/100\n",
            " - 14s - loss: 0.8512 - acc: 0.6974 - val_loss: 1.5080 - val_acc: 0.5271\n",
            "Epoch 35/100\n",
            " - 14s - loss: 0.8442 - acc: 0.6977 - val_loss: 1.5145 - val_acc: 0.5306\n",
            "Epoch 36/100\n",
            " - 14s - loss: 0.8226 - acc: 0.7054 - val_loss: 1.5674 - val_acc: 0.5241\n",
            "Epoch 37/100\n",
            " - 14s - loss: 0.8019 - acc: 0.7144 - val_loss: 1.5478 - val_acc: 0.5315\n",
            "Epoch 38/100\n",
            " - 14s - loss: 0.7901 - acc: 0.7188 - val_loss: 1.5296 - val_acc: 0.5289\n",
            "Epoch 39/100\n",
            " - 14s - loss: 0.7733 - acc: 0.7229 - val_loss: 1.5831 - val_acc: 0.5189\n",
            "Epoch 40/100\n",
            " - 14s - loss: 0.7579 - acc: 0.7282 - val_loss: 1.5836 - val_acc: 0.5298\n",
            "Epoch 41/100\n",
            " - 14s - loss: 0.7434 - acc: 0.7347 - val_loss: 1.6081 - val_acc: 0.5247\n",
            "Epoch 42/100\n",
            " - 14s - loss: 0.7219 - acc: 0.7409 - val_loss: 1.6478 - val_acc: 0.5209\n",
            "Epoch 43/100\n",
            " - 14s - loss: 0.7134 - acc: 0.7447 - val_loss: 1.6362 - val_acc: 0.5298\n",
            "Epoch 44/100\n",
            " - 14s - loss: 0.7068 - acc: 0.7478 - val_loss: 1.6861 - val_acc: 0.5182\n",
            "Epoch 45/100\n",
            " - 14s - loss: 0.6721 - acc: 0.7623 - val_loss: 1.6917 - val_acc: 0.5262\n",
            "Epoch 46/100\n",
            " - 14s - loss: 0.6672 - acc: 0.7602 - val_loss: 1.7273 - val_acc: 0.5166\n",
            "Epoch 47/100\n",
            " - 14s - loss: 0.6486 - acc: 0.7682 - val_loss: 1.7056 - val_acc: 0.5278\n",
            "Epoch 48/100\n",
            " - 14s - loss: 0.6393 - acc: 0.7721 - val_loss: 1.7931 - val_acc: 0.5189\n",
            "Epoch 49/100\n",
            " - 14s - loss: 0.6189 - acc: 0.7781 - val_loss: 1.8027 - val_acc: 0.5235\n",
            "Epoch 50/100\n",
            " - 14s - loss: 0.6139 - acc: 0.7800 - val_loss: 1.9387 - val_acc: 0.5060\n",
            "Epoch 51/100\n",
            " - 14s - loss: 0.6073 - acc: 0.7818 - val_loss: 1.8439 - val_acc: 0.5252\n",
            "Epoch 52/100\n",
            " - 14s - loss: 0.5811 - acc: 0.7914 - val_loss: 1.9029 - val_acc: 0.5162\n",
            "Epoch 53/100\n",
            " - 14s - loss: 0.5803 - acc: 0.7916 - val_loss: 1.9151 - val_acc: 0.5180\n",
            "Epoch 54/100\n",
            " - 14s - loss: 0.5635 - acc: 0.7969 - val_loss: 1.9635 - val_acc: 0.5163\n",
            "Epoch 55/100\n",
            " - 14s - loss: 0.5523 - acc: 0.8020 - val_loss: 1.9796 - val_acc: 0.5148\n",
            "Epoch 56/100\n",
            " - 14s - loss: 0.5458 - acc: 0.8051 - val_loss: 1.9979 - val_acc: 0.5112\n",
            "Epoch 57/100\n",
            " - 14s - loss: 0.5452 - acc: 0.8048 - val_loss: 1.9731 - val_acc: 0.5144\n",
            "Epoch 58/100\n",
            " - 14s - loss: 0.5226 - acc: 0.8127 - val_loss: 2.0586 - val_acc: 0.5145\n",
            "Epoch 59/100\n",
            " - 14s - loss: 0.5045 - acc: 0.8204 - val_loss: 2.0637 - val_acc: 0.5204\n",
            "Epoch 60/100\n",
            " - 14s - loss: 0.4966 - acc: 0.8229 - val_loss: 2.0961 - val_acc: 0.5183\n",
            "Epoch 61/100\n",
            " - 14s - loss: 0.4798 - acc: 0.8279 - val_loss: 2.1506 - val_acc: 0.5127\n",
            "Epoch 62/100\n",
            " - 14s - loss: 0.4836 - acc: 0.8264 - val_loss: 2.1413 - val_acc: 0.5112\n",
            "Epoch 63/100\n",
            " - 14s - loss: 0.4680 - acc: 0.8326 - val_loss: 2.2704 - val_acc: 0.5176\n",
            "Epoch 64/100\n",
            " - 14s - loss: 0.4677 - acc: 0.8322 - val_loss: 2.2034 - val_acc: 0.5092\n",
            "Epoch 65/100\n",
            " - 14s - loss: 0.4540 - acc: 0.8385 - val_loss: 2.2251 - val_acc: 0.5076\n",
            "Epoch 66/100\n",
            " - 14s - loss: 0.4537 - acc: 0.8368 - val_loss: 2.2502 - val_acc: 0.5145\n",
            "Epoch 67/100\n",
            " - 14s - loss: 0.4296 - acc: 0.8474 - val_loss: 2.3701 - val_acc: 0.5085\n",
            "Epoch 68/100\n",
            " - 14s - loss: 0.4257 - acc: 0.8470 - val_loss: 2.3574 - val_acc: 0.5127\n",
            "Epoch 69/100\n",
            " - 14s - loss: 0.4204 - acc: 0.8495 - val_loss: 2.3256 - val_acc: 0.5103\n",
            "Epoch 70/100\n",
            " - 14s - loss: 0.4168 - acc: 0.8519 - val_loss: 2.3563 - val_acc: 0.5095\n",
            "Epoch 71/100\n",
            " - 15s - loss: 0.4054 - acc: 0.8547 - val_loss: 2.5064 - val_acc: 0.5108\n",
            "Epoch 72/100\n",
            " - 14s - loss: 0.3831 - acc: 0.8632 - val_loss: 2.5720 - val_acc: 0.4982\n",
            "Epoch 73/100\n",
            " - 14s - loss: 0.4208 - acc: 0.8474 - val_loss: 2.5041 - val_acc: 0.5038\n",
            "Epoch 74/100\n",
            " - 14s - loss: 0.3736 - acc: 0.8670 - val_loss: 2.5120 - val_acc: 0.5127\n",
            "Epoch 75/100\n",
            " - 15s - loss: 0.3705 - acc: 0.8666 - val_loss: 2.4874 - val_acc: 0.5113\n",
            "Epoch 76/100\n",
            " - 14s - loss: 0.3669 - acc: 0.8688 - val_loss: 2.5759 - val_acc: 0.5128\n",
            "Epoch 77/100\n",
            " - 14s - loss: 0.3737 - acc: 0.8668 - val_loss: 2.5777 - val_acc: 0.5197\n",
            "Epoch 78/100\n",
            " - 14s - loss: 0.3666 - acc: 0.8684 - val_loss: 2.6820 - val_acc: 0.5056\n",
            "Epoch 79/100\n",
            " - 15s - loss: 0.3400 - acc: 0.8792 - val_loss: 2.6587 - val_acc: 0.5118\n",
            "Epoch 80/100\n",
            " - 14s - loss: 0.3665 - acc: 0.8682 - val_loss: 2.6381 - val_acc: 0.4999\n",
            "Epoch 81/100\n",
            " - 14s - loss: 0.3361 - acc: 0.8798 - val_loss: 2.7174 - val_acc: 0.5034\n",
            "Epoch 82/100\n",
            " - 14s - loss: 0.3174 - acc: 0.8877 - val_loss: 2.7726 - val_acc: 0.5078\n",
            "Epoch 83/100\n",
            " - 14s - loss: 0.3400 - acc: 0.8783 - val_loss: 2.8150 - val_acc: 0.5132\n",
            "Epoch 84/100\n",
            " - 15s - loss: 0.3623 - acc: 0.8707 - val_loss: 2.6962 - val_acc: 0.5097\n",
            "Epoch 85/100\n",
            " - 14s - loss: 0.3405 - acc: 0.8782 - val_loss: 2.7756 - val_acc: 0.5121\n",
            "Epoch 86/100\n",
            " - 14s - loss: 0.3056 - acc: 0.8923 - val_loss: 2.8750 - val_acc: 0.5004\n",
            "Epoch 87/100\n",
            " - 14s - loss: 0.3266 - acc: 0.8816 - val_loss: 2.8634 - val_acc: 0.5086\n",
            "Epoch 88/100\n",
            " - 14s - loss: 0.3143 - acc: 0.8872 - val_loss: 2.9439 - val_acc: 0.5016\n",
            "Epoch 89/100\n",
            " - 14s - loss: 0.3044 - acc: 0.8919 - val_loss: 2.9123 - val_acc: 0.4892\n",
            "Epoch 90/100\n",
            " - 14s - loss: 0.3096 - acc: 0.8893 - val_loss: 2.9595 - val_acc: 0.5023\n",
            "Epoch 91/100\n",
            " - 14s - loss: 0.2939 - acc: 0.8957 - val_loss: 3.0776 - val_acc: 0.5027\n",
            "Epoch 92/100\n",
            " - 14s - loss: 0.3059 - acc: 0.8888 - val_loss: 2.9228 - val_acc: 0.5099\n",
            "Epoch 93/100\n",
            " - 14s - loss: 0.2818 - acc: 0.8986 - val_loss: 3.0075 - val_acc: 0.5107\n",
            "Epoch 94/100\n",
            " - 15s - loss: 0.3015 - acc: 0.8918 - val_loss: 3.0604 - val_acc: 0.5016\n",
            "Epoch 95/100\n",
            " - 15s - loss: 0.2764 - acc: 0.9017 - val_loss: 3.0278 - val_acc: 0.5126\n"
          ]
        },
        {
          "name": "stdout",
          "output_type": "stream",
          "text": [
            "Epoch 96/100\n",
            " - 15s - loss: 0.2865 - acc: 0.8973 - val_loss: 3.0470 - val_acc: 0.5028\n",
            "Epoch 97/100\n",
            " - 15s - loss: 0.2981 - acc: 0.8922 - val_loss: 3.0944 - val_acc: 0.4957\n",
            "Epoch 98/100\n",
            " - 15s - loss: 0.2804 - acc: 0.8994 - val_loss: 3.0490 - val_acc: 0.5077\n",
            "Epoch 99/100\n",
            " - 16s - loss: 0.2862 - acc: 0.8980 - val_loss: 3.1305 - val_acc: 0.4998\n",
            "Epoch 100/100\n",
            " - 15s - loss: 0.2696 - acc: 0.9046 - val_loss: 3.1807 - val_acc: 0.5032\n"
          ]
        }
      ],
      "source": [
        "train_history = model.fit(X_train, y_train, epochs=epochs, batch_size=batch_size, validation_data=(X_test, y_test,),\n",
        "                          shuffle=True, verbose=2)"
      ]
    },
    {
      "cell_type": "code",
      "execution_count": 13,
      "metadata": {},
      "outputs": [
        {
          "data": {
            "image/png": "[encoded data removed]",
            "text/plain": [
              "<Figure size 432x288 with 1 Axes>"
            ]
          },
          "metadata": {
            "needs_background": "light"
          },
          "output_type": "display_data"
        }
      ],
      "source": [
        "show_train_history(train_history, 'acc', 'val_acc')"
      ]
    },
    {
      "cell_type": "code",
      "execution_count": 14,
      "metadata": {},
      "outputs": [
        {
          "data": {
            "image/png": "[encoded data removed]",
            "text/plain": [
              "<Figure size 432x288 with 1 Axes>"
            ]
          },
          "metadata": {
            "needs_background": "light"
          },
          "output_type": "display_data"
        }
      ],
      "source": [
        "show_train_history(train_history, 'loss', 'val_loss')"
      ]
    },
    {
      "cell_type": "markdown",
      "metadata": {},
      "source": [
        "## \u4f5c\u696d\n",
        "\n",
        "1. \u8acb\u5617\u8a66\u5c07\u8cc7\u6599\u524d\u8655\u7406\u65b9\u5f0f\u66ff\u63db\u6210\u4ee5 min/max \u8abf\u6574\u5f8c\u518d\u9032\u884c\u6a19\u6e96\u5316\u81f3 -1 ~ 1 \u9593\u3002\n",
        "2. \u8acb\u5617\u8a66\u5c07 MLP \u758a\u66f4\u6df1(e.g. 5 ~ 10 \u5c64)\uff0c\u9032\u884c\u8a13\u7df4\u5f8c\u89c0\u5bdf learning curve \u7684\u8d70\u52e2\u3002\n",
        "3. Optional: \u8acb\u6539\u7528 GPU \u9032\u884c\u8a13\u7df4(\u5982\u679c\u4f60\u6709 GPU \u7684\u8a71)\uff0c\u6bd4\u8f03\u4f7f\u7528 CPU \u8207 GPU \u7684\u8a13\u7df4\u901f\u5ea6\u3002"
      ]
    },
    {
      "cell_type": "code",
      "execution_count": null,
      "metadata": {},
      "outputs": [],
      "source": []
    }
  ],
  "metadata": {
    "kernelspec": {
      "display_name": "Python 3",
      "language": "python",
      "name": "python3"
    },
    "language_info": {
      "codemirror_mode": {
        "name": "ipython",
        "version": 3
      },
      "file_extension": ".py",
      "mimetype": "text/x-python",
      "name": "python",
      "nbconvert_exporter": "python",
      "pygments_lexer": "ipython3",
      "version": "3.7.3"
    }
  },
  "nbformat": 4,
  "nbformat_minor": 2
}