{
  "cells": [
    {
      "cell_type": "markdown",
      "metadata": {},
      "source": [
        "# \u8ab2\u7a0b\u76ee\u6a19\n",
        "\n",
        "1. Keras \u67b6\u69cb\n",
        "2. \u5982\u4f55\u5b89\u88dd\n",
        "3. \u5f8c\u81fa\u8a2d\u5b9a"
      ]
    },
    {
      "cell_type": "code",
      "execution_count": 1,
      "metadata": {},
      "outputs": [
        {
          "name": "stderr",
          "output_type": "stream",
          "text": [
            "Using TensorFlow backend.\n"
          ]
        }
      ],
      "source": [
        "import keras\n",
        "from keras import backend as K\n",
        "from keras.layers import Layer"
      ]
    },
    {
      "cell_type": "markdown",
      "metadata": {},
      "source": [
        "# \u7bc4\u4f8b\u91cd\u9ede\n",
        "\n",
        "1. \u5982\u4f55\u4f7f\u7528Keras \u8a2d\u5b9a\u5f8c\u53f0\n",
        "2. \u5982\u4f55\u914d\u7f6e CPU/GPU\n",
        "3. \u5e38\u898b\u932f\u8aa4\u8655\u7406"
      ]
    },
    {
      "cell_type": "code",
      "execution_count": 2,
      "metadata": {},
      "outputs": [
        {
          "name": "stdout",
          "output_type": "stream",
          "text": [
            "2.2.4\n"
          ]
        }
      ],
      "source": [
        "print(keras.__version__)"
      ]
    },
    {
      "cell_type": "code",
      "execution_count": 3,
      "metadata": {},
      "outputs": [
        {
          "data": {
            "text/plain": [
              "True"
            ]
          },
          "execution_count": 3,
          "metadata": {},
          "output_type": "execute_result"
        }
      ],
      "source": [
        "# GPU\u52a0\u901f\u6d4b\u8bd5: Windows\u7528\u6236\u5f97\u5230 True \u4e5f\u6c92\u6709\u95dc\u4fc2\uff0c\u56e0\u70ba Anaconda \u4e2d\u5df2\u7d93\u5167\u7f6e\u4e86 MKL \u52a0\u901f\u5eab\n",
        "import numpy\n",
        "id(numpy.dot) == id(numpy.core.multiarray.dot)"
      ]
    },
    {
      "cell_type": "code",
      "execution_count": 4,
      "metadata": {},
      "outputs": [
        {
          "data": {
            "text/plain": [
              "'float32'"
            ]
          },
          "execution_count": 4,
          "metadata": {},
          "output_type": "execute_result"
        }
      ],
      "source": [
        "# \u6aa2\u67e5 Keras float \n",
        "K.floatx()"
      ]
    },
    {
      "cell_type": "code",
      "execution_count": 5,
      "metadata": {},
      "outputs": [
        {
          "data": {
            "text/plain": [
              "'float16'"
            ]
          },
          "execution_count": 5,
          "metadata": {},
          "output_type": "execute_result"
        }
      ],
      "source": [
        "# \u8a2d\u5b9a\u6d6e\u9ede\u904b\u7b97\u503c\n",
        "K.set_floatx('float16')\n",
        "K.floatx()"
      ]
    },
    {
      "cell_type": "markdown",
      "metadata": {},
      "source": [
        "## \u5e38\u898b\u932f\u8aa4\u8655\u7406\n",
        "\n",
        "**\u5e38\u898b\u932f\u8aa4\uff1a**FutureWarning: Conversion of the second argument of issubdtype from floatto np.floatingis deprecated. In future, it will be treated as np.float64 == np.dtype(float).type.\n",
        "from ._conv import register_converters as _register_converters\n",
        "\n",
        "**\u89e3\u6c7a\u65b9\u6848\uff1a**pip install h5py==2.8.0rc1\uff0c\u5b89\u88dd h5py\uff0c\u7528\u65bc\u6a21\u578b\u7684\u4fdd\u5b58\u548c\u8f09\u5165\n",
        "\n",
        "**\u5207\u63db\u5f8c\u7aef\uff1a**Using TensorFlow backend.\n",
        "\u4f46\u662f Keras \u7684 backend \u540c\u6642\u652f\u6301 tensorflow \u548c theano\uff0c\u4e26\u4e14\u9ed8\u8a8d\u662f tensorflow\u3002\n",
        "\n",
        "**\u5e38\u898b\u932f\u8aa4\uff1a**TypeError: softmax() got an unexpected keyword argument 'axis'\n",
        "\n",
        "**\u89e3\u6c7a\u65b9\u6848\uff1a**Keras \u8207 tensorflow \u7248\u672c\u4e0d\u76f8\u7b26\uff0c\u5118\u91cf\u66f4\u65b0\u6700\u65b0\u7248\u672c\uff1apip install keras==2.2"
      ]
    },
    {
      "cell_type": "code",
      "execution_count": 6,
      "metadata": {},
      "outputs": [
        {
          "name": "stderr",
          "output_type": "stream",
          "text": [
            "WARNING: Logging before flag parsing goes to stderr.\n",
            "W0703 23:03:50.833669  6256 deprecation_wrapper.py:119] From C:\\Programs\\Anaconda3\\lib\\site-packages\\keras\\backend\\tensorflow_backend.py:74: The name tf.get_default_graph is deprecated. Please use tf.compat.v1.get_default_graph instead.\n",
            "\n",
            "W0703 23:03:50.851929  6256 deprecation_wrapper.py:119] From C:\\Programs\\Anaconda3\\lib\\site-packages\\keras\\backend\\tensorflow_backend.py:517: The name tf.placeholder is deprecated. Please use tf.compat.v1.placeholder instead.\n",
            "\n",
            "W0703 23:03:50.854928  6256 deprecation_wrapper.py:119] From C:\\Programs\\Anaconda3\\lib\\site-packages\\keras\\backend\\tensorflow_backend.py:4138: The name tf.random_uniform is deprecated. Please use tf.random.uniform instead.\n",
            "\n"
          ]
        },
        {
          "name": "stdout",
          "output_type": "stream",
          "text": [
            "{'name': 'model_1', 'layers': [{'name': 'input_1', 'class_name': 'InputLayer', 'config': {'batch_input_shape': (None, 32), 'dtype': 'float16', 'sparse': False, 'name': 'input_1'}, 'inbound_nodes': []}, {'name': 'dense_1', 'class_name': 'Dense', 'config': {'name': 'dense_1', 'trainable': True, 'units': 32, 'activation': 'linear', 'use_bias': True, 'kernel_initializer': {'class_name': 'VarianceScaling', 'config': {'scale': 1.0, 'mode': 'fan_avg', 'distribution': 'uniform', 'seed': None}}, 'bias_initializer': {'class_name': 'Zeros', 'config': {}}, 'kernel_regularizer': None, 'bias_regularizer': None, 'activity_regularizer': None, 'kernel_constraint': None, 'bias_constraint': None}, 'inbound_nodes': [[['input_1', 0, 0, {}]]]}], 'input_layers': [['input_1', 0, 0]], 'output_layers': [['dense_1', 0, 0]]}\n"
          ]
        }
      ],
      "source": [
        "from keras.utils import multi_gpu_model\n",
        "from keras.models import Model\n",
        "from keras.layers import Input, Dense\n",
        "\n",
        "inputs = Input(shape=(32,))\n",
        "outputs = Dense(32)(inputs)\n",
        "\n",
        "model = Model(inputs=inputs, outputs=outputs)\n",
        "config = model.get_config()\n",
        "print(config)"
      ]
    },
    {
      "cell_type": "code",
      "execution_count": null,
      "metadata": {},
      "outputs": [],
      "source": []
    }
  ],
  "metadata": {
    "kernelspec": {
      "display_name": "Python 3",
      "language": "python",
      "name": "python3"
    },
    "language_info": {
      "codemirror_mode": {
        "name": "ipython",
        "version": 3
      },
      "file_extension": ".py",
      "mimetype": "text/x-python",
      "name": "python",
      "nbconvert_exporter": "python",
      "pygments_lexer": "ipython3",
      "version": "3.7.3"
    }
  },
  "nbformat": 4,
  "nbformat_minor": 2
}