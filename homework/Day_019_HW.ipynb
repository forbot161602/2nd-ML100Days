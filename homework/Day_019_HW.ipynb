{
  "cells": [
    {
      "cell_type": "markdown",
      "metadata": {
        "collapsed": true
      },
      "source": [
        "# \u4f5c\u696d : (Kaggle)\u9435\u9054\u5c3c\u751f\u5b58\u9810\u6e2c\n",
        "https://www.kaggle.com/c/titanic"
      ]
    },
    {
      "cell_type": "markdown",
      "metadata": {},
      "source": [
        "# [\u4f5c\u696d\u76ee\u6a19]\n",
        "- \u8a66\u8457\u6a21\u4eff\u7bc4\u4f8b\u5beb\u6cd5, \u5728\u9435\u9054\u5c3c\u751f\u5b58\u9810\u6e2c\u4e2d, \u89c0\u5bdf\u586b\u88dc\u7f3a\u503c\u4ee5\u53ca \u6a19\u6e96\u5316 / \u6700\u5c0f\u6700\u5927\u5316 \u5c0d\u6578\u503c\u7684\u5f71\u97ff"
      ]
    },
    {
      "cell_type": "markdown",
      "metadata": {},
      "source": [
        "# [\u4f5c\u696d\u91cd\u9ede]\n",
        "- \u89c0\u5bdf\u66ff\u63db\u4e0d\u540c\u88dc\u7f3a\u65b9\u5f0f, \u5c0d\u65bc\u7279\u5fb5\u7684\u5f71\u97ff (In[4]~In[6], Out[4]~Out[6])\n",
        "- \u89c0\u5bdf\u66ff\u63db\u4e0d\u540c\u7279\u5fb5\u7e2e\u653e\u65b9\u5f0f, \u5c0d\u65bc\u7279\u5fb5\u7684\u5f71\u97ff (In[7]~In[8], Out[7]~Out[8])"
      ]
    },
    {
      "cell_type": "code",
      "execution_count": 1,
      "metadata": {},
      "outputs": [
        {
          "data": {
            "text/html": [
              "<div>\n",
              "<style scoped>\n",
              "    .dataframe tbody tr th:only-of-type {\n",
              "        vertical-align: middle;\n",
              "    }\n",
              "\n",
              "    .dataframe tbody tr th {\n",
              "        vertical-align: top;\n",
              "    }\n",
              "\n",
              "    .dataframe thead th {\n",
              "        text-align: right;\n",
              "    }\n",
              "</style>\n",
              "<table border=\"1\" class=\"dataframe\">\n",
              "  <thead>\n",
              "    <tr style=\"text-align: right;\">\n",
              "      <th></th>\n",
              "      <th>Pclass</th>\n",
              "      <th>Name</th>\n",
              "      <th>Sex</th>\n",
              "      <th>Age</th>\n",
              "      <th>SibSp</th>\n",
              "      <th>Parch</th>\n",
              "      <th>Ticket</th>\n",
              "      <th>Fare</th>\n",
              "      <th>Cabin</th>\n",
              "      <th>Embarked</th>\n",
              "    </tr>\n",
              "  </thead>\n",
              "  <tbody>\n",
              "    <tr>\n",
              "      <th>0</th>\n",
              "      <td>3</td>\n",
              "      <td>Braund, Mr. Owen Harris</td>\n",
              "      <td>male</td>\n",
              "      <td>22.0</td>\n",
              "      <td>1</td>\n",
              "      <td>0</td>\n",
              "      <td>A/5 21171</td>\n",
              "      <td>7.2500</td>\n",
              "      <td>NaN</td>\n",
              "      <td>S</td>\n",
              "    </tr>\n",
              "    <tr>\n",
              "      <th>1</th>\n",
              "      <td>1</td>\n",
              "      <td>Cumings, Mrs. John Bradley (Florence Briggs Th...</td>\n",
              "      <td>female</td>\n",
              "      <td>38.0</td>\n",
              "      <td>1</td>\n",
              "      <td>0</td>\n",
              "      <td>PC 17599</td>\n",
              "      <td>71.2833</td>\n",
              "      <td>C85</td>\n",
              "      <td>C</td>\n",
              "    </tr>\n",
              "    <tr>\n",
              "      <th>2</th>\n",
              "      <td>3</td>\n",
              "      <td>Heikkinen, Miss. Laina</td>\n",
              "      <td>female</td>\n",
              "      <td>26.0</td>\n",
              "      <td>0</td>\n",
              "      <td>0</td>\n",
              "      <td>STON/O2. 3101282</td>\n",
              "      <td>7.9250</td>\n",
              "      <td>NaN</td>\n",
              "      <td>S</td>\n",
              "    </tr>\n",
              "    <tr>\n",
              "      <th>3</th>\n",
              "      <td>1</td>\n",
              "      <td>Futrelle, Mrs. Jacques Heath (Lily May Peel)</td>\n",
              "      <td>female</td>\n",
              "      <td>35.0</td>\n",
              "      <td>1</td>\n",
              "      <td>0</td>\n",
              "      <td>113803</td>\n",
              "      <td>53.1000</td>\n",
              "      <td>C123</td>\n",
              "      <td>S</td>\n",
              "    </tr>\n",
              "    <tr>\n",
              "      <th>4</th>\n",
              "      <td>3</td>\n",
              "      <td>Allen, Mr. William Henry</td>\n",
              "      <td>male</td>\n",
              "      <td>35.0</td>\n",
              "      <td>0</td>\n",
              "      <td>0</td>\n",
              "      <td>373450</td>\n",
              "      <td>8.0500</td>\n",
              "      <td>NaN</td>\n",
              "      <td>S</td>\n",
              "    </tr>\n",
              "  </tbody>\n",
              "</table>\n",
              "</div>"
            ],
            "text/plain": [
              "   Pclass                                               Name     Sex   Age  \\\n",
              "0       3                            Braund, Mr. Owen Harris    male  22.0   \n",
              "1       1  Cumings, Mrs. John Bradley (Florence Briggs Th...  female  38.0   \n",
              "2       3                             Heikkinen, Miss. Laina  female  26.0   \n",
              "3       1       Futrelle, Mrs. Jacques Heath (Lily May Peel)  female  35.0   \n",
              "4       3                           Allen, Mr. William Henry    male  35.0   \n",
              "\n",
              "   SibSp  Parch            Ticket     Fare Cabin Embarked  \n",
              "0      1      0         A/5 21171   7.2500   NaN        S  \n",
              "1      1      0          PC 17599  71.2833   C85        C  \n",
              "2      0      0  STON/O2. 3101282   7.9250   NaN        S  \n",
              "3      1      0            113803  53.1000  C123        S  \n",
              "4      0      0            373450   8.0500   NaN        S  "
            ]
          },
          "execution_count": 1,
          "metadata": {},
          "output_type": "execute_result"
        }
      ],
      "source": [
        "# \u505a\u5b8c\u7279\u5fb5\u5de5\u7a0b\u524d\u7684\u6240\u6709\u6e96\u5099 (\u8207\u524d\u7bc4\u4f8b\u76f8\u540c)\n",
        "import copy\n",
        "import pandas as pd\n",
        "import numpy as np\n",
        "from sklearn.preprocessing import MinMaxScaler, StandardScaler\n",
        "from sklearn.linear_model import LogisticRegression\n",
        "from sklearn.model_selection import cross_val_score\n",
        "\n",
        "data_path = './data/part02/'\n",
        "df_train = pd.read_csv(data_path + 'titanic_train.csv')\n",
        "df_test = pd.read_csv(data_path + 'titanic_test.csv')\n",
        "\n",
        "ids = df_test['PassengerId']\n",
        "train_Y = df_train['Survived']\n",
        "df_train = df_train.drop(['PassengerId', 'Survived'], axis=1)\n",
        "df_test = df_test.drop(['PassengerId'], axis=1)\n",
        "df = pd.concat([df_train, df_test])\n",
        "df.head()"
      ]
    },
    {
      "cell_type": "code",
      "execution_count": 2,
      "metadata": {},
      "outputs": [
        {
          "name": "stdout",
          "output_type": "stream",
          "text": [
            "5 Numeric Features: ['Pclass', 'Age', 'SibSp', 'Parch', 'Fare']\n",
            "\n"
          ]
        }
      ],
      "source": [
        "# \u53ea\u53d6 int64, float64 \u5169\u7a2e\u6578\u503c\u578b\u6b04\u4f4d, \u5b58\u65bc num_features \u4e2d\n",
        "num_features = []\n",
        "for dtype, feature in zip(df.dtypes, df.columns):\n",
        "    if dtype == 'float64' or dtype == 'int64':\n",
        "        num_features.append(feature)\n",
        "print(f'{len(num_features)} Numeric Features: {num_features}\\n')"
      ]
    },
    {
      "cell_type": "code",
      "execution_count": 3,
      "metadata": {},
      "outputs": [
        {
          "data": {
            "text/html": [
              "<div>\n",
              "<style scoped>\n",
              "    .dataframe tbody tr th:only-of-type {\n",
              "        vertical-align: middle;\n",
              "    }\n",
              "\n",
              "    .dataframe tbody tr th {\n",
              "        vertical-align: top;\n",
              "    }\n",
              "\n",
              "    .dataframe thead th {\n",
              "        text-align: right;\n",
              "    }\n",
              "</style>\n",
              "<table border=\"1\" class=\"dataframe\">\n",
              "  <thead>\n",
              "    <tr style=\"text-align: right;\">\n",
              "      <th></th>\n",
              "      <th>Pclass</th>\n",
              "      <th>Age</th>\n",
              "      <th>SibSp</th>\n",
              "      <th>Parch</th>\n",
              "      <th>Fare</th>\n",
              "    </tr>\n",
              "  </thead>\n",
              "  <tbody>\n",
              "    <tr>\n",
              "      <th>0</th>\n",
              "      <td>3</td>\n",
              "      <td>22.0</td>\n",
              "      <td>1</td>\n",
              "      <td>0</td>\n",
              "      <td>7.2500</td>\n",
              "    </tr>\n",
              "    <tr>\n",
              "      <th>1</th>\n",
              "      <td>1</td>\n",
              "      <td>38.0</td>\n",
              "      <td>1</td>\n",
              "      <td>0</td>\n",
              "      <td>71.2833</td>\n",
              "    </tr>\n",
              "    <tr>\n",
              "      <th>2</th>\n",
              "      <td>3</td>\n",
              "      <td>26.0</td>\n",
              "      <td>0</td>\n",
              "      <td>0</td>\n",
              "      <td>7.9250</td>\n",
              "    </tr>\n",
              "    <tr>\n",
              "      <th>3</th>\n",
              "      <td>1</td>\n",
              "      <td>35.0</td>\n",
              "      <td>1</td>\n",
              "      <td>0</td>\n",
              "      <td>53.1000</td>\n",
              "    </tr>\n",
              "    <tr>\n",
              "      <th>4</th>\n",
              "      <td>3</td>\n",
              "      <td>35.0</td>\n",
              "      <td>0</td>\n",
              "      <td>0</td>\n",
              "      <td>8.0500</td>\n",
              "    </tr>\n",
              "  </tbody>\n",
              "</table>\n",
              "</div>"
            ],
            "text/plain": [
              "   Pclass   Age  SibSp  Parch     Fare\n",
              "0       3  22.0      1      0   7.2500\n",
              "1       1  38.0      1      0  71.2833\n",
              "2       3  26.0      0      0   7.9250\n",
              "3       1  35.0      1      0  53.1000\n",
              "4       3  35.0      0      0   8.0500"
            ]
          },
          "execution_count": 3,
          "metadata": {},
          "output_type": "execute_result"
        }
      ],
      "source": [
        "# \u524a\u6e1b\u6587\u5b57\u578b\u6b04\u4f4d, \u53ea\u5269\u6578\u503c\u578b\u6b04\u4f4d\n",
        "train_num = train_Y.shape[0]\n",
        "df = df[num_features]\n",
        "df.head()"
      ]
    },
    {
      "cell_type": "markdown",
      "metadata": {
        "collapsed": true
      },
      "source": [
        "# \u4f5c\u696d1\n",
        "* \u8a66\u8457\u5728\u88dc\u7a7a\u503c\u5340\u584a, \u66ff\u63db\u4e26\u57f7\u884c\u5169\u7a2e\u4ee5\u4e0a\u586b\u88dc\u7684\u7f3a\u503c, \u770b\u770b\u4f55\u8005\u6bd4\u8f03\u597d?\n",
        "\n",
        "\u7b54\uff1a\u586b\u88dc\u5e73\u5747\u503c\u8f03\u4f73"
      ]
    },
    {
      "cell_type": "code",
      "execution_count": 4,
      "metadata": {},
      "outputs": [
        {
          "name": "stdout",
          "output_type": "stream",
          "text": [
            "0.6982644788418415\n",
            "0.6959413955734954\n",
            "0.6970587140092496\n"
          ]
        }
      ],
      "source": [
        "# \u7a7a\u503c\u88dc -1, \u505a\u7f85\u5409\u65af\u8ff4\u6b78\n",
        "df_m1 = df.fillna(-1)\n",
        "train_X = df_m1[:train_num]\n",
        "estimator = LogisticRegression(solver='lbfgs')\n",
        "print(cross_val_score(estimator, train_X, train_Y, cv=5).mean())\n",
        "\n",
        "\"\"\"\n",
        "Your Code Here\n",
        "\"\"\"\n",
        "df_mn = df.fillna(df.mean())\n",
        "train_X = df_mn[:train_num]\n",
        "estimator = LogisticRegression(solver='lbfgs')\n",
        "print(cross_val_score(estimator, train_X, train_Y, cv=5).mean())\n",
        "\n",
        "df_md = df.fillna(df.median())\n",
        "train_X = df_md[:train_num]\n",
        "estimator = LogisticRegression(solver='lbfgs')\n",
        "print(cross_val_score(estimator, train_X, train_Y, cv=5).mean())"
      ]
    },
    {
      "cell_type": "markdown",
      "metadata": {
        "collapsed": true
      },
      "source": [
        "# \u4f5c\u696d2\n",
        "* \u4f7f\u7528\u4e0d\u540c\u7684\u6a19\u6e96\u5316\u65b9\u5f0f ( \u539f\u503c / \u6700\u5c0f\u6700\u5927\u5316 / \u6a19\u6e96\u5316 )\uff0c\u642d\u914d\u7f85\u5409\u65af\u8ff4\u6b78\u6a21\u578b\uff0c\u4f55\u8005\u6548\u679c\u6700\u597d?\n",
        "\n",
        "\u7b54\uff1a\u6700\u5c0f\u6700\u5927\u5316\u8f03\u4f73"
      ]
    },
    {
      "cell_type": "code",
      "execution_count": 5,
      "metadata": {},
      "outputs": [
        {
          "name": "stdout",
          "output_type": "stream",
          "text": [
            "0.6982644788418415\n",
            "0.7005053927832138\n",
            "0.6982582017719778\n"
          ]
        }
      ],
      "source": [
        "\"\"\"\n",
        "Your Code Here\n",
        "\"\"\"\n",
        "df_ov = df.fillna(-1).astype(float)\n",
        "train_X = df_ov[:train_num]\n",
        "estimator = LogisticRegression(solver='lbfgs')\n",
        "print(cross_val_score(estimator, train_X, train_Y, cv=5, error_score='raise').mean())\n",
        "\n",
        "df_mmft = MinMaxScaler().fit_transform(df.fillna(-1).astype(float))\n",
        "train_X = df_mmft[:train_num]\n",
        "estimator = LogisticRegression(solver='lbfgs')\n",
        "print(cross_val_score(estimator, train_X, train_Y, cv=5, error_score='raise').mean())\n",
        "\n",
        "df_ssft = StandardScaler().fit_transform(df.fillna(-1).astype(float))\n",
        "train_X = df_ssft[:train_num]\n",
        "estimator = LogisticRegression(solver='lbfgs')\n",
        "print(cross_val_score(estimator, train_X, train_Y, cv=5, error_score='raise').mean())"
      ]
    },
    {
      "cell_type": "code",
      "execution_count": null,
      "metadata": {},
      "outputs": [],
      "source": []
    }
  ],
  "metadata": {
    "kernelspec": {
      "display_name": "Python 3",
      "language": "python",
      "name": "python3"
    },
    "language_info": {
      "codemirror_mode": {
        "name": "ipython",
        "version": 3
      },
      "file_extension": ".py",
      "mimetype": "text/x-python",
      "name": "python",
      "nbconvert_exporter": "python",
      "pygments_lexer": "ipython3",
      "version": "3.7.3"
    }
  },
  "nbformat": 4,
  "nbformat_minor": 2
}