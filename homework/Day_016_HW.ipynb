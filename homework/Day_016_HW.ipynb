{
  "cells": [
    {
      "cell_type": "markdown",
      "metadata": {},
      "source": [
        "## \u7df4\u7fd2\u6642\u9593\n",
        "\u5c07\u4f60\u7684\u7d50\u679c\u5b58\u6210 csv, \u4e0a\u50b3\u4f60\u7684\u7b2c\u4e00\u4efd Kaggle \u6210\u7e3e\n",
        "\n",
        "Hints: https://stackoverflow.com/questions/16923281/pandas-writing-dataframe-to-csv-file"
      ]
    },
    {
      "cell_type": "markdown",
      "metadata": {},
      "source": [
        "# [\u4f5c\u696d\u76ee\u6a19]\n",
        "- \u6aa2\u8996\u4e26\u91cd\u65b0\u57f7\u884c\u8173\u672c, \u8a66\u8457\u5c07\u57f7\u884c\u7d50\u679c\u5b58\u6a94\u4e26\u63d0\u4ea4\u5230 Kaggle \u4e0a"
      ]
    },
    {
      "cell_type": "markdown",
      "metadata": {},
      "source": [
        "# [\u4f5c\u696d\u91cd\u9ede]\n",
        "- \u57f7\u884c\u5f8c, \u5c07\u6240\u5f97\u7d50\u679c, \u5b58\u6210\u53ef\u4ee5\u63d0\u4ea4\u7684 csv \u6a94 (In[10]) (Hint : \u4f7f\u7528 pandas.DataFreame.to_csv)"
      ]
    },
    {
      "cell_type": "code",
      "execution_count": 1,
      "metadata": {},
      "outputs": [],
      "source": [
        "# \u8f09\u5165\u9700\u8981\u7684\u5957\u4ef6\n",
        "import os\n",
        "import numpy as np \n",
        "import pandas as pd\n",
        "import matplotlib.pyplot as plt\n",
        "%matplotlib inline"
      ]
    },
    {
      "cell_type": "markdown",
      "metadata": {},
      "source": [
        "### \u4eff\u9020\u4e4b\u524d\u505a\u904e\u7684\u8655\u7406"
      ]
    },
    {
      "cell_type": "code",
      "execution_count": 2,
      "metadata": {},
      "outputs": [],
      "source": [
        "# \u8a2d\u5b9a data_path\n",
        "dir_data = './data/part01/'\n",
        "app_train_file = os.path.join(dir_data, 'application_train.csv')\n",
        "app_test_file = os.path.join(dir_data, 'application_test.csv')\n",
        "\n",
        "# \u8b80\u53d6\u6a94\u6848\n",
        "app_train = pd.read_csv(app_train_file)\n",
        "app_test = pd.read_csv(app_test_file)"
      ]
    },
    {
      "cell_type": "code",
      "execution_count": 3,
      "metadata": {},
      "outputs": [],
      "source": [
        "# \u7a2e\u985e 2 \u7a2e\u4ee5\u4e0b\u7684\u985e\u5225\u578b\u6b04\u4f4d\u8f49\u6a19\u7c64\u7de8\u78bc (Label Encoding)\n",
        "from sklearn.preprocessing import LabelEncoder\n",
        "le = LabelEncoder()\n",
        "le_count = 0\n",
        "\n",
        "# \u6aa2\u67e5\u6bcf\u4e00\u500b column\n",
        "for col in app_train:\n",
        "    if app_train[col].dtype == 'object':\n",
        "        # \u5982\u679c\u53ea\u6709\u5169\u7a2e\u503c\u7684\u985e\u5225\u578b\u6b04\u4f4d\n",
        "        if len(list(app_train[col].unique())) <= 2:\n",
        "            # \u5c31\u505a Label Encoder\n",
        "            le.fit(app_train[col])\n",
        "            app_train[col] = le.transform(app_train[col])\n",
        "            app_test[col] = le.transform(app_test[col])\n",
        "            \n",
        "            # \u7d00\u9304\u6709\u591a\u5c11\u500b columns \u88ab\u6a19\u7c64\u7de8\u78bc\u904e\n",
        "            le_count += 1\n",
        "            \n",
        "# \u6a19\u7c64\u7de8\u78bc (2\u7a2e\u985e\u5225) \u6b04\u4f4d\u8f49 One Hot Encoding            \n",
        "app_train = pd.get_dummies(app_train)\n",
        "app_test = pd.get_dummies(app_test)"
      ]
    },
    {
      "cell_type": "code",
      "execution_count": 4,
      "metadata": {},
      "outputs": [],
      "source": [
        "# \u53d7\u96c7\u65e5\u6578\u70ba\u7570\u5e38\u503c\u7684\u8cc7\u6599, \u53e6\u5916\u8a2d\u4e00\u500b\u6b04\u4f4d\u8a18\u9304, \u4e26\u5c07\u7570\u5e38\u7684\u65e5\u6578\u8f49\u6210\u7a7a\u503c (np.nan)\n",
        "app_train['DAYS_EMPLOYED_ANOM'] = app_train['DAYS_EMPLOYED'] == 365243\n",
        "app_train['DAYS_EMPLOYED'].replace({365243: np.nan}, inplace=True)\n",
        "app_test['DAYS_EMPLOYED_ANOM'] = app_test['DAYS_EMPLOYED'] == 365243\n",
        "app_test[\"DAYS_EMPLOYED\"].replace({365243: np.nan}, inplace=True)\n",
        "\n",
        "# \u51fa\u751f\u65e5\u6578 (DAYS_BIRTH) \u53d6\u7d55\u5c0d\u503c \n",
        "app_train['DAYS_BIRTH'] = abs(app_train['DAYS_BIRTH'])\n",
        "app_test['DAYS_BIRTH'] = abs(app_test['DAYS_BIRTH'])"
      ]
    },
    {
      "cell_type": "markdown",
      "metadata": {},
      "source": [
        "### \u505a\u597d\u524d\u8655\u7406\n",
        "\u958b\u59cb\u64ec\u5408\u6a21\u578b\u4e4b\u524d\uff0c\u6211\u5011\u8981\u78ba\u4fdd training & testing data \u7684\u6b04\u4f4d\u6578\u91cf\u4e00\u81f4\uff0c\u539f\u56e0\u662f\u56e0\u70ba One hot encoding \u6703\u88fd\u9020\u591a\u7684\u6b04\u4f4d\uff0c\u6709\u4e9b\u985e\u5225\u51fa\u73fe\u5728 training data \u800c\u6c92\u6709\u51fa\u73fe testing data \u4e2d\uff0c\u6211\u5011\u5c31\u8981\u628a\u9019\u4e9b\u591a\u9918\u7684\u6b04\u4f4d\u53bb\u9664"
      ]
    },
    {
      "cell_type": "code",
      "execution_count": 5,
      "metadata": {},
      "outputs": [],
      "source": [
        "train_labels = app_train['TARGET']\n",
        "\n",
        "# \u8abf\u6574\u6b04\u4f4d\u6578, \u79fb\u9664\u51fa\u73fe\u5728 training data \u800c\u6c92\u6709\u51fa\u73fe testing data \u4e2d\u7684\u6b04\u4f4d\n",
        "app_train, app_test = app_train.align(app_test, join='inner', axis=1)"
      ]
    },
    {
      "cell_type": "code",
      "execution_count": 6,
      "metadata": {},
      "outputs": [
        {
          "name": "stdout",
          "output_type": "stream",
          "text": [
            "Training data shape:  (307511, 240)\n",
            "Testing data shape:  (48744, 240)\n"
          ]
        }
      ],
      "source": [
        "from sklearn.impute import SimpleImputer\n",
        "from sklearn.preprocessing import MinMaxScaler\n",
        "\n",
        "# \u7279\u5fb5\u6b04\u4f4d\u6e05\u55ae\n",
        "train = app_train\n",
        "features = list(train.columns)\n",
        "\n",
        "# \u8907\u88fd test \u8cc7\u6599\n",
        "test = app_test.copy()\n",
        "\n",
        "# \u586b\u88dc\u5668 : \u8a2d\u5b9a\u7f3a\u5931\u503c\u88dc\u4e2d\u4f4d\u6578\n",
        "imputer = SimpleImputer(strategy='median')\n",
        "\n",
        "# \u7e2e\u653e\u5668 : \u8a2d\u5b9a\u7279\u5fb5\u7e2e\u653e\u5230 0 ~ 1 \u5340\u9593\n",
        "scaler = MinMaxScaler(feature_range=(0, 1,))\n",
        "\n",
        "# \u586b\u88dc\u5668\u8f09\u5165\u500b\u6b04\u4e2d\u4f4d\u6578\n",
        "imputer.fit(train)\n",
        "\n",
        "# \u5c07\u4e2d\u4f4d\u6578\u56de\u586b train, test \u8cc7\u6599\u4e2d\u7684\u7a7a\u7f3a\u503c\n",
        "train = imputer.transform(train)\n",
        "test = imputer.transform(test)\n",
        "\n",
        "# \u7e2e\u653e\u5668\u8f09\u5165 train \u7684\u4e0a\u4e0b\u9650\n",
        "scaler.fit(train)\n",
        "\n",
        "# \u5c0d train, test \u9032\u884c\u7e2e\u653e\u8f49\u63db\n",
        "train = scaler.transform(train)\n",
        "test = scaler.transform(test)\n",
        "\n",
        "print('Training data shape: ', train.shape)\n",
        "print('Testing data shape: ', test.shape)"
      ]
    },
    {
      "cell_type": "markdown",
      "metadata": {},
      "source": [
        "### Fit the model"
      ]
    },
    {
      "cell_type": "code",
      "execution_count": 7,
      "metadata": {},
      "outputs": [
        {
          "data": {
            "text/plain": [
              "LogisticRegression(C=0.0001, class_weight=None, dual=False,\n",
              "          fit_intercept=True, intercept_scaling=1, max_iter=100,\n",
              "          multi_class='warn', n_jobs=None, penalty='l2', random_state=None,\n",
              "          solver='lbfgs', tol=0.0001, verbose=0, warm_start=False)"
            ]
          },
          "execution_count": 7,
          "metadata": {},
          "output_type": "execute_result"
        }
      ],
      "source": [
        "from sklearn.linear_model import LogisticRegression\n",
        "\n",
        "# \u8a2d\u5b9a\u6a21\u578b\u8207\u6a21\u578b\u53c3\u6578\n",
        "log_reg = LogisticRegression(C=0.0001, solver='lbfgs')\n",
        "\n",
        "# \u4f7f\u7528 Train \u8cc7\u6599\u8a13\u7df4\u6a21\u578b\n",
        "log_reg.fit(train, train_labels)"
      ]
    },
    {
      "cell_type": "markdown",
      "metadata": {},
      "source": [
        "\u6a21\u578b fit \u597d\u4ee5\u5f8c\uff0c\u5c31\u53ef\u4ee5\u7528\u4f86\u9810\u6e2c testing data \u4e2d\u7684\u5ba2\u6236\u9055\u7d04\u9072\u7e73\u8cb8\u6b3e\u7684\u6a5f\u7387\u54af! (\u8a18\u5f97\u8981\u7528 predict_proba \u624d\u6703\u8f38\u51fa\u6a5f\u7387)"
      ]
    },
    {
      "cell_type": "code",
      "execution_count": 8,
      "metadata": {},
      "outputs": [],
      "source": [
        "# \u7528\u6a21\u578b\u9810\u6e2c\u7d50\u679c\n",
        "# \u8acb\u6ce8\u610f\u7f85\u5409\u65af\u8ff4\u6b78\u662f\u5206\u985e\u9810\u6e2c (\u6703\u8f38\u51fa 0 \u7684\u6a5f\u7387, \u8207 1 \u7684\u6a5f\u7387), \u800c\u6211\u5011\u53ea\u9700\u8981\u7559\u4e0b 1 \u7684\u6a5f\u7387\u9019\u6392\n",
        "log_reg_pred = log_reg.predict_proba(test)[:, 1]"
      ]
    },
    {
      "cell_type": "markdown",
      "metadata": {},
      "source": [
        "### \u5132\u5b58\u9810\u6e2c\u7d50\u679c"
      ]
    },
    {
      "cell_type": "code",
      "execution_count": 9,
      "metadata": {},
      "outputs": [
        {
          "data": {
            "text/html": [
              "<div>\n",
              "<style scoped>\n",
              "    .dataframe tbody tr th:only-of-type {\n",
              "        vertical-align: middle;\n",
              "    }\n",
              "\n",
              "    .dataframe tbody tr th {\n",
              "        vertical-align: top;\n",
              "    }\n",
              "\n",
              "    .dataframe thead th {\n",
              "        text-align: right;\n",
              "    }\n",
              "</style>\n",
              "<table border=\"1\" class=\"dataframe\">\n",
              "  <thead>\n",
              "    <tr style=\"text-align: right;\">\n",
              "      <th></th>\n",
              "      <th>SK_ID_CURR</th>\n",
              "      <th>TARGET</th>\n",
              "    </tr>\n",
              "  </thead>\n",
              "  <tbody>\n",
              "    <tr>\n",
              "      <th>0</th>\n",
              "      <td>100001</td>\n",
              "      <td>0.065383</td>\n",
              "    </tr>\n",
              "    <tr>\n",
              "      <th>1</th>\n",
              "      <td>100005</td>\n",
              "      <td>0.117354</td>\n",
              "    </tr>\n",
              "    <tr>\n",
              "      <th>2</th>\n",
              "      <td>100013</td>\n",
              "      <td>0.067974</td>\n",
              "    </tr>\n",
              "    <tr>\n",
              "      <th>3</th>\n",
              "      <td>100028</td>\n",
              "      <td>0.070889</td>\n",
              "    </tr>\n",
              "    <tr>\n",
              "      <th>4</th>\n",
              "      <td>100038</td>\n",
              "      <td>0.117988</td>\n",
              "    </tr>\n",
              "  </tbody>\n",
              "</table>\n",
              "</div>"
            ],
            "text/plain": [
              "   SK_ID_CURR    TARGET\n",
              "0      100001  0.065383\n",
              "1      100005  0.117354\n",
              "2      100013  0.067974\n",
              "3      100028  0.070889\n",
              "4      100038  0.117988"
            ]
          },
          "execution_count": 9,
          "metadata": {},
          "output_type": "execute_result"
        }
      ],
      "source": [
        "# \u8a08\u7b97\u63d0\u4ea4\u7d50\u679c\n",
        "submit = app_test[['SK_ID_CURR']].copy()\n",
        "submit['TARGET'] = log_reg_pred\n",
        "submit.head()"
      ]
    },
    {
      "cell_type": "code",
      "execution_count": 10,
      "metadata": {},
      "outputs": [],
      "source": [
        "submit.to_csv('Day_016_HW.csv', sep=',', encoding='utf-8', index=False)"
      ]
    },
    {
      "cell_type": "code",
      "execution_count": null,
      "metadata": {},
      "outputs": [],
      "source": []
    }
  ],
  "metadata": {
    "kernelspec": {
      "display_name": "Python 3",
      "language": "python",
      "name": "python3"
    },
    "language_info": {
      "codemirror_mode": {
        "name": "ipython",
        "version": 3
      },
      "file_extension": ".py",
      "mimetype": "text/x-python",
      "name": "python",
      "nbconvert_exporter": "python",
      "pygments_lexer": "ipython3",
      "version": "3.7.3"
    }
  },
  "nbformat": 4,
  "nbformat_minor": 2
}