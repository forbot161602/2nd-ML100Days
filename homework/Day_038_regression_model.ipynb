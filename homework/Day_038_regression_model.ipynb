{
  "cells": [
    {
      "cell_type": "markdown",
      "metadata": {},
      "source": [
        "## [\u6559\u5b78\u91cd\u9ede]\n",
        "\u5b78\u7fd2\u4f7f\u7528 sklearn \u4e2d\u7684 linear regression \u6a21\u578b\uff0c\u4e26\u7406\u89e3\u5404\u9805\u53c3\u6578\u7684\u610f\u7fa9"
      ]
    },
    {
      "cell_type": "markdown",
      "metadata": {},
      "source": [
        "## [\u7bc4\u4f8b\u91cd\u9ede]\n",
        "\u89c0\u5bdf\u4e1f\u9032\u6a21\u578b\u8a13\u7df4\u7684\u8cc7\u6599\u683c\u5f0f\uff0c\u8f38\u5165 linear regression \u8207 Logistic regression \u7684\u8cc7\u6599\u6709\u751a\u9ebc\u4e0d\u540c?"
      ]
    },
    {
      "cell_type": "markdown",
      "metadata": {},
      "source": [
        "## import \u9700\u8981\u7684\u5957\u4ef6"
      ]
    },
    {
      "cell_type": "code",
      "execution_count": 1,
      "metadata": {},
      "outputs": [],
      "source": [
        "import numpy as np\n",
        "import matplotlib.pyplot as plt\n",
        "\n",
        "from sklearn import datasets, linear_model\n",
        "from sklearn.model_selection import train_test_split\n",
        "from sklearn.metrics import mean_squared_error, r2_score, accuracy_score"
      ]
    },
    {
      "cell_type": "markdown",
      "metadata": {},
      "source": [
        "### Linear regssion"
      ]
    },
    {
      "cell_type": "code",
      "execution_count": 2,
      "metadata": {},
      "outputs": [
        {
          "name": "stdout",
          "output_type": "stream",
          "text": [
            "Data shape: (442, 1)\n"
          ]
        }
      ],
      "source": [
        "# \u8b80\u53d6\u7cd6\u5c3f\u75c5\u8cc7\u6599\u96c6\n",
        "diabetes = datasets.load_diabetes()\n",
        "\n",
        "# \u70ba\u65b9\u4fbf\u8996\u89ba\u5316\uff0c\u6211\u5011\u53ea\u4f7f\u7528\u8cc7\u6599\u96c6\u4e2d\u7684 1 \u500b feature (column)\n",
        "X = diabetes.data[:, np.newaxis, 2]\n",
        "print(\"Data shape:\", X.shape) # \u53ef\u4ee5\u770b\u898b\u6709 442 \u7b46\u8cc7\u6599\u8207\u6211\u5011\u53d6\u51fa\u7684\u5176\u4e2d\u4e00\u500b feature"
      ]
    },
    {
      "cell_type": "code",
      "execution_count": 3,
      "metadata": {},
      "outputs": [
        {
          "name": "stdout",
          "output_type": "stream",
          "text": [
            "Coefficients: [934.05431907]\n",
            "Mean squared error: 2569.69\n"
          ]
        }
      ],
      "source": [
        "# \u5207\u5206\u8a13\u7df4\u96c6/\u6e2c\u8a66\u96c6\n",
        "x_train, x_test, y_train, y_test = train_test_split(X, diabetes.target, test_size=0.1, random_state=4)\n",
        "\n",
        "# \u5efa\u7acb\u4e00\u500b\u7dda\u6027\u56de\u6b78\u6a21\u578b\n",
        "lreg = linear_model.LinearRegression()\n",
        "\n",
        "# \u5c07\u8a13\u7df4\u8cc7\u6599\u4e1f\u9032\u53bb\u6a21\u578b\u8a13\u7df4\n",
        "lreg.fit(x_train, y_train)\n",
        "\n",
        "# \u5c07\u6e2c\u8a66\u8cc7\u6599\u4e1f\u9032\u6a21\u578b\u5f97\u5230\u9810\u6e2c\u7d50\u679c\n",
        "y_pred = lreg.predict(x_test)\n",
        "\n",
        "# \u53ef\u4ee5\u770b\u56de\u6b78\u6a21\u578b\u7684\u53c3\u6578\u503c\n",
        "print('Coefficients:', lreg.coef_)\n",
        "\n",
        "# \u9810\u6e2c\u503c\u8207\u5be6\u969b\u503c\u7684\u5dee\u8ddd\uff0c\u4f7f\u7528 MSE\n",
        "print('Mean squared error: %.2f' % mean_squared_error(y_test, y_pred))"
      ]
    },
    {
      "cell_type": "code",
      "execution_count": 4,
      "metadata": {},
      "outputs": [
        {
          "data": {
            "image/png": "[encoded data removed]",
            "text/plain": [
              "<Figure size 432x288 with 1 Axes>"
            ]
          },
          "metadata": {
            "needs_background": "light"
          },
          "output_type": "display_data"
        }
      ],
      "source": [
        "# \u756b\u51fa\u56de\u6b78\u6a21\u578b\u8207\u5be6\u969b\u8cc7\u6599\u7684\u5206\u4f48\n",
        "plt.scatter(x_test, y_test, color='black')\n",
        "plt.plot(x_test, y_pred, color='blue', linewidth=3)\n",
        "plt.show()"
      ]
    },
    {
      "cell_type": "markdown",
      "metadata": {},
      "source": [
        "### Logistics regression"
      ]
    },
    {
      "cell_type": "code",
      "execution_count": 5,
      "metadata": {},
      "outputs": [],
      "source": [
        "# \u8b80\u53d6\u9cf6\u5c3e\u82b1\u8cc7\u6599\u96c6\n",
        "iris = datasets.load_iris()"
      ]
    },
    {
      "cell_type": "code",
      "execution_count": 6,
      "metadata": {},
      "outputs": [],
      "source": [
        "# \u5207\u5206\u8a13\u7df4\u96c6/\u6e2c\u8a66\u96c6\n",
        "x_train, x_test, y_train, y_test = train_test_split(iris.data, iris.target, test_size=0.1, random_state=4)\n",
        "\n",
        "# \u5efa\u7acb\u6a21\u578b\n",
        "logreg = linear_model.LogisticRegression(solver='lbfgs', multi_class='multinomial', max_iter=200)\n",
        "\n",
        "# \u8a13\u7df4\u6a21\u578b\n",
        "logreg.fit(x_train, y_train)\n",
        "\n",
        "# \u9810\u6e2c\u6e2c\u8a66\u96c6\n",
        "y_pred = logreg.predict(x_test)"
      ]
    },
    {
      "cell_type": "code",
      "execution_count": 7,
      "metadata": {},
      "outputs": [
        {
          "name": "stdout",
          "output_type": "stream",
          "text": [
            "Accuracy: 0.9333333333333333\n"
          ]
        }
      ],
      "source": [
        "acc = accuracy_score(y_test, y_pred)\n",
        "print('Accuracy:', acc)"
      ]
    },
    {
      "cell_type": "markdown",
      "metadata": {},
      "source": [
        "## [\u4f5c\u696d\u91cd\u9ede]\n",
        "\u4e86\u89e3\u5176\u4ed6\u8cc7\u6599\u96c6\u7684\u4f7f\u7528\u65b9\u6cd5\uff0c\u5982\u4f55\u5c07\u8cc7\u6599\u6b63\u78ba\u5730\u9001\u9032\u6a21\u578b\u8a13\u7df4"
      ]
    },
    {
      "cell_type": "markdown",
      "metadata": {},
      "source": [
        "## \u7df4\u7fd2\u6642\u9593\n",
        "\u8a66\u8457\u4f7f\u7528 sklearn datasets \u7684\u5176\u4ed6\u8cc7\u6599\u96c6 (wine, boston, ...)\uff0c\u4f86\u8a13\u7df4\u81ea\u5df1\u7684\u7dda\u6027\u8ff4\u6b78\u6a21\u578b\u3002"
      ]
    },
    {
      "cell_type": "code",
      "execution_count": 8,
      "metadata": {},
      "outputs": [],
      "source": [
        "wine = datasets.load_wine()\n",
        "boston = datasets.load_boston()\n",
        "breast_cancer = datasets.load_breast_cancer()"
      ]
    },
    {
      "cell_type": "markdown",
      "metadata": {},
      "source": [
        "### HINT: \u6ce8\u610f label \u7684\u578b\u614b\uff0c\u78ba\u5b9a\u8cc7\u6599\u96c6\u7684\u76ee\u6a19\u662f\u5206\u985e\u9084\u662f\u56de\u6b78\uff0c\u5728\u4f7f\u7528\u6b63\u78ba\u7684\u6a21\u578b\u8a13\u7df4\uff01"
      ]
    },
    {
      "cell_type": "code",
      "execution_count": null,
      "metadata": {},
      "outputs": [],
      "source": []
    }
  ],
  "metadata": {
    "kernelspec": {
      "display_name": "Python 3",
      "language": "python",
      "name": "python3"
    },
    "language_info": {
      "codemirror_mode": {
        "name": "ipython",
        "version": 3
      },
      "file_extension": ".py",
      "mimetype": "text/x-python",
      "name": "python",
      "nbconvert_exporter": "python",
      "pygments_lexer": "ipython3",
      "version": "3.7.3"
    }
  },
  "nbformat": 4,
  "nbformat_minor": 2
}