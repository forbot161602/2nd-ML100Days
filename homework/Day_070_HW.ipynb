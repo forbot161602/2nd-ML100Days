{
  "cells": [
    {
      "cell_type": "markdown",
      "metadata": {},
      "source": [
        "## \u4f5c\u696d\u76ee\u6a19\n",
        "\n",
        "\u5229\u7528\u624b\u5beb\u8fa8\u8b58\u8cc7\u6599\u8aaa\u660e MLP \u4e2d, \u795e\u7d93\u7db2\u8def\u5c64\u7684\u591a\u5be1\u8ddf\u9810\u6e2c\u7d50\u679c\u7684\u5dee\u7570"
      ]
    },
    {
      "cell_type": "markdown",
      "metadata": {},
      "source": [
        "## \u4f5c\u696d\u91cd\u9ede\n",
        "\n",
        "\u8acb\u5617\u8a66\u65b0\u589e\u4e00\u5c64\u6216\u5169\u5c64\u770b\u770b\u6700\u5f8c\u9810\u6e2c\u7d50\u679c\u662f\u5426\u6709\u5dee\u7570\n",
        "\n",
        "    model.add(Dense(units=256, input_dim=784, kernel_initializer='normal', activation='relu'))"
      ]
    },
    {
      "cell_type": "markdown",
      "metadata": {},
      "source": [
        "## \u53c3\u8003\u8cc7\u6599\n",
        "\n",
        "[\u591a\u5c64\u611f\u77e5\u5668 - \u7dad\u57fa\u767e\u79d1](https://zh.wikipedia.org/wiki/%E5%A4%9A%E5%B1%82%E6%84%9F%E7%9F%A5%E5%99%A8)\n",
        "\n",
        "[\u6a5f\u5668\u5b78\u7fd2 - \u795e\u7d93\u7db2\u8def - \u591a\u5c64\u611f\u77e5\u5668(MLP)\u904b\u4f5c\u65b9\u5f0f](https://medium.com/@chih.sheng.huang821/%E6%A9%9F%E5%99%A8%E5%AD%B8%E7%BF%92-%E7%A5%9E%E7%B6%93%E7%B6%B2%E8%B7%AF-%E5%A4%9A%E5%B1%A4%E6%84%9F%E7%9F%A5%E6%A9%9F-multilayer-perceptron-mlp-%E9%81%8B%E4%BD%9C%E6%96%B9%E5%BC%8F-f0e108e8b9af)"
      ]
    },
    {
      "cell_type": "markdown",
      "metadata": {
        "colab_type": "text",
        "id": "zfI5zCjRPlnc"
      },
      "source": [
        "## \u8cc7\u6599\u9810\u8655\u7406"
      ]
    },
    {
      "cell_type": "code",
      "execution_count": 1,
      "metadata": {
        "colab": {
          "autoexec": {
            "startup": false,
            "wait_interval": 0
          },
          "base_uri": "https://localhost:8080/",
          "height": 34
        },
        "colab_type": "code",
        "executionInfo": {
          "elapsed": 20601,
          "status": "ok",
          "timestamp": 1533441753568,
          "user": {
            "displayName": "Edward Cheng",
            "photoUrl": "//lh4.googleusercontent.com/-ANnwjGu3IBk/AAAAAAAAAAI/AAAAAAAAAAc/qXXg6Jek9xw/s50-c-k-no/photo.jpg",
            "userId": "112554017642991017343"
          },
          "user_tz": -480
        },
        "id": "GyIQ7tpGPlnf",
        "outputId": "f3642b99-3ef2-43fe-ee42-e17b1ef50cbb"
      },
      "outputs": [
        {
          "name": "stderr",
          "output_type": "stream",
          "text": [
            "Using TensorFlow backend.\n"
          ]
        }
      ],
      "source": [
        "import numpy as np\n",
        "import tensorflow as tf\n",
        "import matplotlib.pyplot as plt\n",
        "from keras.utils import np_utils\n",
        "from keras.layers import Dense\n",
        "from keras.models import Sequential\n",
        "from keras.datasets import mnist\n",
        "tf.logging.set_verbosity(tf.logging.ERROR)"
      ]
    },
    {
      "cell_type": "code",
      "execution_count": 2,
      "metadata": {
        "colab": {
          "autoexec": {
            "startup": false,
            "wait_interval": 0
          },
          "base_uri": "https://localhost:8080/",
          "height": 51
        },
        "colab_type": "code",
        "executionInfo": {
          "elapsed": 5937,
          "status": "ok",
          "timestamp": 1533441759521,
          "user": {
            "displayName": "Edward Cheng",
            "photoUrl": "//lh4.googleusercontent.com/-ANnwjGu3IBk/AAAAAAAAAAI/AAAAAAAAAAc/qXXg6Jek9xw/s50-c-k-no/photo.jpg",
            "userId": "112554017642991017343"
          },
          "user_tz": -480
        },
        "id": "OLzoKlJRPlno",
        "outputId": "c75f10a4-951d-4b3b-ad5f-c8fc4dff0e96"
      },
      "outputs": [],
      "source": [
        "# \u8f09\u5165\u624b\u5beb\u8fa8\u8b58\u7684\u8cc7\u6599\u96c6\n",
        "(x_train_image, y_train_label), (x_test_image, y_test_label) = mnist.load_data()"
      ]
    },
    {
      "cell_type": "code",
      "execution_count": 3,
      "metadata": {
        "colab": {
          "autoexec": {
            "startup": false,
            "wait_interval": 0
          }
        },
        "colab_type": "code",
        "id": "QEuQwa4nPlnu"
      },
      "outputs": [],
      "source": [
        "def normalize_mnist_data(x, y):\n",
        "    x = x.reshape(-1, 28 * 28).astype('float32') / 255\n",
        "    y = np_utils.to_categorical(y)\n",
        "    return x, y\n",
        "\n",
        "def normalize_result(x, y):\n",
        "    print('x_image.shape:', x.shape)\n",
        "    print('y_label.shape:', y.shape)"
      ]
    },
    {
      "cell_type": "code",
      "execution_count": 4,
      "metadata": {
        "colab": {
          "autoexec": {
            "startup": false,
            "wait_interval": 0
          }
        },
        "colab_type": "code",
        "id": "YisRq-SxPln0"
      },
      "outputs": [
        {
          "name": "stdout",
          "output_type": "stream",
          "text": [
            "Before normalization:\n",
            "x_image.shape: (60000, 28, 28)\n",
            "y_label.shape: (60000,)\n"
          ]
        }
      ],
      "source": [
        "print('Before normalization:')\n",
        "normalize_result(x_train_image, y_train_label)"
      ]
    },
    {
      "cell_type": "code",
      "execution_count": 5,
      "metadata": {
        "colab": {
          "autoexec": {
            "startup": false,
            "wait_interval": 0
          }
        },
        "colab_type": "code",
        "id": "AHtfmzpfPln4"
      },
      "outputs": [
        {
          "name": "stdout",
          "output_type": "stream",
          "text": [
            "After normalization:\n",
            "x_image.shape: (60000, 784)\n",
            "y_label.shape: (60000, 10)\n"
          ]
        }
      ],
      "source": [
        "print('After normalization:')\n",
        "x_train_image, y_train_label = normalize_mnist_data(x_train_image, y_train_label)\n",
        "x_test_image, y_test_label = normalize_mnist_data(x_test_image, y_test_label)\n",
        "normalize_result(x_train_image, y_train_label)"
      ]
    },
    {
      "cell_type": "markdown",
      "metadata": {
        "colab_type": "text",
        "id": "0s8PjvqJPln7"
      },
      "source": [
        "## \u5efa\u7acb\u6a21\u578b"
      ]
    },
    {
      "cell_type": "code",
      "execution_count": 6,
      "metadata": {
        "colab": {
          "autoexec": {
            "startup": false,
            "wait_interval": 0
          }
        },
        "colab_type": "code",
        "id": "jmaxrsXwPln-"
      },
      "outputs": [],
      "source": [
        "model = Sequential()\n",
        "model.add(Dense(units=256, input_dim=784, kernel_initializer='normal', activation='relu'))\n",
        "model.add(Dense(units=256, input_dim=784, kernel_initializer='normal', activation='relu'))\n",
        "model.add(Dense(units=256, input_dim=784, kernel_initializer='normal', activation='relu'))\n",
        "model.add(Dense(units=10, kernel_initializer='normal', activation='softmax'))"
      ]
    },
    {
      "cell_type": "code",
      "execution_count": 7,
      "metadata": {},
      "outputs": [
        {
          "name": "stdout",
          "output_type": "stream",
          "text": [
            "_________________________________________________________________\n",
            "Layer (type)                 Output Shape              Param #   \n",
            "=================================================================\n",
            "dense_1 (Dense)              (None, 256)               200960    \n",
            "_________________________________________________________________\n",
            "dense_2 (Dense)              (None, 256)               65792     \n",
            "_________________________________________________________________\n",
            "dense_3 (Dense)              (None, 256)               65792     \n",
            "_________________________________________________________________\n",
            "dense_4 (Dense)              (None, 10)                2570      \n",
            "=================================================================\n",
            "Total params: 335,114\n",
            "Trainable params: 335,114\n",
            "Non-trainable params: 0\n",
            "_________________________________________________________________\n"
          ]
        }
      ],
      "source": [
        "model.summary()"
      ]
    },
    {
      "cell_type": "markdown",
      "metadata": {
        "colab_type": "text",
        "id": "jdoAZgv1PloK"
      },
      "source": [
        "## \u8a13\u7df4\u6a21\u578b"
      ]
    },
    {
      "cell_type": "code",
      "execution_count": 8,
      "metadata": {
        "colab": {
          "autoexec": {
            "startup": false,
            "wait_interval": 0
          }
        },
        "colab_type": "code",
        "id": "5d5wrEL3PloK"
      },
      "outputs": [
        {
          "name": "stdout",
          "output_type": "stream",
          "text": [
            "Train on 48000 samples, validate on 12000 samples\n",
            "Epoch 1/10\n",
            "48000/48000 [==============================] - 9s 197us/step - loss: 0.2392 - acc: 0.9272 - val_loss: 0.1452 - val_acc: 0.9551\n",
            "Epoch 2/10\n",
            "48000/48000 [==============================] - 9s 193us/step - loss: 0.0986 - acc: 0.9704 - val_loss: 0.0972 - val_acc: 0.9728\n",
            "Epoch 3/10\n",
            "48000/48000 [==============================] - 9s 193us/step - loss: 0.0703 - acc: 0.9786 - val_loss: 0.1058 - val_acc: 0.9715\n",
            "Epoch 4/10\n",
            "48000/48000 [==============================] - 9s 196us/step - loss: 0.0542 - acc: 0.9829 - val_loss: 0.0999 - val_acc: 0.9701\n",
            "Epoch 5/10\n",
            "48000/48000 [==============================] - 9s 193us/step - loss: 0.0426 - acc: 0.9866 - val_loss: 0.1051 - val_acc: 0.9739\n",
            "Epoch 6/10\n",
            "48000/48000 [==============================] - 9s 188us/step - loss: 0.0370 - acc: 0.9882 - val_loss: 0.1037 - val_acc: 0.9740\n",
            "Epoch 7/10\n",
            "48000/48000 [==============================] - 9s 183us/step - loss: 0.0311 - acc: 0.9902 - val_loss: 0.1067 - val_acc: 0.9714\n",
            "Epoch 8/10\n",
            "48000/48000 [==============================] - 9s 182us/step - loss: 0.0285 - acc: 0.9910 - val_loss: 0.1039 - val_acc: 0.9775\n",
            "Epoch 9/10\n",
            "48000/48000 [==============================] - 9s 182us/step - loss: 0.0238 - acc: 0.9928 - val_loss: 0.1041 - val_acc: 0.9789\n",
            "Epoch 10/10\n",
            "48000/48000 [==============================] - 9s 182us/step - loss: 0.0228 - acc: 0.9927 - val_loss: 0.1277 - val_acc: 0.9743\n"
          ]
        }
      ],
      "source": [
        "model.compile(optimizer='adam', loss='categorical_crossentropy', metrics=['accuracy'])\n",
        "train_history = model.fit(x=x_train_image, y=y_train_label, validation_split=0.2, epochs=10, batch_size=32, verbose=1)"
      ]
    },
    {
      "cell_type": "code",
      "execution_count": 9,
      "metadata": {},
      "outputs": [
        {
          "name": "stdout",
          "output_type": "stream",
          "text": [
            "<keras.callbacks.History object at 0x0000017081299C18>\n",
            "{'val_loss': [0.14516636666034657, 0.09719863421632909, 0.10578997886603854, 0.09985130864055827, 0.10509815552897635, 0.1037046878875699, 0.1067143983693677, 0.10389815087039218, 0.10407472779414927, 0.12768649008735217], 'val_acc': [0.9550833333333333, 0.97275, 0.9715, 0.9700833333333333, 0.9739166666666667, 0.974, 0.9714166666666667, 0.9775, 0.9789166666666667, 0.9743333333333334], 'loss': [0.23921267093842227, 0.09861671347469868, 0.07034453606770452, 0.05421639946611443, 0.04257639527936893, 0.03704498367323443, 0.031071256764361656, 0.028496325303595464, 0.02376042578261801, 0.02275366865678628], 'acc': [0.9272291666666667, 0.9704375, 0.9785833333333334, 0.9828541666666667, 0.9865833333333334, 0.9881875, 0.9902291666666667, 0.9910208333333334, 0.9927708333333334, 0.99275]}\n"
          ]
        }
      ],
      "source": [
        "print(train_history)\n",
        "print(train_history.history)"
      ]
    },
    {
      "cell_type": "markdown",
      "metadata": {
        "colab_type": "text",
        "id": "pV1Ftdb0PloP"
      },
      "source": [
        "## \u4ee5\u5716\u5f62\u986f\u793a\u8a13\u7df4\u904e\u7a0b"
      ]
    },
    {
      "cell_type": "code",
      "execution_count": 10,
      "metadata": {
        "colab": {
          "autoexec": {
            "startup": false,
            "wait_interval": 0
          }
        },
        "colab_type": "code",
        "id": "EEmuoa1dPloQ"
      },
      "outputs": [],
      "source": [
        "def show_train_history(train_history, train_hst_name, val_hst_name):\n",
        "    plt.plot(train_history.history[train_hst_name])\n",
        "    plt.plot(train_history.history[val_hst_name])\n",
        "    plt.xlabel('Epoch')\n",
        "    plt.ylabel(train_hst_name)\n",
        "    plt.title('Train History')\n",
        "    plt.legend(['train', 'validation'], loc='upper left')\n",
        "    plt.show()"
      ]
    },
    {
      "cell_type": "code",
      "execution_count": 11,
      "metadata": {
        "colab": {
          "autoexec": {
            "startup": false,
            "wait_interval": 0
          },
          "base_uri": "https://localhost:8080/",
          "height": 376
        },
        "colab_type": "code",
        "executionInfo": {
          "elapsed": 1451,
          "status": "ok",
          "timestamp": 1533441789030,
          "user": {
            "displayName": "Edward Cheng",
            "photoUrl": "//lh4.googleusercontent.com/-ANnwjGu3IBk/AAAAAAAAAAI/AAAAAAAAAAc/qXXg6Jek9xw/s50-c-k-no/photo.jpg",
            "userId": "112554017642991017343"
          },
          "user_tz": -480
        },
        "id": "fvE2WsejPloT",
        "outputId": "bb56e170-8850-409e-bbb2-eb6b5b89e528"
      },
      "outputs": [
        {
          "data": {
            "image/png": "[encoded data removed]",
            "text/plain": [
              "<Figure size 432x288 with 1 Axes>"
            ]
          },
          "metadata": {
            "needs_background": "light"
          },
          "output_type": "display_data"
        }
      ],
      "source": [
        "show_train_history(train_history, 'acc', 'val_acc')"
      ]
    },
    {
      "cell_type": "code",
      "execution_count": 12,
      "metadata": {
        "colab": {
          "autoexec": {
            "startup": false,
            "wait_interval": 0
          },
          "base_uri": "https://localhost:8080/",
          "height": 376
        },
        "colab_type": "code",
        "executionInfo": {
          "elapsed": 1937,
          "status": "ok",
          "timestamp": 1533441791049,
          "user": {
            "displayName": "Edward Cheng",
            "photoUrl": "//lh4.googleusercontent.com/-ANnwjGu3IBk/AAAAAAAAAAI/AAAAAAAAAAc/qXXg6Jek9xw/s50-c-k-no/photo.jpg",
            "userId": "112554017642991017343"
          },
          "user_tz": -480
        },
        "id": "zIYyrnFWPloW",
        "outputId": "4bdbd1fa-6f25-49af-88d0-8d35f6e2ecaa"
      },
      "outputs": [
        {
          "data": {
            "image/png": "[encoded data removed]",
            "text/plain": [
              "<Figure size 432x288 with 1 Axes>"
            ]
          },
          "metadata": {
            "needs_background": "light"
          },
          "output_type": "display_data"
        }
      ],
      "source": [
        "show_train_history(train_history, 'loss', 'val_loss')"
      ]
    },
    {
      "cell_type": "markdown",
      "metadata": {
        "colab_type": "text",
        "id": "h1z2y0g-PloZ"
      },
      "source": [
        "## \u8a55\u4f30\u6a21\u578b\u6e96\u78ba\u7387"
      ]
    },
    {
      "cell_type": "code",
      "execution_count": 13,
      "metadata": {
        "colab": {
          "autoexec": {
            "startup": false,
            "wait_interval": 0
          },
          "base_uri": "https://localhost:8080/",
          "height": 68
        },
        "colab_type": "code",
        "executionInfo": {
          "elapsed": 1425,
          "status": "ok",
          "timestamp": 1533441792584,
          "user": {
            "displayName": "Edward Cheng",
            "photoUrl": "//lh4.googleusercontent.com/-ANnwjGu3IBk/AAAAAAAAAAI/AAAAAAAAAAc/qXXg6Jek9xw/s50-c-k-no/photo.jpg",
            "userId": "112554017642991017343"
          },
          "user_tz": -480
        },
        "id": "vMawurJqPloZ",
        "outputId": "31465f8d-cfad-49b8-dc9e-90d643e6b4a8"
      },
      "outputs": [
        {
          "name": "stdout",
          "output_type": "stream",
          "text": [
            "10000/10000 [==============================] - 0s 27us/step\n",
            "accuracy: 0.9736\n"
          ]
        }
      ],
      "source": [
        "scores = model.evaluate(x_test_image, y_test_label)\n",
        "print('accuracy:', scores[1])"
      ]
    },
    {
      "cell_type": "code",
      "execution_count": null,
      "metadata": {},
      "outputs": [],
      "source": []
    }
  ],
  "metadata": {
    "accelerator": "GPU",
    "colab": {
      "collapsed_sections": [],
      "default_view": {},
      "name": "Keras_Mnist_MLP_h256.ipynb",
      "provenance": [],
      "version": "0.3.2",
      "views": {}
    },
    "kernelspec": {
      "display_name": "Python 3",
      "language": "python",
      "name": "python3"
    },
    "language_info": {
      "codemirror_mode": {
        "name": "ipython",
        "version": 3
      },
      "file_extension": ".py",
      "mimetype": "text/x-python",
      "name": "python",
      "nbconvert_exporter": "python",
      "pygments_lexer": "ipython3",
      "version": "3.7.3"
    }
  },
  "nbformat": 4,
  "nbformat_minor": 1
}