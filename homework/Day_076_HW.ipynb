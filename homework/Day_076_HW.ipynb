{
 "cells": [
  {
   "cell_type": "markdown",
   "metadata": {},
   "source": [
    "## 作業\n",
    "    \n",
    "(1) 以 Adam 為例, 調整 batch_size, epoch, 觀察 accurancy, loss 的變化\n",
    "    \n",
    "(2) 以同一模型, 分別驗證 SGD, Adam, Rmsprop 的 accurancy"
   ]
  },
  {
   "cell_type": "markdown",
   "metadata": {},
   "source": [
    "## 參考資料\n",
    "\n",
    "参数 clipnorm 和 clipvalue 能在所有的优化器中使用，用于控制梯度裁剪(Gradient Clipping)。\n",
    "\n",
    "[优化器的用法](https://keras.io/zh/optimizers/)\n",
    "\n",
    "[优化器如何选择](https://blog.csdn.net/qq_35860352/article/details/80772142)\n",
    "\n",
    "[深度学习优化函数详解（5）- Nesterov accelerated gradient (NAG)](https://blog.csdn.net/tsyccnh/article/details/76673073)\n",
    "\n",
    "[An overview of gradient descent optimization algorithms](https://arxiv.org/pdf/1609.04747.pdf)\n",
    "\n",
    "[How to Select the Right Optimization Method for Your Problem](http://www.redcedartech.com/pdfs/Select_Optimization_Method.pdf)\n",
    "\n",
    "[Second Order Optimization Algorithms I - Yinyu Ye](https://web.stanford.edu/class/msande311/lecture13.pdf)"
   ]
  },
  {
   "cell_type": "code",
   "execution_count": 1,
   "metadata": {},
   "outputs": [
    {
     "name": "stderr",
     "output_type": "stream",
     "text": [
      "Using TensorFlow backend.\n"
     ]
    }
   ],
   "source": [
    "import numpy as np\n",
    "import tensorflow as tf\n",
    "import matplotlib.pyplot as plt\n",
    "from keras.datasets import mnist\n",
    "from keras.models import Sequential\n",
    "from keras.layers import Dense, Activation\n",
    "tf.logging.set_verbosity(tf.logging.ERROR)"
   ]
  },
  {
   "cell_type": "markdown",
   "metadata": {},
   "source": [
    "## 準備資料"
   ]
  },
  {
   "cell_type": "code",
   "execution_count": 2,
   "metadata": {},
   "outputs": [],
   "source": [
    "(X_train, y_train), (X_test, y_test) = mnist.load_data()"
   ]
  },
  {
   "cell_type": "code",
   "execution_count": 3,
   "metadata": {},
   "outputs": [],
   "source": [
    "def normalize_mnist_data(x, y):\n",
    "    x = x.reshape(x.shape[0], x.shape[1] * x.shape[2])\n",
    "    y = (y[:, None] == np.arange(np.unique(y).shape[0])).astype(int)\n",
    "    return x, y\n",
    "\n",
    "def normalize_result(x, y):\n",
    "    print('x.shape:', x.shape)\n",
    "    print('y.shape:', y.shape)"
   ]
  },
  {
   "cell_type": "code",
   "execution_count": 4,
   "metadata": {},
   "outputs": [
    {
     "name": "stdout",
     "output_type": "stream",
     "text": [
      "Before normalization:\n",
      "x.shape: (60000, 28, 28)\n",
      "y.shape: (60000,)\n"
     ]
    }
   ],
   "source": [
    "print('Before normalization:')\n",
    "normalize_result(X_train, y_train)"
   ]
  },
  {
   "cell_type": "code",
   "execution_count": 5,
   "metadata": {},
   "outputs": [
    {
     "name": "stdout",
     "output_type": "stream",
     "text": [
      "After normalization:\n",
      "x.shape: (60000, 784)\n",
      "y.shape: (60000, 10)\n"
     ]
    }
   ],
   "source": [
    "print('After normalization:')\n",
    "X_train, y_train = normalize_mnist_data(X_train, y_train)\n",
    "X_test, y_test = normalize_mnist_data(X_test, y_test)\n",
    "normalize_result(X_train, y_train)"
   ]
  },
  {
   "cell_type": "markdown",
   "metadata": {},
   "source": [
    "## 定義函數"
   ]
  },
  {
   "cell_type": "code",
   "execution_count": 6,
   "metadata": {},
   "outputs": [],
   "source": [
    "def show_prediction_score(model, x, y):\n",
    "    scores = model.evaluate(x, y, batch_size=200, verbose=0)\n",
    "    for i, metrics_name in enumerate(model.metrics_names):\n",
    "        print('The test {} is {:.3f}'.format(metrics_name, scores[i]))"
   ]
  },
  {
   "cell_type": "markdown",
   "metadata": {},
   "source": [
    "## 定義模型"
   ]
  },
  {
   "cell_type": "code",
   "execution_count": 7,
   "metadata": {},
   "outputs": [],
   "source": [
    "model = Sequential()\n",
    "model.add(Dense(500, input_shape=(784,)))\n",
    "model.add(Activation('relu'))\n",
    "model.add(Dense(500))\n",
    "model.add(Activation('relu'))  \n",
    "model.add(Dense(500))\n",
    "model.add(Activation('relu'))\n",
    "model.add(Dense(500))\n",
    "model.add(Activation('relu'))\n",
    "model.add(Dense(10))\n",
    "model.add(Activation('softmax'))"
   ]
  },
  {
   "cell_type": "code",
   "execution_count": 8,
   "metadata": {},
   "outputs": [
    {
     "name": "stdout",
     "output_type": "stream",
     "text": [
      "_________________________________________________________________\n",
      "Layer (type)                 Output Shape              Param #   \n",
      "=================================================================\n",
      "dense_1 (Dense)              (None, 500)               392500    \n",
      "_________________________________________________________________\n",
      "activation_1 (Activation)    (None, 500)               0         \n",
      "_________________________________________________________________\n",
      "dense_2 (Dense)              (None, 500)               250500    \n",
      "_________________________________________________________________\n",
      "activation_2 (Activation)    (None, 500)               0         \n",
      "_________________________________________________________________\n",
      "dense_3 (Dense)              (None, 500)               250500    \n",
      "_________________________________________________________________\n",
      "activation_3 (Activation)    (None, 500)               0         \n",
      "_________________________________________________________________\n",
      "dense_4 (Dense)              (None, 500)               250500    \n",
      "_________________________________________________________________\n",
      "activation_4 (Activation)    (None, 500)               0         \n",
      "_________________________________________________________________\n",
      "dense_5 (Dense)              (None, 10)                5010      \n",
      "_________________________________________________________________\n",
      "activation_5 (Activation)    (None, 10)                0         \n",
      "=================================================================\n",
      "Total params: 1,149,010\n",
      "Trainable params: 1,149,010\n",
      "Non-trainable params: 0\n",
      "_________________________________________________________________\n"
     ]
    }
   ],
   "source": [
    "model.summary()"
   ]
  },
  {
   "cell_type": "markdown",
   "metadata": {},
   "source": [
    "## 以不同的 epoch 和 batch size 觀看準確率的變化"
   ]
  },
  {
   "cell_type": "code",
   "execution_count": 9,
   "metadata": {},
   "outputs": [
    {
     "name": "stdout",
     "output_type": "stream",
     "text": [
      "Train on 42000 samples, validate on 18000 samples\n",
      "Epoch 1/20\n",
      " - 13s - loss: 2.9136 - acc: 0.8180 - val_loss: 2.9145 - val_acc: 0.8182\n",
      "Epoch 2/20\n",
      " - 12s - loss: 2.9172 - acc: 0.8180 - val_loss: 2.9145 - val_acc: 0.8182\n",
      "Epoch 3/20\n",
      " - 11s - loss: 2.9172 - acc: 0.8180 - val_loss: 2.9145 - val_acc: 0.8182\n",
      "Epoch 4/20\n",
      " - 11s - loss: 2.9172 - acc: 0.8180 - val_loss: 2.9145 - val_acc: 0.8182\n",
      "Epoch 5/20\n",
      " - 11s - loss: 2.9172 - acc: 0.8180 - val_loss: 2.9145 - val_acc: 0.8182\n",
      "Epoch 6/20\n",
      " - 11s - loss: 2.9172 - acc: 0.8180 - val_loss: 2.9145 - val_acc: 0.8182\n",
      "Epoch 7/20\n",
      " - 11s - loss: 2.9172 - acc: 0.8180 - val_loss: 2.9145 - val_acc: 0.8182\n",
      "Epoch 8/20\n",
      " - 11s - loss: 2.9172 - acc: 0.8180 - val_loss: 2.9145 - val_acc: 0.8182\n",
      "Epoch 9/20\n",
      " - 11s - loss: 2.9172 - acc: 0.8180 - val_loss: 2.9145 - val_acc: 0.8182\n",
      "Epoch 10/20\n",
      " - 11s - loss: 2.9172 - acc: 0.8180 - val_loss: 2.9145 - val_acc: 0.8182\n",
      "Epoch 11/20\n",
      " - 11s - loss: 2.9172 - acc: 0.8180 - val_loss: 2.9145 - val_acc: 0.8182\n",
      "Epoch 12/20\n",
      " - 11s - loss: 2.9172 - acc: 0.8180 - val_loss: 2.9145 - val_acc: 0.8182\n",
      "Epoch 13/20\n",
      " - 12s - loss: 2.9172 - acc: 0.8180 - val_loss: 2.9145 - val_acc: 0.8182\n",
      "Epoch 14/20\n",
      " - 12s - loss: 2.9172 - acc: 0.8180 - val_loss: 2.9145 - val_acc: 0.8182\n",
      "Epoch 15/20\n",
      " - 11s - loss: 2.9172 - acc: 0.8180 - val_loss: 2.9145 - val_acc: 0.8182\n",
      "Epoch 16/20\n",
      " - 11s - loss: 2.9172 - acc: 0.8180 - val_loss: 2.9145 - val_acc: 0.8182\n",
      "Epoch 17/20\n",
      " - 11s - loss: 2.9172 - acc: 0.8180 - val_loss: 2.9145 - val_acc: 0.8182\n",
      "Epoch 18/20\n",
      " - 11s - loss: 2.9172 - acc: 0.8180 - val_loss: 2.9145 - val_acc: 0.8182\n",
      "Epoch 19/20\n",
      " - 11s - loss: 2.9172 - acc: 0.8180 - val_loss: 2.9145 - val_acc: 0.8182\n",
      "Epoch 20/20\n",
      " - 11s - loss: 2.9172 - acc: 0.8180 - val_loss: 2.9145 - val_acc: 0.8182\n"
     ]
    }
   ],
   "source": [
    "model.compile(optimizer='adam', loss='binary_crossentropy', metrics=['accuracy'])\n",
    "train_history = model.fit(X_train, y_train, epochs=20, batch_size=128, validation_split=0.3, shuffle=True, verbose=2)"
   ]
  },
  {
   "cell_type": "code",
   "execution_count": 10,
   "metadata": {},
   "outputs": [
    {
     "name": "stdout",
     "output_type": "stream",
     "text": [
      "The test loss is 2.920\n",
      "The test acc is 0.818\n"
     ]
    }
   ],
   "source": [
    "show_prediction_score(model, X_test, y_test)"
   ]
  },
  {
   "cell_type": "code",
   "execution_count": 11,
   "metadata": {},
   "outputs": [
    {
     "name": "stdout",
     "output_type": "stream",
     "text": [
      "Train on 42000 samples, validate on 18000 samples\n",
      "Epoch 1/10\n",
      " - 7s - loss: 2.9172 - acc: 0.8180 - val_loss: 2.9145 - val_acc: 0.8182\n",
      "Epoch 2/10\n",
      " - 6s - loss: 2.9172 - acc: 0.8180 - val_loss: 2.9145 - val_acc: 0.8182\n",
      "Epoch 3/10\n",
      " - 6s - loss: 2.9172 - acc: 0.8180 - val_loss: 2.9145 - val_acc: 0.8182\n",
      "Epoch 4/10\n",
      " - 6s - loss: 2.9172 - acc: 0.8180 - val_loss: 2.9145 - val_acc: 0.8182\n",
      "Epoch 5/10\n",
      " - 6s - loss: 2.9172 - acc: 0.8180 - val_loss: 2.9145 - val_acc: 0.8182\n",
      "Epoch 6/10\n",
      " - 6s - loss: 2.9172 - acc: 0.8180 - val_loss: 2.9145 - val_acc: 0.8182\n",
      "Epoch 7/10\n",
      " - 6s - loss: 2.9172 - acc: 0.8180 - val_loss: 2.9145 - val_acc: 0.8182\n",
      "Epoch 8/10\n",
      " - 6s - loss: 2.9172 - acc: 0.8180 - val_loss: 2.9145 - val_acc: 0.8182\n",
      "Epoch 9/10\n",
      " - 6s - loss: 2.9172 - acc: 0.8180 - val_loss: 2.9145 - val_acc: 0.8182\n",
      "Epoch 10/10\n",
      " - 6s - loss: 2.9172 - acc: 0.8180 - val_loss: 2.9145 - val_acc: 0.8182\n"
     ]
    }
   ],
   "source": [
    "model.compile(optimizer='adam', loss='binary_crossentropy', metrics=['accuracy'])\n",
    "train_history = model.fit(X_train, y_train, epochs=10, batch_size=512, validation_split=0.3, shuffle=True, verbose=2)"
   ]
  },
  {
   "cell_type": "code",
   "execution_count": 12,
   "metadata": {},
   "outputs": [
    {
     "name": "stdout",
     "output_type": "stream",
     "text": [
      "The test loss is 2.920\n",
      "The test acc is 0.818\n"
     ]
    }
   ],
   "source": [
    "show_prediction_score(model, X_test, y_test)"
   ]
  },
  {
   "cell_type": "markdown",
   "metadata": {},
   "source": [
    "## 以不同的 Optimizer 觀看準確率的變化"
   ]
  },
  {
   "cell_type": "code",
   "execution_count": 13,
   "metadata": {},
   "outputs": [
    {
     "name": "stdout",
     "output_type": "stream",
     "text": [
      "Train on 42000 samples, validate on 18000 samples\n",
      "Epoch 1/20\n",
      " - 8s - loss: 2.9172 - acc: 0.8180 - val_loss: 2.9145 - val_acc: 0.8182\n",
      "Epoch 2/20\n",
      " - 8s - loss: 2.9172 - acc: 0.8180 - val_loss: 2.9145 - val_acc: 0.8182\n",
      "Epoch 3/20\n",
      " - 8s - loss: 2.9172 - acc: 0.8180 - val_loss: 2.9145 - val_acc: 0.8182\n",
      "Epoch 4/20\n",
      " - 8s - loss: 2.9172 - acc: 0.8180 - val_loss: 2.9145 - val_acc: 0.8182\n",
      "Epoch 5/20\n",
      " - 8s - loss: 2.9172 - acc: 0.8180 - val_loss: 2.9145 - val_acc: 0.8182\n",
      "Epoch 6/20\n",
      " - 8s - loss: 2.9172 - acc: 0.8180 - val_loss: 2.9145 - val_acc: 0.8182\n",
      "Epoch 7/20\n",
      " - 8s - loss: 2.9172 - acc: 0.8180 - val_loss: 2.9145 - val_acc: 0.8182\n",
      "Epoch 8/20\n",
      " - 8s - loss: 2.9172 - acc: 0.8180 - val_loss: 2.9145 - val_acc: 0.8182\n",
      "Epoch 9/20\n",
      " - 8s - loss: 2.9172 - acc: 0.8180 - val_loss: 2.9145 - val_acc: 0.8182\n",
      "Epoch 10/20\n",
      " - 8s - loss: 2.9172 - acc: 0.8180 - val_loss: 2.9145 - val_acc: 0.8182\n",
      "Epoch 11/20\n",
      " - 8s - loss: 2.9172 - acc: 0.8180 - val_loss: 2.9145 - val_acc: 0.8182\n",
      "Epoch 12/20\n",
      " - 8s - loss: 2.9172 - acc: 0.8180 - val_loss: 2.9145 - val_acc: 0.8182\n",
      "Epoch 13/20\n",
      " - 7s - loss: 2.9172 - acc: 0.8180 - val_loss: 2.9145 - val_acc: 0.8182\n",
      "Epoch 14/20\n",
      " - 7s - loss: 2.9172 - acc: 0.8180 - val_loss: 2.9145 - val_acc: 0.8182\n",
      "Epoch 15/20\n",
      " - 7s - loss: 2.9172 - acc: 0.8180 - val_loss: 2.9145 - val_acc: 0.8182\n",
      "Epoch 16/20\n",
      " - 7s - loss: 2.9172 - acc: 0.8180 - val_loss: 2.9145 - val_acc: 0.8182\n",
      "Epoch 17/20\n",
      " - 7s - loss: 2.9172 - acc: 0.8180 - val_loss: 2.9145 - val_acc: 0.8182\n",
      "Epoch 18/20\n",
      " - 7s - loss: 2.9172 - acc: 0.8180 - val_loss: 2.9145 - val_acc: 0.8182\n",
      "Epoch 19/20\n",
      " - 7s - loss: 2.9172 - acc: 0.8180 - val_loss: 2.9145 - val_acc: 0.8182\n",
      "Epoch 20/20\n",
      " - 7s - loss: 2.9172 - acc: 0.8180 - val_loss: 2.9145 - val_acc: 0.8182\n"
     ]
    }
   ],
   "source": [
    "model.compile(optimizer='sgd', loss='binary_crossentropy', metrics=['accuracy'])\n",
    "train_history = model.fit(X_train, y_train, epochs=20, batch_size=128, validation_split=0.3, shuffle=True, verbose=2)"
   ]
  },
  {
   "cell_type": "code",
   "execution_count": 14,
   "metadata": {},
   "outputs": [
    {
     "name": "stdout",
     "output_type": "stream",
     "text": [
      "The test loss is 2.920\n",
      "The test acc is 0.818\n"
     ]
    }
   ],
   "source": [
    "show_prediction_score(model, X_test, y_test)"
   ]
  },
  {
   "cell_type": "code",
   "execution_count": 15,
   "metadata": {},
   "outputs": [
    {
     "name": "stdout",
     "output_type": "stream",
     "text": [
      "Train on 42000 samples, validate on 18000 samples\n",
      "Epoch 1/20\n",
      " - 10s - loss: 2.9172 - acc: 0.8180 - val_loss: 2.9145 - val_acc: 0.8182\n",
      "Epoch 2/20\n",
      " - 9s - loss: 2.9172 - acc: 0.8180 - val_loss: 2.9145 - val_acc: 0.8182\n",
      "Epoch 3/20\n",
      " - 9s - loss: 2.9172 - acc: 0.8180 - val_loss: 2.9145 - val_acc: 0.8182\n",
      "Epoch 4/20\n",
      " - 9s - loss: 2.9172 - acc: 0.8180 - val_loss: 2.9145 - val_acc: 0.8182\n",
      "Epoch 5/20\n",
      " - 10s - loss: 2.9172 - acc: 0.8180 - val_loss: 2.9145 - val_acc: 0.8182\n",
      "Epoch 6/20\n",
      " - 11s - loss: 2.9172 - acc: 0.8180 - val_loss: 2.9145 - val_acc: 0.8182\n",
      "Epoch 7/20\n",
      " - 10s - loss: 2.9172 - acc: 0.8180 - val_loss: 2.9145 - val_acc: 0.8182\n",
      "Epoch 8/20\n",
      " - 9s - loss: 2.9172 - acc: 0.8180 - val_loss: 2.9145 - val_acc: 0.8182\n",
      "Epoch 9/20\n",
      " - 10s - loss: 2.9172 - acc: 0.8180 - val_loss: 2.9145 - val_acc: 0.8182\n",
      "Epoch 10/20\n",
      " - 10s - loss: 2.9172 - acc: 0.8180 - val_loss: 2.9145 - val_acc: 0.8182\n",
      "Epoch 11/20\n",
      " - 10s - loss: 2.9172 - acc: 0.8180 - val_loss: 2.9145 - val_acc: 0.8182\n",
      "Epoch 12/20\n",
      " - 12s - loss: 2.9172 - acc: 0.8180 - val_loss: 2.9145 - val_acc: 0.8182\n",
      "Epoch 13/20\n",
      " - 9s - loss: 2.9172 - acc: 0.8180 - val_loss: 2.9145 - val_acc: 0.8182\n",
      "Epoch 14/20\n",
      " - 8s - loss: 2.9172 - acc: 0.8180 - val_loss: 2.9145 - val_acc: 0.8182\n",
      "Epoch 15/20\n",
      " - 9s - loss: 2.9172 - acc: 0.8180 - val_loss: 2.9145 - val_acc: 0.8182\n",
      "Epoch 16/20\n",
      " - 9s - loss: 2.9172 - acc: 0.8180 - val_loss: 2.9145 - val_acc: 0.8182\n",
      "Epoch 17/20\n",
      " - 9s - loss: 2.9172 - acc: 0.8180 - val_loss: 2.9145 - val_acc: 0.8182\n",
      "Epoch 18/20\n",
      " - 8s - loss: 2.9172 - acc: 0.8180 - val_loss: 2.9145 - val_acc: 0.8182\n",
      "Epoch 19/20\n",
      " - 9s - loss: 2.9172 - acc: 0.8180 - val_loss: 2.9145 - val_acc: 0.8182\n",
      "Epoch 20/20\n",
      " - 10s - loss: 2.9172 - acc: 0.8180 - val_loss: 2.9145 - val_acc: 0.8182\n"
     ]
    }
   ],
   "source": [
    "model.compile(optimizer='rmsprop', loss='binary_crossentropy', metrics=['accuracy'])\n",
    "train_history = model.fit(X_train, y_train, epochs=20, batch_size=128, validation_split=0.3, shuffle=True, verbose=2)"
   ]
  },
  {
   "cell_type": "code",
   "execution_count": 16,
   "metadata": {},
   "outputs": [
    {
     "name": "stdout",
     "output_type": "stream",
     "text": [
      "The test loss is 2.920\n",
      "The test acc is 0.818\n"
     ]
    }
   ],
   "source": [
    "show_prediction_score(model, X_test, y_test)"
   ]
  },
  {
   "cell_type": "code",
   "execution_count": null,
   "metadata": {},
   "outputs": [],
   "source": []
  }
 ],
 "metadata": {
  "kernelspec": {
   "display_name": "Python 3",
   "language": "python",
   "name": "python3"
  },
  "language_info": {
   "codemirror_mode": {
    "name": "ipython",
    "version": 3
   },
   "file_extension": ".py",
   "mimetype": "text/x-python",
   "name": "python",
   "nbconvert_exporter": "python",
   "pygments_lexer": "ipython3",
   "version": "3.7.3"
  }
 },
 "nbformat": 4,
 "nbformat_minor": 2
}
