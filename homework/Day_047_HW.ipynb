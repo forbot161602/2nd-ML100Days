{
  "cells": [
    {
      "cell_type": "markdown",
      "metadata": {},
      "source": [
        "## [\u4f5c\u696d\u91cd\u9ede]\n",
        "\u4e86\u89e3\u5982\u4f55\u4f7f\u7528 Sklearn \u4e2d\u7684 hyper-parameter search \u627e\u51fa\u6700\u4f73\u7684\u8d85\u53c3\u6578"
      ]
    },
    {
      "cell_type": "markdown",
      "metadata": {},
      "source": [
        "### \u4f5c\u696d\n",
        "\u8acb\u4f7f\u7528\u4e0d\u540c\u7684\u8cc7\u6599\u96c6\uff0c\u4e26\u4f7f\u7528 hyper-parameter search \u7684\u65b9\u5f0f\uff0c\u770b\u80fd\u4e0d\u80fd\u627e\u51fa\u6700\u4f73\u7684\u8d85\u53c3\u6578\u7d44\u5408"
      ]
    },
    {
      "cell_type": "markdown",
      "metadata": {},
      "source": [
        "### \u53c3\u8003\u8cc7\u6599\n",
        "\n",
        "[Hyperparameter Tuning the Random Forest in Python](https://towardsdatascience.com/hyperparameter-tuning-the-random-forest-in-python-using-scikit-learn-28d2aa77dd74)\n",
        "\n",
        "[Scanning hyperspace: how to tune machine learning models](https://cambridgecoding.wordpress.com/2016/04/03/scanning-hyperspace-how-to-tune-machine-learning-models/)"
      ]
    },
    {
      "cell_type": "code",
      "execution_count": 1,
      "metadata": {},
      "outputs": [],
      "source": [
        "from sklearn import datasets, metrics\n",
        "from sklearn.model_selection import train_test_split, KFold, GridSearchCV\n",
        "from sklearn.ensemble import GradientBoostingRegressor"
      ]
    },
    {
      "cell_type": "code",
      "execution_count": 2,
      "metadata": {},
      "outputs": [
        {
          "name": "stdout",
          "output_type": "stream",
          "text": [
            "3195.484636528122\n"
          ]
        }
      ],
      "source": [
        "# \u8b80\u53d6\u7cd6\u5c3f\u75c5\u8cc7\u6599\u96c6\n",
        "diabetes = datasets.load_diabetes()\n",
        "x_train, x_test, y_train, y_test = train_test_split(boston.data, boston.target, test_size=0.25, random_state=42)\n",
        "clf = GradientBoostingRegressor(random_state=7)\n",
        "clf.fit(x_train, y_train)\n",
        "y_pred = clf.predict(x_test)\n",
        "print(metrics.mean_squared_error(y_test, y_pred))"
      ]
    },
    {
      "cell_type": "code",
      "execution_count": 3,
      "metadata": {},
      "outputs": [
        {
          "name": "stdout",
          "output_type": "stream",
          "text": [
            "Fitting 5 folds for each of 9 candidates, totalling 45 fits\n"
          ]
        },
        {
          "name": "stderr",
          "output_type": "stream",
          "text": [
            "[Parallel(n_jobs=-1)]: Using backend LokyBackend with 8 concurrent workers.\n"
          ]
        },
        {
          "name": "stdout",
          "output_type": "stream",
          "text": [
            "Best Accuracy: -3249.328994 using {'max_depth': 1, 'n_estimators': 200}\n"
          ]
        },
        {
          "name": "stderr",
          "output_type": "stream",
          "text": [
            "[Parallel(n_jobs=-1)]: Done  45 out of  45 | elapsed:    0.9s finished\n"
          ]
        }
      ],
      "source": [
        "# \u627e\u51fa\u6700\u597d\u7684\u8d85\u53c3\u6578\u7d44\u5408\n",
        "n_estimators = [100, 200, 300]\n",
        "max_depth = [1, 3, 5]\n",
        "param_grid = dict(n_estimators=n_estimators, max_depth=max_depth)\n",
        "grid_search = GridSearchCV(clf, param_grid, cv=5, iid=False, scoring='neg_mean_squared_error', n_jobs=-1, verbose=1)\n",
        "grid_result = grid_search.fit(x_train, y_train)\n",
        "print('Best Accuracy: %f using %s' % (grid_result.best_score_, grid_result.best_params_))"
      ]
    },
    {
      "cell_type": "code",
      "execution_count": 4,
      "metadata": {},
      "outputs": [
        {
          "name": "stdout",
          "output_type": "stream",
          "text": [
            "2812.9857279113467\n"
          ]
        }
      ],
      "source": [
        "# \u4f7f\u7528\u6700\u4f73\u53c3\u6578\u91cd\u65b0\u5efa\u7acb\u6a21\u578b\n",
        "clf_bestparam = GradientBoostingRegressor(max_depth=grid_result.best_params_['max_depth'],\n",
        "                                          n_estimators=grid_result.best_params_['n_estimators'])\n",
        "clf_bestparam.fit(x_train, y_train)\n",
        "y_pred = clf_bestparam.predict(x_test)\n",
        "print(metrics.mean_squared_error(y_test, y_pred))"
      ]
    },
    {
      "cell_type": "code",
      "execution_count": null,
      "metadata": {},
      "outputs": [],
      "source": []
    }
  ],
  "metadata": {
    "kernelspec": {
      "display_name": "Python 3",
      "language": "python",
      "name": "python3"
    },
    "language_info": {
      "codemirror_mode": {
        "name": "ipython",
        "version": 3
      },
      "file_extension": ".py",
      "mimetype": "text/x-python",
      "name": "python",
      "nbconvert_exporter": "python",
      "pygments_lexer": "ipython3",
      "version": "3.7.3"
    }
  },
  "nbformat": 4,
  "nbformat_minor": 2
}