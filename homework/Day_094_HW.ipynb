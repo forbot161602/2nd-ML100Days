{
  "cells": [
    {
      "cell_type": "markdown",
      "metadata": {},
      "source": [
        "## \u4f5c\u696d\u76ee\u6a19\n",
        "\n",
        "\u4e86\u89e3 Convolution \u5377\u7a4d\u7684\u7d44\u6210"
      ]
    },
    {
      "cell_type": "markdown",
      "metadata": {},
      "source": [
        "## \u4f5c\u696d\u91cd\u9ede\n",
        "\n",
        "\u4fee\u6539 a_slice_prev \u4e26\u6aa2\u67e5 Z \u7684\u8f38\u51fa"
      ]
    },
    {
      "cell_type": "markdown",
      "metadata": {},
      "source": [
        "## \u53c3\u8003\u8cc7\u6599\n",
        "\n",
        "\u4ecb\u7d39\u4e09\u7a2e\u8996\u89ba\u5316\u65b9\u6cd5\uff1a\n",
        "\n",
        "1. \u5377\u7a4d\u6838\u8f38\u51fa\u7684\u8996\u89ba\u5316(Visualizing intermediate convnet outputs)\uff1a\n",
        "\n",
        "    \u5373\u8996\u89ba\u5316\u5377\u7a4d\u6838\u7d93\u904e\u555f\u52d5\u4e4b\u5f8c\u7684\u7d50\u679c\u3002\u80fd\u5920\u770b\u5230\u5716\u50cf\u7d93\u904e\u5377\u7a4d\u4e4b\u5f8c\u7d50\u679c\uff0c\u5e6b\u52a9\u7406\u89e3\u5377\u7a4d\u6838\u7684\u4f5c\u7528\u3002\n",
        "\n",
        "\n",
        "2. \u5377\u7a4d\u6838\u7684\u8996\u89ba\u5316(Visualizing convnets filters)\uff1a\n",
        "\n",
        "    \u8aac\u660e\u6211\u5011\u7406\u89e3\u5377\u7a4d\u6838\u662f\u5982\u4f55\u611f\u53d7\u5716\u50cf\u7684\u3002\n",
        "\n",
        "\n",
        "3. \u71b1\u5ea6\u5716\u8996\u89ba\u5316(Visualizing heatmaps of class activation in an image)\uff1a\n",
        "\n",
        "    \u901a\u904e\u71b1\u5ea6\u5716\uff0c\u77ad\u89e3\u5716\u50cf\u5206\u985e\u554f\u984c\u4e2d\u5716\u50cf\u54ea\u4e9b\u90e8\u5206\u8d77\u5230\u4e86\u95dc\u9375\u4f5c\u7528\uff0c\u540c\u6642\u53ef\u4ee5\u5b9a\u4f4d\u5716\u50cf\u4e2d\u7269\u9ad4\u7684\u4f4d\u7f6e\u3002\n",
        "\n",
        "\n",
        "[Convnet \u4ecb\u7ecd\uff081\uff09](https://blog.csdn.net/douzeyang123/article/details/52635458)\n",
        "\n",
        "[\u5434\u6069\u8fbe\u6df1\u5ea6\u5b66\u4e60\u7b14\u8bb0(73) - \u66f4\u591a\u7684\u8fb9\u7f18\u68c0\u6d4b\u65b9\u6cd5](https://kknews.cc/zh-sg/news/4nb4lv2.amp)\n",
        "\n",
        "[Day 06\uff1a\u8655\u7406\u5f71\u50cf\u7684\u5229\u5668 - \u5377\u7a4d\u795e\u7d93\u7db2\u8def(Convolutional Neural Network)](https://dotblogs.com.tw/greengem/2017/12/17/094150)\n",
        "\n",
        "[An Intuitive Explanation of Convolutional Neural Networks](https://ujjwalkarn.me/2016/08/11/intuitive-explanation-convnets/)"
      ]
    },
    {
      "cell_type": "code",
      "execution_count": 1,
      "metadata": {},
      "outputs": [],
      "source": [
        "import numpy as np\n",
        "np.random.seed(9)"
      ]
    },
    {
      "cell_type": "code",
      "execution_count": 2,
      "metadata": {},
      "outputs": [],
      "source": [
        "def conv_2d(image, kernel, bias):\n",
        "    i_m, i_n = image.shape[:2]\n",
        "    k_m, k_n = kernel.shape[:2]\n",
        "    o_m, o_n = i_m - k_m + 1, i_n - k_n + 1\n",
        "    output_image = np.zeros((o_m, o_n,))\n",
        "    for i in range(o_m):\n",
        "        for j in range(o_n):\n",
        "            output_image[i][j] = conv_single_step(image[i:i + k_m, j:j + k_n, :], kernel, bias)\n",
        "    return output_image\n",
        "\n",
        "def conv_single_step(a_slice, kernel, bias):\n",
        "    output = np.sum(a_slice * kernel + bias)\n",
        "    return float(output)"
      ]
    },
    {
      "cell_type": "code",
      "execution_count": 3,
      "metadata": {},
      "outputs": [
        {
          "name": "stdout",
          "output_type": "stream",
          "text": [
            "output:\n",
            "[[  3.17091273  34.52281087 -17.11848465   8.54345172]\n",
            " [-10.92421146  16.44784494  -1.3636864    6.90447035]\n",
            " [  7.88655713   1.5048009    7.68471951  21.04743992]\n",
            " [ 11.47613818  -8.63751954  11.26673095  -1.46302725]\n",
            " [ 27.17726602   1.92037108  -3.40911132  26.36293974]\n",
            " [-10.78696282  12.36328197  -2.02531141  28.51145096]\n",
            " [  6.7346136   32.80236827 -11.42748789  13.97453348]\n",
            " [ -7.96953962  -9.91512578  18.50866462  -9.0378307 ]\n",
            " [  7.87102705  -5.72577119  -5.92672206  -4.57859734]\n",
            " [ -5.95141386  -0.22916797  20.70432593   0.23587702]\n",
            " [ -3.13413879  14.73839393  -1.08947767  -6.04620101]]\n"
          ]
        }
      ],
      "source": [
        "image, kernel, bias = np.random.randn(16, 9, 3), np.random.randn(6, 6, 3), np.random.randn(1, 1, 1)\n",
        "\n",
        "print('output:')\n",
        "print(conv_2d(image, kernel, bias))"
      ]
    },
    {
      "cell_type": "code",
      "execution_count": null,
      "metadata": {},
      "outputs": [],
      "source": []
    }
  ],
  "metadata": {
    "kernelspec": {
      "display_name": "Python 3",
      "language": "python",
      "name": "python3"
    },
    "language_info": {
      "codemirror_mode": {
        "name": "ipython",
        "version": 3
      },
      "file_extension": ".py",
      "mimetype": "text/x-python",
      "name": "python",
      "nbconvert_exporter": "python",
      "pygments_lexer": "ipython3",
      "version": "3.7.3"
    }
  },
  "nbformat": 4,
  "nbformat_minor": 2
}