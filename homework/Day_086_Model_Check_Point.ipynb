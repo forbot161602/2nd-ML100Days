{
 "cells": [
  {
   "cell_type": "markdown",
   "metadata": {},
   "source": [
    "## 範例重點\n",
    "\n",
    "* 知道如何設定監控目標\n",
    "* 學習如何在 Keras 中加入 Model Checkpoint\n",
    "* 比較使用最佳與非最佳參數時的表現"
   ]
  },
  {
   "cell_type": "code",
   "execution_count": 1,
   "metadata": {},
   "outputs": [
    {
     "name": "stderr",
     "output_type": "stream",
     "text": [
      "Using TensorFlow backend.\n"
     ]
    }
   ],
   "source": [
    "import tensorflow as tf\n",
    "import matplotlib.pyplot as plt\n",
    "from keras import backend\n",
    "from keras.utils import np_utils\n",
    "from keras.datasets import cifar10\n",
    "from keras.models import Model, load_model\n",
    "from keras.layers import Input, Dense, BatchNormalization\n",
    "from keras.optimizers import SGD\n",
    "from keras.callbacks import ModelCheckpoint\n",
    "tf.logging.set_verbosity(tf.logging.ERROR)"
   ]
  },
  {
   "cell_type": "markdown",
   "metadata": {},
   "source": [
    "## 準備資料"
   ]
  },
  {
   "cell_type": "code",
   "execution_count": 2,
   "metadata": {},
   "outputs": [],
   "source": [
    "(X_train, y_train), (X_test, y_test) = cifar10.load_data()"
   ]
  },
  {
   "cell_type": "code",
   "execution_count": 3,
   "metadata": {},
   "outputs": [],
   "source": [
    "def normalize_cifar10_data(x, y):\n",
    "    x = x.reshape((len(x), -1)) / 255.\n",
    "    y = np_utils.to_categorical(y, num_classes=10)\n",
    "    return x, y\n",
    "\n",
    "def normalize_result(x, y):\n",
    "    print('x.shape:', x.shape)\n",
    "    print('y.shape:', y.shape)"
   ]
  },
  {
   "cell_type": "code",
   "execution_count": 4,
   "metadata": {},
   "outputs": [
    {
     "name": "stdout",
     "output_type": "stream",
     "text": [
      "Before normalization:\n",
      "x.shape: (50000, 32, 32, 3)\n",
      "y.shape: (50000, 1)\n"
     ]
    }
   ],
   "source": [
    "print('Before normalization:')\n",
    "normalize_result(X_train, y_train)"
   ]
  },
  {
   "cell_type": "code",
   "execution_count": 5,
   "metadata": {},
   "outputs": [
    {
     "name": "stdout",
     "output_type": "stream",
     "text": [
      "After normalization:\n",
      "x.shape: (50000, 3072)\n",
      "y.shape: (50000, 10)\n"
     ]
    }
   ],
   "source": [
    "print('After normalization:')\n",
    "X_train, y_train = normalize_cifar10_data(X_train, y_train)\n",
    "X_test, y_test = normalize_cifar10_data(X_test, y_test)\n",
    "normalize_result(X_train, y_train)"
   ]
  },
  {
   "cell_type": "markdown",
   "metadata": {},
   "source": [
    "## 定義函數"
   ]
  },
  {
   "cell_type": "code",
   "execution_count": 6,
   "metadata": {},
   "outputs": [],
   "source": [
    "default_check_point_param = {'save_best_only': False, 'save_weights_only': False}\n",
    "\n",
    "class Trainer:\n",
    "    SAVED_TYPE_MODEL = 'model'\n",
    "    SAVED_TYPE_WEIGHTS = 'weights'\n",
    "\n",
    "    def __init__(self, X_train, y_train, X_test, y_test, check_point_path, check_point_param, neuron_numbers=(512, 256, 128,),\n",
    "                 epochs=50, batch_size=1024, momentum=0.95, learning_rate=1e-3):\n",
    "        self.X_test = X_test\n",
    "        self.y_test = y_test\n",
    "        self.X_train = X_train\n",
    "        self.y_train = y_train\n",
    "        self.epochs = epochs\n",
    "        self.batch_size = batch_size\n",
    "        self.momentum = momentum\n",
    "        self.learning_rate = learning_rate\n",
    "        self.neuron_numbers = neuron_numbers\n",
    "        self.check_point_path = check_point_path\n",
    "        self.check_point_param = check_point_param\n",
    "        self._model = None\n",
    "        self._score = None\n",
    "        self._history = None\n",
    "\n",
    "    @property\n",
    "    def optimizer(self):\n",
    "        return SGD(lr=self.learning_rate, momentum=self.momentum, nesterov=True)\n",
    "\n",
    "    @property\n",
    "    def callbacks(self):\n",
    "        return [ModelCheckpoint(self.check_point_path, **self.check_point_param)]\n",
    "\n",
    "    @property\n",
    "    def validation_data(self):\n",
    "        return (self.X_test, self.y_test,)\n",
    "\n",
    "    def run(self):\n",
    "        return self._clear()._build()._launch()\n",
    "\n",
    "    def reload(self, saved_type=SAVED_TYPE_MODEL):\n",
    "        self._clear()\n",
    "        if saved_type == self.SAVED_TYPE_MODEL:\n",
    "            self._model = load_model(self.check_point_path)\n",
    "        else:\n",
    "            self._build()._model.load_weights(self.check_point_path)\n",
    "        return self\n",
    "\n",
    "    def _clear(self):\n",
    "        backend.clear_session()\n",
    "        self._model = None\n",
    "        return self\n",
    "\n",
    "    def _build(self):\n",
    "        main_input = hidden_input = Input(shape=self.X_train.shape[-1:], name='main_input')\n",
    "        for i, neuron_number in enumerate(self.neuron_numbers):\n",
    "            hidden_input = Dense(units=neuron_number, activation='relu', name=f'hidden_layer{i}')(hidden_input)\n",
    "            hidden_input = BatchNormalization()(hidden_input)\n",
    "        main_output = Dense(units=self.y_train.shape[-1], activation='softmax', name='main_output')(hidden_input)\n",
    "        self._model = Model(inputs=[main_input], outputs=[main_output])\n",
    "        self._model.compile(optimizer=self.optimizer, loss='categorical_crossentropy', metrics=['accuracy'])\n",
    "        return self\n",
    "\n",
    "    def _launch(self):\n",
    "        print('Experiment with check point param: {}'.format(self.check_point_param))\n",
    "        self._model.summary()\n",
    "        self._history = self._model.fit(\n",
    "            self.X_train, self.y_train, epochs=self.epochs, batch_size=self.batch_size,\n",
    "            validation_data=self.validation_data, callbacks=self.callbacks, shuffle=True, verbose=2)\n",
    "        return self\n",
    "\n",
    "    def evaluate(self):\n",
    "        self._score = dict(zip(('val_loss', 'val_acc',), self._model.evaluate(self.X_test, self.y_test)))\n",
    "        return self\n",
    "\n",
    "    def display(self, train_name, val_name):\n",
    "        plt.figure(figsize=(8, 6,))\n",
    "        plt.plot(self._history.history[train_name])\n",
    "        plt.plot(self._history.history[val_name])\n",
    "        plt.hlines(self._score[val_name], xmin=0, xmax=self.epochs, colors='r', linestyles='--')\n",
    "        plt.xlabel('Epoch')\n",
    "        plt.ylabel(train_name)\n",
    "        plt.title('Train History')\n",
    "        plt.legend(['train', 'validation'], loc='upper left')\n",
    "        plt.show()"
   ]
  },
  {
   "cell_type": "markdown",
   "metadata": {},
   "source": [
    "## 訓練模型"
   ]
  },
  {
   "cell_type": "code",
   "execution_count": 7,
   "metadata": {},
   "outputs": [],
   "source": [
    "# 設定超參數\n",
    "check_point_path = 'data/part07/day_086_cifar10_model.h5'\n",
    "check_point_param = {**default_check_point_param, 'save_best_only': True}"
   ]
  },
  {
   "cell_type": "code",
   "execution_count": 8,
   "metadata": {},
   "outputs": [
    {
     "name": "stdout",
     "output_type": "stream",
     "text": [
      "Experiment with check point param: {'save_best_only': True, 'save_weights_only': False}\n",
      "_________________________________________________________________\n",
      "Layer (type)                 Output Shape              Param #   \n",
      "=================================================================\n",
      "main_input (InputLayer)      (None, 3072)              0         \n",
      "_________________________________________________________________\n",
      "hidden_layer0 (Dense)        (None, 512)               1573376   \n",
      "_________________________________________________________________\n",
      "batch_normalization_1 (Batch (None, 512)               2048      \n",
      "_________________________________________________________________\n",
      "hidden_layer1 (Dense)        (None, 256)               131328    \n",
      "_________________________________________________________________\n",
      "batch_normalization_2 (Batch (None, 256)               1024      \n",
      "_________________________________________________________________\n",
      "hidden_layer2 (Dense)        (None, 128)               32896     \n",
      "_________________________________________________________________\n",
      "batch_normalization_3 (Batch (None, 128)               512       \n",
      "_________________________________________________________________\n",
      "main_output (Dense)          (None, 10)                1290      \n",
      "=================================================================\n",
      "Total params: 1,742,474\n",
      "Trainable params: 1,740,682\n",
      "Non-trainable params: 1,792\n",
      "_________________________________________________________________\n",
      "Train on 50000 samples, validate on 10000 samples\n",
      "Epoch 1/50\n",
      " - 10s - loss: 2.1911 - acc: 0.2672 - val_loss: 2.0247 - val_acc: 0.3256\n",
      "Epoch 2/50\n",
      " - 10s - loss: 1.7406 - acc: 0.3903 - val_loss: 1.8056 - val_acc: 0.3795\n",
      "Epoch 3/50\n",
      " - 9s - loss: 1.6226 - acc: 0.4307 - val_loss: 1.7388 - val_acc: 0.3926\n",
      "Epoch 4/50\n",
      " - 8s - loss: 1.5527 - acc: 0.4536 - val_loss: 1.6641 - val_acc: 0.4192\n",
      "Epoch 5/50\n",
      " - 10s - loss: 1.4980 - acc: 0.4752 - val_loss: 1.6177 - val_acc: 0.4304\n",
      "Epoch 6/50\n",
      " - 9s - loss: 1.4547 - acc: 0.4906 - val_loss: 1.5798 - val_acc: 0.4408\n",
      "Epoch 7/50\n",
      " - 9s - loss: 1.4189 - acc: 0.5023 - val_loss: 1.5635 - val_acc: 0.4495\n",
      "Epoch 8/50\n",
      " - 9s - loss: 1.3830 - acc: 0.5159 - val_loss: 1.5440 - val_acc: 0.4586\n",
      "Epoch 9/50\n",
      " - 9s - loss: 1.3523 - acc: 0.5272 - val_loss: 1.5453 - val_acc: 0.4551\n",
      "Epoch 10/50\n",
      " - 9s - loss: 1.3240 - acc: 0.5380 - val_loss: 1.5207 - val_acc: 0.4654\n",
      "Epoch 11/50\n",
      " - 9s - loss: 1.2962 - acc: 0.5485 - val_loss: 1.5095 - val_acc: 0.4725\n",
      "Epoch 12/50\n",
      " - 9s - loss: 1.2697 - acc: 0.5608 - val_loss: 1.4979 - val_acc: 0.4720\n",
      "Epoch 13/50\n",
      " - 9s - loss: 1.2447 - acc: 0.5680 - val_loss: 1.4962 - val_acc: 0.4749\n",
      "Epoch 14/50\n",
      " - 9s - loss: 1.2202 - acc: 0.5773 - val_loss: 1.4818 - val_acc: 0.4800\n",
      "Epoch 15/50\n",
      " - 9s - loss: 1.1986 - acc: 0.5868 - val_loss: 1.4865 - val_acc: 0.4765\n",
      "Epoch 16/50\n",
      " - 9s - loss: 1.1739 - acc: 0.5938 - val_loss: 1.4720 - val_acc: 0.4840\n",
      "Epoch 17/50\n",
      " - 9s - loss: 1.1513 - acc: 0.6043 - val_loss: 1.4778 - val_acc: 0.4784\n",
      "Epoch 18/50\n",
      " - 9s - loss: 1.1285 - acc: 0.6119 - val_loss: 1.4780 - val_acc: 0.4809\n",
      "Epoch 19/50\n",
      " - 9s - loss: 1.1080 - acc: 0.6211 - val_loss: 1.4747 - val_acc: 0.4819\n",
      "Epoch 20/50\n",
      " - 9s - loss: 1.0860 - acc: 0.6304 - val_loss: 1.4802 - val_acc: 0.4824\n",
      "Epoch 21/50\n",
      " - 9s - loss: 1.0665 - acc: 0.6370 - val_loss: 1.4759 - val_acc: 0.4843\n",
      "Epoch 22/50\n",
      " - 9s - loss: 1.0430 - acc: 0.6459 - val_loss: 1.4762 - val_acc: 0.4865\n",
      "Epoch 23/50\n",
      " - 9s - loss: 1.0249 - acc: 0.6523 - val_loss: 1.4926 - val_acc: 0.4773\n",
      "Epoch 24/50\n",
      " - 9s - loss: 1.0057 - acc: 0.6610 - val_loss: 1.4781 - val_acc: 0.4871\n",
      "Epoch 25/50\n",
      " - 9s - loss: 0.9829 - acc: 0.6700 - val_loss: 1.5170 - val_acc: 0.4796\n",
      "Epoch 26/50\n",
      " - 9s - loss: 0.9648 - acc: 0.6770 - val_loss: 1.4948 - val_acc: 0.4877\n",
      "Epoch 27/50\n",
      " - 9s - loss: 0.9438 - acc: 0.6839 - val_loss: 1.4952 - val_acc: 0.4811\n",
      "Epoch 28/50\n",
      " - 9s - loss: 0.9228 - acc: 0.6938 - val_loss: 1.4826 - val_acc: 0.4877\n",
      "Epoch 29/50\n",
      " - 9s - loss: 0.9028 - acc: 0.7004 - val_loss: 1.5021 - val_acc: 0.4822\n",
      "Epoch 30/50\n",
      " - 9s - loss: 0.8836 - acc: 0.7071 - val_loss: 1.5110 - val_acc: 0.4853\n",
      "Epoch 31/50\n",
      " - 9s - loss: 0.8641 - acc: 0.7169 - val_loss: 1.5029 - val_acc: 0.4912\n",
      "Epoch 32/50\n",
      " - 9s - loss: 0.8453 - acc: 0.7213 - val_loss: 1.5040 - val_acc: 0.4929\n",
      "Epoch 33/50\n",
      " - 9s - loss: 0.8260 - acc: 0.7319 - val_loss: 1.5320 - val_acc: 0.4818\n",
      "Epoch 34/50\n",
      " - 9s - loss: 0.8058 - acc: 0.7377 - val_loss: 1.5185 - val_acc: 0.4923\n",
      "Epoch 35/50\n",
      " - 9s - loss: 0.7864 - acc: 0.7459 - val_loss: 1.5335 - val_acc: 0.4916\n",
      "Epoch 36/50\n",
      " - 9s - loss: 0.7675 - acc: 0.7519 - val_loss: 1.5365 - val_acc: 0.4906\n",
      "Epoch 37/50\n",
      " - 9s - loss: 0.7497 - acc: 0.7588 - val_loss: 1.5498 - val_acc: 0.4896\n",
      "Epoch 38/50\n",
      " - 9s - loss: 0.7316 - acc: 0.7675 - val_loss: 1.5660 - val_acc: 0.4846\n",
      "Epoch 39/50\n",
      " - 9s - loss: 0.7117 - acc: 0.7752 - val_loss: 1.5571 - val_acc: 0.4875\n",
      "Epoch 40/50\n",
      " - 9s - loss: 0.6933 - acc: 0.7841 - val_loss: 1.5592 - val_acc: 0.4892\n",
      "Epoch 41/50\n",
      " - 9s - loss: 0.6764 - acc: 0.7884 - val_loss: 1.5824 - val_acc: 0.4865\n",
      "Epoch 42/50\n",
      " - 9s - loss: 0.6583 - acc: 0.7961 - val_loss: 1.6150 - val_acc: 0.4864\n",
      "Epoch 43/50\n",
      " - 9s - loss: 0.6379 - acc: 0.8036 - val_loss: 1.6132 - val_acc: 0.4842\n",
      "Epoch 44/50\n",
      " - 8s - loss: 0.6200 - acc: 0.8123 - val_loss: 1.6005 - val_acc: 0.4912\n",
      "Epoch 45/50\n",
      " - 9s - loss: 0.6038 - acc: 0.8194 - val_loss: 1.6275 - val_acc: 0.4847\n",
      "Epoch 46/50\n",
      " - 9s - loss: 0.5853 - acc: 0.8272 - val_loss: 1.6359 - val_acc: 0.4881\n",
      "Epoch 47/50\n",
      " - 9s - loss: 0.5694 - acc: 0.8335 - val_loss: 1.6372 - val_acc: 0.4896\n",
      "Epoch 48/50\n",
      " - 9s - loss: 0.5498 - acc: 0.8398 - val_loss: 1.6600 - val_acc: 0.4923\n",
      "Epoch 49/50\n",
      " - 9s - loss: 0.5336 - acc: 0.8476 - val_loss: 1.6750 - val_acc: 0.4847\n",
      "Epoch 50/50\n",
      " - 9s - loss: 0.5188 - acc: 0.8525 - val_loss: 1.6969 - val_acc: 0.4778\n"
     ]
    }
   ],
   "source": [
    "trainer = Trainer(X_train, y_train, X_test, y_test, check_point_path, check_point_param).run()"
   ]
  },
  {
   "cell_type": "code",
   "execution_count": 9,
   "metadata": {
    "scrolled": true
   },
   "outputs": [
    {
     "name": "stdout",
     "output_type": "stream",
     "text": [
      "10000/10000 [==============================] - 1s 118us/step\n"
     ]
    }
   ],
   "source": [
    "trainer = trainer.reload().evaluate()"
   ]
  },
  {
   "cell_type": "code",
   "execution_count": 10,
   "metadata": {},
   "outputs": [
    {
     "data": {
      "image/png": "[encoded data removed]",
      "text/plain": [
       "<Figure size 576x432 with 1 Axes>"
      ]
     },
     "metadata": {
      "needs_background": "light"
     },
     "output_type": "display_data"
    }
   ],
   "source": [
    "trainer.display('acc', 'val_acc')"
   ]
  },
  {
   "cell_type": "code",
   "execution_count": 11,
   "metadata": {},
   "outputs": [
    {
     "data": {
      "image/png": "[encoded data removed]",
      "text/plain": [
       "<Figure size 576x432 with 1 Axes>"
      ]
     },
     "metadata": {
      "needs_background": "light"
     },
     "output_type": "display_data"
    }
   ],
   "source": [
    "trainer.display('loss', 'val_loss')"
   ]
  },
  {
   "cell_type": "markdown",
   "metadata": {},
   "source": [
    "## 作業\n",
    "\n",
    "1. 試比較 save_best_only = False 的差異，並嘗試重載模型預測表現\n",
    "2. 試比較 save_weights_only = True 的差異，並嘗試重載模型預測表現"
   ]
  },
  {
   "cell_type": "code",
   "execution_count": null,
   "metadata": {},
   "outputs": [],
   "source": []
  }
 ],
 "metadata": {
  "kernelspec": {
   "display_name": "Python 3",
   "language": "python",
   "name": "python3"
  },
  "language_info": {
   "codemirror_mode": {
    "name": "ipython",
    "version": 3
   },
   "file_extension": ".py",
   "mimetype": "text/x-python",
   "name": "python",
   "nbconvert_exporter": "python",
   "pygments_lexer": "ipython3",
   "version": "3.7.3"
  }
 },
 "nbformat": 4,
 "nbformat_minor": 2
}
