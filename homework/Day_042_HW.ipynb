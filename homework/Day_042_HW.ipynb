{
  "cells": [
    {
      "cell_type": "markdown",
      "metadata": {},
      "source": [
        "## [\u4f5c\u696d\u91cd\u9ede]\n",
        "\u76ee\u524d\u4f60\u61c9\u8a72\u5df2\u7d93\u8981\u5f88\u6e05\u695a\u8cc7\u6599\u96c6\u4e2d\uff0c\u8cc7\u6599\u7684\u578b\u614b\u662f\u4ec0\u9ebc\u6a23\u5b50\u56c9\uff01\u5305\u542b\u7279\u5fb5 (features) \u8207\u6a19\u7c64 (labels)\u3002\u56e0\u6b64\u8981\u8a18\u5f97\u672a\u4f86\u4e0d\u7ba1\u4ec0\u9ebc\u5c08\u6848\uff0c\u5fc5\u9808\u8981\u628a\u8cc7\u6599\u6e05\u7406\u6210\u76f8\u540c\u7684\u683c\u5f0f\uff0c\u624d\u80fd\u9001\u9032\u6a21\u578b\u8a13\u7df4\u3002\n",
        "\u4eca\u5929\u7684\u4f5c\u696d\u958b\u59cb\u8e0f\u5165\u6c7a\u7b56\u6a39\u9019\u500b\u975e\u5e38\u91cd\u8981\u7684\u6a21\u578b\uff0c\u8acb\u52d9\u5fc5\u78ba\u4fdd\u4f60\u7406\u89e3\u6a21\u578b\u4e2d\u6bcf\u500b\u8d85\u53c3\u6578\u7684\u610f\u601d\uff0c\u4e26\u8a66\u8457\u8abf\u6574\u770b\u770b\uff0c\u5c0d\u6700\u7d42\u9810\u6e2c\u7d50\u679c\u7684\u5f71\u97ff\u70ba\u4f55"
      ]
    },
    {
      "cell_type": "markdown",
      "metadata": {},
      "source": [
        "## \u4f5c\u696d\n",
        "\n",
        "1. \u8a66\u8457\u8abf\u6574 DecisionTreeClassifier(...) \u4e2d\u7684\u53c3\u6578\uff0c\u4e26\u89c0\u5bdf\u662f\u5426\u6703\u6539\u8b8a\u7d50\u679c\uff1f\n",
        "2. \u6539\u7528\u5176\u4ed6\u8cc7\u6599\u96c6 (boston, wine)\uff0c\u4e26\u8207\u56de\u6b78\u6a21\u578b\u7684\u7d50\u679c\u9032\u884c\u6bd4\u8f03"
      ]
    },
    {
      "cell_type": "code",
      "execution_count": 1,
      "metadata": {},
      "outputs": [],
      "source": [
        "import numpy as np\n",
        "import pandas as pd\n",
        "from sklearn import datasets, metrics\n",
        "from sklearn.tree import DecisionTreeClassifier, DecisionTreeRegressor\n",
        "from sklearn.model_selection import train_test_split"
      ]
    },
    {
      "cell_type": "code",
      "execution_count": 2,
      "metadata": {},
      "outputs": [
        {
          "name": "stdout",
          "output_type": "stream",
          "text": [
            "Length: 569\n"
          ]
        }
      ],
      "source": [
        "# \u5206\u985e\u554f\u984c\n",
        "breast_cancer = datasets.load_breast_cancer()\n",
        "print('Length:', len(breast_cancer.target))"
      ]
    },
    {
      "cell_type": "code",
      "execution_count": 3,
      "metadata": {},
      "outputs": [
        {
          "name": "stdout",
          "output_type": "stream",
          "text": [
            "Acuuracy: 0.9210526315789473\n"
          ]
        }
      ],
      "source": [
        "x_train, x_test, y_train, y_test = train_test_split(breast_cancer.data, breast_cancer.target, test_size=0.2, random_state=4)\n",
        "clf = DecisionTreeClassifier(max_depth=5, min_samples_split=2, min_samples_leaf=2)\n",
        "clf.fit(x_train, y_train)\n",
        "y_pred = clf.predict(x_test)\n",
        "acc = metrics.accuracy_score(y_test, y_pred)\n",
        "print('Acuuracy:', acc)"
      ]
    },
    {
      "cell_type": "code",
      "execution_count": 4,
      "metadata": {},
      "outputs": [
        {
          "data": {
            "text/html": [
              "<div>\n",
              "<style scoped>\n",
              "    .dataframe tbody tr th:only-of-type {\n",
              "        vertical-align: middle;\n",
              "    }\n",
              "\n",
              "    .dataframe tbody tr th {\n",
              "        vertical-align: top;\n",
              "    }\n",
              "\n",
              "    .dataframe thead th {\n",
              "        text-align: right;\n",
              "    }\n",
              "</style>\n",
              "<table border=\"1\" class=\"dataframe\">\n",
              "  <thead>\n",
              "    <tr style=\"text-align: right;\">\n",
              "      <th></th>\n",
              "      <th>feature_importance</th>\n",
              "    </tr>\n",
              "  </thead>\n",
              "  <tbody>\n",
              "    <tr>\n",
              "      <th>mean radius</th>\n",
              "      <td>0.003582</td>\n",
              "    </tr>\n",
              "    <tr>\n",
              "      <th>mean texture</th>\n",
              "      <td>0.006114</td>\n",
              "    </tr>\n",
              "    <tr>\n",
              "      <th>mean perimeter</th>\n",
              "      <td>0.000000</td>\n",
              "    </tr>\n",
              "    <tr>\n",
              "      <th>mean area</th>\n",
              "      <td>0.000000</td>\n",
              "    </tr>\n",
              "    <tr>\n",
              "      <th>mean smoothness</th>\n",
              "      <td>0.016914</td>\n",
              "    </tr>\n",
              "    <tr>\n",
              "      <th>mean compactness</th>\n",
              "      <td>0.000000</td>\n",
              "    </tr>\n",
              "    <tr>\n",
              "      <th>mean concavity</th>\n",
              "      <td>0.000000</td>\n",
              "    </tr>\n",
              "    <tr>\n",
              "      <th>mean concave points</th>\n",
              "      <td>0.000000</td>\n",
              "    </tr>\n",
              "    <tr>\n",
              "      <th>mean symmetry</th>\n",
              "      <td>0.000000</td>\n",
              "    </tr>\n",
              "    <tr>\n",
              "      <th>mean fractal dimension</th>\n",
              "      <td>0.000000</td>\n",
              "    </tr>\n",
              "    <tr>\n",
              "      <th>radius error</th>\n",
              "      <td>0.000000</td>\n",
              "    </tr>\n",
              "    <tr>\n",
              "      <th>texture error</th>\n",
              "      <td>0.000000</td>\n",
              "    </tr>\n",
              "    <tr>\n",
              "      <th>perimeter error</th>\n",
              "      <td>0.000000</td>\n",
              "    </tr>\n",
              "    <tr>\n",
              "      <th>area error</th>\n",
              "      <td>0.008975</td>\n",
              "    </tr>\n",
              "    <tr>\n",
              "      <th>smoothness error</th>\n",
              "      <td>0.000000</td>\n",
              "    </tr>\n",
              "    <tr>\n",
              "      <th>compactness error</th>\n",
              "      <td>0.000000</td>\n",
              "    </tr>\n",
              "    <tr>\n",
              "      <th>concavity error</th>\n",
              "      <td>0.000000</td>\n",
              "    </tr>\n",
              "    <tr>\n",
              "      <th>concave points error</th>\n",
              "      <td>0.009551</td>\n",
              "    </tr>\n",
              "    <tr>\n",
              "      <th>symmetry error</th>\n",
              "      <td>0.000000</td>\n",
              "    </tr>\n",
              "    <tr>\n",
              "      <th>fractal dimension error</th>\n",
              "      <td>0.000000</td>\n",
              "    </tr>\n",
              "    <tr>\n",
              "      <th>worst radius</th>\n",
              "      <td>0.000000</td>\n",
              "    </tr>\n",
              "    <tr>\n",
              "      <th>worst texture</th>\n",
              "      <td>0.017776</td>\n",
              "    </tr>\n",
              "    <tr>\n",
              "      <th>worst perimeter</th>\n",
              "      <td>0.768875</td>\n",
              "    </tr>\n",
              "    <tr>\n",
              "      <th>worst area</th>\n",
              "      <td>0.051222</td>\n",
              "    </tr>\n",
              "    <tr>\n",
              "      <th>worst smoothness</th>\n",
              "      <td>0.053992</td>\n",
              "    </tr>\n",
              "    <tr>\n",
              "      <th>worst compactness</th>\n",
              "      <td>0.000000</td>\n",
              "    </tr>\n",
              "    <tr>\n",
              "      <th>worst concavity</th>\n",
              "      <td>0.000000</td>\n",
              "    </tr>\n",
              "    <tr>\n",
              "      <th>worst concave points</th>\n",
              "      <td>0.062998</td>\n",
              "    </tr>\n",
              "    <tr>\n",
              "      <th>worst symmetry</th>\n",
              "      <td>0.000000</td>\n",
              "    </tr>\n",
              "    <tr>\n",
              "      <th>worst fractal dimension</th>\n",
              "      <td>0.000000</td>\n",
              "    </tr>\n",
              "  </tbody>\n",
              "</table>\n",
              "</div>"
            ],
            "text/plain": [
              "                         feature_importance\n",
              "mean radius                        0.003582\n",
              "mean texture                       0.006114\n",
              "mean perimeter                     0.000000\n",
              "mean area                          0.000000\n",
              "mean smoothness                    0.016914\n",
              "mean compactness                   0.000000\n",
              "mean concavity                     0.000000\n",
              "mean concave points                0.000000\n",
              "mean symmetry                      0.000000\n",
              "mean fractal dimension             0.000000\n",
              "radius error                       0.000000\n",
              "texture error                      0.000000\n",
              "perimeter error                    0.000000\n",
              "area error                         0.008975\n",
              "smoothness error                   0.000000\n",
              "compactness error                  0.000000\n",
              "concavity error                    0.000000\n",
              "concave points error               0.009551\n",
              "symmetry error                     0.000000\n",
              "fractal dimension error            0.000000\n",
              "worst radius                       0.000000\n",
              "worst texture                      0.017776\n",
              "worst perimeter                    0.768875\n",
              "worst area                         0.051222\n",
              "worst smoothness                   0.053992\n",
              "worst compactness                  0.000000\n",
              "worst concavity                    0.000000\n",
              "worst concave points               0.062998\n",
              "worst symmetry                     0.000000\n",
              "worst fractal dimension            0.000000"
            ]
          },
          "execution_count": 4,
          "metadata": {},
          "output_type": "execute_result"
        }
      ],
      "source": [
        "pd.DataFrame(clf.feature_importances_, index=breast_cancer.feature_names, columns=('feature_importance',))"
      ]
    },
    {
      "cell_type": "code",
      "execution_count": 5,
      "metadata": {},
      "outputs": [
        {
          "name": "stdout",
          "output_type": "stream",
          "text": [
            "Length: 506\n"
          ]
        }
      ],
      "source": [
        "# \u56de\u6b78\u554f\u984c\n",
        "boston = datasets.load_boston()\n",
        "print('Length:', len(boston.target))"
      ]
    },
    {
      "cell_type": "code",
      "execution_count": 6,
      "metadata": {},
      "outputs": [
        {
          "name": "stdout",
          "output_type": "stream",
          "text": [
            "R2 score: 0.7616407234688638\n"
          ]
        }
      ],
      "source": [
        "x_train, x_test, y_train, y_test = train_test_split(boston.data, boston.target, test_size=0.2, random_state=4)\n",
        "clf = DecisionTreeRegressor(max_depth=10, min_samples_split=4, min_samples_leaf=5)\n",
        "clf.fit(x_train, y_train)\n",
        "y_pred = clf.predict(x_test)\n",
        "acc = metrics.r2_score(y_test, y_pred)\n",
        "print('R2 score:', acc)"
      ]
    },
    {
      "cell_type": "code",
      "execution_count": 7,
      "metadata": {},
      "outputs": [
        {
          "data": {
            "text/html": [
              "<div>\n",
              "<style scoped>\n",
              "    .dataframe tbody tr th:only-of-type {\n",
              "        vertical-align: middle;\n",
              "    }\n",
              "\n",
              "    .dataframe tbody tr th {\n",
              "        vertical-align: top;\n",
              "    }\n",
              "\n",
              "    .dataframe thead th {\n",
              "        text-align: right;\n",
              "    }\n",
              "</style>\n",
              "<table border=\"1\" class=\"dataframe\">\n",
              "  <thead>\n",
              "    <tr style=\"text-align: right;\">\n",
              "      <th></th>\n",
              "      <th>feature_importance</th>\n",
              "    </tr>\n",
              "  </thead>\n",
              "  <tbody>\n",
              "    <tr>\n",
              "      <th>CRIM</th>\n",
              "      <td>0.036258</td>\n",
              "    </tr>\n",
              "    <tr>\n",
              "      <th>ZN</th>\n",
              "      <td>0.000000</td>\n",
              "    </tr>\n",
              "    <tr>\n",
              "      <th>INDUS</th>\n",
              "      <td>0.001075</td>\n",
              "    </tr>\n",
              "    <tr>\n",
              "      <th>CHAS</th>\n",
              "      <td>0.000000</td>\n",
              "    </tr>\n",
              "    <tr>\n",
              "      <th>NOX</th>\n",
              "      <td>0.013280</td>\n",
              "    </tr>\n",
              "    <tr>\n",
              "      <th>RM</th>\n",
              "      <td>0.627960</td>\n",
              "    </tr>\n",
              "    <tr>\n",
              "      <th>AGE</th>\n",
              "      <td>0.008354</td>\n",
              "    </tr>\n",
              "    <tr>\n",
              "      <th>DIS</th>\n",
              "      <td>0.031795</td>\n",
              "    </tr>\n",
              "    <tr>\n",
              "      <th>RAD</th>\n",
              "      <td>0.001552</td>\n",
              "    </tr>\n",
              "    <tr>\n",
              "      <th>TAX</th>\n",
              "      <td>0.009734</td>\n",
              "    </tr>\n",
              "    <tr>\n",
              "      <th>PTRATIO</th>\n",
              "      <td>0.024894</td>\n",
              "    </tr>\n",
              "    <tr>\n",
              "      <th>B</th>\n",
              "      <td>0.002750</td>\n",
              "    </tr>\n",
              "    <tr>\n",
              "      <th>LSTAT</th>\n",
              "      <td>0.242348</td>\n",
              "    </tr>\n",
              "  </tbody>\n",
              "</table>\n",
              "</div>"
            ],
            "text/plain": [
              "         feature_importance\n",
              "CRIM               0.036258\n",
              "ZN                 0.000000\n",
              "INDUS              0.001075\n",
              "CHAS               0.000000\n",
              "NOX                0.013280\n",
              "RM                 0.627960\n",
              "AGE                0.008354\n",
              "DIS                0.031795\n",
              "RAD                0.001552\n",
              "TAX                0.009734\n",
              "PTRATIO            0.024894\n",
              "B                  0.002750\n",
              "LSTAT              0.242348"
            ]
          },
          "execution_count": 7,
          "metadata": {},
          "output_type": "execute_result"
        }
      ],
      "source": [
        "pd.DataFrame(clf.feature_importances_, index=boston.feature_names, columns=('feature_importance',))"
      ]
    },
    {
      "cell_type": "code",
      "execution_count": null,
      "metadata": {},
      "outputs": [],
      "source": []
    }
  ],
  "metadata": {
    "kernelspec": {
      "display_name": "Python 3",
      "language": "python",
      "name": "python3"
    },
    "language_info": {
      "codemirror_mode": {
        "name": "ipython",
        "version": 3
      },
      "file_extension": ".py",
      "mimetype": "text/x-python",
      "name": "python",
      "nbconvert_exporter": "python",
      "pygments_lexer": "ipython3",
      "version": "3.7.3"
    }
  },
  "nbformat": 4,
  "nbformat_minor": 2
}