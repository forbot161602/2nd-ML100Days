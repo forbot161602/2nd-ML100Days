{
 "cells": [
  {
   "cell_type": "markdown",
   "metadata": {},
   "source": [
    "## 範例重點\n",
    "\n",
    "* 學習如何在 Keras 中加入自定義的 Callback\n",
    "* 知道 Callback 每個動作的時機"
   ]
  },
  {
   "cell_type": "code",
   "execution_count": 1,
   "metadata": {},
   "outputs": [
    {
     "name": "stderr",
     "output_type": "stream",
     "text": [
      "Using TensorFlow backend.\n"
     ]
    }
   ],
   "source": [
    "import tensorflow as tf\n",
    "import matplotlib.pyplot as plt\n",
    "from sklearn.metrics import f1_score\n",
    "from keras import backend\n",
    "from keras.utils import np_utils\n",
    "from keras.datasets import cifar10\n",
    "from keras.models import Model\n",
    "from keras.layers import Input, Dense, BatchNormalization\n",
    "from keras.optimizers import SGD\n",
    "from keras.callbacks import Callback\n",
    "tf.logging.set_verbosity(tf.logging.ERROR)"
   ]
  },
  {
   "cell_type": "markdown",
   "metadata": {},
   "source": [
    "## 準備資料"
   ]
  },
  {
   "cell_type": "code",
   "execution_count": 2,
   "metadata": {},
   "outputs": [],
   "source": [
    "(X_train, y_train), (X_test, y_test) = cifar10.load_data()"
   ]
  },
  {
   "cell_type": "code",
   "execution_count": 3,
   "metadata": {},
   "outputs": [],
   "source": [
    "def normalize_cifar10_data(x, y):\n",
    "    x = x.reshape((len(x), -1)) / 255.\n",
    "    y = np_utils.to_categorical(y, num_classes=10)\n",
    "    return x, y\n",
    "\n",
    "def normalize_result(x, y):\n",
    "    print('x.shape:', x.shape)\n",
    "    print('y.shape:', y.shape)"
   ]
  },
  {
   "cell_type": "code",
   "execution_count": 4,
   "metadata": {},
   "outputs": [
    {
     "name": "stdout",
     "output_type": "stream",
     "text": [
      "Before normalization:\n",
      "x.shape: (50000, 32, 32, 3)\n",
      "y.shape: (50000, 1)\n"
     ]
    }
   ],
   "source": [
    "print('Before normalization:')\n",
    "normalize_result(X_train, y_train)"
   ]
  },
  {
   "cell_type": "code",
   "execution_count": 5,
   "metadata": {},
   "outputs": [
    {
     "name": "stdout",
     "output_type": "stream",
     "text": [
      "After normalization:\n",
      "x.shape: (50000, 3072)\n",
      "y.shape: (50000, 10)\n"
     ]
    }
   ],
   "source": [
    "print('After normalization:')\n",
    "X_train, y_train = normalize_cifar10_data(X_train, y_train)\n",
    "X_test, y_test = normalize_cifar10_data(X_test, y_test)\n",
    "normalize_result(X_train, y_train)"
   ]
  },
  {
   "cell_type": "markdown",
   "metadata": {},
   "source": [
    "## 定義函數"
   ]
  },
  {
   "cell_type": "code",
   "execution_count": 6,
   "metadata": {},
   "outputs": [],
   "source": [
    "class Trainer:\n",
    "\n",
    "    def __init__(self, X_train, y_train, X_test, y_test, neuron_numbers=(512, 256, 128,),\n",
    "                 epochs=50, batch_size=1024, momentum=0.95, learning_rate=1e-3):\n",
    "        self.X_test = X_test\n",
    "        self.y_test = y_test\n",
    "        self.X_train = X_train\n",
    "        self.y_train = y_train\n",
    "        self.epochs = epochs\n",
    "        self.batch_size = batch_size\n",
    "        self.momentum = momentum\n",
    "        self.learning_rate = learning_rate\n",
    "        self.neuron_numbers = neuron_numbers\n",
    "        self._model = None\n",
    "        self._history = None\n",
    "\n",
    "    @property\n",
    "    def optimizer(self):\n",
    "        return SGD(lr=self.learning_rate, momentum=self.momentum, nesterov=True)\n",
    "\n",
    "    @property\n",
    "    def callbacks(self):\n",
    "        return [F1ScoreRecorder(self.training_data)]\n",
    "\n",
    "    @property\n",
    "    def training_data(self):\n",
    "        return (self.X_train, self.y_train,)\n",
    "\n",
    "    @property\n",
    "    def validation_data(self):\n",
    "        return (self.X_test, self.y_test,)\n",
    "\n",
    "    def run(self):\n",
    "        return self._clear()._build()._launch()\n",
    "\n",
    "    def _clear(self):\n",
    "        backend.clear_session()\n",
    "        self._model = None\n",
    "        return self\n",
    "\n",
    "    def _build(self):\n",
    "        main_input = hidden_input = Input(shape=self.X_train.shape[-1:], name='main_input')\n",
    "        for i, neuron_number in enumerate(self.neuron_numbers):\n",
    "            hidden_input = Dense(units=neuron_number, activation='relu', name=f'hidden_layer{i}')(hidden_input)\n",
    "            hidden_input = BatchNormalization()(hidden_input)\n",
    "        main_output = Dense(units=self.y_train.shape[-1], activation='softmax', name='main_output')(hidden_input)\n",
    "        self._model = Model(inputs=[main_input], outputs=[main_output])\n",
    "        self._model.compile(optimizer=self.optimizer, loss='categorical_crossentropy', metrics=['accuracy'])\n",
    "        return self\n",
    "\n",
    "    def _launch(self):\n",
    "        print('Experiment with callback: {}'.format(F1ScoreRecorder.__name__))\n",
    "        self._model.summary()\n",
    "        self._history = self._model.fit(\n",
    "            self.X_train, self.y_train, epochs=self.epochs, batch_size=self.batch_size,\n",
    "            validation_data=self.validation_data, callbacks=self.callbacks, shuffle=True, verbose=2)\n",
    "        return self\n",
    "\n",
    "    def display(self, train_name, val_name):\n",
    "        plt.figure(figsize=(8, 6,))\n",
    "        plt.plot(self._history.history[train_name])\n",
    "        plt.plot(self._history.history[val_name])\n",
    "        plt.xlabel('Epoch')\n",
    "        plt.ylabel(train_name)\n",
    "        plt.title('Train History')\n",
    "        plt.legend(['train', 'validation'], loc='upper left')\n",
    "        plt.show()\n",
    "\n",
    "class F1ScoreRecorder(Callback):\n",
    "\n",
    "    def __init__(self, training_data):\n",
    "        super().__init__()\n",
    "        self.training_data = training_data\n",
    "\n",
    "    def on_train_begin(self, logs=None):\n",
    "        self.params['metrics'].extend(['f1', 'val_f1'])\n",
    "    \n",
    "    def on_epoch_end(self, epoch, logs=None):\n",
    "        self._set_f1_score(*self.training_data[:2], 'f1', logs)\n",
    "        self._set_f1_score(*self.validation_data[:2], 'val_f1', logs)\n",
    "    \n",
    "    def _set_f1_score(self, x, y, name, logs=None):\n",
    "        logs[name] = f1_score(y.argmax(axis=1), self.model.predict(x).argmax(axis=1), average='weighted')"
   ]
  },
  {
   "cell_type": "markdown",
   "metadata": {},
   "source": [
    "## 訓練模型"
   ]
  },
  {
   "cell_type": "code",
   "execution_count": 7,
   "metadata": {},
   "outputs": [
    {
     "name": "stdout",
     "output_type": "stream",
     "text": [
      "Experiment with callback: F1ScoreRecorder\n",
      "_________________________________________________________________\n",
      "Layer (type)                 Output Shape              Param #   \n",
      "=================================================================\n",
      "main_input (InputLayer)      (None, 3072)              0         \n",
      "_________________________________________________________________\n",
      "hidden_layer0 (Dense)        (None, 512)               1573376   \n",
      "_________________________________________________________________\n",
      "batch_normalization_1 (Batch (None, 512)               2048      \n",
      "_________________________________________________________________\n",
      "hidden_layer1 (Dense)        (None, 256)               131328    \n",
      "_________________________________________________________________\n",
      "batch_normalization_2 (Batch (None, 256)               1024      \n",
      "_________________________________________________________________\n",
      "hidden_layer2 (Dense)        (None, 128)               32896     \n",
      "_________________________________________________________________\n",
      "batch_normalization_3 (Batch (None, 128)               512       \n",
      "_________________________________________________________________\n",
      "main_output (Dense)          (None, 10)                1290      \n",
      "=================================================================\n",
      "Total params: 1,742,474\n",
      "Trainable params: 1,740,682\n",
      "Non-trainable params: 1,792\n",
      "_________________________________________________________________\n",
      "Train on 50000 samples, validate on 10000 samples\n",
      "Epoch 1/50\n",
      " - 10s - loss: 2.1950 - acc: 0.2712 - val_loss: 2.1635 - val_acc: 0.3213\n",
      "Epoch 2/50\n",
      " - 9s - loss: 1.7480 - acc: 0.3882 - val_loss: 1.8778 - val_acc: 0.3701\n",
      "Epoch 3/50\n",
      " - 8s - loss: 1.6239 - acc: 0.4276 - val_loss: 1.6899 - val_acc: 0.4142\n",
      "Epoch 4/50\n",
      " - 8s - loss: 1.5492 - acc: 0.4558 - val_loss: 1.6301 - val_acc: 0.4320\n",
      "Epoch 5/50\n",
      " - 8s - loss: 1.4931 - acc: 0.4789 - val_loss: 1.5819 - val_acc: 0.4451\n",
      "Epoch 6/50\n",
      " - 9s - loss: 1.4463 - acc: 0.4943 - val_loss: 1.5663 - val_acc: 0.4491\n",
      "Epoch 7/50\n",
      " - 8s - loss: 1.4094 - acc: 0.5085 - val_loss: 1.5364 - val_acc: 0.4623\n",
      "Epoch 8/50\n",
      " - 8s - loss: 1.3731 - acc: 0.5213 - val_loss: 1.5337 - val_acc: 0.4610\n",
      "Epoch 9/50\n",
      " - 8s - loss: 1.3401 - acc: 0.5353 - val_loss: 1.5030 - val_acc: 0.4707\n",
      "Epoch 10/50\n",
      " - 8s - loss: 1.3104 - acc: 0.5456 - val_loss: 1.4912 - val_acc: 0.4758\n",
      "Epoch 11/50\n",
      " - 8s - loss: 1.2823 - acc: 0.5560 - val_loss: 1.4905 - val_acc: 0.4712\n",
      "Epoch 12/50\n",
      " - 8s - loss: 1.2570 - acc: 0.5646 - val_loss: 1.4844 - val_acc: 0.4799\n",
      "Epoch 13/50\n",
      " - 8s - loss: 1.2310 - acc: 0.5743 - val_loss: 1.4758 - val_acc: 0.4780\n",
      "Epoch 14/50\n",
      " - 8s - loss: 1.2054 - acc: 0.5842 - val_loss: 1.4707 - val_acc: 0.4849\n",
      "Epoch 15/50\n",
      " - 8s - loss: 1.1825 - acc: 0.5928 - val_loss: 1.4598 - val_acc: 0.4865\n",
      "Epoch 16/50\n",
      " - 8s - loss: 1.1595 - acc: 0.6007 - val_loss: 1.4624 - val_acc: 0.4856\n",
      "Epoch 17/50\n",
      " - 8s - loss: 1.1354 - acc: 0.6079 - val_loss: 1.4600 - val_acc: 0.4849\n",
      "Epoch 18/50\n",
      " - 8s - loss: 1.1155 - acc: 0.6172 - val_loss: 1.4591 - val_acc: 0.4873\n",
      "Epoch 19/50\n",
      " - 8s - loss: 1.0923 - acc: 0.6259 - val_loss: 1.4653 - val_acc: 0.4866\n",
      "Epoch 20/50\n",
      " - 8s - loss: 1.0720 - acc: 0.6344 - val_loss: 1.4506 - val_acc: 0.4944\n",
      "Epoch 21/50\n",
      " - 8s - loss: 1.0506 - acc: 0.6410 - val_loss: 1.4559 - val_acc: 0.4916\n",
      "Epoch 22/50\n",
      " - 8s - loss: 1.0300 - acc: 0.6494 - val_loss: 1.4467 - val_acc: 0.4938\n",
      "Epoch 23/50\n",
      " - 8s - loss: 1.0092 - acc: 0.6572 - val_loss: 1.4501 - val_acc: 0.4894\n",
      "Epoch 24/50\n",
      " - 9s - loss: 0.9889 - acc: 0.6648 - val_loss: 1.4560 - val_acc: 0.4952\n",
      "Epoch 25/50\n",
      " - 8s - loss: 0.9666 - acc: 0.6744 - val_loss: 1.4547 - val_acc: 0.4981\n",
      "Epoch 26/50\n",
      " - 8s - loss: 0.9479 - acc: 0.6815 - val_loss: 1.4571 - val_acc: 0.4930\n",
      "Epoch 27/50\n",
      " - 8s - loss: 0.9278 - acc: 0.6905 - val_loss: 1.4712 - val_acc: 0.4894\n",
      "Epoch 28/50\n",
      " - 8s - loss: 0.9085 - acc: 0.6961 - val_loss: 1.4669 - val_acc: 0.4950\n",
      "Epoch 29/50\n",
      " - 8s - loss: 0.8907 - acc: 0.7042 - val_loss: 1.4667 - val_acc: 0.4937\n",
      "Epoch 30/50\n",
      " - 8s - loss: 0.8699 - acc: 0.7099 - val_loss: 1.4810 - val_acc: 0.4937\n",
      "Epoch 31/50\n",
      " - 8s - loss: 0.8514 - acc: 0.7193 - val_loss: 1.4770 - val_acc: 0.4970\n",
      "Epoch 32/50\n",
      " - 8s - loss: 0.8307 - acc: 0.7280 - val_loss: 1.4798 - val_acc: 0.4946\n",
      "Epoch 33/50\n",
      " - 8s - loss: 0.8128 - acc: 0.7331 - val_loss: 1.5063 - val_acc: 0.4878\n",
      "Epoch 34/50\n",
      " - 8s - loss: 0.7939 - acc: 0.7417 - val_loss: 1.4940 - val_acc: 0.4941\n",
      "Epoch 35/50\n",
      " - 8s - loss: 0.7747 - acc: 0.7495 - val_loss: 1.5080 - val_acc: 0.4957\n",
      "Epoch 36/50\n",
      " - 8s - loss: 0.7552 - acc: 0.7579 - val_loss: 1.5143 - val_acc: 0.4983\n",
      "Epoch 37/50\n",
      " - 9s - loss: 0.7351 - acc: 0.7664 - val_loss: 1.5434 - val_acc: 0.4836\n",
      "Epoch 38/50\n",
      " - 8s - loss: 0.7182 - acc: 0.7706 - val_loss: 1.5363 - val_acc: 0.4939\n",
      "Epoch 39/50\n",
      " - 8s - loss: 0.6998 - acc: 0.7790 - val_loss: 1.5547 - val_acc: 0.4910\n",
      "Epoch 40/50\n",
      " - 9s - loss: 0.6821 - acc: 0.7868 - val_loss: 1.5428 - val_acc: 0.4925\n",
      "Epoch 41/50\n",
      " - 9s - loss: 0.6645 - acc: 0.7942 - val_loss: 1.5633 - val_acc: 0.4914\n",
      "Epoch 42/50\n",
      " - 8s - loss: 0.6466 - acc: 0.8002 - val_loss: 1.5789 - val_acc: 0.4894\n",
      "Epoch 43/50\n",
      " - 8s - loss: 0.6308 - acc: 0.8069 - val_loss: 1.5810 - val_acc: 0.4946\n",
      "Epoch 44/50\n",
      " - 8s - loss: 0.6093 - acc: 0.8152 - val_loss: 1.6088 - val_acc: 0.4883\n",
      "Epoch 45/50\n",
      " - 8s - loss: 0.5919 - acc: 0.8224 - val_loss: 1.6018 - val_acc: 0.4891\n",
      "Epoch 46/50\n",
      " - 8s - loss: 0.5770 - acc: 0.8275 - val_loss: 1.6123 - val_acc: 0.4861\n",
      "Epoch 47/50\n",
      " - 8s - loss: 0.5584 - acc: 0.8363 - val_loss: 1.6208 - val_acc: 0.4881\n",
      "Epoch 48/50\n",
      " - 8s - loss: 0.5421 - acc: 0.8430 - val_loss: 1.6311 - val_acc: 0.4874\n",
      "Epoch 49/50\n",
      " - 8s - loss: 0.5254 - acc: 0.8482 - val_loss: 1.6535 - val_acc: 0.4854\n",
      "Epoch 50/50\n",
      " - 8s - loss: 0.5087 - acc: 0.8560 - val_loss: 1.6596 - val_acc: 0.4907\n"
     ]
    }
   ],
   "source": [
    "trainer = Trainer(X_train, y_train, X_test, y_test).run()"
   ]
  },
  {
   "cell_type": "code",
   "execution_count": 8,
   "metadata": {},
   "outputs": [
    {
     "data": {
      "image/png": "[encoded data removed]",
      "text/plain": [
       "<Figure size 576x432 with 1 Axes>"
      ]
     },
     "metadata": {
      "needs_background": "light"
     },
     "output_type": "display_data"
    }
   ],
   "source": [
    "trainer.display('acc', 'val_acc')"
   ]
  },
  {
   "cell_type": "code",
   "execution_count": 9,
   "metadata": {},
   "outputs": [
    {
     "data": {
      "image/png": "[encoded data removed]",
      "text/plain": [
       "<Figure size 576x432 with 1 Axes>"
      ]
     },
     "metadata": {
      "needs_background": "light"
     },
     "output_type": "display_data"
    }
   ],
   "source": [
    "trainer.display('loss', 'val_loss')"
   ]
  },
  {
   "cell_type": "code",
   "execution_count": 10,
   "metadata": {},
   "outputs": [
    {
     "data": {
      "image/png": "[encoded data removed]",
      "text/plain": [
       "<Figure size 576x432 with 1 Axes>"
      ]
     },
     "metadata": {
      "needs_background": "light"
     },
     "output_type": "display_data"
    }
   ],
   "source": [
    "trainer.display('f1', 'val_f1')"
   ]
  },
  {
   "cell_type": "markdown",
   "metadata": {},
   "source": [
    "## 作業\n",
    "\n",
    "1. 請嘗試寫一個 callback 用來記錄在訓練過程中每次的 True Positive 與 True Negative。"
   ]
  },
  {
   "cell_type": "code",
   "execution_count": null,
   "metadata": {},
   "outputs": [],
   "source": []
  }
 ],
 "metadata": {
  "kernelspec": {
   "display_name": "Python 3",
   "language": "python",
   "name": "python3"
  },
  "language_info": {
   "codemirror_mode": {
    "name": "ipython",
    "version": 3
   },
   "file_extension": ".py",
   "mimetype": "text/x-python",
   "name": "python",
   "nbconvert_exporter": "python",
   "pygments_lexer": "ipython3",
   "version": "3.7.3"
  }
 },
 "nbformat": 4,
 "nbformat_minor": 2
}
