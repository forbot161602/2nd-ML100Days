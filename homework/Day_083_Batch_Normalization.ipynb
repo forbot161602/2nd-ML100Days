{
 "cells": [
  {
   "cell_type": "markdown",
   "metadata": {},
   "source": [
    "## 範例重點\n",
    "\n",
    "* 學習如何在 Keras 中加入 Batch Normalization\n",
    "* 知道有無批次標準化對訓練的影響\n",
    "* 比較批次標準化在不同 batch size 下的效果"
   ]
  },
  {
   "cell_type": "code",
   "execution_count": 1,
   "metadata": {},
   "outputs": [
    {
     "name": "stderr",
     "output_type": "stream",
     "text": [
      "Using TensorFlow backend.\n"
     ]
    }
   ],
   "source": [
    "import tensorflow as tf\n",
    "import matplotlib.pyplot as plt\n",
    "from keras import backend\n",
    "from keras.utils import np_utils\n",
    "from keras.datasets import cifar10\n",
    "from keras.models import Model\n",
    "from keras.layers import Input, Dense, BatchNormalization\n",
    "from keras.optimizers import SGD\n",
    "tf.logging.set_verbosity(tf.logging.ERROR)"
   ]
  },
  {
   "cell_type": "markdown",
   "metadata": {},
   "source": [
    "## 準備資料"
   ]
  },
  {
   "cell_type": "code",
   "execution_count": 2,
   "metadata": {},
   "outputs": [],
   "source": [
    "(X_train, y_train), (X_test, y_test) = cifar10.load_data()"
   ]
  },
  {
   "cell_type": "code",
   "execution_count": 3,
   "metadata": {},
   "outputs": [],
   "source": [
    "def normalize_cifar10_data(x, y):\n",
    "    x = x.reshape((len(x), -1)) / 255.\n",
    "    y = np_utils.to_categorical(y, num_classes=10)\n",
    "    return x, y\n",
    "\n",
    "def normalize_result(x, y):\n",
    "    print('x.shape:', x.shape)\n",
    "    print('y.shape:', y.shape)"
   ]
  },
  {
   "cell_type": "code",
   "execution_count": 4,
   "metadata": {},
   "outputs": [
    {
     "name": "stdout",
     "output_type": "stream",
     "text": [
      "Before normalization:\n",
      "x.shape: (50000, 32, 32, 3)\n",
      "y.shape: (50000, 1)\n"
     ]
    }
   ],
   "source": [
    "print('Before normalization:')\n",
    "normalize_result(X_train, y_train)"
   ]
  },
  {
   "cell_type": "code",
   "execution_count": 5,
   "metadata": {},
   "outputs": [
    {
     "name": "stdout",
     "output_type": "stream",
     "text": [
      "After normalization:\n",
      "x.shape: (50000, 3072)\n",
      "y.shape: (50000, 10)\n"
     ]
    }
   ],
   "source": [
    "print('After normalization:')\n",
    "X_train, y_train = normalize_cifar10_data(X_train, y_train)\n",
    "X_test, y_test = normalize_cifar10_data(X_test, y_test)\n",
    "normalize_result(X_train, y_train)"
   ]
  },
  {
   "cell_type": "markdown",
   "metadata": {},
   "source": [
    "## 定義函數"
   ]
  },
  {
   "cell_type": "code",
   "execution_count": 6,
   "metadata": {},
   "outputs": [],
   "source": [
    "def train_models(X_train, y_train, X_test, y_test, batch_sizes, should_prenormalize=False, should_normalize_input=False,\n",
    "                 neuron_numbers=(512, 256, 128,), epochs=50, momentum=0.95, learning_rate=1e-3):\n",
    "    train_histories = []\n",
    "    for i, batch_size in enumerate(batch_sizes):\n",
    "        print('Experiment with batch size: {}'.format(batch_size))\n",
    "        backend.clear_session() # 清掉舊的 Graph\n",
    "        model = build_model(X_train, X_train.shape[-1:], y_train.shape[-1], neuron_numbers,\n",
    "                            should_prenormalize, should_normalize_input)\n",
    "        model.summary()\n",
    "        model.compile(optimizer=SGD(lr=learning_rate, momentum=momentum, nesterov=True),\n",
    "                      loss='categorical_crossentropy', metrics=['accuracy'])\n",
    "        model.fit(X_train, y_train, epochs=epochs, batch_size=batch_size, validation_data=(X_test, y_test,),\n",
    "                  shuffle=True, verbose=2)\n",
    "        train_histories.append(model.history)\n",
    "    return train_histories\n",
    "\n",
    "def build_model(x, input_shape, output_units, neuron_numbers, should_prenormalize, should_normalize_input):\n",
    "    main_input = Input(shape=input_shape, name='main_input')\n",
    "    hidden_input = BatchNormalization()(main_input) if should_normalize_input and not should_prenormalize else main_input\n",
    "    for i, neuron_number in enumerate(neuron_numbers):\n",
    "        dense_layer, bn_layer = Dense(units=neuron_number, activation='relu', name=f'hidden_layer{i}'), BatchNormalization()\n",
    "        hidden_input = dense_layer(bn_layer(hidden_input)) if should_prenormalize else bn_layer(dense_layer(hidden_input))\n",
    "    main_output = Dense(units=output_units, activation='softmax', name='main_output')(hidden_input)\n",
    "    return Model(inputs=[main_input], outputs=[main_output])\n",
    "\n",
    "def show_train_histories(train_histories, train_name, val_name, colors, batch_sizes):\n",
    "    plt.figure(figsize=(8, 6,))\n",
    "    for i, train_history in enumerate(train_histories):\n",
    "        show_train_history(train_history, train_name, val_name, colors[i], batch_sizes[i])\n",
    "    plt.xlabel('Epoch')\n",
    "    plt.ylabel(train_name)\n",
    "    plt.title('Train History')\n",
    "    plt.legend()\n",
    "    plt.show()\n",
    "\n",
    "def show_train_history(train_history, train_name, val_name, color, batch_size):\n",
    "    plt.plot(train_history.history[train_name], '-', label='exp-bz-{}'.format(batch_size), color=color)\n",
    "    plt.plot(train_history.history[val_name], '--', label='exp-bz-{}'.format(batch_size), color=color)"
   ]
  },
  {
   "cell_type": "markdown",
   "metadata": {},
   "source": [
    "## 訓練模型"
   ]
  },
  {
   "cell_type": "code",
   "execution_count": 7,
   "metadata": {},
   "outputs": [],
   "source": [
    "# 設定超參數\n",
    "batch_sizes = (1024,)\n",
    "\n",
    "# 設定繪圖參數\n",
    "colors = ['r']"
   ]
  },
  {
   "cell_type": "code",
   "execution_count": 8,
   "metadata": {},
   "outputs": [
    {
     "name": "stdout",
     "output_type": "stream",
     "text": [
      "Experiment with batch size: 1024\n",
      "_________________________________________________________________\n",
      "Layer (type)                 Output Shape              Param #   \n",
      "=================================================================\n",
      "main_input (InputLayer)      (None, 3072)              0         \n",
      "_________________________________________________________________\n",
      "hidden_layer0 (Dense)        (None, 512)               1573376   \n",
      "_________________________________________________________________\n",
      "batch_normalization_1 (Batch (None, 512)               2048      \n",
      "_________________________________________________________________\n",
      "hidden_layer1 (Dense)        (None, 256)               131328    \n",
      "_________________________________________________________________\n",
      "batch_normalization_2 (Batch (None, 256)               1024      \n",
      "_________________________________________________________________\n",
      "hidden_layer2 (Dense)        (None, 128)               32896     \n",
      "_________________________________________________________________\n",
      "batch_normalization_3 (Batch (None, 128)               512       \n",
      "_________________________________________________________________\n",
      "main_output (Dense)          (None, 10)                1290      \n",
      "=================================================================\n",
      "Total params: 1,742,474\n",
      "Trainable params: 1,740,682\n",
      "Non-trainable params: 1,792\n",
      "_________________________________________________________________\n",
      "Train on 50000 samples, validate on 10000 samples\n",
      "Epoch 1/50\n",
      " - 10s - loss: 2.1981 - acc: 0.2736 - val_loss: 2.0442 - val_acc: 0.3227\n",
      "Epoch 2/50\n",
      " - 10s - loss: 1.7379 - acc: 0.3958 - val_loss: 1.8052 - val_acc: 0.3771\n",
      "Epoch 3/50\n",
      " - 9s - loss: 1.6140 - acc: 0.4339 - val_loss: 1.6875 - val_acc: 0.4151\n",
      "Epoch 4/50\n",
      " - 8s - loss: 1.5426 - acc: 0.4615 - val_loss: 1.6422 - val_acc: 0.4275\n",
      "Epoch 5/50\n",
      " - 9s - loss: 1.4871 - acc: 0.4793 - val_loss: 1.5840 - val_acc: 0.4445\n",
      "Epoch 6/50\n",
      " - 9s - loss: 1.4422 - acc: 0.4963 - val_loss: 1.5657 - val_acc: 0.4471\n",
      "Epoch 7/50\n",
      " - 9s - loss: 1.4027 - acc: 0.5087 - val_loss: 1.5496 - val_acc: 0.4550\n",
      "Epoch 8/50\n",
      " - 8s - loss: 1.3680 - acc: 0.5212 - val_loss: 1.5233 - val_acc: 0.4652\n",
      "Epoch 9/50\n",
      " - 8s - loss: 1.3366 - acc: 0.5335 - val_loss: 1.5117 - val_acc: 0.4658\n",
      "Epoch 10/50\n",
      " - 8s - loss: 1.3049 - acc: 0.5456 - val_loss: 1.5028 - val_acc: 0.4720\n",
      "Epoch 11/50\n",
      " - 8s - loss: 1.2788 - acc: 0.5546 - val_loss: 1.4913 - val_acc: 0.4761\n",
      "Epoch 12/50\n",
      " - 8s - loss: 1.2519 - acc: 0.5644 - val_loss: 1.4843 - val_acc: 0.4776\n",
      "Epoch 13/50\n",
      " - 8s - loss: 1.2251 - acc: 0.5740 - val_loss: 1.4678 - val_acc: 0.4875\n",
      "Epoch 14/50\n",
      " - 8s - loss: 1.2014 - acc: 0.5814 - val_loss: 1.4933 - val_acc: 0.4779\n",
      "Epoch 15/50\n",
      " - 8s - loss: 1.1777 - acc: 0.5945 - val_loss: 1.4578 - val_acc: 0.4906\n",
      "Epoch 16/50\n",
      " - 8s - loss: 1.1542 - acc: 0.6029 - val_loss: 1.4644 - val_acc: 0.4884\n",
      "Epoch 17/50\n",
      " - 8s - loss: 1.1328 - acc: 0.6095 - val_loss: 1.4710 - val_acc: 0.4843\n",
      "Epoch 18/50\n",
      " - 8s - loss: 1.1087 - acc: 0.6197 - val_loss: 1.4622 - val_acc: 0.4906\n",
      "Epoch 19/50\n",
      " - 8s - loss: 1.0852 - acc: 0.6265 - val_loss: 1.4537 - val_acc: 0.4939\n",
      "Epoch 20/50\n",
      " - 8s - loss: 1.0656 - acc: 0.6360 - val_loss: 1.4492 - val_acc: 0.5000\n",
      "Epoch 21/50\n",
      " - 8s - loss: 1.0439 - acc: 0.6440 - val_loss: 1.4704 - val_acc: 0.4901\n",
      "Epoch 22/50\n",
      " - 8s - loss: 1.0215 - acc: 0.6535 - val_loss: 1.4507 - val_acc: 0.4976\n",
      "Epoch 23/50\n",
      " - 8s - loss: 1.0005 - acc: 0.6619 - val_loss: 1.4546 - val_acc: 0.4950\n",
      "Epoch 24/50\n",
      " - 8s - loss: 0.9817 - acc: 0.6700 - val_loss: 1.4527 - val_acc: 0.5003\n",
      "Epoch 25/50\n",
      " - 8s - loss: 0.9614 - acc: 0.6774 - val_loss: 1.4593 - val_acc: 0.4959\n",
      "Epoch 26/50\n",
      " - 8s - loss: 0.9391 - acc: 0.6861 - val_loss: 1.4628 - val_acc: 0.5000\n",
      "Epoch 27/50\n",
      " - 8s - loss: 0.9192 - acc: 0.6931 - val_loss: 1.4740 - val_acc: 0.4968\n",
      "Epoch 28/50\n",
      " - 8s - loss: 0.8977 - acc: 0.7027 - val_loss: 1.4779 - val_acc: 0.4904\n",
      "Epoch 29/50\n",
      " - 8s - loss: 0.8786 - acc: 0.7101 - val_loss: 1.4751 - val_acc: 0.4950\n",
      "Epoch 30/50\n",
      " - 8s - loss: 0.8590 - acc: 0.7181 - val_loss: 1.4831 - val_acc: 0.5009\n",
      "Epoch 31/50\n",
      " - 8s - loss: 0.8388 - acc: 0.7260 - val_loss: 1.4880 - val_acc: 0.5007\n",
      "Epoch 32/50\n",
      " - 8s - loss: 0.8188 - acc: 0.7330 - val_loss: 1.4888 - val_acc: 0.4988\n",
      "Epoch 33/50\n",
      " - 9s - loss: 0.8002 - acc: 0.7411 - val_loss: 1.4934 - val_acc: 0.4931\n",
      "Epoch 34/50\n",
      " - 9s - loss: 0.7820 - acc: 0.7465 - val_loss: 1.4985 - val_acc: 0.4910\n",
      "Epoch 35/50\n",
      " - 9s - loss: 0.7626 - acc: 0.7551 - val_loss: 1.5276 - val_acc: 0.4962\n",
      "Epoch 36/50\n",
      " - 9s - loss: 0.7419 - acc: 0.7637 - val_loss: 1.5199 - val_acc: 0.4945\n",
      "Epoch 37/50\n",
      " - 9s - loss: 0.7230 - acc: 0.7720 - val_loss: 1.5344 - val_acc: 0.5001\n",
      "Epoch 38/50\n",
      " - 9s - loss: 0.7059 - acc: 0.7762 - val_loss: 1.5385 - val_acc: 0.4948\n",
      "Epoch 39/50\n",
      " - 9s - loss: 0.6850 - acc: 0.7864 - val_loss: 1.5581 - val_acc: 0.4951\n",
      "Epoch 40/50\n",
      " - 8s - loss: 0.6675 - acc: 0.7931 - val_loss: 1.5672 - val_acc: 0.4926\n",
      "Epoch 41/50\n",
      " - 8s - loss: 0.6491 - acc: 0.8007 - val_loss: 1.5796 - val_acc: 0.4913\n",
      "Epoch 42/50\n",
      " - 9s - loss: 0.6307 - acc: 0.8088 - val_loss: 1.5697 - val_acc: 0.4911\n",
      "Epoch 43/50\n",
      " - 8s - loss: 0.6142 - acc: 0.8126 - val_loss: 1.5903 - val_acc: 0.4966\n",
      "Epoch 44/50\n",
      " - 9s - loss: 0.5967 - acc: 0.8209 - val_loss: 1.6147 - val_acc: 0.4869\n",
      "Epoch 45/50\n",
      " - 8s - loss: 0.5783 - acc: 0.8290 - val_loss: 1.6045 - val_acc: 0.4975\n",
      "Epoch 46/50\n",
      " - 9s - loss: 0.5613 - acc: 0.8343 - val_loss: 1.6385 - val_acc: 0.4909\n",
      "Epoch 47/50\n",
      " - 9s - loss: 0.5411 - acc: 0.8440 - val_loss: 1.6311 - val_acc: 0.4907\n",
      "Epoch 48/50\n",
      " - 9s - loss: 0.5273 - acc: 0.8494 - val_loss: 1.6493 - val_acc: 0.4905\n",
      "Epoch 49/50\n",
      " - 8s - loss: 0.5106 - acc: 0.8546 - val_loss: 1.6784 - val_acc: 0.4870\n",
      "Epoch 50/50\n",
      " - 8s - loss: 0.4945 - acc: 0.8606 - val_loss: 1.6664 - val_acc: 0.4885\n"
     ]
    }
   ],
   "source": [
    "train_histories = train_models(X_train, y_train, X_test, y_test, batch_sizes)"
   ]
  },
  {
   "cell_type": "code",
   "execution_count": 9,
   "metadata": {},
   "outputs": [
    {
     "data": {
      "image/png": "[encoded data removed]",
      "text/plain": [
       "<Figure size 576x432 with 1 Axes>"
      ]
     },
     "metadata": {
      "needs_background": "light"
     },
     "output_type": "display_data"
    }
   ],
   "source": [
    "show_train_histories(train_histories, 'acc', 'val_acc', colors, batch_sizes)"
   ]
  },
  {
   "cell_type": "code",
   "execution_count": 10,
   "metadata": {},
   "outputs": [
    {
     "data": {
      "image/png": "[encoded data removed]",
      "text/plain": [
       "<Figure size 576x432 with 1 Axes>"
      ]
     },
     "metadata": {
      "needs_background": "light"
     },
     "output_type": "display_data"
    }
   ],
   "source": [
    "show_train_histories(train_histories, 'loss', 'val_loss', colors, batch_sizes)"
   ]
  },
  {
   "cell_type": "markdown",
   "metadata": {},
   "source": [
    "## 作業\n",
    "\n",
    "1. 試比較有批次標準化在 Batch_size 為 2、16、32、128、256 下的差異\n",
    "2. 請嘗試將批次標準化放在 Activation 之前，並比較訓練結果\n",
    "3. 請嘗試將批次標準化放在 Input Layer 之後，並比較訓練結果"
   ]
  },
  {
   "cell_type": "code",
   "execution_count": null,
   "metadata": {},
   "outputs": [],
   "source": []
  }
 ],
 "metadata": {
  "kernelspec": {
   "display_name": "Python 3",
   "language": "python",
   "name": "python3"
  },
  "language_info": {
   "codemirror_mode": {
    "name": "ipython",
    "version": 3
   },
   "file_extension": ".py",
   "mimetype": "text/x-python",
   "name": "python",
   "nbconvert_exporter": "python",
   "pygments_lexer": "ipython3",
   "version": "3.7.3"
  }
 },
 "nbformat": 4,
 "nbformat_minor": 2
}
