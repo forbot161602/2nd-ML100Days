{
  "cells": [
    {
      "cell_type": "markdown",
      "metadata": {},
      "source": [
        "## [\u6559\u5b78\u76ee\u6a19]\n",
        "\u5b78\u7fd2\u4f7f\u7528 sklearn \u4e2d\u7684 train_test_split \u7b49\u5957\u4ef6\uff0c\u9032\u884c\u8cc7\u6599\u7684\u5207\u5206"
      ]
    },
    {
      "cell_type": "markdown",
      "metadata": {},
      "source": [
        "## [\u7bc4\u4f8b\u91cd\u9ede]\n",
        "\u4e86\u89e3\u51fd\u6578\u4e2d\u5404\u500b\u53c3\u6578\u7684\u610f\u7fa9"
      ]
    },
    {
      "cell_type": "markdown",
      "metadata": {},
      "source": [
        "## \u5f15\u5165\u6211\u5011\u9700\u8981\u7684\u5957\u4ef6"
      ]
    },
    {
      "cell_type": "code",
      "execution_count": 1,
      "metadata": {},
      "outputs": [],
      "source": [
        "import numpy as np\n",
        "from sklearn.model_selection import train_test_split, KFold"
      ]
    },
    {
      "cell_type": "markdown",
      "metadata": {},
      "source": [
        "## \u7528 numpy \u751f\u6210\u96a8\u6a5f\u8cc7\u6599"
      ]
    },
    {
      "cell_type": "code",
      "execution_count": 2,
      "metadata": {},
      "outputs": [
        {
          "name": "stdout",
          "output_type": "stream",
          "text": [
            "Shape of X: (10, 5)\n",
            "Shape of y: (10,)\n"
          ]
        }
      ],
      "source": [
        "X = np.arange(50).reshape(10, 5) # \u751f\u6210\u5f9e 0 \u5230 50 \u7684 array\uff0c\u4e26 reshape \u6210 (10, 5) \u7684 matrix\n",
        "y = np.zeros(10) # \u751f\u6210\u4e00\u500b\u5168\u96f6\u7684 array\n",
        "y[:5] = 1 # \u5c07\u4e00\u534a\u7684\u503c\u6539\u70ba 1\n",
        "print('Shape of X:', X.shape)\n",
        "print('Shape of y:', y.shape)"
      ]
    },
    {
      "cell_type": "code",
      "execution_count": 3,
      "metadata": {},
      "outputs": [
        {
          "name": "stdout",
          "output_type": "stream",
          "text": [
            "X:\n",
            "[[ 0  1  2  3  4]\n",
            " [ 5  6  7  8  9]\n",
            " [10 11 12 13 14]\n",
            " [15 16 17 18 19]\n",
            " [20 21 22 23 24]\n",
            " [25 26 27 28 29]\n",
            " [30 31 32 33 34]\n",
            " [35 36 37 38 39]\n",
            " [40 41 42 43 44]\n",
            " [45 46 47 48 49]]\n",
            "\n",
            "y:\n",
            "[1. 1. 1. 1. 1. 0. 0. 0. 0. 0.]\n"
          ]
        }
      ],
      "source": [
        "print('X:')\n",
        "print(X)\n",
        "print('')\n",
        "print('y:')\n",
        "print(y)"
      ]
    },
    {
      "cell_type": "markdown",
      "metadata": {},
      "source": [
        "## \u4f7f\u7528 train_test_split \u51fd\u6578\u9032\u884c\u5207\u5206\n",
        "\u8acb\u53c3\u8003 train_test_split \u51fd\u6578\u7684[\u8aaa\u660e](http://scikit-learn.org/stable/modules/generated/sklearn.model_selection.train_test_split.html)\uff0c\u4e86\u89e3\u51fd\u6578\u88e1\u7684\u53c3\u6578\u610f\u7fa9\n",
        "- test_size \u4e00\u5b9a\u53ea\u80fd\u5c0f\u65bc 1 \u55ce\uff1f\n",
        "\n",
        "\u7b54\uff1atest_size \u70ba\u6d6e\u9ede\u6578\u6642\uff0c\u4ee3\u8868\u5206\u5272\u8cc7\u6599\u7684\u6bd4\u4f8b\uff0c\u6545\u4ecb\u65bc 0 ~ 1 \u9593\uff1b\u70ba\u6b63\u6574\u6578\u6642\uff0c\u4ee3\u8868\u7d55\u5c0d\u6578\u76ee\u3002\n",
        "\n",
        "- random_state \u4e0d\u8a2d\u7f6e\u6703\u600e\u9ebc\u6a23\u5462\uff1f\n",
        "\n",
        "\u7b54\uff1arandom_state \u70ba\u7522\u751f\u96a8\u6a5f\u6578\u7684\u7a2e\u5b50\uff0c\u4e0d\u6307\u5b9a\u6642\u9810\u8a2d\u4f7f\u7528 np.random\u3002"
      ]
    },
    {
      "cell_type": "code",
      "execution_count": 4,
      "metadata": {},
      "outputs": [],
      "source": [
        "X_train, X_test, y_train, y_test = train_test_split(X, y, test_size=0.33, random_state=42)"
      ]
    },
    {
      "cell_type": "code",
      "execution_count": 5,
      "metadata": {},
      "outputs": [
        {
          "data": {
            "text/plain": [
              "array([[35, 36, 37, 38, 39],\n",
              "       [10, 11, 12, 13, 14],\n",
              "       [45, 46, 47, 48, 49],\n",
              "       [20, 21, 22, 23, 24],\n",
              "       [15, 16, 17, 18, 19],\n",
              "       [30, 31, 32, 33, 34]])"
            ]
          },
          "execution_count": 5,
          "metadata": {},
          "output_type": "execute_result"
        }
      ],
      "source": [
        "X_train"
      ]
    },
    {
      "cell_type": "code",
      "execution_count": 6,
      "metadata": {},
      "outputs": [
        {
          "data": {
            "text/plain": [
              "array([0., 1., 0., 1., 1., 0.])"
            ]
          },
          "execution_count": 6,
          "metadata": {},
          "output_type": "execute_result"
        }
      ],
      "source": [
        "y_train"
      ]
    },
    {
      "cell_type": "markdown",
      "metadata": {},
      "source": [
        "## \u4f7f\u7528 K-fold Cross-validation \u4f86\u5207\u5206\u8cc7\u6599\n",
        "\u8acb\u53c3\u8003 kf \u51fd\u6578\u7684[\u8aaa\u660e](https://scikit-learn.org/stable/modules/generated/sklearn.model_selection.KFold.html)\uff0c\u4e86\u89e3\u53c3\u6578\u4e2d\u7684\u610f\u7fa9\u3002K \u53ef\u6839\u64da\u8cc7\u6599\u5927\u5c0f\u81ea\u884c\u6c7a\u5b9a\uff0cK=5 \u662f\u883b\u5e38\u7528\u7684\u5927\u5c0f\n",
        "- \u5982\u679c\u4f7f\u7528 shuffle=True \u6703\u600e\u9ebc\u6a23?\n",
        "\n",
        "\u7b54\uff1a\u5206\u5272\u524d\u6703\u5148\u96a8\u6a5f\u8abf\u6574\u9806\u5e8f(\u6d17\u724c)\u3002"
      ]
    },
    {
      "cell_type": "code",
      "execution_count": 7,
      "metadata": {},
      "outputs": [
        {
          "name": "stdout",
          "output_type": "stream",
          "text": [
            "FOLD 1:\n",
            "X_test:\n",
            "[[0 1 2 3 4]\n",
            " [5 6 7 8 9]]\n",
            "Y_test:\n",
            "[1. 1.]\n",
            "------------------------------\n",
            "FOLD 2:\n",
            "X_test:\n",
            "[[10 11 12 13 14]\n",
            " [15 16 17 18 19]]\n",
            "Y_test:\n",
            "[1. 1.]\n",
            "------------------------------\n",
            "FOLD 3:\n",
            "X_test:\n",
            "[[20 21 22 23 24]\n",
            " [25 26 27 28 29]]\n",
            "Y_test:\n",
            "[1. 0.]\n",
            "------------------------------\n",
            "FOLD 4:\n",
            "X_test:\n",
            "[[30 31 32 33 34]\n",
            " [35 36 37 38 39]]\n",
            "Y_test:\n",
            "[0. 0.]\n",
            "------------------------------\n",
            "FOLD 5:\n",
            "X_test:\n",
            "[[40 41 42 43 44]\n",
            " [45 46 47 48 49]]\n",
            "Y_test:\n",
            "[0. 0.]\n",
            "------------------------------\n"
          ]
        }
      ],
      "source": [
        "i = 0\n",
        "kf = KFold(n_splits=5)\n",
        "for train_index, test_index in kf.split(X):\n",
        "    i +=1 \n",
        "    X_train, X_test = X[train_index], X[test_index]\n",
        "    y_train, y_test = y[train_index], y[test_index]\n",
        "    print('FOLD {}:'.format(i))\n",
        "    print('X_test:')\n",
        "    print(X_test)\n",
        "    print('Y_test:')\n",
        "    print(y_test)\n",
        "    print('-'*30)"
      ]
    },
    {
      "cell_type": "markdown",
      "metadata": {},
      "source": [
        "## [\u4f5c\u696d\u91cd\u9ede]\n",
        "\u89c0\u5bdf\u51fd\u6578\u8aaa\u660e\uff0c\u8981\u5982\u4f55\u5207\u51fa\u56fa\u5b9a\u5927\u5c0f\u7684\u6e2c\u8a66\u96c6?"
      ]
    },
    {
      "cell_type": "markdown",
      "metadata": {},
      "source": [
        "## \u4f5c\u696d\n",
        "\u5047\u8a2d\u6211\u5011\u8cc7\u6599\u4e2d\u985e\u5225\u7684\u6578\u91cf\u4e26\u4e0d\u5747\u8861\uff0c\u5728\u8a55\u4f30\u6e96\u78ba\u7387\u6642\u53ef\u80fd\u6703\u6709\u6240\u504f\u9817\uff0c\u8a66\u8457\u5207\u5206\u51fa y_test \u4e2d\uff0c0 \u985e\u5225\u8207 1 \u985e\u5225\u7684\u6578\u91cf\u662f\u4e00\u6a23\u7684 (\u4ea6\u5373 y_test \u7684\u985e\u5225\u662f\u5747\u8861\u7684)"
      ]
    },
    {
      "cell_type": "code",
      "execution_count": 8,
      "metadata": {},
      "outputs": [],
      "source": [
        "X = np.arange(1000).reshape(200, 5)\n",
        "y = np.zeros(200)\n",
        "y[:40] = 1"
      ]
    },
    {
      "cell_type": "code",
      "execution_count": 9,
      "metadata": {},
      "outputs": [
        {
          "data": {
            "text/plain": [
              "array([1., 1., 1., 1., 1., 1., 1., 1., 1., 1., 1., 1., 1., 1., 1., 1., 1.,\n",
              "       1., 1., 1., 1., 1., 1., 1., 1., 1., 1., 1., 1., 1., 1., 1., 1., 1.,\n",
              "       1., 1., 1., 1., 1., 1., 0., 0., 0., 0., 0., 0., 0., 0., 0., 0., 0.,\n",
              "       0., 0., 0., 0., 0., 0., 0., 0., 0., 0., 0., 0., 0., 0., 0., 0., 0.,\n",
              "       0., 0., 0., 0., 0., 0., 0., 0., 0., 0., 0., 0., 0., 0., 0., 0., 0.,\n",
              "       0., 0., 0., 0., 0., 0., 0., 0., 0., 0., 0., 0., 0., 0., 0., 0., 0.,\n",
              "       0., 0., 0., 0., 0., 0., 0., 0., 0., 0., 0., 0., 0., 0., 0., 0., 0.,\n",
              "       0., 0., 0., 0., 0., 0., 0., 0., 0., 0., 0., 0., 0., 0., 0., 0., 0.,\n",
              "       0., 0., 0., 0., 0., 0., 0., 0., 0., 0., 0., 0., 0., 0., 0., 0., 0.,\n",
              "       0., 0., 0., 0., 0., 0., 0., 0., 0., 0., 0., 0., 0., 0., 0., 0., 0.,\n",
              "       0., 0., 0., 0., 0., 0., 0., 0., 0., 0., 0., 0., 0., 0., 0., 0., 0.,\n",
              "       0., 0., 0., 0., 0., 0., 0., 0., 0., 0., 0., 0., 0.])"
            ]
          },
          "execution_count": 9,
          "metadata": {},
          "output_type": "execute_result"
        }
      ],
      "source": [
        "y"
      ]
    },
    {
      "cell_type": "markdown",
      "metadata": {},
      "source": [
        "\u53ef\u4ee5\u770b\u898b y \u985e\u5225\u4e2d\uff0c\u6709 160 \u500b \u985e\u5225 0\uff0c40 \u500b \u985e\u5225 1 \uff0c\u8acb\u8a66\u8457\u4f7f\u7528 train_test_split \u51fd\u6578\uff0c\u5207\u5206\u51fa y_test \u4e2d\u80fd\u5404\u6709 10 \u7b46\u985e\u5225 0 \u8207 10 \u7b46\u985e\u5225 1 \u3002(HINT: \u53c3\u8003\u51fd\u6578\u4e2d\u7684 test_size\uff0c\u53ef\u91dd\u5c0d\u4e0d\u540c\u985e\u5225\u5404\u81ea\u4f5c\u5207\u5206\u5f8c\u518d\u5408\u4f75)"
      ]
    },
    {
      "cell_type": "code",
      "execution_count": null,
      "metadata": {
        "collapsed": true
      },
      "outputs": [],
      "source": []
    }
  ],
  "metadata": {
    "kernelspec": {
      "display_name": "Python 3",
      "language": "python",
      "name": "python3"
    },
    "language_info": {
      "codemirror_mode": {
        "name": "ipython",
        "version": 3
      },
      "file_extension": ".py",
      "mimetype": "text/x-python",
      "name": "python",
      "nbconvert_exporter": "python",
      "pygments_lexer": "ipython3",
      "version": "3.7.3"
    }
  },
  "nbformat": 4,
  "nbformat_minor": 2
}