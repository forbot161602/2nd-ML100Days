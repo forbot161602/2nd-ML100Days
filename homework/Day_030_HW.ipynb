{
  "cells": [
    {
      "cell_type": "markdown",
      "metadata": {
        "collapsed": true
      },
      "source": [
        "# \u4f5c\u696d : (Kaggle)\u9435\u9054\u5c3c\u751f\u5b58\u9810\u6e2c"
      ]
    },
    {
      "cell_type": "markdown",
      "metadata": {},
      "source": [
        "# [\u4f5c\u696d\u76ee\u6a19]\n",
        "- \u8a66\u8457\u6a21\u4eff\u7bc4\u4f8b\u5beb\u6cd5, \u5728\u9435\u9054\u5c3c\u751f\u5b58\u9810\u6e2c\u4e2d, \u4f7f\u7528\u8449\u7de8\u78bc\u4e26\u89c0\u5bdf\u9810\u6e2c\u6548\u679c"
      ]
    },
    {
      "cell_type": "markdown",
      "metadata": {},
      "source": [
        "# [\u4f5c\u696d\u91cd\u9ede]\n",
        "- \u4eff\u9020\u7bc4\u4f8b, \u5b8c\u6210\u8449\u7de8\u78bc\u7684\u5beb\u4f5c : \u4f7f\u7528\u96a8\u6a5f\u68ee\u6797 (In[3], Out[3], In[4], Out[4])\n",
        "- \u4eff\u9020\u7bc4\u4f8b, \u89c0\u5bdf\u8449\u7de8\u78bc\u642d\u914d\u908f\u8f2f\u65af\u8ff4\u6b78\u5f8c\u7684\u6548\u679c (In[5], Out[5], In[6], Out[6]) "
      ]
    },
    {
      "cell_type": "code",
      "execution_count": 1,
      "metadata": {},
      "outputs": [
        {
          "data": {
            "text/html": [
              "<div>\n",
              "<style scoped>\n",
              "    .dataframe tbody tr th:only-of-type {\n",
              "        vertical-align: middle;\n",
              "    }\n",
              "\n",
              "    .dataframe tbody tr th {\n",
              "        vertical-align: top;\n",
              "    }\n",
              "\n",
              "    .dataframe thead th {\n",
              "        text-align: right;\n",
              "    }\n",
              "</style>\n",
              "<table border=\"1\" class=\"dataframe\">\n",
              "  <thead>\n",
              "    <tr style=\"text-align: right;\">\n",
              "      <th></th>\n",
              "      <th>Pclass</th>\n",
              "      <th>Name</th>\n",
              "      <th>Sex</th>\n",
              "      <th>Age</th>\n",
              "      <th>SibSp</th>\n",
              "      <th>Parch</th>\n",
              "      <th>Ticket</th>\n",
              "      <th>Fare</th>\n",
              "      <th>Cabin</th>\n",
              "      <th>Embarked</th>\n",
              "    </tr>\n",
              "  </thead>\n",
              "  <tbody>\n",
              "    <tr>\n",
              "      <th>0</th>\n",
              "      <td>3</td>\n",
              "      <td>Braund, Mr. Owen Harris</td>\n",
              "      <td>male</td>\n",
              "      <td>22.0</td>\n",
              "      <td>1</td>\n",
              "      <td>0</td>\n",
              "      <td>A/5 21171</td>\n",
              "      <td>7.2500</td>\n",
              "      <td>NaN</td>\n",
              "      <td>S</td>\n",
              "    </tr>\n",
              "    <tr>\n",
              "      <th>1</th>\n",
              "      <td>1</td>\n",
              "      <td>Cumings, Mrs. John Bradley (Florence Briggs Th...</td>\n",
              "      <td>female</td>\n",
              "      <td>38.0</td>\n",
              "      <td>1</td>\n",
              "      <td>0</td>\n",
              "      <td>PC 17599</td>\n",
              "      <td>71.2833</td>\n",
              "      <td>C85</td>\n",
              "      <td>C</td>\n",
              "    </tr>\n",
              "    <tr>\n",
              "      <th>2</th>\n",
              "      <td>3</td>\n",
              "      <td>Heikkinen, Miss. Laina</td>\n",
              "      <td>female</td>\n",
              "      <td>26.0</td>\n",
              "      <td>0</td>\n",
              "      <td>0</td>\n",
              "      <td>STON/O2. 3101282</td>\n",
              "      <td>7.9250</td>\n",
              "      <td>NaN</td>\n",
              "      <td>S</td>\n",
              "    </tr>\n",
              "    <tr>\n",
              "      <th>3</th>\n",
              "      <td>1</td>\n",
              "      <td>Futrelle, Mrs. Jacques Heath (Lily May Peel)</td>\n",
              "      <td>female</td>\n",
              "      <td>35.0</td>\n",
              "      <td>1</td>\n",
              "      <td>0</td>\n",
              "      <td>113803</td>\n",
              "      <td>53.1000</td>\n",
              "      <td>C123</td>\n",
              "      <td>S</td>\n",
              "    </tr>\n",
              "    <tr>\n",
              "      <th>4</th>\n",
              "      <td>3</td>\n",
              "      <td>Allen, Mr. William Henry</td>\n",
              "      <td>male</td>\n",
              "      <td>35.0</td>\n",
              "      <td>0</td>\n",
              "      <td>0</td>\n",
              "      <td>373450</td>\n",
              "      <td>8.0500</td>\n",
              "      <td>NaN</td>\n",
              "      <td>S</td>\n",
              "    </tr>\n",
              "  </tbody>\n",
              "</table>\n",
              "</div>"
            ],
            "text/plain": [
              "   Pclass                                               Name     Sex   Age  \\\n",
              "0       3                            Braund, Mr. Owen Harris    male  22.0   \n",
              "1       1  Cumings, Mrs. John Bradley (Florence Briggs Th...  female  38.0   \n",
              "2       3                             Heikkinen, Miss. Laina  female  26.0   \n",
              "3       1       Futrelle, Mrs. Jacques Heath (Lily May Peel)  female  35.0   \n",
              "4       3                           Allen, Mr. William Henry    male  35.0   \n",
              "\n",
              "   SibSp  Parch            Ticket     Fare Cabin Embarked  \n",
              "0      1      0         A/5 21171   7.2500   NaN        S  \n",
              "1      1      0          PC 17599  71.2833   C85        C  \n",
              "2      0      0  STON/O2. 3101282   7.9250   NaN        S  \n",
              "3      1      0            113803  53.1000  C123        S  \n",
              "4      0      0            373450   8.0500   NaN        S  "
            ]
          },
          "execution_count": 1,
          "metadata": {},
          "output_type": "execute_result"
        }
      ],
      "source": [
        "# \u505a\u5b8c\u7279\u5fb5\u5de5\u7a0b\u524d\u7684\u6240\u6709\u6e96\u5099\n",
        "import copy\n",
        "import pandas as pd\n",
        "import numpy as np\n",
        "from sklearn.preprocessing import LabelEncoder, MinMaxScaler\n",
        "from sklearn.linear_model import LogisticRegression\n",
        "from sklearn.ensemble import RandomForestClassifier\n",
        "# \u56e0\u70ba\u64ec\u5408(fit)\u8207\u7de8\u78bc(transform)\u9700\u8981\u5206\u958b, \u56e0\u6b64\u4e0d\u4f7f\u7528.get_dummy, \u800c\u63a1\u7528 sklearn \u7684 OneHotEncoder\n",
        "# \u51fd\u6578 model_selection.train_test_split \u63d0\u4f9b\u96a8\u6a5f\u5283\u5206\u8a13\u7df4\u96c6\u548c\u6e2c\u8a66\u96c6\u7684\u529f\u80fd\n",
        "from sklearn.preprocessing import OneHotEncoder\n",
        "from sklearn.model_selection import train_test_split\n",
        "from sklearn.metrics import roc_curve\n",
        "\n",
        "data_path = './data/part02/'\n",
        "df = pd.read_csv(data_path + 'titanic_train.csv')\n",
        "\n",
        "train_Y = df['Survived']\n",
        "df = df.drop(['PassengerId', 'Survived'], axis=1)\n",
        "df.head()"
      ]
    },
    {
      "cell_type": "code",
      "execution_count": 2,
      "metadata": {},
      "outputs": [
        {
          "data": {
            "text/html": [
              "<div>\n",
              "<style scoped>\n",
              "    .dataframe tbody tr th:only-of-type {\n",
              "        vertical-align: middle;\n",
              "    }\n",
              "\n",
              "    .dataframe tbody tr th {\n",
              "        vertical-align: top;\n",
              "    }\n",
              "\n",
              "    .dataframe thead th {\n",
              "        text-align: right;\n",
              "    }\n",
              "</style>\n",
              "<table border=\"1\" class=\"dataframe\">\n",
              "  <thead>\n",
              "    <tr style=\"text-align: right;\">\n",
              "      <th></th>\n",
              "      <th>Pclass</th>\n",
              "      <th>Name</th>\n",
              "      <th>Sex</th>\n",
              "      <th>Age</th>\n",
              "      <th>SibSp</th>\n",
              "      <th>Parch</th>\n",
              "      <th>Ticket</th>\n",
              "      <th>Fare</th>\n",
              "      <th>Cabin</th>\n",
              "      <th>Embarked</th>\n",
              "    </tr>\n",
              "  </thead>\n",
              "  <tbody>\n",
              "    <tr>\n",
              "      <th>0</th>\n",
              "      <td>1.0</td>\n",
              "      <td>0.121348</td>\n",
              "      <td>1.0</td>\n",
              "      <td>0.283951</td>\n",
              "      <td>0.125</td>\n",
              "      <td>0.0</td>\n",
              "      <td>0.769118</td>\n",
              "      <td>0.014151</td>\n",
              "      <td>0.000000</td>\n",
              "      <td>1.000000</td>\n",
              "    </tr>\n",
              "    <tr>\n",
              "      <th>1</th>\n",
              "      <td>0.0</td>\n",
              "      <td>0.213483</td>\n",
              "      <td>0.0</td>\n",
              "      <td>0.481481</td>\n",
              "      <td>0.125</td>\n",
              "      <td>0.0</td>\n",
              "      <td>0.876471</td>\n",
              "      <td>0.139136</td>\n",
              "      <td>0.557823</td>\n",
              "      <td>0.333333</td>\n",
              "    </tr>\n",
              "    <tr>\n",
              "      <th>2</th>\n",
              "      <td>1.0</td>\n",
              "      <td>0.396629</td>\n",
              "      <td>0.0</td>\n",
              "      <td>0.333333</td>\n",
              "      <td>0.000</td>\n",
              "      <td>0.0</td>\n",
              "      <td>0.983824</td>\n",
              "      <td>0.015469</td>\n",
              "      <td>0.000000</td>\n",
              "      <td>1.000000</td>\n",
              "    </tr>\n",
              "    <tr>\n",
              "      <th>3</th>\n",
              "      <td>0.0</td>\n",
              "      <td>0.305618</td>\n",
              "      <td>0.0</td>\n",
              "      <td>0.444444</td>\n",
              "      <td>0.125</td>\n",
              "      <td>0.0</td>\n",
              "      <td>0.072059</td>\n",
              "      <td>0.103644</td>\n",
              "      <td>0.380952</td>\n",
              "      <td>1.000000</td>\n",
              "    </tr>\n",
              "    <tr>\n",
              "      <th>4</th>\n",
              "      <td>1.0</td>\n",
              "      <td>0.016854</td>\n",
              "      <td>1.0</td>\n",
              "      <td>0.444444</td>\n",
              "      <td>0.000</td>\n",
              "      <td>0.0</td>\n",
              "      <td>0.694118</td>\n",
              "      <td>0.015713</td>\n",
              "      <td>0.000000</td>\n",
              "      <td>1.000000</td>\n",
              "    </tr>\n",
              "  </tbody>\n",
              "</table>\n",
              "</div>"
            ],
            "text/plain": [
              "   Pclass      Name  Sex       Age  SibSp  Parch    Ticket      Fare  \\\n",
              "0     1.0  0.121348  1.0  0.283951  0.125    0.0  0.769118  0.014151   \n",
              "1     0.0  0.213483  0.0  0.481481  0.125    0.0  0.876471  0.139136   \n",
              "2     1.0  0.396629  0.0  0.333333  0.000    0.0  0.983824  0.015469   \n",
              "3     0.0  0.305618  0.0  0.444444  0.125    0.0  0.072059  0.103644   \n",
              "4     1.0  0.016854  1.0  0.444444  0.000    0.0  0.694118  0.015713   \n",
              "\n",
              "      Cabin  Embarked  \n",
              "0  0.000000  1.000000  \n",
              "1  0.557823  0.333333  \n",
              "2  0.000000  1.000000  \n",
              "3  0.380952  1.000000  \n",
              "4  0.000000  1.000000  "
            ]
          },
          "execution_count": 2,
          "metadata": {},
          "output_type": "execute_result"
        }
      ],
      "source": [
        "# \u56e0\u70ba\u9700\u8981\u628a\u985e\u5225\u578b\u8207\u6578\u503c\u578b\u7279\u5fb5\u90fd\u52a0\u5165, \u6545\u4f7f\u7528\u6700\u7c21\u7248\u7684\u7279\u5fb5\u5de5\u7a0b\n",
        "LEncoder = LabelEncoder()\n",
        "MMEncoder = MinMaxScaler()\n",
        "for c in df.columns:\n",
        "    df[c] = df[c].fillna(-1)\n",
        "    if df[c].dtype == 'object':\n",
        "        df[c] = LEncoder.fit_transform(list(df[c].values))\n",
        "    df[c] = MMEncoder.fit_transform(df[c].values.reshape(-1, 1))\n",
        "df.head()"
      ]
    },
    {
      "cell_type": "code",
      "execution_count": 3,
      "metadata": {},
      "outputs": [],
      "source": [
        "# \u56e0\u70ba\u8a13\u7df4\u908f\u8f2f\u65af\u8ff4\u6b78\u6642\u4e5f\u8981\u8cc7\u6599, \u56e0\u6b64\u5c07\u8a13\u7df4\u53ca\u5207\u6210\u4e09\u90e8\u5206 train / val / test, \u63a1\u7528 test \u9a57\u8b49\u800c\u975e k-fold \u4ea4\u53c9\u9a57\u8b49\n",
        "# train \u7528\u4f86\u8a13\u7df4\u68af\u5ea6\u63d0\u5347\u6a39, val \u7528\u4f86\u8a13\u7df4\u908f\u8f2f\u65af\u8ff4\u6b78, test \u9a57\u8b49\u6548\u679c\n",
        "train_X = df.values\n",
        "train_X, test_X, train_Y, test_Y = train_test_split(train_X, train_Y, test_size=0.5)\n",
        "train_X, val_X, train_Y, val_Y = train_test_split(train_X, train_Y, test_size=0.5)"
      ]
    },
    {
      "cell_type": "markdown",
      "metadata": {
        "collapsed": true
      },
      "source": [
        "# \u4f5c\u696d1\n",
        "* \u8acb\u5c0d\u7167\u7bc4\u4f8b\uff0c\u5b8c\u6210\u96a8\u6a5f\u68ee\u6797\u7684\u9435\u9054\u5c3c\u751f\u5b58\u7387\u9810\u6e2c\uff0c\u4ee5\u53ca\u5c0d\u61c9\u7684\u8449\u7de8\u78bc + \u908f\u8f2f\u65af\u8ff4\u6b78"
      ]
    },
    {
      "cell_type": "code",
      "execution_count": 4,
      "metadata": {},
      "outputs": [
        {
          "data": {
            "text/plain": [
              "LogisticRegression(C=1.0, class_weight=None, dual=False, fit_intercept=True,\n",
              "                   intercept_scaling=1, l1_ratio=None, max_iter=1000,\n",
              "                   multi_class='warn', n_jobs=None, penalty='l2',\n",
              "                   random_state=None, solver='lbfgs', tol=0.0001, verbose=0,\n",
              "                   warm_start=False)"
            ]
          },
          "execution_count": 4,
          "metadata": {},
          "output_type": "execute_result"
        }
      ],
      "source": [
        "# \u96a8\u6a5f\u68ee\u6797\u64ec\u5408\u5f8c, \u518d\u5c07\u8449\u7de8\u78bc (*.apply) \u7684\u7d50\u679c\u505a\u7368\u71b1\u7de8\u78bc\u548c\u908f\u8f2f\u65af\u8ff4\u6b78\n",
        "rf = RandomForestClassifier(n_estimators=20, min_samples_split=10, min_samples_leaf=5,\n",
        "                            max_features=4, max_depth=3, bootstrap=True)\n",
        "onehot = OneHotEncoder(categories='auto')\n",
        "logreg = LogisticRegression(solver='lbfgs', max_iter=1000)\n",
        "\n",
        "\"\"\"\n",
        "Your Code Here (Hint : \u96a8\u6a5f\u68ee\u6797\u7684\u8449\u7de8\u78bc(.apply)\u4e0d\u9700\u8981\u52a0\u4e0a[:, :, 0], \u76f4\u63a5\u7528rf.apply()\u8abf\u7528\u5373\u53ef, \u672c\u4f5c\u696d\u5176\u9918\u5beb\u6cd5\u76f8\u540c)\n",
        "\"\"\"\n",
        "rf.fit(train_X, train_Y)\n",
        "onehot.fit(rf.apply(train_X))\n",
        "logreg.fit(onehot.transform(rf.apply(val_X)), val_Y)"
      ]
    },
    {
      "cell_type": "code",
      "execution_count": 5,
      "metadata": {},
      "outputs": [],
      "source": [
        "# \u5c07\u96a8\u6a5f\u68ee\u6797\u7d50\u679c\u8f38\u51fa\n",
        "\"\"\"\n",
        "Your Code Here \n",
        "\"\"\"\n",
        "pred_rf= rf.predict_proba(test_X)[:, 1]\n",
        "fpr_rf, tpr_rf, _ = roc_curve(test_Y, pred_rf)\n",
        "\n",
        "# \u5c07\u96a8\u6a5f\u68ee\u6797 + \u8449\u7de8\u78bc + \u908f\u8f2f\u65af\u8ff4\u6b78\u7d50\u679c\u8f38\u51fa\n",
        "\"\"\"\n",
        "Your Code Here \n",
        "\"\"\"\n",
        "pred_rf_logreg = logreg.predict_proba(onehot.transform(rf.apply(test_X)))[:, 1]\n",
        "fpr_rf_logreg, tpr_rf_logreg, _ = roc_curve(test_Y, pred_rf_logreg)"
      ]
    },
    {
      "cell_type": "markdown",
      "metadata": {},
      "source": [
        "# \u4f5c\u696d2\n",
        "* \u4e0a\u8ff0\u7684\u7d50\u679c\uff0c\u8449\u7de8\u78bc\u662f\u5426\u6709\u63d0\u9ad8\u9810\u6e2c\u7684\u6b63\u78ba\u6027\u5462?\n",
        "\n",
        "\u7b54\uff1a\u6574\u9ad4\u4e0a\u662f\u6709\u63d0\u9ad8\u7684\uff0c\u4f46\u6709\u6a5f\u7387\u4f7f\u5f97\u9810\u6e2c\u6027\u53cd\u800c\u5dee\u4e00\u9ede\u9ede\u3002"
      ]
    },
    {
      "cell_type": "code",
      "execution_count": 6,
      "metadata": {},
      "outputs": [
        {
          "data": {
            "image/png": "[encoded data removed]",
            "text/plain": [
              "<Figure size 576x396 with 1 Axes>"
            ]
          },
          "metadata": {},
          "output_type": "display_data"
        }
      ],
      "source": [
        "# \u5c07\u7d50\u679c\u7e6a\u5716\n",
        "import matplotlib.pyplot as plt\n",
        "plt.style.use('seaborn')\n",
        "\"\"\"\n",
        "Your Code Here \n",
        "\"\"\"\n",
        "plt.plot([0, 1], [0, 1], 'k--')\n",
        "plt.plot(fpr_rf, tpr_rf, label='RF')\n",
        "plt.plot(fpr_rf_logreg, tpr_rf_logreg, label='RF + LR')\n",
        "plt.xlabel('False positive rate')\n",
        "plt.ylabel('True positive rate')\n",
        "plt.title('ROC curve')\n",
        "plt.legend(loc='best')\n",
        "plt.show()"
      ]
    },
    {
      "cell_type": "code",
      "execution_count": null,
      "metadata": {
        "collapsed": true
      },
      "outputs": [],
      "source": []
    }
  ],
  "metadata": {
    "kernelspec": {
      "display_name": "Python 3",
      "language": "python",
      "name": "python3"
    },
    "language_info": {
      "codemirror_mode": {
        "name": "ipython",
        "version": 3
      },
      "file_extension": ".py",
      "mimetype": "text/x-python",
      "name": "python",
      "nbconvert_exporter": "python",
      "pygments_lexer": "ipython3",
      "version": "3.7.3"
    }
  },
  "nbformat": 4,
  "nbformat_minor": 2
}