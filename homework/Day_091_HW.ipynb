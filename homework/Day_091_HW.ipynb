{
  "cells": [
    {
      "cell_type": "markdown",
      "metadata": {},
      "source": [
        "## \u4f5c\u696d\n",
        "\n",
        "\u5617\u8a66\u6bd4\u8f03\u7528 Color Histogram \u548c Color HOG \u7279\u5fb5\u4f86\u8a13\u7df4\u7684 SVM \u5206\u985e\u5668\u5728 cifar10 \u8a13\u7df4\u96c6\u548c\u9a57\u8b49\u96c6\u4e0a\u6e96\u78ba\u5ea6\u7684\u5dee\u5225\u3002"
      ]
    },
    {
      "cell_type": "markdown",
      "metadata": {},
      "source": [
        "## \u53c3\u8003\u8cc7\u6599\n",
        "\n",
        "[\u652f\u6301\u5411\u91cf\u673a(SVM)\u662f\u4ec0\u4e48\u610f\u601d\uff1f](https://www.zhihu.com/question/21094489)\n",
        "\n",
        "[SVM \u7684\u4e24\u4e2a\u53c2\u6570 C \u548c gamma](https://blog.csdn.net/lujiandong1/article/details/46386201)\n",
        "\n",
        "[\u5b66\u4e60 OpenCV - HoG \u7279\u5f81\u8be6\u89e3\uff08\u7279\u5f81\u70b9\u7bc7\uff09](https://blog.csdn.net/yangtrees/article/details/7463431)\n",
        "\n",
        "[\u7b2c\u5341\u516b\u8282\u3001\u57fa\u4e8e\u4f20\u7edf\u56fe\u50cf\u5904\u7406\u7684\u76ee\u6807\u68c0\u6d4b\u4e0e\u8bc6\u522b(HOG + SVM \u9644\u4ee3\u7801)](https://www.cnblogs.com/zyly/p/9651261.html)\n",
        "\n",
        "[\u7d22\u4f2f\u7b97\u5b50\uff08Sobel operator\uff09](https://zh.wikipedia.org/wiki/%E7%B4%A2%E8%B2%9D%E7%88%BE%E7%AE%97%E5%AD%90)"
      ]
    },
    {
      "cell_type": "code",
      "execution_count": 1,
      "metadata": {},
      "outputs": [
        {
          "name": "stderr",
          "output_type": "stream",
          "text": [
            "Using TensorFlow backend.\n"
          ]
        }
      ],
      "source": [
        "import cv2\n",
        "import numpy as np\n",
        "import matplotlib.pyplot as plt\n",
        "from keras.datasets import cifar10\n",
        "from sklearn.metrics import accuracy_score"
      ]
    },
    {
      "cell_type": "markdown",
      "metadata": {},
      "source": [
        "## \u6e96\u5099\u8cc7\u6599"
      ]
    },
    {
      "cell_type": "code",
      "execution_count": 2,
      "metadata": {},
      "outputs": [],
      "source": [
        "(X_train, y_train), (X_test, y_test) = cifar10.load_data()"
      ]
    },
    {
      "cell_type": "code",
      "execution_count": 3,
      "metadata": {},
      "outputs": [],
      "source": [
        "def normalize_cifar10_data(x, y):\n",
        "    y = y.astype('int')\n",
        "    return x, y\n",
        "\n",
        "def normalize_result(x, y):\n",
        "    print('x.shape:', x.shape)\n",
        "    print('y.shape:', y.shape)"
      ]
    },
    {
      "cell_type": "code",
      "execution_count": 4,
      "metadata": {},
      "outputs": [
        {
          "name": "stdout",
          "output_type": "stream",
          "text": [
            "Before normalization:\n",
            "x.shape: (50000, 32, 32, 3)\n",
            "y.shape: (50000, 1)\n"
          ]
        }
      ],
      "source": [
        "print('Before normalization:')\n",
        "normalize_result(X_train, y_train)"
      ]
    },
    {
      "cell_type": "code",
      "execution_count": 5,
      "metadata": {},
      "outputs": [
        {
          "name": "stdout",
          "output_type": "stream",
          "text": [
            "After normalization:\n",
            "x.shape: (50000, 32, 32, 3)\n",
            "y.shape: (50000, 1)\n"
          ]
        }
      ],
      "source": [
        "print('After normalization:')\n",
        "X_train, y_train = normalize_cifar10_data(X_train, y_train)\n",
        "X_test, y_test = normalize_cifar10_data(X_test, y_test)\n",
        "normalize_result(X_train, y_train)"
      ]
    },
    {
      "cell_type": "markdown",
      "metadata": {},
      "source": [
        "## \u5b9a\u7fa9\u51fd\u6578"
      ]
    },
    {
      "cell_type": "code",
      "execution_count": 6,
      "metadata": {},
      "outputs": [],
      "source": [
        "N_BLK = 2\n",
        "N_BIN = 16\n",
        "\n",
        "def make_hog_data(x):\n",
        "    x_hogs = np.array([])\n",
        "    block = lambda mtx, m, n, by: np.array([np.hsplit(vt, by) for vt in np.vsplit(mtx, by)]).reshape(by ** 2, m // by, n // by)\n",
        "    for x_img in x:\n",
        "        img = cv2.cvtColor(x_img, cv2.COLOR_RGB2GRAY)\n",
        "        gd1, gd2 = cv2.Sobel(img, cv2.CV_32F, 1, 0), cv2.Sobel(img, cv2.CV_32F, 0, 1)\n",
        "        mag, ang = cv2.cartToPolar(gd1, gd2)\n",
        "        mag, ang = mag, np.int32(N_BIN * ang / 2 / np.pi)\n",
        "        blk, wgt = block(ang, *ang.shape, N_BLK), block(mag, *mag.shape, N_BLK)\n",
        "        hogs = np.array([np.bincount(b.ravel(), w.ravel(), N_BIN) for b, w in zip(blk, wgt)]).reshape(1, -1)\n",
        "        x_hogs = np.vstack((x_hogs, hogs,)) if x_hogs.size else hogs\n",
        "    return np.float32(x_hogs)\n",
        "\n",
        "def make_hist_data(x):\n",
        "    x_hists = np.array([])\n",
        "    for x_img in x:\n",
        "        chans = cv2.split(x_img)\n",
        "        hists = np.array([cv2.calcHist([chan], [0], None, [N_BIN], [0, 256]) for chan in chans]).flatten()\n",
        "        x_hists = np.vstack((x_hists, hists,)) if x_hists.size else hists\n",
        "    return np.float32(x_hists)\n",
        "\n",
        "def build_svm():\n",
        "    svm = cv2.ml.SVM_create()\n",
        "    svm.setKernel(cv2.ml.SVM_LINEAR)\n",
        "    svm.setType(cv2.ml.SVM_C_SVC)\n",
        "    svm.setC(2.67)\n",
        "    svm.setGamma(5.383)\n",
        "    return svm\n",
        "\n",
        "def train_data(svm, x, y):\n",
        "    svm.train(x, cv2.ml.ROW_SAMPLE, y)\n",
        "    return svm\n",
        "\n",
        "def evaluate_data(svm, x, y):\n",
        "    return accuracy_score(y, svm.predict(x)[1].astype('int'))"
      ]
    },
    {
      "cell_type": "markdown",
      "metadata": {},
      "source": [
        "## \u7528 histogram \u7279\u5fb5\u8a13\u7df4 SVM \u6a21\u578b"
      ]
    },
    {
      "cell_type": "code",
      "execution_count": 7,
      "metadata": {},
      "outputs": [
        {
          "data": {
            "text/plain": [
              "array([[  1.,   4.,   9., ...,   9.,   5.,   0.],\n",
              "       [ 13.,  22.,  54., ...,  42.,  57.,  35.],\n",
              "       [  0.,  24.,  87., ...,  15.,  12., 273.],\n",
              "       ...,\n",
              "       [ 72., 146., 186., ...,  40.,  67., 168.],\n",
              "       [ 17.,  11.,  15., ..., 105., 152., 158.],\n",
              "       [  2.,  20.,  30., ...,  29.,  95.,  37.]], dtype=float32)"
            ]
          },
          "execution_count": 7,
          "metadata": {},
          "output_type": "execute_result"
        }
      ],
      "source": [
        "X_train_hists, X_test_hists = make_hist_data(X_train), make_hist_data(X_test)\n",
        "X_train_hists"
      ]
    },
    {
      "cell_type": "code",
      "execution_count": 8,
      "metadata": {},
      "outputs": [
        {
          "data": {
            "text/plain": [
              "<ml_SVM 000001B2A679BC90>"
            ]
          },
          "execution_count": 8,
          "metadata": {},
          "output_type": "execute_result"
        }
      ],
      "source": [
        "svm = build_svm()\n",
        "svm = train_data(svm, X_train_hists, y_train)\n",
        "svm"
      ]
    },
    {
      "cell_type": "code",
      "execution_count": 9,
      "metadata": {},
      "outputs": [
        {
          "name": "stdout",
          "output_type": "stream",
          "text": [
            "Train accuracy: 0.14846\n",
            "Test accuracy: 0.1448\n"
          ]
        }
      ],
      "source": [
        "print('Train accuracy:', evaluate_data(svm, X_train_hists, y_train))\n",
        "print('Test accuracy:', evaluate_data(svm, X_test_hists, y_test))"
      ]
    },
    {
      "cell_type": "markdown",
      "metadata": {},
      "source": [
        "## \u7528 HOG \u7279\u5fb5\u8a13\u7df4 SVM \u6a21\u578b"
      ]
    },
    {
      "cell_type": "code",
      "execution_count": 10,
      "metadata": {},
      "outputs": [
        {
          "data": {
            "text/plain": [
              "array([[2635.8762  , 5540.079   , 2825.9854  , ..., 2130.2808  ,\n",
              "        3270.286   ,  732.6842  ],\n",
              "       [3161.2834  , 1962.0333  , 8758.989   , ..., 4804.9917  ,\n",
              "        2960.6658  , 3142.0178  ],\n",
              "       [ 108.26818 ,  125.94612 ,  756.45856 , ..., 1016.5663  ,\n",
              "         846.55817 , 1138.8684  ],\n",
              "       ...,\n",
              "       [ 840.3656  ,  553.963   , 1155.7039  , ..., 1733.1053  ,\n",
              "        1114.1395  ,  585.9903  ],\n",
              "       [ 158.14745 ,  222.85387 ,   25.495094, ..., 4541.2095  ,\n",
              "        1387.7686  , 2718.4321  ],\n",
              "       [ 808.257   , 1677.5273  , 1390.5697  , ..., 5229.7544  ,\n",
              "        4387.689   , 1623.7395  ]], dtype=float32)"
            ]
          },
          "execution_count": 10,
          "metadata": {},
          "output_type": "execute_result"
        }
      ],
      "source": [
        "X_train_hists, X_test_hists = make_hog_data(X_train), make_hog_data(X_test)\n",
        "X_train_hists"
      ]
    },
    {
      "cell_type": "code",
      "execution_count": 11,
      "metadata": {},
      "outputs": [
        {
          "data": {
            "text/plain": [
              "<ml_SVM 000001B2B8D53F30>"
            ]
          },
          "execution_count": 11,
          "metadata": {},
          "output_type": "execute_result"
        }
      ],
      "source": [
        "svm = build_svm()\n",
        "svm = train_data(svm, X_train_hists, y_train)\n",
        "svm"
      ]
    },
    {
      "cell_type": "code",
      "execution_count": 12,
      "metadata": {},
      "outputs": [
        {
          "name": "stdout",
          "output_type": "stream",
          "text": [
            "Train accuracy: 0.19588\n",
            "Test accuracy: 0.2052\n"
          ]
        }
      ],
      "source": [
        "print('Train accuracy:', evaluate_data(svm, X_train_hists, y_train))\n",
        "print('Test accuracy:', evaluate_data(svm, X_test_hists, y_test))"
      ]
    },
    {
      "cell_type": "code",
      "execution_count": null,
      "metadata": {},
      "outputs": [],
      "source": []
    }
  ],
  "metadata": {
    "kernelspec": {
      "display_name": "Python 3",
      "language": "python",
      "name": "python3"
    },
    "language_info": {
      "codemirror_mode": {
        "name": "ipython",
        "version": 3
      },
      "file_extension": ".py",
      "mimetype": "text/x-python",
      "name": "python",
      "nbconvert_exporter": "python",
      "pygments_lexer": "ipython3",
      "version": "3.7.3"
    }
  },
  "nbformat": 4,
  "nbformat_minor": 2
}