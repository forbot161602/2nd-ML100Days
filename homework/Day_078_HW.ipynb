{
  "cells": [
    {
      "cell_type": "markdown",
      "metadata": {},
      "source": [
        "## \u4f5c\u696d\n",
        "\n",
        "1. \u8acb\u5617\u8a66\u5c07\u8cc7\u6599\u524d\u8655\u7406\u65b9\u5f0f\u66ff\u63db\u6210\u4ee5 min/max \u8abf\u6574\u5f8c\u518d\u9032\u884c\u6a19\u6e96\u5316\u81f3 -1 ~ 1 \u9593\u3002\n",
        "2. \u8acb\u5617\u8a66\u5c07 MLP \u758a\u66f4\u6df1(e.g. 5 ~ 10 \u5c64)\uff0c\u9032\u884c\u8a13\u7df4\u5f8c\u89c0\u5bdf learning curve \u7684\u8d70\u52e2\u3002\n",
        "3. Optional: \u8acb\u6539\u7528 GPU \u9032\u884c\u8a13\u7df4(\u5982\u679c\u4f60\u6709 GPU \u7684\u8a71)\uff0c\u6bd4\u8f03\u4f7f\u7528 CPU \u8207 GPU \u7684\u8a13\u7df4\u901f\u5ea6\u3002"
      ]
    },
    {
      "cell_type": "markdown",
      "metadata": {},
      "source": [
        "## \u53c3\u8003\u8cc7\u6599\n",
        "\n",
        "\u5982\u4f55 Debugging\uff1a\n",
        "\n",
        "    \u6aa2\u67e5\u7a0b\u5f0f\u78bc\n",
        "    \u990a\u6210\u597d\u7684\u7a0b\u5f0f\u64b0\u5beb\u7fd2\u6163\n",
        "    \u6b32\u5be6\u4f5c\u7684\u6a21\u578b\u662f\u5426\u5408\u9069\u7576\u524d\u7684\u8cc7\u6599\n",
        "    \u78ba\u8a8d\u53c3\u6578\u8a2d\u5b9a\n",
        "    \u78ba\u8a8d\u8cc7\u6599\u7d50\u69cb\n",
        "    \u8cc7\u6599\u662f\u5426\u8db3\u5920\n",
        "    \u662f\u5426\u6709\u9069\u7576\u7684\u524d\u8655\u7406\n",
        "\n",
        "[PEP 8 - Style Guide for Python Code](https://www.python.org/dev/peps/pep-0008/)\n",
        "\n",
        "[Troubleshooting Deep Neural Networks](http://josh-tobin.com/assets/pdf/troubleshooting-deep-neural-networks-01-19.pdf)"
      ]
    },
    {
      "cell_type": "code",
      "execution_count": 1,
      "metadata": {},
      "outputs": [
        {
          "name": "stderr",
          "output_type": "stream",
          "text": [
            "Using TensorFlow backend.\n"
          ]
        }
      ],
      "source": [
        "import tensorflow as tf\n",
        "import matplotlib.pyplot as plt\n",
        "from sklearn.preprocessing import MinMaxScaler\n",
        "from keras.utils import np_utils\n",
        "from keras.datasets import cifar10\n",
        "from keras.models import Model\n",
        "from keras.layers import Input, Dense\n",
        "from keras.optimizers import Adam\n",
        "tf.logging.set_verbosity(tf.logging.ERROR)"
      ]
    },
    {
      "cell_type": "markdown",
      "metadata": {},
      "source": [
        "## \u6e96\u5099\u8cc7\u6599"
      ]
    },
    {
      "cell_type": "code",
      "execution_count": 2,
      "metadata": {},
      "outputs": [],
      "source": [
        "(X_train, y_train), (X_test, y_test) = cifar10.load_data()"
      ]
    },
    {
      "cell_type": "code",
      "execution_count": 3,
      "metadata": {},
      "outputs": [],
      "source": [
        "def normalize_cifar10_data(x, y):\n",
        "    x = x.reshape((len(x), -1)).astype('float32').T\n",
        "    x = MinMaxScaler().fit_transform(x).T * 2 - 1\n",
        "    y = np_utils.to_categorical(y, num_classes=10)\n",
        "    return x, y\n",
        "\n",
        "def normalize_result(x, y):\n",
        "    print('x.shape:', x.shape)\n",
        "    print('y.shape:', y.shape)"
      ]
    },
    {
      "cell_type": "code",
      "execution_count": 4,
      "metadata": {},
      "outputs": [
        {
          "name": "stdout",
          "output_type": "stream",
          "text": [
            "Before normalization:\n",
            "x.shape: (50000, 32, 32, 3)\n",
            "y.shape: (50000, 1)\n"
          ]
        }
      ],
      "source": [
        "print('Before normalization:')\n",
        "normalize_result(X_train, y_train)"
      ]
    },
    {
      "cell_type": "code",
      "execution_count": 5,
      "metadata": {},
      "outputs": [
        {
          "name": "stdout",
          "output_type": "stream",
          "text": [
            "After normalization:\n",
            "x.shape: (50000, 3072)\n",
            "y.shape: (50000, 10)\n"
          ]
        }
      ],
      "source": [
        "print('After normalization:')\n",
        "X_train, y_train = normalize_cifar10_data(X_train, y_train)\n",
        "X_test, y_test = normalize_cifar10_data(X_test, y_test)\n",
        "normalize_result(X_train, y_train)"
      ]
    },
    {
      "cell_type": "markdown",
      "metadata": {},
      "source": [
        "## \u5b9a\u7fa9\u51fd\u6578"
      ]
    },
    {
      "cell_type": "code",
      "execution_count": 6,
      "metadata": {},
      "outputs": [],
      "source": [
        "def show_train_history(train_history, train_hst_name, val_hst_name):\n",
        "    plt.plot(train_history.history[train_hst_name])\n",
        "    plt.plot(train_history.history[val_hst_name])\n",
        "    plt.xlabel('Epoch')\n",
        "    plt.ylabel(train_hst_name)\n",
        "    plt.title('Train History')\n",
        "    plt.legend(['train', 'validation'], loc='upper left')\n",
        "    plt.show()"
      ]
    },
    {
      "cell_type": "markdown",
      "metadata": {},
      "source": [
        "## \u5b9a\u7fa9\u6a21\u578b"
      ]
    },
    {
      "cell_type": "code",
      "execution_count": 7,
      "metadata": {},
      "outputs": [],
      "source": [
        "def build_model(x, input_shape, output_units, neuron_numbers=()):\n",
        "    main_input, hidden_layer = Input(shape=input_shape, name='main_input'), None\n",
        "    for i, neuron_number in enumerate(neuron_numbers):\n",
        "        dense_layer = Dense(units=neuron_number, activation='relu', name=f'hidden_layer{i}')\n",
        "        hidden_layer = dense_layer(hidden_layer) if hidden_layer is not None else dense_layer(main_input)\n",
        "    main_output = Dense(units=output_units, activation='softmax', name='main_output')(hidden_layer)\n",
        "    return Model(inputs=[main_input], outputs=[main_output])"
      ]
    },
    {
      "cell_type": "markdown",
      "metadata": {},
      "source": [
        "## \u6539\u8b8a\u524d\u8655\u7406\u65b9\u5f0f\u4e26\u89c0\u770b\u5b78\u7fd2\u66f2\u7dda\u7684\u8d70\u52e2"
      ]
    },
    {
      "cell_type": "code",
      "execution_count": 8,
      "metadata": {},
      "outputs": [],
      "source": [
        "## \u8a2d\u5b9a\u8d85\u53c3\u6578\n",
        "epochs = 100\n",
        "batch_size = 256\n",
        "learning_rate = 0.001\n",
        "\n",
        "## \u8a2d\u5b9a\u512a\u5316\u5668\n",
        "optimizer = Adam(lr=learning_rate)"
      ]
    },
    {
      "cell_type": "code",
      "execution_count": 9,
      "metadata": {},
      "outputs": [
        {
          "name": "stdout",
          "output_type": "stream",
          "text": [
            "_________________________________________________________________\n",
            "Layer (type)                 Output Shape              Param #   \n",
            "=================================================================\n",
            "main_input (InputLayer)      (None, 3072)              0         \n",
            "_________________________________________________________________\n",
            "hidden_layer0 (Dense)        (None, 512)               1573376   \n",
            "_________________________________________________________________\n",
            "hidden_layer1 (Dense)        (None, 256)               131328    \n",
            "_________________________________________________________________\n",
            "hidden_layer2 (Dense)        (None, 128)               32896     \n",
            "_________________________________________________________________\n",
            "main_output (Dense)          (None, 10)                1290      \n",
            "=================================================================\n",
            "Total params: 1,738,890\n",
            "Trainable params: 1,738,890\n",
            "Non-trainable params: 0\n",
            "_________________________________________________________________\n"
          ]
        }
      ],
      "source": [
        "model = build_model(X_train, (X_train.shape[-1],), 10, neuron_numbers=(512, 256, 128,))\n",
        "model.summary()"
      ]
    },
    {
      "cell_type": "code",
      "execution_count": 10,
      "metadata": {},
      "outputs": [],
      "source": [
        "model.compile(optimizer=optimizer, loss='categorical_crossentropy', metrics=['accuracy'])"
      ]
    },
    {
      "cell_type": "code",
      "execution_count": 11,
      "metadata": {},
      "outputs": [
        {
          "name": "stdout",
          "output_type": "stream",
          "text": [
            "Train on 50000 samples, validate on 10000 samples\n",
            "Epoch 1/100\n",
            " - 14s - loss: 1.6427 - acc: 0.4159 - val_loss: 1.5132 - val_acc: 0.4666\n",
            "Epoch 2/100\n",
            " - 13s - loss: 1.4207 - acc: 0.4969 - val_loss: 1.4542 - val_acc: 0.4883\n",
            "Epoch 3/100\n",
            " - 13s - loss: 1.2983 - acc: 0.5413 - val_loss: 1.3769 - val_acc: 0.5157\n",
            "Epoch 4/100\n",
            " - 13s - loss: 1.1988 - acc: 0.5793 - val_loss: 1.3698 - val_acc: 0.5216\n",
            "Epoch 5/100\n",
            " - 13s - loss: 1.1053 - acc: 0.6108 - val_loss: 1.3734 - val_acc: 0.5276\n",
            "Epoch 6/100\n",
            " - 13s - loss: 1.0263 - acc: 0.6385 - val_loss: 1.3904 - val_acc: 0.5250\n",
            "Epoch 7/100\n",
            " - 13s - loss: 0.9413 - acc: 0.6693 - val_loss: 1.3845 - val_acc: 0.5433\n",
            "Epoch 8/100\n",
            " - 13s - loss: 0.8636 - acc: 0.6944 - val_loss: 1.4311 - val_acc: 0.5368\n",
            "Epoch 9/100\n",
            " - 13s - loss: 0.7902 - acc: 0.7211 - val_loss: 1.4976 - val_acc: 0.5353\n",
            "Epoch 10/100\n",
            " - 13s - loss: 0.7074 - acc: 0.7513 - val_loss: 1.5215 - val_acc: 0.5391\n",
            "Epoch 11/100\n",
            " - 13s - loss: 0.6364 - acc: 0.7757 - val_loss: 1.5678 - val_acc: 0.5378\n",
            "Epoch 12/100\n",
            " - 13s - loss: 0.5726 - acc: 0.7999 - val_loss: 1.6973 - val_acc: 0.5279\n",
            "Epoch 13/100\n",
            " - 13s - loss: 0.5033 - acc: 0.8232 - val_loss: 1.7827 - val_acc: 0.5345\n",
            "Epoch 14/100\n",
            " - 13s - loss: 0.4463 - acc: 0.8437 - val_loss: 1.8508 - val_acc: 0.5367\n",
            "Epoch 15/100\n",
            " - 13s - loss: 0.4072 - acc: 0.8564 - val_loss: 1.9528 - val_acc: 0.5238\n",
            "Epoch 16/100\n",
            " - 13s - loss: 0.3576 - acc: 0.8738 - val_loss: 2.1222 - val_acc: 0.5310\n",
            "Epoch 17/100\n",
            " - 13s - loss: 0.3219 - acc: 0.8884 - val_loss: 2.2323 - val_acc: 0.5322\n",
            "Epoch 18/100\n",
            " - 13s - loss: 0.3034 - acc: 0.8932 - val_loss: 2.2555 - val_acc: 0.5343\n",
            "Epoch 19/100\n",
            " - 13s - loss: 0.2526 - acc: 0.9121 - val_loss: 2.3587 - val_acc: 0.5303\n",
            "Epoch 20/100\n",
            " - 13s - loss: 0.2519 - acc: 0.9126 - val_loss: 2.4482 - val_acc: 0.5290\n",
            "Epoch 21/100\n",
            " - 13s - loss: 0.2298 - acc: 0.9193 - val_loss: 2.5554 - val_acc: 0.5222\n",
            "Epoch 22/100\n",
            " - 13s - loss: 0.2101 - acc: 0.9269 - val_loss: 2.6863 - val_acc: 0.5192\n",
            "Epoch 23/100\n",
            " - 13s - loss: 0.1933 - acc: 0.9332 - val_loss: 2.7247 - val_acc: 0.5267\n",
            "Epoch 24/100\n",
            " - 13s - loss: 0.1808 - acc: 0.9384 - val_loss: 2.8264 - val_acc: 0.5266\n",
            "Epoch 25/100\n",
            " - 13s - loss: 0.1785 - acc: 0.9378 - val_loss: 2.9600 - val_acc: 0.5148\n",
            "Epoch 26/100\n",
            " - 13s - loss: 0.1589 - acc: 0.9447 - val_loss: 2.9343 - val_acc: 0.5237\n",
            "Epoch 27/100\n",
            " - 13s - loss: 0.1677 - acc: 0.9415 - val_loss: 2.8954 - val_acc: 0.5261\n",
            "Epoch 28/100\n",
            " - 13s - loss: 0.1559 - acc: 0.9461 - val_loss: 3.1650 - val_acc: 0.5248\n",
            "Epoch 29/100\n",
            " - 13s - loss: 0.1529 - acc: 0.9468 - val_loss: 3.1591 - val_acc: 0.5204\n",
            "Epoch 30/100\n",
            " - 13s - loss: 0.1568 - acc: 0.9459 - val_loss: 3.2184 - val_acc: 0.5181\n",
            "Epoch 31/100\n",
            " - 13s - loss: 0.1551 - acc: 0.9458 - val_loss: 3.1652 - val_acc: 0.5237\n",
            "Epoch 32/100\n",
            " - 13s - loss: 0.1670 - acc: 0.9427 - val_loss: 3.2223 - val_acc: 0.5287\n",
            "Epoch 33/100\n",
            " - 13s - loss: 0.1177 - acc: 0.9597 - val_loss: 3.3291 - val_acc: 0.5250\n",
            "Epoch 34/100\n",
            " - 13s - loss: 0.1092 - acc: 0.9631 - val_loss: 3.4595 - val_acc: 0.5239\n",
            "Epoch 35/100\n",
            " - 13s - loss: 0.1406 - acc: 0.9531 - val_loss: 3.4181 - val_acc: 0.5188\n",
            "Epoch 36/100\n",
            " - 13s - loss: 0.1101 - acc: 0.9629 - val_loss: 3.4714 - val_acc: 0.5252\n",
            "Epoch 37/100\n",
            " - 13s - loss: 0.1273 - acc: 0.9566 - val_loss: 3.5306 - val_acc: 0.5218\n",
            "Epoch 38/100\n",
            " - 13s - loss: 0.1351 - acc: 0.9541 - val_loss: 3.4927 - val_acc: 0.5279\n",
            "Epoch 39/100\n",
            " - 13s - loss: 0.1110 - acc: 0.9619 - val_loss: 3.5895 - val_acc: 0.5276\n",
            "Epoch 40/100\n",
            " - 13s - loss: 0.1089 - acc: 0.9632 - val_loss: 3.5627 - val_acc: 0.5267\n",
            "Epoch 41/100\n",
            " - 13s - loss: 0.1100 - acc: 0.9634 - val_loss: 3.6397 - val_acc: 0.5262\n",
            "Epoch 42/100\n",
            " - 13s - loss: 0.1380 - acc: 0.9542 - val_loss: 3.6845 - val_acc: 0.5200\n",
            "Epoch 43/100\n",
            " - 13s - loss: 0.1140 - acc: 0.9625 - val_loss: 3.6862 - val_acc: 0.5154\n",
            "Epoch 44/100\n",
            " - 13s - loss: 0.0956 - acc: 0.9681 - val_loss: 3.7132 - val_acc: 0.5253\n",
            "Epoch 45/100\n",
            " - 13s - loss: 0.1072 - acc: 0.9647 - val_loss: 3.6867 - val_acc: 0.5221\n",
            "Epoch 46/100\n",
            " - 13s - loss: 0.0834 - acc: 0.9715 - val_loss: 3.8075 - val_acc: 0.5181\n",
            "Epoch 47/100\n",
            " - 13s - loss: 0.0903 - acc: 0.9700 - val_loss: 3.7590 - val_acc: 0.5176\n",
            "Epoch 48/100\n",
            " - 13s - loss: 0.1284 - acc: 0.9584 - val_loss: 3.7769 - val_acc: 0.5175\n",
            "Epoch 49/100\n",
            " - 13s - loss: 0.1209 - acc: 0.9603 - val_loss: 3.7604 - val_acc: 0.5156\n",
            "Epoch 50/100\n",
            " - 13s - loss: 0.0933 - acc: 0.9683 - val_loss: 3.8232 - val_acc: 0.5210\n",
            "Epoch 51/100\n",
            " - 13s - loss: 0.0894 - acc: 0.9709 - val_loss: 3.8280 - val_acc: 0.5177\n",
            "Epoch 52/100\n",
            " - 13s - loss: 0.1015 - acc: 0.9665 - val_loss: 3.8463 - val_acc: 0.5281\n",
            "Epoch 53/100\n",
            " - 13s - loss: 0.1015 - acc: 0.9673 - val_loss: 3.9126 - val_acc: 0.5165\n",
            "Epoch 54/100\n",
            " - 13s - loss: 0.0844 - acc: 0.9727 - val_loss: 3.9203 - val_acc: 0.5256\n",
            "Epoch 55/100\n",
            " - 13s - loss: 0.0798 - acc: 0.9734 - val_loss: 3.8901 - val_acc: 0.5243\n",
            "Epoch 56/100\n",
            " - 13s - loss: 0.0722 - acc: 0.9766 - val_loss: 3.9710 - val_acc: 0.5259\n",
            "Epoch 57/100\n",
            " - 13s - loss: 0.1078 - acc: 0.9663 - val_loss: 3.9231 - val_acc: 0.5347\n",
            "Epoch 58/100\n",
            " - 13s - loss: 0.0934 - acc: 0.9694 - val_loss: 3.9984 - val_acc: 0.5265\n",
            "Epoch 59/100\n",
            " - 13s - loss: 0.0944 - acc: 0.9704 - val_loss: 3.9636 - val_acc: 0.5212\n",
            "Epoch 60/100\n",
            " - 13s - loss: 0.0799 - acc: 0.9741 - val_loss: 4.0495 - val_acc: 0.5272\n",
            "Epoch 61/100\n",
            " - 13s - loss: 0.0930 - acc: 0.9699 - val_loss: 4.0162 - val_acc: 0.5252\n",
            "Epoch 62/100\n",
            " - 13s - loss: 0.1014 - acc: 0.9681 - val_loss: 3.9531 - val_acc: 0.5207\n",
            "Epoch 63/100\n",
            " - 13s - loss: 0.0599 - acc: 0.9799 - val_loss: 4.1132 - val_acc: 0.5283\n",
            "Epoch 64/100\n",
            " - 13s - loss: 0.0806 - acc: 0.9749 - val_loss: 4.1370 - val_acc: 0.5264\n",
            "Epoch 65/100\n",
            " - 13s - loss: 0.0822 - acc: 0.9740 - val_loss: 4.1412 - val_acc: 0.5244\n",
            "Epoch 66/100\n",
            " - 13s - loss: 0.0928 - acc: 0.9711 - val_loss: 4.1297 - val_acc: 0.5218\n",
            "Epoch 67/100\n",
            " - 13s - loss: 0.0841 - acc: 0.9728 - val_loss: 4.1014 - val_acc: 0.5178\n",
            "Epoch 68/100\n",
            " - 13s - loss: 0.0838 - acc: 0.9728 - val_loss: 4.1021 - val_acc: 0.5290\n",
            "Epoch 69/100\n",
            " - 13s - loss: 0.0933 - acc: 0.9698 - val_loss: 4.1469 - val_acc: 0.5282\n",
            "Epoch 70/100\n",
            " - 13s - loss: 0.0774 - acc: 0.9754 - val_loss: 4.1256 - val_acc: 0.5191\n",
            "Epoch 71/100\n",
            " - 13s - loss: 0.0877 - acc: 0.9730 - val_loss: 4.2467 - val_acc: 0.5220\n",
            "Epoch 72/100\n",
            " - 13s - loss: 0.0800 - acc: 0.9743 - val_loss: 4.0898 - val_acc: 0.5268\n",
            "Epoch 73/100\n",
            " - 13s - loss: 0.0767 - acc: 0.9761 - val_loss: 4.1489 - val_acc: 0.5252\n",
            "Epoch 74/100\n",
            " - 13s - loss: 0.0528 - acc: 0.9828 - val_loss: 4.1525 - val_acc: 0.5275\n",
            "Epoch 75/100\n",
            " - 13s - loss: 0.0716 - acc: 0.9771 - val_loss: 4.2337 - val_acc: 0.5236\n",
            "Epoch 76/100\n",
            " - 13s - loss: 0.0866 - acc: 0.9736 - val_loss: 4.1850 - val_acc: 0.5246\n",
            "Epoch 77/100\n",
            " - 13s - loss: 0.0880 - acc: 0.9732 - val_loss: 4.2007 - val_acc: 0.5256\n",
            "Epoch 78/100\n",
            " - 13s - loss: 0.0545 - acc: 0.9821 - val_loss: 4.2888 - val_acc: 0.5224\n",
            "Epoch 79/100\n",
            " - 13s - loss: 0.0614 - acc: 0.9807 - val_loss: 4.3450 - val_acc: 0.5277\n",
            "Epoch 80/100\n",
            " - 13s - loss: 0.0808 - acc: 0.9748 - val_loss: 4.2914 - val_acc: 0.5189\n",
            "Epoch 81/100\n",
            " - 13s - loss: 0.0780 - acc: 0.9751 - val_loss: 4.2147 - val_acc: 0.5320\n",
            "Epoch 82/100\n",
            " - 13s - loss: 0.0753 - acc: 0.9768 - val_loss: 4.3525 - val_acc: 0.5227\n",
            "Epoch 83/100\n",
            " - 13s - loss: 0.0647 - acc: 0.9797 - val_loss: 4.2746 - val_acc: 0.5338\n",
            "Epoch 84/100\n",
            " - 13s - loss: 0.0532 - acc: 0.9830 - val_loss: 4.3691 - val_acc: 0.5264\n",
            "Epoch 85/100\n",
            " - 13s - loss: 0.0745 - acc: 0.9774 - val_loss: 4.3307 - val_acc: 0.5286\n",
            "Epoch 86/100\n",
            " - 13s - loss: 0.0979 - acc: 0.9692 - val_loss: 4.2899 - val_acc: 0.5243\n",
            "Epoch 87/100\n",
            " - 13s - loss: 0.0862 - acc: 0.9742 - val_loss: 4.3804 - val_acc: 0.5242\n",
            "Epoch 88/100\n",
            " - 13s - loss: 0.0543 - acc: 0.9823 - val_loss: 4.3017 - val_acc: 0.5356\n",
            "Epoch 89/100\n",
            " - 13s - loss: 0.0499 - acc: 0.9845 - val_loss: 4.4846 - val_acc: 0.5242\n",
            "Epoch 90/100\n",
            " - 13s - loss: 0.0680 - acc: 0.9791 - val_loss: 4.4333 - val_acc: 0.5165\n",
            "Epoch 91/100\n",
            " - 13s - loss: 0.0767 - acc: 0.9770 - val_loss: 4.3764 - val_acc: 0.5232\n",
            "Epoch 92/100\n",
            " - 13s - loss: 0.0668 - acc: 0.9798 - val_loss: 4.2830 - val_acc: 0.5287\n",
            "Epoch 93/100\n",
            " - 13s - loss: 0.0641 - acc: 0.9792 - val_loss: 4.4727 - val_acc: 0.5259\n",
            "Epoch 94/100\n",
            " - 13s - loss: 0.0678 - acc: 0.9785 - val_loss: 4.4058 - val_acc: 0.5298\n",
            "Epoch 95/100\n",
            " - 13s - loss: 0.0670 - acc: 0.9802 - val_loss: 4.4213 - val_acc: 0.5289\n"
          ]
        },
        {
          "name": "stdout",
          "output_type": "stream",
          "text": [
            "Epoch 96/100\n",
            " - 13s - loss: 0.0570 - acc: 0.9822 - val_loss: 4.3907 - val_acc: 0.5311\n",
            "Epoch 97/100\n",
            " - 13s - loss: 0.0570 - acc: 0.9824 - val_loss: 4.4935 - val_acc: 0.5281\n",
            "Epoch 98/100\n",
            " - 13s - loss: 0.0927 - acc: 0.9729 - val_loss: 4.4443 - val_acc: 0.5282\n",
            "Epoch 99/100\n",
            " - 13s - loss: 0.0746 - acc: 0.9768 - val_loss: 4.3681 - val_acc: 0.5252\n",
            "Epoch 100/100\n",
            " - 13s - loss: 0.0593 - acc: 0.9817 - val_loss: 4.3855 - val_acc: 0.5308\n"
          ]
        }
      ],
      "source": [
        "train_history = model.fit(X_train, y_train, epochs=epochs, batch_size=batch_size, validation_data=(X_test, y_test,),\n",
        "                          shuffle=True, verbose=2)"
      ]
    },
    {
      "cell_type": "code",
      "execution_count": 12,
      "metadata": {},
      "outputs": [
        {
          "data": {
            "image/png": "[encoded data removed]",
            "text/plain": [
              "<Figure size 432x288 with 1 Axes>"
            ]
          },
          "metadata": {
            "needs_background": "light"
          },
          "output_type": "display_data"
        }
      ],
      "source": [
        "show_train_history(train_history, 'acc', 'val_acc')"
      ]
    },
    {
      "cell_type": "code",
      "execution_count": 13,
      "metadata": {},
      "outputs": [
        {
          "data": {
            "image/png": "[encoded data removed]",
            "text/plain": [
              "<Figure size 432x288 with 1 Axes>"
            ]
          },
          "metadata": {
            "needs_background": "light"
          },
          "output_type": "display_data"
        }
      ],
      "source": [
        "show_train_history(train_history, 'loss', 'val_loss')"
      ]
    },
    {
      "cell_type": "markdown",
      "metadata": {},
      "source": [
        "## \u589e\u52a0\u66f4\u591a\u96b1\u85cf\u5c64\u4e26\u89c0\u770b\u5b78\u7fd2\u66f2\u7dda\u7684\u8d70\u52e2"
      ]
    },
    {
      "cell_type": "code",
      "execution_count": 14,
      "metadata": {},
      "outputs": [],
      "source": [
        "## \u8a2d\u5b9a\u8d85\u53c3\u6578\n",
        "epochs = 100\n",
        "batch_size = 256\n",
        "learning_rate = 0.001\n",
        "\n",
        "## \u8a2d\u5b9a\u512a\u5316\u5668\n",
        "optimizer = Adam(lr=learning_rate)"
      ]
    },
    {
      "cell_type": "code",
      "execution_count": 15,
      "metadata": {},
      "outputs": [
        {
          "name": "stdout",
          "output_type": "stream",
          "text": [
            "_________________________________________________________________\n",
            "Layer (type)                 Output Shape              Param #   \n",
            "=================================================================\n",
            "main_input (InputLayer)      (None, 3072)              0         \n",
            "_________________________________________________________________\n",
            "hidden_layer0 (Dense)        (None, 1024)              3146752   \n",
            "_________________________________________________________________\n",
            "hidden_layer1 (Dense)        (None, 512)               524800    \n",
            "_________________________________________________________________\n",
            "hidden_layer2 (Dense)        (None, 256)               131328    \n",
            "_________________________________________________________________\n",
            "hidden_layer3 (Dense)        (None, 128)               32896     \n",
            "_________________________________________________________________\n",
            "hidden_layer4 (Dense)        (None, 64)                8256      \n",
            "_________________________________________________________________\n",
            "hidden_layer5 (Dense)        (None, 32)                2080      \n",
            "_________________________________________________________________\n",
            "hidden_layer6 (Dense)        (None, 16)                528       \n",
            "_________________________________________________________________\n",
            "main_output (Dense)          (None, 10)                170       \n",
            "=================================================================\n",
            "Total params: 3,846,810\n",
            "Trainable params: 3,846,810\n",
            "Non-trainable params: 0\n",
            "_________________________________________________________________\n"
          ]
        }
      ],
      "source": [
        "model = build_model(X_train, (X_train.shape[-1],), 10, neuron_numbers=(1024, 512, 256, 128, 64, 32, 16,))\n",
        "model.summary()"
      ]
    },
    {
      "cell_type": "code",
      "execution_count": 16,
      "metadata": {},
      "outputs": [],
      "source": [
        "model.compile(optimizer=optimizer, loss='categorical_crossentropy', metrics=['accuracy'])"
      ]
    },
    {
      "cell_type": "code",
      "execution_count": 17,
      "metadata": {},
      "outputs": [
        {
          "name": "stdout",
          "output_type": "stream",
          "text": [
            "Train on 50000 samples, validate on 10000 samples\n",
            "Epoch 1/100\n",
            " - 29s - loss: 1.7909 - acc: 0.3626 - val_loss: 1.6298 - val_acc: 0.4204\n",
            "Epoch 2/100\n",
            " - 29s - loss: 1.5286 - acc: 0.4616 - val_loss: 1.4938 - val_acc: 0.4666\n",
            "Epoch 3/100\n",
            " - 29s - loss: 1.4010 - acc: 0.5077 - val_loss: 1.4287 - val_acc: 0.4964\n",
            "Epoch 4/100\n",
            " - 29s - loss: 1.2835 - acc: 0.5473 - val_loss: 1.4056 - val_acc: 0.5077\n",
            "Epoch 5/100\n",
            " - 29s - loss: 1.1878 - acc: 0.5831 - val_loss: 1.3552 - val_acc: 0.5306\n",
            "Epoch 6/100\n",
            " - 29s - loss: 1.0998 - acc: 0.6124 - val_loss: 1.3570 - val_acc: 0.5375\n",
            "Epoch 7/100\n",
            " - 29s - loss: 1.0071 - acc: 0.6447 - val_loss: 1.3789 - val_acc: 0.5414\n",
            "Epoch 8/100\n",
            " - 29s - loss: 0.9241 - acc: 0.6708 - val_loss: 1.3851 - val_acc: 0.5430\n",
            "Epoch 9/100\n",
            " - 29s - loss: 0.8439 - acc: 0.7030 - val_loss: 1.4320 - val_acc: 0.5470\n",
            "Epoch 10/100\n",
            " - 29s - loss: 0.7595 - acc: 0.7290 - val_loss: 1.5006 - val_acc: 0.5516\n",
            "Epoch 11/100\n",
            " - 29s - loss: 0.6829 - acc: 0.7591 - val_loss: 1.5605 - val_acc: 0.5353\n",
            "Epoch 12/100\n",
            " - 29s - loss: 0.6134 - acc: 0.7833 - val_loss: 1.6066 - val_acc: 0.5416\n",
            "Epoch 13/100\n",
            " - 29s - loss: 0.5484 - acc: 0.8046 - val_loss: 1.7158 - val_acc: 0.5399\n",
            "Epoch 14/100\n",
            " - 29s - loss: 0.4893 - acc: 0.8266 - val_loss: 1.8416 - val_acc: 0.5345\n",
            "Epoch 15/100\n",
            " - 29s - loss: 0.4334 - acc: 0.8457 - val_loss: 1.9408 - val_acc: 0.5499\n",
            "Epoch 16/100\n",
            " - 29s - loss: 0.4008 - acc: 0.8601 - val_loss: 2.0721 - val_acc: 0.5400\n",
            "Epoch 17/100\n",
            " - 29s - loss: 0.3706 - acc: 0.8705 - val_loss: 2.0734 - val_acc: 0.5389\n",
            "Epoch 18/100\n",
            " - 29s - loss: 0.3134 - acc: 0.8896 - val_loss: 2.2016 - val_acc: 0.5401\n",
            "Epoch 19/100\n",
            " - 29s - loss: 0.3024 - acc: 0.8941 - val_loss: 2.2627 - val_acc: 0.5420\n",
            "Epoch 20/100\n",
            " - 29s - loss: 0.2528 - acc: 0.9118 - val_loss: 2.4722 - val_acc: 0.5391\n",
            "Epoch 21/100\n",
            " - 29s - loss: 0.2561 - acc: 0.9107 - val_loss: 2.4667 - val_acc: 0.5428\n",
            "Epoch 22/100\n",
            " - 29s - loss: 0.2187 - acc: 0.9249 - val_loss: 2.5308 - val_acc: 0.5415\n",
            "Epoch 23/100\n",
            " - 29s - loss: 0.2225 - acc: 0.9243 - val_loss: 2.5969 - val_acc: 0.5416\n",
            "Epoch 24/100\n",
            " - 29s - loss: 0.1923 - acc: 0.9347 - val_loss: 2.6065 - val_acc: 0.5365\n",
            "Epoch 25/100\n",
            " - 29s - loss: 0.1867 - acc: 0.9377 - val_loss: 2.7623 - val_acc: 0.5460\n",
            "Epoch 26/100\n",
            " - 29s - loss: 0.1746 - acc: 0.9405 - val_loss: 2.6771 - val_acc: 0.5368\n",
            "Epoch 27/100\n",
            " - 29s - loss: 0.1626 - acc: 0.9448 - val_loss: 2.8300 - val_acc: 0.5308\n",
            "Epoch 28/100\n",
            " - 29s - loss: 0.1477 - acc: 0.9497 - val_loss: 2.9384 - val_acc: 0.5299\n",
            "Epoch 29/100\n",
            " - 29s - loss: 0.1493 - acc: 0.9492 - val_loss: 2.8691 - val_acc: 0.5358\n",
            "Epoch 30/100\n",
            " - 29s - loss: 0.1367 - acc: 0.9540 - val_loss: 2.9404 - val_acc: 0.5381\n",
            "Epoch 31/100\n",
            " - 29s - loss: 0.1436 - acc: 0.9533 - val_loss: 2.9539 - val_acc: 0.5440\n",
            "Epoch 32/100\n",
            " - 29s - loss: 0.1353 - acc: 0.9548 - val_loss: 3.0804 - val_acc: 0.5337\n",
            "Epoch 33/100\n",
            " - 29s - loss: 0.1382 - acc: 0.9551 - val_loss: 2.9277 - val_acc: 0.5411\n",
            "Epoch 34/100\n",
            " - 29s - loss: 0.1059 - acc: 0.9643 - val_loss: 3.2388 - val_acc: 0.5397\n",
            "Epoch 35/100\n",
            " - 29s - loss: 0.1285 - acc: 0.9574 - val_loss: 3.0803 - val_acc: 0.5392\n",
            "Epoch 36/100\n",
            " - 29s - loss: 0.1052 - acc: 0.9653 - val_loss: 3.1754 - val_acc: 0.5424\n",
            "Epoch 37/100\n",
            " - 29s - loss: 0.1171 - acc: 0.9605 - val_loss: 3.0961 - val_acc: 0.5446\n",
            "Epoch 38/100\n",
            " - 29s - loss: 0.1148 - acc: 0.9633 - val_loss: 3.0584 - val_acc: 0.5433\n",
            "Epoch 39/100\n",
            " - 29s - loss: 0.0944 - acc: 0.9694 - val_loss: 3.2035 - val_acc: 0.5375\n",
            "Epoch 40/100\n",
            " - 29s - loss: 0.1011 - acc: 0.9662 - val_loss: 3.3325 - val_acc: 0.5384\n",
            "Epoch 41/100\n",
            " - 29s - loss: 0.1028 - acc: 0.9668 - val_loss: 3.0977 - val_acc: 0.5374\n",
            "Epoch 42/100\n",
            " - 29s - loss: 0.0975 - acc: 0.9681 - val_loss: 3.1680 - val_acc: 0.5390\n",
            "Epoch 43/100\n",
            " - 29s - loss: 0.0897 - acc: 0.9702 - val_loss: 3.2977 - val_acc: 0.5341\n",
            "Epoch 44/100\n",
            " - 29s - loss: 0.1018 - acc: 0.9671 - val_loss: 3.1855 - val_acc: 0.5361\n",
            "Epoch 45/100\n",
            " - 29s - loss: 0.0869 - acc: 0.9712 - val_loss: 3.3323 - val_acc: 0.5391\n",
            "Epoch 46/100\n",
            " - 29s - loss: 0.0913 - acc: 0.9709 - val_loss: 3.2053 - val_acc: 0.5323\n",
            "Epoch 47/100\n",
            " - 29s - loss: 0.0889 - acc: 0.9709 - val_loss: 3.3871 - val_acc: 0.5363\n",
            "Epoch 48/100\n",
            " - 29s - loss: 0.0842 - acc: 0.9729 - val_loss: 3.3440 - val_acc: 0.5371\n",
            "Epoch 49/100\n",
            " - 29s - loss: 0.0885 - acc: 0.9704 - val_loss: 3.2747 - val_acc: 0.5418\n",
            "Epoch 50/100\n",
            " - 29s - loss: 0.0757 - acc: 0.9750 - val_loss: 3.3906 - val_acc: 0.5322\n",
            "Epoch 51/100\n",
            " - 29s - loss: 0.0778 - acc: 0.9752 - val_loss: 3.3075 - val_acc: 0.5367\n",
            "Epoch 52/100\n",
            " - 29s - loss: 0.0792 - acc: 0.9752 - val_loss: 3.2792 - val_acc: 0.5353\n",
            "Epoch 53/100\n",
            " - 29s - loss: 0.0721 - acc: 0.9765 - val_loss: 3.3473 - val_acc: 0.5455\n",
            "Epoch 54/100\n",
            " - 29s - loss: 0.0905 - acc: 0.9701 - val_loss: 3.2220 - val_acc: 0.5356\n",
            "Epoch 55/100\n",
            " - 29s - loss: 0.0770 - acc: 0.9752 - val_loss: 3.3513 - val_acc: 0.5466\n",
            "Epoch 56/100\n",
            " - 29s - loss: 0.0723 - acc: 0.9765 - val_loss: 3.4249 - val_acc: 0.5415\n",
            "Epoch 57/100\n",
            " - 29s - loss: 0.0632 - acc: 0.9801 - val_loss: 3.3554 - val_acc: 0.5402\n",
            "Epoch 58/100\n",
            " - 29s - loss: 0.0755 - acc: 0.9764 - val_loss: 3.3625 - val_acc: 0.5292\n",
            "Epoch 59/100\n",
            " - 29s - loss: 0.0626 - acc: 0.9794 - val_loss: 3.3813 - val_acc: 0.5383\n",
            "Epoch 60/100\n",
            " - 29s - loss: 0.0754 - acc: 0.9757 - val_loss: 3.3541 - val_acc: 0.5396\n",
            "Epoch 61/100\n",
            " - 29s - loss: 0.0702 - acc: 0.9776 - val_loss: 3.3562 - val_acc: 0.5460\n",
            "Epoch 62/100\n",
            " - 29s - loss: 0.0621 - acc: 0.9794 - val_loss: 3.3393 - val_acc: 0.5328\n",
            "Epoch 63/100\n",
            " - 29s - loss: 0.0662 - acc: 0.9797 - val_loss: 3.3680 - val_acc: 0.5306\n",
            "Epoch 64/100\n",
            " - 29s - loss: 0.0605 - acc: 0.9811 - val_loss: 3.3773 - val_acc: 0.5384\n",
            "Epoch 65/100\n",
            " - 29s - loss: 0.0674 - acc: 0.9785 - val_loss: 3.2408 - val_acc: 0.5439\n",
            "Epoch 66/100\n",
            " - 29s - loss: 0.0677 - acc: 0.9789 - val_loss: 3.3059 - val_acc: 0.5422\n",
            "Epoch 67/100\n",
            " - 29s - loss: 0.0539 - acc: 0.9824 - val_loss: 3.4280 - val_acc: 0.5372\n",
            "Epoch 68/100\n",
            " - 29s - loss: 0.0664 - acc: 0.9791 - val_loss: 3.1978 - val_acc: 0.5439\n",
            "Epoch 69/100\n",
            " - 29s - loss: 0.0607 - acc: 0.9816 - val_loss: 3.3431 - val_acc: 0.5397\n",
            "Epoch 70/100\n",
            " - 29s - loss: 0.0677 - acc: 0.9780 - val_loss: 3.2814 - val_acc: 0.5415\n",
            "Epoch 71/100\n",
            " - 29s - loss: 0.0566 - acc: 0.9824 - val_loss: 3.1967 - val_acc: 0.5427\n",
            "Epoch 72/100\n",
            " - 29s - loss: 0.0502 - acc: 0.9842 - val_loss: 3.4463 - val_acc: 0.5452\n",
            "Epoch 73/100\n",
            " - 29s - loss: 0.0669 - acc: 0.9792 - val_loss: 3.2546 - val_acc: 0.5363\n",
            "Epoch 74/100\n",
            " - 29s - loss: 0.0492 - acc: 0.9849 - val_loss: 3.4905 - val_acc: 0.5486\n",
            "Epoch 75/100\n",
            " - 29s - loss: 0.0595 - acc: 0.9816 - val_loss: 3.3743 - val_acc: 0.5432\n",
            "Epoch 76/100\n",
            " - 29s - loss: 0.0549 - acc: 0.9830 - val_loss: 3.3121 - val_acc: 0.5450\n",
            "Epoch 77/100\n",
            " - 29s - loss: 0.0542 - acc: 0.9839 - val_loss: 3.4156 - val_acc: 0.5395\n",
            "Epoch 78/100\n",
            " - 29s - loss: 0.0538 - acc: 0.9839 - val_loss: 3.4433 - val_acc: 0.5415\n",
            "Epoch 79/100\n",
            " - 29s - loss: 0.0620 - acc: 0.9805 - val_loss: 3.2210 - val_acc: 0.5407\n",
            "Epoch 80/100\n",
            " - 29s - loss: 0.0668 - acc: 0.9794 - val_loss: 3.3704 - val_acc: 0.5397\n",
            "Epoch 81/100\n",
            " - 29s - loss: 0.0512 - acc: 0.9843 - val_loss: 3.3514 - val_acc: 0.5408\n",
            "Epoch 82/100\n",
            " - 29s - loss: 0.0474 - acc: 0.9848 - val_loss: 3.3897 - val_acc: 0.5492\n",
            "Epoch 83/100\n",
            " - 29s - loss: 0.0560 - acc: 0.9820 - val_loss: 3.4177 - val_acc: 0.5351\n",
            "Epoch 84/100\n",
            " - 29s - loss: 0.0574 - acc: 0.9820 - val_loss: 3.3291 - val_acc: 0.5402\n",
            "Epoch 85/100\n",
            " - 29s - loss: 0.0491 - acc: 0.9843 - val_loss: 3.4898 - val_acc: 0.5431\n",
            "Epoch 86/100\n",
            " - 29s - loss: 0.0515 - acc: 0.9847 - val_loss: 3.3901 - val_acc: 0.5464\n",
            "Epoch 87/100\n",
            " - 29s - loss: 0.0488 - acc: 0.9850 - val_loss: 3.3593 - val_acc: 0.5377\n",
            "Epoch 88/100\n",
            " - 29s - loss: 0.0506 - acc: 0.9841 - val_loss: 3.4007 - val_acc: 0.5449\n",
            "Epoch 89/100\n",
            " - 29s - loss: 0.0465 - acc: 0.9853 - val_loss: 3.4839 - val_acc: 0.5387\n",
            "Epoch 90/100\n",
            " - 29s - loss: 0.0556 - acc: 0.9832 - val_loss: 3.2307 - val_acc: 0.5379\n",
            "Epoch 91/100\n",
            " - 29s - loss: 0.0463 - acc: 0.9858 - val_loss: 3.3332 - val_acc: 0.5424\n",
            "Epoch 92/100\n",
            " - 29s - loss: 0.0417 - acc: 0.9869 - val_loss: 3.3315 - val_acc: 0.5419\n",
            "Epoch 93/100\n",
            " - 29s - loss: 0.0462 - acc: 0.9853 - val_loss: 3.4294 - val_acc: 0.5411\n",
            "Epoch 94/100\n",
            " - 29s - loss: 0.0420 - acc: 0.9872 - val_loss: 3.5545 - val_acc: 0.5414\n",
            "Epoch 95/100\n",
            " - 29s - loss: 0.0677 - acc: 0.9800 - val_loss: 3.1417 - val_acc: 0.5458\n"
          ]
        },
        {
          "name": "stdout",
          "output_type": "stream",
          "text": [
            "Epoch 96/100\n",
            " - 29s - loss: 0.0406 - acc: 0.9876 - val_loss: 3.3847 - val_acc: 0.5438\n",
            "Epoch 97/100\n",
            " - 29s - loss: 0.0380 - acc: 0.9884 - val_loss: 3.3999 - val_acc: 0.5434\n",
            "Epoch 98/100\n",
            " - 29s - loss: 0.0479 - acc: 0.9860 - val_loss: 3.2346 - val_acc: 0.5357\n",
            "Epoch 99/100\n",
            " - 29s - loss: 0.0428 - acc: 0.9872 - val_loss: 3.4743 - val_acc: 0.5441\n",
            "Epoch 100/100\n",
            " - 29s - loss: 0.0505 - acc: 0.9853 - val_loss: 3.4130 - val_acc: 0.5384\n"
          ]
        }
      ],
      "source": [
        "train_history = model.fit(X_train, y_train, epochs=epochs, batch_size=batch_size, validation_data=(X_test, y_test,),\n",
        "                          shuffle=True, verbose=2)"
      ]
    },
    {
      "cell_type": "code",
      "execution_count": 18,
      "metadata": {},
      "outputs": [
        {
          "data": {
            "image/png": "[encoded data removed]",
            "text/plain": [
              "<Figure size 432x288 with 1 Axes>"
            ]
          },
          "metadata": {
            "needs_background": "light"
          },
          "output_type": "display_data"
        }
      ],
      "source": [
        "show_train_history(train_history, 'acc', 'val_acc')"
      ]
    },
    {
      "cell_type": "code",
      "execution_count": 19,
      "metadata": {},
      "outputs": [
        {
          "data": {
            "image/png": "[encoded data removed]",
            "text/plain": [
              "<Figure size 432x288 with 1 Axes>"
            ]
          },
          "metadata": {
            "needs_background": "light"
          },
          "output_type": "display_data"
        }
      ],
      "source": [
        "show_train_history(train_history, 'loss', 'val_loss')"
      ]
    },
    {
      "cell_type": "code",
      "execution_count": null,
      "metadata": {},
      "outputs": [],
      "source": []
    }
  ],
  "metadata": {
    "kernelspec": {
      "display_name": "Python 3",
      "language": "python",
      "name": "python3"
    },
    "language_info": {
      "codemirror_mode": {
        "name": "ipython",
        "version": 3
      },
      "file_extension": ".py",
      "mimetype": "text/x-python",
      "name": "python",
      "nbconvert_exporter": "python",
      "pygments_lexer": "ipython3",
      "version": "3.7.3"
    }
  },
  "nbformat": 4,
  "nbformat_minor": 2
}