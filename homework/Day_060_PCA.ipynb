{
  "cells": [
    {
      "cell_type": "markdown",
      "metadata": {
        "collapsed": true
      },
      "source": [
        "# \u4f7f\u7528\u624b\u5beb\u8fa8\u8b58\u8cc7\u6599\u96c6, \u89c0\u5bdf PCA \u7b97\u6cd5"
      ]
    },
    {
      "cell_type": "markdown",
      "metadata": {},
      "source": [
        "# [\u6559\u5b78\u76ee\u6a19]\n",
        "- \u4ee5 PCA + \u908f\u8f2f\u65af\u8ff4\u6b78\u5224\u65b7\u624b\u5beb\u8fa8\u8b58\u8cc7\u6599\u96c6, \u89c0\u5bdf\u4e0d\u540c component \u4e0b\u6b63\u78ba\u7387\u7684\u8b8a\u5316\n",
        "- \u56e0\u70ba\u975e\u76e3\u7763\u6a21\u578b\u7684\u6548\u679c, \u8f03\u96e3\u4ee5\u7c21\u55ae\u7684\u7bc4\u4f8b\u770b\u51fa\u4f86  \n",
        "  \u6240\u4ee5\u975e\u76e3\u7763\u5076\u6578\u65e5\u63d0\u4f9b\u7684\u7bc4\u4f8b\u8207\u4f5c\u696d, \u4e3b\u8981\u76ee\u7684\u5728\u65bc\u89c0\u5bdf\u975e\u76e3\u7763\u6a21\u578b\u7684\u6548\u679c,  \n",
        "  \u540c\u5b78\u53ea\u8981\u80fd\u611f\u53d7\u5230\u6a21\u578b\u6548\u679c\u5373\u53ef, \u4e0d\u7528\u57f7\u8457\u65bc\u641e\u61c2\u7a0b\u5f0f\u7684\u6bcf\u4e00\u500b\u90e8\u5206"
      ]
    },
    {
      "cell_type": "markdown",
      "metadata": {},
      "source": [
        "# [\u7bc4\u4f8b\u91cd\u9ede]\n",
        "- \u4ee5\u624b\u5beb\u8fa8\u8b58\u8cc7\u6599\u96c6, \u89c0\u5bdf PCA \u7b97\u6cd5\u53d6\u4e0d\u540c component \u6642, PCA \u89e3\u91cb\u5ea6\u8207\u5206\u985e\u6b63\u78ba\u7387\u5982\u4f55\u8b8a\u5316 (In[5], Out[5])"
      ]
    },
    {
      "cell_type": "code",
      "execution_count": 1,
      "metadata": {},
      "outputs": [],
      "source": [
        "# \u8f09\u5165\u5957\u4ef6\n",
        "import warnings\n",
        "import numpy as np\n",
        "import pandas as pd\n",
        "import matplotlib.pyplot as plt\n",
        "\n",
        "from sklearn import datasets\n",
        "from sklearn.pipeline import Pipeline\n",
        "from sklearn.linear_model import SGDClassifier\n",
        "from sklearn.model_selection import GridSearchCV\n",
        "from sklearn.decomposition import PCA"
      ]
    },
    {
      "cell_type": "code",
      "execution_count": 2,
      "metadata": {},
      "outputs": [
        {
          "name": "stdout",
          "output_type": "stream",
          "text": [
            "X:\n",
            " [[ 0.  0.  5. 13.  9.  1.  0.  0.  0.  0. 13. 15. 10. 15.  5.  0.  0.  3.\n",
            "  15.  2.  0. 11.  8.  0.  0.  4. 12.  0.  0.  8.  8.  0.  0.  5.  8.  0.\n",
            "   0.  9.  8.  0.  0.  4. 11.  0.  1. 12.  7.  0.  0.  2. 14.  5. 10. 12.\n",
            "   0.  0.  0.  0.  6. 13. 10.  0.  0.  0.]\n",
            " [ 0.  0.  0. 12. 13.  5.  0.  0.  0.  0.  0. 11. 16.  9.  0.  0.  0.  0.\n",
            "   3. 15. 16.  6.  0.  0.  0.  7. 15. 16. 16.  2.  0.  0.  0.  0.  1. 16.\n",
            "  16.  3.  0.  0.  0.  0.  1. 16. 16.  6.  0.  0.  0.  0.  1. 16. 16.  6.\n",
            "   0.  0.  0.  0.  0. 11. 16. 10.  0.  0.]\n",
            " [ 0.  0.  0.  4. 15. 12.  0.  0.  0.  0.  3. 16. 15. 14.  0.  0.  0.  0.\n",
            "   8. 13.  8. 16.  0.  0.  0.  0.  1.  6. 15. 11.  0.  0.  0.  1.  8. 13.\n",
            "  15.  1.  0.  0.  0.  9. 16. 16.  5.  0.  0.  0.  0.  3. 13. 16. 16. 11.\n",
            "   5.  0.  0.  0.  0.  3. 11. 16.  9.  0.]]\n",
            "\n",
            "y:\n",
            " [0 1 2 3 4 5 6 7 8 9]\n",
            "\n",
            "unique y:\n",
            " [0 1 2 3 4 5 6 7 8 9]\n"
          ]
        }
      ],
      "source": [
        "# \u8f09\u5165\u624b\u5beb\u6578\u5b57\u8fa8\u8b58\u96c6\n",
        "digits = datasets.load_digits()\n",
        "X = digits.data\n",
        "y = digits.target\n",
        "print('X:\\n', X[:3])\n",
        "print()\n",
        "print('y:\\n', y[:10])\n",
        "print()\n",
        "print('unique y:\\n', np.unique(y))"
      ]
    },
    {
      "cell_type": "code",
      "execution_count": 3,
      "metadata": {},
      "outputs": [
        {
          "name": "stdout",
          "output_type": "stream",
          "text": [
            "Best parameter (CV score=0.915): {'logistic__alpha': 0.01, 'pca__n_components': 50}\n"
          ]
        }
      ],
      "source": [
        "# \u5b9a\u7fa9 PCA \u8207\u96a8\u5f8c\u7684\u908f\u8f2f\u65af\u8ff4\u6b78\u51fd\u6578\uff0c\u4e26\u57f7\u884c GridSearchCV \u8dd1\u51fa\u6700\u4f73\u53c3\u6578\n",
        "pca = PCA()\n",
        "pca.fit(X)\n",
        "pipe = Pipeline(steps=[\n",
        "    ('pca', PCA(),),\n",
        "    ('logistic', SGDClassifier(loss='log', penalty='l2', max_iter=30000, tol=1e-5, random_state=0),)\n",
        "])\n",
        "param_grid = {\n",
        "    'pca__n_components': [4, 10, 20, 30, 40, 50, 64],\n",
        "    'logistic__alpha': np.logspace(-4, 4, 5),\n",
        "}\n",
        "search = GridSearchCV(pipe, param_grid, cv=5, iid=False, return_train_score=False)\n",
        "search.fit(X, y)\n",
        "print('Best parameter (CV score={:.3f}): {}'.format(search.best_score_, search.best_params_))"
      ]
    },
    {
      "cell_type": "code",
      "execution_count": 4,
      "metadata": {},
      "outputs": [
        {
          "data": {
            "text/html": [
              "<div>\n",
              "<style scoped>\n",
              "    .dataframe tbody tr th:only-of-type {\n",
              "        vertical-align: middle;\n",
              "    }\n",
              "\n",
              "    .dataframe tbody tr th {\n",
              "        vertical-align: top;\n",
              "    }\n",
              "\n",
              "    .dataframe thead th {\n",
              "        text-align: right;\n",
              "    }\n",
              "</style>\n",
              "<table border=\"1\" class=\"dataframe\">\n",
              "  <thead>\n",
              "    <tr style=\"text-align: right;\">\n",
              "      <th></th>\n",
              "      <th>mean_fit_time</th>\n",
              "      <th>std_fit_time</th>\n",
              "      <th>mean_score_time</th>\n",
              "      <th>std_score_time</th>\n",
              "      <th>param_logistic__alpha</th>\n",
              "      <th>param_pca__n_components</th>\n",
              "      <th>params</th>\n",
              "      <th>split0_test_score</th>\n",
              "      <th>split1_test_score</th>\n",
              "      <th>split2_test_score</th>\n",
              "      <th>split3_test_score</th>\n",
              "      <th>split4_test_score</th>\n",
              "      <th>mean_test_score</th>\n",
              "      <th>std_test_score</th>\n",
              "      <th>rank_test_score</th>\n",
              "    </tr>\n",
              "  </thead>\n",
              "  <tbody>\n",
              "    <tr>\n",
              "      <th>0</th>\n",
              "      <td>0.141656</td>\n",
              "      <td>0.050577</td>\n",
              "      <td>0.001000</td>\n",
              "      <td>3.234067e-07</td>\n",
              "      <td>0.0001</td>\n",
              "      <td>4</td>\n",
              "      <td>{'logistic__alpha': 0.0001, 'pca__n_components...</td>\n",
              "      <td>0.766484</td>\n",
              "      <td>0.596685</td>\n",
              "      <td>0.651811</td>\n",
              "      <td>0.745098</td>\n",
              "      <td>0.667606</td>\n",
              "      <td>0.685537</td>\n",
              "      <td>0.062376</td>\n",
              "      <td>25</td>\n",
              "    </tr>\n",
              "    <tr>\n",
              "      <th>1</th>\n",
              "      <td>0.083580</td>\n",
              "      <td>0.023407</td>\n",
              "      <td>0.001000</td>\n",
              "      <td>1.144409e-06</td>\n",
              "      <td>0.0001</td>\n",
              "      <td>10</td>\n",
              "      <td>{'logistic__alpha': 0.0001, 'pca__n_components...</td>\n",
              "      <td>0.898352</td>\n",
              "      <td>0.853591</td>\n",
              "      <td>0.891365</td>\n",
              "      <td>0.910364</td>\n",
              "      <td>0.825352</td>\n",
              "      <td>0.875805</td>\n",
              "      <td>0.031571</td>\n",
              "      <td>17</td>\n",
              "    </tr>\n",
              "    <tr>\n",
              "      <th>2</th>\n",
              "      <td>0.082175</td>\n",
              "      <td>0.017160</td>\n",
              "      <td>0.000798</td>\n",
              "      <td>3.990312e-04</td>\n",
              "      <td>0.0001</td>\n",
              "      <td>20</td>\n",
              "      <td>{'logistic__alpha': 0.0001, 'pca__n_components...</td>\n",
              "      <td>0.914835</td>\n",
              "      <td>0.867403</td>\n",
              "      <td>0.913649</td>\n",
              "      <td>0.938375</td>\n",
              "      <td>0.884507</td>\n",
              "      <td>0.903754</td>\n",
              "      <td>0.024945</td>\n",
              "      <td>13</td>\n",
              "    </tr>\n",
              "    <tr>\n",
              "      <th>3</th>\n",
              "      <td>0.109967</td>\n",
              "      <td>0.020437</td>\n",
              "      <td>0.000801</td>\n",
              "      <td>4.002827e-04</td>\n",
              "      <td>0.0001</td>\n",
              "      <td>30</td>\n",
              "      <td>{'logistic__alpha': 0.0001, 'pca__n_components...</td>\n",
              "      <td>0.917582</td>\n",
              "      <td>0.856354</td>\n",
              "      <td>0.924791</td>\n",
              "      <td>0.957983</td>\n",
              "      <td>0.887324</td>\n",
              "      <td>0.908807</td>\n",
              "      <td>0.034536</td>\n",
              "      <td>12</td>\n",
              "    </tr>\n",
              "    <tr>\n",
              "      <th>4</th>\n",
              "      <td>0.102968</td>\n",
              "      <td>0.026846</td>\n",
              "      <td>0.000800</td>\n",
              "      <td>3.998997e-04</td>\n",
              "      <td>0.0001</td>\n",
              "      <td>40</td>\n",
              "      <td>{'logistic__alpha': 0.0001, 'pca__n_components...</td>\n",
              "      <td>0.914835</td>\n",
              "      <td>0.872928</td>\n",
              "      <td>0.930362</td>\n",
              "      <td>0.938375</td>\n",
              "      <td>0.890141</td>\n",
              "      <td>0.909328</td>\n",
              "      <td>0.024534</td>\n",
              "      <td>9</td>\n",
              "    </tr>\n",
              "  </tbody>\n",
              "</table>\n",
              "</div>"
            ],
            "text/plain": [
              "   mean_fit_time  std_fit_time  mean_score_time  std_score_time  \\\n",
              "0       0.141656      0.050577         0.001000    3.234067e-07   \n",
              "1       0.083580      0.023407         0.001000    1.144409e-06   \n",
              "2       0.082175      0.017160         0.000798    3.990312e-04   \n",
              "3       0.109967      0.020437         0.000801    4.002827e-04   \n",
              "4       0.102968      0.026846         0.000800    3.998997e-04   \n",
              "\n",
              "  param_logistic__alpha param_pca__n_components  \\\n",
              "0                0.0001                       4   \n",
              "1                0.0001                      10   \n",
              "2                0.0001                      20   \n",
              "3                0.0001                      30   \n",
              "4                0.0001                      40   \n",
              "\n",
              "                                              params  split0_test_score  \\\n",
              "0  {'logistic__alpha': 0.0001, 'pca__n_components...           0.766484   \n",
              "1  {'logistic__alpha': 0.0001, 'pca__n_components...           0.898352   \n",
              "2  {'logistic__alpha': 0.0001, 'pca__n_components...           0.914835   \n",
              "3  {'logistic__alpha': 0.0001, 'pca__n_components...           0.917582   \n",
              "4  {'logistic__alpha': 0.0001, 'pca__n_components...           0.914835   \n",
              "\n",
              "   split1_test_score  split2_test_score  split3_test_score  split4_test_score  \\\n",
              "0           0.596685           0.651811           0.745098           0.667606   \n",
              "1           0.853591           0.891365           0.910364           0.825352   \n",
              "2           0.867403           0.913649           0.938375           0.884507   \n",
              "3           0.856354           0.924791           0.957983           0.887324   \n",
              "4           0.872928           0.930362           0.938375           0.890141   \n",
              "\n",
              "   mean_test_score  std_test_score  rank_test_score  \n",
              "0         0.685537        0.062376               25  \n",
              "1         0.875805        0.031571               17  \n",
              "2         0.903754        0.024945               13  \n",
              "3         0.908807        0.034536               12  \n",
              "4         0.909328        0.024534                9  "
            ]
          },
          "execution_count": 4,
          "metadata": {},
          "output_type": "execute_result"
        }
      ],
      "source": [
        "search_results = pd.DataFrame(search.cv_results_)\n",
        "search_results.head()"
      ]
    },
    {
      "cell_type": "code",
      "execution_count": 5,
      "metadata": {},
      "outputs": [
        {
          "data": {
            "image/png": "[encoded data removed]",
            "text/plain": [
              "<Figure size 432x288 with 1 Axes>"
            ]
          },
          "metadata": {
            "needs_background": "light"
          },
          "output_type": "display_data"
        }
      ],
      "source": [
        "# \u7e6a\u88fd\u4e0d\u540c components \u7684 PCA \u89e3\u91cb\u5ea6\n",
        "plt.plot(pca.explained_variance_ratio_, linewidth=2)\n",
        "plt.axvline(search.best_estimator_.named_steps['pca'].n_components, linestyle=':', label='n_components chosen')\n",
        "plt.ylabel('PCA explained variance')\n",
        "plt.legend(prop=dict(size=12))\n",
        "plt.show()"
      ]
    },
    {
      "cell_type": "code",
      "execution_count": 6,
      "metadata": {},
      "outputs": [
        {
          "data": {
            "image/png": "[encoded data removed]",
            "text/plain": [
              "<Figure size 432x288 with 1 Axes>"
            ]
          },
          "metadata": {
            "needs_background": "light"
          },
          "output_type": "display_data"
        }
      ],
      "source": [
        "# \u7e6a\u88fd\u4e0d\u540c\u63a1\u6a23\u9ede\u7684\u5206\u985e\u9810\u6e2c\u6b63\u78ba\u7387\n",
        "best_clfs = search_results.groupby('param_pca__n_components').apply(lambda x: x.nlargest(1, 'mean_test_score'))\n",
        "best_clfs.plot(x='param_pca__n_components', y='mean_test_score', yerr='std_test_score', legend=False)\n",
        "plt.xlabel('n_components')\n",
        "plt.ylabel('classification accuracy (val)')\n",
        "plt.show()"
      ]
    },
    {
      "cell_type": "markdown",
      "metadata": {
        "collapsed": true
      },
      "source": [
        "# \u89c0\u5bdf\u7d50\u679c\n",
        "* PCA \u89e3\u91cb\u5ea6: \u89e3\u91cb\u8b8a\u7570\u6027\u96a8\u8457 components \u7a69\u5b9a\u4e0b\u964d\n",
        "* \u5206\u985e\u9810\u6e2c\u6e96\u78ba\u7387: \u4f3c\u4e4e\u4e5f\u96a8\u8457 components \u63d0\u5347, \u4f46\u662f\u5728 20 \u4ee5\u5f8c\u63d0\u5347\u4e0d\u591a"
      ]
    },
    {
      "cell_type": "code",
      "execution_count": null,
      "metadata": {
        "collapsed": true
      },
      "outputs": [],
      "source": []
    }
  ],
  "metadata": {
    "kernelspec": {
      "display_name": "Python 3",
      "language": "python",
      "name": "python3"
    },
    "language_info": {
      "codemirror_mode": {
        "name": "ipython",
        "version": 3
      },
      "file_extension": ".py",
      "mimetype": "text/x-python",
      "name": "python",
      "nbconvert_exporter": "python",
      "pygments_lexer": "ipython3",
      "version": "3.7.3"
    }
  },
  "nbformat": 4,
  "nbformat_minor": 1
}