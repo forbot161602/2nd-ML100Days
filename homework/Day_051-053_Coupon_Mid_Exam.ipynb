{
 "cells": [
  {
   "cell_type": "markdown",
   "metadata": {},
   "source": [
    "## 機器學習百日馬拉松期中練習測驗\n",
    "\n",
    "#### Overview\n",
    "\n",
    "隨著移動設備的完善和普及，零售與電子商務進入了高速發展階段，這其中以 O2O（Online to Offline）消費最為熱絡。據統計，O2O 行業估值上億的創業公司至少有 10 家，也不乏百億巨頭的身影。O2O 行業每日自然流量有數億消費者，各類 APP 每天記錄了超過百億條用戶行為和位置記錄，因而成為大數據科研和商業化運營的最佳結合點之一。\n",
    "\n",
    "以優惠券活化老用戶或吸引新客戶消費是 O2O 的一種重要營銷方式。然而，隨機投放的優惠券對多數用戶造成無意義的干擾。對商家而言，濫發的優惠券可能降低品牌聲譽，同時難以估算營銷成本。個性化投放是提高優惠券核銷率的重要技術，它可以讓具有一定偏好的消費者得到真正的實惠，同時賦予商家更強的營銷能力。本次練習數據擷取自電商之部分數據，希望各位通過分析建模，預測用戶是否會在規定時間內使用相應優惠券。\n",
    "\n",
    "#### Data\n",
    "\n",
    "本賽題提供用戶在2016年1月1日至2016年5月31日之間真實線下消費行為，預測用戶在2016年6月領取優惠券後15天以內的使用情況。\n",
    "\n",
    "#### Evaluation\n",
    "\n",
    "本賽題目標是預測投放的優惠券是否在規定時間內核銷。針對此任務及一些相關背景知識，以該用戶使用於某日取得之優惠券核銷預測 AUC（ROC 曲線下面積）作為評價標準。即對將 User_id - Date_received - Coupon_id 為一組計算核銷預測的AUC值，若某使用者於同一日取得多張相同優惠券，則任一張核銷皆為有效核銷。\n",
    "\n",
    "#### Reference\n",
    "\n",
    "[ml100marathon-02-01: Midterm exam for ML 100 marathon by Cupoy](https://www.kaggle.com/c/ml100marathon-02-01)\n",
    "\n",
    "[ml100marathon-02-01: Baseline example](https://www.kaggle.com/ml100marathon/baseline-example)"
   ]
  },
  {
   "cell_type": "markdown",
   "metadata": {},
   "source": [
    "## 準備工程"
   ]
  },
  {
   "cell_type": "code",
   "execution_count": 1,
   "metadata": {},
   "outputs": [],
   "source": [
    "import os\n",
    "import time\n",
    "import functools\n",
    "import numpy as np\n",
    "import pandas as pd\n",
    "from datetime import date\n",
    "\n",
    "from IPython.display import display\n",
    "from sklearn.pipeline import Pipeline\n",
    "from sklearn.ensemble import RandomForestClassifier, GradientBoostingClassifier\n",
    "from sklearn.linear_model import SGDClassifier\n",
    "from sklearn.preprocessing import StandardScaler, MinMaxScaler\n",
    "from sklearn.model_selection import train_test_split, cross_val_score, StratifiedKFold, GridSearchCV\n",
    "from sklearn.metrics import accuracy_score, roc_auc_score"
   ]
  },
  {
   "cell_type": "code",
   "execution_count": 2,
   "metadata": {},
   "outputs": [],
   "source": [
    "data_path = './data/part04/'\n",
    "\n",
    "X_train = pd.read_csv(data_path + 'coupon_train.csv')\n",
    "X_test = pd.read_csv(data_path + 'coupon_test.csv')"
   ]
  },
  {
   "cell_type": "markdown",
   "metadata": {},
   "source": [
    "### 1. 消去資料集欄位 Coupon_id 或 Date_received 為空缺值的列，這些列無法組成題目要求的 uid。"
   ]
  },
  {
   "cell_type": "code",
   "execution_count": 3,
   "metadata": {},
   "outputs": [],
   "source": [
    "X_train = X_train[~(X_train['Coupon_id'].isna() | X_train['Date_received'].isna())]\n",
    "X_test = X_test[~(X_test['Coupon_id'].isna() | X_test['Date_received'].isna())]"
   ]
  },
  {
   "cell_type": "markdown",
   "metadata": {},
   "source": [
    "### 2. 指定需要重複使用的參數。"
   ]
  },
  {
   "cell_type": "code",
   "execution_count": 4,
   "metadata": {},
   "outputs": [],
   "source": [
    "X_all = pd.concat([X_train, X_test], axis=0, sort=False).reset_index(drop=True)\n",
    "\n",
    "X_train_length = X_train.shape[0]"
   ]
  },
  {
   "cell_type": "code",
   "execution_count": 5,
   "metadata": {},
   "outputs": [
    {
     "name": "stdout",
     "output_type": "stream",
     "text": [
      "(746969, 7)\n"
     ]
    },
    {
     "data": {
      "text/html": [
       "<div>\n",
       "<style scoped>\n",
       "    .dataframe tbody tr th:only-of-type {\n",
       "        vertical-align: middle;\n",
       "    }\n",
       "\n",
       "    .dataframe tbody tr th {\n",
       "        vertical-align: top;\n",
       "    }\n",
       "\n",
       "    .dataframe thead th {\n",
       "        text-align: right;\n",
       "    }\n",
       "</style>\n",
       "<table border=\"1\" class=\"dataframe\">\n",
       "  <thead>\n",
       "    <tr style=\"text-align: right;\">\n",
       "      <th></th>\n",
       "      <th>User_id</th>\n",
       "      <th>Merchant_id</th>\n",
       "      <th>Coupon_id</th>\n",
       "      <th>Discount_rate</th>\n",
       "      <th>Distance</th>\n",
       "      <th>Date_received</th>\n",
       "      <th>Date</th>\n",
       "    </tr>\n",
       "  </thead>\n",
       "  <tbody>\n",
       "    <tr>\n",
       "      <th>1</th>\n",
       "      <td>1439408</td>\n",
       "      <td>2632</td>\n",
       "      <td>8591.0</td>\n",
       "      <td>20:1</td>\n",
       "      <td>0.0</td>\n",
       "      <td>20160217.0</td>\n",
       "      <td>NaN</td>\n",
       "    </tr>\n",
       "    <tr>\n",
       "      <th>2</th>\n",
       "      <td>1439408</td>\n",
       "      <td>2632</td>\n",
       "      <td>1078.0</td>\n",
       "      <td>20:1</td>\n",
       "      <td>0.0</td>\n",
       "      <td>20160319.0</td>\n",
       "      <td>NaN</td>\n",
       "    </tr>\n",
       "    <tr>\n",
       "      <th>3</th>\n",
       "      <td>1832624</td>\n",
       "      <td>3381</td>\n",
       "      <td>7610.0</td>\n",
       "      <td>200:20</td>\n",
       "      <td>0.0</td>\n",
       "      <td>20160429.0</td>\n",
       "      <td>NaN</td>\n",
       "    </tr>\n",
       "    <tr>\n",
       "      <th>4</th>\n",
       "      <td>2029232</td>\n",
       "      <td>3381</td>\n",
       "      <td>11951.0</td>\n",
       "      <td>200:20</td>\n",
       "      <td>1.0</td>\n",
       "      <td>20160129.0</td>\n",
       "      <td>NaN</td>\n",
       "    </tr>\n",
       "    <tr>\n",
       "      <th>5</th>\n",
       "      <td>2223968</td>\n",
       "      <td>3381</td>\n",
       "      <td>9776.0</td>\n",
       "      <td>10:5</td>\n",
       "      <td>2.0</td>\n",
       "      <td>20160129.0</td>\n",
       "      <td>NaN</td>\n",
       "    </tr>\n",
       "  </tbody>\n",
       "</table>\n",
       "</div>"
      ],
      "text/plain": [
       "   User_id  Merchant_id  Coupon_id Discount_rate  Distance  Date_received  \\\n",
       "1  1439408         2632     8591.0          20:1       0.0     20160217.0   \n",
       "2  1439408         2632     1078.0          20:1       0.0     20160319.0   \n",
       "3  1832624         3381     7610.0        200:20       0.0     20160429.0   \n",
       "4  2029232         3381    11951.0        200:20       1.0     20160129.0   \n",
       "5  2223968         3381     9776.0          10:5       2.0     20160129.0   \n",
       "\n",
       "   Date  \n",
       "1   NaN  \n",
       "2   NaN  \n",
       "3   NaN  \n",
       "4   NaN  \n",
       "5   NaN  "
      ]
     },
     "execution_count": 5,
     "metadata": {},
     "output_type": "execute_result"
    }
   ],
   "source": [
    "print(X_train.shape)\n",
    "X_train.head()"
   ]
  },
  {
   "cell_type": "code",
   "execution_count": 6,
   "metadata": {},
   "outputs": [
    {
     "name": "stdout",
     "output_type": "stream",
     "text": [
      "(306313, 6)\n"
     ]
    },
    {
     "data": {
      "text/html": [
       "<div>\n",
       "<style scoped>\n",
       "    .dataframe tbody tr th:only-of-type {\n",
       "        vertical-align: middle;\n",
       "    }\n",
       "\n",
       "    .dataframe tbody tr th {\n",
       "        vertical-align: top;\n",
       "    }\n",
       "\n",
       "    .dataframe thead th {\n",
       "        text-align: right;\n",
       "    }\n",
       "</style>\n",
       "<table border=\"1\" class=\"dataframe\">\n",
       "  <thead>\n",
       "    <tr style=\"text-align: right;\">\n",
       "      <th></th>\n",
       "      <th>User_id</th>\n",
       "      <th>Merchant_id</th>\n",
       "      <th>Coupon_id</th>\n",
       "      <th>Discount_rate</th>\n",
       "      <th>Distance</th>\n",
       "      <th>Date_received</th>\n",
       "    </tr>\n",
       "  </thead>\n",
       "  <tbody>\n",
       "    <tr>\n",
       "      <th>0</th>\n",
       "      <td>1439408</td>\n",
       "      <td>4663</td>\n",
       "      <td>11002.0</td>\n",
       "      <td>150:20</td>\n",
       "      <td>1.0</td>\n",
       "      <td>20160528.0</td>\n",
       "    </tr>\n",
       "    <tr>\n",
       "      <th>1</th>\n",
       "      <td>1439408</td>\n",
       "      <td>2632</td>\n",
       "      <td>8591.0</td>\n",
       "      <td>20:1</td>\n",
       "      <td>0.0</td>\n",
       "      <td>20160613.0</td>\n",
       "    </tr>\n",
       "    <tr>\n",
       "      <th>3</th>\n",
       "      <td>1439408</td>\n",
       "      <td>2632</td>\n",
       "      <td>8591.0</td>\n",
       "      <td>20:1</td>\n",
       "      <td>0.0</td>\n",
       "      <td>20160516.0</td>\n",
       "    </tr>\n",
       "    <tr>\n",
       "      <th>4</th>\n",
       "      <td>2029232</td>\n",
       "      <td>450</td>\n",
       "      <td>1532.0</td>\n",
       "      <td>30:5</td>\n",
       "      <td>0.0</td>\n",
       "      <td>20160530.0</td>\n",
       "    </tr>\n",
       "    <tr>\n",
       "      <th>5</th>\n",
       "      <td>2029232</td>\n",
       "      <td>6459</td>\n",
       "      <td>12737.0</td>\n",
       "      <td>20:1</td>\n",
       "      <td>0.0</td>\n",
       "      <td>20160519.0</td>\n",
       "    </tr>\n",
       "  </tbody>\n",
       "</table>\n",
       "</div>"
      ],
      "text/plain": [
       "   User_id  Merchant_id  Coupon_id Discount_rate  Distance  Date_received\n",
       "0  1439408         4663    11002.0        150:20       1.0     20160528.0\n",
       "1  1439408         2632     8591.0          20:1       0.0     20160613.0\n",
       "3  1439408         2632     8591.0          20:1       0.0     20160516.0\n",
       "4  2029232          450     1532.0          30:5       0.0     20160530.0\n",
       "5  2029232         6459    12737.0          20:1       0.0     20160519.0"
      ]
     },
     "execution_count": 6,
     "metadata": {},
     "output_type": "execute_result"
    }
   ],
   "source": [
    "print(X_test.shape)\n",
    "X_test.head()"
   ]
  },
  {
   "cell_type": "code",
   "execution_count": 7,
   "metadata": {},
   "outputs": [
    {
     "name": "stdout",
     "output_type": "stream",
     "text": [
      "(1053282, 7)\n"
     ]
    },
    {
     "data": {
      "text/html": [
       "<div>\n",
       "<style scoped>\n",
       "    .dataframe tbody tr th:only-of-type {\n",
       "        vertical-align: middle;\n",
       "    }\n",
       "\n",
       "    .dataframe tbody tr th {\n",
       "        vertical-align: top;\n",
       "    }\n",
       "\n",
       "    .dataframe thead th {\n",
       "        text-align: right;\n",
       "    }\n",
       "</style>\n",
       "<table border=\"1\" class=\"dataframe\">\n",
       "  <thead>\n",
       "    <tr style=\"text-align: right;\">\n",
       "      <th></th>\n",
       "      <th>User_id</th>\n",
       "      <th>Merchant_id</th>\n",
       "      <th>Coupon_id</th>\n",
       "      <th>Discount_rate</th>\n",
       "      <th>Distance</th>\n",
       "      <th>Date_received</th>\n",
       "      <th>Date</th>\n",
       "    </tr>\n",
       "  </thead>\n",
       "  <tbody>\n",
       "    <tr>\n",
       "      <th>0</th>\n",
       "      <td>1439408</td>\n",
       "      <td>2632</td>\n",
       "      <td>8591.0</td>\n",
       "      <td>20:1</td>\n",
       "      <td>0.0</td>\n",
       "      <td>20160217.0</td>\n",
       "      <td>NaN</td>\n",
       "    </tr>\n",
       "    <tr>\n",
       "      <th>1</th>\n",
       "      <td>1439408</td>\n",
       "      <td>2632</td>\n",
       "      <td>1078.0</td>\n",
       "      <td>20:1</td>\n",
       "      <td>0.0</td>\n",
       "      <td>20160319.0</td>\n",
       "      <td>NaN</td>\n",
       "    </tr>\n",
       "    <tr>\n",
       "      <th>2</th>\n",
       "      <td>1832624</td>\n",
       "      <td>3381</td>\n",
       "      <td>7610.0</td>\n",
       "      <td>200:20</td>\n",
       "      <td>0.0</td>\n",
       "      <td>20160429.0</td>\n",
       "      <td>NaN</td>\n",
       "    </tr>\n",
       "    <tr>\n",
       "      <th>3</th>\n",
       "      <td>2029232</td>\n",
       "      <td>3381</td>\n",
       "      <td>11951.0</td>\n",
       "      <td>200:20</td>\n",
       "      <td>1.0</td>\n",
       "      <td>20160129.0</td>\n",
       "      <td>NaN</td>\n",
       "    </tr>\n",
       "    <tr>\n",
       "      <th>4</th>\n",
       "      <td>2223968</td>\n",
       "      <td>3381</td>\n",
       "      <td>9776.0</td>\n",
       "      <td>10:5</td>\n",
       "      <td>2.0</td>\n",
       "      <td>20160129.0</td>\n",
       "      <td>NaN</td>\n",
       "    </tr>\n",
       "  </tbody>\n",
       "</table>\n",
       "</div>"
      ],
      "text/plain": [
       "   User_id  Merchant_id  Coupon_id Discount_rate  Distance  Date_received  \\\n",
       "0  1439408         2632     8591.0          20:1       0.0     20160217.0   \n",
       "1  1439408         2632     1078.0          20:1       0.0     20160319.0   \n",
       "2  1832624         3381     7610.0        200:20       0.0     20160429.0   \n",
       "3  2029232         3381    11951.0        200:20       1.0     20160129.0   \n",
       "4  2223968         3381     9776.0          10:5       2.0     20160129.0   \n",
       "\n",
       "   Date  \n",
       "0   NaN  \n",
       "1   NaN  \n",
       "2   NaN  \n",
       "3   NaN  \n",
       "4   NaN  "
      ]
     },
     "execution_count": 7,
     "metadata": {},
     "output_type": "execute_result"
    }
   ],
   "source": [
    "print(X_all.shape)\n",
    "X_all.head()"
   ]
  },
  {
   "cell_type": "code",
   "execution_count": 8,
   "metadata": {},
   "outputs": [
    {
     "data": {
      "text/plain": [
       "User_id            int64\n",
       "Merchant_id        int64\n",
       "Coupon_id        float64\n",
       "Discount_rate     object\n",
       "Distance         float64\n",
       "Date_received    float64\n",
       "Date             float64\n",
       "dtype: object"
      ]
     },
     "execution_count": 8,
     "metadata": {},
     "output_type": "execute_result"
    }
   ],
   "source": [
    "X_all.dtypes"
   ]
  },
  {
   "cell_type": "markdown",
   "metadata": {},
   "source": [
    "## 特徵工程"
   ]
  },
  {
   "cell_type": "markdown",
   "metadata": {},
   "source": [
    "### 1. 檢查空缺值"
   ]
  },
  {
   "cell_type": "code",
   "execution_count": 9,
   "metadata": {},
   "outputs": [
    {
     "data": {
      "text/html": [
       "<div>\n",
       "<style scoped>\n",
       "    .dataframe tbody tr th:only-of-type {\n",
       "        vertical-align: middle;\n",
       "    }\n",
       "\n",
       "    .dataframe tbody tr th {\n",
       "        vertical-align: top;\n",
       "    }\n",
       "\n",
       "    .dataframe thead th {\n",
       "        text-align: right;\n",
       "    }\n",
       "</style>\n",
       "<table border=\"1\" class=\"dataframe\">\n",
       "  <thead>\n",
       "    <tr style=\"text-align: right;\">\n",
       "      <th></th>\n",
       "      <th>Missing Ratio</th>\n",
       "    </tr>\n",
       "  </thead>\n",
       "  <tbody>\n",
       "    <tr>\n",
       "      <th>Date</th>\n",
       "      <td>95.923599</td>\n",
       "    </tr>\n",
       "    <tr>\n",
       "      <th>Distance</th>\n",
       "      <td>10.064066</td>\n",
       "    </tr>\n",
       "  </tbody>\n",
       "</table>\n",
       "</div>"
      ],
      "text/plain": [
       "          Missing Ratio\n",
       "Date          95.923599\n",
       "Distance      10.064066"
      ]
     },
     "metadata": {},
     "output_type": "display_data"
    }
   ],
   "source": [
    "def check_nan(df):\n",
    "    df_nan_ratio = (df.isnull().sum() / len(df)) * 100\n",
    "    df_nan_ratio = df_nan_ratio.drop(df_nan_ratio[df_nan_ratio == 0].index).sort_values(ascending=False)\n",
    "    df_nan_ratio = pd.DataFrame({'Missing Ratio': df_nan_ratio})\n",
    "    display(df_nan_ratio.head(10))\n",
    "\n",
    "check_nan(X_all)"
   ]
  },
  {
   "cell_type": "markdown",
   "metadata": {},
   "source": [
    "### 2-1. 標記空缺值為 -1 於數值欄位"
   ]
  },
  {
   "cell_type": "code",
   "execution_count": 10,
   "metadata": {},
   "outputs": [],
   "source": [
    "X_all['Date'] = X_all['Date'].replace({np.nan: -1}).astype('int64')"
   ]
  },
  {
   "cell_type": "markdown",
   "metadata": {},
   "source": [
    "### 2-2. 使用中位數填補 Distance 欄位"
   ]
  },
  {
   "cell_type": "code",
   "execution_count": 11,
   "metadata": {},
   "outputs": [],
   "source": [
    "X_all.loc[X_all['Distance'].isna(), ['Distance']] = X_all['Distance'].median()"
   ]
  },
  {
   "cell_type": "markdown",
   "metadata": {},
   "source": [
    "### 2-3. 將明顯為類別資料的欄位轉成物件欄位"
   ]
  },
  {
   "cell_type": "code",
   "execution_count": 12,
   "metadata": {},
   "outputs": [],
   "source": [
    "def cast_column_to_str(df, column):\n",
    "    df[column] = df[column].astype('int64').astype(str)\n",
    "\n",
    "cast_column_to_str(X_all, 'User_id')\n",
    "cast_column_to_str(X_all, 'Merchant_id')\n",
    "cast_column_to_str(X_all, 'Coupon_id')\n",
    "cast_column_to_str(X_all, 'Date_received')\n",
    "cast_column_to_str(X_all, 'Date')"
   ]
  },
  {
   "cell_type": "markdown",
   "metadata": {},
   "source": [
    "### 2-4. 再次檢查空缺值"
   ]
  },
  {
   "cell_type": "code",
   "execution_count": 13,
   "metadata": {},
   "outputs": [
    {
     "data": {
      "text/html": [
       "<div>\n",
       "<style scoped>\n",
       "    .dataframe tbody tr th:only-of-type {\n",
       "        vertical-align: middle;\n",
       "    }\n",
       "\n",
       "    .dataframe tbody tr th {\n",
       "        vertical-align: top;\n",
       "    }\n",
       "\n",
       "    .dataframe thead th {\n",
       "        text-align: right;\n",
       "    }\n",
       "</style>\n",
       "<table border=\"1\" class=\"dataframe\">\n",
       "  <thead>\n",
       "    <tr style=\"text-align: right;\">\n",
       "      <th></th>\n",
       "      <th>Missing Ratio</th>\n",
       "    </tr>\n",
       "  </thead>\n",
       "  <tbody>\n",
       "  </tbody>\n",
       "</table>\n",
       "</div>"
      ],
      "text/plain": [
       "Empty DataFrame\n",
       "Columns: [Missing Ratio]\n",
       "Index: []"
      ]
     },
     "metadata": {},
     "output_type": "display_data"
    }
   ],
   "source": [
    "check_nan(X_all)"
   ]
  },
  {
   "cell_type": "code",
   "execution_count": 14,
   "metadata": {},
   "outputs": [
    {
     "data": {
      "text/html": [
       "<div>\n",
       "<style scoped>\n",
       "    .dataframe tbody tr th:only-of-type {\n",
       "        vertical-align: middle;\n",
       "    }\n",
       "\n",
       "    .dataframe tbody tr th {\n",
       "        vertical-align: top;\n",
       "    }\n",
       "\n",
       "    .dataframe thead th {\n",
       "        text-align: right;\n",
       "    }\n",
       "</style>\n",
       "<table border=\"1\" class=\"dataframe\">\n",
       "  <thead>\n",
       "    <tr style=\"text-align: right;\">\n",
       "      <th></th>\n",
       "      <th>User_id</th>\n",
       "      <th>Merchant_id</th>\n",
       "      <th>Coupon_id</th>\n",
       "      <th>Discount_rate</th>\n",
       "      <th>Distance</th>\n",
       "      <th>Date_received</th>\n",
       "      <th>Date</th>\n",
       "    </tr>\n",
       "  </thead>\n",
       "  <tbody>\n",
       "    <tr>\n",
       "      <th>0</th>\n",
       "      <td>1439408</td>\n",
       "      <td>2632</td>\n",
       "      <td>8591</td>\n",
       "      <td>20:1</td>\n",
       "      <td>0.0</td>\n",
       "      <td>20160217</td>\n",
       "      <td>-1</td>\n",
       "    </tr>\n",
       "    <tr>\n",
       "      <th>1</th>\n",
       "      <td>1439408</td>\n",
       "      <td>2632</td>\n",
       "      <td>1078</td>\n",
       "      <td>20:1</td>\n",
       "      <td>0.0</td>\n",
       "      <td>20160319</td>\n",
       "      <td>-1</td>\n",
       "    </tr>\n",
       "    <tr>\n",
       "      <th>2</th>\n",
       "      <td>1832624</td>\n",
       "      <td>3381</td>\n",
       "      <td>7610</td>\n",
       "      <td>200:20</td>\n",
       "      <td>0.0</td>\n",
       "      <td>20160429</td>\n",
       "      <td>-1</td>\n",
       "    </tr>\n",
       "    <tr>\n",
       "      <th>3</th>\n",
       "      <td>2029232</td>\n",
       "      <td>3381</td>\n",
       "      <td>11951</td>\n",
       "      <td>200:20</td>\n",
       "      <td>1.0</td>\n",
       "      <td>20160129</td>\n",
       "      <td>-1</td>\n",
       "    </tr>\n",
       "    <tr>\n",
       "      <th>4</th>\n",
       "      <td>2223968</td>\n",
       "      <td>3381</td>\n",
       "      <td>9776</td>\n",
       "      <td>10:5</td>\n",
       "      <td>2.0</td>\n",
       "      <td>20160129</td>\n",
       "      <td>-1</td>\n",
       "    </tr>\n",
       "  </tbody>\n",
       "</table>\n",
       "</div>"
      ],
      "text/plain": [
       "   User_id Merchant_id Coupon_id Discount_rate  Distance Date_received Date\n",
       "0  1439408        2632      8591          20:1       0.0      20160217   -1\n",
       "1  1439408        2632      1078          20:1       0.0      20160319   -1\n",
       "2  1832624        3381      7610        200:20       0.0      20160429   -1\n",
       "3  2029232        3381     11951        200:20       1.0      20160129   -1\n",
       "4  2223968        3381      9776          10:5       2.0      20160129   -1"
      ]
     },
     "execution_count": 14,
     "metadata": {},
     "output_type": "execute_result"
    }
   ],
   "source": [
    "X_all.head()"
   ]
  },
  {
   "cell_type": "code",
   "execution_count": 15,
   "metadata": {},
   "outputs": [
    {
     "data": {
      "text/plain": [
       "User_id           object\n",
       "Merchant_id       object\n",
       "Coupon_id         object\n",
       "Discount_rate     object\n",
       "Distance         float64\n",
       "Date_received     object\n",
       "Date              object\n",
       "dtype: object"
      ]
     },
     "execution_count": 15,
     "metadata": {},
     "output_type": "execute_result"
    }
   ],
   "source": [
    "X_all.dtypes"
   ]
  },
  {
   "cell_type": "markdown",
   "metadata": {},
   "source": [
    "### 3-1. 新增欄位 uid"
   ]
  },
  {
   "cell_type": "code",
   "execution_count": 16,
   "metadata": {},
   "outputs": [],
   "source": [
    "X_all['uid'] = X_all[['User_id', 'Coupon_id', 'Date_received']].apply(lambda x: '_'.join(x.values), axis=1)"
   ]
  },
  {
   "cell_type": "markdown",
   "metadata": {},
   "source": [
    "### 3-2. 新增欄位 ui_dr_count、mi_dr_count、ci_dr_count\n",
    "\n",
    "#### 分別以 User_id、Merchant_id、Coupon_id 分組並計數，這代表曾經擁有、發行、流通的優惠券數量。"
   ]
  },
  {
   "cell_type": "code",
   "execution_count": 17,
   "metadata": {},
   "outputs": [],
   "source": [
    "def make_own_counts(df, new_column, by_column, target_column, default_value=0):\n",
    "    df_temp = df.groupby([by_column], as_index=False).count()\n",
    "    df_temp = df_temp.rename(columns={target_column: new_column})\n",
    "    return pd.merge(df, df_temp[[by_column, new_column]], how='outer', sort=False, on=by_column)\n",
    "\n",
    "X_all = make_own_counts(X_all, 'ui_dr_count', 'User_id', 'Date_received')\n",
    "X_all = make_own_counts(X_all, 'mi_dr_count', 'Merchant_id', 'Date_received')\n",
    "X_all = make_own_counts(X_all, 'ci_dr_count', 'Coupon_id', 'Date_received')"
   ]
  },
  {
   "cell_type": "markdown",
   "metadata": {},
   "source": [
    "### 3-3. 新增欄位 ui_dt_count、mi_dt_count、ci_dt_count\n",
    "\n",
    "#### 分別以 User_id、Merchant_id、Coupon_id 分組並計數非空值的 Date，這代表曾經使用或被使用的優惠券數量。"
   ]
  },
  {
   "cell_type": "code",
   "execution_count": 18,
   "metadata": {},
   "outputs": [],
   "source": [
    "def make_usage_counts(df, new_column, by_column, target_column, select_condition, default_value=0):\n",
    "    df_temp = df[select_condition].groupby([by_column], as_index=False).count()\n",
    "    df_temp = df_temp.rename(columns={target_column: new_column})\n",
    "    df_temp = pd.merge(df, df_temp[[by_column, new_column]], how='outer', sort=False, on=by_column)\n",
    "    df_temp[new_column] = df_temp[new_column].replace({np.nan: default_value})\n",
    "    return df_temp\n",
    "\n",
    "select_condition = X_all['Date'] != '-1'\n",
    "X_all = make_usage_counts(X_all, 'ui_dt_count', 'User_id', 'Date', select_condition)\n",
    "X_all = make_usage_counts(X_all, 'mi_dt_count', 'Merchant_id', 'Date', select_condition)\n",
    "X_all = make_usage_counts(X_all, 'ci_dt_count', 'Coupon_id', 'Date', select_condition)"
   ]
  },
  {
   "cell_type": "markdown",
   "metadata": {},
   "source": [
    "### 3-4. 新增欄位 dr_type、dr_req_price、dr_off_price、dr_dsc_rate"
   ]
  },
  {
   "cell_type": "markdown",
   "metadata": {},
   "source": [
    "#### 編碼折價率形式是浮點數者為 0，(\\d+:\\d+) 者為 1，觀察資料可知只有這兩種。"
   ]
  },
  {
   "cell_type": "code",
   "execution_count": 19,
   "metadata": {},
   "outputs": [],
   "source": [
    "def get_dr_type(column):\n",
    "    if ':' not in column:\n",
    "        return 0\n",
    "    return 1\n",
    "\n",
    "X_all['dr_type'] = X_all['Discount_rate'].apply(get_dr_type)"
   ]
  },
  {
   "cell_type": "markdown",
   "metadata": {},
   "source": [
    "#### 拆除 (\\d+:\\d+) 形式的折價率，指派到 dr_req_price、dr_off_price 兩個欄位上，分別代表滿 x 元折 y 元的優待。"
   ]
  },
  {
   "cell_type": "code",
   "execution_count": 20,
   "metadata": {},
   "outputs": [],
   "source": [
    "def get_dr_req_price(row):\n",
    "    return int(row['Discount_rate'].partition(':')[0])\n",
    "\n",
    "def get_dr_off_price(row):\n",
    "    return int(row['Discount_rate'].rpartition(':')[2])\n",
    "\n",
    "select_condition = X_all['dr_type'] == 1\n",
    "X_all['dr_req_price'] = X_all[select_condition].apply(get_dr_req_price, axis=1)\n",
    "X_all['dr_off_price'] = X_all[select_condition].apply(get_dr_off_price, axis=1)"
   ]
  },
  {
   "cell_type": "markdown",
   "metadata": {},
   "source": [
    "#### 填補 dr_req_price 的空缺值：眾數。"
   ]
  },
  {
   "cell_type": "code",
   "execution_count": 21,
   "metadata": {},
   "outputs": [],
   "source": [
    "def get_no_nan_dr_req_price(df):\n",
    "    return df[~df['dr_req_price'].isna()]['dr_req_price'].mode()[0]\n",
    "\n",
    "X_all.loc[X_all['dr_req_price'].isna(), ['dr_req_price']] = get_no_nan_dr_req_price(X_all)"
   ]
  },
  {
   "cell_type": "markdown",
   "metadata": {},
   "source": [
    "#### 填補 dr_off_price 的空缺值：dr_req_price * (1 - Discount_rate)。"
   ]
  },
  {
   "cell_type": "code",
   "execution_count": 22,
   "metadata": {},
   "outputs": [],
   "source": [
    "def get_no_nan_dr_off_price(row):\n",
    "    return row['dr_req_price'] * (1 - float(row['Discount_rate']))\n",
    "\n",
    "select_condition = X_all['dr_type'] == 0\n",
    "X_all.loc[X_all['dr_off_price'].isna(), ['dr_off_price']] = X_all[select_condition].apply(get_no_nan_dr_off_price, axis=1)"
   ]
  },
  {
   "cell_type": "markdown",
   "metadata": {},
   "source": [
    "#### 新增 dr_dsc_rate 代表以浮點數表示的新折價率。"
   ]
  },
  {
   "cell_type": "code",
   "execution_count": 23,
   "metadata": {},
   "outputs": [],
   "source": [
    "def get_dr_dsc_rate(row):\n",
    "    return 1 - row['dr_off_price'] / row['dr_req_price']\n",
    "\n",
    "X_all['dr_dsc_rate'] = X_all.apply(get_dr_dsc_rate, axis=1)"
   ]
  },
  {
   "cell_type": "markdown",
   "metadata": {},
   "source": [
    "### 3-5. 新增欄位 dr_weekday、dr_weekday_type、dr_weekday_1、dr_weekday_2、...、dr_weekday_7"
   ]
  },
  {
   "cell_type": "markdown",
   "metadata": {},
   "source": [
    "#### 將 Date_received 轉換成 dr_weekday 的欄位，意義為消費者是星期幾拿到該張折價券。"
   ]
  },
  {
   "cell_type": "code",
   "execution_count": 24,
   "metadata": {},
   "outputs": [],
   "source": [
    "def get_dr_weekday(row):\n",
    "    return pd.to_datetime(row['Date_received'], format='%Y%m%d').dayofweek + 1\n",
    "\n",
    "X_all['dr_weekday'] = X_all.apply(get_dr_weekday, axis=1)"
   ]
  },
  {
   "cell_type": "markdown",
   "metadata": {},
   "source": [
    "#### 將 dr_weekday 轉換成 dr_weekday_type 的欄位，意義為消費者拿到該張折價券是在平日或是假日。"
   ]
  },
  {
   "cell_type": "code",
   "execution_count": 25,
   "metadata": {},
   "outputs": [],
   "source": [
    "weekend_day = set([6, 7])\n",
    "\n",
    "def get_dr_weekday_type(row):\n",
    "    return 1 if row['dr_weekday'] in weekend_day else 0\n",
    "\n",
    "X_all['dr_weekday_type'] = X_all.apply(get_dr_weekday_type, axis=1)"
   ]
  },
  {
   "cell_type": "markdown",
   "metadata": {},
   "source": [
    "#### 獨熱編碼 dr_weekday。"
   ]
  },
  {
   "cell_type": "code",
   "execution_count": 26,
   "metadata": {},
   "outputs": [],
   "source": [
    "weekday_cols = ['dr_weekday_{}'.format(i) for i in range(1,8)]\n",
    "\n",
    "def make_dr_weekday_n(df):\n",
    "    df_temp = pd.get_dummies(df['dr_weekday'])\n",
    "    df_temp.columns = weekday_cols\n",
    "    return df_temp\n",
    "\n",
    "X_all[weekday_cols] = make_dr_weekday_n(X_all)"
   ]
  },
  {
   "cell_type": "markdown",
   "metadata": {},
   "source": [
    "### 4-1. 新增欄位 target"
   ]
  },
  {
   "cell_type": "markdown",
   "metadata": {},
   "source": [
    "#### 訓練資料 Date 為 -1 或 Date - Date_received > 15 天者標記為 0，其餘標記為 1。"
   ]
  },
  {
   "cell_type": "code",
   "execution_count": 27,
   "metadata": {},
   "outputs": [],
   "source": [
    "def get_target(row):\n",
    "    if row['Date'] == '-1':\n",
    "        return 0\n",
    "    td = pd.to_datetime(row['Date'], format='%Y%m%d') - pd.to_datetime(row['Date_received'], format='%Y%m%d')\n",
    "    if td > pd.Timedelta(15, 'D'):\n",
    "        return 0\n",
    "    return 1\n",
    "\n",
    "X_all['target'] = X_all.apply(get_target, axis=1)"
   ]
  },
  {
   "cell_type": "markdown",
   "metadata": {},
   "source": [
    "## 訓練模型"
   ]
  },
  {
   "cell_type": "markdown",
   "metadata": {},
   "source": [
    "### 1. 資料保存與讀取"
   ]
  },
  {
   "cell_type": "code",
   "execution_count": 28,
   "metadata": {},
   "outputs": [
    {
     "data": {
      "text/html": [
       "<div>\n",
       "<style scoped>\n",
       "    .dataframe tbody tr th:only-of-type {\n",
       "        vertical-align: middle;\n",
       "    }\n",
       "\n",
       "    .dataframe tbody tr th {\n",
       "        vertical-align: top;\n",
       "    }\n",
       "\n",
       "    .dataframe thead th {\n",
       "        text-align: right;\n",
       "    }\n",
       "</style>\n",
       "<table border=\"1\" class=\"dataframe\">\n",
       "  <thead>\n",
       "    <tr style=\"text-align: right;\">\n",
       "      <th></th>\n",
       "      <th>User_id</th>\n",
       "      <th>Merchant_id</th>\n",
       "      <th>Coupon_id</th>\n",
       "      <th>Discount_rate</th>\n",
       "      <th>Distance</th>\n",
       "      <th>Date_received</th>\n",
       "      <th>Date</th>\n",
       "      <th>uid</th>\n",
       "      <th>ui_dr_count</th>\n",
       "      <th>mi_dr_count</th>\n",
       "      <th>...</th>\n",
       "      <th>dr_weekday</th>\n",
       "      <th>dr_weekday_type</th>\n",
       "      <th>dr_weekday_1</th>\n",
       "      <th>dr_weekday_2</th>\n",
       "      <th>dr_weekday_3</th>\n",
       "      <th>dr_weekday_4</th>\n",
       "      <th>dr_weekday_5</th>\n",
       "      <th>dr_weekday_6</th>\n",
       "      <th>dr_weekday_7</th>\n",
       "      <th>target</th>\n",
       "    </tr>\n",
       "  </thead>\n",
       "  <tbody>\n",
       "    <tr>\n",
       "      <th>0</th>\n",
       "      <td>1439408</td>\n",
       "      <td>2632</td>\n",
       "      <td>8591</td>\n",
       "      <td>20:1</td>\n",
       "      <td>0.0</td>\n",
       "      <td>20160217</td>\n",
       "      <td>-1</td>\n",
       "      <td>1439408_8591_20160217</td>\n",
       "      <td>5</td>\n",
       "      <td>43</td>\n",
       "      <td>...</td>\n",
       "      <td>3</td>\n",
       "      <td>0</td>\n",
       "      <td>0</td>\n",
       "      <td>0</td>\n",
       "      <td>1</td>\n",
       "      <td>0</td>\n",
       "      <td>0</td>\n",
       "      <td>0</td>\n",
       "      <td>0</td>\n",
       "      <td>0</td>\n",
       "    </tr>\n",
       "    <tr>\n",
       "      <th>1</th>\n",
       "      <td>1439408</td>\n",
       "      <td>2632</td>\n",
       "      <td>8591</td>\n",
       "      <td>20:1</td>\n",
       "      <td>0.0</td>\n",
       "      <td>20160613</td>\n",
       "      <td>-1</td>\n",
       "      <td>1439408_8591_20160613</td>\n",
       "      <td>5</td>\n",
       "      <td>43</td>\n",
       "      <td>...</td>\n",
       "      <td>1</td>\n",
       "      <td>0</td>\n",
       "      <td>1</td>\n",
       "      <td>0</td>\n",
       "      <td>0</td>\n",
       "      <td>0</td>\n",
       "      <td>0</td>\n",
       "      <td>0</td>\n",
       "      <td>0</td>\n",
       "      <td>0</td>\n",
       "    </tr>\n",
       "    <tr>\n",
       "      <th>2</th>\n",
       "      <td>1439408</td>\n",
       "      <td>2632</td>\n",
       "      <td>8591</td>\n",
       "      <td>20:1</td>\n",
       "      <td>0.0</td>\n",
       "      <td>20160516</td>\n",
       "      <td>-1</td>\n",
       "      <td>1439408_8591_20160516</td>\n",
       "      <td>5</td>\n",
       "      <td>43</td>\n",
       "      <td>...</td>\n",
       "      <td>1</td>\n",
       "      <td>0</td>\n",
       "      <td>1</td>\n",
       "      <td>0</td>\n",
       "      <td>0</td>\n",
       "      <td>0</td>\n",
       "      <td>0</td>\n",
       "      <td>0</td>\n",
       "      <td>0</td>\n",
       "      <td>0</td>\n",
       "    </tr>\n",
       "    <tr>\n",
       "      <th>3</th>\n",
       "      <td>2082569</td>\n",
       "      <td>2632</td>\n",
       "      <td>8591</td>\n",
       "      <td>20:1</td>\n",
       "      <td>3.0</td>\n",
       "      <td>20160223</td>\n",
       "      <td>-1</td>\n",
       "      <td>2082569_8591_20160223</td>\n",
       "      <td>2</td>\n",
       "      <td>43</td>\n",
       "      <td>...</td>\n",
       "      <td>2</td>\n",
       "      <td>0</td>\n",
       "      <td>0</td>\n",
       "      <td>1</td>\n",
       "      <td>0</td>\n",
       "      <td>0</td>\n",
       "      <td>0</td>\n",
       "      <td>0</td>\n",
       "      <td>0</td>\n",
       "      <td>0</td>\n",
       "    </tr>\n",
       "    <tr>\n",
       "      <th>4</th>\n",
       "      <td>5162810</td>\n",
       "      <td>2632</td>\n",
       "      <td>8591</td>\n",
       "      <td>20:1</td>\n",
       "      <td>10.0</td>\n",
       "      <td>20160204</td>\n",
       "      <td>-1</td>\n",
       "      <td>5162810_8591_20160204</td>\n",
       "      <td>1</td>\n",
       "      <td>43</td>\n",
       "      <td>...</td>\n",
       "      <td>4</td>\n",
       "      <td>0</td>\n",
       "      <td>0</td>\n",
       "      <td>0</td>\n",
       "      <td>0</td>\n",
       "      <td>1</td>\n",
       "      <td>0</td>\n",
       "      <td>0</td>\n",
       "      <td>0</td>\n",
       "      <td>0</td>\n",
       "    </tr>\n",
       "  </tbody>\n",
       "</table>\n",
       "<p>5 rows × 28 columns</p>\n",
       "</div>"
      ],
      "text/plain": [
       "   User_id Merchant_id Coupon_id Discount_rate  Distance Date_received Date  \\\n",
       "0  1439408        2632      8591          20:1       0.0      20160217   -1   \n",
       "1  1439408        2632      8591          20:1       0.0      20160613   -1   \n",
       "2  1439408        2632      8591          20:1       0.0      20160516   -1   \n",
       "3  2082569        2632      8591          20:1       3.0      20160223   -1   \n",
       "4  5162810        2632      8591          20:1      10.0      20160204   -1   \n",
       "\n",
       "                     uid  ui_dr_count  mi_dr_count  ...  dr_weekday  \\\n",
       "0  1439408_8591_20160217            5           43  ...           3   \n",
       "1  1439408_8591_20160613            5           43  ...           1   \n",
       "2  1439408_8591_20160516            5           43  ...           1   \n",
       "3  2082569_8591_20160223            2           43  ...           2   \n",
       "4  5162810_8591_20160204            1           43  ...           4   \n",
       "\n",
       "   dr_weekday_type  dr_weekday_1  dr_weekday_2  dr_weekday_3  dr_weekday_4  \\\n",
       "0                0             0             0             1             0   \n",
       "1                0             1             0             0             0   \n",
       "2                0             1             0             0             0   \n",
       "3                0             0             1             0             0   \n",
       "4                0             0             0             0             1   \n",
       "\n",
       "   dr_weekday_5  dr_weekday_6  dr_weekday_7  target  \n",
       "0             0             0             0       0  \n",
       "1             0             0             0       0  \n",
       "2             0             0             0       0  \n",
       "3             0             0             0       0  \n",
       "4             0             0             0       0  \n",
       "\n",
       "[5 rows x 28 columns]"
      ]
     },
     "execution_count": 28,
     "metadata": {},
     "output_type": "execute_result"
    }
   ],
   "source": [
    "# X_all.to_pickle(data_path + 'coupon_well_done_dataframe.pkl')\n",
    "X_all = pd.read_pickle(data_path + 'coupon_well_done_dataframe.pkl')\n",
    "X_all.head()"
   ]
  },
  {
   "cell_type": "markdown",
   "metadata": {},
   "source": [
    "### 2. 永久去除特定欄位，分成訓練集、驗證集、識別碼、目標值"
   ]
  },
  {
   "cell_type": "code",
   "execution_count": 29,
   "metadata": {},
   "outputs": [
    {
     "data": {
      "text/plain": [
       "array([[0.00000000e+00, 3.36134454e-02, 3.41927658e-04, ...,\n",
       "        0.00000000e+00, 0.00000000e+00, 0.00000000e+00],\n",
       "       [0.00000000e+00, 3.36134454e-02, 3.41927658e-04, ...,\n",
       "        0.00000000e+00, 0.00000000e+00, 0.00000000e+00],\n",
       "       [0.00000000e+00, 3.36134454e-02, 3.41927658e-04, ...,\n",
       "        0.00000000e+00, 0.00000000e+00, 0.00000000e+00],\n",
       "       ...,\n",
       "       [1.00000000e-01, 0.00000000e+00, 0.00000000e+00, ...,\n",
       "        1.00000000e+00, 0.00000000e+00, 0.00000000e+00],\n",
       "       [8.00000000e-01, 8.40336134e-03, 8.14113471e-06, ...,\n",
       "        0.00000000e+00, 0.00000000e+00, 0.00000000e+00],\n",
       "       [8.00000000e-01, 8.40336134e-03, 8.14113471e-06, ...,\n",
       "        0.00000000e+00, 1.00000000e+00, 0.00000000e+00]])"
      ]
     },
     "execution_count": 29,
     "metadata": {},
     "output_type": "execute_result"
    }
   ],
   "source": [
    "X_ids = X_all['uid']\n",
    "y_all = X_all['target']\n",
    "X_all = X_all.drop(columns=['User_id', 'Merchant_id', 'Coupon_id', 'Discount_rate', 'Date_received', 'Date', 'uid', 'target'])\n",
    "X_all = MinMaxScaler().fit_transform(X_all)\n",
    "X_all"
   ]
  },
  {
   "cell_type": "code",
   "execution_count": 30,
   "metadata": {},
   "outputs": [
    {
     "name": "stdout",
     "output_type": "stream",
     "text": [
      "(634923, 20)\n",
      "(634923,)\n",
      "(112046, 20)\n",
      "(112046,)\n"
     ]
    }
   ],
   "source": [
    "X_train, X_val, y_train, y_val = train_test_split(X_all[:X_train_length], y_all[:X_train_length],\n",
    "                                                  test_size=0.15, random_state=42)\n",
    "print(X_train.shape)\n",
    "print(y_train.shape)\n",
    "print(X_val.shape)\n",
    "print(y_val.shape)"
   ]
  },
  {
   "cell_type": "markdown",
   "metadata": {},
   "source": [
    "### 3. 建立模型"
   ]
  },
  {
   "cell_type": "code",
   "execution_count": 31,
   "metadata": {},
   "outputs": [],
   "source": [
    "def print_time(func):\n",
    "    @functools.wraps(func)\n",
    "    def wrapper(*args, **kwargs):\n",
    "        start_time = time.time()\n",
    "        result = func(*args, **kwargs)\n",
    "        print('Time elipsed:', int(time.time() - start_time), end='s\\n')\n",
    "        return result\n",
    "    return wrapper"
   ]
  },
  {
   "cell_type": "code",
   "execution_count": 32,
   "metadata": {},
   "outputs": [],
   "source": [
    "def print_score(estimator, X_train, y_train, X_val, y_val):\n",
    "    cv_score = cross_val_score(estimator, X_train, y_train, cv=5).mean()\n",
    "    auc_score = roc_auc_score(y_val, estimator.predict_proba(X_val)[:, 1])\n",
    "    acc_score = accuracy_score(y_val, estimator.predict(X_val))\n",
    "    print('CV score:', cv_score)\n",
    "    print('AUC score:', auc_score)\n",
    "    print('Acuuracy score:', acc_score)"
   ]
  },
  {
   "cell_type": "code",
   "execution_count": 33,
   "metadata": {},
   "outputs": [
    {
     "name": "stdout",
     "output_type": "stream",
     "text": [
      "CV score: 0.9708389834871951\n",
      "AUC score: 0.921607193526905\n",
      "Acuuracy score: 0.9706459846848616\n",
      "Time elipsed: 124s\n"
     ]
    }
   ],
   "source": [
    "@print_time\n",
    "def make_estimator(X_train, y_train, X_val, y_val):\n",
    "    gs_estimator = Pipeline(steps=[\n",
    "        ('ss', StandardScaler()),\n",
    "        ('en', SGDClassifier(loss='log', penalty='elasticnet', fit_intercept=True, max_iter=100,\n",
    "                             shuffle=True, class_weight=None, n_jobs=-1, verbose=0),)\n",
    "    ])\n",
    "    gs_param_grid = {\n",
    "        'en__alpha': [ 0.001, 0.01, 0.1],\n",
    "        'en__l1_ratio': [ 0.001, 0.01, 0.1]\n",
    "    }\n",
    "    gs_folder = StratifiedKFold(n_splits=3, shuffle=True)\n",
    "    estimator = GridSearchCV(gs_estimator, gs_param_grid, cv=gs_folder, n_jobs=-1, verbose=0).fit(X_train, y_train)\n",
    "    print_score(estimator, X_train, y_train, X_val, y_val)\n",
    "    return estimator\n",
    "\n",
    "estimator = make_estimator(X_train, y_train, X_val, y_val)"
   ]
  },
  {
   "cell_type": "code",
   "execution_count": 34,
   "metadata": {},
   "outputs": [
    {
     "name": "stdout",
     "output_type": "stream",
     "text": [
      "CV score: 0.9743212962673434\n",
      "AUC score: 0.9813384871719955\n",
      "Acuuracy score: 0.9744122949502882\n",
      "Time elipsed: 181s\n"
     ]
    }
   ],
   "source": [
    "@print_time\n",
    "def make_simple_rf_estimator(X_train, y_train, X_val, y_val):\n",
    "    estimator = RandomForestClassifier(n_estimators=100, max_depth=4, min_samples_split=2, min_samples_leaf=1,\n",
    "                                       max_features=None, n_jobs=-1, bootstrap=True, verbose=0).fit(X_train, y_train)\n",
    "    print_score(estimator, X_train, y_train, X_val, y_val)\n",
    "    return estimator\n",
    "\n",
    "estimator = make_simple_rf_estimator(X_train, y_train, X_val, y_val)"
   ]
  },
  {
   "cell_type": "code",
   "execution_count": 35,
   "metadata": {},
   "outputs": [
    {
     "name": "stdout",
     "output_type": "stream",
     "text": [
      "CV score: 0.9821537416552075\n",
      "AUC score: 0.9907068774002333\n",
      "Acuuracy score: 0.9823376113382004\n",
      "Time elipsed: 737s\n"
     ]
    }
   ],
   "source": [
    "@print_time\n",
    "def make_simple_gbdt_estimator(X_train, y_train, X_val, y_val):\n",
    "    estimator = GradientBoostingClassifier(learning_rate=0.15, n_estimators=50, subsample=0.75,\n",
    "                                           max_features=20, max_depth=6, tol=0.001, verbose=0).fit(X_train, y_train)\n",
    "    print_score(estimator, X_train, y_train, X_val, y_val)\n",
    "    return estimator\n",
    "\n",
    "estimator = make_simple_gbdt_estimator(X_train, y_train, X_val, y_val)"
   ]
  },
  {
   "cell_type": "markdown",
   "metadata": {},
   "source": [
    "## 輸出結果"
   ]
  },
  {
   "cell_type": "markdown",
   "metadata": {},
   "source": [
    "#### 1. 測試資料似乎有部分在訓練資料裡，故以範本的 uid 為準進行合併。\n",
    "\n",
    "#### 2. 測試和訓練資料皆有重複，造成篩選後仍有重複，故以 uid 分組並取 label 的平均為數據再合併作最後輸出。"
   ]
  },
  {
   "cell_type": "code",
   "execution_count": 36,
   "metadata": {},
   "outputs": [
    {
     "name": "stdout",
     "output_type": "stream",
     "text": [
      "(304096, 2)\n"
     ]
    },
    {
     "data": {
      "text/html": [
       "<div>\n",
       "<style scoped>\n",
       "    .dataframe tbody tr th:only-of-type {\n",
       "        vertical-align: middle;\n",
       "    }\n",
       "\n",
       "    .dataframe tbody tr th {\n",
       "        vertical-align: top;\n",
       "    }\n",
       "\n",
       "    .dataframe thead th {\n",
       "        text-align: right;\n",
       "    }\n",
       "</style>\n",
       "<table border=\"1\" class=\"dataframe\">\n",
       "  <thead>\n",
       "    <tr style=\"text-align: right;\">\n",
       "      <th></th>\n",
       "      <th>uid</th>\n",
       "      <th>label</th>\n",
       "    </tr>\n",
       "  </thead>\n",
       "  <tbody>\n",
       "    <tr>\n",
       "      <th>0</th>\n",
       "      <td>1439408_8591_20160613</td>\n",
       "      <td>0.000028</td>\n",
       "    </tr>\n",
       "    <tr>\n",
       "      <th>1</th>\n",
       "      <td>1439408_8591_20160516</td>\n",
       "      <td>0.000028</td>\n",
       "    </tr>\n",
       "    <tr>\n",
       "      <th>2</th>\n",
       "      <td>5925919_8591_20160514</td>\n",
       "      <td>0.000028</td>\n",
       "    </tr>\n",
       "    <tr>\n",
       "      <th>3</th>\n",
       "      <td>7207738_8591_20160602</td>\n",
       "      <td>0.000028</td>\n",
       "    </tr>\n",
       "    <tr>\n",
       "      <th>4</th>\n",
       "      <td>2423386_8591_20160531</td>\n",
       "      <td>0.000028</td>\n",
       "    </tr>\n",
       "  </tbody>\n",
       "</table>\n",
       "</div>"
      ],
      "text/plain": [
       "                     uid     label\n",
       "0  1439408_8591_20160613  0.000028\n",
       "1  1439408_8591_20160516  0.000028\n",
       "2  5925919_8591_20160514  0.000028\n",
       "3  7207738_8591_20160602  0.000028\n",
       "4  2423386_8591_20160531  0.000028"
      ]
     },
     "metadata": {},
     "output_type": "display_data"
    }
   ],
   "source": [
    "def make_output(estimator, X_ids, X_all):\n",
    "    X_test_ids = pd.read_csv(data_path + 'coupon_sample_submission.csv')[['uid']]\n",
    "    y_test = pd.DataFrame(estimator.predict_proba(X_all)[:, 1], columns=['label'])\n",
    "    output = pd.concat([X_ids, y_test], axis=1)\n",
    "    output = pd.merge(output, X_test_ids, on=['uid'], how='inner')\n",
    "    output['label'] = output.groupby('uid')['label'].transform('mean')\n",
    "    output = output.drop_duplicates(['uid'])\n",
    "    print(output.shape)\n",
    "    display(output.head())\n",
    "    return output\n",
    "\n",
    "make_output(estimator, X_ids, X_all).to_csv('./output/Day_051-053_Coupon_Mid_Exam.csv', index=False)"
   ]
  },
  {
   "cell_type": "code",
   "execution_count": null,
   "metadata": {},
   "outputs": [],
   "source": []
  }
 ],
 "metadata": {
  "kernelspec": {
   "display_name": "Python 3",
   "language": "python",
   "name": "python3"
  },
  "language_info": {
   "codemirror_mode": {
    "name": "ipython",
    "version": 3
   },
   "file_extension": ".py",
   "mimetype": "text/x-python",
   "name": "python",
   "nbconvert_exporter": "python",
   "pygments_lexer": "ipython3",
   "version": "3.7.3"
  }
 },
 "nbformat": 4,
 "nbformat_minor": 2
}
