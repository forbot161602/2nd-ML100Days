{
  "cells": [
    {
      "cell_type": "markdown",
      "metadata": {},
      "source": [
        "## [\u7bc4\u4f8b\u91cd\u9ede]\n",
        "\u4e86\u89e3\u6a5f\u5668\u5b78\u7fd2\u5efa\u6a21\u7684\u6b65\u9a5f\u3001\u8cc7\u6599\u578b\u614b\u4ee5\u53ca\u8a55\u4f30\u7d50\u679c\u7b49\u6d41\u7a0b"
      ]
    },
    {
      "cell_type": "code",
      "execution_count": 1,
      "metadata": {},
      "outputs": [],
      "source": [
        "# \u5982\u679c\u662f\u5206\u985e\u554f\u984c\uff0c\u8acb\u4f7f\u7528 DecisionTreeClassifier\uff0c\u82e5\u70ba\u56de\u6b78\u554f\u984c\uff0c\u8acb\u4f7f\u7528 DecisionTreeRegressor\n",
        "from sklearn import datasets, metrics\n",
        "from sklearn.tree import DecisionTreeClassifier, DecisionTreeRegressor\n",
        "from sklearn.model_selection import train_test_split"
      ]
    },
    {
      "cell_type": "markdown",
      "metadata": {},
      "source": [
        "## \u5efa\u7acb\u6a21\u578b\u56db\u6b65\u9a5f\n",
        "\n",
        "\u5728 Scikit-learn \u4e2d\uff0c\u5efa\u7acb\u4e00\u500b\u6a5f\u5668\u5b78\u7fd2\u7684\u6a21\u578b\u5176\u5be6\u975e\u5e38\u7c21\u55ae\uff0c\u6d41\u7a0b\u5927\u7565\u662f\u4ee5\u4e0b\u56db\u500b\u6b65\u9a5f\n",
        "\n",
        "1. \u8b80\u9032\u8cc7\u6599\uff0c\u4e26\u6aa2\u67e5\u8cc7\u6599\u7684 shape (\u6709\u591a\u5c11 samples (rows), \u591a\u5c11 features (columns)\uff0clabel \u7684\u578b\u614b\u662f\u4ec0\u9ebc\uff1f)\n",
        "    - \u8b80\u53d6\u8cc7\u6599\u7684\u65b9\u6cd5\uff1a\n",
        "        - **\u4f7f\u7528 pandas \u8b80\u53d6 .csv \u6a94\uff1a**pd.read_csv\n",
        "        - **\u4f7f\u7528 numpy \u8b80\u53d6 .txt \u6a94\uff1a**np.loadtxt \n",
        "        - **\u4f7f\u7528 Scikit-learn \u5167\u5efa\u7684\u8cc7\u6599\u96c6\uff1a**sklearn.datasets.load_xxx\n",
        "    - **\u6aa2\u67e5\u8cc7\u6599\u6578\u91cf\uff1a**data.shape (data should be np.array or dataframe)\n",
        "2. \u5c07\u8cc7\u6599\u5207\u70ba\u8a13\u7df4 (train) / \u6e2c\u8a66 (test)\n",
        "    - train_test_split(data)\n",
        "3. \u5efa\u7acb\u6a21\u578b\uff0c\u5c07\u8cc7\u6599 fit \u9032\u6a21\u578b\u958b\u59cb\u8a13\u7df4\n",
        "    - clf = DecisionTreeClassifier()\n",
        "    - clf.fit(x_train, y_train)\n",
        "4. \u5c07\u6e2c\u8a66\u8cc7\u6599 (features) \u653e\u9032\u8a13\u7df4\u597d\u7684\u6a21\u578b\u4e2d\uff0c\u5f97\u5230 prediction\uff0c\u8207\u6e2c\u8a66\u8cc7\u6599\u7684 label (y_test) \u505a\u8a55\u4f30\n",
        "    - clf.predict(x_test)\n",
        "    - accuracy_score(y_test, y_pred)\n",
        "    - f1_score(y_test, y_pred)"
      ]
    },
    {
      "cell_type": "code",
      "execution_count": 2,
      "metadata": {},
      "outputs": [],
      "source": [
        "# \u8b80\u53d6\u9cf6\u5c3e\u82b1\u8cc7\u6599\u96c6\n",
        "iris = datasets.load_iris()\n",
        "\n",
        "# \u5207\u5206\u8a13\u7df4\u96c6/\u6e2c\u8a66\u96c6\n",
        "x_train, x_test, y_train, y_test = train_test_split(iris.data, iris.target, test_size=0.25, random_state=4)\n",
        "\n",
        "# \u5efa\u7acb\u6a21\u578b\n",
        "clf = DecisionTreeClassifier()\n",
        "\n",
        "# \u8a13\u7df4\u6a21\u578b\n",
        "clf.fit(x_train, y_train)\n",
        "\n",
        "# \u9810\u6e2c\u6e2c\u8a66\u96c6\n",
        "y_pred = clf.predict(x_test)"
      ]
    },
    {
      "cell_type": "code",
      "execution_count": 3,
      "metadata": {},
      "outputs": [
        {
          "name": "stdout",
          "output_type": "stream",
          "text": [
            "Acuuracy: 0.9736842105263158\n"
          ]
        }
      ],
      "source": [
        "acc = metrics.accuracy_score(y_test, y_pred)\n",
        "print('Acuuracy:', acc)"
      ]
    },
    {
      "cell_type": "code",
      "execution_count": 4,
      "metadata": {},
      "outputs": [
        {
          "name": "stdout",
          "output_type": "stream",
          "text": [
            "['sepal length (cm)', 'sepal width (cm)', 'petal length (cm)', 'petal width (cm)']\n"
          ]
        }
      ],
      "source": [
        "print(iris.feature_names)"
      ]
    },
    {
      "cell_type": "code",
      "execution_count": 5,
      "metadata": {},
      "outputs": [
        {
          "name": "stdout",
          "output_type": "stream",
          "text": [
            "Feature importance: [0.         0.01796599 0.05992368 0.92211033]\n"
          ]
        }
      ],
      "source": [
        "print('Feature importance:', clf.feature_importances_)"
      ]
    },
    {
      "cell_type": "markdown",
      "metadata": {},
      "source": [
        "## \u4f5c\u696d\n",
        "\n",
        "1. \u8a66\u8457\u8abf\u6574 DecisionTreeClassifier(...) \u4e2d\u7684\u53c3\u6578\uff0c\u4e26\u89c0\u5bdf\u662f\u5426\u6703\u6539\u8b8a\u7d50\u679c\uff1f\n",
        "2. \u6539\u7528\u5176\u4ed6\u8cc7\u6599\u96c6 (boston, wine)\uff0c\u4e26\u8207\u56de\u6b78\u6a21\u578b\u7684\u7d50\u679c\u9032\u884c\u6bd4\u8f03"
      ]
    },
    {
      "cell_type": "code",
      "execution_count": null,
      "metadata": {},
      "outputs": [],
      "source": []
    }
  ],
  "metadata": {
    "kernelspec": {
      "display_name": "Python 3",
      "language": "python",
      "name": "python3"
    },
    "language_info": {
      "codemirror_mode": {
        "name": "ipython",
        "version": 3
      },
      "file_extension": ".py",
      "mimetype": "text/x-python",
      "name": "python",
      "nbconvert_exporter": "python",
      "pygments_lexer": "ipython3",
      "version": "3.7.3"
    }
  },
  "nbformat": 4,
  "nbformat_minor": 2
}