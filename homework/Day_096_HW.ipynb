{
 "cells": [
  {
   "cell_type": "markdown",
   "metadata": {},
   "source": [
    "## 作業\n",
    "\n",
    "請閱讀 Keras 官方範例 [mnist_cnn.py](https://github.com/keras-team/keras/blob/master/examples/mnist_cnn.py)，並回答下列問題。\n",
    "\n",
    "僅有 70 行的程式碼，請確保每一行的程式碼你都能夠理解目的。\n",
    "\n",
    "1. 是否有對資料做標準化(Normalization)？如果有，在哪幾行？\n",
    "\n",
    "答：有，26 ~ 45 行\n",
    "\n",
    "2. 使用的優化器(Optimizer)為何？\n",
    "\n",
    "答：keras.optimizers.Adadelta\n",
    "\n",
    "3. 模型總共疊了幾層卷積層？\n",
    "\n",
    "答：2 層\n",
    "\n",
    "4. 模型的參數量是多少？\n",
    "\n",
    "答：1,199,882 個"
   ]
  },
  {
   "cell_type": "markdown",
   "metadata": {},
   "source": [
    "## 參考資料\n",
    "\n",
    "[卷积神经网络中的 Separable Convolution](https://yinguobing.com/separable-convolution/)\n",
    "\n",
    "[对深度可分离卷积、分组卷积、扩张卷积、转置卷积（反卷积）的理解](https://blog.csdn.net/chaolei3/article/details/79374563)\n",
    "\n",
    "[A Basic Introduction to Separable Convolutions](https://towardsdatascience.com/a-basic-introduction-to-separable-convolutions-b99ec3102728)\n",
    "\n",
    "[Xception: Deep Learning with Depthwise Separable Convolutions](https://www.icode9.com/content-4-93052.html)"
   ]
  },
  {
   "cell_type": "code",
   "execution_count": null,
   "metadata": {},
   "outputs": [],
   "source": []
  }
 ],
 "metadata": {
  "kernelspec": {
   "display_name": "Python 3",
   "language": "python",
   "name": "python3"
  },
  "language_info": {
   "codemirror_mode": {
    "name": "ipython",
    "version": 3
   },
   "file_extension": ".py",
   "mimetype": "text/x-python",
   "name": "python",
   "nbconvert_exporter": "python",
   "pygments_lexer": "ipython3",
   "version": "3.7.3"
  }
 },
 "nbformat": 4,
 "nbformat_minor": 2
}
