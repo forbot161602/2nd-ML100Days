{
  "cells": [
    {
      "cell_type": "markdown",
      "metadata": {},
      "source": [
        "## \u4f5c\u696d\u76ee\u6a19:\n",
        "    \u6aa2\u67e5 backend\n",
        "    \u6aa2\u67e5 fuzz factor\n",
        "    \u8a2d\u5b9a Keras \u6d6e\u9ede\u904b\u7b97\u70ba float16"
      ]
    },
    {
      "cell_type": "markdown",
      "metadata": {},
      "source": [
        "## \u53c3\u8003\u8cc7\u6599"
      ]
    },
    {
      "cell_type": "code",
      "execution_count": 1,
      "metadata": {},
      "outputs": [
        {
          "name": "stderr",
          "output_type": "stream",
          "text": [
            "Using TensorFlow backend.\n"
          ]
        }
      ],
      "source": [
        "import keras\n",
        "from keras import backend as K"
      ]
    },
    {
      "cell_type": "markdown",
      "metadata": {},
      "source": [
        "# fuzz factor\n",
        "\n",
        "\u6578\u503c\u8868\u9054\u5f0f\u4e2d\u4f7f\u7528\u7684\u6a21\u7cca\u56e0\u5b50\u3002\n",
        "\n",
        "\u6b64\u529f\u80fd\u662f\u4e00\u7d44 Keras \u5f8c\u7aef\u529f\u80fd\u7684\u4e00\u90e8\u5206\uff0c\u53ef\u4ee5\u5c0d\u5f8c\u7aef\u5f35\u91cf\u5f15\u64ce\uff08\u4f8b\u5982TensorFlow\u3001CNTK\u3001Theano...\u7b49\uff09\u7684\u6838\u5fc3\u64cd\u4f5c\u9032\u884c\u66f4\u4f4e\u7d1a\u5225\u7684\u8a2a\u554f\u3002"
      ]
    },
    {
      "cell_type": "code",
      "execution_count": 2,
      "metadata": {},
      "outputs": [
        {
          "name": "stdout",
          "output_type": "stream",
          "text": [
            "2.2.4\n"
          ]
        }
      ],
      "source": [
        "print(keras.__version__)"
      ]
    },
    {
      "cell_type": "code",
      "execution_count": 3,
      "metadata": {},
      "outputs": [
        {
          "data": {
            "text/plain": [
              "True"
            ]
          },
          "execution_count": 3,
          "metadata": {},
          "output_type": "execute_result"
        }
      ],
      "source": [
        "# GPU\u52a0\u901f\u6d4b\u8bd5: Windows\u7528\u6236\u5f97\u5230 True \u4e5f\u6c92\u6709\u95dc\u4fc2\uff0c\u56e0\u70ba Anaconda \u4e2d\u5df2\u7d93\u5167\u7f6e\u4e86 MKL \u52a0\u901f\u5eab\n",
        "import numpy\n",
        "id(numpy.dot) == id(numpy.core.multiarray.dot)"
      ]
    },
    {
      "cell_type": "code",
      "execution_count": 4,
      "metadata": {},
      "outputs": [
        {
          "data": {
            "text/plain": [
              "'float16'"
            ]
          },
          "execution_count": 4,
          "metadata": {},
          "output_type": "execute_result"
        }
      ],
      "source": [
        "# \u6aa2\u67e5 Keras float \n",
        "K.floatx()"
      ]
    },
    {
      "cell_type": "code",
      "execution_count": null,
      "metadata": {},
      "outputs": [],
      "source": []
    }
  ],
  "metadata": {
    "kernelspec": {
      "display_name": "Python 3",
      "language": "python",
      "name": "python3"
    },
    "language_info": {
      "codemirror_mode": {
        "name": "ipython",
        "version": 3
      },
      "file_extension": ".py",
      "mimetype": "text/x-python",
      "name": "python",
      "nbconvert_exporter": "python",
      "pygments_lexer": "ipython3",
      "version": "3.7.3"
    }
  },
  "nbformat": 4,
  "nbformat_minor": 2
}