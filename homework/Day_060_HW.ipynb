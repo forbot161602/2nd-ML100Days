{
 "cells": [
  {
   "cell_type": "markdown",
   "metadata": {},
   "source": [
    "# 使用手寫辨識資料集, 觀察 PCA 算法"
   ]
  },
  {
   "cell_type": "markdown",
   "metadata": {},
   "source": [
    "# [作業目標]\n",
    "- 試著模仿範例寫法, 以變更參數後的 PCA + 邏輯斯迴歸判斷手寫辨識資料集, 觀察不同 component 下正確率的變化"
   ]
  },
  {
   "cell_type": "markdown",
   "metadata": {},
   "source": [
    "# [作業重點]\n",
    "- 以手寫辨識資料集, 觀察變更參數後的 PCA 算法, 在取不同 component 時, PCA 解釋度與分類正確率如何變化 (In[5], Out[5])"
   ]
  },
  {
   "cell_type": "code",
   "execution_count": 1,
   "metadata": {},
   "outputs": [],
   "source": [
    "# 載入套件\n",
    "import warnings\n",
    "import numpy as np\n",
    "import pandas as pd\n",
    "import matplotlib.pyplot as plt\n",
    "\n",
    "from sklearn import datasets\n",
    "from sklearn.pipeline import Pipeline\n",
    "from sklearn.linear_model import SGDClassifier\n",
    "from sklearn.model_selection import GridSearchCV\n",
    "from sklearn.decomposition import PCA\n",
    "warnings.filterwarnings('ignore')"
   ]
  },
  {
   "cell_type": "code",
   "execution_count": 2,
   "metadata": {},
   "outputs": [
    {
     "name": "stdout",
     "output_type": "stream",
     "text": [
      "X:\n",
      " [[ 0.  0.  5. 13.  9.  1.  0.  0.  0.  0. 13. 15. 10. 15.  5.  0.  0.  3.\n",
      "  15.  2.  0. 11.  8.  0.  0.  4. 12.  0.  0.  8.  8.  0.  0.  5.  8.  0.\n",
      "   0.  9.  8.  0.  0.  4. 11.  0.  1. 12.  7.  0.  0.  2. 14.  5. 10. 12.\n",
      "   0.  0.  0.  0.  6. 13. 10.  0.  0.  0.]\n",
      " [ 0.  0.  0. 12. 13.  5.  0.  0.  0.  0.  0. 11. 16.  9.  0.  0.  0.  0.\n",
      "   3. 15. 16.  6.  0.  0.  0.  7. 15. 16. 16.  2.  0.  0.  0.  0.  1. 16.\n",
      "  16.  3.  0.  0.  0.  0.  1. 16. 16.  6.  0.  0.  0.  0.  1. 16. 16.  6.\n",
      "   0.  0.  0.  0.  0. 11. 16. 10.  0.  0.]\n",
      " [ 0.  0.  0.  4. 15. 12.  0.  0.  0.  0.  3. 16. 15. 14.  0.  0.  0.  0.\n",
      "   8. 13.  8. 16.  0.  0.  0.  0.  1.  6. 15. 11.  0.  0.  0.  1.  8. 13.\n",
      "  15.  1.  0.  0.  0.  9. 16. 16.  5.  0.  0.  0.  0.  3. 13. 16. 16. 11.\n",
      "   5.  0.  0.  0.  0.  3. 11. 16.  9.  0.]]\n",
      "\n",
      "y:\n",
      " [0 1 2 3 4 5 6 7 8 9]\n",
      "\n",
      "unique y:\n",
      " [0 1 2 3 4 5 6 7 8 9]\n"
     ]
    }
   ],
   "source": [
    "# 載入手寫數字辨識集\n",
    "digits = datasets.load_digits()\n",
    "X = digits.data\n",
    "y = digits.target\n",
    "print('X:\\n', X[:3])\n",
    "print()\n",
    "print('y:\\n', y[:10])\n",
    "print()\n",
    "print('unique y:\\n', np.unique(y))"
   ]
  },
  {
   "cell_type": "markdown",
   "metadata": {},
   "source": [
    "# 作業\n",
    "* 將參數 penalty 改為 L1, max_iter 改為 100, 觀察 PCA 與邏輯斯迴歸做手寫辨識的效果"
   ]
  },
  {
   "cell_type": "code",
   "execution_count": 3,
   "metadata": {},
   "outputs": [
    {
     "name": "stdout",
     "output_type": "stream",
     "text": [
      "Best parameter (CV score=0.911): {'logistic__alpha': 0.01, 'pca__n_components': 30}\n"
     ]
    }
   ],
   "source": [
    "# 定義 PCA 與隨後的邏輯斯迴歸函數，並執行 GridSearchCV 跑出最佳參數\n",
    "pca = PCA()\n",
    "pca.fit(X)\n",
    "pipe = Pipeline(steps=[\n",
    "    ('pca', PCA(),),\n",
    "    ('logistic', SGDClassifier(loss='log', penalty='l1', max_iter=100, tol=1e-5, random_state=0),)\n",
    "])\n",
    "param_grid = {\n",
    "    'pca__n_components': [4, 10, 20, 30, 40, 50, 64],\n",
    "    'logistic__alpha': np.logspace(-4, 4, 5),\n",
    "}\n",
    "search = GridSearchCV(pipe, param_grid, cv=5, iid=False, return_train_score=False)\n",
    "search.fit(X, y)\n",
    "print('Best parameter (CV score={:.3f}): {}'.format(search.best_score_, search.best_params_))"
   ]
  },
  {
   "cell_type": "code",
   "execution_count": 4,
   "metadata": {},
   "outputs": [
    {
     "data": {
      "text/html": [
       "<div>\n",
       "<style scoped>\n",
       "    .dataframe tbody tr th:only-of-type {\n",
       "        vertical-align: middle;\n",
       "    }\n",
       "\n",
       "    .dataframe tbody tr th {\n",
       "        vertical-align: top;\n",
       "    }\n",
       "\n",
       "    .dataframe thead th {\n",
       "        text-align: right;\n",
       "    }\n",
       "</style>\n",
       "<table border=\"1\" class=\"dataframe\">\n",
       "  <thead>\n",
       "    <tr style=\"text-align: right;\">\n",
       "      <th></th>\n",
       "      <th>mean_fit_time</th>\n",
       "      <th>std_fit_time</th>\n",
       "      <th>mean_score_time</th>\n",
       "      <th>std_score_time</th>\n",
       "      <th>param_logistic__alpha</th>\n",
       "      <th>param_pca__n_components</th>\n",
       "      <th>params</th>\n",
       "      <th>split0_test_score</th>\n",
       "      <th>split1_test_score</th>\n",
       "      <th>split2_test_score</th>\n",
       "      <th>split3_test_score</th>\n",
       "      <th>split4_test_score</th>\n",
       "      <th>mean_test_score</th>\n",
       "      <th>std_test_score</th>\n",
       "      <th>rank_test_score</th>\n",
       "    </tr>\n",
       "  </thead>\n",
       "  <tbody>\n",
       "    <tr>\n",
       "      <th>0</th>\n",
       "      <td>0.116435</td>\n",
       "      <td>0.014882</td>\n",
       "      <td>0.000800</td>\n",
       "      <td>0.000400</td>\n",
       "      <td>0.0001</td>\n",
       "      <td>4</td>\n",
       "      <td>{'logistic__alpha': 0.0001, 'pca__n_components...</td>\n",
       "      <td>0.750000</td>\n",
       "      <td>0.599448</td>\n",
       "      <td>0.693593</td>\n",
       "      <td>0.697479</td>\n",
       "      <td>0.608451</td>\n",
       "      <td>0.669794</td>\n",
       "      <td>0.057406</td>\n",
       "      <td>14</td>\n",
       "    </tr>\n",
       "    <tr>\n",
       "      <th>1</th>\n",
       "      <td>0.124563</td>\n",
       "      <td>0.018934</td>\n",
       "      <td>0.000800</td>\n",
       "      <td>0.000400</td>\n",
       "      <td>0.0001</td>\n",
       "      <td>10</td>\n",
       "      <td>{'logistic__alpha': 0.0001, 'pca__n_components...</td>\n",
       "      <td>0.906593</td>\n",
       "      <td>0.853591</td>\n",
       "      <td>0.888579</td>\n",
       "      <td>0.887955</td>\n",
       "      <td>0.836620</td>\n",
       "      <td>0.874668</td>\n",
       "      <td>0.025617</td>\n",
       "      <td>12</td>\n",
       "    </tr>\n",
       "    <tr>\n",
       "      <th>2</th>\n",
       "      <td>0.151645</td>\n",
       "      <td>0.017342</td>\n",
       "      <td>0.000800</td>\n",
       "      <td>0.000400</td>\n",
       "      <td>0.0001</td>\n",
       "      <td>20</td>\n",
       "      <td>{'logistic__alpha': 0.0001, 'pca__n_components...</td>\n",
       "      <td>0.923077</td>\n",
       "      <td>0.870166</td>\n",
       "      <td>0.896936</td>\n",
       "      <td>0.943978</td>\n",
       "      <td>0.890141</td>\n",
       "      <td>0.904859</td>\n",
       "      <td>0.025866</td>\n",
       "      <td>5</td>\n",
       "    </tr>\n",
       "    <tr>\n",
       "      <th>3</th>\n",
       "      <td>0.164826</td>\n",
       "      <td>0.036825</td>\n",
       "      <td>0.001000</td>\n",
       "      <td>0.000632</td>\n",
       "      <td>0.0001</td>\n",
       "      <td>30</td>\n",
       "      <td>{'logistic__alpha': 0.0001, 'pca__n_components...</td>\n",
       "      <td>0.920330</td>\n",
       "      <td>0.870166</td>\n",
       "      <td>0.922006</td>\n",
       "      <td>0.955182</td>\n",
       "      <td>0.878873</td>\n",
       "      <td>0.909311</td>\n",
       "      <td>0.031130</td>\n",
       "      <td>2</td>\n",
       "    </tr>\n",
       "    <tr>\n",
       "      <th>4</th>\n",
       "      <td>0.167588</td>\n",
       "      <td>0.029473</td>\n",
       "      <td>0.001199</td>\n",
       "      <td>0.000400</td>\n",
       "      <td>0.0001</td>\n",
       "      <td>40</td>\n",
       "      <td>{'logistic__alpha': 0.0001, 'pca__n_components...</td>\n",
       "      <td>0.903846</td>\n",
       "      <td>0.848066</td>\n",
       "      <td>0.938719</td>\n",
       "      <td>0.946779</td>\n",
       "      <td>0.904225</td>\n",
       "      <td>0.908327</td>\n",
       "      <td>0.034844</td>\n",
       "      <td>4</td>\n",
       "    </tr>\n",
       "  </tbody>\n",
       "</table>\n",
       "</div>"
      ],
      "text/plain": [
       "   mean_fit_time  std_fit_time  mean_score_time  std_score_time  \\\n",
       "0       0.116435      0.014882         0.000800        0.000400   \n",
       "1       0.124563      0.018934         0.000800        0.000400   \n",
       "2       0.151645      0.017342         0.000800        0.000400   \n",
       "3       0.164826      0.036825         0.001000        0.000632   \n",
       "4       0.167588      0.029473         0.001199        0.000400   \n",
       "\n",
       "  param_logistic__alpha param_pca__n_components  \\\n",
       "0                0.0001                       4   \n",
       "1                0.0001                      10   \n",
       "2                0.0001                      20   \n",
       "3                0.0001                      30   \n",
       "4                0.0001                      40   \n",
       "\n",
       "                                              params  split0_test_score  \\\n",
       "0  {'logistic__alpha': 0.0001, 'pca__n_components...           0.750000   \n",
       "1  {'logistic__alpha': 0.0001, 'pca__n_components...           0.906593   \n",
       "2  {'logistic__alpha': 0.0001, 'pca__n_components...           0.923077   \n",
       "3  {'logistic__alpha': 0.0001, 'pca__n_components...           0.920330   \n",
       "4  {'logistic__alpha': 0.0001, 'pca__n_components...           0.903846   \n",
       "\n",
       "   split1_test_score  split2_test_score  split3_test_score  split4_test_score  \\\n",
       "0           0.599448           0.693593           0.697479           0.608451   \n",
       "1           0.853591           0.888579           0.887955           0.836620   \n",
       "2           0.870166           0.896936           0.943978           0.890141   \n",
       "3           0.870166           0.922006           0.955182           0.878873   \n",
       "4           0.848066           0.938719           0.946779           0.904225   \n",
       "\n",
       "   mean_test_score  std_test_score  rank_test_score  \n",
       "0         0.669794        0.057406               14  \n",
       "1         0.874668        0.025617               12  \n",
       "2         0.904859        0.025866                5  \n",
       "3         0.909311        0.031130                2  \n",
       "4         0.908327        0.034844                4  "
      ]
     },
     "execution_count": 4,
     "metadata": {},
     "output_type": "execute_result"
    }
   ],
   "source": [
    "search_results = pd.DataFrame(search.cv_results_)\n",
    "search_results.head()"
   ]
  },
  {
   "cell_type": "code",
   "execution_count": 5,
   "metadata": {},
   "outputs": [
    {
     "data": {
      "image/png": "[encoded data removed]",
      "text/plain": [
       "<Figure size 432x288 with 1 Axes>"
      ]
     },
     "metadata": {
      "needs_background": "light"
     },
     "output_type": "display_data"
    }
   ],
   "source": [
    "# 繪製不同 components 的 PCA 解釋度\n",
    "plt.plot(pca.explained_variance_ratio_, linewidth=2)\n",
    "plt.axvline(search.best_estimator_.named_steps['pca'].n_components, linestyle=':', label='n_components chosen')\n",
    "plt.ylabel('PCA explained variance')\n",
    "plt.legend(prop=dict(size=12))\n",
    "plt.show()"
   ]
  },
  {
   "cell_type": "code",
   "execution_count": 6,
   "metadata": {},
   "outputs": [
    {
     "data": {
      "image/png": "[encoded data removed]",
      "text/plain": [
       "<Figure size 432x288 with 1 Axes>"
      ]
     },
     "metadata": {
      "needs_background": "light"
     },
     "output_type": "display_data"
    }
   ],
   "source": [
    "# 繪製不同採樣點的分類預測正確率\n",
    "best_clfs = search_results.groupby('param_pca__n_components').apply(lambda x: x.nlargest(1, 'mean_test_score'))\n",
    "best_clfs.plot(x='param_pca__n_components', y='mean_test_score', yerr='std_test_score', legend=False)\n",
    "plt.xlabel('n_components')\n",
    "plt.ylabel('classification accuracy (val)')\n",
    "plt.show()"
   ]
  },
  {
   "cell_type": "code",
   "execution_count": null,
   "metadata": {
    "collapsed": true
   },
   "outputs": [],
   "source": []
  }
 ],
 "metadata": {
  "kernelspec": {
   "display_name": "Python 3",
   "language": "python",
   "name": "python3"
  },
  "language_info": {
   "codemirror_mode": {
    "name": "ipython",
    "version": 3
   },
   "file_extension": ".py",
   "mimetype": "text/x-python",
   "name": "python",
   "nbconvert_exporter": "python",
   "pygments_lexer": "ipython3",
   "version": "3.7.3"
  }
 },
 "nbformat": 4,
 "nbformat_minor": 1
}
