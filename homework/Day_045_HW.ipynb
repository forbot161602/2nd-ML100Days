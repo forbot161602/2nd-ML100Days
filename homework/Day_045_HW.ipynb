{
  "cells": [
    {
      "cell_type": "markdown",
      "metadata": {},
      "source": [
        "\u672c\u6b21\u4f5c\u696d\u8981\u6c42\u95b1\u8b80\u6587\u737b\u3002\n",
        "\n",
        "### Ensemble\n",
        "\n",
        "[\u5b8c\u6574\u7684 Ensemble \u6982\u5ff5 by \u674e\u5b8f\u6bc5\u6559\u6388](https://www.youtube.com/watch?v=tH9FH1DH5n0)\n",
        "\n",
        "### \u68af\u5ea6\u63d0\u5347\u6a5f\u539f\u7406\n",
        "\n",
        "[GBDT\ufe30\u68af\u5ea6\u63d0\u5347\u6c7a\u7b56\u6a39](https://ifun01.com/84A3FW7.html)\n",
        "\n",
        "[How to explain gradient boosting](https://explained.ai/gradient-boosting/index.html)\n",
        "\n",
        "[A Kaggle Master Explains Gradient Boosting](http://blog.kaggle.com/2017/01/23/a-kaggle-master-explains-gradient-boosting/)\n",
        "\n",
        "### XGboost\n",
        "\n",
        "[XGboost \u8b1b\u89e3\u539f\u7406 - Learn from Its Author, Tong He](https://www.youtube.com/watch?v=ufHo8vbk6g4)\n",
        "\n",
        "[XGBoost \u6578\u5b78\u539f\u7406 - Introduction to Boosted Trees, Tianqi Chen](https://homes.cs.washington.edu/~tqchen/pdf/BoostedTree.pdf)\n"
      ]
    },
    {
      "cell_type": "code",
      "execution_count": null,
      "metadata": {},
      "outputs": [],
      "source": []
    }
  ],
  "metadata": {
    "kernelspec": {
      "display_name": "Python 3",
      "language": "python",
      "name": "python3"
    },
    "language_info": {
      "codemirror_mode": {
        "name": "ipython",
        "version": 3
      },
      "file_extension": ".py",
      "mimetype": "text/x-python",
      "name": "python",
      "nbconvert_exporter": "python",
      "pygments_lexer": "ipython3",
      "version": "3.7.3"
    }
  },
  "nbformat": 4,
  "nbformat_minor": 2
}