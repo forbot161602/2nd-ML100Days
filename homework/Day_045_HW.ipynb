{
 "cells": [
  {
   "cell_type": "markdown",
   "metadata": {},
   "source": [
    "### 參考資料\n",
    "\n",
    "#### 集成(Ensemble)\n",
    "\n",
    "[ML Lecture 22: Ensemble (by 李宏毅教授)](https://www.youtube.com/watch?v=tH9FH1DH5n0)\n",
    "\n",
    "#### GBDT 原理\n",
    "\n",
    "[GBDT︰梯度提升決策樹](https://ifun01.com/84A3FW7.html)\n",
    "\n",
    "[How to explain gradient boosting](https://explained.ai/gradient-boosting/index.html)\n",
    "\n",
    "[A Kaggle Master Explains Gradient Boosting](http://blog.kaggle.com/2017/01/23/a-kaggle-master-explains-gradient-boosting/)\n",
    "\n",
    "#### XGboost 原理\n",
    "\n",
    "[Kaggle Winning Solution Xgboost Algorithm - Learn from Its Author, Tong He](https://www.youtube.com/watch?v=ufHo8vbk6g4)\n",
    "\n",
    "[Introduction to Boosted Trees, Tianqi Chen](https://homes.cs.washington.edu/~tqchen/pdf/BoostedTree.pdf)\n"
   ]
  },
  {
   "cell_type": "code",
   "execution_count": null,
   "metadata": {},
   "outputs": [],
   "source": []
  }
 ],
 "metadata": {
  "kernelspec": {
   "display_name": "Python 3",
   "language": "python",
   "name": "python3"
  },
  "language_info": {
   "codemirror_mode": {
    "name": "ipython",
    "version": 3
   },
   "file_extension": ".py",
   "mimetype": "text/x-python",
   "name": "python",
   "nbconvert_exporter": "python",
   "pygments_lexer": "ipython3",
   "version": "3.7.3"
  }
 },
 "nbformat": 4,
 "nbformat_minor": 2
}
