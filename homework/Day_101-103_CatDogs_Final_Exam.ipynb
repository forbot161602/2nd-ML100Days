{
  "cells": [
    {
      "cell_type": "markdown",
      "metadata": {},
      "source": [
        "## \u6a5f\u5668\u5b78\u7fd2\u767e\u65e5\u99ac\u62c9\u677e\u671f\u672b\u8003\u2014\u2014\u8c93\u72d7\u5716\u50cf\u5206\u985e\u7af6\u8cfd\n",
        "\n",
        "#### Overview\n",
        "\n",
        "\u8c93\u8207\u72d7\u4e00\u76f4\u90fd\u662f\u4eba\u985e\u6700\u91cd\u8981\u7684\u5925\u4f34\uff0c\u7121\u8ad6\u4f60\u662f\u72d7\u6d3e\u9084\u662f\u8c93\u6d3e\uff0c\u70ba\u81ea\u5df1\u8a13\u7df4\u4e00\u500b CNN \u6a21\u578b\u4f86\u5206\u8fa8\u8c93\u72d7\u5427\uff01\u8c93\u72d7\u8fa8\u8b58\u4e4b\u524d\u662f\u5728 Kaggle \u4e0a\u71b1\u9580\u7684\u7af6\u8cfd\u4e4b\u4e00\uff0c\u975e\u5e38\u9069\u5408\u525b\u5b78\u7fd2\u5b8c\u5377\u7a4d\u795e\u7d93\u7db2\u8def\u7684\u540c\u5b78\u505a\u7df4\u7fd2\u3002\u5728\u672c\u6b21\u7684\u671f\u672b\u8003\uff0c\u540c\u5b78\u6703\u9700\u8981\u61c9\u7528\u9019\u4e00\u767e\u65e5\u4e2d\u6240\u5b78\u5230\u7684\u6a5f\u5668\u5b78\u7fd2\u77e5\u8b58\uff0c\u4f86\u5b8c\u6210\u9019\u9805\u6311\u6230\uff01\n",
        "\n",
        "\u95dc\u9375\u554f\u984c\uff1a\n",
        "\n",
        "\u5982\u679c\u4f60\u662f\u7b2c\u4e00\u6b21\u5be6\u4f5c\u6a5f\u5668\u5b78\u7fd2\u5c08\u6848\uff0c\u4e00\u958b\u59cb\u53ef\u80fd\u6703\u6709\u4e9b\u8ff7\u60d8\uff0c\u4e0d\u66c9\u5f97\u8a72\u5f9e\u4f55\u8457\u624b\uff0c\u6211\u5011\u63d0\u4f9b\u4e86\u4e00\u7cfb\u5217\u7684\u554f\u984c\uff0c\u9019\u4e9b\u90fd\u662f\u4e00\u500b\u6a5f\u5668\u5b78\u7fd2\u5c08\u6848\u4e2d\u5fc5\u9808\u8981\u56de\u7b54\u7684\u554f\u984c\uff0c\u53ef\u4ee5\u8a66\u8457\u5f9e\u56de\u7b54\u4ee5\u4e0b\u7684\u554f\u984c\u958b\u59cb\uff01\n",
        "\n",
        "- \u5f71\u50cf\u7684\u6578\u91cf\u8207\u985e\u5225\u70ba\u4f55\uff1f\u5f71\u50cf\u7684\u5c3a\u5bf8\u90fd\u4e00\u81f4\u55ce\uff1f\u662f\u5426\u9700\u8981\u7e2e\u653e\uff1f\n",
        "- \u8cc7\u6599\u4e2d\u6709\u6c92\u6709\u53ef\u80fd\u5b58\u5728\u4e00\u4e9b\u566a\u97f3\uff1f\u8a72\u5982\u4f55\u627e\u51fa\u9019\u4e9b\u566a\u97f3\uff1f\n",
        "- \u5f71\u50cf\u9001\u9032\u7db2\u8def\u524d\u662f\u5426\u9700\u8981\u9032\u884c\u524d\u8655\u7406\uff1f\u8a72\u600e\u9ebc\u505a\uff1f\n",
        "- \u795e\u7d93\u7db2\u8def\u8a72\u600e\u9ebc\u642d\u5efa\uff0c\u6709\u4ec0\u9ebc\u9700\u8981\u8abf\u6574\u7684\u8d85\u53c3\u6578\uff1f\n",
        "- \u8d85\u53c3\u6578\u8abf\u6574\u7684\u6b65\u9a5f\u70ba\u4f55\uff1f\n",
        "- \u5982\u4f55\u9032\u884c\u8a13\u7df4\u96c6/\u6e2c\u8a66\u96c6\u7684\u5207\u5206\u4f86\u9a57\u8b49\u6a21\u578b\u7684\u7d50\u679c\uff1f\n",
        "\n",
        "\u5c08\u6848\u7d50\u675f\u5f8c\u4f60\u53ef\u4ee5\u5b78\u6703\uff1a\n",
        "\n",
        "- \u5982\u4f55\u8655\u7406\u5b58\u5728\u5404\u7a2e\u7f3a\u9677\u7684\u771f\u5be6\u8cc7\u6599\n",
        "- \u4f7f\u7528 val/test data \u4f86\u4e86\u89e3\u6a5f\u5668\u5b78\u7fd2\u6a21\u578b\u7684\u8a13\u7df4\u60c5\u5f62\n",
        "- \u4f7f\u7528\u9069\u7576\u7684\u8a55\u4f30\u51fd\u6578\u4e86\u89e3\u9810\u6e2c\u7d50\u679c\n",
        "- \u61c9\u7528\u9069\u7576\u7684\u7279\u5fb5\u5de5\u7a0b\u63d0\u5347\u6a21\u578b\u7684\u6e96\u78ba\u7387\n",
        "- \u8abf\u6574\u6a5f\u5668\u5b78\u7fd2\u6a21\u578b\u7684\u8d85\u53c3\u6578\u4f86\u63d0\u5347\u6e96\u78ba\u7387\n",
        "- \u6e05\u695a\u7684\u8aaa\u660e\u6587\u4ef6\u8b93\u5225\u4eba\u4e86\u89e3\u4f60\u7684\u6210\u679c\n",
        "\n",
        "#### Evaluation\n",
        "\n",
        "\u8a55\u4f30\u6307\u6a19\u70ba AUC\uff0c\u8acb\u53c3\u8003 Data \u4e2d\u7684 submission.csv\uff0c\u5c07\u6e2c\u8a66\u8cc7\u6599\u7684\u9810\u6e2c\u7d50\u679c\u4e0a\u50b3\u3002\n",
        "\n",
        "\u975e\u5e38\u91cd\u8981\uff1a\n",
        "\n",
        "\u8acb\u628a\u8c93\u7684\u985e\u5225\u8996\u70ba 1\uff0c\u72d7\u7684\u985e\u5225\u8996\u70ba 0\uff0c\u4e5f\u5c31\u662f\u8aaa\u5047\u8a2d\u5f71\u50cf\u662f \\[\u8c93, \u8c93, \u72d7, \u8c93, \u72d7\\], \u985e\u5225\u6a19\u8a3b\u5c31\u6703\u662f \\[1, 1, 0, 1, 0\\]\uff0c\u8acb\u7528 \\[1, 1, 0, 1, 0\\] \u9019\u500b list \u53bb\u505a one-hot encoding\uff0c\u6700\u5f8c\u4e0a\u50b3\u7b54\u6848\u6642\uff0c\u8acb\u4e0a\u50b3\u9810\u6e2c\u70ba\u300c\u8c93\u300d\u7684\u6a5f\u7387\u503c\u5594\uff01\u4e5f\u5c31\u662f\u4f7f\u7528\uff1a\n",
        "```\n",
        "y_pred = model.predict(image)[:, 1]\n",
        "```\n",
        "\u6ce8\u610f\u53ea\u80fd\u6709\u5169\u500b column\uff0c\u4e14\u6b04\u4f4d\u540d\u7a31\u8981\u5b8c\u5168\u76f8\u540c(\u7c97\u9ad4\u5b57)\uff0c\u5206\u5225\u70ba ID(\u5f71\u50cf\u7de8\u865f\uff1a001, 002, ..., 400)\u3001Predicted(\u9810\u6e2c\u6a5f\u7387\u503c)\uff0c\u4e0a\u50b3\u5f8c\u7cfb\u7d71\u6703\u81ea\u52d5\u5e6b\u60a8\u8a08\u7b97 AUC \u5206\u6578\u4e26\u9032\u884c\u6392\u540d\u3002\u672c\u6b21\u671f\u4e2d\u8003 Public score \u5c31\u662f\u6700\u7d42\u7d50\u679c\uff0c\u8acb\u81f3\u5c11\u8d85\u904e baseline \u4f86\u5b8c\u6210\u9019\u6b21\u7684\u8003\u8a66\u3002\n",
        "\n",
        "#### Reference\n",
        "\n",
        "[ml100marathon-02-02: Final exam for ML 100 marathon by Cupoy](https://www.kaggle.com/c/ml-marathon-final/overview)\n",
        "\n",
        "[ml100marathon-02-02: Baseline example](https://www.kaggle.com/lcc1106/cats-dogs-classification)"
      ]
    },
    {
      "cell_type": "markdown",
      "metadata": {},
      "source": [
        "## \u6e96\u5099\u8cc7\u6599"
      ]
    },
    {
      "cell_type": "code",
      "execution_count": 1,
      "metadata": {},
      "outputs": [
        {
          "name": "stdout",
          "output_type": "stream",
          "text": [
            "TensorFlow version: 2.1.0\n"
          ]
        }
      ],
      "source": [
        "import os\n",
        "import numpy as np\n",
        "import pandas as pd\n",
        "import matplotlib.pyplot as plt\n",
        "from skimage.io import imread\n",
        "from skimage.transform import resize\n",
        "from sklearn.metrics import roc_curve, auc\n",
        "from sklearn.model_selection import train_test_split\n",
        "from tqdm.notebook import tqdm\n",
        "\n",
        "import tensorflow as tf\n",
        "from tensorflow.keras import utils, backend\n",
        "from tensorflow.keras.models import Model, load_model\n",
        "from tensorflow.keras.layers import Input, Dense, Flatten, Dropout\n",
        "from tensorflow.keras.optimizers import Adam\n",
        "from tensorflow.keras.callbacks import ModelCheckpoint, EarlyStopping, ReduceLROnPlateau\n",
        "from tensorflow.keras.preprocessing.image import ImageDataGenerator\n",
        "from tensorflow.keras.applications.resnet50 import ResNet50\n",
        "\n",
        "print(f'TensorFlow version: {tf.__version__}')"
      ]
    },
    {
      "cell_type": "code",
      "execution_count": 2,
      "metadata": {},
      "outputs": [],
      "source": [
        "data_path = './data/part08'\n",
        "data_path_test = f'{data_path}/catdogs/test'\n",
        "data_path_train = f'{data_path}/catdogs/train'\n",
        "model_path_train = f'{data_path}/catdogs_model.h5'\n",
        "ndarray_path_X_train = f'{data_path}/catdogs_x_train.npy'\n",
        "ndarray_path_y_train = f'{data_path}/catdogs_y_train.npy'\n",
        "ndarray_path_X_test = f'{data_path}/catdogs_x_test.npy'\n",
        "ndarray_path_X_test_name = f'{data_path}/catdogs_x_test_name.npy'\n",
        "csv_path_sample = f'{data_path}/catdogs_sample_submission.csv'\n",
        "csv_path_result = f'./output/Day_101-103_CatDogs_Final_Exam.csv'\n",
        "\n",
        "image_sizes = (224, 224,)\n",
        "image_label_dict = {'dogs': 0, 'cats': 1}"
      ]
    },
    {
      "cell_type": "markdown",
      "metadata": {},
      "source": [
        "### 1. \u8b80\u53d6\u5716\u7247\u6a94(\u57f7\u884c\u4e00\u6b21\u5373\u53ef)"
      ]
    },
    {
      "cell_type": "code",
      "execution_count": 3,
      "metadata": {},
      "outputs": [],
      "source": [
        "def make_test_data(data_path, image_sizes):\n",
        "    X_test = np.empty([0, *image_sizes, 3])\n",
        "    X_test_name = np.empty([0], dtype='object')\n",
        "    for file_name in tqdm(os.listdir(data_path)):\n",
        "        image = imread(f'{data_path}/{file_name}')\n",
        "        image = resize(image, image_sizes, anti_aliasing=True)[np.newaxis, :, :, :]\n",
        "        X_test = np.concatenate((X_test, image,), axis=0)\n",
        "        X_test_name = np.append(X_test_name, file_name.rstrip('.jpg'))\n",
        "    return X_test, X_test_name\n",
        "\n",
        "def make_train_data(data_path, image_sizes, label_dict):\n",
        "    X_train = np.empty([0, *image_sizes, 3])\n",
        "    y_train = np.empty([0])\n",
        "    for image_name in os.listdir(data_path):\n",
        "        image_path = f'{data_path}/{image_name}'\n",
        "        image_label = label_dict[image_name]\n",
        "        for file_name in tqdm(os.listdir(image_path)):\n",
        "            image = imread(f'{image_path}/{file_name}')\n",
        "            image = resize(image, image_sizes, anti_aliasing=True)[np.newaxis, :, :, :]\n",
        "            X_train = np.concatenate((X_train, image,), axis=0)\n",
        "            y_train = np.concatenate((y_train, [image_label],), axis=0)\n",
        "    return X_train, y_train"
      ]
    },
    {
      "cell_type": "code",
      "execution_count": 4,
      "metadata": {},
      "outputs": [
        {
          "data": {
            "application/vnd.jupyter.widget-view+json": {
              "model_id": "aa4c354612cf4708863a8ae5c15d648a",
              "version_major": 2,
              "version_minor": 0
            },
            "text/plain": [
              "HBox(children=(FloatProgress(value=0.0, max=2000.0), HTML(value='')))"
            ]
          },
          "metadata": {},
          "output_type": "display_data"
        },
        {
          "name": "stdout",
          "output_type": "stream",
          "text": [
            "\n"
          ]
        },
        {
          "data": {
            "application/vnd.jupyter.widget-view+json": {
              "model_id": "b3c6516b3d72449e91d3fdea64559547",
              "version_major": 2,
              "version_minor": 0
            },
            "text/plain": [
              "HBox(children=(FloatProgress(value=0.0, max=2000.0), HTML(value='')))"
            ]
          },
          "metadata": {},
          "output_type": "display_data"
        },
        {
          "name": "stdout",
          "output_type": "stream",
          "text": [
            "\n"
          ]
        }
      ],
      "source": [
        "X_train, y_train = make_train_data(data_path_train, image_sizes, image_label_dict)\n",
        "np.save(ndarray_path_X_train, X_train)\n",
        "np.save(ndarray_path_y_train, y_train)"
      ]
    },
    {
      "cell_type": "code",
      "execution_count": 5,
      "metadata": {},
      "outputs": [
        {
          "data": {
            "application/vnd.jupyter.widget-view+json": {
              "model_id": "9e7bfc4fe2ca476cae8a32e256ae81e1",
              "version_major": 2,
              "version_minor": 0
            },
            "text/plain": [
              "HBox(children=(FloatProgress(value=0.0, max=400.0), HTML(value='')))"
            ]
          },
          "metadata": {},
          "output_type": "display_data"
        },
        {
          "name": "stdout",
          "output_type": "stream",
          "text": [
            "\n"
          ]
        }
      ],
      "source": [
        "X_test, X_test_name = make_test_data(data_path_test, image_sizes)\n",
        "np.save(ndarray_path_X_test, X_test)\n",
        "np.save(ndarray_path_X_test_name, X_test_name)"
      ]
    },
    {
      "cell_type": "markdown",
      "metadata": {},
      "source": [
        "### 2. \u8b80\u53d6\u6b63\u898f\u5316\u5f8c\u7684\u5716\u7247\u9663\u5217\u4e26\u6a19\u6e96\u5316\u8cc7\u6599"
      ]
    },
    {
      "cell_type": "code",
      "execution_count": 6,
      "metadata": {},
      "outputs": [],
      "source": [
        "def normalize_data(x, y):\n",
        "    x = ((x - np.mean(x)) / np.std(x)).astype('float32')\n",
        "    y = utils.to_categorical(y, num_classes=np.unique(y).size)\n",
        "    return x, y\n",
        "\n",
        "def normalize_result(x, y):\n",
        "    print('x.shape:', x.shape)\n",
        "    print('y.shape:', y.shape)"
      ]
    },
    {
      "cell_type": "code",
      "execution_count": 7,
      "metadata": {},
      "outputs": [],
      "source": [
        "X_train, y_train = np.load(ndarray_path_X_train), np.load(ndarray_path_y_train)\n",
        "X_test, X_test_name = np.load(ndarray_path_X_test), np.load(ndarray_path_X_test_name, allow_pickle=True)"
      ]
    },
    {
      "cell_type": "code",
      "execution_count": 8,
      "metadata": {},
      "outputs": [
        {
          "name": "stdout",
          "output_type": "stream",
          "text": [
            "Before normalization:\n",
            "x.shape: (4000, 224, 224, 3)\n",
            "y.shape: (4000,)\n"
          ]
        }
      ],
      "source": [
        "print('Before normalization:')\n",
        "normalize_result(X_train, y_train)"
      ]
    },
    {
      "cell_type": "code",
      "execution_count": 9,
      "metadata": {},
      "outputs": [
        {
          "name": "stdout",
          "output_type": "stream",
          "text": [
            "After normalization:\n",
            "x.shape: (3000, 224, 224, 3)\n",
            "y.shape: (3000, 2)\n"
          ]
        }
      ],
      "source": [
        "print('After normalization:')\n",
        "X_test, _ = normalize_data(X_test, X_test_name)\n",
        "X_train, y_train = normalize_data(X_train, y_train)\n",
        "X_train, X_val, y_train, y_val = train_test_split(X_train, y_train, stratify=y_train, test_size=0.25, random_state=42)\n",
        "normalize_result(X_train, y_train)"
      ]
    },
    {
      "cell_type": "markdown",
      "metadata": {},
      "source": [
        "## \u5b9a\u7fa9\u51fd\u6578"
      ]
    },
    {
      "cell_type": "code",
      "execution_count": 10,
      "metadata": {},
      "outputs": [],
      "source": [
        "def image_generator(x, y, batch_size=32, shuffle=True):\n",
        "    generator = ImageDataGenerator(zoom_range=0.2, shear_range=0.2, horizontal_flip=True)\n",
        "    return generator.flow(x, y, batch_size=batch_size, shuffle=shuffle)\n",
        "\n",
        "class Trainer:\n",
        "\n",
        "    def __init__(self, X_train, y_train, X_test, y_test, checkpoint_path, epochs=50, batch_size=4, learning_rate=1e-5):\n",
        "        self.X_test = X_test\n",
        "        self.y_test = y_test\n",
        "        self.X_train = X_train\n",
        "        self.y_train = y_train\n",
        "        self.epochs = epochs\n",
        "        self.batch_size = batch_size\n",
        "        self.learning_rate = learning_rate\n",
        "        self.checkpoint_path = checkpoint_path\n",
        "        self._model = None\n",
        "        self._score = None\n",
        "        self._history = None\n",
        "\n",
        "    @property\n",
        "    def optimizer(self):\n",
        "        return Adam(lr=self.learning_rate)\n",
        "\n",
        "    @property\n",
        "    def callbacks(self):\n",
        "        checkpoint = ModelCheckpoint(self.checkpoint_path, save_best_only=True)\n",
        "        early_stopping = EarlyStopping(monitor='val_accuracy', patience=5, verbose=1)\n",
        "        reduce_lr_on_plateau = ReduceLROnPlateau(factor=0.5, min_lr=1e-12, verbose=1)\n",
        "        return [checkpoint, early_stopping, reduce_lr_on_plateau]\n",
        "\n",
        "    @property\n",
        "    def test_generator(self):\n",
        "        return image_generator(self.X_test, self.y_test, batch_size=self.batch_size, shuffle=False)\n",
        "\n",
        "    @property\n",
        "    def train_generator(self):\n",
        "        return image_generator(self.X_train, self.y_train, batch_size=self.batch_size, shuffle=False)\n",
        "\n",
        "    def run(self):\n",
        "        return self._clear()._build()._launch()\n",
        "\n",
        "    def _clear(self):\n",
        "        backend.clear_session()\n",
        "        self._model = None\n",
        "        return self\n",
        "\n",
        "    def _build(self):\n",
        "        if os.path.isfile(self.checkpoint_path):\n",
        "            self._model = load_model(self.checkpoint_path)\n",
        "        else:\n",
        "            resnet = ResNet50(input_shape=self.X_train.shape[1:], include_top=False)\n",
        "            inputs = resnet.input\n",
        "            outputs = resnet.output\n",
        "            outputs = Flatten()(outputs)\n",
        "            outputs = Dropout(0.5)(outputs)\n",
        "            outputs = Dense(np.unique(self.y_test).size, name='softmax', activation='softmax')(outputs)\n",
        "            self._model = Model(inputs=inputs, outputs=outputs)\n",
        "            self._model.compile(optimizer=self.optimizer, loss='categorical_crossentropy', metrics=['accuracy'])\n",
        "        return self\n",
        "\n",
        "    def _launch(self):\n",
        "        print('Experiment with ResNet50.')\n",
        "        self._model.summary()\n",
        "        self._history = self._model.fit(\n",
        "            self.train_generator, steps_per_epoch=self.X_train.shape[0] // self.batch_size,\n",
        "            validation_data=self.test_generator, validation_steps=self.X_test.shape[0] // self.batch_size,\n",
        "            epochs=self.epochs, callbacks=self.callbacks, shuffle=True, verbose=1)\n",
        "        return self\n",
        "\n",
        "    def predict(self, test_data):\n",
        "        test_pred = self._model.predict(test_data)\n",
        "        return test_pred\n",
        "\n",
        "    def display(self, train_name, val_name):\n",
        "        plt.figure(figsize=(8, 6,))\n",
        "        plt.plot(self._history.history[train_name])\n",
        "        plt.plot(self._history.history[val_name])\n",
        "        plt.xlabel('Epoch')\n",
        "        plt.ylabel(train_name)\n",
        "        plt.title('Train History')\n",
        "        plt.legend(['train', 'validation'], loc='upper left')\n",
        "        plt.show()\n",
        "\n",
        "    def display_roc(self):\n",
        "        y_true = np.argmax(self.y_test, axis=1)\n",
        "        y_pred = np.argmax(self.predict(self.X_test), axis=1)\n",
        "        fpr, tpr, _ = roc_curve(y_true, y_pred)\n",
        "        roc_auc = auc(fpr, tpr)\n",
        "        plt.figure(figsize=(8, 6,))\n",
        "        plt.plot(fpr, tpr, color='darkorange', lw=2, label=f'ROC curve (area = {roc_auc:0.2f})')\n",
        "        plt.plot([0, 1], [0, 1], color='navy', lw=2, linestyle='--')\n",
        "        plt.xlim([0.0, 1.0])\n",
        "        plt.ylim([0.0, 1.05])\n",
        "        plt.xlabel('False Positive Rate')\n",
        "        plt.ylabel('True Positive Rate')\n",
        "        plt.title('Receiver Operating Characteristic')\n",
        "        plt.legend(loc='lower right')\n",
        "        plt.show()"
      ]
    },
    {
      "cell_type": "markdown",
      "metadata": {},
      "source": [
        "## \u8a13\u7df4\u6a21\u578b"
      ]
    },
    {
      "cell_type": "code",
      "execution_count": 11,
      "metadata": {},
      "outputs": [
        {
          "name": "stdout",
          "output_type": "stream",
          "text": [
            "Experiment with ResNet50.\n",
            "Model: \"model\"\n",
            "__________________________________________________________________________________________________\n",
            "Layer (type)                    Output Shape         Param #     Connected to                     \n",
            "==================================================================================================\n",
            "input_1 (InputLayer)            [(None, 224, 224, 3) 0                                            \n",
            "__________________________________________________________________________________________________\n",
            "conv1_pad (ZeroPadding2D)       (None, 230, 230, 3)  0           input_1[0][0]                    \n",
            "__________________________________________________________________________________________________\n",
            "conv1_conv (Conv2D)             (None, 112, 112, 64) 9472        conv1_pad[0][0]                  \n",
            "__________________________________________________________________________________________________\n",
            "conv1_bn (BatchNormalization)   (None, 112, 112, 64) 256         conv1_conv[0][0]                 \n",
            "__________________________________________________________________________________________________\n",
            "conv1_relu (Activation)         (None, 112, 112, 64) 0           conv1_bn[0][0]                   \n",
            "__________________________________________________________________________________________________\n",
            "pool1_pad (ZeroPadding2D)       (None, 114, 114, 64) 0           conv1_relu[0][0]                 \n",
            "__________________________________________________________________________________________________\n",
            "pool1_pool (MaxPooling2D)       (None, 56, 56, 64)   0           pool1_pad[0][0]                  \n",
            "__________________________________________________________________________________________________\n",
            "conv2_block1_1_conv (Conv2D)    (None, 56, 56, 64)   4160        pool1_pool[0][0]                 \n",
            "__________________________________________________________________________________________________\n",
            "conv2_block1_1_bn (BatchNormali (None, 56, 56, 64)   256         conv2_block1_1_conv[0][0]        \n",
            "__________________________________________________________________________________________________\n",
            "conv2_block1_1_relu (Activation (None, 56, 56, 64)   0           conv2_block1_1_bn[0][0]          \n",
            "__________________________________________________________________________________________________\n",
            "conv2_block1_2_conv (Conv2D)    (None, 56, 56, 64)   36928       conv2_block1_1_relu[0][0]        \n",
            "__________________________________________________________________________________________________\n",
            "conv2_block1_2_bn (BatchNormali (None, 56, 56, 64)   256         conv2_block1_2_conv[0][0]        \n",
            "__________________________________________________________________________________________________\n",
            "conv2_block1_2_relu (Activation (None, 56, 56, 64)   0           conv2_block1_2_bn[0][0]          \n",
            "__________________________________________________________________________________________________\n",
            "conv2_block1_0_conv (Conv2D)    (None, 56, 56, 256)  16640       pool1_pool[0][0]                 \n",
            "__________________________________________________________________________________________________\n",
            "conv2_block1_3_conv (Conv2D)    (None, 56, 56, 256)  16640       conv2_block1_2_relu[0][0]        \n",
            "__________________________________________________________________________________________________\n",
            "conv2_block1_0_bn (BatchNormali (None, 56, 56, 256)  1024        conv2_block1_0_conv[0][0]        \n",
            "__________________________________________________________________________________________________\n",
            "conv2_block1_3_bn (BatchNormali (None, 56, 56, 256)  1024        conv2_block1_3_conv[0][0]        \n",
            "__________________________________________________________________________________________________\n",
            "conv2_block1_add (Add)          (None, 56, 56, 256)  0           conv2_block1_0_bn[0][0]          \n",
            "                                                                 conv2_block1_3_bn[0][0]          \n",
            "__________________________________________________________________________________________________\n",
            "conv2_block1_out (Activation)   (None, 56, 56, 256)  0           conv2_block1_add[0][0]           \n",
            "__________________________________________________________________________________________________\n",
            "conv2_block2_1_conv (Conv2D)    (None, 56, 56, 64)   16448       conv2_block1_out[0][0]           \n",
            "__________________________________________________________________________________________________\n",
            "conv2_block2_1_bn (BatchNormali (None, 56, 56, 64)   256         conv2_block2_1_conv[0][0]        \n",
            "__________________________________________________________________________________________________\n",
            "conv2_block2_1_relu (Activation (None, 56, 56, 64)   0           conv2_block2_1_bn[0][0]          \n",
            "__________________________________________________________________________________________________\n",
            "conv2_block2_2_conv (Conv2D)    (None, 56, 56, 64)   36928       conv2_block2_1_relu[0][0]        \n",
            "__________________________________________________________________________________________________\n",
            "conv2_block2_2_bn (BatchNormali (None, 56, 56, 64)   256         conv2_block2_2_conv[0][0]        \n",
            "__________________________________________________________________________________________________\n",
            "conv2_block2_2_relu (Activation (None, 56, 56, 64)   0           conv2_block2_2_bn[0][0]          \n",
            "__________________________________________________________________________________________________\n",
            "conv2_block2_3_conv (Conv2D)    (None, 56, 56, 256)  16640       conv2_block2_2_relu[0][0]        \n",
            "__________________________________________________________________________________________________\n",
            "conv2_block2_3_bn (BatchNormali (None, 56, 56, 256)  1024        conv2_block2_3_conv[0][0]        \n",
            "__________________________________________________________________________________________________\n",
            "conv2_block2_add (Add)          (None, 56, 56, 256)  0           conv2_block1_out[0][0]           \n",
            "                                                                 conv2_block2_3_bn[0][0]          \n",
            "__________________________________________________________________________________________________\n",
            "conv2_block2_out (Activation)   (None, 56, 56, 256)  0           conv2_block2_add[0][0]           \n",
            "__________________________________________________________________________________________________\n",
            "conv2_block3_1_conv (Conv2D)    (None, 56, 56, 64)   16448       conv2_block2_out[0][0]           \n",
            "__________________________________________________________________________________________________\n",
            "conv2_block3_1_bn (BatchNormali (None, 56, 56, 64)   256         conv2_block3_1_conv[0][0]        \n",
            "__________________________________________________________________________________________________\n",
            "conv2_block3_1_relu (Activation (None, 56, 56, 64)   0           conv2_block3_1_bn[0][0]          \n",
            "__________________________________________________________________________________________________\n",
            "conv2_block3_2_conv (Conv2D)    (None, 56, 56, 64)   36928       conv2_block3_1_relu[0][0]        \n",
            "__________________________________________________________________________________________________\n",
            "conv2_block3_2_bn (BatchNormali (None, 56, 56, 64)   256         conv2_block3_2_conv[0][0]        \n",
            "__________________________________________________________________________________________________\n",
            "conv2_block3_2_relu (Activation (None, 56, 56, 64)   0           conv2_block3_2_bn[0][0]          \n",
            "__________________________________________________________________________________________________\n",
            "conv2_block3_3_conv (Conv2D)    (None, 56, 56, 256)  16640       conv2_block3_2_relu[0][0]        \n",
            "__________________________________________________________________________________________________\n",
            "conv2_block3_3_bn (BatchNormali (None, 56, 56, 256)  1024        conv2_block3_3_conv[0][0]        \n",
            "__________________________________________________________________________________________________\n",
            "conv2_block3_add (Add)          (None, 56, 56, 256)  0           conv2_block2_out[0][0]           \n",
            "                                                                 conv2_block3_3_bn[0][0]          \n",
            "__________________________________________________________________________________________________\n",
            "conv2_block3_out (Activation)   (None, 56, 56, 256)  0           conv2_block3_add[0][0]           \n",
            "__________________________________________________________________________________________________\n",
            "conv3_block1_1_conv (Conv2D)    (None, 28, 28, 128)  32896       conv2_block3_out[0][0]           \n",
            "__________________________________________________________________________________________________\n",
            "conv3_block1_1_bn (BatchNormali (None, 28, 28, 128)  512         conv3_block1_1_conv[0][0]        \n",
            "__________________________________________________________________________________________________\n",
            "conv3_block1_1_relu (Activation (None, 28, 28, 128)  0           conv3_block1_1_bn[0][0]          \n",
            "__________________________________________________________________________________________________\n",
            "conv3_block1_2_conv (Conv2D)    (None, 28, 28, 128)  147584      conv3_block1_1_relu[0][0]        \n",
            "__________________________________________________________________________________________________\n",
            "conv3_block1_2_bn (BatchNormali (None, 28, 28, 128)  512         conv3_block1_2_conv[0][0]        \n",
            "__________________________________________________________________________________________________\n",
            "conv3_block1_2_relu (Activation (None, 28, 28, 128)  0           conv3_block1_2_bn[0][0]          \n",
            "__________________________________________________________________________________________________\n",
            "conv3_block1_0_conv (Conv2D)    (None, 28, 28, 512)  131584      conv2_block3_out[0][0]           \n",
            "__________________________________________________________________________________________________\n",
            "conv3_block1_3_conv (Conv2D)    (None, 28, 28, 512)  66048       conv3_block1_2_relu[0][0]        \n",
            "__________________________________________________________________________________________________\n",
            "conv3_block1_0_bn (BatchNormali (None, 28, 28, 512)  2048        conv3_block1_0_conv[0][0]        \n",
            "__________________________________________________________________________________________________\n",
            "conv3_block1_3_bn (BatchNormali (None, 28, 28, 512)  2048        conv3_block1_3_conv[0][0]        \n",
            "__________________________________________________________________________________________________\n",
            "conv3_block1_add (Add)          (None, 28, 28, 512)  0           conv3_block1_0_bn[0][0]          \n",
            "                                                                 conv3_block1_3_bn[0][0]          \n",
            "__________________________________________________________________________________________________\n",
            "conv3_block1_out (Activation)   (None, 28, 28, 512)  0           conv3_block1_add[0][0]           \n",
            "__________________________________________________________________________________________________\n",
            "conv3_block2_1_conv (Conv2D)    (None, 28, 28, 128)  65664       conv3_block1_out[0][0]           \n",
            "__________________________________________________________________________________________________\n",
            "conv3_block2_1_bn (BatchNormali (None, 28, 28, 128)  512         conv3_block2_1_conv[0][0]        \n",
            "__________________________________________________________________________________________________\n",
            "conv3_block2_1_relu (Activation (None, 28, 28, 128)  0           conv3_block2_1_bn[0][0]          \n",
            "__________________________________________________________________________________________________\n",
            "conv3_block2_2_conv (Conv2D)    (None, 28, 28, 128)  147584      conv3_block2_1_relu[0][0]        \n",
            "__________________________________________________________________________________________________\n",
            "conv3_block2_2_bn (BatchNormali (None, 28, 28, 128)  512         conv3_block2_2_conv[0][0]        \n",
            "__________________________________________________________________________________________________\n",
            "conv3_block2_2_relu (Activation (None, 28, 28, 128)  0           conv3_block2_2_bn[0][0]          \n",
            "__________________________________________________________________________________________________\n",
            "conv3_block2_3_conv (Conv2D)    (None, 28, 28, 512)  66048       conv3_block2_2_relu[0][0]        \n",
            "__________________________________________________________________________________________________\n",
            "conv3_block2_3_bn (BatchNormali (None, 28, 28, 512)  2048        conv3_block2_3_conv[0][0]        \n",
            "__________________________________________________________________________________________________\n",
            "conv3_block2_add (Add)          (None, 28, 28, 512)  0           conv3_block1_out[0][0]           \n",
            "                                                                 conv3_block2_3_bn[0][0]          \n",
            "__________________________________________________________________________________________________\n",
            "conv3_block2_out (Activation)   (None, 28, 28, 512)  0           conv3_block2_add[0][0]           \n",
            "__________________________________________________________________________________________________\n",
            "conv3_block3_1_conv (Conv2D)    (None, 28, 28, 128)  65664       conv3_block2_out[0][0]           \n",
            "__________________________________________________________________________________________________\n",
            "conv3_block3_1_bn (BatchNormali (None, 28, 28, 128)  512         conv3_block3_1_conv[0][0]        \n",
            "__________________________________________________________________________________________________\n",
            "conv3_block3_1_relu (Activation (None, 28, 28, 128)  0           conv3_block3_1_bn[0][0]          \n",
            "__________________________________________________________________________________________________\n",
            "conv3_block3_2_conv (Conv2D)    (None, 28, 28, 128)  147584      conv3_block3_1_relu[0][0]        \n",
            "__________________________________________________________________________________________________\n",
            "conv3_block3_2_bn (BatchNormali (None, 28, 28, 128)  512         conv3_block3_2_conv[0][0]        \n",
            "__________________________________________________________________________________________________\n",
            "conv3_block3_2_relu (Activation (None, 28, 28, 128)  0           conv3_block3_2_bn[0][0]          \n",
            "__________________________________________________________________________________________________\n",
            "conv3_block3_3_conv (Conv2D)    (None, 28, 28, 512)  66048       conv3_block3_2_relu[0][0]        \n",
            "__________________________________________________________________________________________________\n",
            "conv3_block3_3_bn (BatchNormali (None, 28, 28, 512)  2048        conv3_block3_3_conv[0][0]        \n",
            "__________________________________________________________________________________________________\n",
            "conv3_block3_add (Add)          (None, 28, 28, 512)  0           conv3_block2_out[0][0]           \n",
            "                                                                 conv3_block3_3_bn[0][0]          \n",
            "__________________________________________________________________________________________________\n",
            "conv3_block3_out (Activation)   (None, 28, 28, 512)  0           conv3_block3_add[0][0]           \n",
            "__________________________________________________________________________________________________\n",
            "conv3_block4_1_conv (Conv2D)    (None, 28, 28, 128)  65664       conv3_block3_out[0][0]           \n",
            "__________________________________________________________________________________________________\n",
            "conv3_block4_1_bn (BatchNormali (None, 28, 28, 128)  512         conv3_block4_1_conv[0][0]        \n",
            "__________________________________________________________________________________________________\n",
            "conv3_block4_1_relu (Activation (None, 28, 28, 128)  0           conv3_block4_1_bn[0][0]          \n",
            "__________________________________________________________________________________________________\n",
            "conv3_block4_2_conv (Conv2D)    (None, 28, 28, 128)  147584      conv3_block4_1_relu[0][0]        \n",
            "__________________________________________________________________________________________________\n",
            "conv3_block4_2_bn (BatchNormali (None, 28, 28, 128)  512         conv3_block4_2_conv[0][0]        \n",
            "__________________________________________________________________________________________________\n",
            "conv3_block4_2_relu (Activation (None, 28, 28, 128)  0           conv3_block4_2_bn[0][0]          \n",
            "__________________________________________________________________________________________________\n",
            "conv3_block4_3_conv (Conv2D)    (None, 28, 28, 512)  66048       conv3_block4_2_relu[0][0]        \n",
            "__________________________________________________________________________________________________\n",
            "conv3_block4_3_bn (BatchNormali (None, 28, 28, 512)  2048        conv3_block4_3_conv[0][0]        \n",
            "__________________________________________________________________________________________________\n",
            "conv3_block4_add (Add)          (None, 28, 28, 512)  0           conv3_block3_out[0][0]           \n",
            "                                                                 conv3_block4_3_bn[0][0]          \n",
            "__________________________________________________________________________________________________\n",
            "conv3_block4_out (Activation)   (None, 28, 28, 512)  0           conv3_block4_add[0][0]           \n",
            "__________________________________________________________________________________________________\n",
            "conv4_block1_1_conv (Conv2D)    (None, 14, 14, 256)  131328      conv3_block4_out[0][0]           \n",
            "__________________________________________________________________________________________________\n",
            "conv4_block1_1_bn (BatchNormali (None, 14, 14, 256)  1024        conv4_block1_1_conv[0][0]        \n",
            "__________________________________________________________________________________________________\n",
            "conv4_block1_1_relu (Activation (None, 14, 14, 256)  0           conv4_block1_1_bn[0][0]          \n",
            "__________________________________________________________________________________________________\n",
            "conv4_block1_2_conv (Conv2D)    (None, 14, 14, 256)  590080      conv4_block1_1_relu[0][0]        \n",
            "__________________________________________________________________________________________________\n",
            "conv4_block1_2_bn (BatchNormali (None, 14, 14, 256)  1024        conv4_block1_2_conv[0][0]        \n",
            "__________________________________________________________________________________________________\n",
            "conv4_block1_2_relu (Activation (None, 14, 14, 256)  0           conv4_block1_2_bn[0][0]          \n",
            "__________________________________________________________________________________________________\n",
            "conv4_block1_0_conv (Conv2D)    (None, 14, 14, 1024) 525312      conv3_block4_out[0][0]           \n",
            "__________________________________________________________________________________________________\n",
            "conv4_block1_3_conv (Conv2D)    (None, 14, 14, 1024) 263168      conv4_block1_2_relu[0][0]        \n",
            "__________________________________________________________________________________________________\n",
            "conv4_block1_0_bn (BatchNormali (None, 14, 14, 1024) 4096        conv4_block1_0_conv[0][0]        \n",
            "__________________________________________________________________________________________________\n",
            "conv4_block1_3_bn (BatchNormali (None, 14, 14, 1024) 4096        conv4_block1_3_conv[0][0]        \n",
            "__________________________________________________________________________________________________\n",
            "conv4_block1_add (Add)          (None, 14, 14, 1024) 0           conv4_block1_0_bn[0][0]          \n",
            "                                                                 conv4_block1_3_bn[0][0]          \n",
            "__________________________________________________________________________________________________\n",
            "conv4_block1_out (Activation)   (None, 14, 14, 1024) 0           conv4_block1_add[0][0]           \n",
            "__________________________________________________________________________________________________\n",
            "conv4_block2_1_conv (Conv2D)    (None, 14, 14, 256)  262400      conv4_block1_out[0][0]           \n",
            "__________________________________________________________________________________________________\n",
            "conv4_block2_1_bn (BatchNormali (None, 14, 14, 256)  1024        conv4_block2_1_conv[0][0]        \n",
            "__________________________________________________________________________________________________\n",
            "conv4_block2_1_relu (Activation (None, 14, 14, 256)  0           conv4_block2_1_bn[0][0]          \n",
            "__________________________________________________________________________________________________\n",
            "conv4_block2_2_conv (Conv2D)    (None, 14, 14, 256)  590080      conv4_block2_1_relu[0][0]        \n",
            "__________________________________________________________________________________________________\n",
            "conv4_block2_2_bn (BatchNormali (None, 14, 14, 256)  1024        conv4_block2_2_conv[0][0]        \n",
            "__________________________________________________________________________________________________\n",
            "conv4_block2_2_relu (Activation (None, 14, 14, 256)  0           conv4_block2_2_bn[0][0]          \n",
            "__________________________________________________________________________________________________\n",
            "conv4_block2_3_conv (Conv2D)    (None, 14, 14, 1024) 263168      conv4_block2_2_relu[0][0]        \n",
            "__________________________________________________________________________________________________\n",
            "conv4_block2_3_bn (BatchNormali (None, 14, 14, 1024) 4096        conv4_block2_3_conv[0][0]        \n",
            "__________________________________________________________________________________________________\n",
            "conv4_block2_add (Add)          (None, 14, 14, 1024) 0           conv4_block1_out[0][0]           \n",
            "                                                                 conv4_block2_3_bn[0][0]          \n",
            "__________________________________________________________________________________________________\n",
            "conv4_block2_out (Activation)   (None, 14, 14, 1024) 0           conv4_block2_add[0][0]           \n",
            "__________________________________________________________________________________________________\n",
            "conv4_block3_1_conv (Conv2D)    (None, 14, 14, 256)  262400      conv4_block2_out[0][0]           \n",
            "__________________________________________________________________________________________________\n",
            "conv4_block3_1_bn (BatchNormali (None, 14, 14, 256)  1024        conv4_block3_1_conv[0][0]        \n",
            "__________________________________________________________________________________________________\n",
            "conv4_block3_1_relu (Activation (None, 14, 14, 256)  0           conv4_block3_1_bn[0][0]          \n",
            "__________________________________________________________________________________________________\n",
            "conv4_block3_2_conv (Conv2D)    (None, 14, 14, 256)  590080      conv4_block3_1_relu[0][0]        \n",
            "__________________________________________________________________________________________________\n",
            "conv4_block3_2_bn (BatchNormali (None, 14, 14, 256)  1024        conv4_block3_2_conv[0][0]        \n",
            "__________________________________________________________________________________________________\n",
            "conv4_block3_2_relu (Activation (None, 14, 14, 256)  0           conv4_block3_2_bn[0][0]          \n",
            "__________________________________________________________________________________________________\n",
            "conv4_block3_3_conv (Conv2D)    (None, 14, 14, 1024) 263168      conv4_block3_2_relu[0][0]        \n",
            "__________________________________________________________________________________________________\n",
            "conv4_block3_3_bn (BatchNormali (None, 14, 14, 1024) 4096        conv4_block3_3_conv[0][0]        \n",
            "__________________________________________________________________________________________________\n",
            "conv4_block3_add (Add)          (None, 14, 14, 1024) 0           conv4_block2_out[0][0]           \n",
            "                                                                 conv4_block3_3_bn[0][0]          \n",
            "__________________________________________________________________________________________________\n",
            "conv4_block3_out (Activation)   (None, 14, 14, 1024) 0           conv4_block3_add[0][0]           \n",
            "__________________________________________________________________________________________________\n",
            "conv4_block4_1_conv (Conv2D)    (None, 14, 14, 256)  262400      conv4_block3_out[0][0]           \n",
            "__________________________________________________________________________________________________\n",
            "conv4_block4_1_bn (BatchNormali (None, 14, 14, 256)  1024        conv4_block4_1_conv[0][0]        \n",
            "__________________________________________________________________________________________________\n",
            "conv4_block4_1_relu (Activation (None, 14, 14, 256)  0           conv4_block4_1_bn[0][0]          \n",
            "__________________________________________________________________________________________________\n",
            "conv4_block4_2_conv (Conv2D)    (None, 14, 14, 256)  590080      conv4_block4_1_relu[0][0]        \n",
            "__________________________________________________________________________________________________\n",
            "conv4_block4_2_bn (BatchNormali (None, 14, 14, 256)  1024        conv4_block4_2_conv[0][0]        \n",
            "__________________________________________________________________________________________________\n",
            "conv4_block4_2_relu (Activation (None, 14, 14, 256)  0           conv4_block4_2_bn[0][0]          \n",
            "__________________________________________________________________________________________________\n",
            "conv4_block4_3_conv (Conv2D)    (None, 14, 14, 1024) 263168      conv4_block4_2_relu[0][0]        \n",
            "__________________________________________________________________________________________________\n",
            "conv4_block4_3_bn (BatchNormali (None, 14, 14, 1024) 4096        conv4_block4_3_conv[0][0]        \n",
            "__________________________________________________________________________________________________\n",
            "conv4_block4_add (Add)          (None, 14, 14, 1024) 0           conv4_block3_out[0][0]           \n",
            "                                                                 conv4_block4_3_bn[0][0]          \n",
            "__________________________________________________________________________________________________\n",
            "conv4_block4_out (Activation)   (None, 14, 14, 1024) 0           conv4_block4_add[0][0]           \n",
            "__________________________________________________________________________________________________\n",
            "conv4_block5_1_conv (Conv2D)    (None, 14, 14, 256)  262400      conv4_block4_out[0][0]           \n",
            "__________________________________________________________________________________________________\n",
            "conv4_block5_1_bn (BatchNormali (None, 14, 14, 256)  1024        conv4_block5_1_conv[0][0]        \n",
            "__________________________________________________________________________________________________\n",
            "conv4_block5_1_relu (Activation (None, 14, 14, 256)  0           conv4_block5_1_bn[0][0]          \n",
            "__________________________________________________________________________________________________\n",
            "conv4_block5_2_conv (Conv2D)    (None, 14, 14, 256)  590080      conv4_block5_1_relu[0][0]        \n",
            "__________________________________________________________________________________________________\n",
            "conv4_block5_2_bn (BatchNormali (None, 14, 14, 256)  1024        conv4_block5_2_conv[0][0]        \n",
            "__________________________________________________________________________________________________\n",
            "conv4_block5_2_relu (Activation (None, 14, 14, 256)  0           conv4_block5_2_bn[0][0]          \n",
            "__________________________________________________________________________________________________\n",
            "conv4_block5_3_conv (Conv2D)    (None, 14, 14, 1024) 263168      conv4_block5_2_relu[0][0]        \n",
            "__________________________________________________________________________________________________\n",
            "conv4_block5_3_bn (BatchNormali (None, 14, 14, 1024) 4096        conv4_block5_3_conv[0][0]        \n",
            "__________________________________________________________________________________________________\n",
            "conv4_block5_add (Add)          (None, 14, 14, 1024) 0           conv4_block4_out[0][0]           \n",
            "                                                                 conv4_block5_3_bn[0][0]          \n",
            "__________________________________________________________________________________________________\n",
            "conv4_block5_out (Activation)   (None, 14, 14, 1024) 0           conv4_block5_add[0][0]           \n",
            "__________________________________________________________________________________________________\n",
            "conv4_block6_1_conv (Conv2D)    (None, 14, 14, 256)  262400      conv4_block5_out[0][0]           \n",
            "__________________________________________________________________________________________________\n",
            "conv4_block6_1_bn (BatchNormali (None, 14, 14, 256)  1024        conv4_block6_1_conv[0][0]        \n",
            "__________________________________________________________________________________________________\n",
            "conv4_block6_1_relu (Activation (None, 14, 14, 256)  0           conv4_block6_1_bn[0][0]          \n",
            "__________________________________________________________________________________________________\n",
            "conv4_block6_2_conv (Conv2D)    (None, 14, 14, 256)  590080      conv4_block6_1_relu[0][0]        \n",
            "__________________________________________________________________________________________________\n",
            "conv4_block6_2_bn (BatchNormali (None, 14, 14, 256)  1024        conv4_block6_2_conv[0][0]        \n",
            "__________________________________________________________________________________________________\n",
            "conv4_block6_2_relu (Activation (None, 14, 14, 256)  0           conv4_block6_2_bn[0][0]          \n",
            "__________________________________________________________________________________________________\n",
            "conv4_block6_3_conv (Conv2D)    (None, 14, 14, 1024) 263168      conv4_block6_2_relu[0][0]        \n",
            "__________________________________________________________________________________________________\n",
            "conv4_block6_3_bn (BatchNormali (None, 14, 14, 1024) 4096        conv4_block6_3_conv[0][0]        \n",
            "__________________________________________________________________________________________________\n",
            "conv4_block6_add (Add)          (None, 14, 14, 1024) 0           conv4_block5_out[0][0]           \n",
            "                                                                 conv4_block6_3_bn[0][0]          \n",
            "__________________________________________________________________________________________________\n",
            "conv4_block6_out (Activation)   (None, 14, 14, 1024) 0           conv4_block6_add[0][0]           \n",
            "__________________________________________________________________________________________________\n",
            "conv5_block1_1_conv (Conv2D)    (None, 7, 7, 512)    524800      conv4_block6_out[0][0]           \n",
            "__________________________________________________________________________________________________\n",
            "conv5_block1_1_bn (BatchNormali (None, 7, 7, 512)    2048        conv5_block1_1_conv[0][0]        \n",
            "__________________________________________________________________________________________________\n",
            "conv5_block1_1_relu (Activation (None, 7, 7, 512)    0           conv5_block1_1_bn[0][0]          \n",
            "__________________________________________________________________________________________________\n",
            "conv5_block1_2_conv (Conv2D)    (None, 7, 7, 512)    2359808     conv5_block1_1_relu[0][0]        \n",
            "__________________________________________________________________________________________________\n",
            "conv5_block1_2_bn (BatchNormali (None, 7, 7, 512)    2048        conv5_block1_2_conv[0][0]        \n",
            "__________________________________________________________________________________________________\n",
            "conv5_block1_2_relu (Activation (None, 7, 7, 512)    0           conv5_block1_2_bn[0][0]          \n",
            "__________________________________________________________________________________________________\n",
            "conv5_block1_0_conv (Conv2D)    (None, 7, 7, 2048)   2099200     conv4_block6_out[0][0]           \n",
            "__________________________________________________________________________________________________\n",
            "conv5_block1_3_conv (Conv2D)    (None, 7, 7, 2048)   1050624     conv5_block1_2_relu[0][0]        \n",
            "__________________________________________________________________________________________________\n",
            "conv5_block1_0_bn (BatchNormali (None, 7, 7, 2048)   8192        conv5_block1_0_conv[0][0]        \n",
            "__________________________________________________________________________________________________\n",
            "conv5_block1_3_bn (BatchNormali (None, 7, 7, 2048)   8192        conv5_block1_3_conv[0][0]        \n",
            "__________________________________________________________________________________________________\n",
            "conv5_block1_add (Add)          (None, 7, 7, 2048)   0           conv5_block1_0_bn[0][0]          \n",
            "                                                                 conv5_block1_3_bn[0][0]          \n",
            "__________________________________________________________________________________________________\n",
            "conv5_block1_out (Activation)   (None, 7, 7, 2048)   0           conv5_block1_add[0][0]           \n",
            "__________________________________________________________________________________________________\n",
            "conv5_block2_1_conv (Conv2D)    (None, 7, 7, 512)    1049088     conv5_block1_out[0][0]           \n",
            "__________________________________________________________________________________________________\n",
            "conv5_block2_1_bn (BatchNormali (None, 7, 7, 512)    2048        conv5_block2_1_conv[0][0]        \n",
            "__________________________________________________________________________________________________\n",
            "conv5_block2_1_relu (Activation (None, 7, 7, 512)    0           conv5_block2_1_bn[0][0]          \n",
            "__________________________________________________________________________________________________\n",
            "conv5_block2_2_conv (Conv2D)    (None, 7, 7, 512)    2359808     conv5_block2_1_relu[0][0]        \n",
            "__________________________________________________________________________________________________\n",
            "conv5_block2_2_bn (BatchNormali (None, 7, 7, 512)    2048        conv5_block2_2_conv[0][0]        \n",
            "__________________________________________________________________________________________________\n",
            "conv5_block2_2_relu (Activation (None, 7, 7, 512)    0           conv5_block2_2_bn[0][0]          \n",
            "__________________________________________________________________________________________________\n",
            "conv5_block2_3_conv (Conv2D)    (None, 7, 7, 2048)   1050624     conv5_block2_2_relu[0][0]        \n",
            "__________________________________________________________________________________________________\n",
            "conv5_block2_3_bn (BatchNormali (None, 7, 7, 2048)   8192        conv5_block2_3_conv[0][0]        \n",
            "__________________________________________________________________________________________________\n",
            "conv5_block2_add (Add)          (None, 7, 7, 2048)   0           conv5_block1_out[0][0]           \n",
            "                                                                 conv5_block2_3_bn[0][0]          \n",
            "__________________________________________________________________________________________________\n",
            "conv5_block2_out (Activation)   (None, 7, 7, 2048)   0           conv5_block2_add[0][0]           \n",
            "__________________________________________________________________________________________________\n",
            "conv5_block3_1_conv (Conv2D)    (None, 7, 7, 512)    1049088     conv5_block2_out[0][0]           \n",
            "__________________________________________________________________________________________________\n",
            "conv5_block3_1_bn (BatchNormali (None, 7, 7, 512)    2048        conv5_block3_1_conv[0][0]        \n",
            "__________________________________________________________________________________________________\n",
            "conv5_block3_1_relu (Activation (None, 7, 7, 512)    0           conv5_block3_1_bn[0][0]          \n",
            "__________________________________________________________________________________________________\n",
            "conv5_block3_2_conv (Conv2D)    (None, 7, 7, 512)    2359808     conv5_block3_1_relu[0][0]        \n",
            "__________________________________________________________________________________________________\n",
            "conv5_block3_2_bn (BatchNormali (None, 7, 7, 512)    2048        conv5_block3_2_conv[0][0]        \n",
            "__________________________________________________________________________________________________\n",
            "conv5_block3_2_relu (Activation (None, 7, 7, 512)    0           conv5_block3_2_bn[0][0]          \n",
            "__________________________________________________________________________________________________\n",
            "conv5_block3_3_conv (Conv2D)    (None, 7, 7, 2048)   1050624     conv5_block3_2_relu[0][0]        \n",
            "__________________________________________________________________________________________________\n",
            "conv5_block3_3_bn (BatchNormali (None, 7, 7, 2048)   8192        conv5_block3_3_conv[0][0]        \n",
            "__________________________________________________________________________________________________\n",
            "conv5_block3_add (Add)          (None, 7, 7, 2048)   0           conv5_block2_out[0][0]           \n",
            "                                                                 conv5_block3_3_bn[0][0]          \n",
            "__________________________________________________________________________________________________\n",
            "conv5_block3_out (Activation)   (None, 7, 7, 2048)   0           conv5_block3_add[0][0]           \n",
            "__________________________________________________________________________________________________\n",
            "flatten (Flatten)               (None, 100352)       0           conv5_block3_out[0][0]           \n",
            "__________________________________________________________________________________________________\n",
            "dropout (Dropout)               (None, 100352)       0           flatten[0][0]                    \n",
            "__________________________________________________________________________________________________\n",
            "softmax (Dense)                 (None, 2)            200706      dropout[0][0]                    \n",
            "==================================================================================================\n",
            "Total params: 23,788,418\n",
            "Trainable params: 23,735,298\n",
            "Non-trainable params: 53,120\n",
            "__________________________________________________________________________________________________\n",
            "WARNING:tensorflow:sample_weight modes were coerced from\n",
            "  ...\n",
            "    to  \n",
            "  ['...']\n"
          ]
        },
        {
          "name": "stdout",
          "output_type": "stream",
          "text": [
            "WARNING:tensorflow:sample_weight modes were coerced from\n",
            "  ...\n",
            "    to  \n",
            "  ['...']\n",
            "Train for 750 steps, validate for 250 steps\n",
            "Epoch 1/50\n",
            "750/750 [==============================] - 50s 66ms/step - loss: 0.0011 - accuracy: 0.9997 - val_loss: 0.0769 - val_accuracy: 0.9820\n",
            "Epoch 2/50\n",
            "750/750 [==============================] - 43s 57ms/step - loss: 0.0023 - accuracy: 0.9987 - val_loss: 0.0991 - val_accuracy: 0.9770\n",
            "Epoch 3/50\n",
            "750/750 [==============================] - 43s 57ms/step - loss: 0.0025 - accuracy: 0.9993 - val_loss: 0.0991 - val_accuracy: 0.9810\n",
            "Epoch 4/50\n",
            "750/750 [==============================] - 43s 57ms/step - loss: 0.0024 - accuracy: 0.9993 - val_loss: 0.0839 - val_accuracy: 0.9810\n",
            "Epoch 5/50\n",
            "750/750 [==============================] - 43s 57ms/step - loss: 4.9300e-04 - accuracy: 1.0000 - val_loss: 0.0568 - val_accuracy: 0.9870\n",
            "Epoch 6/50\n",
            "750/750 [==============================] - 42s 56ms/step - loss: 0.0029 - accuracy: 0.9990 - val_loss: 0.0862 - val_accuracy: 0.9810\n",
            "Epoch 7/50\n",
            "750/750 [==============================] - 42s 57ms/step - loss: 0.0030 - accuracy: 0.9987 - val_loss: 0.0940 - val_accuracy: 0.9790\n",
            "Epoch 8/50\n",
            "750/750 [==============================] - 42s 57ms/step - loss: 0.0023 - accuracy: 0.9997 - val_loss: 0.0790 - val_accuracy: 0.9830\n",
            "Epoch 9/50\n",
            "750/750 [==============================] - 42s 56ms/step - loss: 8.8266e-04 - accuracy: 0.9997 - val_loss: 0.0751 - val_accuracy: 0.9820\n",
            "Epoch 10/50\n",
            "750/750 [==============================] - 42s 56ms/step - loss: 0.0012 - accuracy: 0.9997 - val_loss: 0.0674 - val_accuracy: 0.9820\n",
            "Epoch 00010: early stopping\n"
          ]
        }
      ],
      "source": [
        "trainer = Trainer(X_train, y_train, X_val, y_val, model_path_train).run()"
      ]
    },
    {
      "cell_type": "code",
      "execution_count": 12,
      "metadata": {},
      "outputs": [
        {
          "data": {
            "image/png": "[encoded data removed]",
            "text/plain": [
              "<Figure size 576x432 with 1 Axes>"
            ]
          },
          "metadata": {
            "needs_background": "light"
          },
          "output_type": "display_data"
        }
      ],
      "source": [
        "trainer.display('accuracy', 'val_accuracy')"
      ]
    },
    {
      "cell_type": "code",
      "execution_count": 13,
      "metadata": {},
      "outputs": [
        {
          "data": {
            "image/png": "[encoded data removed]",
            "text/plain": [
              "<Figure size 576x432 with 1 Axes>"
            ]
          },
          "metadata": {
            "needs_background": "light"
          },
          "output_type": "display_data"
        }
      ],
      "source": [
        "trainer.display('loss', 'val_loss')"
      ]
    },
    {
      "cell_type": "code",
      "execution_count": 14,
      "metadata": {},
      "outputs": [
        {
          "data": {
            "image/png": "[encoded data removed]",
            "text/plain": [
              "<Figure size 576x432 with 1 Axes>"
            ]
          },
          "metadata": {
            "needs_background": "light"
          },
          "output_type": "display_data"
        }
      ],
      "source": [
        "trainer.display_roc()"
      ]
    },
    {
      "cell_type": "markdown",
      "metadata": {},
      "source": [
        "## \u8f38\u51fa\u7d50\u679c"
      ]
    },
    {
      "cell_type": "code",
      "execution_count": 15,
      "metadata": {},
      "outputs": [],
      "source": [
        "def make_output(X_name, y_pred, src_path, dst_path):\n",
        "    df = pd.read_csv(src_path)\n",
        "    df['ID'] = X_name\n",
        "    df['Predicted'] = y_pred[:, 1]\n",
        "    df = df[['ID', 'Predicted']]\n",
        "    df = df.sort_values(by=['ID'])\n",
        "    df.to_csv(dst_path, header=['ID', 'Predicted'], index=False)\n",
        "    df.head(10)"
      ]
    },
    {
      "cell_type": "code",
      "execution_count": 16,
      "metadata": {},
      "outputs": [],
      "source": [
        "y_test_pred = trainer.predict(X_test)\n",
        "make_output(X_test_name, y_test_pred, csv_path_sample, csv_path_result)"
      ]
    },
    {
      "cell_type": "code",
      "execution_count": null,
      "metadata": {},
      "outputs": [],
      "source": []
    }
  ],
  "metadata": {
    "kernelspec": {
      "display_name": "Python 3",
      "language": "python",
      "name": "python3"
    },
    "language_info": {
      "codemirror_mode": {
        "name": "ipython",
        "version": 3
      },
      "file_extension": ".py",
      "mimetype": "text/x-python",
      "name": "python",
      "nbconvert_exporter": "python",
      "pygments_lexer": "ipython3",
      "version": "3.7.6"
    }
  },
  "nbformat": 4,
  "nbformat_minor": 2
}