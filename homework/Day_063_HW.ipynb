{
 "cells": [
  {
   "cell_type": "markdown",
   "metadata": {},
   "source": [
    "## 作業\n",
    "* 在精簡深度學習的方式上 : 卷積類神經 (CNN) 採用像素遠近，而遞歸類神經 (RNN) 採用著則是時間遠近\n",
    "* 那麼，既然有著類似的設計精神，兩者是否有可能互換應用呢?\n",
    "\n",
    "答：我認為互換應用不可行，但搭配使用可以，因為這兩者處理的維度並不相同，圖像是二維的，時間則是一維的。對於 CNN 來說，能夠處理二維的問題，應該也存在一維的處理方法，而對於 RNN 來說，雖然不能處理圖像問題，但對於影像連續性的辨識上有一定的發揮空間，現實中可能更常出現需要兩者搭配使用的場景。"
   ]
  },
  {
   "cell_type": "markdown",
   "metadata": {},
   "source": [
    "## 參考資料\n",
    "\n",
    "[人工智慧大歷史 - 林守德教授演講 - Mora Chen 筆記](https://medium.com/@suipichen/%E4%BA%BA%E5%B7%A5%E6%99%BA%E6%85%A7%E5%A4%A7%E6%AD%B7%E5%8F%B2-ffe46a350543)\n",
    "\n",
    "[3 分鐘搞懂深度學習到底在深什麼 - 泛科學](https://panx.asia/archives/53209)\n",
    "\n",
    "[Deep Learning Theory 1-1: Can shallow network fit any function? (by 李宏毅教授)](https://www.youtube.com/watch?v=KKT2VkTdFyc)"
   ]
  },
  {
   "cell_type": "code",
   "execution_count": null,
   "metadata": {
    "collapsed": true
   },
   "outputs": [],
   "source": []
  }
 ],
 "metadata": {
  "kernelspec": {
   "display_name": "Python 3",
   "language": "python",
   "name": "python3"
  },
  "language_info": {
   "codemirror_mode": {
    "name": "ipython",
    "version": 3
   },
   "file_extension": ".py",
   "mimetype": "text/x-python",
   "name": "python",
   "nbconvert_exporter": "python",
   "pygments_lexer": "ipython3",
   "version": "3.7.3"
  }
 },
 "nbformat": 4,
 "nbformat_minor": 2
}
