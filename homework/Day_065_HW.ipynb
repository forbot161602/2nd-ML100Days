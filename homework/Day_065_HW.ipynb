{
 "cells": [
  {
   "cell_type": "markdown",
   "metadata": {},
   "source": [
    "## 作業\n",
    "* 選擇分類資料集(右下) - 螺旋雙臂，限定特徵只能使用前兩個，隱藏層 2 層滿 (共 8 * 2 = 16 個神經元)，\n",
    "  遞迴次數只允許跑到 500 次，但可以自由調整批次大小、學習速率、啟動函數、正規化選項與參數\n",
    "* 在上述限制下，挑戰看看測試誤差(Test Loss)最低能到多少? 請回答你的上述幾項參數與 Test Loss 數\n",
    "\n",
    "答：定義 (a, b, c, d, e) 為批次大小、學習速率、啟動函數、正規化方式、正規化參數的組合。\n",
    "\n",
    "若分類資料集為螺旋雙臂，\n",
    "\n",
    "組合 (10, 0.1, Tanh, None, 0) 有 Test Loss 數為 0.042；\n",
    "\n",
    "組合 (30, 0.3, Tanh, None, 0) 有 Test Loss 數為 0.044。"
   ]
  },
  {
   "cell_type": "markdown",
   "metadata": {
    "collapsed": true
   },
   "source": [
    "## 參考資料\n",
    "\n",
    "[深度学习网络调参技巧](https://zhuanlan.zhihu.com/p/24720954)\n",
    "\n",
    "[Understanding neural networks with TensorFlow Playground](https://cloud.google.com/blog/products/gcp/understanding-neural-networks-with-tensorflow-playground)"
   ]
  },
  {
   "cell_type": "code",
   "execution_count": null,
   "metadata": {},
   "outputs": [],
   "source": []
  }
 ],
 "metadata": {
  "kernelspec": {
   "display_name": "Python 3",
   "language": "python",
   "name": "python3"
  },
  "language_info": {
   "codemirror_mode": {
    "name": "ipython",
    "version": 3
   },
   "file_extension": ".py",
   "mimetype": "text/x-python",
   "name": "python",
   "nbconvert_exporter": "python",
   "pygments_lexer": "ipython3",
   "version": "3.7.3"
  }
 },
 "nbformat": 4,
 "nbformat_minor": 2
}
