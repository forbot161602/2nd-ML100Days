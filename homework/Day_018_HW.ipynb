{
  "cells": [
    {
      "cell_type": "markdown",
      "metadata": {
        "collapsed": true
      },
      "source": [
        "# \u4f5c\u696d : (Kaggle)\u9435\u9054\u5c3c\u751f\u5b58\u9810\u6e2c"
      ]
    },
    {
      "cell_type": "markdown",
      "metadata": {},
      "source": [
        "# [\u4f5c\u696d\u76ee\u6a19]\n",
        "- \u8a66\u8457\u5b8c\u6210\u4e09\u7a2e\u4e0d\u540c\u7279\u5fb5\u985e\u578b\u7684\u4e09\u7a2e\u8cc7\u6599\u64cd\u4f5c, \u89c0\u5bdf\u7d50\u679c\n",
        "- \u601d\u8003\u4e00\u4e0b, \u9019\u4e09\u7a2e\u7279\u5fb5\u985e\u578b, \u54ea\u4e00\u7a2e\u61c9\u8a72\u6700\u8907\u96dc/\u6700\u96e3\u8655\u7406"
      ]
    },
    {
      "cell_type": "markdown",
      "metadata": {},
      "source": [
        "# [\u4f5c\u696d\u91cd\u9ede]\n",
        "- \u5b8c\u6210\u5269\u9918\u7684\u516b\u7a2e \u985e\u578b x \u64cd\u4f5c\u7d44\u5408 (In[6]~In[13], Out[6]~Out[13])\n",
        "- \u601d\u8003\u4f55\u7a2e\u7279\u5fb5\u985e\u578b, \u61c9\u8a72\u6700\u8907\u96dc"
      ]
    },
    {
      "cell_type": "code",
      "execution_count": 1,
      "metadata": {},
      "outputs": [
        {
          "name": "stdout",
          "output_type": "stream",
          "text": [
            "(891, 12)\n",
            "(418, 11)\n"
          ]
        }
      ],
      "source": [
        "# \u8f09\u5165\u57fa\u672c\u5957\u4ef6\n",
        "import pandas as pd\n",
        "import numpy as np\n",
        "\n",
        "# \u8b80\u53d6\u8a13\u7df4\u8207\u6e2c\u8a66\u8cc7\u6599\n",
        "data_path = './data/part02/'\n",
        "df_train = pd.read_csv(data_path + 'titanic_train.csv')\n",
        "df_test = pd.read_csv(data_path + 'titanic_test.csv')\n",
        "print(df_train.shape)\n",
        "print(df_test.shape)"
      ]
    },
    {
      "cell_type": "code",
      "execution_count": 2,
      "metadata": {},
      "outputs": [
        {
          "data": {
            "text/html": [
              "<div>\n",
              "<style scoped>\n",
              "    .dataframe tbody tr th:only-of-type {\n",
              "        vertical-align: middle;\n",
              "    }\n",
              "\n",
              "    .dataframe tbody tr th {\n",
              "        vertical-align: top;\n",
              "    }\n",
              "\n",
              "    .dataframe thead th {\n",
              "        text-align: right;\n",
              "    }\n",
              "</style>\n",
              "<table border=\"1\" class=\"dataframe\">\n",
              "  <thead>\n",
              "    <tr style=\"text-align: right;\">\n",
              "      <th></th>\n",
              "      <th>Pclass</th>\n",
              "      <th>Name</th>\n",
              "      <th>Sex</th>\n",
              "      <th>Age</th>\n",
              "      <th>SibSp</th>\n",
              "      <th>Parch</th>\n",
              "      <th>Ticket</th>\n",
              "      <th>Fare</th>\n",
              "      <th>Cabin</th>\n",
              "      <th>Embarked</th>\n",
              "    </tr>\n",
              "  </thead>\n",
              "  <tbody>\n",
              "    <tr>\n",
              "      <th>0</th>\n",
              "      <td>3</td>\n",
              "      <td>Braund, Mr. Owen Harris</td>\n",
              "      <td>male</td>\n",
              "      <td>22.0</td>\n",
              "      <td>1</td>\n",
              "      <td>0</td>\n",
              "      <td>A/5 21171</td>\n",
              "      <td>7.2500</td>\n",
              "      <td>NaN</td>\n",
              "      <td>S</td>\n",
              "    </tr>\n",
              "    <tr>\n",
              "      <th>1</th>\n",
              "      <td>1</td>\n",
              "      <td>Cumings, Mrs. John Bradley (Florence Briggs Th...</td>\n",
              "      <td>female</td>\n",
              "      <td>38.0</td>\n",
              "      <td>1</td>\n",
              "      <td>0</td>\n",
              "      <td>PC 17599</td>\n",
              "      <td>71.2833</td>\n",
              "      <td>C85</td>\n",
              "      <td>C</td>\n",
              "    </tr>\n",
              "    <tr>\n",
              "      <th>2</th>\n",
              "      <td>3</td>\n",
              "      <td>Heikkinen, Miss. Laina</td>\n",
              "      <td>female</td>\n",
              "      <td>26.0</td>\n",
              "      <td>0</td>\n",
              "      <td>0</td>\n",
              "      <td>STON/O2. 3101282</td>\n",
              "      <td>7.9250</td>\n",
              "      <td>NaN</td>\n",
              "      <td>S</td>\n",
              "    </tr>\n",
              "    <tr>\n",
              "      <th>3</th>\n",
              "      <td>1</td>\n",
              "      <td>Futrelle, Mrs. Jacques Heath (Lily May Peel)</td>\n",
              "      <td>female</td>\n",
              "      <td>35.0</td>\n",
              "      <td>1</td>\n",
              "      <td>0</td>\n",
              "      <td>113803</td>\n",
              "      <td>53.1000</td>\n",
              "      <td>C123</td>\n",
              "      <td>S</td>\n",
              "    </tr>\n",
              "    <tr>\n",
              "      <th>4</th>\n",
              "      <td>3</td>\n",
              "      <td>Allen, Mr. William Henry</td>\n",
              "      <td>male</td>\n",
              "      <td>35.0</td>\n",
              "      <td>0</td>\n",
              "      <td>0</td>\n",
              "      <td>373450</td>\n",
              "      <td>8.0500</td>\n",
              "      <td>NaN</td>\n",
              "      <td>S</td>\n",
              "    </tr>\n",
              "  </tbody>\n",
              "</table>\n",
              "</div>"
            ],
            "text/plain": [
              "   Pclass                                               Name     Sex   Age  \\\n",
              "0       3                            Braund, Mr. Owen Harris    male  22.0   \n",
              "1       1  Cumings, Mrs. John Bradley (Florence Briggs Th...  female  38.0   \n",
              "2       3                             Heikkinen, Miss. Laina  female  26.0   \n",
              "3       1       Futrelle, Mrs. Jacques Heath (Lily May Peel)  female  35.0   \n",
              "4       3                           Allen, Mr. William Henry    male  35.0   \n",
              "\n",
              "   SibSp  Parch            Ticket     Fare Cabin Embarked  \n",
              "0      1      0         A/5 21171   7.2500   NaN        S  \n",
              "1      1      0          PC 17599  71.2833   C85        C  \n",
              "2      0      0  STON/O2. 3101282   7.9250   NaN        S  \n",
              "3      1      0            113803  53.1000  C123        S  \n",
              "4      0      0            373450   8.0500   NaN        S  "
            ]
          },
          "execution_count": 2,
          "metadata": {},
          "output_type": "execute_result"
        }
      ],
      "source": [
        "# \u91cd\u7d44\u8cc7\u6599\u6210\u70ba\u8a13\u7df4 / \u9810\u6e2c\u7528\u683c\u5f0f\n",
        "ids = df_test['PassengerId']\n",
        "train_Y = df_train['Survived']\n",
        "df_train = df_train.drop(['PassengerId', 'Survived'], axis=1)\n",
        "df_test = df_test.drop(['PassengerId'], axis=1)\n",
        "df = pd.concat([df_train, df_test])\n",
        "df.head()"
      ]
    },
    {
      "cell_type": "code",
      "execution_count": 3,
      "metadata": {},
      "outputs": [
        {
          "data": {
            "text/html": [
              "<div>\n",
              "<style scoped>\n",
              "    .dataframe tbody tr th:only-of-type {\n",
              "        vertical-align: middle;\n",
              "    }\n",
              "\n",
              "    .dataframe tbody tr th {\n",
              "        vertical-align: top;\n",
              "    }\n",
              "\n",
              "    .dataframe thead th {\n",
              "        text-align: right;\n",
              "    }\n",
              "</style>\n",
              "<table border=\"1\" class=\"dataframe\">\n",
              "  <thead>\n",
              "    <tr style=\"text-align: right;\">\n",
              "      <th></th>\n",
              "      <th>Column Type</th>\n",
              "      <th>Count</th>\n",
              "    </tr>\n",
              "  </thead>\n",
              "  <tbody>\n",
              "    <tr>\n",
              "      <th>0</th>\n",
              "      <td>int64</td>\n",
              "      <td>3</td>\n",
              "    </tr>\n",
              "    <tr>\n",
              "      <th>1</th>\n",
              "      <td>float64</td>\n",
              "      <td>2</td>\n",
              "    </tr>\n",
              "    <tr>\n",
              "      <th>2</th>\n",
              "      <td>object</td>\n",
              "      <td>5</td>\n",
              "    </tr>\n",
              "  </tbody>\n",
              "</table>\n",
              "</div>"
            ],
            "text/plain": [
              "  Column Type  Count\n",
              "0       int64      3\n",
              "1     float64      2\n",
              "2      object      5"
            ]
          },
          "execution_count": 3,
          "metadata": {},
          "output_type": "execute_result"
        }
      ],
      "source": [
        "# \u79c0\u51fa\u8cc7\u6599\u6b04\u4f4d\u7684\u985e\u578b\u8207\u6578\u91cf\n",
        "dtype_df = df.dtypes.reset_index()\n",
        "dtype_df.columns = ['Count', 'Column Type']\n",
        "dtype_df = dtype_df.groupby('Column Type').aggregate('count').reset_index()\n",
        "dtype_df"
      ]
    },
    {
      "cell_type": "code",
      "execution_count": 4,
      "metadata": {},
      "outputs": [
        {
          "name": "stdout",
          "output_type": "stream",
          "text": [
            "3 Integer Features : ['Pclass', 'SibSp', 'Parch']\n",
            "\n",
            "2 Float Features : ['Age', 'Fare']\n",
            "\n",
            "5 Object Features : ['Name', 'Sex', 'Ticket', 'Cabin', 'Embarked']\n"
          ]
        }
      ],
      "source": [
        "#\u78ba\u5b9a\u53ea\u6709 int64, float64, object \u4e09\u7a2e\u985e\u578b\u5f8c, \u5206\u5225\u5c07\u6b04\u4f4d\u540d\u7a31\u5b58\u65bc\u4e09\u500b list \u4e2d\n",
        "int_features = []\n",
        "float_features = []\n",
        "object_features = []\n",
        "for dtype, feature in zip(df.dtypes, df.columns):\n",
        "    if dtype == 'float64':\n",
        "        float_features.append(feature)\n",
        "    elif dtype == 'int64':\n",
        "        int_features.append(feature)\n",
        "    else:\n",
        "        object_features.append(feature)\n",
        "print(f'{len(int_features)} Integer Features : {int_features}\\n')\n",
        "print(f'{len(float_features)} Float Features : {float_features}\\n')\n",
        "print(f'{len(object_features)} Object Features : {object_features}')"
      ]
    },
    {
      "cell_type": "markdown",
      "metadata": {
        "collapsed": true
      },
      "source": [
        "# \u4f5c\u696d1 \n",
        "* \u8a66\u8457\u57f7\u884c\u4f5c\u696d\u7a0b\u5f0f\uff0c\u89c0\u5bdf\u4e09\u7a2e\u985e\u578b (int / float / object) \u7684\u6b04\u4f4d\u5206\u5225\u9032\u884c( \u5e73\u5747 mean / \u6700\u5927\u503c Max / \u76f8\u7570\u503c nunique )  \n",
        "\u4e2d\u7684\u4e5d\u6b21\u64cd\u4f5c\u6703\u6709\u90a3\u4e9b\u554f\u984c? \u4e26\u8a66\u8457\u89e3\u91cb\u90a3\u4e9b\u767c\u751fError\u7684\u7a0b\u5f0f\u5340\u584a\u7684\u539f\u56e0?\n",
        "\n",
        "\u7b54\uff1a\u6574\u6578\u53d6\u5e73\u5747\u3001\u6700\u5927\u503c\u4e0d\u4e00\u5b9a\u6709\u610f\u7fa9\uff0c\u56e0\u70ba\u6709\u53ef\u80fd\u6703\u662f\u7121\u5e8f\u7684\u985e\u5225\u8cc7\u6599\u3002\u6d6e\u9ede\u6578\u53d6\u76f8\u7570\u503c\u4ea6\u4e0d\u898b\u5f97\u6709\u610f\u7fa9\u3002\u7269\u4ef6\u53d6\u5e73\u5747\u3001\u6700\u5927\u503c\u53ef\u80fd\u6703\u51fa\u554f\u984c\u3002\n",
        "\n",
        "# \u4f5c\u696d2\n",
        "* \u601d\u8003\u4e00\u4e0b\uff0c\u8a66\u8457\u8209\u51fa\u4eca\u5929\u4e94\u7a2e\u985e\u578b\u4ee5\u5916\u7684\u4e00\u7a2e\u6216\u591a\u7a2e\u8cc7\u6599\u985e\u578b\uff0c\u4f60\u8209\u51fa\u7684\u65b0\u985e\u578b\u662f\u5426\u53ef\u4ee5\u6b78\u5728\u4e09\u5927\u985e\u4e2d\u7684\u67d0\u4e9b\u5927\u985e?  \n",
        "\u6240\u4ee5\u4e09\u5927\u985e\u7279\u5fb5\u4e2d\uff0c\u54ea\u4e00\u5927\u985e\u8655\u7406\u8d77\u4f86\u61c9\u8a72\u6700\u8907\u96dc?\n",
        "\n",
        "\u7b54\uff1a\u7269\u4ef6\u985e\u578b\u6700\u70ba\u8907\u96dc\uff0c\u5927\u591a\u70ba\u5b57\u4e32\uff0c\u8f49\u63db\u5f8c\u6709\u53ef\u80fd\u96b1\u85cf\u8457\u6709\u5e8f\u7684\u6578\u503c\u985e\u578b\uff0c\u6700\u5f8c\u90fd\u6709\u6a5f\u6703\u6b78\u985e\u5728\u4e09\u5927\u985e\u4e2d\u3002"
      ]
    },
    {
      "cell_type": "markdown",
      "metadata": {
        "collapsed": true
      },
      "source": [
        "### \u8acb\u4f9d\u5e8f\u5217\u51fa \u4e09\u7a2e\u7279\u5fb5\u985e\u578b (int / float / object) x \u4e09\u7a2e\u65b9\u6cd5 (\u5e73\u5747 mean / \u6700\u5927\u503c Max / \u76f8\u7570\u503c nunique) \u7684\u5176\u9918\u64cd\u4f5c"
      ]
    },
    {
      "cell_type": "code",
      "execution_count": 5,
      "metadata": {},
      "outputs": [
        {
          "data": {
            "text/plain": [
              "Pclass    2.294882\n",
              "SibSp     0.498854\n",
              "Parch     0.385027\n",
              "dtype: float64"
            ]
          },
          "execution_count": 5,
          "metadata": {},
          "output_type": "execute_result"
        }
      ],
      "source": [
        "# \u6574\u6578\u53d6\u5e73\u5747\n",
        "df[int_features].mean()"
      ]
    },
    {
      "cell_type": "code",
      "execution_count": 6,
      "metadata": {},
      "outputs": [
        {
          "data": {
            "text/plain": [
              "Pclass    3\n",
              "SibSp     8\n",
              "Parch     9\n",
              "dtype: int64"
            ]
          },
          "execution_count": 6,
          "metadata": {},
          "output_type": "execute_result"
        }
      ],
      "source": [
        "# \u6574\u6578\u53d6\u6700\u5927\u503c\n",
        "df[int_features].max()"
      ]
    },
    {
      "cell_type": "code",
      "execution_count": 7,
      "metadata": {},
      "outputs": [
        {
          "data": {
            "text/plain": [
              "Pclass    3\n",
              "SibSp     7\n",
              "Parch     8\n",
              "dtype: int64"
            ]
          },
          "execution_count": 7,
          "metadata": {},
          "output_type": "execute_result"
        }
      ],
      "source": [
        "# \u6574\u6578\u53d6\u76f8\u7570\u503c\n",
        "df[int_features].nunique()"
      ]
    },
    {
      "cell_type": "code",
      "execution_count": 8,
      "metadata": {},
      "outputs": [
        {
          "data": {
            "text/plain": [
              "Age     29.881138\n",
              "Fare    33.295479\n",
              "dtype: float64"
            ]
          },
          "execution_count": 8,
          "metadata": {},
          "output_type": "execute_result"
        }
      ],
      "source": [
        "# \u6d6e\u9ede\u6578\u53d6\u5e73\u5747\n",
        "df[float_features].mean()"
      ]
    },
    {
      "cell_type": "code",
      "execution_count": 9,
      "metadata": {},
      "outputs": [
        {
          "data": {
            "text/plain": [
              "Age      80.0000\n",
              "Fare    512.3292\n",
              "dtype: float64"
            ]
          },
          "execution_count": 9,
          "metadata": {},
          "output_type": "execute_result"
        }
      ],
      "source": [
        "# \u6d6e\u9ede\u6578\u53d6\u6700\u5927\u503c\n",
        "df[float_features].max()"
      ]
    },
    {
      "cell_type": "code",
      "execution_count": 10,
      "metadata": {},
      "outputs": [
        {
          "data": {
            "text/plain": [
              "Age      98\n",
              "Fare    281\n",
              "dtype: int64"
            ]
          },
          "execution_count": 10,
          "metadata": {},
          "output_type": "execute_result"
        }
      ],
      "source": [
        "# \u6d6e\u9ede\u6578\u53d6\u76f8\u7570\u503c\n",
        "df[float_features].nunique()"
      ]
    },
    {
      "cell_type": "code",
      "execution_count": 11,
      "metadata": {},
      "outputs": [
        {
          "data": {
            "text/plain": [
              "Series([], dtype: float64)"
            ]
          },
          "execution_count": 11,
          "metadata": {},
          "output_type": "execute_result"
        }
      ],
      "source": [
        "# \u7269\u4ef6\u53d6\u5e73\u5747\n",
        "df[object_features].mean()"
      ]
    },
    {
      "cell_type": "code",
      "execution_count": 12,
      "metadata": {},
      "outputs": [
        {
          "data": {
            "text/plain": [
              "Name      van Melkebeke, Mr. Philemon\n",
              "Sex                              male\n",
              "Ticket                      WE/P 5735\n",
              "dtype: object"
            ]
          },
          "execution_count": 12,
          "metadata": {},
          "output_type": "execute_result"
        }
      ],
      "source": [
        "# \u7269\u4ef6\u53d6\u6700\u5927\u503c\n",
        "df[object_features].max()"
      ]
    },
    {
      "cell_type": "code",
      "execution_count": 13,
      "metadata": {},
      "outputs": [
        {
          "data": {
            "text/plain": [
              "Name        1307\n",
              "Sex            2\n",
              "Ticket       929\n",
              "Cabin        186\n",
              "Embarked       3\n",
              "dtype: int64"
            ]
          },
          "execution_count": 13,
          "metadata": {},
          "output_type": "execute_result"
        }
      ],
      "source": [
        "# \u7269\u4ef6\u53d6\u76f8\u7570\u503c\n",
        "df[object_features].nunique()"
      ]
    },
    {
      "cell_type": "code",
      "execution_count": null,
      "metadata": {},
      "outputs": [],
      "source": []
    }
  ],
  "metadata": {
    "kernelspec": {
      "display_name": "Python 3",
      "language": "python",
      "name": "python3"
    },
    "language_info": {
      "codemirror_mode": {
        "name": "ipython",
        "version": 3
      },
      "file_extension": ".py",
      "mimetype": "text/x-python",
      "name": "python",
      "nbconvert_exporter": "python",
      "pygments_lexer": "ipython3",
      "version": "3.7.3"
    }
  },
  "nbformat": 4,
  "nbformat_minor": 2
}