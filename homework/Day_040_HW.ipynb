{
  "cells": [
    {
      "cell_type": "markdown",
      "metadata": {},
      "source": [
        "## [\u4f5c\u696d\u91cd\u9ede]\n",
        "\u4f7f\u7528 Sklearn \u4e2d\u7684 Lasso, Ridge \u6a21\u578b\uff0c\u4f86\u8a13\u7df4\u5404\u7a2e\u8cc7\u6599\u96c6\uff0c\u52d9\u5fc5\u4e86\u89e3\u9001\u9032\u53bb\u6a21\u578b\u8a13\u7df4\u7684**\u8cc7\u6599\u578b\u614b**\u70ba\u4f55\uff0c\u4e5f\u8acb\u4e86\u89e3\u6a21\u578b\u4e2d\u5404\u9805\u53c3\u6578\u7684\u610f\u7fa9\u3002\n",
        "\n",
        "\u6a5f\u5668\u5b78\u7fd2\u7684\u6a21\u578b\u975e\u5e38\u591a\u7a2e\uff0c\u4f46\u8981\u8a13\u7df4\u7684\u8cc7\u6599\u591a\u534a\u6709\u56fa\u5b9a\u7684\u683c\u5f0f\uff0c\u78ba\u4fdd\u4f60\u4e86\u89e3\u8a13\u7df4\u8cc7\u6599\u7684\u683c\u5f0f\u70ba\u4f55\uff0c\u9019\u6a23\u5728\u61c9\u7528\u65b0\u6a21\u578b\u6642\uff0c\u5c31\u80fd\u5920\u6700\u5feb\u7684\u4e0a\u624b\u958b\u59cb\u8a13\u7df4\uff01"
      ]
    },
    {
      "cell_type": "markdown",
      "metadata": {},
      "source": [
        "## \u7df4\u7fd2\u6642\u9593\n",
        "\u8a66\u8457\u4f7f\u7528 sklearn datasets \u7684\u5176\u4ed6\u8cc7\u6599\u96c6 (boston, ...)\uff0c\u4f86\u8a13\u7df4\u81ea\u5df1\u7684\u7dda\u6027\u8ff4\u6b78\u6a21\u578b\uff0c\u4e26\u52a0\u4e0a\u9069\u7576\u7684\u6b63\u5247\u8a71\u4f86\u89c0\u5bdf\u8a13\u7df4\u60c5\u5f62\u3002"
      ]
    },
    {
      "cell_type": "code",
      "execution_count": 1,
      "metadata": {},
      "outputs": [],
      "source": [
        "import numpy as np\n",
        "import matplotlib.pyplot as plt\n",
        "\n",
        "from sklearn import datasets, linear_model\n",
        "from sklearn.model_selection import train_test_split\n",
        "from sklearn.metrics import mean_squared_error, r2_score"
      ]
    },
    {
      "cell_type": "code",
      "execution_count": 2,
      "metadata": {},
      "outputs": [],
      "source": [
        "boston = datasets.load_boston()\n",
        "x_train, x_test, y_train, y_test = train_test_split(boston.data, boston.target, test_size=0.1, random_state=4)"
      ]
    },
    {
      "cell_type": "code",
      "execution_count": 3,
      "metadata": {},
      "outputs": [
        {
          "name": "stdout",
          "output_type": "stream",
          "text": [
            "[-1.25856659e-01  4.84257396e-02  1.84085281e-02  3.08509569e+00\n",
            " -1.73277018e+01  3.61674713e+00  2.19181853e-03 -1.49361132e+00\n",
            "  3.19979200e-01 -1.27294649e-02 -9.27469086e-01  9.50912468e-03\n",
            " -5.33592471e-01]\n",
            "R2 score: 0.79\n",
            "Mean squared error: 17.04\n"
          ]
        }
      ],
      "source": [
        "lreg = linear_model.LinearRegression()\n",
        "lreg.fit(x_train, y_train)\n",
        "y_pred = lreg.predict(x_test)\n",
        "print(lreg.coef_)\n",
        "print(\"R2 score: %.2f\" % r2_score(y_test, y_pred))\n",
        "print(\"Mean squared error: %.2f\" % mean_squared_error(y_test, y_pred))"
      ]
    },
    {
      "cell_type": "code",
      "execution_count": 4,
      "metadata": {},
      "outputs": [
        {
          "name": "stdout",
          "output_type": "stream",
          "text": [
            "[-1.25856659e-01  4.84257396e-02  1.84085281e-02  3.08509569e+00\n",
            " -1.73277018e+01  3.61674713e+00  2.19181853e-03 -1.49361132e+00\n",
            "  3.19979200e-01 -1.27294649e-02 -9.27469086e-01  9.50912468e-03\n",
            " -5.33592471e-01]\n",
            "R2 score: 0.78\n",
            "Mean squared error: 18.42\n"
          ]
        }
      ],
      "source": [
        "lasso = linear_model.Lasso(alpha=0.2)\n",
        "lasso.fit(x_train, y_train)\n",
        "y_pred = lasso.predict(x_test)\n",
        "print(lreg.coef_)\n",
        "print(\"R2 score: %.2f\" % r2_score(y_test, y_pred))\n",
        "print(\"Mean squared error: %.2f\" % mean_squared_error(y_test, y_pred))"
      ]
    },
    {
      "cell_type": "code",
      "execution_count": 5,
      "metadata": {},
      "outputs": [
        {
          "name": "stdout",
          "output_type": "stream",
          "text": [
            "[-1.25856659e-01  4.84257396e-02  1.84085281e-02  3.08509569e+00\n",
            " -1.73277018e+01  3.61674713e+00  2.19181853e-03 -1.49361132e+00\n",
            "  3.19979200e-01 -1.27294649e-02 -9.27469086e-01  9.50912468e-03\n",
            " -5.33592471e-01]\n",
            "R2 score: 0.79\n",
            "Mean squared error: 17.10\n"
          ]
        }
      ],
      "source": [
        "ridge = linear_model.Ridge(alpha=0.2)\n",
        "ridge.fit(x_train, y_train)\n",
        "y_pred = ridge.predict(x_test)\n",
        "print(lreg.coef_)\n",
        "print(\"R2 score: %.2f\" % r2_score(y_test, y_pred))\n",
        "print(\"Mean squared error: %.2f\" % mean_squared_error(y_test, y_pred))"
      ]
    },
    {
      "cell_type": "code",
      "execution_count": null,
      "metadata": {},
      "outputs": [],
      "source": []
    }
  ],
  "metadata": {
    "kernelspec": {
      "display_name": "Python 3",
      "language": "python",
      "name": "python3"
    },
    "language_info": {
      "codemirror_mode": {
        "name": "ipython",
        "version": 3
      },
      "file_extension": ".py",
      "mimetype": "text/x-python",
      "name": "python",
      "nbconvert_exporter": "python",
      "pygments_lexer": "ipython3",
      "version": "3.7.3"
    }
  },
  "nbformat": 4,
  "nbformat_minor": 2
}