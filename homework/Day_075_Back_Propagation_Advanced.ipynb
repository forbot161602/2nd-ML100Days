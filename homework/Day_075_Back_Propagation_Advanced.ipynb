{
  "cells": [
    {
      "cell_type": "markdown",
      "metadata": {},
      "source": [
        "## BP \u6f14\u7b97\u6cd5\u8a13\u7df4\u7684\u795e\u7d93\u7db2\u8def\n",
        "\n",
        "\u76ee\u6a19\uff1a\u5617\u8a66\u8457\u7528\u8f38\u5165\u53bb\u9810\u6e2c\u8f38\u51fa\uff0c\u4e26\u4e86\u89e3\u6b0a\u91cd\u7684\u66f4\u65b0\u3002\n",
        "\n",
        "\u8003\u616e\u4ee5\u4e0b\u60c5\u5f62\uff0c\u7d66\u5b9a\u4e09\u5217\u8f38\u5165\uff0c\u8a66\u8457\u53bb\u9810\u6e2c\u5c0d\u61c9\u7684\u4e00\u5217\u8f38\u51fa\uff0c\u6211\u5011\u53ef\u4ee5\u901a\u904e\u7c21\u55ae\u6e2c\u91cf\u8f38\u5165\u8207\u8f38\u51fa\u503c\u7684\u8cc7\u6599\u4f86\u89e3\u6c7a\u9019\u4e00\u554f\u984c\u3002\u6700\u5de6\u908a\u7684\u4e00\u5217\u8f38\u5165\u503c\u548c\u8f38\u51fa\u503c\u662f\u5b8c\u7f8e\u5339\u914d/\u5b8c\u5168\u76f8\u95dc\u7684\uff0c\u53cd\u5411\u50b3\u64ad\u6f14\u7b97\u6cd5\u4fbf\u662f\u901a\u904e\u9019\u7a2e\u65b9\u5f0f\u4f86\u8861\u91cf\u8cc7\u6599\u9593\u7d71\u8a08\u95dc\u4fc2\u9032\u800c\u5f97\u5230\u6a21\u578b\u7684\u3002"
      ]
    },
    {
      "cell_type": "markdown",
      "metadata": {},
      "source": [
        "## \u53c3\u6578\u5b9a\u7fa9\n",
        "\n",
        "X: \u8f38\u5165\u8cc7\u6599\u96c6\uff0c\u5f62\u5f0f\u70ba\u77e9\u9663\uff0c\u6bcf 1 \u884c\u4ee3\u8868 1 \u500b\u8a13\u7df4\u6a23\u672c\u3002\n",
        "\n",
        "y: \u8f38\u51fa\u8cc7\u6599\u96c6\uff0c\u5f62\u5f0f\u70ba\u77e9\u9663\uff0c\u6bcf 1 \u884c\u4ee3\u8868 1 \u500b\u8a13\u7df4\u6a23\u672c\u3002\n",
        "\n",
        "l0: \u7db2\u8def\u7b2c 1 \u5c64\uff0c\u5373\u7db2\u8def\u8f38\u5165\u5c64\u3002\n",
        "\n",
        "l1:\t\u7db2\u8def\u7b2c 2 \u5c64\uff0c\u5e38\u7a31\u4f5c\u96b1\u85cf\u5c64\u3002\n",
        "\n",
        "syn0: \u7b2c\u4e00\u5c64\u6b0a\u503c\uff0c\u7a81\u89f8 0\uff0c\u9023\u63a5 l0 \u5c64\u8207 l1 \u5c64\u3002"
      ]
    },
    {
      "cell_type": "markdown",
      "metadata": {},
      "source": [
        "## \u8a9e\u6cd5\u5b9a\u7fa9\n",
        "\n",
        "\"\u2013\": \u5143\u7d20\u76f8\u6e1b\uff0c\u6545\u5169\u7b49\u9577\u5411\u91cf\u76f8\u6e1b\u7b49\u540c\u65bc\u5176\u5c0d\u7b49\u5143\u7d20\u5206\u5225\u76f8\u6e1b\uff0c\u7d50\u679c\u70ba\u540c\u7b49\u9577\u5ea6\u7684\u5411\u91cf\u3002\n",
        "\n",
        "\"\\*\": \u9010\u5143\u7d20\u76f8\u4e58\uff0c\u6545\u5169\u7b49\u9577\u5411\u91cf\u76f8\u4e58\u7b49\u540c\u65bc\u5176\u5c0d\u7b49\u5143\u7d20\u5206\u5225\u76f8\u4e58\uff0c\u7d50\u679c\u70ba\u540c\u7b49\u9577\u5ea6\u7684\u5411\u91cf\u3002\n",
        "\n",
        "x.dot(y): \u82e5 x \u548c y \u70ba\u5411\u91cf\uff0c\u5247\u9032\u884c\u9ede\u7a4d\u64cd\u4f5c\uff1b\u82e5\u5747\u70ba\u77e9\u9663\uff0c\u5247\u9032\u884c\u77e9\u9663\u76f8\u4e58\u64cd\u4f5c\uff1b\u82e5\u5176\u4e2d\u4e4b\u4e00\u70ba\u77e9\u9663\uff0c\u5247\u9032\u884c\u5411\u91cf\u8207\u77e9\u9663\u76f8\u4e58\u64cd\u4f5c\u3002"
      ]
    },
    {
      "cell_type": "code",
      "execution_count": 1,
      "metadata": {},
      "outputs": [],
      "source": [
        "import numpy as np\n",
        "import matplotlib.pyplot as plt\n",
        "np.random.seed(1)"
      ]
    },
    {
      "cell_type": "code",
      "execution_count": 2,
      "metadata": {},
      "outputs": [],
      "source": [
        "# \u8f38\u5165 X: 4 * 3 \u7684\u77e9\u9663\uff0c\u7e3d\u5171\u56db\u7b46\u8a13\u7df4\u8cc7\u6599\uff0c\u6bcf\u7b46\u4e09\u500b\u7279\u5fb5\u8207 syn0 \u4e09\u500b\u6b0a\u91cd\u914d\u5c0d\uff0c\u5373\u4e00\u500b\u795e\u7d93\u5143\u6709\u4e09\u500b\u8f38\u5165\u7bc0\u9ede\u3002\n",
        "X = np.array([[0,0,1], [0,1,1], [1,0,1], [1,1,1]])\n",
        "\n",
        "# \u8f38\u51fa y: 4 * 1 \u7684\u77e9\u9663\uff0c\u70ba\u884c\u5411\u91cf\uff0c\u5373\u4e00\u500b\u795e\u7d93\u5143\u6709\u4e00\u500b\u8f38\u51fa\u7bc0\u9ede\u3002\n",
        "y = np.array([[0, 0, 1, 1]]).T\n",
        "\n",
        "# \u7a81\u89f8 0: 4 * 1 \u7684\u77e9\u9663\uff0c\u70ba\u884c\u5411\u91cf\uff0c\u521d\u59cb\u96a8\u6a5f\u503c\u4ecb\u65bc [-1, 1] \u7684\u6b0a\u91cd\u77e9\u9663\u3002\n",
        "w = 2 * np.random.random((3, 1,)) - 1"
      ]
    },
    {
      "cell_type": "markdown",
      "metadata": {},
      "source": [
        "## \u5b9a\u7fa9 acfun \u70ba Sigmoid \u555f\u52d5\u51fd\u6578 y = \u03c3(x)\n",
        "\n",
        "\u7576\u53cd\u5411\u50b3\u64ad\u6642\uff0cval \u4e0d\u662f\u555f\u52d5\u51fd\u6578\u7684\u8f38\u5165\u503c\u800c\u662f\u5176\u8f38\u51fa\u503c\uff0c\u53c3\u6578 derivative \u61c9\u70ba True\u3002\n",
        "\n",
        "\u4f8b\u5982\uff0cl0 \u6709\u4e09\u500b\u53c3\u6578 x1\u3001x2\u3001x3\uff0cl1 \u70ba z = w1x1 + w2x2 + w3x3\uff0cout \u70ba y = \u03c3(z)\uff0closs \u70ba y - y_hat\u3002\u8a08\u7b97\u640d\u5931\u51fd\u6578\u8207\u6b0a\u91cd\u7684\u8b8a\u5316\uff1a\n",
        "\n",
        "\u56e0\u70ba \u2202L/\u2202z = \u2202y/\u2202z * \u2202L/\u2202y\uff0c\u5176\u4e2d \u2202y/\u2202z = \u03c3'(z) = \u03c3(z) * (1 - \u03c3(z)) = y * (1 - y)\uff0c\u9019\u662f Sigmoid \u51fd\u6578\u512a\u7570\u7684\u7279\u6027\u4e4b\u4e00\uff0c\u5728\u65bc\u53ea\u7528\u5b83\u7684\u8f38\u51fa\u503c\u4fbf\u53ef\u4ee5\u5f97\u5230\u5176\u5c0e\u6578\u503c\u3002\u53c8 \u2202L/\u2202w = \u2202z/\u2202w * \u2202L/\u2202z\uff0c\u85c9\u7531 \u2202z/\u2202w = xT \u53ef\u518d\u63a8\u5f97 \u2202L/\u2202w\u3002"
      ]
    },
    {
      "cell_type": "code",
      "execution_count": 3,
      "metadata": {},
      "outputs": [],
      "source": [
        "def acfun(val, derivative=False):\n",
        "    if derivative:\n",
        "        return val * (1 - val)\n",
        "    return 1 / (1 + np.exp(-val))"
      ]
    },
    {
      "cell_type": "code",
      "execution_count": 4,
      "metadata": {},
      "outputs": [],
      "source": [
        "def back_propagation_iterator(l0, out, syn0, epochs=10000, learning_rate=0.1):\n",
        "    iters = {}\n",
        "    for i in range(epochs):\n",
        "        l1 = acfun(np.dot(l0, syn0))\n",
        "        dLdl1 = acfun(l1, True) * (out - l1)\n",
        "        dLdsy0 = np.dot(l0.T, dLdl1)\n",
        "        syn0, iters[i] = syn0 - learning_rate * dLdsy0, syn0\n",
        "    return np.array(list(iters.items()))\n",
        "\n",
        "def back_propagation_plot(n, syn, title):\n",
        "    for i in range(syn.shape[1]):\n",
        "        plt.plot(n, syn[:, i], ms=3, lw=1.5, c='k')\n",
        "    plt.xlabel(f'${title}$', fontsize=16)\n",
        "    plt.show()"
      ]
    },
    {
      "cell_type": "markdown",
      "metadata": {},
      "source": [
        "## \u795e\u7d93\u7db2\u8def\u8a13\u7df4"
      ]
    },
    {
      "cell_type": "code",
      "execution_count": 5,
      "metadata": {},
      "outputs": [
        {
          "data": {
            "text/plain": [
              "array([[0,\n",
              "        array([[-0.16595599],\n",
              "       [ 0.44064899],\n",
              "       [-0.99977125]])],\n",
              "       [1,\n",
              "        array([[-0.194577  ],\n",
              "       [ 0.43425769],\n",
              "       [-1.0146846 ]])],\n",
              "       [2,\n",
              "        array([[-0.22299174],\n",
              "       [ 0.4277314 ],\n",
              "       [-1.02964803]])],\n",
              "       ...,\n",
              "       [9997,\n",
              "        array([[-13.27851199],\n",
              "       [  0.43356606],\n",
              "       [  6.21623664]])],\n",
              "       [9998,\n",
              "        array([[-13.27872912],\n",
              "       [  0.43356332],\n",
              "       [  6.21634692]])],\n",
              "       [9999,\n",
              "        array([[-13.27894622],\n",
              "       [  0.43356059],\n",
              "       [  6.21645719]])]], dtype=object)"
            ]
          },
          "execution_count": 5,
          "metadata": {},
          "output_type": "execute_result"
        }
      ],
      "source": [
        "iters = back_propagation_iterator(X, y, w)\n",
        "iters"
      ]
    },
    {
      "cell_type": "code",
      "execution_count": 6,
      "metadata": {},
      "outputs": [
        {
          "data": {
            "image/png": "[encoded data removed]",
            "text/plain": [
              "<Figure size 432x288 with 1 Axes>"
            ]
          },
          "metadata": {
            "needs_background": "light"
          },
          "output_type": "display_data"
        }
      ],
      "source": [
        "back_propagation_plot(iters[:, 0], np.array(list(iters[:, 1])), 'L1')"
      ]
    },
    {
      "cell_type": "code",
      "execution_count": null,
      "metadata": {},
      "outputs": [],
      "source": []
    }
  ],
  "metadata": {
    "kernelspec": {
      "display_name": "Python 3",
      "language": "python",
      "name": "python3"
    },
    "language_info": {
      "codemirror_mode": {
        "name": "ipython",
        "version": 3
      },
      "file_extension": ".py",
      "mimetype": "text/x-python",
      "name": "python",
      "nbconvert_exporter": "python",
      "pygments_lexer": "ipython3",
      "version": "3.7.3"
    }
  },
  "nbformat": 4,
  "nbformat_minor": 2
}