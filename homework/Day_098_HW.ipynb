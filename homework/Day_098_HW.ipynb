{
 "cells": [
  {
   "cell_type": "markdown",
   "metadata": {},
   "source": [
    "## 作業"
   ]
  },
  {
   "cell_type": "markdown",
   "metadata": {},
   "source": [
    "請參考昨天的程式碼，訓練資料讀取的方式改寫成 Python Generator，並將原本的 model.fit 改為 model.fit_generator 來進行訓練。"
   ]
  },
  {
   "cell_type": "markdown",
   "metadata": {},
   "source": [
    "## 參考資料\n",
    "\n",
    "[The Sequential model API](https://keras.io/models/sequential/)\n",
    "\n",
    "[Keras系列 - 利用 fit_generator 最小化显存占用比率/数据批次化](https://blog.csdn.net/sinat_26917383/article/details/74922230)"
   ]
  },
  {
   "cell_type": "code",
   "execution_count": 1,
   "metadata": {},
   "outputs": [],
   "source": [
    "import math\n",
    "import numpy as np\n",
    "import tensorflow as tf\n",
    "import matplotlib.pyplot as plt\n",
    "from keras import backend\n",
    "from keras.utils import np_utils\n",
    "from keras.datasets import cifar10\n",
    "from keras.models import Sequential\n",
    "from keras.layers import Input, Dense, Dropout, Activation, Flatten, Conv2D, MaxPooling2D\n",
    "from keras.optimizers import RMSprop\n",
    "tf.logging.set_verbosity(tf.logging.ERROR)"
   ]
  },
  {
   "cell_type": "markdown",
   "metadata": {},
   "source": [
    "## 準備資料"
   ]
  },
  {
   "cell_type": "code",
   "execution_count": 2,
   "metadata": {},
   "outputs": [],
   "source": [
    "(X_train, y_train), (X_test, y_test) = cifar10.load_data()"
   ]
  },
  {
   "cell_type": "code",
   "execution_count": 3,
   "metadata": {},
   "outputs": [],
   "source": [
    "def normalize_cifar10_data(x, y):\n",
    "    x = x / 255.\n",
    "    y = np_utils.to_categorical(y, num_classes=10)\n",
    "    return x, y\n",
    "\n",
    "def normalize_result(x, y):\n",
    "    print('x.shape:', x.shape)\n",
    "    print('y.shape:', y.shape)"
   ]
  },
  {
   "cell_type": "code",
   "execution_count": 4,
   "metadata": {},
   "outputs": [
    {
     "name": "stdout",
     "output_type": "stream",
     "text": [
      "Before normalization:\n",
      "x.shape: (50000, 32, 32, 3)\n",
      "y.shape: (50000, 1)\n"
     ]
    }
   ],
   "source": [
    "print('Before normalization:')\n",
    "normalize_result(X_train, y_train)"
   ]
  },
  {
   "cell_type": "code",
   "execution_count": 5,
   "metadata": {},
   "outputs": [
    {
     "name": "stdout",
     "output_type": "stream",
     "text": [
      "After normalization:\n",
      "x.shape: (50000, 32, 32, 3)\n",
      "y.shape: (50000, 10)\n"
     ]
    }
   ],
   "source": [
    "print('After normalization:')\n",
    "X_train, y_train = normalize_cifar10_data(X_train, y_train)\n",
    "X_test, y_test = normalize_cifar10_data(X_test, y_test)\n",
    "normalize_result(X_train, y_train)"
   ]
  },
  {
   "cell_type": "markdown",
   "metadata": {},
   "source": [
    "## 定義函數"
   ]
  },
  {
   "cell_type": "code",
   "execution_count": 6,
   "metadata": {},
   "outputs": [],
   "source": [
    "def image_generator(x, y, batch_size=32):\n",
    "    total = x.shape[0]\n",
    "    idx_list = np.arange(total)\n",
    "    while True:\n",
    "        np.random.shuffle(idx_list)\n",
    "        idx_matrix = [idx_list[i * batch_size:(i + 1) * batch_size] for i in range(int(math.ceil(total / batch_size)))]\n",
    "        for idx_list in idx_matrix:\n",
    "            yield x[idx_list], y[idx_list]\n",
    "\n",
    "class Trainer:\n",
    "\n",
    "    def __init__(self, X_train, y_train, X_test, y_test, epochs=50, batch_size=128, learning_rate=1e-3):\n",
    "        self.X_test = X_test\n",
    "        self.y_test = y_test\n",
    "        self.X_train = X_train\n",
    "        self.y_train = y_train\n",
    "        self.epochs = epochs\n",
    "        self.batch_size = batch_size\n",
    "        self.learning_rate = learning_rate\n",
    "        self._model = None\n",
    "        self._history = None\n",
    "\n",
    "    @property\n",
    "    def optimizer(self):\n",
    "        return RMSprop(lr=self.learning_rate)\n",
    "\n",
    "    @property\n",
    "    def generator(self):\n",
    "        return image_generator(*self.train_data, self.batch_size)\n",
    "\n",
    "    @property\n",
    "    def train_data(self):\n",
    "        return (self.X_train, self.y_train,)\n",
    "\n",
    "    @property\n",
    "    def validation_data(self):\n",
    "        return (self.X_test, self.y_test,)\n",
    "\n",
    "    def run(self):\n",
    "        return self._clear()._build()._launch()\n",
    "\n",
    "    def _clear(self):\n",
    "        backend.clear_session()\n",
    "        self._model = None\n",
    "        return self\n",
    "\n",
    "    def _build(self):\n",
    "        model = self._model = Sequential()\n",
    "        model.add(Conv2D(32, (3, 3,), input_shape=self.X_train.shape[1:]))\n",
    "        model.add(Activation('relu'))\n",
    "        model.add(Conv2D(32, (3, 3,)))\n",
    "        model.add(Activation('relu'))\n",
    "        model.add(MaxPooling2D(pool_size=(2, 2,)))\n",
    "        model.add(Dropout(0.15))\n",
    "        model.add(Conv2D(64, (3, 3,)))\n",
    "        model.add(Activation('relu'))\n",
    "        model.add(Conv2D(64, (3, 3,)))\n",
    "        model.add(Activation('relu'))\n",
    "        model.add(MaxPooling2D(pool_size=(2, 2,)))\n",
    "        model.add(Dropout(0.15))\n",
    "        model.add(Flatten())\n",
    "        model.add(Dense(512))\n",
    "        model.add(Activation('relu'))\n",
    "        model.add(Dense(64))\n",
    "        model.add(Activation('relu'))\n",
    "        model.add(Dropout(0.10))\n",
    "        model.add(Dense(self.y_train.shape[-1]))\n",
    "        model.add(Activation('softmax'))\n",
    "        model.compile(optimizer=self.optimizer, loss='categorical_crossentropy', metrics=['accuracy'])\n",
    "        return self\n",
    "\n",
    "    def _launch(self):\n",
    "        print('Experiment with trainer: {}'.format(self.__class__.__name__))\n",
    "        self._model.summary()\n",
    "        self._history = self._model.fit_generator(\n",
    "            self.generator, epochs=self.epochs, steps_per_epoch=int(math.ceil(self.X_train.shape[0] / self.batch_size)),\n",
    "            validation_data=self.validation_data, verbose=2)\n",
    "        return self\n",
    "\n",
    "    def display(self, train_name, val_name):\n",
    "        plt.figure(figsize=(8, 6,))\n",
    "        plt.plot(self._history.history[train_name])\n",
    "        plt.plot(self._history.history[val_name])\n",
    "        plt.xlabel('Epoch')\n",
    "        plt.ylabel(train_name)\n",
    "        plt.title('Train History')\n",
    "        plt.legend(['train', 'validation'], loc='upper left')\n",
    "        plt.show()"
   ]
  },
  {
   "cell_type": "markdown",
   "metadata": {},
   "source": [
    "## 訓練模型"
   ]
  },
  {
   "cell_type": "code",
   "execution_count": 7,
   "metadata": {},
   "outputs": [
    {
     "name": "stdout",
     "output_type": "stream",
     "text": [
      "Experiment with trainer: Trainer\n",
      "_________________________________________________________________\n",
      "Layer (type)                 Output Shape              Param #   \n",
      "=================================================================\n",
      "conv2d_1 (Conv2D)            (None, 30, 30, 32)        896       \n",
      "_________________________________________________________________\n",
      "activation_1 (Activation)    (None, 30, 30, 32)        0         \n",
      "_________________________________________________________________\n",
      "conv2d_2 (Conv2D)            (None, 28, 28, 32)        9248      \n",
      "_________________________________________________________________\n",
      "activation_2 (Activation)    (None, 28, 28, 32)        0         \n",
      "_________________________________________________________________\n",
      "max_pooling2d_1 (MaxPooling2 (None, 14, 14, 32)        0         \n",
      "_________________________________________________________________\n",
      "dropout_1 (Dropout)          (None, 14, 14, 32)        0         \n",
      "_________________________________________________________________\n",
      "conv2d_3 (Conv2D)            (None, 12, 12, 64)        18496     \n",
      "_________________________________________________________________\n",
      "activation_3 (Activation)    (None, 12, 12, 64)        0         \n",
      "_________________________________________________________________\n",
      "conv2d_4 (Conv2D)            (None, 10, 10, 64)        36928     \n",
      "_________________________________________________________________\n",
      "activation_4 (Activation)    (None, 10, 10, 64)        0         \n",
      "_________________________________________________________________\n",
      "max_pooling2d_2 (MaxPooling2 (None, 5, 5, 64)          0         \n",
      "_________________________________________________________________\n",
      "dropout_2 (Dropout)          (None, 5, 5, 64)          0         \n",
      "_________________________________________________________________\n",
      "flatten_1 (Flatten)          (None, 1600)              0         \n",
      "_________________________________________________________________\n",
      "dense_1 (Dense)              (None, 512)               819712    \n",
      "_________________________________________________________________\n",
      "activation_5 (Activation)    (None, 512)               0         \n",
      "_________________________________________________________________\n",
      "dense_2 (Dense)              (None, 64)                32832     \n",
      "_________________________________________________________________\n",
      "activation_6 (Activation)    (None, 64)                0         \n",
      "_________________________________________________________________\n",
      "dropout_3 (Dropout)          (None, 64)                0         \n",
      "_________________________________________________________________\n",
      "dense_3 (Dense)              (None, 10)                650       \n",
      "_________________________________________________________________\n",
      "activation_7 (Activation)    (None, 10)                0         \n",
      "=================================================================\n",
      "Total params: 918,762\n",
      "Trainable params: 918,762\n",
      "Non-trainable params: 0\n",
      "_________________________________________________________________\n",
      "Epoch 1/50\n",
      " - 135s - loss: 1.7621 - acc: 0.3603 - val_loss: 1.3808 - val_acc: 0.4975\n",
      "Epoch 2/50\n",
      " - 137s - loss: 1.3263 - acc: 0.5290 - val_loss: 1.1246 - val_acc: 0.6038\n",
      "Epoch 3/50\n",
      " - 142s - loss: 1.0803 - acc: 0.6209 - val_loss: 1.0718 - val_acc: 0.6314\n",
      "Epoch 4/50\n",
      " - 139s - loss: 0.9131 - acc: 0.6842 - val_loss: 0.8616 - val_acc: 0.6999\n",
      "Epoch 5/50\n",
      " - 139s - loss: 0.7873 - acc: 0.7277 - val_loss: 0.7858 - val_acc: 0.7294\n",
      "Epoch 6/50\n",
      " - 138s - loss: 0.6907 - acc: 0.7609 - val_loss: 0.7749 - val_acc: 0.7427\n",
      "Epoch 7/50\n",
      " - 138s - loss: 0.6069 - acc: 0.7901 - val_loss: 0.7716 - val_acc: 0.7465\n",
      "Epoch 8/50\n",
      " - 138s - loss: 0.5365 - acc: 0.8157 - val_loss: 0.8165 - val_acc: 0.7426\n",
      "Epoch 9/50\n",
      " - 139s - loss: 0.4710 - acc: 0.8371 - val_loss: 0.8780 - val_acc: 0.7412\n",
      "Epoch 10/50\n",
      " - 138s - loss: 0.4191 - acc: 0.8546 - val_loss: 0.8466 - val_acc: 0.7537\n",
      "Epoch 11/50\n",
      " - 139s - loss: 0.3731 - acc: 0.8715 - val_loss: 0.8726 - val_acc: 0.7501\n",
      "Epoch 12/50\n",
      " - 138s - loss: 0.3360 - acc: 0.8835 - val_loss: 0.9124 - val_acc: 0.7621\n",
      "Epoch 13/50\n",
      " - 142s - loss: 0.2986 - acc: 0.8966 - val_loss: 0.9515 - val_acc: 0.7563\n",
      "Epoch 14/50\n",
      " - 148s - loss: 0.2718 - acc: 0.9049 - val_loss: 0.9916 - val_acc: 0.7520\n",
      "Epoch 15/50\n",
      " - 144s - loss: 0.2504 - acc: 0.9129 - val_loss: 1.1033 - val_acc: 0.7599\n",
      "Epoch 16/50\n",
      " - 145s - loss: 0.2299 - acc: 0.9207 - val_loss: 1.1158 - val_acc: 0.7574\n",
      "Epoch 17/50\n",
      " - 146s - loss: 0.2172 - acc: 0.9252 - val_loss: 1.1161 - val_acc: 0.7541\n",
      "Epoch 18/50\n",
      " - 146s - loss: 0.2080 - acc: 0.9283 - val_loss: 1.0628 - val_acc: 0.7629\n",
      "Epoch 19/50\n",
      " - 145s - loss: 0.1952 - acc: 0.9348 - val_loss: 1.1564 - val_acc: 0.7593\n",
      "Epoch 20/50\n",
      " - 147s - loss: 0.1870 - acc: 0.9379 - val_loss: 1.0980 - val_acc: 0.7621\n",
      "Epoch 21/50\n",
      " - 147s - loss: 0.1823 - acc: 0.9387 - val_loss: 1.1534 - val_acc: 0.7549\n",
      "Epoch 22/50\n",
      " - 149s - loss: 0.1759 - acc: 0.9404 - val_loss: 1.3622 - val_acc: 0.7525\n",
      "Epoch 23/50\n",
      " - 152s - loss: 0.1747 - acc: 0.9427 - val_loss: 1.2334 - val_acc: 0.7537\n",
      "Epoch 24/50\n",
      " - 150s - loss: 0.1702 - acc: 0.9449 - val_loss: 1.1677 - val_acc: 0.7445\n",
      "Epoch 25/50\n",
      " - 151s - loss: 0.1686 - acc: 0.9451 - val_loss: 1.3197 - val_acc: 0.7641\n",
      "Epoch 26/50\n",
      " - 154s - loss: 0.1643 - acc: 0.9475 - val_loss: 1.2938 - val_acc: 0.7356\n",
      "Epoch 27/50\n",
      " - 150s - loss: 0.1599 - acc: 0.9482 - val_loss: 1.2286 - val_acc: 0.7586\n",
      "Epoch 28/50\n",
      " - 140s - loss: 0.1602 - acc: 0.9491 - val_loss: 1.1689 - val_acc: 0.7624\n",
      "Epoch 29/50\n",
      " - 141s - loss: 0.1545 - acc: 0.9510 - val_loss: 1.4077 - val_acc: 0.7414\n",
      "Epoch 30/50\n",
      " - 134s - loss: 0.1569 - acc: 0.9507 - val_loss: 1.3591 - val_acc: 0.7645\n",
      "Epoch 31/50\n",
      " - 136s - loss: 0.1537 - acc: 0.9516 - val_loss: 1.2847 - val_acc: 0.7553\n",
      "Epoch 32/50\n",
      " - 137s - loss: 0.1475 - acc: 0.9537 - val_loss: 1.3040 - val_acc: 0.7627\n",
      "Epoch 33/50\n",
      " - 142s - loss: 0.1484 - acc: 0.9534 - val_loss: 1.4179 - val_acc: 0.7657\n",
      "Epoch 34/50\n",
      " - 140s - loss: 0.1490 - acc: 0.9538 - val_loss: 1.6854 - val_acc: 0.7601\n",
      "Epoch 35/50\n",
      " - 135s - loss: 0.1569 - acc: 0.9523 - val_loss: 1.2755 - val_acc: 0.7606\n",
      "Epoch 36/50\n",
      " - 134s - loss: 0.1499 - acc: 0.9529 - val_loss: 1.2692 - val_acc: 0.7575\n",
      "Epoch 37/50\n",
      " - 132s - loss: 0.1492 - acc: 0.9536 - val_loss: 1.4337 - val_acc: 0.7645\n",
      "Epoch 38/50\n",
      " - 133s - loss: 0.1431 - acc: 0.9558 - val_loss: 1.3530 - val_acc: 0.7598\n",
      "Epoch 39/50\n",
      " - 132s - loss: 0.1490 - acc: 0.9548 - val_loss: 1.2956 - val_acc: 0.7597\n",
      "Epoch 40/50\n",
      " - 129s - loss: 0.1412 - acc: 0.9565 - val_loss: 1.4657 - val_acc: 0.7596\n",
      "Epoch 41/50\n",
      " - 132s - loss: 0.1438 - acc: 0.9564 - val_loss: 1.3583 - val_acc: 0.7603\n",
      "Epoch 42/50\n",
      " - 132s - loss: 0.1453 - acc: 0.9554 - val_loss: 1.3273 - val_acc: 0.7679\n",
      "Epoch 43/50\n",
      " - 131s - loss: 0.1438 - acc: 0.9556 - val_loss: 1.3774 - val_acc: 0.7689\n",
      "Epoch 44/50\n",
      " - 129s - loss: 0.1494 - acc: 0.9560 - val_loss: 1.3944 - val_acc: 0.7564\n",
      "Epoch 45/50\n",
      " - 129s - loss: 0.1468 - acc: 0.9560 - val_loss: 1.3055 - val_acc: 0.7632\n",
      "Epoch 46/50\n",
      " - 128s - loss: 0.1411 - acc: 0.9570 - val_loss: 1.5004 - val_acc: 0.7580\n",
      "Epoch 47/50\n",
      " - 129s - loss: 0.1357 - acc: 0.9582 - val_loss: 1.4377 - val_acc: 0.7610\n",
      "Epoch 48/50\n",
      " - 129s - loss: 0.1449 - acc: 0.9567 - val_loss: 1.2450 - val_acc: 0.7560\n",
      "Epoch 49/50\n",
      " - 129s - loss: 0.1368 - acc: 0.9595 - val_loss: 1.3307 - val_acc: 0.7698\n",
      "Epoch 50/50\n",
      " - 128s - loss: 0.1324 - acc: 0.9612 - val_loss: 1.2737 - val_acc: 0.7584\n"
     ]
    }
   ],
   "source": [
    "trainer = Trainer(X_train, y_train, X_test, y_test).run()"
   ]
  },
  {
   "cell_type": "code",
   "execution_count": 8,
   "metadata": {},
   "outputs": [
    {
     "data": {
      "image/png": "[encoded data removed]",
      "text/plain": [
       "<Figure size 576x432 with 1 Axes>"
      ]
     },
     "metadata": {
      "needs_background": "light"
     },
     "output_type": "display_data"
    }
   ],
   "source": [
    "trainer.display('acc', 'val_acc')"
   ]
  },
  {
   "cell_type": "code",
   "execution_count": 9,
   "metadata": {},
   "outputs": [
    {
     "data": {
      "image/png": "[encoded data removed]",
      "text/plain": [
       "<Figure size 576x432 with 1 Axes>"
      ]
     },
     "metadata": {
      "needs_background": "light"
     },
     "output_type": "display_data"
    }
   ],
   "source": [
    "trainer.display('loss', 'val_loss')"
   ]
  },
  {
   "cell_type": "code",
   "execution_count": null,
   "metadata": {},
   "outputs": [],
   "source": []
  }
 ],
 "metadata": {
  "kernelspec": {
   "display_name": "Python 3",
   "language": "python",
   "name": "python3"
  },
  "language_info": {
   "codemirror_mode": {
    "name": "ipython",
    "version": 3
   },
   "file_extension": ".py",
   "mimetype": "text/x-python",
   "name": "python",
   "nbconvert_exporter": "python",
   "pygments_lexer": "ipython3",
   "version": "3.7.3"
  }
 },
 "nbformat": 4,
 "nbformat_minor": 2
}
