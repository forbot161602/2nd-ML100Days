{
  "cells": [
    {
      "cell_type": "code",
      "execution_count": 1,
      "metadata": {},
      "outputs": [
        {
          "name": "stderr",
          "output_type": "stream",
          "text": [
            "Using TensorFlow backend.\n"
          ]
        }
      ],
      "source": [
        "import cv2\n",
        "import numpy as np\n",
        "import matplotlib.pyplot as plt\n",
        "from keras.datasets import cifar10\n",
        "from sklearn.metrics import accuracy_score"
      ]
    },
    {
      "cell_type": "markdown",
      "metadata": {},
      "source": [
        "## \u6e96\u5099\u8cc7\u6599"
      ]
    },
    {
      "cell_type": "code",
      "execution_count": 2,
      "metadata": {},
      "outputs": [],
      "source": [
        "(X_train, y_train), (X_test, y_test) = cifar10.load_data()"
      ]
    },
    {
      "cell_type": "code",
      "execution_count": 3,
      "metadata": {},
      "outputs": [],
      "source": [
        "def normalize_cifar10_data(x, y):\n",
        "    y = y.astype('int')\n",
        "    return x, y\n",
        "\n",
        "def normalize_result(x, y):\n",
        "    print('x.shape:', x.shape)\n",
        "    print('y.shape:', y.shape)"
      ]
    },
    {
      "cell_type": "code",
      "execution_count": 4,
      "metadata": {},
      "outputs": [
        {
          "name": "stdout",
          "output_type": "stream",
          "text": [
            "Before normalization:\n",
            "x.shape: (50000, 32, 32, 3)\n",
            "y.shape: (50000, 1)\n"
          ]
        }
      ],
      "source": [
        "print('Before normalization:')\n",
        "normalize_result(X_train, y_train)"
      ]
    },
    {
      "cell_type": "code",
      "execution_count": 5,
      "metadata": {},
      "outputs": [
        {
          "name": "stdout",
          "output_type": "stream",
          "text": [
            "After normalization:\n",
            "x.shape: (50000, 32, 32, 3)\n",
            "y.shape: (50000, 1)\n"
          ]
        }
      ],
      "source": [
        "print('After normalization:')\n",
        "X_train, y_train = normalize_cifar10_data(X_train, y_train)\n",
        "X_test, y_test = normalize_cifar10_data(X_test, y_test)\n",
        "normalize_result(X_train, y_train)"
      ]
    },
    {
      "cell_type": "markdown",
      "metadata": {},
      "source": [
        "## \u5b9a\u7fa9\u51fd\u6578"
      ]
    },
    {
      "cell_type": "markdown",
      "metadata": {},
      "source": [
        "#### SVM model\n",
        "\n",
        "* SVM \u662f\u6a5f\u5668\u5b78\u7fd2\u4e2d\u4e00\u500b\u7d93\u5178\u7684\u5206\u985e\u7b97\u6cd5\uff0c\u5177\u9ad4\u7d30\u7bc0\u6709\u8208\u8da3\u53ef\u4ee5\u53c3\u8003[\u8a72\u77e5\u4e4e\u4e0a\u7684\u89e3\u91cb](https://www.zhihu.com/question/21094489)\uff0c\u6211\u5011\u9019\u88e1\u76f4\u63a5\u8abf\u7528 opencv \u4e2d\u5be6\u73fe\u597d\u7684\u51fd\u6578\u3002\n",
        "* HOG \u7279\u5fb5\u901a\u904e\u8a08\u7b97\u548c\u7d71\u8a08\u5716\u50cf\u5c40\u90e8\u5340\u57df\u7684\u68af\u5ea6\u65b9\u5411\u76f4\u65b9\u5716\u4f86\u69cb\u5efa\u7279\u5fb5\uff0c\u5177\u9ad4\u7d30\u7bc0\u4e0d\u5728\u6211\u5011\u6db5\u84cb\u7684\u7bc4\u570d\u88e1\u9762\uff0c\u6709\u8208\u8da3\u7684\u540c\u5b78\u8acb\u53c3\u8003[\u88dc\u5145\u8cc7\u6599](https://www.cnblogs.com/zyly/p/9651261.html)\u3002\n",
        "\n",
        "\u88dc\u5145\uff1a\u6709\u95dc HOG(Histogram of Oriented Gradients) \u7684\u7b97\u6cd5\uff0c\u5148\u5c07\u5716\u50cf\u8f49\u6210\u7070\u968e\uff0c\u4e26\u7d93\u904e\u7d22\u4f2f\u7b97\u5b50\u5206\u5225\u6c42\u5169\u5750\u6a19\u8ef8\u65b9\u5411\u7684\u68af\u5ea6\u548c\u6975\u5750\u6a19\u8f49\u63db\uff1b\u63a5\u8457\u6620\u5c04\u5f91\u5ea6\u81f3 \\[0, 16) \u7684\u7bc4\u570d\uff0c\u4e26\u5c07\u7dad\u5ea6\u4ecd\u8207\u5716\u7247\u76f8\u540c\u7684\u534a\u5f91\u548c\u5f91\u5ea6\u9663\u5217\u5206\u70ba\u56db\u500b\u5340\u584a\uff0c\u4e5f\u5c31\u662f\u5c07\u539f\u672c\u7684\u5716\u50cf\u5207\u6210 2 x 2 = 4 \u500b\u5716\u7247\u518d\u505a\u7d71\u8a08\uff0c\u7d71\u8a08\u51fa\u6bcf\u500b\u5340\u584a\u5f91\u5ea6\u983b\u7387\u5206\u914d\u8868\uff0c\u6545\u61c9\u5f97\u5230 4 x 16 \u7dad\u5ea6\u7684\u9663\u5217\u3002\u9019\u88e1\u547c\u53eb bincount \u7684\u7d50\u679c\u56e0\u70ba\u6709\u4ee3\u5165\u6b0a\u91cd\uff0c\u6240\u4ee5\u5be6\u969b\u4e0a\u662f\u6bcf\u500b\u5f91\u5ea6\u8207\u5176\u6240\u5c0d\u61c9\u534a\u5f91\u7684\u7e3d\u548c\u3002\u6700\u5f8c\uff0c\u5c07\u7d50\u679c\u6253\u5e73\u6210 1 x 64 \u7684\u9663\u5217\uff0c\u5373\u70ba HOG \u7684\u76f4\u65b9\u5716\u503c\u3002"
      ]
    },
    {
      "cell_type": "code",
      "execution_count": 6,
      "metadata": {},
      "outputs": [],
      "source": [
        "N_BLK = 2\n",
        "N_BIN = 16\n",
        "\n",
        "def make_hog_data(x):\n",
        "    x_hogs = np.array([])\n",
        "    block = lambda mtx, m, n, by: np.array([np.hsplit(vt, by) for vt in np.vsplit(mtx, by)]).reshape(by ** 2, m // by, n // by)\n",
        "    for x_img in x:\n",
        "        img = cv2.cvtColor(x_img, cv2.COLOR_RGB2GRAY)\n",
        "        gd1, gd2 = cv2.Sobel(img, cv2.CV_32F, 1, 0), cv2.Sobel(img, cv2.CV_32F, 0, 1)\n",
        "        mag, ang = cv2.cartToPolar(gd1, gd2)\n",
        "        mag, ang = mag, np.int32(N_BIN * ang / 2 / np.pi)\n",
        "        blk, wgt = block(ang, *ang.shape, N_BLK), block(mag, *mag.shape, N_BLK)\n",
        "        hogs = np.array([np.bincount(b.ravel(), w.ravel(), N_BIN) for b, w in zip(blk, wgt)]).reshape(1, -1)\n",
        "        x_hogs = np.vstack((x_hogs, hogs,)) if x_hogs.size else hogs\n",
        "    return np.float32(x_hogs)\n",
        "\n",
        "def make_hist_data(x):\n",
        "    x_hists = np.array([])\n",
        "    for x_img in x:\n",
        "        chans = cv2.split(x_img)\n",
        "        hists = np.array([cv2.calcHist([chan], [0], None, [N_BIN], [0, 256]) for chan in chans]).flatten()\n",
        "        x_hists = np.vstack((x_hists, hists,)) if x_hists.size else hists\n",
        "    return np.float32(x_hists)\n",
        "\n",
        "def build_svm():\n",
        "    svm = cv2.ml.SVM_create()\n",
        "    svm.setKernel(cv2.ml.SVM_LINEAR)\n",
        "    svm.setType(cv2.ml.SVM_C_SVC)\n",
        "    svm.setC(2.67)\n",
        "    svm.setGamma(5.383)\n",
        "    return svm\n",
        "\n",
        "def train_data(svm, x, y):\n",
        "    svm.train(x, cv2.ml.ROW_SAMPLE, y)\n",
        "    return svm\n",
        "\n",
        "def evaluate_data(svm, x, y):\n",
        "    return accuracy_score(y, svm.predict(x)[1].astype('int'))"
      ]
    },
    {
      "cell_type": "markdown",
      "metadata": {},
      "source": [
        "## \u7528 histogram \u7279\u5fb5\u8a13\u7df4 SVM \u6a21\u578b"
      ]
    },
    {
      "cell_type": "code",
      "execution_count": 7,
      "metadata": {},
      "outputs": [
        {
          "data": {
            "text/plain": [
              "array([[  1.,   4.,   9., ...,   9.,   5.,   0.],\n",
              "       [ 13.,  22.,  54., ...,  42.,  57.,  35.],\n",
              "       [  0.,  24.,  87., ...,  15.,  12., 273.],\n",
              "       ...,\n",
              "       [ 72., 146., 186., ...,  40.,  67., 168.],\n",
              "       [ 17.,  11.,  15., ..., 105., 152., 158.],\n",
              "       [  2.,  20.,  30., ...,  29.,  95.,  37.]], dtype=float32)"
            ]
          },
          "execution_count": 7,
          "metadata": {},
          "output_type": "execute_result"
        }
      ],
      "source": [
        "X_train_hists, X_test_hists = make_hist_data(X_train), make_hist_data(X_test)\n",
        "X_train_hists"
      ]
    },
    {
      "cell_type": "code",
      "execution_count": 8,
      "metadata": {},
      "outputs": [
        {
          "data": {
            "text/plain": [
              "<ml_SVM 000001E06B2D9D30>"
            ]
          },
          "execution_count": 8,
          "metadata": {},
          "output_type": "execute_result"
        }
      ],
      "source": [
        "svm = build_svm()\n",
        "svm = train_data(svm, X_train_hists, y_train)\n",
        "svm"
      ]
    },
    {
      "cell_type": "code",
      "execution_count": 9,
      "metadata": {},
      "outputs": [
        {
          "name": "stdout",
          "output_type": "stream",
          "text": [
            "Train accuracy: 0.14846\n",
            "Test accuracy: 0.1448\n"
          ]
        }
      ],
      "source": [
        "print('Train accuracy:', evaluate_data(svm, X_train_hists, y_train))\n",
        "print('Test accuracy:', evaluate_data(svm, X_test_hists, y_test))"
      ]
    },
    {
      "cell_type": "markdown",
      "metadata": {},
      "source": [
        "## \u7528 HOG \u7279\u5fb5\u8a13\u7df4 SVM \u6a21\u578b"
      ]
    },
    {
      "cell_type": "code",
      "execution_count": 10,
      "metadata": {},
      "outputs": [
        {
          "data": {
            "text/plain": [
              "array([[2635.8762  , 5540.079   , 2825.9854  , ..., 2130.2808  ,\n",
              "        3270.286   ,  732.6842  ],\n",
              "       [3161.2834  , 1962.0333  , 8758.989   , ..., 4804.9917  ,\n",
              "        2960.6658  , 3142.0178  ],\n",
              "       [ 108.26818 ,  125.94612 ,  756.45856 , ..., 1016.5663  ,\n",
              "         846.55817 , 1138.8684  ],\n",
              "       ...,\n",
              "       [ 840.3656  ,  553.963   , 1155.7039  , ..., 1733.1053  ,\n",
              "        1114.1395  ,  585.9903  ],\n",
              "       [ 158.14745 ,  222.85387 ,   25.495094, ..., 4541.2095  ,\n",
              "        1387.7686  , 2718.4321  ],\n",
              "       [ 808.257   , 1677.5273  , 1390.5697  , ..., 5229.7544  ,\n",
              "        4387.689   , 1623.7395  ]], dtype=float32)"
            ]
          },
          "execution_count": 10,
          "metadata": {},
          "output_type": "execute_result"
        }
      ],
      "source": [
        "X_train_hists, X_test_hists = make_hog_data(X_train), make_hog_data(X_test)\n",
        "X_train_hists"
      ]
    },
    {
      "cell_type": "code",
      "execution_count": 11,
      "metadata": {},
      "outputs": [
        {
          "data": {
            "text/plain": [
              "<ml_SVM 000001E06B2D9E50>"
            ]
          },
          "execution_count": 11,
          "metadata": {},
          "output_type": "execute_result"
        }
      ],
      "source": [
        "svm = build_svm()\n",
        "svm = train_data(svm, X_train_hists, y_train)\n",
        "svm"
      ]
    },
    {
      "cell_type": "code",
      "execution_count": 12,
      "metadata": {},
      "outputs": [
        {
          "name": "stdout",
          "output_type": "stream",
          "text": [
            "Train accuracy: 0.19588\n",
            "Test accuracy: 0.2052\n"
          ]
        }
      ],
      "source": [
        "print('Train accuracy:', evaluate_data(svm, X_train_hists, y_train))\n",
        "print('Test accuracy:', evaluate_data(svm, X_test_hists, y_test))"
      ]
    },
    {
      "cell_type": "markdown",
      "metadata": {},
      "source": [
        "## \u4f5c\u696d\n",
        "\n",
        "\u5617\u8a66\u6bd4\u8f03\u7528 Color Histogram \u548c Color HOG \u7279\u5fb5\u4f86\u8a13\u7df4\u7684 SVM \u5206\u985e\u5668\u5728 cifar10 \u8a13\u7df4\u96c6\u548c\u9a57\u8b49\u96c6\u4e0a\u6e96\u78ba\u5ea6\u7684\u5dee\u5225\u3002"
      ]
    },
    {
      "cell_type": "code",
      "execution_count": null,
      "metadata": {
        "collapsed": true
      },
      "outputs": [],
      "source": []
    }
  ],
  "metadata": {
    "kernelspec": {
      "display_name": "Python 3",
      "language": "python",
      "name": "python3"
    },
    "language_info": {
      "codemirror_mode": {
        "name": "ipython",
        "version": 3
      },
      "file_extension": ".py",
      "mimetype": "text/x-python",
      "name": "python",
      "nbconvert_exporter": "python",
      "pygments_lexer": "ipython3",
      "version": "3.7.3"
    }
  },
  "nbformat": 4,
  "nbformat_minor": 2
}