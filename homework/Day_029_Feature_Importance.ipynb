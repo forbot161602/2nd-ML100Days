{
  "cells": [
    {
      "cell_type": "markdown",
      "metadata": {
        "collapsed": true
      },
      "source": [
        "# \u7bc4\u4f8b : (Kaggle)\u623f\u50f9\u9810\u6e2c"
      ]
    },
    {
      "cell_type": "markdown",
      "metadata": {},
      "source": [
        "# [\u6559\u5b78\u76ee\u6a19]\n",
        "- \u4ee5\u4e0b\u7528\u623f\u50f9\u9810\u6e2c\u8cc7\u6599, \u7df4\u7fd2\u7279\u5fb5\u91cd\u8981\u6027\u7684\u5beb\u4f5c\u8207\u89c0\u5bdf\n",
        "- \u7531\u65bc\u53ea\u6709\u6a39\u72c0\u6a21\u578b\u6709\u7279\u5fb5\u91cd\u8981\u6027, \u6545\u4ee5\u96a8\u6a5f\u68ee\u6797\u70ba\u6a21\u578b\u4f5c\u70ba\u7bc4\u4f8b"
      ]
    },
    {
      "cell_type": "markdown",
      "metadata": {},
      "source": [
        "# [\u7bc4\u4f8b\u91cd\u9ede]\n",
        "- \u4f7f\u7528\u64ec\u5408\u904e\u7684\u6a21\u578b, \u8a08\u7b97\u7279\u5fb5\u91cd\u8981\u6027 (In[4], Out[4]) \n",
        "- \u5c0d\u7167\u539f\u59cb\u7279\u5fb5, \u89c0\u5bdf\u7279\u5fb5\u91cd\u8981\u6027\u8f03\u9ad8\u7684\u4e00\u534a\u7279\u5fb5, \u642d\u914d\u96a8\u6a5f\u68ee\u6797\u5c0d\u65bc\u6e2c\u7d50\u679c\u7684\u5f71\u97ff (In[5], Out[5], In[6], Out[6])\n",
        "- \u91cd\u7d44\u91cd\u8981\u6027\u6700\u9ad8\u7684\u7279\u5fb5\u4f5c\u70ba\u65b0\u7279\u5fb5, \u89c0\u5bdf\u6548\u679c\u5982\u4f55 (In[9], Out[9]) "
      ]
    },
    {
      "cell_type": "code",
      "execution_count": 1,
      "metadata": {},
      "outputs": [
        {
          "data": {
            "text/plain": [
              "'0.21.1'"
            ]
          },
          "execution_count": 1,
          "metadata": {},
          "output_type": "execute_result"
        }
      ],
      "source": [
        "# \u8acb\u5148\u78ba\u8a8d\u60a8\u7684 sklearn \u7248\u672c\u662f\u5426\u76f8\u540c, \u5982\u679c\u7248\u672c\u4e0d\u662f 0.21.1 \u7248, \u6709\u53ef\u80fd\u8dd1\u51fa\u8207\u672c\u7bc4\u4f8b\u4e0d\u540c\u7684\u7d50\u679c\n",
        "import sklearn\n",
        "sklearn.__version__"
      ]
    },
    {
      "cell_type": "code",
      "execution_count": 2,
      "metadata": {},
      "outputs": [
        {
          "data": {
            "text/html": [
              "<div>\n",
              "<style scoped>\n",
              "    .dataframe tbody tr th:only-of-type {\n",
              "        vertical-align: middle;\n",
              "    }\n",
              "\n",
              "    .dataframe tbody tr th {\n",
              "        vertical-align: top;\n",
              "    }\n",
              "\n",
              "    .dataframe thead th {\n",
              "        text-align: right;\n",
              "    }\n",
              "</style>\n",
              "<table border=\"1\" class=\"dataframe\">\n",
              "  <thead>\n",
              "    <tr style=\"text-align: right;\">\n",
              "      <th></th>\n",
              "      <th>MSSubClass</th>\n",
              "      <th>MSZoning</th>\n",
              "      <th>LotFrontage</th>\n",
              "      <th>LotArea</th>\n",
              "      <th>Street</th>\n",
              "      <th>Alley</th>\n",
              "      <th>LotShape</th>\n",
              "      <th>LandContour</th>\n",
              "      <th>Utilities</th>\n",
              "      <th>LotConfig</th>\n",
              "      <th>...</th>\n",
              "      <th>ScreenPorch</th>\n",
              "      <th>PoolArea</th>\n",
              "      <th>PoolQC</th>\n",
              "      <th>Fence</th>\n",
              "      <th>MiscFeature</th>\n",
              "      <th>MiscVal</th>\n",
              "      <th>MoSold</th>\n",
              "      <th>YrSold</th>\n",
              "      <th>SaleType</th>\n",
              "      <th>SaleCondition</th>\n",
              "    </tr>\n",
              "  </thead>\n",
              "  <tbody>\n",
              "    <tr>\n",
              "      <th>0</th>\n",
              "      <td>60</td>\n",
              "      <td>RL</td>\n",
              "      <td>65.0</td>\n",
              "      <td>8450</td>\n",
              "      <td>Pave</td>\n",
              "      <td>NaN</td>\n",
              "      <td>Reg</td>\n",
              "      <td>Lvl</td>\n",
              "      <td>AllPub</td>\n",
              "      <td>Inside</td>\n",
              "      <td>...</td>\n",
              "      <td>0</td>\n",
              "      <td>0</td>\n",
              "      <td>NaN</td>\n",
              "      <td>NaN</td>\n",
              "      <td>NaN</td>\n",
              "      <td>0</td>\n",
              "      <td>2</td>\n",
              "      <td>2008</td>\n",
              "      <td>WD</td>\n",
              "      <td>Normal</td>\n",
              "    </tr>\n",
              "    <tr>\n",
              "      <th>1</th>\n",
              "      <td>20</td>\n",
              "      <td>RL</td>\n",
              "      <td>80.0</td>\n",
              "      <td>9600</td>\n",
              "      <td>Pave</td>\n",
              "      <td>NaN</td>\n",
              "      <td>Reg</td>\n",
              "      <td>Lvl</td>\n",
              "      <td>AllPub</td>\n",
              "      <td>FR2</td>\n",
              "      <td>...</td>\n",
              "      <td>0</td>\n",
              "      <td>0</td>\n",
              "      <td>NaN</td>\n",
              "      <td>NaN</td>\n",
              "      <td>NaN</td>\n",
              "      <td>0</td>\n",
              "      <td>5</td>\n",
              "      <td>2007</td>\n",
              "      <td>WD</td>\n",
              "      <td>Normal</td>\n",
              "    </tr>\n",
              "    <tr>\n",
              "      <th>2</th>\n",
              "      <td>60</td>\n",
              "      <td>RL</td>\n",
              "      <td>68.0</td>\n",
              "      <td>11250</td>\n",
              "      <td>Pave</td>\n",
              "      <td>NaN</td>\n",
              "      <td>IR1</td>\n",
              "      <td>Lvl</td>\n",
              "      <td>AllPub</td>\n",
              "      <td>Inside</td>\n",
              "      <td>...</td>\n",
              "      <td>0</td>\n",
              "      <td>0</td>\n",
              "      <td>NaN</td>\n",
              "      <td>NaN</td>\n",
              "      <td>NaN</td>\n",
              "      <td>0</td>\n",
              "      <td>9</td>\n",
              "      <td>2008</td>\n",
              "      <td>WD</td>\n",
              "      <td>Normal</td>\n",
              "    </tr>\n",
              "    <tr>\n",
              "      <th>3</th>\n",
              "      <td>70</td>\n",
              "      <td>RL</td>\n",
              "      <td>60.0</td>\n",
              "      <td>9550</td>\n",
              "      <td>Pave</td>\n",
              "      <td>NaN</td>\n",
              "      <td>IR1</td>\n",
              "      <td>Lvl</td>\n",
              "      <td>AllPub</td>\n",
              "      <td>Corner</td>\n",
              "      <td>...</td>\n",
              "      <td>0</td>\n",
              "      <td>0</td>\n",
              "      <td>NaN</td>\n",
              "      <td>NaN</td>\n",
              "      <td>NaN</td>\n",
              "      <td>0</td>\n",
              "      <td>2</td>\n",
              "      <td>2006</td>\n",
              "      <td>WD</td>\n",
              "      <td>Abnorml</td>\n",
              "    </tr>\n",
              "    <tr>\n",
              "      <th>4</th>\n",
              "      <td>60</td>\n",
              "      <td>RL</td>\n",
              "      <td>84.0</td>\n",
              "      <td>14260</td>\n",
              "      <td>Pave</td>\n",
              "      <td>NaN</td>\n",
              "      <td>IR1</td>\n",
              "      <td>Lvl</td>\n",
              "      <td>AllPub</td>\n",
              "      <td>FR2</td>\n",
              "      <td>...</td>\n",
              "      <td>0</td>\n",
              "      <td>0</td>\n",
              "      <td>NaN</td>\n",
              "      <td>NaN</td>\n",
              "      <td>NaN</td>\n",
              "      <td>0</td>\n",
              "      <td>12</td>\n",
              "      <td>2008</td>\n",
              "      <td>WD</td>\n",
              "      <td>Normal</td>\n",
              "    </tr>\n",
              "  </tbody>\n",
              "</table>\n",
              "<p>5 rows \u00d7 79 columns</p>\n",
              "</div>"
            ],
            "text/plain": [
              "   MSSubClass MSZoning  LotFrontage  LotArea Street Alley LotShape  \\\n",
              "0          60       RL         65.0     8450   Pave   NaN      Reg   \n",
              "1          20       RL         80.0     9600   Pave   NaN      Reg   \n",
              "2          60       RL         68.0    11250   Pave   NaN      IR1   \n",
              "3          70       RL         60.0     9550   Pave   NaN      IR1   \n",
              "4          60       RL         84.0    14260   Pave   NaN      IR1   \n",
              "\n",
              "  LandContour Utilities LotConfig  ... ScreenPorch PoolArea PoolQC Fence  \\\n",
              "0         Lvl    AllPub    Inside  ...           0        0    NaN   NaN   \n",
              "1         Lvl    AllPub       FR2  ...           0        0    NaN   NaN   \n",
              "2         Lvl    AllPub    Inside  ...           0        0    NaN   NaN   \n",
              "3         Lvl    AllPub    Corner  ...           0        0    NaN   NaN   \n",
              "4         Lvl    AllPub       FR2  ...           0        0    NaN   NaN   \n",
              "\n",
              "  MiscFeature MiscVal  MoSold  YrSold  SaleType  SaleCondition  \n",
              "0         NaN       0       2    2008        WD         Normal  \n",
              "1         NaN       0       5    2007        WD         Normal  \n",
              "2         NaN       0       9    2008        WD         Normal  \n",
              "3         NaN       0       2    2006        WD        Abnorml  \n",
              "4         NaN       0      12    2008        WD         Normal  \n",
              "\n",
              "[5 rows x 79 columns]"
            ]
          },
          "execution_count": 2,
          "metadata": {},
          "output_type": "execute_result"
        }
      ],
      "source": [
        "# \u505a\u5b8c\u7279\u5fb5\u5de5\u7a0b\u524d\u7684\u6240\u6709\u6e96\u5099\n",
        "import copy\n",
        "import pandas as pd\n",
        "import numpy as np\n",
        "from sklearn.preprocessing import LabelEncoder, MinMaxScaler\n",
        "from sklearn.ensemble import RandomForestRegressor\n",
        "from sklearn.model_selection import cross_val_score\n",
        "\n",
        "data_path = './data/part02/'\n",
        "df = pd.read_csv(data_path + 'house_train.csv.gz')\n",
        "\n",
        "train_Y = np.log1p(df['SalePrice'])\n",
        "df = df.drop(['Id', 'SalePrice'], axis=1)\n",
        "df.head()"
      ]
    },
    {
      "cell_type": "code",
      "execution_count": 3,
      "metadata": {
        "scrolled": true
      },
      "outputs": [
        {
          "data": {
            "text/html": [
              "<div>\n",
              "<style scoped>\n",
              "    .dataframe tbody tr th:only-of-type {\n",
              "        vertical-align: middle;\n",
              "    }\n",
              "\n",
              "    .dataframe tbody tr th {\n",
              "        vertical-align: top;\n",
              "    }\n",
              "\n",
              "    .dataframe thead th {\n",
              "        text-align: right;\n",
              "    }\n",
              "</style>\n",
              "<table border=\"1\" class=\"dataframe\">\n",
              "  <thead>\n",
              "    <tr style=\"text-align: right;\">\n",
              "      <th></th>\n",
              "      <th>MSSubClass</th>\n",
              "      <th>MSZoning</th>\n",
              "      <th>LotFrontage</th>\n",
              "      <th>LotArea</th>\n",
              "      <th>Street</th>\n",
              "      <th>Alley</th>\n",
              "      <th>LotShape</th>\n",
              "      <th>LandContour</th>\n",
              "      <th>Utilities</th>\n",
              "      <th>LotConfig</th>\n",
              "      <th>...</th>\n",
              "      <th>ScreenPorch</th>\n",
              "      <th>PoolArea</th>\n",
              "      <th>PoolQC</th>\n",
              "      <th>Fence</th>\n",
              "      <th>MiscFeature</th>\n",
              "      <th>MiscVal</th>\n",
              "      <th>MoSold</th>\n",
              "      <th>YrSold</th>\n",
              "      <th>SaleType</th>\n",
              "      <th>SaleCondition</th>\n",
              "    </tr>\n",
              "  </thead>\n",
              "  <tbody>\n",
              "    <tr>\n",
              "      <th>0</th>\n",
              "      <td>0.235294</td>\n",
              "      <td>0.75</td>\n",
              "      <td>0.210191</td>\n",
              "      <td>0.033420</td>\n",
              "      <td>1.0</td>\n",
              "      <td>0.0</td>\n",
              "      <td>1.0</td>\n",
              "      <td>1.0</td>\n",
              "      <td>0.0</td>\n",
              "      <td>1.0</td>\n",
              "      <td>...</td>\n",
              "      <td>0.0</td>\n",
              "      <td>0.0</td>\n",
              "      <td>0.0</td>\n",
              "      <td>0.0</td>\n",
              "      <td>0.0</td>\n",
              "      <td>0.0</td>\n",
              "      <td>0.090909</td>\n",
              "      <td>0.50</td>\n",
              "      <td>1.0</td>\n",
              "      <td>0.8</td>\n",
              "    </tr>\n",
              "    <tr>\n",
              "      <th>1</th>\n",
              "      <td>0.000000</td>\n",
              "      <td>0.75</td>\n",
              "      <td>0.257962</td>\n",
              "      <td>0.038795</td>\n",
              "      <td>1.0</td>\n",
              "      <td>0.0</td>\n",
              "      <td>1.0</td>\n",
              "      <td>1.0</td>\n",
              "      <td>0.0</td>\n",
              "      <td>0.5</td>\n",
              "      <td>...</td>\n",
              "      <td>0.0</td>\n",
              "      <td>0.0</td>\n",
              "      <td>0.0</td>\n",
              "      <td>0.0</td>\n",
              "      <td>0.0</td>\n",
              "      <td>0.0</td>\n",
              "      <td>0.363636</td>\n",
              "      <td>0.25</td>\n",
              "      <td>1.0</td>\n",
              "      <td>0.8</td>\n",
              "    </tr>\n",
              "    <tr>\n",
              "      <th>2</th>\n",
              "      <td>0.235294</td>\n",
              "      <td>0.75</td>\n",
              "      <td>0.219745</td>\n",
              "      <td>0.046507</td>\n",
              "      <td>1.0</td>\n",
              "      <td>0.0</td>\n",
              "      <td>0.0</td>\n",
              "      <td>1.0</td>\n",
              "      <td>0.0</td>\n",
              "      <td>1.0</td>\n",
              "      <td>...</td>\n",
              "      <td>0.0</td>\n",
              "      <td>0.0</td>\n",
              "      <td>0.0</td>\n",
              "      <td>0.0</td>\n",
              "      <td>0.0</td>\n",
              "      <td>0.0</td>\n",
              "      <td>0.727273</td>\n",
              "      <td>0.50</td>\n",
              "      <td>1.0</td>\n",
              "      <td>0.8</td>\n",
              "    </tr>\n",
              "    <tr>\n",
              "      <th>3</th>\n",
              "      <td>0.294118</td>\n",
              "      <td>0.75</td>\n",
              "      <td>0.194268</td>\n",
              "      <td>0.038561</td>\n",
              "      <td>1.0</td>\n",
              "      <td>0.0</td>\n",
              "      <td>0.0</td>\n",
              "      <td>1.0</td>\n",
              "      <td>0.0</td>\n",
              "      <td>0.0</td>\n",
              "      <td>...</td>\n",
              "      <td>0.0</td>\n",
              "      <td>0.0</td>\n",
              "      <td>0.0</td>\n",
              "      <td>0.0</td>\n",
              "      <td>0.0</td>\n",
              "      <td>0.0</td>\n",
              "      <td>0.090909</td>\n",
              "      <td>0.00</td>\n",
              "      <td>1.0</td>\n",
              "      <td>0.0</td>\n",
              "    </tr>\n",
              "    <tr>\n",
              "      <th>4</th>\n",
              "      <td>0.235294</td>\n",
              "      <td>0.75</td>\n",
              "      <td>0.270701</td>\n",
              "      <td>0.060576</td>\n",
              "      <td>1.0</td>\n",
              "      <td>0.0</td>\n",
              "      <td>0.0</td>\n",
              "      <td>1.0</td>\n",
              "      <td>0.0</td>\n",
              "      <td>0.5</td>\n",
              "      <td>...</td>\n",
              "      <td>0.0</td>\n",
              "      <td>0.0</td>\n",
              "      <td>0.0</td>\n",
              "      <td>0.0</td>\n",
              "      <td>0.0</td>\n",
              "      <td>0.0</td>\n",
              "      <td>1.000000</td>\n",
              "      <td>0.50</td>\n",
              "      <td>1.0</td>\n",
              "      <td>0.8</td>\n",
              "    </tr>\n",
              "  </tbody>\n",
              "</table>\n",
              "<p>5 rows \u00d7 79 columns</p>\n",
              "</div>"
            ],
            "text/plain": [
              "   MSSubClass  MSZoning  LotFrontage   LotArea  Street  Alley  LotShape  \\\n",
              "0    0.235294      0.75     0.210191  0.033420     1.0    0.0       1.0   \n",
              "1    0.000000      0.75     0.257962  0.038795     1.0    0.0       1.0   \n",
              "2    0.235294      0.75     0.219745  0.046507     1.0    0.0       0.0   \n",
              "3    0.294118      0.75     0.194268  0.038561     1.0    0.0       0.0   \n",
              "4    0.235294      0.75     0.270701  0.060576     1.0    0.0       0.0   \n",
              "\n",
              "   LandContour  Utilities  LotConfig  ...  ScreenPorch  PoolArea  PoolQC  \\\n",
              "0          1.0        0.0        1.0  ...          0.0       0.0     0.0   \n",
              "1          1.0        0.0        0.5  ...          0.0       0.0     0.0   \n",
              "2          1.0        0.0        1.0  ...          0.0       0.0     0.0   \n",
              "3          1.0        0.0        0.0  ...          0.0       0.0     0.0   \n",
              "4          1.0        0.0        0.5  ...          0.0       0.0     0.0   \n",
              "\n",
              "   Fence  MiscFeature  MiscVal    MoSold  YrSold  SaleType  SaleCondition  \n",
              "0    0.0          0.0      0.0  0.090909    0.50       1.0            0.8  \n",
              "1    0.0          0.0      0.0  0.363636    0.25       1.0            0.8  \n",
              "2    0.0          0.0      0.0  0.727273    0.50       1.0            0.8  \n",
              "3    0.0          0.0      0.0  0.090909    0.00       1.0            0.0  \n",
              "4    0.0          0.0      0.0  1.000000    0.50       1.0            0.8  \n",
              "\n",
              "[5 rows x 79 columns]"
            ]
          },
          "execution_count": 3,
          "metadata": {},
          "output_type": "execute_result"
        }
      ],
      "source": [
        "# \u56e0\u70ba\u9700\u8981\u628a\u985e\u5225\u578b\u8207\u6578\u503c\u578b\u7279\u5fb5\u90fd\u52a0\u5165, \u6545\u4f7f\u7528\u6700\u7c21\u7248\u7684\u7279\u5fb5\u5de5\u7a0b\n",
        "LEncoder = LabelEncoder()\n",
        "MMEncoder = MinMaxScaler()\n",
        "for c in df.columns:\n",
        "    df[c] = df[c].fillna(-1)\n",
        "    if df[c].dtype == 'object':\n",
        "        df[c] = LEncoder.fit_transform(list(df[c].values))\n",
        "    df[c] = MMEncoder.fit_transform(df[c].values.reshape(-1, 1))\n",
        "df.head()"
      ]
    },
    {
      "cell_type": "code",
      "execution_count": 4,
      "metadata": {},
      "outputs": [
        {
          "name": "stderr",
          "output_type": "stream",
          "text": [
            "C:\\Programs\\Anaconda3\\lib\\site-packages\\sklearn\\ensemble\\forest.py:245: FutureWarning: The default value of n_estimators will change from 10 in version 0.20 to 100 in 0.22.\n",
            "  \"10 in version 0.20 to 100 in 0.22.\", FutureWarning)\n"
          ]
        },
        {
          "data": {
            "text/plain": [
              "OverallQual      0.572015\n",
              "GrLivArea        0.119945\n",
              "TotalBsmtSF      0.036884\n",
              "GarageCars       0.032477\n",
              "YearBuilt        0.024993\n",
              "1stFlrSF         0.020357\n",
              "BsmtFinSF1       0.019494\n",
              "GarageArea       0.018111\n",
              "CentralAir       0.012804\n",
              "OverallCond      0.012502\n",
              "LotArea          0.010975\n",
              "GarageYrBlt      0.010359\n",
              "YearRemodAdd     0.007586\n",
              "2ndFlrSF         0.007533\n",
              "MSZoning         0.007249\n",
              "GarageType       0.006152\n",
              "Fireplaces       0.004989\n",
              "Neighborhood     0.004041\n",
              "MoSold           0.004008\n",
              "LotFrontage      0.003600\n",
              "PavedDrive       0.003478\n",
              "BsmtUnfSF        0.003135\n",
              "Exterior1st      0.003062\n",
              "OpenPorchSF      0.002994\n",
              "KitchenQual      0.002867\n",
              "FullBath         0.002665\n",
              "WoodDeckSF       0.002615\n",
              "MasVnrArea       0.002382\n",
              "SaleCondition    0.002304\n",
              "KitchenAbvGr     0.002252\n",
              "                   ...   \n",
              "Functional       0.000801\n",
              "LotConfig        0.000784\n",
              "Fence            0.000777\n",
              "LotShape         0.000735\n",
              "Electrical       0.000644\n",
              "BsmtFinType2     0.000565\n",
              "RoofStyle        0.000553\n",
              "ExterCond        0.000509\n",
              "BldgType         0.000496\n",
              "Foundation       0.000482\n",
              "Heating          0.000434\n",
              "HalfBath         0.000430\n",
              "LowQualFinSF     0.000398\n",
              "Condition1       0.000382\n",
              "Street           0.000381\n",
              "Condition2       0.000316\n",
              "ExterQual        0.000302\n",
              "SaleType         0.000297\n",
              "ScreenPorch      0.000279\n",
              "BsmtFinSF2       0.000266\n",
              "GarageCond       0.000229\n",
              "GarageQual       0.000207\n",
              "MiscVal          0.000092\n",
              "BsmtHalfBath     0.000066\n",
              "3SsnPorch        0.000053\n",
              "PoolArea         0.000050\n",
              "PoolQC           0.000030\n",
              "MiscFeature      0.000017\n",
              "RoofMatl         0.000016\n",
              "Utilities        0.000000\n",
              "Length: 79, dtype: float64"
            ]
          },
          "execution_count": 4,
          "metadata": {},
          "output_type": "execute_result"
        }
      ],
      "source": [
        "# \u96a8\u6a5f\u68ee\u6797\u64ec\u5408\u5f8c, \u5c07\u7d50\u679c\u4f9d\u7167\u91cd\u8981\u6027\u7531\u9ad8\u5230\u4f4e\u6392\u5e8f\n",
        "estimator = RandomForestRegressor()\n",
        "estimator.fit(df.values, train_Y)\n",
        "\n",
        "# estimator.feature_importances_ \u5c31\u662f\u6a21\u578b\u7684\u7279\u5fb5\u91cd\u8981\u6027, \u9019\u908a\u5148\u8207\u6b04\u4f4d\u540d\u7a31\u7d50\u5408\u8d77\u4f86, \u624d\u80fd\u770b\u5230\u91cd\u8981\u6027\u8207\u6b04\u4f4d\u540d\u7a31\u7684\u5c0d\u7167\u8868\n",
        "feats = pd.Series(data=estimator.feature_importances_, index=df.columns)\n",
        "feats = feats.sort_values(ascending=False)\n",
        "feats"
      ]
    },
    {
      "cell_type": "code",
      "execution_count": 5,
      "metadata": {},
      "outputs": [
        {
          "data": {
            "text/plain": [
              "0.8531662281143136"
            ]
          },
          "execution_count": 5,
          "metadata": {},
          "output_type": "execute_result"
        }
      ],
      "source": [
        "# \u539f\u59cb\u7279\u5fb5 + \u96a8\u6a5f\u68ee\u6797\n",
        "train_X = MMEncoder.fit_transform(df)\n",
        "cross_val_score(estimator, train_X, train_Y, cv=5).mean()"
      ]
    },
    {
      "cell_type": "code",
      "execution_count": 6,
      "metadata": {},
      "outputs": [
        {
          "data": {
            "text/plain": [
              "0.8606592795877767"
            ]
          },
          "execution_count": 6,
          "metadata": {},
          "output_type": "execute_result"
        }
      ],
      "source": [
        "# \u9ad8\u91cd\u8981\u6027\u7279\u5fb5 + \u96a8\u6a5f\u68ee\u6797 (39 \u5927\u7d04\u662f 79 \u7684\u4e00\u534a)\n",
        "high_feature = list(feats[:39].index)\n",
        "train_X = MMEncoder.fit_transform(df[high_feature])\n",
        "cross_val_score(estimator, train_X, train_Y, cv=5).mean()"
      ]
    },
    {
      "cell_type": "code",
      "execution_count": 7,
      "metadata": {},
      "outputs": [
        {
          "data": {
            "image/png": "[encoded data removed]",
            "text/plain": [
              "<Figure size 576x396 with 1 Axes>"
            ]
          },
          "metadata": {},
          "output_type": "display_data"
        }
      ],
      "source": [
        "# \u89c0\u5bdf\u91cd\u8981\u7279\u5fb5\u8207\u76ee\u6a19\u7684\u5206\u5e03\n",
        "# \u7b2c\u4e00\u540d : OverallQual              \n",
        "import seaborn as sns\n",
        "import matplotlib.pyplot as plt\n",
        "plt.style.use('seaborn')\n",
        "sns.regplot(x=df['OverallQual'], y=train_Y, fit_reg=False)\n",
        "plt.show()"
      ]
    },
    {
      "cell_type": "code",
      "execution_count": 8,
      "metadata": {},
      "outputs": [
        {
          "data": {
            "image/png": "[encoded data removed]",
            "text/plain": [
              "<Figure size 576x396 with 1 Axes>"
            ]
          },
          "metadata": {},
          "output_type": "display_data"
        }
      ],
      "source": [
        "# \u7b2c\u4e8c\u540d : GrLivArea\n",
        "sns.regplot(x=df['GrLivArea'], y=train_Y, fit_reg=False)\n",
        "plt.show()"
      ]
    },
    {
      "cell_type": "code",
      "execution_count": 9,
      "metadata": {},
      "outputs": [
        {
          "data": {
            "text/plain": [
              "0.8670746913252165"
            ]
          },
          "execution_count": 9,
          "metadata": {},
          "output_type": "execute_result"
        }
      ],
      "source": [
        "# \u88fd\u4f5c\u56db\u7279\u5fb5 : \u52a0, \u4e58, \u4e92\u9664(\u5206\u6bcd\u52a0 1 \u907f\u514d\u9664 0) \u770b\u6548\u679c\n",
        "# (Note: \u6578\u503c\u539f\u672c\u5df2\u7d93\u6700\u5927\u6700\u5c0f\u5316\u4ecb\u65bc [0,1] \u5340\u9593, \u9019\u56db\u7a2e\u65b0\u7279\u5fb5\u4e5f\u6703\u843d\u5728 [0,1] \u5340\u9593)\n",
        "df['Add_char'] = (df['GrLivArea'] + df['OverallQual']) / 2\n",
        "df['Multi_char'] = df['GrLivArea'] * df['OverallQual']\n",
        "df['GO_div1p'] = df['GrLivArea'] / (df['OverallQual'] + 1) * 2\n",
        "df['OG_div1p'] = df['OverallQual'] / (df['GrLivArea'] + 1) * 2\n",
        "train_X = MMEncoder.fit_transform(df)\n",
        "cross_val_score(estimator, train_X, train_Y, cv=5).mean()"
      ]
    },
    {
      "cell_type": "markdown",
      "metadata": {
        "collapsed": true
      },
      "source": [
        "## \u5148\u7528\u96a8\u6a5f\u68ee\u6797\u5c0d\u9435\u9054\u5c3c\u751f\u5b58\u9810\u6e2c\u505a\u8a13\u7df4\uff0c\u518d\u7528\u5176\u7279\u5fb5\u91cd\u8981\u6027\u56de\u7b54\u4e0b\u5217\u554f\u984c\n",
        "\n",
        "# \u4f5c\u696d1\n",
        "* \u5c07\u7279\u5fb5\u91cd\u8981\u6027\u8f03\u4f4e\u7684\u4e00\u534a\u7279\u5fb5\u522a\u9664\u5f8c\uff0c\u518d\u505a\u751f\u5b58\u7387\u9810\u4f30\uff0c\u6b63\u78ba\u7387\u662f\u5426\u6709\u8b8a\u5316?\n",
        "\n",
        "# \u4f5c\u696d2\n",
        "* \u5c07\u7279\u5fb5\u91cd\u8981\u6027\u6700\u9ad8\u7684\u5169\u500b\u7279\u5fb5\u505a\u7279\u5fb5\u7d44\u5408\uff0c\u662f\u5426\u80fd\u518d\u9032\u4e00\u6b65\u63d0\u5347\u9810\u6e2c\u529b?"
      ]
    },
    {
      "cell_type": "code",
      "execution_count": null,
      "metadata": {
        "collapsed": true
      },
      "outputs": [],
      "source": []
    }
  ],
  "metadata": {
    "kernelspec": {
      "display_name": "Python 3",
      "language": "python",
      "name": "python3"
    },
    "language_info": {
      "codemirror_mode": {
        "name": "ipython",
        "version": 3
      },
      "file_extension": ".py",
      "mimetype": "text/x-python",
      "name": "python",
      "nbconvert_exporter": "python",
      "pygments_lexer": "ipython3",
      "version": "3.7.3"
    }
  },
  "nbformat": 4,
  "nbformat_minor": 2
}