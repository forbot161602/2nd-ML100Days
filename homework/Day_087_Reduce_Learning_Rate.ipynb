{
  "cells": [
    {
      "cell_type": "markdown",
      "metadata": {},
      "source": [
        "## \u7bc4\u4f8b\u91cd\u9ede\n",
        "\n",
        "* \u77e5\u9053\u5982\u4f55\u8a2d\u5b9a\u76e3\u63a7\u76ee\u6a19\n",
        "* \u5b78\u7fd2\u5982\u4f55\u5728 Keras \u4e2d\u52a0\u5165 reduce learning rate\n",
        "* \u6bd4\u8f03\u6709\u7121\u964d\u4f4e\u5b78\u7fd2\u7387\u6642\u7684\u8868\u73fe"
      ]
    },
    {
      "cell_type": "code",
      "execution_count": 1,
      "metadata": {},
      "outputs": [
        {
          "name": "stderr",
          "output_type": "stream",
          "text": [
            "Using TensorFlow backend.\n"
          ]
        }
      ],
      "source": [
        "import itertools\n",
        "import tensorflow as tf\n",
        "import matplotlib.pyplot as plt\n",
        "from matplotlib import cm, colors\n",
        "from keras import backend\n",
        "from keras.utils import np_utils\n",
        "from keras.datasets import cifar10\n",
        "from keras.models import Model, load_model\n",
        "from keras.layers import Input, Dense, BatchNormalization\n",
        "from keras.optimizers import SGD\n",
        "from keras.callbacks import ReduceLROnPlateau\n",
        "tf.logging.set_verbosity(tf.logging.ERROR)"
      ]
    },
    {
      "cell_type": "markdown",
      "metadata": {},
      "source": [
        "## \u6e96\u5099\u8cc7\u6599"
      ]
    },
    {
      "cell_type": "code",
      "execution_count": 2,
      "metadata": {},
      "outputs": [],
      "source": [
        "(X_train, y_train), (X_test, y_test) = cifar10.load_data()"
      ]
    },
    {
      "cell_type": "code",
      "execution_count": 3,
      "metadata": {},
      "outputs": [],
      "source": [
        "def normalize_cifar10_data(x, y):\n",
        "    x = x.reshape((len(x), -1)) / 255.\n",
        "    y = np_utils.to_categorical(y, num_classes=10)\n",
        "    return x, y\n",
        "\n",
        "def normalize_result(x, y):\n",
        "    print('x.shape:', x.shape)\n",
        "    print('y.shape:', y.shape)"
      ]
    },
    {
      "cell_type": "code",
      "execution_count": 4,
      "metadata": {},
      "outputs": [
        {
          "name": "stdout",
          "output_type": "stream",
          "text": [
            "Before normalization:\n",
            "x.shape: (50000, 32, 32, 3)\n",
            "y.shape: (50000, 1)\n"
          ]
        }
      ],
      "source": [
        "print('Before normalization:')\n",
        "normalize_result(X_train, y_train)"
      ]
    },
    {
      "cell_type": "code",
      "execution_count": 5,
      "metadata": {},
      "outputs": [
        {
          "name": "stdout",
          "output_type": "stream",
          "text": [
            "After normalization:\n",
            "x.shape: (50000, 3072)\n",
            "y.shape: (50000, 10)\n"
          ]
        }
      ],
      "source": [
        "print('After normalization:')\n",
        "X_train, y_train = normalize_cifar10_data(X_train, y_train)\n",
        "X_test, y_test = normalize_cifar10_data(X_test, y_test)\n",
        "normalize_result(X_train, y_train)"
      ]
    },
    {
      "cell_type": "markdown",
      "metadata": {},
      "source": [
        "## \u5b9a\u7fa9\u51fd\u6578"
      ]
    },
    {
      "cell_type": "code",
      "execution_count": 6,
      "metadata": {},
      "outputs": [],
      "source": [
        "class Trainer:\n",
        "\n",
        "    def __init__(self, X_train, y_train, X_test, y_test, build_param, neuron_numbers=(512, 256, 128,),\n",
        "                 epochs=50, batch_size=1024, learning_rate=1e-3):\n",
        "        self.X_test = X_test\n",
        "        self.y_test = y_test\n",
        "        self.X_train = X_train\n",
        "        self.y_train = y_train\n",
        "        self.epochs = epochs\n",
        "        self.batch_size = batch_size\n",
        "        self.learning_rate = learning_rate\n",
        "        self.neuron_numbers = neuron_numbers\n",
        "        self.build_param = build_param\n",
        "        self._model = None\n",
        "        self._history = None\n",
        "\n",
        "    @property\n",
        "    def optimizer(self):\n",
        "        clz, param = self.build_param.optimizer_clz, self.build_param.optimizer_param\n",
        "        return clz(lr=self.learning_rate, **param)\n",
        "\n",
        "    @property\n",
        "    def callbacks(self):\n",
        "        factor, patience = self.build_param.rlrop_factor, self.build_param.rlrop_patience\n",
        "        return [ReduceLROnPlateau(factor=factor, patience=patience, min_lr=1e-12, verbose=1)]\n",
        "\n",
        "    @property\n",
        "    def validation_data(self):\n",
        "        return (self.X_test, self.y_test,)\n",
        "\n",
        "    def run(self):\n",
        "        return self._clear()._build()._launch()\n",
        "\n",
        "    def _clear(self):\n",
        "        backend.clear_session()\n",
        "        self._model = None\n",
        "        return self\n",
        "\n",
        "    def _build(self):\n",
        "        main_input = hidden_input = Input(shape=self.X_train.shape[-1:], name='main_input')\n",
        "        for i, neuron_number in enumerate(self.neuron_numbers):\n",
        "            hidden_input = Dense(units=neuron_number, activation='relu', name=f'hidden_layer{i}')(hidden_input)\n",
        "            hidden_input = BatchNormalization()(hidden_input)\n",
        "        main_output = Dense(units=self.y_train.shape[-1], activation='softmax', name='main_output')(hidden_input)\n",
        "        self._model = Model(inputs=[main_input], outputs=[main_output])\n",
        "        self._model.compile(optimizer=self.optimizer, loss='categorical_crossentropy', metrics=['accuracy'])\n",
        "        return self\n",
        "\n",
        "    def _launch(self):\n",
        "        print('Experiment with label: {}'.format(self.build_param.label))\n",
        "        self._model.summary()\n",
        "        self._history = self._model.fit(\n",
        "            self.X_train, self.y_train, epochs=self.epochs, batch_size=self.batch_size,\n",
        "            validation_data=self.validation_data, callbacks=self.callbacks, shuffle=True, verbose=2)\n",
        "        return self\n",
        "\n",
        "    def display(self, train_name, val_name, color):\n",
        "        plt.plot(self._history.history[train_name], '-', label='exp: {}'.format(self.build_param.label), color=color)\n",
        "        plt.plot(self._history.history[val_name], '--', label='exp: {}'.format(self.build_param.label), color=color)\n",
        "\n",
        "class BuildParam:\n",
        "\n",
        "    def __init__(self, optimizer_clz, optimizer_param, rlrop_factor, rlrop_patience):\n",
        "        self.optimizer_clz = optimizer_clz\n",
        "        self.optimizer_param = optimizer_param\n",
        "        self.rlrop_factor = rlrop_factor\n",
        "        self.rlrop_patience = rlrop_patience\n",
        "\n",
        "    @property\n",
        "    def label(self):\n",
        "        return 'op={}, ft={:.2f}, pt={}'.format(self.optimizer_clz.__name__.lower(), self.rlrop_factor, self.rlrop_patience)\n",
        "\n",
        "class BatchTrainer:\n",
        "    \n",
        "    def __init__(self, trainers, build_params):\n",
        "        self.trainers = trainers\n",
        "        self.build_params = build_params\n",
        "        self.total_amount = len(trainers)\n",
        "\n",
        "    @property\n",
        "    def colors(self):\n",
        "        color_map = cm.ScalarMappable(cmap=plt.get_cmap('gist_rainbow'),\n",
        "                                      norm=colors.Normalize(vmin=0, vmax=self.total_amount - 1))\n",
        "        return [color_map.to_rgba(i) for i in range(self.total_amount)]\n",
        "\n",
        "    def run(self):\n",
        "        for i in range(self.total_amount):\n",
        "            self.trainers[i].run()\n",
        "        return self\n",
        "\n",
        "    def display(self, train_name, val_name):\n",
        "        plt.figure(figsize=(12, 7,))\n",
        "        for i, color in enumerate(self.colors):\n",
        "            self.trainers[i].display(train_name, val_name, color)\n",
        "        plt.xlabel('Epoch')\n",
        "        plt.ylabel(train_name)\n",
        "        plt.title('Train History')\n",
        "        plt.legend(loc='center left', bbox_to_anchor=(1, 0.5,))\n",
        "        plt.show()"
      ]
    },
    {
      "cell_type": "markdown",
      "metadata": {},
      "source": [
        "## \u8a13\u7df4\u6a21\u578b"
      ]
    },
    {
      "cell_type": "code",
      "execution_count": 7,
      "metadata": {},
      "outputs": [],
      "source": [
        "# \u8a2d\u5b9a\u8d85\u53c3\u6578\n",
        "optimizers = [(SGD, {'momentum': 0.95, 'nesterov': True},)]\n",
        "rlrop_factors = [0.5]\n",
        "rlrop_patiences = [5]\n",
        "\n",
        "params = [BuildParam(*optimizer, rlrop_factor, rlrop_patience) for optimizer, rlrop_factor, rlrop_patience\n",
        "          in itertools.product(optimizers, rlrop_factors, rlrop_patiences)]\n",
        "trainers = [Trainer(X_train, y_train, X_test, y_test, param) for param in params]"
      ]
    },
    {
      "cell_type": "code",
      "execution_count": 8,
      "metadata": {},
      "outputs": [
        {
          "name": "stdout",
          "output_type": "stream",
          "text": [
            "Experiment with label: op=sgd, ft=0.50, pt=5\n",
            "_________________________________________________________________\n",
            "Layer (type)                 Output Shape              Param #   \n",
            "=================================================================\n",
            "main_input (InputLayer)      (None, 3072)              0         \n",
            "_________________________________________________________________\n",
            "hidden_layer0 (Dense)        (None, 512)               1573376   \n",
            "_________________________________________________________________\n",
            "batch_normalization_1 (Batch (None, 512)               2048      \n",
            "_________________________________________________________________\n",
            "hidden_layer1 (Dense)        (None, 256)               131328    \n",
            "_________________________________________________________________\n",
            "batch_normalization_2 (Batch (None, 256)               1024      \n",
            "_________________________________________________________________\n",
            "hidden_layer2 (Dense)        (None, 128)               32896     \n",
            "_________________________________________________________________\n",
            "batch_normalization_3 (Batch (None, 128)               512       \n",
            "_________________________________________________________________\n",
            "main_output (Dense)          (None, 10)                1290      \n",
            "=================================================================\n",
            "Total params: 1,742,474\n",
            "Trainable params: 1,740,682\n",
            "Non-trainable params: 1,792\n",
            "_________________________________________________________________\n",
            "Train on 50000 samples, validate on 10000 samples\n",
            "Epoch 1/50\n",
            " - 10s - loss: 2.1940 - acc: 0.2735 - val_loss: 2.0522 - val_acc: 0.3355\n",
            "Epoch 2/50\n",
            " - 9s - loss: 1.7402 - acc: 0.3932 - val_loss: 1.8003 - val_acc: 0.3804\n",
            "Epoch 3/50\n",
            " - 8s - loss: 1.6190 - acc: 0.4348 - val_loss: 1.6783 - val_acc: 0.4133\n",
            "Epoch 4/50\n",
            " - 9s - loss: 1.5464 - acc: 0.4622 - val_loss: 1.6354 - val_acc: 0.4298\n",
            "Epoch 5/50\n",
            " - 9s - loss: 1.4918 - acc: 0.4803 - val_loss: 1.5952 - val_acc: 0.4381\n",
            "Epoch 6/50\n",
            " - 9s - loss: 1.4459 - acc: 0.4968 - val_loss: 1.5643 - val_acc: 0.4521\n",
            "Epoch 7/50\n",
            " - 9s - loss: 1.4043 - acc: 0.5106 - val_loss: 1.5588 - val_acc: 0.4540\n",
            "Epoch 8/50\n",
            " - 9s - loss: 1.3708 - acc: 0.5233 - val_loss: 1.5557 - val_acc: 0.4548\n",
            "Epoch 9/50\n",
            " - 9s - loss: 1.3374 - acc: 0.5335 - val_loss: 1.5113 - val_acc: 0.4616\n",
            "Epoch 10/50\n",
            " - 9s - loss: 1.3072 - acc: 0.5454 - val_loss: 1.5221 - val_acc: 0.4655\n",
            "Epoch 11/50\n",
            " - 10s - loss: 1.2790 - acc: 0.5569 - val_loss: 1.4965 - val_acc: 0.4708\n",
            "Epoch 12/50\n",
            " - 9s - loss: 1.2518 - acc: 0.5657 - val_loss: 1.4881 - val_acc: 0.4788\n",
            "Epoch 13/50\n",
            " - 10s - loss: 1.2259 - acc: 0.5754 - val_loss: 1.4851 - val_acc: 0.4811\n",
            "Epoch 14/50\n",
            " - 9s - loss: 1.2001 - acc: 0.5877 - val_loss: 1.4797 - val_acc: 0.4785\n",
            "Epoch 15/50\n",
            " - 10s - loss: 1.1761 - acc: 0.5951 - val_loss: 1.4717 - val_acc: 0.4872\n",
            "Epoch 16/50\n",
            " - 9s - loss: 1.1511 - acc: 0.6046 - val_loss: 1.4672 - val_acc: 0.4877\n",
            "Epoch 17/50\n",
            " - 10s - loss: 1.1288 - acc: 0.6131 - val_loss: 1.4672 - val_acc: 0.4852\n",
            "Epoch 18/50\n",
            " - 9s - loss: 1.1054 - acc: 0.6225 - val_loss: 1.4674 - val_acc: 0.4845\n",
            "Epoch 19/50\n",
            " - 9s - loss: 1.0828 - acc: 0.6316 - val_loss: 1.4596 - val_acc: 0.4900\n",
            "Epoch 20/50\n",
            " - 10s - loss: 1.0613 - acc: 0.6393 - val_loss: 1.4542 - val_acc: 0.4897\n",
            "Epoch 21/50\n",
            " - 9s - loss: 1.0392 - acc: 0.6469 - val_loss: 1.4617 - val_acc: 0.4940\n",
            "Epoch 22/50\n",
            " - 9s - loss: 1.0207 - acc: 0.6559 - val_loss: 1.4619 - val_acc: 0.4942\n",
            "Epoch 23/50\n",
            " - 9s - loss: 0.9970 - acc: 0.6643 - val_loss: 1.4665 - val_acc: 0.4920\n",
            "Epoch 24/50\n",
            " - 9s - loss: 0.9764 - acc: 0.6724 - val_loss: 1.4660 - val_acc: 0.4959\n",
            "Epoch 25/50\n",
            " - 8s - loss: 0.9544 - acc: 0.6778 - val_loss: 1.4746 - val_acc: 0.4933\n",
            "\n",
            "Epoch 00025: ReduceLROnPlateau reducing learning rate to 0.0005000000237487257.\n",
            "Epoch 26/50\n",
            " - 8s - loss: 0.9282 - acc: 0.6894 - val_loss: 1.4497 - val_acc: 0.5027\n",
            "Epoch 27/50\n",
            " - 9s - loss: 0.9092 - acc: 0.6979 - val_loss: 1.4570 - val_acc: 0.4955\n",
            "Epoch 28/50\n",
            " - 9s - loss: 0.8977 - acc: 0.7043 - val_loss: 1.4629 - val_acc: 0.4948\n",
            "Epoch 29/50\n",
            " - 8s - loss: 0.8854 - acc: 0.7085 - val_loss: 1.4535 - val_acc: 0.4990\n",
            "Epoch 30/50\n",
            " - 9s - loss: 0.8758 - acc: 0.7106 - val_loss: 1.4664 - val_acc: 0.4983\n",
            "Epoch 31/50\n",
            " - 9s - loss: 0.8628 - acc: 0.7185 - val_loss: 1.4660 - val_acc: 0.5005\n",
            "\n",
            "Epoch 00031: ReduceLROnPlateau reducing learning rate to 0.0002500000118743628.\n",
            "Epoch 32/50\n",
            " - 9s - loss: 0.8488 - acc: 0.7239 - val_loss: 1.4641 - val_acc: 0.4998\n",
            "Epoch 33/50\n",
            " - 9s - loss: 0.8387 - acc: 0.7272 - val_loss: 1.4616 - val_acc: 0.5010\n",
            "Epoch 34/50\n",
            " - 8s - loss: 0.8332 - acc: 0.7298 - val_loss: 1.4652 - val_acc: 0.4991\n",
            "Epoch 35/50\n",
            " - 9s - loss: 0.8270 - acc: 0.7323 - val_loss: 1.4635 - val_acc: 0.4995\n",
            "Epoch 36/50\n",
            " - 9s - loss: 0.8217 - acc: 0.7341 - val_loss: 1.4707 - val_acc: 0.5020\n",
            "\n",
            "Epoch 00036: ReduceLROnPlateau reducing learning rate to 0.0001250000059371814.\n",
            "Epoch 37/50\n",
            " - 9s - loss: 0.8136 - acc: 0.7374 - val_loss: 1.4678 - val_acc: 0.5007\n",
            "Epoch 38/50\n",
            " - 9s - loss: 0.8091 - acc: 0.7404 - val_loss: 1.4689 - val_acc: 0.5025\n",
            "Epoch 39/50\n",
            " - 9s - loss: 0.8055 - acc: 0.7406 - val_loss: 1.4711 - val_acc: 0.5032\n",
            "Epoch 40/50\n",
            " - 9s - loss: 0.8026 - acc: 0.7419 - val_loss: 1.4722 - val_acc: 0.5017\n",
            "Epoch 41/50\n",
            " - 9s - loss: 0.7992 - acc: 0.7435 - val_loss: 1.4729 - val_acc: 0.5015\n",
            "\n",
            "Epoch 00041: ReduceLROnPlateau reducing learning rate to 6.25000029685907e-05.\n",
            "Epoch 42/50\n",
            " - 9s - loss: 0.7963 - acc: 0.7455 - val_loss: 1.4706 - val_acc: 0.4986\n",
            "Epoch 43/50\n",
            " - 9s - loss: 0.7931 - acc: 0.7468 - val_loss: 1.4719 - val_acc: 0.5017\n",
            "Epoch 44/50\n",
            " - 9s - loss: 0.7901 - acc: 0.7484 - val_loss: 1.4740 - val_acc: 0.5021\n",
            "Epoch 45/50\n",
            " - 9s - loss: 0.7892 - acc: 0.7483 - val_loss: 1.4738 - val_acc: 0.5018\n",
            "Epoch 46/50\n",
            " - 9s - loss: 0.7892 - acc: 0.7496 - val_loss: 1.4743 - val_acc: 0.5012\n",
            "\n",
            "Epoch 00046: ReduceLROnPlateau reducing learning rate to 3.125000148429535e-05.\n",
            "Epoch 47/50\n",
            " - 9s - loss: 0.7855 - acc: 0.7500 - val_loss: 1.4742 - val_acc: 0.5010\n",
            "Epoch 48/50\n",
            " - 9s - loss: 0.7846 - acc: 0.7514 - val_loss: 1.4751 - val_acc: 0.5022\n",
            "Epoch 49/50\n",
            " - 8s - loss: 0.7842 - acc: 0.7498 - val_loss: 1.4749 - val_acc: 0.5007\n",
            "Epoch 50/50\n",
            " - 9s - loss: 0.7834 - acc: 0.7499 - val_loss: 1.4754 - val_acc: 0.5010\n"
          ]
        }
      ],
      "source": [
        "batch_trainer = BatchTrainer(trainers, params).run()"
      ]
    },
    {
      "cell_type": "code",
      "execution_count": 9,
      "metadata": {},
      "outputs": [
        {
          "data": {
            "image/png": "[encoded data removed]",
            "text/plain": [
              "<Figure size 864x504 with 1 Axes>"
            ]
          },
          "metadata": {
            "needs_background": "light"
          },
          "output_type": "display_data"
        }
      ],
      "source": [
        "batch_trainer.display('acc', 'val_acc')"
      ]
    },
    {
      "cell_type": "code",
      "execution_count": 10,
      "metadata": {},
      "outputs": [
        {
          "data": {
            "image/png": "[encoded data removed]",
            "text/plain": [
              "<Figure size 864x504 with 1 Axes>"
            ]
          },
          "metadata": {
            "needs_background": "light"
          },
          "output_type": "display_data"
        }
      ],
      "source": [
        "batch_trainer.display('loss', 'val_loss')"
      ]
    },
    {
      "cell_type": "markdown",
      "metadata": {},
      "source": [
        "## \u4f5c\u696d\n",
        "\n",
        "1. \u8acb\u6539\u8b8a reduce learning rate \u4e0d\u540c\u7684 patience \u548c factor\uff0c\u4e26\u6bd4\u8f03\u5c0d\u8a13\u7df4\u96c6/\u9a57\u8b49\u96c6\u7684\u5f71\u97ff\u3002\n",
        "2. \u8acb\u6539\u8b8a optimizer \u63db\u6210 Adam \u548c RMSprop \uff0c\u4e26\u642d\u914d reduce learning rate \u4e0d\u540c\u7684 patience \u548c factor\uff0c\u4e26\u6bd4\u8f03\u5c0d\u8a13\u7df4\u96c6/\u9a57\u8b49\u96c6\u7684\u5f71\u97ff\u3002"
      ]
    },
    {
      "cell_type": "code",
      "execution_count": null,
      "metadata": {},
      "outputs": [],
      "source": []
    }
  ],
  "metadata": {
    "kernelspec": {
      "display_name": "Python 3",
      "language": "python",
      "name": "python3"
    },
    "language_info": {
      "codemirror_mode": {
        "name": "ipython",
        "version": 3
      },
      "file_extension": ".py",
      "mimetype": "text/x-python",
      "name": "python",
      "nbconvert_exporter": "python",
      "pygments_lexer": "ipython3",
      "version": "3.7.3"
    }
  },
  "nbformat": 4,
  "nbformat_minor": 2
}