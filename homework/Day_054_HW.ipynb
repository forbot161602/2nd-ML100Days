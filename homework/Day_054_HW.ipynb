{
 "cells": [
  {
   "cell_type": "markdown",
   "metadata": {},
   "source": [
    "## 作業\n",
    "\n",
    "請觀看 Coursera Andrew Ng 教授的影片，影片裡會講授 Unsupervised Learning 概念，及會介紹很多其應用場景。\n",
    "\n",
    "[Lecture 1.3 — Introduction Unsupervised Learning — \\[Machine Learning | Andrew Ng\\]](https://www.youtube.com/watch?v=jAA2g9ItoAc)\n",
    "\n",
    "* 試著想想看, 非監督學習是否有可能使用評價函數 (Metric) 來鑑別好壞呢?  \n",
    "(Hint : 可以分為 \"有目標值\" 與 \"無目標值\" 兩個方向思考)\n",
    "\n",
    "答：非監督式學習不是在目標值標記的情況下訓練，通常會以分組的結果呈現，無法說明哪一種聚類的模式是比較好的，通常以群內相似度和群間差異度來評價訓練的成果，不過，如果多次訓練能產生有意義、能辨識的特徵時，也可使用監督式學習的模式去評價模型的好壞。\n",
    "\n",
    "參考連結：[一个无监督学习算法，如何判断其好坏呢?](https://www.zhihu.com/question/30855292)"
   ]
  },
  {
   "cell_type": "markdown",
   "metadata": {},
   "source": [
    "## 參考資料\n",
    "\n",
    "[ML Lecture 13: Unsupervised Learning - Linear Methods](https://www.youtube.com/watch?v=iwh5o_M4BNU)\n",
    "\n",
    "[scikit learn: 2. Unsupervised learning](https://scikit-learn.org/stable/unsupervised_learning.html)"
   ]
  },
  {
   "cell_type": "code",
   "execution_count": null,
   "metadata": {
    "collapsed": true
   },
   "outputs": [],
   "source": []
  }
 ],
 "metadata": {
  "kernelspec": {
   "display_name": "Python 3",
   "language": "python",
   "name": "python3"
  },
  "language_info": {
   "codemirror_mode": {
    "name": "ipython",
    "version": 3
   },
   "file_extension": ".py",
   "mimetype": "text/x-python",
   "name": "python",
   "nbconvert_exporter": "python",
   "pygments_lexer": "ipython3",
   "version": "3.7.3"
  }
 },
 "nbformat": 4,
 "nbformat_minor": 1
}
