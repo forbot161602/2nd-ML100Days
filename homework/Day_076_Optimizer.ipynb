{
 "cells": [
  {
   "cell_type": "code",
   "execution_count": 1,
   "metadata": {},
   "outputs": [
    {
     "name": "stderr",
     "output_type": "stream",
     "text": [
      "Using TensorFlow backend.\n"
     ]
    }
   ],
   "source": [
    "import numpy as np\n",
    "import tensorflow as tf\n",
    "import matplotlib.pyplot as plt\n",
    "from keras.datasets import mnist\n",
    "from keras.models import Sequential\n",
    "from keras.layers import Dense, Activation\n",
    "tf.logging.set_verbosity(tf.logging.ERROR)"
   ]
  },
  {
   "cell_type": "code",
   "execution_count": 2,
   "metadata": {},
   "outputs": [],
   "source": [
    "# 避免動態分配 GPU 和 CPU 的問題(Blas GEMM launch failed)\n",
    "# gpu_options = tf.GPUOptions(per_process_gpu_memory_fraction=0.333)\n",
    "# tf.Session(config=tf.ConfigProto(gpu_options=gpu_options))"
   ]
  },
  {
   "cell_type": "code",
   "execution_count": 3,
   "metadata": {},
   "outputs": [],
   "source": [
    "# 第一步：選擇模型，順序模型是多個網絡層的線性堆疊\n",
    "model = Sequential()\n",
    "\n",
    "# 第二步：構建網絡層\n",
    "# 輸入層：28 * 28 = 784\n",
    "model.add(Dense(500, input_shape=(784,)))\n",
    "model.add(Activation('relu')) # 激活函數是 ReLU\n",
    "# 隱藏層：節點 500 個\n",
    "model.add(Dense(500))\n",
    "model.add(Activation('relu'))  \n",
    "# 隱藏層：節點 500 個\n",
    "model.add(Dense(500))\n",
    "model.add(Activation('relu'))\n",
    "# 隱藏層：節點 500 個\n",
    "model.add(Dense(500))\n",
    "model.add(Activation('relu'))\n",
    "# 輸出層：結果是 10 個類別\n",
    "model.add(Dense(10))\n",
    "model.add(Activation('softmax')) # 激活函數是 softmax"
   ]
  },
  {
   "cell_type": "code",
   "execution_count": 4,
   "metadata": {},
   "outputs": [
    {
     "name": "stdout",
     "output_type": "stream",
     "text": [
      "_________________________________________________________________\n",
      "Layer (type)                 Output Shape              Param #   \n",
      "=================================================================\n",
      "dense_1 (Dense)              (None, 500)               392500    \n",
      "_________________________________________________________________\n",
      "activation_1 (Activation)    (None, 500)               0         \n",
      "_________________________________________________________________\n",
      "dense_2 (Dense)              (None, 500)               250500    \n",
      "_________________________________________________________________\n",
      "activation_2 (Activation)    (None, 500)               0         \n",
      "_________________________________________________________________\n",
      "dense_3 (Dense)              (None, 500)               250500    \n",
      "_________________________________________________________________\n",
      "activation_3 (Activation)    (None, 500)               0         \n",
      "_________________________________________________________________\n",
      "dense_4 (Dense)              (None, 500)               250500    \n",
      "_________________________________________________________________\n",
      "activation_4 (Activation)    (None, 500)               0         \n",
      "_________________________________________________________________\n",
      "dense_5 (Dense)              (None, 10)                5010      \n",
      "_________________________________________________________________\n",
      "activation_5 (Activation)    (None, 10)                0         \n",
      "=================================================================\n",
      "Total params: 1,149,010\n",
      "Trainable params: 1,149,010\n",
      "Non-trainable params: 0\n",
      "_________________________________________________________________\n"
     ]
    }
   ],
   "source": [
    "# 輸出模型摘要資訊\n",
    "model.summary()"
   ]
  },
  {
   "cell_type": "code",
   "execution_count": 5,
   "metadata": {},
   "outputs": [],
   "source": [
    "# 第三步：編譯模型\n",
    "model.compile(optimizer='adam', loss='binary_crossentropy', metrics=['accuracy'])"
   ]
  },
  {
   "cell_type": "code",
   "execution_count": 6,
   "metadata": {},
   "outputs": [],
   "source": [
    "# 第四步：資料分割\n",
    "# 使用 Keras 自帶的 mnist 工具讀取數據\n",
    "(X_train, y_train), (X_test, y_test) = mnist.load_data()"
   ]
  },
  {
   "cell_type": "code",
   "execution_count": 7,
   "metadata": {},
   "outputs": [],
   "source": [
    "def normalize_mnist_data(x, y):\n",
    "    x = x.reshape(x.shape[0], x.shape[1] * x.shape[2]) # 改變 MNIST 輸入數據的維度從 (-1, 28, 28) 至 (-1, 784)\n",
    "    y = (y[:, None] == np.arange(np.unique(y).shape[0])).astype(int) # 讀熱編碼使輸出數據的維度從 (-1) 至 (-1, 10)\n",
    "    return x, y\n",
    "\n",
    "def normalize_result(x, y):\n",
    "    print('x.shape:', x.shape)\n",
    "    print('y.shape:', y.shape)"
   ]
  },
  {
   "cell_type": "code",
   "execution_count": 8,
   "metadata": {},
   "outputs": [
    {
     "name": "stdout",
     "output_type": "stream",
     "text": [
      "Before normalization:\n",
      "x.shape: (60000, 28, 28)\n",
      "y.shape: (60000,)\n"
     ]
    }
   ],
   "source": [
    "print('Before normalization:')\n",
    "normalize_result(X_train, y_train)"
   ]
  },
  {
   "cell_type": "code",
   "execution_count": 9,
   "metadata": {},
   "outputs": [
    {
     "name": "stdout",
     "output_type": "stream",
     "text": [
      "After normalization:\n",
      "x.shape: (60000, 784)\n",
      "y.shape: (60000, 10)\n"
     ]
    }
   ],
   "source": [
    "print('After normalization:')\n",
    "X_train, y_train = normalize_mnist_data(X_train, y_train)\n",
    "X_test, y_test = normalize_mnist_data(X_test, y_test)\n",
    "normalize_result(X_train, y_train)"
   ]
  },
  {
   "cell_type": "code",
   "execution_count": 10,
   "metadata": {},
   "outputs": [
    {
     "name": "stdout",
     "output_type": "stream",
     "text": [
      "Train on 42000 samples, validate on 18000 samples\n",
      "Epoch 1/20\n",
      " - 12s - loss: 2.8831 - acc: 0.8200 - val_loss: 2.8963 - val_acc: 0.8193\n",
      "Epoch 2/20\n",
      " - 14s - loss: 2.8847 - acc: 0.8200 - val_loss: 2.8963 - val_acc: 0.8193\n",
      "Epoch 3/20\n",
      " - 12s - loss: 2.8847 - acc: 0.8200 - val_loss: 2.8963 - val_acc: 0.8193\n",
      "Epoch 4/20\n",
      " - 14s - loss: 2.8847 - acc: 0.8200 - val_loss: 2.8963 - val_acc: 0.8193\n",
      "Epoch 5/20\n",
      " - 14s - loss: 2.8847 - acc: 0.8200 - val_loss: 2.8963 - val_acc: 0.8193\n",
      "Epoch 6/20\n",
      " - 13s - loss: 2.8847 - acc: 0.8200 - val_loss: 2.8963 - val_acc: 0.8193\n",
      "Epoch 7/20\n",
      " - 12s - loss: 2.8847 - acc: 0.8200 - val_loss: 2.8963 - val_acc: 0.8193\n",
      "Epoch 8/20\n",
      " - 12s - loss: 2.8847 - acc: 0.8200 - val_loss: 2.8963 - val_acc: 0.8193\n",
      "Epoch 9/20\n",
      " - 13s - loss: 2.8847 - acc: 0.8200 - val_loss: 2.8963 - val_acc: 0.8193\n",
      "Epoch 10/20\n",
      " - 12s - loss: 2.8847 - acc: 0.8200 - val_loss: 2.8963 - val_acc: 0.8193\n",
      "Epoch 11/20\n",
      " - 13s - loss: 2.8847 - acc: 0.8200 - val_loss: 2.8963 - val_acc: 0.8193\n",
      "Epoch 12/20\n",
      " - 12s - loss: 2.8847 - acc: 0.8200 - val_loss: 2.8963 - val_acc: 0.8193\n",
      "Epoch 13/20\n",
      " - 12s - loss: 2.8847 - acc: 0.8200 - val_loss: 2.8963 - val_acc: 0.8193\n",
      "Epoch 14/20\n",
      " - 13s - loss: 2.8847 - acc: 0.8200 - val_loss: 2.8963 - val_acc: 0.8193\n",
      "Epoch 15/20\n",
      " - 12s - loss: 2.8847 - acc: 0.8200 - val_loss: 2.8963 - val_acc: 0.8193\n",
      "Epoch 16/20\n",
      " - 12s - loss: 2.8847 - acc: 0.8200 - val_loss: 2.8963 - val_acc: 0.8193\n",
      "Epoch 17/20\n",
      " - 13s - loss: 2.8847 - acc: 0.8200 - val_loss: 2.8963 - val_acc: 0.8193\n",
      "Epoch 18/20\n",
      " - 12s - loss: 2.8847 - acc: 0.8200 - val_loss: 2.8963 - val_acc: 0.8193\n",
      "Epoch 19/20\n",
      " - 12s - loss: 2.8847 - acc: 0.8200 - val_loss: 2.8963 - val_acc: 0.8193\n",
      "Epoch 20/20\n",
      " - 12s - loss: 2.8847 - acc: 0.8200 - val_loss: 2.8963 - val_acc: 0.8193\n"
     ]
    }
   ],
   "source": [
    "# 第五步：訓練模型\n",
    "# epochs: 訓練次數\n",
    "# batch_size: 對總樣本數進行分組，每組包含的樣本數量\n",
    "# validation_split: 用來做交叉驗證樣本數量的百分比\n",
    "# shuffle: 是否把數據隨機打亂之後再進行訓練\n",
    "# verbose: 屏顯模式，0: 不輸出，1: 輸出進度，2: 輸出每次的訓練結果\n",
    "train_history = model.fit(X_train, y_train, epochs=20, batch_size=128, validation_split=0.3, shuffle=True, verbose=2)"
   ]
  },
  {
   "cell_type": "code",
   "execution_count": 11,
   "metadata": {},
   "outputs": [
    {
     "name": "stdout",
     "output_type": "stream",
     "text": [
      "The test loss is 2.883\n",
      "The test acc is 0.820\n"
     ]
    }
   ],
   "source": [
    "# 第六步：輸出結果\n",
    "scores = model.evaluate(X_test, y_test, batch_size=200, verbose=0)\n",
    "for i, metrics_name in enumerate(model.metrics_names):\n",
    "    print('The test {} is {:.3f}'.format(metrics_name, scores[i]))"
   ]
  },
  {
   "cell_type": "code",
   "execution_count": 12,
   "metadata": {},
   "outputs": [
    {
     "data": {
      "text/plain": [
       "array([[0., 0., 0., ..., 0., 0., 1.],\n",
       "       [0., 0., 0., ..., 0., 0., 1.],\n",
       "       [0., 0., 0., ..., 0., 0., 1.],\n",
       "       ...,\n",
       "       [0., 0., 0., ..., 0., 0., 1.],\n",
       "       [0., 0., 0., ..., 0., 0., 1.],\n",
       "       [0., 0., 0., ..., 0., 0., 1.]], dtype=float32)"
      ]
     },
     "execution_count": 12,
     "metadata": {},
     "output_type": "execute_result"
    }
   ],
   "source": [
    "y_pred = model.predict(X_test, batch_size=200, verbose=0)\n",
    "y_pred"
   ]
  },
  {
   "cell_type": "code",
   "execution_count": 13,
   "metadata": {},
   "outputs": [
    {
     "name": "stdout",
     "output_type": "stream",
     "text": [
      "The accuracy of the model is 0.101\n"
     ]
    }
   ],
   "source": [
    "y_pred_label = np.argmax(y_pred, axis=1)\n",
    "y_test_label = np.argmax(y_test, axis=1)\n",
    "y_correct_prediction = np.equal(y_pred_label, y_test_label)\n",
    "print('The accuracy of the model is {:.3f}'.format(np.sum(y_correct_prediction) / y_correct_prediction.shape[0]))"
   ]
  },
  {
   "cell_type": "code",
   "execution_count": 14,
   "metadata": {},
   "outputs": [],
   "source": [
    "def show_train_history(train_history, train_hst_name, val_hst_name):\n",
    "    plt.plot(train_history.history[train_hst_name])\n",
    "    plt.plot(train_history.history[val_hst_name])\n",
    "    plt.xlabel('Epoch')\n",
    "    plt.ylabel(train_hst_name)\n",
    "    plt.title('Train History')\n",
    "    plt.legend(['train', 'validation'], loc='upper left')\n",
    "    plt.show()"
   ]
  },
  {
   "cell_type": "code",
   "execution_count": 15,
   "metadata": {},
   "outputs": [
    {
     "data": {
      "image/png": "[encoded data removed]",
      "text/plain": [
       "<Figure size 432x288 with 1 Axes>"
      ]
     },
     "metadata": {
      "needs_background": "light"
     },
     "output_type": "display_data"
    }
   ],
   "source": [
    "show_train_history(train_history, 'acc', 'val_acc')"
   ]
  },
  {
   "cell_type": "code",
   "execution_count": 16,
   "metadata": {},
   "outputs": [
    {
     "data": {
      "image/png": "[encoded data removed]",
      "text/plain": [
       "<Figure size 432x288 with 1 Axes>"
      ]
     },
     "metadata": {
      "needs_background": "light"
     },
     "output_type": "display_data"
    }
   ],
   "source": [
    "show_train_history(train_history, 'loss', 'val_loss')"
   ]
  },
  {
   "cell_type": "markdown",
   "metadata": {},
   "source": [
    "## 作業\n",
    "    \n",
    "(1) 以 Adam 為例, 調整 batch_size, epoch, 觀察 accurancy, loss 的變化\n",
    "    \n",
    "(2) 以同一模型, 分別驗證 SGD, Adam, Rmsprop 的 accurancy"
   ]
  },
  {
   "cell_type": "code",
   "execution_count": null,
   "metadata": {},
   "outputs": [],
   "source": []
  }
 ],
 "metadata": {
  "kernelspec": {
   "display_name": "Python 3",
   "language": "python",
   "name": "python3"
  },
  "language_info": {
   "codemirror_mode": {
    "name": "ipython",
    "version": 3
   },
   "file_extension": ".py",
   "mimetype": "text/x-python",
   "name": "python",
   "nbconvert_exporter": "python",
   "pygments_lexer": "ipython3",
   "version": "3.7.3"
  }
 },
 "nbformat": 4,
 "nbformat_minor": 2
}
