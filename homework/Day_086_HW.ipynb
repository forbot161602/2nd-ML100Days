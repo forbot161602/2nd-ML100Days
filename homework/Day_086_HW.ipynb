{
 "cells": [
  {
   "cell_type": "markdown",
   "metadata": {},
   "source": [
    "## 作業\n",
    "\n",
    "1. 試比較 save_best_only = False 的差異，並嘗試重載模型預測表現\n",
    "2. 試比較 save_weights_only = True 的差異，並嘗試重載模型預測表現"
   ]
  },
  {
   "cell_type": "markdown",
   "metadata": {},
   "source": [
    "## 參考資料\n",
    "\n",
    "載入整個模型的存檔：\n",
    "\n",
    "    keras.models.load_model(path_to_your_model)\n",
    "\n",
    "載入只有權重的存檔：\n",
    "\n",
    "    model = build_model(...)\n",
    "    model.load_weights(path_to_your_weight_file)\n",
    "\n",
    "[Save & Reload 保存提取](https://morvanzhou.github.io/tutorials/machine-learning/keras/3-1-save/)"
   ]
  },
  {
   "cell_type": "code",
   "execution_count": 1,
   "metadata": {},
   "outputs": [
    {
     "name": "stderr",
     "output_type": "stream",
     "text": [
      "Using TensorFlow backend.\n"
     ]
    }
   ],
   "source": [
    "import tensorflow as tf\n",
    "import matplotlib.pyplot as plt\n",
    "from keras import backend\n",
    "from keras.utils import np_utils\n",
    "from keras.datasets import cifar10\n",
    "from keras.models import Model, load_model\n",
    "from keras.layers import Input, Dense, BatchNormalization\n",
    "from keras.optimizers import SGD\n",
    "from keras.callbacks import ModelCheckpoint\n",
    "tf.logging.set_verbosity(tf.logging.ERROR)"
   ]
  },
  {
   "cell_type": "markdown",
   "metadata": {},
   "source": [
    "## 準備資料"
   ]
  },
  {
   "cell_type": "code",
   "execution_count": 2,
   "metadata": {},
   "outputs": [],
   "source": [
    "(X_train, y_train), (X_test, y_test) = cifar10.load_data()"
   ]
  },
  {
   "cell_type": "code",
   "execution_count": 3,
   "metadata": {},
   "outputs": [],
   "source": [
    "def normalize_cifar10_data(x, y):\n",
    "    x = x.reshape((len(x), -1)) / 255.\n",
    "    y = np_utils.to_categorical(y, num_classes=10)\n",
    "    return x, y\n",
    "\n",
    "def normalize_result(x, y):\n",
    "    print('x.shape:', x.shape)\n",
    "    print('y.shape:', y.shape)"
   ]
  },
  {
   "cell_type": "code",
   "execution_count": 4,
   "metadata": {},
   "outputs": [
    {
     "name": "stdout",
     "output_type": "stream",
     "text": [
      "Before normalization:\n",
      "x.shape: (50000, 32, 32, 3)\n",
      "y.shape: (50000, 1)\n"
     ]
    }
   ],
   "source": [
    "print('Before normalization:')\n",
    "normalize_result(X_train, y_train)"
   ]
  },
  {
   "cell_type": "code",
   "execution_count": 5,
   "metadata": {},
   "outputs": [
    {
     "name": "stdout",
     "output_type": "stream",
     "text": [
      "After normalization:\n",
      "x.shape: (50000, 3072)\n",
      "y.shape: (50000, 10)\n"
     ]
    }
   ],
   "source": [
    "print('After normalization:')\n",
    "X_train, y_train = normalize_cifar10_data(X_train, y_train)\n",
    "X_test, y_test = normalize_cifar10_data(X_test, y_test)\n",
    "normalize_result(X_train, y_train)"
   ]
  },
  {
   "cell_type": "markdown",
   "metadata": {},
   "source": [
    "## 定義函數"
   ]
  },
  {
   "cell_type": "code",
   "execution_count": 6,
   "metadata": {},
   "outputs": [],
   "source": [
    "default_check_point_param = {'save_best_only': False, 'save_weights_only': False}\n",
    "\n",
    "class Trainer:\n",
    "    SAVED_TYPE_MODEL = 'model'\n",
    "    SAVED_TYPE_WEIGHTS = 'weights'\n",
    "\n",
    "    def __init__(self, X_train, y_train, X_test, y_test, check_point_path, check_point_param, neuron_numbers=(512, 256, 128,),\n",
    "                 epochs=50, batch_size=1024, momentum=0.95, learning_rate=1e-3):\n",
    "        self.X_test = X_test\n",
    "        self.y_test = y_test\n",
    "        self.X_train = X_train\n",
    "        self.y_train = y_train\n",
    "        self.epochs = epochs\n",
    "        self.batch_size = batch_size\n",
    "        self.momentum = momentum\n",
    "        self.learning_rate = learning_rate\n",
    "        self.neuron_numbers = neuron_numbers\n",
    "        self.check_point_path = check_point_path\n",
    "        self.check_point_param = check_point_param\n",
    "        self._model = None\n",
    "        self._score = None\n",
    "        self._history = None\n",
    "\n",
    "    @property\n",
    "    def optimizer(self):\n",
    "        return SGD(lr=self.learning_rate, momentum=self.momentum, nesterov=True)\n",
    "\n",
    "    @property\n",
    "    def callbacks(self):\n",
    "        return [ModelCheckpoint(self.check_point_path, **self.check_point_param)]\n",
    "\n",
    "    @property\n",
    "    def validation_data(self):\n",
    "        return (self.X_test, self.y_test,)\n",
    "\n",
    "    def run(self):\n",
    "        return self._clear()._build()._launch()\n",
    "\n",
    "    def reload(self, saved_type=SAVED_TYPE_MODEL):\n",
    "        self._clear()\n",
    "        if saved_type == self.SAVED_TYPE_MODEL:\n",
    "            self._model = load_model(self.check_point_path)\n",
    "        else:\n",
    "            self._build()._model.load_weights(self.check_point_path)\n",
    "        return self\n",
    "\n",
    "    def _clear(self):\n",
    "        backend.clear_session()\n",
    "        self._model = None\n",
    "        return self\n",
    "\n",
    "    def _build(self):\n",
    "        main_input = hidden_input = Input(shape=self.X_train.shape[-1:], name='main_input')\n",
    "        for i, neuron_number in enumerate(self.neuron_numbers):\n",
    "            hidden_input = Dense(units=neuron_number, activation='relu', name=f'hidden_layer{i}')(hidden_input)\n",
    "            hidden_input = BatchNormalization()(hidden_input)\n",
    "        main_output = Dense(units=self.y_train.shape[-1], activation='softmax', name='main_output')(hidden_input)\n",
    "        self._model = Model(inputs=[main_input], outputs=[main_output])\n",
    "        self._model.compile(optimizer=self.optimizer, loss='categorical_crossentropy', metrics=['accuracy'])\n",
    "        return self\n",
    "\n",
    "    def _launch(self):\n",
    "        print('Experiment with check point param: {}'.format(self.check_point_param))\n",
    "        self._model.summary()\n",
    "        self._history = self._model.fit(\n",
    "            self.X_train, self.y_train, epochs=self.epochs, batch_size=self.batch_size,\n",
    "            validation_data=self.validation_data, callbacks=self.callbacks, shuffle=True, verbose=2)\n",
    "        return self\n",
    "\n",
    "    def evaluate(self):\n",
    "        self._score = dict(zip(('val_loss', 'val_acc',), self._model.evaluate(self.X_test, self.y_test)))\n",
    "        return self\n",
    "\n",
    "    def display(self, train_name, val_name):\n",
    "        plt.figure(figsize=(8, 6,))\n",
    "        plt.plot(self._history.history[train_name])\n",
    "        plt.plot(self._history.history[val_name])\n",
    "        plt.hlines(self._score[val_name], xmin=0, xmax=self.epochs, colors='r', linestyles='--')\n",
    "        plt.xlabel('Epoch')\n",
    "        plt.ylabel(train_name)\n",
    "        plt.title('Train History')\n",
    "        plt.legend(['train', 'validation'], loc='upper left')\n",
    "        plt.show()"
   ]
  },
  {
   "cell_type": "markdown",
   "metadata": {},
   "source": [
    "## 隨時儲存模型並嘗試重載模型預測表現"
   ]
  },
  {
   "cell_type": "code",
   "execution_count": 7,
   "metadata": {},
   "outputs": [],
   "source": [
    "# 設定超參數\n",
    "check_point_path = 'data/part07/day_086_hw_cifar10_model.h5'\n",
    "check_point_param = {**default_check_point_param}"
   ]
  },
  {
   "cell_type": "code",
   "execution_count": 8,
   "metadata": {},
   "outputs": [
    {
     "name": "stdout",
     "output_type": "stream",
     "text": [
      "Experiment with check point param: {'save_best_only': False, 'save_weights_only': False}\n",
      "_________________________________________________________________\n",
      "Layer (type)                 Output Shape              Param #   \n",
      "=================================================================\n",
      "main_input (InputLayer)      (None, 3072)              0         \n",
      "_________________________________________________________________\n",
      "hidden_layer0 (Dense)        (None, 512)               1573376   \n",
      "_________________________________________________________________\n",
      "batch_normalization_1 (Batch (None, 512)               2048      \n",
      "_________________________________________________________________\n",
      "hidden_layer1 (Dense)        (None, 256)               131328    \n",
      "_________________________________________________________________\n",
      "batch_normalization_2 (Batch (None, 256)               1024      \n",
      "_________________________________________________________________\n",
      "hidden_layer2 (Dense)        (None, 128)               32896     \n",
      "_________________________________________________________________\n",
      "batch_normalization_3 (Batch (None, 128)               512       \n",
      "_________________________________________________________________\n",
      "main_output (Dense)          (None, 10)                1290      \n",
      "=================================================================\n",
      "Total params: 1,742,474\n",
      "Trainable params: 1,740,682\n",
      "Non-trainable params: 1,792\n",
      "_________________________________________________________________\n",
      "Train on 50000 samples, validate on 10000 samples\n",
      "Epoch 1/50\n",
      " - 9s - loss: 2.1925 - acc: 0.2708 - val_loss: 2.0822 - val_acc: 0.3311\n",
      "Epoch 2/50\n",
      " - 9s - loss: 1.7389 - acc: 0.3953 - val_loss: 1.7901 - val_acc: 0.3961\n",
      "Epoch 3/50\n",
      " - 9s - loss: 1.6126 - acc: 0.4361 - val_loss: 1.6919 - val_acc: 0.4121\n",
      "Epoch 4/50\n",
      " - 9s - loss: 1.5393 - acc: 0.4637 - val_loss: 1.6376 - val_acc: 0.4308\n",
      "Epoch 5/50\n",
      " - 9s - loss: 1.4849 - acc: 0.4820 - val_loss: 1.5958 - val_acc: 0.4396\n",
      "Epoch 6/50\n",
      " - 9s - loss: 1.4391 - acc: 0.4992 - val_loss: 1.5850 - val_acc: 0.4441\n",
      "Epoch 7/50\n",
      " - 9s - loss: 1.4001 - acc: 0.5097 - val_loss: 1.5406 - val_acc: 0.4557\n",
      "Epoch 8/50\n",
      " - 9s - loss: 1.3649 - acc: 0.5233 - val_loss: 1.5329 - val_acc: 0.4601\n",
      "Epoch 9/50\n",
      " - 9s - loss: 1.3309 - acc: 0.5366 - val_loss: 1.5122 - val_acc: 0.4737\n",
      "Epoch 10/50\n",
      " - 9s - loss: 1.3004 - acc: 0.5474 - val_loss: 1.5042 - val_acc: 0.4712\n",
      "Epoch 11/50\n",
      " - 9s - loss: 1.2739 - acc: 0.5569 - val_loss: 1.5069 - val_acc: 0.4721\n",
      "Epoch 12/50\n",
      " - 9s - loss: 1.2467 - acc: 0.5669 - val_loss: 1.4883 - val_acc: 0.4786\n",
      "Epoch 13/50\n",
      " - 9s - loss: 1.2209 - acc: 0.5756 - val_loss: 1.4744 - val_acc: 0.4806\n",
      "Epoch 14/50\n",
      " - 9s - loss: 1.1944 - acc: 0.5868 - val_loss: 1.4766 - val_acc: 0.4846\n",
      "Epoch 15/50\n",
      " - 9s - loss: 1.1712 - acc: 0.5942 - val_loss: 1.4768 - val_acc: 0.4858\n",
      "Epoch 16/50\n",
      " - 9s - loss: 1.1480 - acc: 0.6034 - val_loss: 1.4708 - val_acc: 0.4886\n",
      "Epoch 17/50\n",
      " - 9s - loss: 1.1238 - acc: 0.6126 - val_loss: 1.4663 - val_acc: 0.4886\n",
      "Epoch 18/50\n",
      " - 9s - loss: 1.1021 - acc: 0.6232 - val_loss: 1.4649 - val_acc: 0.4910\n",
      "Epoch 19/50\n",
      " - 9s - loss: 1.0804 - acc: 0.6290 - val_loss: 1.4626 - val_acc: 0.4910\n",
      "Epoch 20/50\n",
      " - 9s - loss: 1.0583 - acc: 0.6367 - val_loss: 1.4536 - val_acc: 0.4978\n",
      "Epoch 21/50\n",
      " - 9s - loss: 1.0360 - acc: 0.6468 - val_loss: 1.4529 - val_acc: 0.4957\n",
      "Epoch 22/50\n",
      " - 9s - loss: 1.0167 - acc: 0.6535 - val_loss: 1.4635 - val_acc: 0.4970\n",
      "Epoch 23/50\n",
      " - 9s - loss: 0.9955 - acc: 0.6628 - val_loss: 1.4783 - val_acc: 0.4908\n",
      "Epoch 24/50\n",
      " - 9s - loss: 0.9775 - acc: 0.6697 - val_loss: 1.4549 - val_acc: 0.5000\n",
      "Epoch 25/50\n",
      " - 9s - loss: 0.9540 - acc: 0.6769 - val_loss: 1.4694 - val_acc: 0.4923\n",
      "Epoch 26/50\n",
      " - 9s - loss: 0.9333 - acc: 0.6873 - val_loss: 1.4674 - val_acc: 0.4972\n",
      "Epoch 27/50\n",
      " - 9s - loss: 0.9125 - acc: 0.6933 - val_loss: 1.4737 - val_acc: 0.4937\n",
      "Epoch 28/50\n",
      " - 9s - loss: 0.8926 - acc: 0.7014 - val_loss: 1.4720 - val_acc: 0.4890\n",
      "Epoch 29/50\n",
      " - 9s - loss: 0.8724 - acc: 0.7121 - val_loss: 1.4801 - val_acc: 0.4940\n",
      "Epoch 30/50\n",
      " - 9s - loss: 0.8537 - acc: 0.7170 - val_loss: 1.4907 - val_acc: 0.4990\n",
      "Epoch 31/50\n",
      " - 9s - loss: 0.8339 - acc: 0.7254 - val_loss: 1.4833 - val_acc: 0.4970\n",
      "Epoch 32/50\n",
      " - 9s - loss: 0.8135 - acc: 0.7331 - val_loss: 1.4909 - val_acc: 0.4992\n",
      "Epoch 33/50\n",
      " - 9s - loss: 0.7954 - acc: 0.7399 - val_loss: 1.5446 - val_acc: 0.4846\n",
      "Epoch 34/50\n",
      " - 9s - loss: 0.7778 - acc: 0.7459 - val_loss: 1.5090 - val_acc: 0.4995\n",
      "Epoch 35/50\n",
      " - 9s - loss: 0.7557 - acc: 0.7546 - val_loss: 1.5157 - val_acc: 0.4998\n",
      "Epoch 36/50\n",
      " - 9s - loss: 0.7370 - acc: 0.7629 - val_loss: 1.5162 - val_acc: 0.4963\n",
      "Epoch 37/50\n",
      " - 9s - loss: 0.7186 - acc: 0.7703 - val_loss: 1.5232 - val_acc: 0.4957\n",
      "Epoch 38/50\n",
      " - 9s - loss: 0.7013 - acc: 0.7767 - val_loss: 1.5412 - val_acc: 0.4980\n",
      "Epoch 39/50\n",
      " - 9s - loss: 0.6812 - acc: 0.7860 - val_loss: 1.5488 - val_acc: 0.4967\n",
      "Epoch 40/50\n",
      " - 9s - loss: 0.6645 - acc: 0.7905 - val_loss: 1.5654 - val_acc: 0.4943\n",
      "Epoch 41/50\n",
      " - 9s - loss: 0.6455 - acc: 0.8007 - val_loss: 1.5737 - val_acc: 0.4933\n",
      "Epoch 42/50\n",
      " - 9s - loss: 0.6288 - acc: 0.8061 - val_loss: 1.5926 - val_acc: 0.4926\n",
      "Epoch 43/50\n",
      " - 9s - loss: 0.6091 - acc: 0.8138 - val_loss: 1.5775 - val_acc: 0.4989\n",
      "Epoch 44/50\n",
      " - 9s - loss: 0.5920 - acc: 0.8205 - val_loss: 1.5943 - val_acc: 0.4899\n",
      "Epoch 45/50\n",
      " - 9s - loss: 0.5759 - acc: 0.8266 - val_loss: 1.6133 - val_acc: 0.4882\n",
      "Epoch 46/50\n",
      " - 9s - loss: 0.5575 - acc: 0.8342 - val_loss: 1.6183 - val_acc: 0.4911\n",
      "Epoch 47/50\n",
      " - 9s - loss: 0.5414 - acc: 0.8401 - val_loss: 1.6300 - val_acc: 0.4924\n",
      "Epoch 48/50\n",
      " - 9s - loss: 0.5253 - acc: 0.8471 - val_loss: 1.6707 - val_acc: 0.4916\n",
      "Epoch 49/50\n",
      " - 9s - loss: 0.5096 - acc: 0.8546 - val_loss: 1.6695 - val_acc: 0.4864\n",
      "Epoch 50/50\n",
      " - 9s - loss: 0.4935 - acc: 0.8610 - val_loss: 1.6736 - val_acc: 0.4976\n"
     ]
    }
   ],
   "source": [
    "trainer = Trainer(X_train, y_train, X_test, y_test, check_point_path, check_point_param).run()"
   ]
  },
  {
   "cell_type": "code",
   "execution_count": 9,
   "metadata": {},
   "outputs": [
    {
     "name": "stdout",
     "output_type": "stream",
     "text": [
      "10000/10000 [==============================] - 1s 114us/step\n"
     ]
    }
   ],
   "source": [
    "trainer = trainer.reload().evaluate()"
   ]
  },
  {
   "cell_type": "code",
   "execution_count": 10,
   "metadata": {},
   "outputs": [
    {
     "data": {
      "image/png": "[encoded data removed]",
      "text/plain": [
       "<Figure size 576x432 with 1 Axes>"
      ]
     },
     "metadata": {
      "needs_background": "light"
     },
     "output_type": "display_data"
    }
   ],
   "source": [
    "trainer.display('acc', 'val_acc')"
   ]
  },
  {
   "cell_type": "code",
   "execution_count": 11,
   "metadata": {},
   "outputs": [
    {
     "data": {
      "image/png": "[encoded data removed]",
      "text/plain": [
       "<Figure size 576x432 with 1 Axes>"
      ]
     },
     "metadata": {
      "needs_background": "light"
     },
     "output_type": "display_data"
    }
   ],
   "source": [
    "trainer.display('loss', 'val_loss')"
   ]
  },
  {
   "cell_type": "markdown",
   "metadata": {},
   "source": [
    "## 隨時儲存權重並嘗試重載模型預測表現"
   ]
  },
  {
   "cell_type": "code",
   "execution_count": 12,
   "metadata": {},
   "outputs": [],
   "source": [
    "# 設定超參數\n",
    "check_point_path = 'data/part07/day_086_hw_cifar10_weights.h5'\n",
    "check_point_param = {**default_check_point_param, 'save_weights_only': True}"
   ]
  },
  {
   "cell_type": "code",
   "execution_count": 13,
   "metadata": {},
   "outputs": [
    {
     "name": "stdout",
     "output_type": "stream",
     "text": [
      "Experiment with check point param: {'save_best_only': False, 'save_weights_only': True}\n",
      "_________________________________________________________________\n",
      "Layer (type)                 Output Shape              Param #   \n",
      "=================================================================\n",
      "main_input (InputLayer)      (None, 3072)              0         \n",
      "_________________________________________________________________\n",
      "hidden_layer0 (Dense)        (None, 512)               1573376   \n",
      "_________________________________________________________________\n",
      "batch_normalization_1 (Batch (None, 512)               2048      \n",
      "_________________________________________________________________\n",
      "hidden_layer1 (Dense)        (None, 256)               131328    \n",
      "_________________________________________________________________\n",
      "batch_normalization_2 (Batch (None, 256)               1024      \n",
      "_________________________________________________________________\n",
      "hidden_layer2 (Dense)        (None, 128)               32896     \n",
      "_________________________________________________________________\n",
      "batch_normalization_3 (Batch (None, 128)               512       \n",
      "_________________________________________________________________\n",
      "main_output (Dense)          (None, 10)                1290      \n",
      "=================================================================\n",
      "Total params: 1,742,474\n",
      "Trainable params: 1,740,682\n",
      "Non-trainable params: 1,792\n",
      "_________________________________________________________________\n",
      "Train on 50000 samples, validate on 10000 samples\n",
      "Epoch 1/50\n",
      " - 10s - loss: 2.1811 - acc: 0.2792 - val_loss: 2.1140 - val_acc: 0.3253\n",
      "Epoch 2/50\n",
      " - 9s - loss: 1.7315 - acc: 0.3987 - val_loss: 1.7994 - val_acc: 0.3821\n",
      "Epoch 3/50\n",
      " - 9s - loss: 1.6068 - acc: 0.4369 - val_loss: 1.7002 - val_acc: 0.4130\n",
      "Epoch 4/50\n",
      " - 9s - loss: 1.5326 - acc: 0.4649 - val_loss: 1.6258 - val_acc: 0.4241\n",
      "Epoch 5/50\n",
      " - 9s - loss: 1.4769 - acc: 0.4830 - val_loss: 1.5940 - val_acc: 0.4431\n",
      "Epoch 6/50\n",
      " - 9s - loss: 1.4326 - acc: 0.4988 - val_loss: 1.5771 - val_acc: 0.4450\n",
      "Epoch 7/50\n",
      " - 9s - loss: 1.3936 - acc: 0.5156 - val_loss: 1.5532 - val_acc: 0.4592\n",
      "Epoch 8/50\n",
      " - 9s - loss: 1.3581 - acc: 0.5265 - val_loss: 1.5274 - val_acc: 0.4635\n",
      "Epoch 9/50\n",
      " - 9s - loss: 1.3257 - acc: 0.5393 - val_loss: 1.5104 - val_acc: 0.4692\n",
      "Epoch 10/50\n",
      " - 9s - loss: 1.2952 - acc: 0.5502 - val_loss: 1.4970 - val_acc: 0.4782\n",
      "Epoch 11/50\n",
      " - 9s - loss: 1.2660 - acc: 0.5614 - val_loss: 1.5022 - val_acc: 0.4773\n",
      "Epoch 12/50\n",
      " - 9s - loss: 1.2410 - acc: 0.5705 - val_loss: 1.4882 - val_acc: 0.4787\n",
      "Epoch 13/50\n",
      " - 9s - loss: 1.2141 - acc: 0.5805 - val_loss: 1.4751 - val_acc: 0.4865\n",
      "Epoch 14/50\n",
      " - 9s - loss: 1.1895 - acc: 0.5889 - val_loss: 1.4789 - val_acc: 0.4875\n",
      "Epoch 15/50\n",
      " - 9s - loss: 1.1663 - acc: 0.5983 - val_loss: 1.4736 - val_acc: 0.4903\n",
      "Epoch 16/50\n",
      " - 9s - loss: 1.1438 - acc: 0.6076 - val_loss: 1.4693 - val_acc: 0.4916\n",
      "Epoch 17/50\n",
      " - 9s - loss: 1.1188 - acc: 0.6153 - val_loss: 1.4712 - val_acc: 0.4887\n",
      "Epoch 18/50\n",
      " - 9s - loss: 1.0955 - acc: 0.6254 - val_loss: 1.4669 - val_acc: 0.4924\n",
      "Epoch 19/50\n",
      " - 9s - loss: 1.0738 - acc: 0.6331 - val_loss: 1.4606 - val_acc: 0.4974\n",
      "Epoch 20/50\n",
      " - 9s - loss: 1.0522 - acc: 0.6416 - val_loss: 1.4660 - val_acc: 0.4914\n",
      "Epoch 21/50\n",
      " - 9s - loss: 1.0294 - acc: 0.6514 - val_loss: 1.4590 - val_acc: 0.4958\n",
      "Epoch 22/50\n",
      " - 9s - loss: 1.0092 - acc: 0.6596 - val_loss: 1.4631 - val_acc: 0.4985\n",
      "Epoch 23/50\n",
      " - 9s - loss: 0.9871 - acc: 0.6674 - val_loss: 1.4759 - val_acc: 0.4938\n",
      "Epoch 24/50\n",
      " - 9s - loss: 0.9657 - acc: 0.6763 - val_loss: 1.4664 - val_acc: 0.4994\n",
      "Epoch 25/50\n",
      " - 9s - loss: 0.9447 - acc: 0.6838 - val_loss: 1.4722 - val_acc: 0.4997\n",
      "Epoch 26/50\n",
      " - 9s - loss: 0.9251 - acc: 0.6924 - val_loss: 1.4784 - val_acc: 0.4951\n",
      "Epoch 27/50\n",
      " - 9s - loss: 0.9056 - acc: 0.6991 - val_loss: 1.4693 - val_acc: 0.4973\n",
      "Epoch 28/50\n",
      " - 9s - loss: 0.8850 - acc: 0.7085 - val_loss: 1.4759 - val_acc: 0.4997\n",
      "Epoch 29/50\n",
      " - 9s - loss: 0.8669 - acc: 0.7137 - val_loss: 1.4871 - val_acc: 0.4963\n",
      "Epoch 30/50\n",
      " - 9s - loss: 0.8465 - acc: 0.7245 - val_loss: 1.5154 - val_acc: 0.4869\n",
      "Epoch 31/50\n",
      " - 9s - loss: 0.8254 - acc: 0.7286 - val_loss: 1.4989 - val_acc: 0.5040\n",
      "Epoch 32/50\n",
      " - 9s - loss: 0.8048 - acc: 0.7389 - val_loss: 1.5227 - val_acc: 0.4972\n",
      "Epoch 33/50\n",
      " - 9s - loss: 0.7866 - acc: 0.7476 - val_loss: 1.5045 - val_acc: 0.4996\n",
      "Epoch 34/50\n",
      " - 9s - loss: 0.7687 - acc: 0.7528 - val_loss: 1.5209 - val_acc: 0.5019\n",
      "Epoch 35/50\n",
      " - 9s - loss: 0.7481 - acc: 0.7603 - val_loss: 1.5206 - val_acc: 0.4997\n",
      "Epoch 36/50\n",
      " - 9s - loss: 0.7294 - acc: 0.7686 - val_loss: 1.5348 - val_acc: 0.5002\n",
      "Epoch 37/50\n",
      " - 9s - loss: 0.7102 - acc: 0.7761 - val_loss: 1.5407 - val_acc: 0.4990\n",
      "Epoch 38/50\n",
      " - 9s - loss: 0.6927 - acc: 0.7822 - val_loss: 1.5638 - val_acc: 0.4973\n",
      "Epoch 39/50\n",
      " - 9s - loss: 0.6738 - acc: 0.7906 - val_loss: 1.5636 - val_acc: 0.4980\n",
      "Epoch 40/50\n",
      " - 9s - loss: 0.6555 - acc: 0.7999 - val_loss: 1.5698 - val_acc: 0.4968\n",
      "Epoch 41/50\n",
      " - 9s - loss: 0.6382 - acc: 0.8041 - val_loss: 1.6042 - val_acc: 0.4941\n",
      "Epoch 42/50\n",
      " - 9s - loss: 0.6191 - acc: 0.8126 - val_loss: 1.5787 - val_acc: 0.4954\n",
      "Epoch 43/50\n",
      " - 9s - loss: 0.6022 - acc: 0.8189 - val_loss: 1.6015 - val_acc: 0.4985\n",
      "Epoch 44/50\n",
      " - 8s - loss: 0.5837 - acc: 0.8264 - val_loss: 1.6132 - val_acc: 0.4939\n",
      "Epoch 45/50\n",
      " - 9s - loss: 0.5672 - acc: 0.8327 - val_loss: 1.6169 - val_acc: 0.4949\n",
      "Epoch 46/50\n",
      " - 9s - loss: 0.5508 - acc: 0.8390 - val_loss: 1.6393 - val_acc: 0.4961\n",
      "Epoch 47/50\n",
      " - 8s - loss: 0.5350 - acc: 0.8467 - val_loss: 1.6408 - val_acc: 0.4963\n",
      "Epoch 48/50\n",
      " - 9s - loss: 0.5174 - acc: 0.8529 - val_loss: 1.6623 - val_acc: 0.4970\n",
      "Epoch 49/50\n",
      " - 9s - loss: 0.5010 - acc: 0.8601 - val_loss: 1.6730 - val_acc: 0.4938\n",
      "Epoch 50/50\n",
      " - 9s - loss: 0.4867 - acc: 0.8650 - val_loss: 1.6701 - val_acc: 0.4904\n"
     ]
    }
   ],
   "source": [
    "trainer = Trainer(X_train, y_train, X_test, y_test, check_point_path, check_point_param).run()"
   ]
  },
  {
   "cell_type": "code",
   "execution_count": 14,
   "metadata": {},
   "outputs": [
    {
     "name": "stdout",
     "output_type": "stream",
     "text": [
      "10000/10000 [==============================] - 1s 117us/step\n"
     ]
    }
   ],
   "source": [
    "trainer = trainer.reload(saved_type=Trainer.SAVED_TYPE_WEIGHTS).evaluate()"
   ]
  },
  {
   "cell_type": "code",
   "execution_count": 15,
   "metadata": {},
   "outputs": [
    {
     "data": {
      "image/png": "[encoded data removed]",
      "text/plain": [
       "<Figure size 576x432 with 1 Axes>"
      ]
     },
     "metadata": {
      "needs_background": "light"
     },
     "output_type": "display_data"
    }
   ],
   "source": [
    "trainer.display('acc', 'val_acc')"
   ]
  },
  {
   "cell_type": "code",
   "execution_count": 16,
   "metadata": {},
   "outputs": [
    {
     "data": {
      "image/png": "[encoded data removed]",
      "text/plain": [
       "<Figure size 576x432 with 1 Axes>"
      ]
     },
     "metadata": {
      "needs_background": "light"
     },
     "output_type": "display_data"
    }
   ],
   "source": [
    "trainer.display('loss', 'val_loss')"
   ]
  },
  {
   "cell_type": "code",
   "execution_count": null,
   "metadata": {},
   "outputs": [],
   "source": []
  }
 ],
 "metadata": {
  "kernelspec": {
   "display_name": "Python 3",
   "language": "python",
   "name": "python3"
  },
  "language_info": {
   "codemirror_mode": {
    "name": "ipython",
    "version": 3
   },
   "file_extension": ".py",
   "mimetype": "text/x-python",
   "name": "python",
   "nbconvert_exporter": "python",
   "pygments_lexer": "ipython3",
   "version": "3.7.3"
  }
 },
 "nbformat": 4,
 "nbformat_minor": 2
}
