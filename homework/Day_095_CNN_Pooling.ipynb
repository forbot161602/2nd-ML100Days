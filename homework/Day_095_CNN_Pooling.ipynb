{
 "cells": [
  {
   "cell_type": "markdown",
   "metadata": {},
   "source": [
    "## 範例目標\n",
    "\n",
    "* 了解 Padding 的作法\n",
    "* 了解 Pooling 的作法"
   ]
  },
  {
   "cell_type": "markdown",
   "metadata": {},
   "source": [
    "## 範例說明\n",
    "\n",
    "1. zero_pad: 原圖和特徵圖的比對\n",
    "2. pool_forward: 前行網路的池化層"
   ]
  },
  {
   "cell_type": "code",
   "execution_count": 1,
   "metadata": {},
   "outputs": [],
   "source": [
    "import numpy as np\n",
    "import matplotlib.pyplot as plt\n",
    "np.random.seed(2)\n",
    "\n",
    "# 預先設定 matplotlib 的繪圖參數\n",
    "%matplotlib inline\n",
    "plt.rcParams['image.cmap'] = 'gray'\n",
    "plt.rcParams['image.interpolation'] = 'nearest'\n",
    "plt.rcParams['figure.figsize'] = (16.0, 9.0,)\n",
    "\n",
    "# 執行代碼前 IPython 會自動重載改動的模塊\n",
    "%reload_ext autoreload\n",
    "%autoreload 2"
   ]
  },
  {
   "cell_type": "code",
   "execution_count": 2,
   "metadata": {},
   "outputs": [],
   "source": [
    "# 資料的第 1 ~ 2 軸為高度和寬度需要左右補 0\n",
    "def zero_pad(image, pad):\n",
    "    return np.pad(image, ((0, 0,), (pad, pad,), (pad, pad,), (0, 0,),), 'constant', constant_values=(0, 0,))\n",
    "\n",
    "# 資料的第 0 ~ 3 軸分別為影像張數(Amount)、高度(Height)、寬度(Width)、深度(Channel)\n",
    "def pool_forward(image, pool_size=(2, 2,), stride=2, mode='max'):\n",
    "    p_h, p_w, p_s = *pool_size, stride\n",
    "    i_a, i_h, i_w, i_d = image.shape\n",
    "    o_a, o_h, o_w, o_d = i_a, (i_h - p_h) // p_s + 1, (i_w - p_w) // p_s + 1, i_d\n",
    "    output_image = np.zeros((o_a, o_h, o_w, o_d,))\n",
    "    for n in range(o_a):\n",
    "        for i in range(o_h):\n",
    "            for j in range(o_w):\n",
    "                for k in range(o_d):\n",
    "                    output_image[n, i, j, k] = pool_forward_step(image[n, i:i * p_s + p_h, j:j * p_s + p_w, k], mode)\n",
    "    return output_image, {'image': image, 'pool_size': pool_size, 'stride': 2, 'mode': mode} # 緩存資料和超參數可供反向傳播。\n",
    "\n",
    "# 池化模式有 max 和 average 兩種\n",
    "def pool_forward_step(a_slice, mode):\n",
    "    if mode == 'max':\n",
    "        return np.max(a_slice)\n",
    "    return np.mean(a_slice)\n",
    "\n",
    "# 展示每個影像堆疊的第一張\n",
    "def show_first_images(title_image_pairs):\n",
    "    fig, axes = plt.subplots(1, len(title_image_pairs))\n",
    "    for i, (title, image) in enumerate(title_image_pairs):\n",
    "        axes[i].set_title(title)\n",
    "        axes[i].imshow(image[0, :, :, 0])"
   ]
  },
  {
   "cell_type": "code",
   "execution_count": 3,
   "metadata": {},
   "outputs": [],
   "source": [
    "pad = 1\n",
    "image = np.random.randn(1, 3, 3, 1)\n",
    "image_pad = zero_pad(image, pad)"
   ]
  },
  {
   "cell_type": "code",
   "execution_count": 4,
   "metadata": {},
   "outputs": [
    {
     "name": "stdout",
     "output_type": "stream",
     "text": [
      "image:\n",
      "[[-0.41675785 -0.05626683 -2.1361961 ]\n",
      " [ 1.64027081 -1.79343559 -0.84174737]\n",
      " [ 0.50288142 -1.24528809 -1.05795222]]\n",
      "\n",
      "image_pad:\n",
      "[[ 0.          0.          0.          0.          0.        ]\n",
      " [ 0.         -0.41675785 -0.05626683 -2.1361961   0.        ]\n",
      " [ 0.          1.64027081 -1.79343559 -0.84174737  0.        ]\n",
      " [ 0.          0.50288142 -1.24528809 -1.05795222  0.        ]\n",
      " [ 0.          0.          0.          0.          0.        ]]\n"
     ]
    }
   ],
   "source": [
    "print('image:')\n",
    "print(image.reshape((3, 3,)))\n",
    "print()\n",
    "print('image_pad:')\n",
    "print(image_pad.reshape((3 + pad * 2, 3 + pad * 2,)))"
   ]
  },
  {
   "cell_type": "code",
   "execution_count": 5,
   "metadata": {},
   "outputs": [
    {
     "data": {
      "image/png": "[encoded data removed]",
      "text/plain": [
       "<Figure size 1152x648 with 2 Axes>"
      ]
     },
     "metadata": {
      "needs_background": "light"
     },
     "output_type": "display_data"
    }
   ],
   "source": [
    "show_first_images(list(zip(('image', 'image_pad',), (image, image_pad,))))"
   ]
  },
  {
   "cell_type": "code",
   "execution_count": 6,
   "metadata": {},
   "outputs": [],
   "source": [
    "pad = 1\n",
    "image = np.random.randn(4, 9, 16, 1)\n",
    "image = zero_pad(image, pad)"
   ]
  },
  {
   "cell_type": "code",
   "execution_count": 7,
   "metadata": {},
   "outputs": [],
   "source": [
    "image_max_pool, _ = pool_forward(image)\n",
    "image_avg_pool, _ = pool_forward(image, mode='average')"
   ]
  },
  {
   "cell_type": "code",
   "execution_count": 8,
   "metadata": {},
   "outputs": [
    {
     "data": {
      "image/png": "[encoded data removed]",
      "text/plain": [
       "<Figure size 1152x648 with 3 Axes>"
      ]
     },
     "metadata": {
      "needs_background": "light"
     },
     "output_type": "display_data"
    }
   ],
   "source": [
    "show_first_images(list(zip(('image', 'image_max_pool', 'image_avg_pool',), (image, image_max_pool, image_avg_pool,))))"
   ]
  },
  {
   "cell_type": "code",
   "execution_count": null,
   "metadata": {},
   "outputs": [],
   "source": []
  }
 ],
 "metadata": {
  "kernelspec": {
   "display_name": "Python 3",
   "language": "python",
   "name": "python3"
  },
  "language_info": {
   "codemirror_mode": {
    "name": "ipython",
    "version": 3
   },
   "file_extension": ".py",
   "mimetype": "text/x-python",
   "name": "python",
   "nbconvert_exporter": "python",
   "pygments_lexer": "ipython3",
   "version": "3.7.3"
  }
 },
 "nbformat": 4,
 "nbformat_minor": 2
}
