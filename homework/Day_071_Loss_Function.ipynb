{
 "cells": [
  {
   "cell_type": "markdown",
   "metadata": {},
   "source": [
    "## 課程目標\n",
    "\n",
    "利用 Keras 的 CIFAR10 dataset 來驗證損失函數對於模型精確度的影響"
   ]
  },
  {
   "cell_type": "markdown",
   "metadata": {},
   "source": [
    "## 範例重點\n",
    "    \n",
    "模型架構的層數\n",
    "    \n",
    "使用何種的 Loss Function"
   ]
  },
  {
   "cell_type": "markdown",
   "metadata": {},
   "source": [
    "## 資料準備"
   ]
  },
  {
   "cell_type": "code",
   "execution_count": 1,
   "metadata": {},
   "outputs": [
    {
     "name": "stderr",
     "output_type": "stream",
     "text": [
      "Using TensorFlow backend.\n"
     ]
    }
   ],
   "source": [
    "import numpy as np\n",
    "import tensorflow as tf\n",
    "import matplotlib.pyplot as plt\n",
    "import keras\n",
    "from keras.utils import np_utils\n",
    "from keras.datasets import cifar10\n",
    "from keras.models import Sequential\n",
    "from keras.layers import Dense, Dropout, Activation, Flatten, Conv2D, MaxPooling2D, ZeroPadding2D\n",
    "np.random.seed(10)\n",
    "tf.logging.set_verbosity(tf.logging.ERROR)"
   ]
  },
  {
   "cell_type": "code",
   "execution_count": 2,
   "metadata": {},
   "outputs": [],
   "source": [
    "(x_img_train, y_label_train), (x_img_test, y_label_test) = cifar10.load_data()"
   ]
  },
  {
   "cell_type": "code",
   "execution_count": 3,
   "metadata": {},
   "outputs": [],
   "source": [
    "def normalize_cifar10_data(x, y):\n",
    "    x = x.astype('float32') / 255\n",
    "    y = np_utils.to_categorical(y)\n",
    "    return x, y\n",
    "\n",
    "def normalize_result(x, y):\n",
    "    print('x_image.shape:', x.shape)\n",
    "    print('y_label.shape:', y.shape)"
   ]
  },
  {
   "cell_type": "code",
   "execution_count": 4,
   "metadata": {},
   "outputs": [
    {
     "name": "stdout",
     "output_type": "stream",
     "text": [
      "Before normalization:\n",
      "x_image.shape: (50000, 32, 32, 3)\n",
      "y_label.shape: (50000, 1)\n"
     ]
    }
   ],
   "source": [
    "print('Before normalization:')\n",
    "normalize_result(x_img_train, y_label_train)"
   ]
  },
  {
   "cell_type": "code",
   "execution_count": 5,
   "metadata": {},
   "outputs": [
    {
     "name": "stdout",
     "output_type": "stream",
     "text": [
      "After normalization:\n",
      "x_image.shape: (50000, 32, 32, 3)\n",
      "y_label.shape: (50000, 10)\n"
     ]
    }
   ],
   "source": [
    "print('After normalization:')\n",
    "x_img_train, y_label_train = normalize_cifar10_data(x_img_train, y_label_train)\n",
    "x_img_test, y_label_test = normalize_cifar10_data(x_img_test, y_label_test)\n",
    "normalize_result(x_img_train, y_label_train)"
   ]
  },
  {
   "cell_type": "markdown",
   "metadata": {},
   "source": [
    "## 建立模型"
   ]
  },
  {
   "cell_type": "code",
   "execution_count": 6,
   "metadata": {},
   "outputs": [],
   "source": [
    "# 宣告採用序列模型\n",
    "model = Sequential()\n",
    "\n",
    "# 卷積層1與池化層1\n",
    "model.add(Conv2D(filters=32, kernel_size=(3, 3,), input_shape=(32, 32, 3,), activation='relu', padding='same'))\n",
    "model.add(MaxPooling2D(pool_size=(2, 2,)))\n",
    "\n",
    "# 卷積層2與池化層2\n",
    "model.add(Conv2D(filters=64, kernel_size=(3, 3,), activation='relu', padding='same'))\n",
    "model.add(MaxPooling2D(pool_size=(2, 2,)))\n",
    "\n",
    "# 卷積層3與池化層3\n",
    "model.add(Conv2D(filters=128, kernel_size=(3, 3,), activation='relu', padding='same'))\n",
    "model.add(MaxPooling2D(pool_size=(2, 2,)))\n",
    "\n",
    "# 卷積層4與池化層4\n",
    "model.add(Conv2D(filters=256, kernel_size=(3, 3,), activation='relu', padding='same'))\n",
    "model.add(MaxPooling2D(pool_size=(2, 2,)))\n",
    "\n",
    "# 平坦層\n",
    "model.add(Flatten())\n",
    "\n",
    "# 全網路連接層\n",
    "model.add(Dense(512, activation='relu'))\n",
    "model.add(Dense(512, activation='relu'))\n",
    "\n",
    "# 輸出層\n",
    "model.add(Dense(10, activation='softmax'))"
   ]
  },
  {
   "cell_type": "code",
   "execution_count": 7,
   "metadata": {},
   "outputs": [
    {
     "name": "stdout",
     "output_type": "stream",
     "text": [
      "_________________________________________________________________\n",
      "Layer (type)                 Output Shape              Param #   \n",
      "=================================================================\n",
      "conv2d_1 (Conv2D)            (None, 32, 32, 32)        896       \n",
      "_________________________________________________________________\n",
      "max_pooling2d_1 (MaxPooling2 (None, 16, 16, 32)        0         \n",
      "_________________________________________________________________\n",
      "conv2d_2 (Conv2D)            (None, 16, 16, 64)        18496     \n",
      "_________________________________________________________________\n",
      "max_pooling2d_2 (MaxPooling2 (None, 8, 8, 64)          0         \n",
      "_________________________________________________________________\n",
      "conv2d_3 (Conv2D)            (None, 8, 8, 128)         73856     \n",
      "_________________________________________________________________\n",
      "max_pooling2d_3 (MaxPooling2 (None, 4, 4, 128)         0         \n",
      "_________________________________________________________________\n",
      "conv2d_4 (Conv2D)            (None, 4, 4, 256)         295168    \n",
      "_________________________________________________________________\n",
      "max_pooling2d_4 (MaxPooling2 (None, 2, 2, 256)         0         \n",
      "_________________________________________________________________\n",
      "flatten_1 (Flatten)          (None, 1024)              0         \n",
      "_________________________________________________________________\n",
      "dense_1 (Dense)              (None, 512)               524800    \n",
      "_________________________________________________________________\n",
      "dense_2 (Dense)              (None, 512)               262656    \n",
      "_________________________________________________________________\n",
      "dense_3 (Dense)              (None, 10)                5130      \n",
      "=================================================================\n",
      "Total params: 1,181,002\n",
      "Trainable params: 1,181,002\n",
      "Non-trainable params: 0\n",
      "_________________________________________________________________\n"
     ]
    }
   ],
   "source": [
    "model.summary()"
   ]
  },
  {
   "cell_type": "markdown",
   "metadata": {},
   "source": [
    "## 載入之前訓練的模型"
   ]
  },
  {
   "cell_type": "code",
   "execution_count": 8,
   "metadata": {},
   "outputs": [
    {
     "name": "stdout",
     "output_type": "stream",
     "text": [
      "載入參數失敗! 開始訓練一個新模型...\n"
     ]
    }
   ],
   "source": [
    "try:\n",
    "    model.load_weights('data/part07/day_071_cifar10_weights.h5')\n",
    "    print('載入參數成功! 繼續訓練模型...')\n",
    "except:\n",
    "    print('載入參數失敗! 開始訓練一個新模型...')"
   ]
  },
  {
   "cell_type": "code",
   "execution_count": 9,
   "metadata": {},
   "outputs": [],
   "source": [
    "def show_train_history(train_history, train_hst_name, val_hst_name):\n",
    "    plt.plot(train_history.history[train_hst_name])\n",
    "    plt.plot(train_history.history[val_hst_name])\n",
    "    plt.xlabel('Epoch')\n",
    "    plt.ylabel(train_hst_name)\n",
    "    plt.title('Train History')\n",
    "    plt.legend(['train', 'validation'], loc='upper left')\n",
    "    plt.show()"
   ]
  },
  {
   "cell_type": "markdown",
   "metadata": {},
   "source": [
    "## 訓練模型"
   ]
  },
  {
   "cell_type": "code",
   "execution_count": 10,
   "metadata": {},
   "outputs": [
    {
     "name": "stdout",
     "output_type": "stream",
     "text": [
      "Train on 37500 samples, validate on 12500 samples\n",
      "Epoch 1/12\n",
      "37500/37500 [==============================] - 94s 3ms/step - loss: 1.6097 - acc: 0.4023 - val_loss: 1.2925 - val_acc: 0.5246\n",
      "Epoch 2/12\n",
      "37500/37500 [==============================] - 93s 2ms/step - loss: 1.1524 - acc: 0.5823 - val_loss: 1.0169 - val_acc: 0.6454\n",
      "Epoch 3/12\n",
      "37500/37500 [==============================] - 93s 2ms/step - loss: 0.9356 - acc: 0.6639 - val_loss: 0.9172 - val_acc: 0.6801\n",
      "Epoch 4/12\n",
      "37500/37500 [==============================] - 93s 2ms/step - loss: 0.7731 - acc: 0.7273 - val_loss: 0.8311 - val_acc: 0.7157\n",
      "Epoch 5/12\n",
      "37500/37500 [==============================] - 92s 2ms/step - loss: 0.6488 - acc: 0.7695 - val_loss: 0.8292 - val_acc: 0.7152\n",
      "Epoch 6/12\n",
      "37500/37500 [==============================] - 92s 2ms/step - loss: 0.5378 - acc: 0.8119 - val_loss: 0.8059 - val_acc: 0.7262\n",
      "Epoch 7/12\n",
      "37500/37500 [==============================] - 92s 2ms/step - loss: 0.4358 - acc: 0.8459 - val_loss: 0.8349 - val_acc: 0.7254\n",
      "Epoch 8/12\n",
      "37500/37500 [==============================] - 93s 2ms/step - loss: 0.3565 - acc: 0.8740 - val_loss: 0.8898 - val_acc: 0.7287\n",
      "Epoch 9/12\n",
      "37500/37500 [==============================] - 89s 2ms/step - loss: 0.2681 - acc: 0.9057 - val_loss: 0.9741 - val_acc: 0.7288\n",
      "Epoch 10/12\n",
      "37500/37500 [==============================] - 88s 2ms/step - loss: 0.2099 - acc: 0.9256 - val_loss: 1.0836 - val_acc: 0.7382\n",
      "Epoch 11/12\n",
      "37500/37500 [==============================] - 87s 2ms/step - loss: 0.1893 - acc: 0.9329 - val_loss: 1.1161 - val_acc: 0.7246\n",
      "Epoch 12/12\n",
      "37500/37500 [==============================] - 87s 2ms/step - loss: 0.1629 - acc: 0.9410 - val_loss: 1.1379 - val_acc: 0.7289\n"
     ]
    }
   ],
   "source": [
    "model.compile(optimizer='Adam', loss='categorical_crossentropy', metrics=['accuracy'])\n",
    "train_history = model.fit(x=x_img_train, y=y_label_train, validation_split=0.25, epochs=12, batch_size=128, verbose=1)"
   ]
  },
  {
   "cell_type": "code",
   "execution_count": 11,
   "metadata": {},
   "outputs": [
    {
     "data": {
      "image/png": "[encoded data removed]",
      "text/plain": [
       "<Figure size 432x288 with 1 Axes>"
      ]
     },
     "metadata": {
      "needs_background": "light"
     },
     "output_type": "display_data"
    }
   ],
   "source": [
    "show_train_history(train_history, 'acc', 'val_acc')"
   ]
  },
  {
   "cell_type": "code",
   "execution_count": 12,
   "metadata": {},
   "outputs": [
    {
     "data": {
      "image/png": "[encoded data removed]",
      "text/plain": [
       "<Figure size 432x288 with 1 Axes>"
      ]
     },
     "metadata": {
      "needs_background": "light"
     },
     "output_type": "display_data"
    }
   ],
   "source": [
    "show_train_history(train_history, 'loss', 'val_loss')"
   ]
  },
  {
   "cell_type": "code",
   "execution_count": null,
   "metadata": {},
   "outputs": [],
   "source": []
  }
 ],
 "metadata": {
  "anaconda-cloud": {},
  "kernelspec": {
   "display_name": "Python 3",
   "language": "python",
   "name": "python3"
  },
  "language_info": {
   "codemirror_mode": {
    "name": "ipython",
    "version": 3
   },
   "file_extension": ".py",
   "mimetype": "text/x-python",
   "name": "python",
   "nbconvert_exporter": "python",
   "pygments_lexer": "ipython3",
   "version": "3.7.3"
  }
 },
 "nbformat": 4,
 "nbformat_minor": 1
}
