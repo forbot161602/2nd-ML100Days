{
  "cells": [
    {
      "cell_type": "markdown",
      "metadata": {},
      "source": [
        "## \u4f5c\u696d\u76ee\u6a19\n",
        "    \n",
        "\u5efa\u7acb\u4e00\u500b\u7db2\u8def\u6a21\u578b"
      ]
    },
    {
      "cell_type": "markdown",
      "metadata": {},
      "source": [
        "## \u4f5c\u696d\u91cd\u9ede\n",
        "\n",
        "\u8acb\u4fee\u6539 Name \u4e2d, \u81ea\u5b9a\u7fa9\u7684 Layer \u540d\u7a31, \u4e26\u589e\u52a0\u4e00\u5c64\u5168\u9023\u968e\u5c64\u3002\n",
        "\n",
        "\u5ba3\u544a model API, \u5206\u5225\u63a1\u7528\u81ea\u884c\u5b9a\u7fa9\u7684 Input/Output Layer, \u4f7f\u7528 model.summary \u67e5\u770b Layers stack\u3002"
      ]
    },
    {
      "cell_type": "markdown",
      "metadata": {},
      "source": [
        "## \u53c3\u8003\u8cc7\u6599\n",
        "\n",
        "### First example: a densely-connected network\n",
        "\n",
        "The Sequential model is probably a better choice to implement such a network, but it helps to start with something really simple.\n",
        "\n",
        "- A layer instance is callable (on a tensor), and it returns a tensor\n",
        "- Input tensor(s) and output tensor(s) can then be used to define a Model\n",
        "- Such a model can be trained just like Keras Sequential models.\n",
        "\n",
        "[Getting started with the Keras functional API](https://keras.io/getting-started/functional-api-guide/)"
      ]
    },
    {
      "cell_type": "code",
      "execution_count": 1,
      "metadata": {},
      "outputs": [
        {
          "name": "stderr",
          "output_type": "stream",
          "text": [
            "Using TensorFlow backend.\n"
          ]
        }
      ],
      "source": [
        "import keras\n",
        "import tensorflow as tf\n",
        "from keras.models import Model\n",
        "from keras.layers import Input, Embedding, LSTM, Dense\n",
        "tf.logging.set_verbosity(tf.logging.ERROR)"
      ]
    },
    {
      "cell_type": "code",
      "execution_count": 2,
      "metadata": {},
      "outputs": [],
      "source": [
        "news_in = Input(shape=(100,), dtype='int32', name='news_in')\n",
        "x_out = Embedding(output_dim=512, input_dim=10000, input_length=100)(news_in)\n",
        "lstm_out = LSTM(32)(x_out)\n",
        "auxiliary_out = Dense(1, activation='sigmoid', name='auxiliary_out')(lstm_out)"
      ]
    },
    {
      "cell_type": "code",
      "execution_count": 3,
      "metadata": {},
      "outputs": [],
      "source": [
        "auxiliary_in = Input(shape=(5,), name='auxiliary_in')\n",
        "x_out = keras.layers.concatenate([lstm_out, auxiliary_in])\n",
        "x_out = Dense(64, activation='relu')(x_out)\n",
        "x_out = Dense(64, activation='relu')(x_out)\n",
        "x_out = Dense(64, activation='relu')(x_out)\n",
        "news_out = Dense(1, activation='sigmoid', name='news_out')(x_out)"
      ]
    },
    {
      "cell_type": "code",
      "execution_count": 4,
      "metadata": {},
      "outputs": [],
      "source": [
        "model = Model(inputs=[news_in, auxiliary_in], outputs=[news_out, auxiliary_out])\n",
        "model.compile(optimizer='rmsprop',\n",
        "              loss={'news_out': 'binary_crossentropy', 'auxiliary_out': 'binary_crossentropy'},\n",
        "              loss_weights={'news_out': 1., 'auxiliary_out': 0.2})"
      ]
    },
    {
      "cell_type": "code",
      "execution_count": 5,
      "metadata": {},
      "outputs": [
        {
          "name": "stdout",
          "output_type": "stream",
          "text": [
            "__________________________________________________________________________________________________\n",
            "Layer (type)                    Output Shape         Param #     Connected to                     \n",
            "==================================================================================================\n",
            "news_in (InputLayer)            (None, 100)          0                                            \n",
            "__________________________________________________________________________________________________\n",
            "embedding_1 (Embedding)         (None, 100, 512)     5120000     news_in[0][0]                    \n",
            "__________________________________________________________________________________________________\n",
            "lstm_1 (LSTM)                   (None, 32)           69760       embedding_1[0][0]                \n",
            "__________________________________________________________________________________________________\n",
            "auxiliary_in (InputLayer)       (None, 5)            0                                            \n",
            "__________________________________________________________________________________________________\n",
            "concatenate_1 (Concatenate)     (None, 37)           0           lstm_1[0][0]                     \n",
            "                                                                 auxiliary_in[0][0]               \n",
            "__________________________________________________________________________________________________\n",
            "dense_1 (Dense)                 (None, 64)           2432        concatenate_1[0][0]              \n",
            "__________________________________________________________________________________________________\n",
            "dense_2 (Dense)                 (None, 64)           4160        dense_1[0][0]                    \n",
            "__________________________________________________________________________________________________\n",
            "dense_3 (Dense)                 (None, 64)           4160        dense_2[0][0]                    \n",
            "__________________________________________________________________________________________________\n",
            "news_out (Dense)                (None, 1)            65          dense_3[0][0]                    \n",
            "__________________________________________________________________________________________________\n",
            "auxiliary_out (Dense)           (None, 1)            33          lstm_1[0][0]                     \n",
            "==================================================================================================\n",
            "Total params: 5,200,610\n",
            "Trainable params: 5,200,610\n",
            "Non-trainable params: 0\n",
            "__________________________________________________________________________________________________\n"
          ]
        }
      ],
      "source": [
        "model.summary()"
      ]
    },
    {
      "cell_type": "code",
      "execution_count": null,
      "metadata": {},
      "outputs": [],
      "source": []
    }
  ],
  "metadata": {
    "kernelspec": {
      "display_name": "Python 3",
      "language": "python",
      "name": "python3"
    },
    "language_info": {
      "codemirror_mode": {
        "name": "ipython",
        "version": 3
      },
      "file_extension": ".py",
      "mimetype": "text/x-python",
      "name": "python",
      "nbconvert_exporter": "python",
      "pygments_lexer": "ipython3",
      "version": "3.7.3"
    }
  },
  "nbformat": 4,
  "nbformat_minor": 2
}