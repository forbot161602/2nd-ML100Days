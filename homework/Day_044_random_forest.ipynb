{
  "cells": [
    {
      "cell_type": "markdown",
      "metadata": {},
      "source": [
        "## [\u7bc4\u4f8b\u91cd\u9ede]\n",
        "\u4e86\u89e3\u96a8\u6a5f\u68ee\u6797\u7684\u5efa\u6a21\u65b9\u6cd5\u53ca\u5176\u4e2d\u8d85\u53c3\u6578\u7684\u610f\u7fa9"
      ]
    },
    {
      "cell_type": "code",
      "execution_count": 1,
      "metadata": {},
      "outputs": [],
      "source": [
        "from sklearn import datasets, metrics\n",
        "from sklearn.ensemble import RandomForestClassifier\n",
        "from sklearn.model_selection import train_test_split"
      ]
    },
    {
      "cell_type": "code",
      "execution_count": 2,
      "metadata": {},
      "outputs": [],
      "source": [
        "# \u8b80\u53d6\u9cf6\u5c3e\u82b1\u8cc7\u6599\u96c6\n",
        "iris = datasets.load_iris()\n",
        "\n",
        "# \u5207\u5206\u8a13\u7df4\u96c6/\u6e2c\u8a66\u96c6\n",
        "x_train, x_test, y_train, y_test = train_test_split(iris.data, iris.target, test_size=0.25, random_state=4)\n",
        "\n",
        "# \u5efa\u7acb\u6a21\u578b (\u4f7f\u7528 20 \u9846\u6a39\uff0c\u6bcf\u68f5\u6a39\u7684\u6700\u5927\u6df1\u5ea6\u70ba 4)\n",
        "clf = RandomForestClassifier(n_estimators=20, max_depth=4)\n",
        "\n",
        "# \u8a13\u7df4\u6a21\u578b\n",
        "clf.fit(x_train, y_train)\n",
        "\n",
        "# \u9810\u6e2c\u6e2c\u8a66\u96c6\n",
        "y_pred = clf.predict(x_test)"
      ]
    },
    {
      "cell_type": "code",
      "execution_count": 3,
      "metadata": {},
      "outputs": [
        {
          "name": "stdout",
          "output_type": "stream",
          "text": [
            "Acuuracy: 0.9736842105263158\n"
          ]
        }
      ],
      "source": [
        "acc = metrics.accuracy_score(y_test, y_pred)\n",
        "print('Acuuracy:', acc)"
      ]
    },
    {
      "cell_type": "code",
      "execution_count": 4,
      "metadata": {},
      "outputs": [
        {
          "name": "stdout",
          "output_type": "stream",
          "text": [
            "['sepal length (cm)', 'sepal width (cm)', 'petal length (cm)', 'petal width (cm)']\n"
          ]
        }
      ],
      "source": [
        "print(iris.feature_names)"
      ]
    },
    {
      "cell_type": "code",
      "execution_count": 5,
      "metadata": {},
      "outputs": [
        {
          "name": "stdout",
          "output_type": "stream",
          "text": [
            "Feature importance: [0.14404635 0.03442381 0.42377573 0.39775411]\n"
          ]
        }
      ],
      "source": [
        "print('Feature importance:', clf.feature_importances_)"
      ]
    },
    {
      "cell_type": "markdown",
      "metadata": {},
      "source": [
        "## \u4f5c\u696d\n",
        "\n",
        "1. \u8a66\u8457\u8abf\u6574 RandomForestClassifier(...) \u4e2d\u7684\u53c3\u6578\uff0c\u4e26\u89c0\u5bdf\u662f\u5426\u6703\u6539\u8b8a\u7d50\u679c\uff1f\n",
        "2. \u6539\u7528\u5176\u4ed6\u8cc7\u6599\u96c6 (boston, wine)\uff0c\u4e26\u8207\u56de\u6b78\u6a21\u578b\u8207\u6c7a\u7b56\u6a39\u7684\u7d50\u679c\u9032\u884c\u6bd4\u8f03"
      ]
    },
    {
      "cell_type": "code",
      "execution_count": null,
      "metadata": {},
      "outputs": [],
      "source": []
    }
  ],
  "metadata": {
    "kernelspec": {
      "display_name": "Python 3",
      "language": "python",
      "name": "python3"
    },
    "language_info": {
      "codemirror_mode": {
        "name": "ipython",
        "version": 3
      },
      "file_extension": ".py",
      "mimetype": "text/x-python",
      "name": "python",
      "nbconvert_exporter": "python",
      "pygments_lexer": "ipython3",
      "version": "3.7.3"
    }
  },
  "nbformat": 4,
  "nbformat_minor": 2
}