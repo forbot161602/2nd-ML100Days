{
  "cells": [
    {
      "cell_type": "markdown",
      "metadata": {},
      "source": [
        "## \u8ab2\u7a0b\u76ee\u6a19\n",
        "    \n",
        "\u4e86\u89e3\u53cd\u5411\u50b3\u64ad\u7684\u539f\u7406\u8207\u5728\u795e\u7d93\u7db2\u8def\u63a8\u5012\u904e\u7a0b\u4e2d\u7684\u4f5c\u7528"
      ]
    },
    {
      "cell_type": "markdown",
      "metadata": {},
      "source": [
        "## \u7bc4\u4f8b\u91cd\u9ede\n",
        "\n",
        "\u81ea\u5b9a\u7fa9\u795e\u7d93\u7db2\u8def\u67b6\u69cb\n",
        "    \n",
        "\u521d\u59cb\u503c\u8a2d\u5b9a\n",
        "    \n",
        "\u4f7f\u7528\u7bc4\u4f8b"
      ]
    },
    {
      "cell_type": "markdown",
      "metadata": {},
      "source": [
        "## \u4ee5\u8cfc\u8cb7\u6c34\u679c\u70ba\u4f8b\n",
        "    \n",
        "\u6c34\u679c\u50f9\u683c\u662f\u6839\u64da\u8cfc\u8cb7\u6578\u91cf\u8207\u55ae\u54c1\u50f9\u683c\u800c\u8b8a\u52d5\uff0c\u4ed8\u8cbb\u7e3d\u50f9\u683c\u662f\u6839\u64da\u6c34\u679c\u50f9\u683c\u3001\u7a05\u91d1\u8b8a\u52d5\u800c\u53d7\u5f71\u97ff\uff0c\n",
        "\n",
        "\u53ef\u4ee5\u5229\u7528\u6bcf\u4e00\u500b cell(cell-1: \u6c34\u679c\u50f9\u683c\u3001cell-2: \u4ed8\u8cbb\u7e3d\u50f9\u683c)\u63a8\u5c0e\u5fae\u5206\u7684\u7d50\u679c\u3002"
      ]
    },
    {
      "cell_type": "code",
      "execution_count": 1,
      "metadata": {},
      "outputs": [],
      "source": [
        "# \u5b9a\u7fa9\u795e\u7d93\u7db2\u8def\u5c64\n",
        "class mul_layer():\n",
        "    \n",
        "    def __init__(self):\n",
        "        self.x = None\n",
        "        self.y = None\n",
        "\n",
        "    def forward(self, x, y):\n",
        "        self.x = x\n",
        "        self.y = y\n",
        "        out = x * y\n",
        "        return out\n",
        "\n",
        "    def backward(self, dout):\n",
        "        dx = dout / self.y\n",
        "        dy = dout / self.x\n",
        "        return dx, dy"
      ]
    },
    {
      "cell_type": "code",
      "execution_count": 2,
      "metadata": {},
      "outputs": [],
      "source": [
        "# \u521d\u59cb\u503c\u8a2d\u5b9a\uff1a\u6578\u91cf 2 \u500b\uff0c\u55ae\u50f9 100 \u5143\uff0c\u7a05\u7387 10%\u3002\n",
        "init_amount, init_unit_price, init_tax_rate = 2, 100, 1.1\n",
        "\n",
        "# \u6a21\u578b\u8a2d\u5b9a\n",
        "mul_fruit_layer, mul_tax_layer = mul_layer(), mul_layer()"
      ]
    },
    {
      "cell_type": "code",
      "execution_count": 3,
      "metadata": {},
      "outputs": [
        {
          "name": "stdout",
          "output_type": "stream",
          "text": [
            "init_amount: 2, init_unit_price: 100, init_tax_rate: 1.100\n",
            "dtotal_price: 1, dfruit_price: 0.909\n",
            "damount: 0.005, dunit_price: 0.826, dtax_rate: 0.005\n"
          ]
        }
      ],
      "source": [
        "# forward\n",
        "fruit_price = mul_fruit_layer.forward(init_amount, init_unit_price)\n",
        "total_price = mul_tax_layer.forward(init_tax_rate, fruit_price)\n",
        "\n",
        "# backward\n",
        "dtotal_price = 1 # \u7e3d\u50f9\u683c\u8b8a\u52d5 1 \u55ae\u4f4d\n",
        "dtax_rate, dfruit_price = mul_tax_layer.backward(dtotal_price)\n",
        "damount, dunit_price =  mul_tax_layer.backward(dfruit_price)\n",
        "\n",
        "# result\n",
        "print('init_amount: {}, init_unit_price: {}, init_tax_rate: {:.3f}'.format(init_amount, init_unit_price, init_tax_rate))\n",
        "print('dtotal_price: {}, dfruit_price: {:.3f}'.format(dtotal_price, dfruit_price))\n",
        "print('damount: {:.3f}, dunit_price: {:.3f}, dtax_rate: {:.3f}'.format(damount, dunit_price, dtax_rate))"
      ]
    },
    {
      "cell_type": "code",
      "execution_count": null,
      "metadata": {},
      "outputs": [],
      "source": []
    }
  ],
  "metadata": {
    "kernelspec": {
      "display_name": "Python 3",
      "language": "python",
      "name": "python3"
    },
    "language_info": {
      "codemirror_mode": {
        "name": "ipython",
        "version": 3
      },
      "file_extension": ".py",
      "mimetype": "text/x-python",
      "name": "python",
      "nbconvert_exporter": "python",
      "pygments_lexer": "ipython3",
      "version": "3.7.3"
    }
  },
  "nbformat": 4,
  "nbformat_minor": 2
}