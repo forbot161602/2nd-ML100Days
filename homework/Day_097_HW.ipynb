{
 "cells": [
  {
   "cell_type": "markdown",
   "metadata": {},
   "source": [
    "## 作業\n",
    "\n",
    "1. 請試著調整各個超參數，並說明哪些超參數對於結果有明顯的影響。\n",
    "\n",
    "答：減少卷積層可能會降低準確度，而分離卷積雖然速度較快，但準確度卻似乎不如傳統的卷積來得好。\n",
    "\n",
    "2. CNN 與 DNN 哪個模型的參數數量比較多？造成參數的數量不同的原因在哪？\n",
    "\n",
    "答：DNN，因為 DNN 直接使用全連接層使得所有通道像素都對應一參數，而 CNN 使用卷積和池化的方式大幅減少參數。"
   ]
  },
  {
   "cell_type": "code",
   "execution_count": 1,
   "metadata": {},
   "outputs": [
    {
     "name": "stderr",
     "output_type": "stream",
     "text": [
      "Using TensorFlow backend.\n"
     ]
    }
   ],
   "source": [
    "import tensorflow as tf\n",
    "import matplotlib.pyplot as plt\n",
    "from keras import backend\n",
    "from keras.utils import np_utils\n",
    "from keras.datasets import cifar10\n",
    "from keras.models import Sequential\n",
    "from keras.layers import Input, Dense, Dropout, Activation, Flatten, Conv2D, SeparableConv2D, MaxPooling2D\n",
    "from keras.optimizers import RMSprop\n",
    "tf.logging.set_verbosity(tf.logging.ERROR)"
   ]
  },
  {
   "cell_type": "markdown",
   "metadata": {},
   "source": [
    "## 準備資料"
   ]
  },
  {
   "cell_type": "code",
   "execution_count": 2,
   "metadata": {},
   "outputs": [],
   "source": [
    "(X_train, y_train), (X_test, y_test) = cifar10.load_data()"
   ]
  },
  {
   "cell_type": "code",
   "execution_count": 3,
   "metadata": {},
   "outputs": [],
   "source": [
    "def normalize_cifar10_data(x, y):\n",
    "    x = x / 255.\n",
    "    y = np_utils.to_categorical(y, num_classes=10)\n",
    "    return x, y\n",
    "\n",
    "def normalize_result(x, y):\n",
    "    print('x.shape:', x.shape)\n",
    "    print('y.shape:', y.shape)"
   ]
  },
  {
   "cell_type": "code",
   "execution_count": 4,
   "metadata": {},
   "outputs": [
    {
     "name": "stdout",
     "output_type": "stream",
     "text": [
      "Before normalization:\n",
      "x.shape: (50000, 32, 32, 3)\n",
      "y.shape: (50000, 1)\n"
     ]
    }
   ],
   "source": [
    "print('Before normalization:')\n",
    "normalize_result(X_train, y_train)"
   ]
  },
  {
   "cell_type": "code",
   "execution_count": 5,
   "metadata": {},
   "outputs": [
    {
     "name": "stdout",
     "output_type": "stream",
     "text": [
      "After normalization:\n",
      "x.shape: (50000, 32, 32, 3)\n",
      "y.shape: (50000, 10)\n"
     ]
    }
   ],
   "source": [
    "print('After normalization:')\n",
    "X_train, y_train = normalize_cifar10_data(X_train, y_train)\n",
    "X_test, y_test = normalize_cifar10_data(X_test, y_test)\n",
    "normalize_result(X_train, y_train)"
   ]
  },
  {
   "cell_type": "markdown",
   "metadata": {},
   "source": [
    "## 定義函數"
   ]
  },
  {
   "cell_type": "code",
   "execution_count": 6,
   "metadata": {},
   "outputs": [],
   "source": [
    "class AbstractTrainer:\n",
    "\n",
    "    def __init__(self, X_train, y_train, X_test, y_test, epochs=50, batch_size=128, learning_rate=1e-3):\n",
    "        self.X_test = X_test\n",
    "        self.y_test = y_test\n",
    "        self.X_train = X_train\n",
    "        self.y_train = y_train\n",
    "        self.epochs = epochs\n",
    "        self.batch_size = batch_size\n",
    "        self.learning_rate = learning_rate\n",
    "        self._model = None\n",
    "        self._history = None\n",
    "\n",
    "    @property\n",
    "    def optimizer(self):\n",
    "        return RMSprop(lr=self.learning_rate)\n",
    "\n",
    "    @property\n",
    "    def validation_data(self):\n",
    "        return (self.X_test, self.y_test,)\n",
    "\n",
    "    def run(self):\n",
    "        return self._clear()._build()._launch()\n",
    "\n",
    "    def _clear(self):\n",
    "        backend.clear_session()\n",
    "        self._model = None\n",
    "        return self\n",
    "\n",
    "    def _build(self):\n",
    "        raise NotImplementedError('`{}` method `{}` hasn\\'t been implemented.'.format(self, '_build'))\n",
    "\n",
    "    def _launch(self):\n",
    "        print('Experiment with trainer: {}'.format(self.__class__.__name__))\n",
    "        self._model.summary()\n",
    "        self._history = self._model.fit(\n",
    "            self.X_train, self.y_train, epochs=self.epochs, batch_size=self.batch_size,\n",
    "            validation_data=self.validation_data, shuffle=True, verbose=2)\n",
    "        return self\n",
    "\n",
    "    def display(self, train_name, val_name):\n",
    "        plt.figure(figsize=(8, 6,))\n",
    "        plt.plot(self._history.history[train_name])\n",
    "        plt.plot(self._history.history[val_name])\n",
    "        plt.xlabel('Epoch')\n",
    "        plt.ylabel(train_name)\n",
    "        plt.title('Train History')\n",
    "        plt.legend(['train', 'validation'], loc='upper left')\n",
    "        plt.show()\n",
    "\n",
    "class CNNTrainer(AbstractTrainer):\n",
    "    \n",
    "    def _build(self):\n",
    "        model = self._model = Sequential()\n",
    "        model.add(Conv2D(32, (3, 3,), input_shape=self.X_train.shape[1:]))\n",
    "        model.add(Activation('relu'))\n",
    "        model.add(MaxPooling2D(pool_size=(2, 2,)))\n",
    "        model.add(Dropout(0.1))\n",
    "        model.add(Conv2D(64, (3, 3,)))\n",
    "        model.add(Activation('relu'))\n",
    "        model.add(MaxPooling2D(pool_size=(2, 2,)))\n",
    "        model.add(Dropout(0.1))\n",
    "        model.add(Conv2D(128, (3, 3,)))\n",
    "        model.add(Activation('relu'))\n",
    "        model.add(MaxPooling2D(pool_size=(2, 2,)))\n",
    "        model.add(Dropout(0.1))\n",
    "        model.add(Flatten())\n",
    "        model.add(Dense(512))\n",
    "        model.add(Activation('relu'))\n",
    "        model.add(Dense(128))\n",
    "        model.add(Activation('relu'))\n",
    "        model.add(Dense(self.y_train.shape[-1]))\n",
    "        model.add(Activation('softmax'))\n",
    "        model.compile(optimizer=self.optimizer, loss='categorical_crossentropy', metrics=['accuracy'])\n",
    "        return self\n",
    "\n",
    "class SeparableCNNTrainer(AbstractTrainer):\n",
    "    \n",
    "    def _build(self):\n",
    "        model = self._model = Sequential()\n",
    "        model.add(SeparableConv2D(32, (3, 3,), input_shape=self.X_train.shape[1:]))\n",
    "        model.add(Activation('relu'))\n",
    "        model.add(MaxPooling2D(pool_size=(2, 2,)))\n",
    "        model.add(Dropout(0.1))\n",
    "        model.add(SeparableConv2D(64, (3, 3,)))\n",
    "        model.add(Activation('relu'))\n",
    "        model.add(MaxPooling2D(pool_size=(2, 2,)))\n",
    "        model.add(Dropout(0.1))\n",
    "        model.add(SeparableConv2D(128, (3, 3,)))\n",
    "        model.add(Activation('relu'))\n",
    "        model.add(MaxPooling2D(pool_size=(2, 2,)))\n",
    "        model.add(Dropout(0.1))\n",
    "        model.add(Flatten())\n",
    "        model.add(Dense(512))\n",
    "        model.add(Activation('relu'))\n",
    "        model.add(Dense(128))\n",
    "        model.add(Activation('relu'))\n",
    "        model.add(Dense(self.y_train.shape[-1]))\n",
    "        model.add(Activation('softmax'))\n",
    "        model.compile(optimizer=self.optimizer, loss='categorical_crossentropy', metrics=['accuracy'])\n",
    "        return self"
   ]
  },
  {
   "cell_type": "markdown",
   "metadata": {},
   "source": [
    "## 以 Conv2D 卷積層觀看學習曲線的走勢"
   ]
  },
  {
   "cell_type": "code",
   "execution_count": 7,
   "metadata": {},
   "outputs": [
    {
     "name": "stdout",
     "output_type": "stream",
     "text": [
      "Experiment with trainer: CNNTrainer\n",
      "_________________________________________________________________\n",
      "Layer (type)                 Output Shape              Param #   \n",
      "=================================================================\n",
      "conv2d_1 (Conv2D)            (None, 30, 30, 32)        896       \n",
      "_________________________________________________________________\n",
      "activation_1 (Activation)    (None, 30, 30, 32)        0         \n",
      "_________________________________________________________________\n",
      "max_pooling2d_1 (MaxPooling2 (None, 15, 15, 32)        0         \n",
      "_________________________________________________________________\n",
      "dropout_1 (Dropout)          (None, 15, 15, 32)        0         \n",
      "_________________________________________________________________\n",
      "conv2d_2 (Conv2D)            (None, 13, 13, 64)        18496     \n",
      "_________________________________________________________________\n",
      "activation_2 (Activation)    (None, 13, 13, 64)        0         \n",
      "_________________________________________________________________\n",
      "max_pooling2d_2 (MaxPooling2 (None, 6, 6, 64)          0         \n",
      "_________________________________________________________________\n",
      "dropout_2 (Dropout)          (None, 6, 6, 64)          0         \n",
      "_________________________________________________________________\n",
      "conv2d_3 (Conv2D)            (None, 4, 4, 128)         73856     \n",
      "_________________________________________________________________\n",
      "activation_3 (Activation)    (None, 4, 4, 128)         0         \n",
      "_________________________________________________________________\n",
      "max_pooling2d_3 (MaxPooling2 (None, 2, 2, 128)         0         \n",
      "_________________________________________________________________\n",
      "dropout_3 (Dropout)          (None, 2, 2, 128)         0         \n",
      "_________________________________________________________________\n",
      "flatten_1 (Flatten)          (None, 512)               0         \n",
      "_________________________________________________________________\n",
      "dense_1 (Dense)              (None, 512)               262656    \n",
      "_________________________________________________________________\n",
      "activation_4 (Activation)    (None, 512)               0         \n",
      "_________________________________________________________________\n",
      "dense_2 (Dense)              (None, 128)               65664     \n",
      "_________________________________________________________________\n",
      "activation_5 (Activation)    (None, 128)               0         \n",
      "_________________________________________________________________\n",
      "dense_3 (Dense)              (None, 10)                1290      \n",
      "_________________________________________________________________\n",
      "activation_6 (Activation)    (None, 10)                0         \n",
      "=================================================================\n",
      "Total params: 422,858\n",
      "Trainable params: 422,858\n",
      "Non-trainable params: 0\n",
      "_________________________________________________________________\n",
      "Train on 50000 samples, validate on 10000 samples\n",
      "Epoch 1/50\n",
      " - 64s - loss: 1.7830 - acc: 0.3502 - val_loss: 1.4771 - val_acc: 0.4657\n",
      "Epoch 2/50\n",
      " - 64s - loss: 1.3742 - acc: 0.5078 - val_loss: 1.1829 - val_acc: 0.5729\n",
      "Epoch 3/50\n",
      " - 64s - loss: 1.1891 - acc: 0.5768 - val_loss: 1.0856 - val_acc: 0.6055\n",
      "Epoch 4/50\n",
      " - 64s - loss: 1.0540 - acc: 0.6293 - val_loss: 1.0802 - val_acc: 0.6236\n",
      "Epoch 5/50\n",
      " - 64s - loss: 0.9557 - acc: 0.6639 - val_loss: 0.9635 - val_acc: 0.6597\n",
      "Epoch 6/50\n",
      " - 64s - loss: 0.8770 - acc: 0.6926 - val_loss: 0.8674 - val_acc: 0.6962\n",
      "Epoch 7/50\n",
      " - 64s - loss: 0.8124 - acc: 0.7167 - val_loss: 0.9688 - val_acc: 0.6739\n",
      "Epoch 8/50\n",
      " - 65s - loss: 0.7491 - acc: 0.7378 - val_loss: 0.8668 - val_acc: 0.7057\n",
      "Epoch 9/50\n",
      " - 67s - loss: 0.7019 - acc: 0.7532 - val_loss: 0.8715 - val_acc: 0.7077\n",
      "Epoch 10/50\n",
      " - 67s - loss: 0.6547 - acc: 0.7708 - val_loss: 0.8063 - val_acc: 0.7267\n",
      "Epoch 11/50\n",
      " - 61s - loss: 0.6128 - acc: 0.7835 - val_loss: 0.8135 - val_acc: 0.7340\n",
      "Epoch 12/50\n",
      " - 60s - loss: 0.5722 - acc: 0.8006 - val_loss: 0.8238 - val_acc: 0.7308\n",
      "Epoch 13/50\n",
      " - 60s - loss: 0.5383 - acc: 0.8102 - val_loss: 0.8653 - val_acc: 0.7227\n",
      "Epoch 14/50\n",
      " - 60s - loss: 0.5115 - acc: 0.8202 - val_loss: 0.7990 - val_acc: 0.7399\n",
      "Epoch 15/50\n",
      " - 60s - loss: 0.4767 - acc: 0.8299 - val_loss: 0.8026 - val_acc: 0.7382\n",
      "Epoch 16/50\n",
      " - 60s - loss: 0.4480 - acc: 0.8408 - val_loss: 0.8177 - val_acc: 0.7449\n",
      "Epoch 17/50\n",
      " - 60s - loss: 0.4211 - acc: 0.8528 - val_loss: 0.8657 - val_acc: 0.7374\n",
      "Epoch 18/50\n",
      " - 60s - loss: 0.4050 - acc: 0.8569 - val_loss: 0.8209 - val_acc: 0.7461\n",
      "Epoch 19/50\n",
      " - 60s - loss: 0.3803 - acc: 0.8643 - val_loss: 0.8374 - val_acc: 0.7423\n",
      "Epoch 20/50\n",
      " - 60s - loss: 0.3702 - acc: 0.8716 - val_loss: 0.8822 - val_acc: 0.7449\n",
      "Epoch 21/50\n",
      " - 60s - loss: 0.3488 - acc: 0.8772 - val_loss: 0.8577 - val_acc: 0.7490\n",
      "Epoch 22/50\n",
      " - 60s - loss: 0.3344 - acc: 0.8833 - val_loss: 0.8858 - val_acc: 0.7396\n",
      "Epoch 23/50\n",
      " - 60s - loss: 0.3200 - acc: 0.8861 - val_loss: 1.0643 - val_acc: 0.7093\n",
      "Epoch 24/50\n",
      " - 60s - loss: 0.3075 - acc: 0.8901 - val_loss: 0.9268 - val_acc: 0.7487\n",
      "Epoch 25/50\n",
      " - 60s - loss: 0.2934 - acc: 0.8976 - val_loss: 1.1095 - val_acc: 0.7109\n",
      "Epoch 26/50\n",
      " - 61s - loss: 0.2898 - acc: 0.8976 - val_loss: 0.9224 - val_acc: 0.7488\n",
      "Epoch 27/50\n",
      " - 61s - loss: 0.2727 - acc: 0.9043 - val_loss: 0.9286 - val_acc: 0.7490\n",
      "Epoch 28/50\n",
      " - 61s - loss: 0.2651 - acc: 0.9060 - val_loss: 1.0066 - val_acc: 0.7279\n",
      "Epoch 29/50\n",
      " - 61s - loss: 0.2608 - acc: 0.9095 - val_loss: 1.0223 - val_acc: 0.7527\n",
      "Epoch 30/50\n",
      " - 62s - loss: 0.2589 - acc: 0.9116 - val_loss: 1.0719 - val_acc: 0.7473\n",
      "Epoch 31/50\n",
      " - 61s - loss: 0.2538 - acc: 0.9139 - val_loss: 0.9603 - val_acc: 0.7500\n",
      "Epoch 32/50\n",
      " - 60s - loss: 0.2504 - acc: 0.9141 - val_loss: 1.0219 - val_acc: 0.7467\n",
      "Epoch 33/50\n",
      " - 60s - loss: 0.2380 - acc: 0.9193 - val_loss: 1.0281 - val_acc: 0.7480\n",
      "Epoch 34/50\n",
      " - 60s - loss: 0.2382 - acc: 0.9188 - val_loss: 1.0719 - val_acc: 0.7474\n",
      "Epoch 35/50\n",
      " - 60s - loss: 0.2335 - acc: 0.9219 - val_loss: 1.0642 - val_acc: 0.7391\n",
      "Epoch 36/50\n",
      " - 60s - loss: 0.2290 - acc: 0.9242 - val_loss: 1.0360 - val_acc: 0.7438\n",
      "Epoch 37/50\n",
      " - 60s - loss: 0.2340 - acc: 0.9230 - val_loss: 1.0639 - val_acc: 0.7464\n",
      "Epoch 38/50\n",
      " - 60s - loss: 0.2269 - acc: 0.9242 - val_loss: 1.0156 - val_acc: 0.7521\n",
      "Epoch 39/50\n",
      " - 60s - loss: 0.2243 - acc: 0.9258 - val_loss: 1.0530 - val_acc: 0.7551\n",
      "Epoch 40/50\n",
      " - 60s - loss: 0.2254 - acc: 0.9247 - val_loss: 1.1738 - val_acc: 0.7397\n",
      "Epoch 41/50\n",
      " - 60s - loss: 0.2174 - acc: 0.9283 - val_loss: 1.0277 - val_acc: 0.7453\n",
      "Epoch 42/50\n",
      " - 60s - loss: 0.2206 - acc: 0.9291 - val_loss: 1.1273 - val_acc: 0.7545\n",
      "Epoch 43/50\n",
      " - 60s - loss: 0.2255 - acc: 0.9282 - val_loss: 1.1770 - val_acc: 0.7483\n",
      "Epoch 44/50\n",
      " - 60s - loss: 0.2166 - acc: 0.9302 - val_loss: 1.0912 - val_acc: 0.7454\n",
      "Epoch 45/50\n",
      " - 60s - loss: 0.2208 - acc: 0.9309 - val_loss: 1.1303 - val_acc: 0.7571\n",
      "Epoch 46/50\n",
      " - 60s - loss: 0.2142 - acc: 0.9315 - val_loss: 1.1169 - val_acc: 0.7528\n",
      "Epoch 47/50\n",
      " - 60s - loss: 0.2126 - acc: 0.9316 - val_loss: 1.2038 - val_acc: 0.7532\n",
      "Epoch 48/50\n",
      " - 60s - loss: 0.2134 - acc: 0.9329 - val_loss: 1.1231 - val_acc: 0.7601\n",
      "Epoch 49/50\n",
      " - 60s - loss: 0.2117 - acc: 0.9319 - val_loss: 1.1351 - val_acc: 0.7474\n",
      "Epoch 50/50\n",
      " - 60s - loss: 0.2042 - acc: 0.9356 - val_loss: 1.1803 - val_acc: 0.7578\n"
     ]
    }
   ],
   "source": [
    "trainer = CNNTrainer(X_train, y_train, X_test, y_test).run()"
   ]
  },
  {
   "cell_type": "code",
   "execution_count": 8,
   "metadata": {},
   "outputs": [
    {
     "data": {
      "image/png": "[encoded data removed]",
      "text/plain": [
       "<Figure size 576x432 with 1 Axes>"
      ]
     },
     "metadata": {
      "needs_background": "light"
     },
     "output_type": "display_data"
    }
   ],
   "source": [
    "trainer.display('acc', 'val_acc')"
   ]
  },
  {
   "cell_type": "code",
   "execution_count": 9,
   "metadata": {},
   "outputs": [
    {
     "data": {
      "image/png": "[encoded data removed]",
      "text/plain": [
       "<Figure size 576x432 with 1 Axes>"
      ]
     },
     "metadata": {
      "needs_background": "light"
     },
     "output_type": "display_data"
    }
   ],
   "source": [
    "trainer.display('loss', 'val_loss')"
   ]
  },
  {
   "cell_type": "markdown",
   "metadata": {},
   "source": [
    "## 以 SeparableConv2D 卷積層觀看學習曲線的走勢"
   ]
  },
  {
   "cell_type": "code",
   "execution_count": 10,
   "metadata": {},
   "outputs": [
    {
     "name": "stdout",
     "output_type": "stream",
     "text": [
      "Experiment with trainer: SeparableCNNTrainer\n",
      "_________________________________________________________________\n",
      "Layer (type)                 Output Shape              Param #   \n",
      "=================================================================\n",
      "separable_conv2d_1 (Separabl (None, 30, 30, 32)        155       \n",
      "_________________________________________________________________\n",
      "activation_1 (Activation)    (None, 30, 30, 32)        0         \n",
      "_________________________________________________________________\n",
      "max_pooling2d_1 (MaxPooling2 (None, 15, 15, 32)        0         \n",
      "_________________________________________________________________\n",
      "dropout_1 (Dropout)          (None, 15, 15, 32)        0         \n",
      "_________________________________________________________________\n",
      "separable_conv2d_2 (Separabl (None, 13, 13, 64)        2400      \n",
      "_________________________________________________________________\n",
      "activation_2 (Activation)    (None, 13, 13, 64)        0         \n",
      "_________________________________________________________________\n",
      "max_pooling2d_2 (MaxPooling2 (None, 6, 6, 64)          0         \n",
      "_________________________________________________________________\n",
      "dropout_2 (Dropout)          (None, 6, 6, 64)          0         \n",
      "_________________________________________________________________\n",
      "separable_conv2d_3 (Separabl (None, 4, 4, 128)         8896      \n",
      "_________________________________________________________________\n",
      "activation_3 (Activation)    (None, 4, 4, 128)         0         \n",
      "_________________________________________________________________\n",
      "max_pooling2d_3 (MaxPooling2 (None, 2, 2, 128)         0         \n",
      "_________________________________________________________________\n",
      "dropout_3 (Dropout)          (None, 2, 2, 128)         0         \n",
      "_________________________________________________________________\n",
      "flatten_1 (Flatten)          (None, 512)               0         \n",
      "_________________________________________________________________\n",
      "dense_1 (Dense)              (None, 512)               262656    \n",
      "_________________________________________________________________\n",
      "activation_4 (Activation)    (None, 512)               0         \n",
      "_________________________________________________________________\n",
      "dense_2 (Dense)              (None, 128)               65664     \n",
      "_________________________________________________________________\n",
      "activation_5 (Activation)    (None, 128)               0         \n",
      "_________________________________________________________________\n",
      "dense_3 (Dense)              (None, 10)                1290      \n",
      "_________________________________________________________________\n",
      "activation_6 (Activation)    (None, 10)                0         \n",
      "=================================================================\n",
      "Total params: 341,061\n",
      "Trainable params: 341,061\n",
      "Non-trainable params: 0\n",
      "_________________________________________________________________\n",
      "Train on 50000 samples, validate on 10000 samples\n",
      "Epoch 1/50\n",
      " - 46s - loss: 2.0160 - acc: 0.2429 - val_loss: 1.8550 - val_acc: 0.3217\n",
      "Epoch 2/50\n",
      " - 45s - loss: 1.7408 - acc: 0.3587 - val_loss: 1.5972 - val_acc: 0.4140\n",
      "Epoch 3/50\n",
      " - 45s - loss: 1.5944 - acc: 0.4188 - val_loss: 1.5343 - val_acc: 0.4393\n",
      "Epoch 4/50\n",
      " - 45s - loss: 1.4936 - acc: 0.4564 - val_loss: 1.5254 - val_acc: 0.4456\n",
      "Epoch 5/50\n",
      " - 45s - loss: 1.4226 - acc: 0.4849 - val_loss: 1.3627 - val_acc: 0.5166\n",
      "Epoch 6/50\n",
      " - 45s - loss: 1.3590 - acc: 0.5116 - val_loss: 1.3410 - val_acc: 0.5151\n",
      "Epoch 7/50\n",
      " - 45s - loss: 1.3027 - acc: 0.5322 - val_loss: 1.2960 - val_acc: 0.5314\n",
      "Epoch 8/50\n",
      " - 45s - loss: 1.2563 - acc: 0.5474 - val_loss: 1.2198 - val_acc: 0.5636\n",
      "Epoch 9/50\n",
      " - 45s - loss: 1.2196 - acc: 0.5669 - val_loss: 1.1898 - val_acc: 0.5767\n",
      "Epoch 10/50\n",
      " - 45s - loss: 1.1818 - acc: 0.5776 - val_loss: 1.1885 - val_acc: 0.5829\n",
      "Epoch 11/50\n",
      " - 45s - loss: 1.1437 - acc: 0.5931 - val_loss: 1.1171 - val_acc: 0.6044\n",
      "Epoch 12/50\n",
      " - 45s - loss: 1.1111 - acc: 0.6038 - val_loss: 1.1132 - val_acc: 0.6059\n",
      "Epoch 13/50\n",
      " - 45s - loss: 1.0754 - acc: 0.6204 - val_loss: 1.0661 - val_acc: 0.6282\n",
      "Epoch 14/50\n",
      " - 45s - loss: 1.0471 - acc: 0.6292 - val_loss: 1.0934 - val_acc: 0.6134\n",
      "Epoch 15/50\n",
      " - 45s - loss: 1.0179 - acc: 0.6390 - val_loss: 1.0831 - val_acc: 0.6122\n",
      "Epoch 16/50\n",
      " - 45s - loss: 0.9913 - acc: 0.6483 - val_loss: 1.0467 - val_acc: 0.6303\n",
      "Epoch 17/50\n",
      " - 45s - loss: 0.9640 - acc: 0.6604 - val_loss: 1.1033 - val_acc: 0.6172\n",
      "Epoch 18/50\n",
      " - 45s - loss: 0.9378 - acc: 0.6657 - val_loss: 1.0058 - val_acc: 0.6498\n",
      "Epoch 19/50\n",
      " - 45s - loss: 0.9163 - acc: 0.6780 - val_loss: 1.0259 - val_acc: 0.6453\n",
      "Epoch 20/50\n",
      " - 45s - loss: 0.8888 - acc: 0.6851 - val_loss: 1.0354 - val_acc: 0.6424\n",
      "Epoch 21/50\n",
      " - 45s - loss: 0.8665 - acc: 0.6927 - val_loss: 1.0545 - val_acc: 0.6371\n",
      "Epoch 22/50\n",
      " - 45s - loss: 0.8383 - acc: 0.7017 - val_loss: 1.0144 - val_acc: 0.6521\n",
      "Epoch 23/50\n",
      " - 45s - loss: 0.8238 - acc: 0.7068 - val_loss: 1.0265 - val_acc: 0.6501\n",
      "Epoch 24/50\n",
      " - 45s - loss: 0.7918 - acc: 0.7182 - val_loss: 1.0166 - val_acc: 0.6517\n",
      "Epoch 25/50\n",
      " - 45s - loss: 0.7813 - acc: 0.7222 - val_loss: 1.0146 - val_acc: 0.6555\n",
      "Epoch 26/50\n",
      " - 45s - loss: 0.7560 - acc: 0.7320 - val_loss: 1.0203 - val_acc: 0.6526\n",
      "Epoch 27/50\n",
      " - 45s - loss: 0.7331 - acc: 0.7384 - val_loss: 1.1353 - val_acc: 0.6366\n",
      "Epoch 28/50\n",
      " - 45s - loss: 0.7193 - acc: 0.7437 - val_loss: 1.0550 - val_acc: 0.6498\n",
      "Epoch 29/50\n",
      " - 45s - loss: 0.7010 - acc: 0.7505 - val_loss: 1.0436 - val_acc: 0.6600\n",
      "Epoch 30/50\n",
      " - 45s - loss: 0.6807 - acc: 0.7550 - val_loss: 1.0849 - val_acc: 0.6493\n",
      "Epoch 31/50\n",
      " - 45s - loss: 0.6636 - acc: 0.7629 - val_loss: 1.1161 - val_acc: 0.6494\n",
      "Epoch 32/50\n",
      " - 45s - loss: 0.6512 - acc: 0.7674 - val_loss: 1.1315 - val_acc: 0.6401\n",
      "Epoch 33/50\n",
      " - 45s - loss: 0.6344 - acc: 0.7726 - val_loss: 1.0349 - val_acc: 0.6614\n",
      "Epoch 34/50\n",
      " - 45s - loss: 0.6231 - acc: 0.7786 - val_loss: 1.0412 - val_acc: 0.6672\n",
      "Epoch 35/50\n",
      " - 45s - loss: 0.6086 - acc: 0.7827 - val_loss: 1.0376 - val_acc: 0.6684\n",
      "Epoch 36/50\n",
      " - 45s - loss: 0.5962 - acc: 0.7866 - val_loss: 1.1622 - val_acc: 0.6400\n",
      "Epoch 37/50\n",
      " - 45s - loss: 0.5841 - acc: 0.7926 - val_loss: 1.0886 - val_acc: 0.6572\n",
      "Epoch 38/50\n",
      " - 45s - loss: 0.5716 - acc: 0.7949 - val_loss: 1.1226 - val_acc: 0.6553\n",
      "Epoch 39/50\n",
      " - 45s - loss: 0.5548 - acc: 0.8015 - val_loss: 1.1010 - val_acc: 0.6577\n",
      "Epoch 40/50\n",
      " - 45s - loss: 0.5529 - acc: 0.8011 - val_loss: 1.2340 - val_acc: 0.6318\n",
      "Epoch 41/50\n",
      " - 45s - loss: 0.5371 - acc: 0.8063 - val_loss: 1.1510 - val_acc: 0.6519\n",
      "Epoch 42/50\n",
      " - 45s - loss: 0.5286 - acc: 0.8122 - val_loss: 1.1580 - val_acc: 0.6498\n",
      "Epoch 43/50\n",
      " - 45s - loss: 0.5118 - acc: 0.8158 - val_loss: 1.1619 - val_acc: 0.6532\n",
      "Epoch 44/50\n",
      " - 45s - loss: 0.5024 - acc: 0.8202 - val_loss: 1.1483 - val_acc: 0.6578\n",
      "Epoch 45/50\n",
      " - 45s - loss: 0.4937 - acc: 0.8232 - val_loss: 1.1866 - val_acc: 0.6505\n",
      "Epoch 46/50\n",
      " - 45s - loss: 0.4863 - acc: 0.8256 - val_loss: 1.2350 - val_acc: 0.6418\n",
      "Epoch 47/50\n",
      " - 45s - loss: 0.4778 - acc: 0.8263 - val_loss: 1.2280 - val_acc: 0.6463\n",
      "Epoch 48/50\n",
      " - 45s - loss: 0.4691 - acc: 0.8310 - val_loss: 1.1577 - val_acc: 0.6644\n",
      "Epoch 49/50\n",
      " - 45s - loss: 0.4626 - acc: 0.8347 - val_loss: 1.2593 - val_acc: 0.6448\n",
      "Epoch 50/50\n",
      " - 45s - loss: 0.4521 - acc: 0.8372 - val_loss: 1.1869 - val_acc: 0.6533\n"
     ]
    }
   ],
   "source": [
    "trainer = SeparableCNNTrainer(X_train, y_train, X_test, y_test).run()"
   ]
  },
  {
   "cell_type": "code",
   "execution_count": 11,
   "metadata": {},
   "outputs": [
    {
     "data": {
      "image/png": "[encoded data removed]",
      "text/plain": [
       "<Figure size 576x432 with 1 Axes>"
      ]
     },
     "metadata": {
      "needs_background": "light"
     },
     "output_type": "display_data"
    }
   ],
   "source": [
    "trainer.display('acc', 'val_acc')"
   ]
  },
  {
   "cell_type": "code",
   "execution_count": 12,
   "metadata": {},
   "outputs": [
    {
     "data": {
      "image/png": "[encoded data removed]",
      "text/plain": [
       "<Figure size 576x432 with 1 Axes>"
      ]
     },
     "metadata": {
      "needs_background": "light"
     },
     "output_type": "display_data"
    }
   ],
   "source": [
    "trainer.display('loss', 'val_loss')"
   ]
  },
  {
   "cell_type": "code",
   "execution_count": null,
   "metadata": {},
   "outputs": [],
   "source": []
  }
 ],
 "metadata": {
  "kernelspec": {
   "display_name": "Python 3",
   "language": "python",
   "name": "python3"
  },
  "language_info": {
   "codemirror_mode": {
    "name": "ipython",
    "version": 3
   },
   "file_extension": ".py",
   "mimetype": "text/x-python",
   "name": "python",
   "nbconvert_exporter": "python",
   "pygments_lexer": "ipython3",
   "version": "3.7.3"
  }
 },
 "nbformat": 4,
 "nbformat_minor": 2
}
